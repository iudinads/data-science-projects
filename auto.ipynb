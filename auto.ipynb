{
 "cells": [
  {
   "cell_type": "markdown",
   "metadata": {},
   "source": [
    "**Название проекта:** Определение рыночной стоимости автомобилей с пробегом\n",
    "\n",
    "**Описание исследования:** Сервис продажи автомобилей «Не бит, не крашен» разрабатывает приложение для оценки рыночной стоимости автомобилей. Это позволит клиентам быстро получать информацию о цене их транспортного средства, что повысит доверие к сервису и привлечёт новых пользователей.\n",
    "В рамках проекта требуется построить модель машинного обучения, которая на основе технических характеристик, пробега, марки и других параметров автомобиля предсказывает его стоимость. Ключевые требования заказчика:\n",
    "\n",
    "1. Высокое качество предсказания (RMSE < 2500).\n",
    "2. Минимизация времени обучения и предсказания модели.\n",
    "\n",
    "**Цель исследования:** Разработать модель для определения рыночной стоимости автомобилей, которая обеспечивает точность прогноза (RMSE < 2500) и эффективность по времени выполнения.\n",
    "\n",
    "**Задачи исследования:** \n",
    "1. Загрузить и изучить данные из файла autos.csv.\n",
    "2. Провести обработку данных: удаление неинформативных признаков, корректировка аномальных значений, преобразование категориальных переменных. \n",
    "3. Разделить данные на обучающую, валидационную и тестовую выборки.\n",
    "4. Обучить модели: LightGBM с оптимизацией гиперпараметров и альтернативные модели (DecisionTreeRegressor, LinearRegression).\n",
    "5. Оценить модели по критериям:RMSE на валидационной выборке и время обучения и предсказания.\n",
    "6. Проверить лучшую модель на тестовой выборке.\n",
    "\n",
    "**Исходные данные:**\n",
    "Файл autos.csv содержит следующие признаки:\n",
    "\n",
    "Признаки:\n",
    "\n",
    "DateCrawled — дата скачивания анкеты.\n",
    "\n",
    "VehicleType — тип кузова.\n",
    "\n",
    "RegistrationYear — год регистрации.\n",
    "\n",
    "Gearbox — тип коробки передач.\n",
    "\n",
    "Power — мощность (л. с.).\n",
    "\n",
    "Model — модель автомобиля.\n",
    "\n",
    "Kilometer — пробег (км).\n",
    "\n",
    "RegistrationMonth — месяц регистрации.\n",
    "\n",
    "FuelType — тип топлива.\n",
    "\n",
    "Brand — марка автомобиля.\n",
    "\n",
    "Repaired — наличие ремонта в истории.\n",
    "\n",
    "DateCreated — дата создания анкеты.\n",
    "\n",
    "NumberOfPictures — количество фотографий.\n",
    "\n",
    "PostalCode — почтовый индекс.\n",
    "\n",
    "LastSeen — дата последней активности.\n",
    "\n",
    "Целевой признак:\n",
    "\n",
    "Price — цена автомобиля (евро)."
   ]
  },
  {
   "cell_type": "markdown",
   "metadata": {},
   "source": [
    "**Импорт библиотек**"
   ]
  },
  {
   "cell_type": "code",
   "execution_count": 1,
   "metadata": {},
   "outputs": [
    {
     "name": "stdout",
     "output_type": "stream",
     "text": [
      "Note: you may need to restart the kernel to use updated packages.\n"
     ]
    }
   ],
   "source": [
    "pip install --upgrade scikit-learn -q"
   ]
  },
  {
   "cell_type": "code",
   "execution_count": 2,
   "metadata": {},
   "outputs": [],
   "source": [
    "import pandas as pd\n",
    "import numpy as np\n",
    "\n",
    "import matplotlib.pyplot as plt\n",
    "import plotly.express as px\n",
    "\n",
    "from sklearn.model_selection import GridSearchCV, train_test_split\n",
    "from sklearn.preprocessing import StandardScaler, OrdinalEncoder, MinMaxScaler, OneHotEncoder\n",
    "from sklearn.impute import SimpleImputer\n",
    "from sklearn.pipeline import Pipeline\n",
    "from sklearn.compose import ColumnTransformer\n",
    "from sklearn.metrics import make_scorer, mean_squared_error\n",
    "import lightgbm as lgb\n",
    "\n",
    "from sklearn.tree import DecisionTreeRegressor\n",
    "from sklearn.linear_model import LinearRegression\n",
    "from sklearn.svm import SVR\n",
    "\n",
    "from sklearn.feature_selection import SelectKBest, f_classif\n",
    "\n",
    "pd.set_option('display.max_colwidth', None)\n",
    "RANDOM_STATE = 42\n",
    "TEST_SIZE = 0.25"
   ]
  },
  {
   "cell_type": "markdown",
   "metadata": {},
   "source": [
    "**Функции**"
   ]
  },
  {
   "cell_type": "code",
   "execution_count": 3,
   "metadata": {},
   "outputs": [],
   "source": [
    "def prepare(df):\n",
    "    df.columns = df.columns.str.lower()\n",
    "    for col in df.columns:\n",
    "        if df[col].dtype == 'object':\n",
    "            df[col] = df[col].str.lower()\n",
    "    nulls = df.isna().sum()\n",
    "    print(f'количество пропусков в датафрейме:')\n",
    "    print(nulls)\n",
    "    \n",
    "    dupls = df.duplicated().sum()\n",
    "    print(f'количество явных дубликатов = {dupls}')\n",
    "    if dupls > 0:\n",
    "        df.drop_duplicates(inplace = True)\n",
    "        print(f'количество явных дубликатов после удаления = {df.duplicated().sum()}')\n",
    "    \n",
    "    for col in df.select_dtypes('object').columns:\n",
    "        print(f'Уникальные значения в {col} :')\n",
    "        print(df[col].unique())\n",
    "    \n",
    "    return df"
   ]
  },
  {
   "cell_type": "markdown",
   "metadata": {},
   "source": [
    "## Предварительный анализ данных"
   ]
  },
  {
   "cell_type": "markdown",
   "metadata": {},
   "source": [
    "### Загрузка данных"
   ]
  },
  {
   "cell_type": "code",
   "execution_count": 4,
   "metadata": {
    "scrolled": true
   },
   "outputs": [
    {
     "data": {
      "text/html": [
       "<div>\n",
       "<style scoped>\n",
       "    .dataframe tbody tr th:only-of-type {\n",
       "        vertical-align: middle;\n",
       "    }\n",
       "\n",
       "    .dataframe tbody tr th {\n",
       "        vertical-align: top;\n",
       "    }\n",
       "\n",
       "    .dataframe thead th {\n",
       "        text-align: right;\n",
       "    }\n",
       "</style>\n",
       "<table border=\"1\" class=\"dataframe\">\n",
       "  <thead>\n",
       "    <tr style=\"text-align: right;\">\n",
       "      <th></th>\n",
       "      <th>DateCrawled</th>\n",
       "      <th>Price</th>\n",
       "      <th>VehicleType</th>\n",
       "      <th>RegistrationYear</th>\n",
       "      <th>Gearbox</th>\n",
       "      <th>Power</th>\n",
       "      <th>Model</th>\n",
       "      <th>Kilometer</th>\n",
       "      <th>RegistrationMonth</th>\n",
       "      <th>FuelType</th>\n",
       "      <th>Brand</th>\n",
       "      <th>Repaired</th>\n",
       "      <th>DateCreated</th>\n",
       "      <th>NumberOfPictures</th>\n",
       "      <th>PostalCode</th>\n",
       "      <th>LastSeen</th>\n",
       "    </tr>\n",
       "  </thead>\n",
       "  <tbody>\n",
       "    <tr>\n",
       "      <th>0</th>\n",
       "      <td>2016-03-24 11:52:17</td>\n",
       "      <td>480</td>\n",
       "      <td>NaN</td>\n",
       "      <td>1993</td>\n",
       "      <td>manual</td>\n",
       "      <td>0</td>\n",
       "      <td>golf</td>\n",
       "      <td>150000</td>\n",
       "      <td>0</td>\n",
       "      <td>petrol</td>\n",
       "      <td>volkswagen</td>\n",
       "      <td>NaN</td>\n",
       "      <td>2016-03-24 00:00:00</td>\n",
       "      <td>0</td>\n",
       "      <td>70435</td>\n",
       "      <td>2016-04-07 03:16:57</td>\n",
       "    </tr>\n",
       "    <tr>\n",
       "      <th>1</th>\n",
       "      <td>2016-03-24 10:58:45</td>\n",
       "      <td>18300</td>\n",
       "      <td>coupe</td>\n",
       "      <td>2011</td>\n",
       "      <td>manual</td>\n",
       "      <td>190</td>\n",
       "      <td>NaN</td>\n",
       "      <td>125000</td>\n",
       "      <td>5</td>\n",
       "      <td>gasoline</td>\n",
       "      <td>audi</td>\n",
       "      <td>yes</td>\n",
       "      <td>2016-03-24 00:00:00</td>\n",
       "      <td>0</td>\n",
       "      <td>66954</td>\n",
       "      <td>2016-04-07 01:46:50</td>\n",
       "    </tr>\n",
       "    <tr>\n",
       "      <th>2</th>\n",
       "      <td>2016-03-14 12:52:21</td>\n",
       "      <td>9800</td>\n",
       "      <td>suv</td>\n",
       "      <td>2004</td>\n",
       "      <td>auto</td>\n",
       "      <td>163</td>\n",
       "      <td>grand</td>\n",
       "      <td>125000</td>\n",
       "      <td>8</td>\n",
       "      <td>gasoline</td>\n",
       "      <td>jeep</td>\n",
       "      <td>NaN</td>\n",
       "      <td>2016-03-14 00:00:00</td>\n",
       "      <td>0</td>\n",
       "      <td>90480</td>\n",
       "      <td>2016-04-05 12:47:46</td>\n",
       "    </tr>\n",
       "    <tr>\n",
       "      <th>3</th>\n",
       "      <td>2016-03-17 16:54:04</td>\n",
       "      <td>1500</td>\n",
       "      <td>small</td>\n",
       "      <td>2001</td>\n",
       "      <td>manual</td>\n",
       "      <td>75</td>\n",
       "      <td>golf</td>\n",
       "      <td>150000</td>\n",
       "      <td>6</td>\n",
       "      <td>petrol</td>\n",
       "      <td>volkswagen</td>\n",
       "      <td>no</td>\n",
       "      <td>2016-03-17 00:00:00</td>\n",
       "      <td>0</td>\n",
       "      <td>91074</td>\n",
       "      <td>2016-03-17 17:40:17</td>\n",
       "    </tr>\n",
       "    <tr>\n",
       "      <th>4</th>\n",
       "      <td>2016-03-31 17:25:20</td>\n",
       "      <td>3600</td>\n",
       "      <td>small</td>\n",
       "      <td>2008</td>\n",
       "      <td>manual</td>\n",
       "      <td>69</td>\n",
       "      <td>fabia</td>\n",
       "      <td>90000</td>\n",
       "      <td>7</td>\n",
       "      <td>gasoline</td>\n",
       "      <td>skoda</td>\n",
       "      <td>no</td>\n",
       "      <td>2016-03-31 00:00:00</td>\n",
       "      <td>0</td>\n",
       "      <td>60437</td>\n",
       "      <td>2016-04-06 10:17:21</td>\n",
       "    </tr>\n",
       "  </tbody>\n",
       "</table>\n",
       "</div>"
      ],
      "text/plain": [
       "           DateCrawled  Price VehicleType  RegistrationYear Gearbox  Power  \\\n",
       "0  2016-03-24 11:52:17    480         NaN              1993  manual      0   \n",
       "1  2016-03-24 10:58:45  18300       coupe              2011  manual    190   \n",
       "2  2016-03-14 12:52:21   9800         suv              2004    auto    163   \n",
       "3  2016-03-17 16:54:04   1500       small              2001  manual     75   \n",
       "4  2016-03-31 17:25:20   3600       small              2008  manual     69   \n",
       "\n",
       "   Model  Kilometer  RegistrationMonth  FuelType       Brand Repaired  \\\n",
       "0   golf     150000                  0    petrol  volkswagen      NaN   \n",
       "1    NaN     125000                  5  gasoline        audi      yes   \n",
       "2  grand     125000                  8  gasoline        jeep      NaN   \n",
       "3   golf     150000                  6    petrol  volkswagen       no   \n",
       "4  fabia      90000                  7  gasoline       skoda       no   \n",
       "\n",
       "           DateCreated  NumberOfPictures  PostalCode             LastSeen  \n",
       "0  2016-03-24 00:00:00                 0       70435  2016-04-07 03:16:57  \n",
       "1  2016-03-24 00:00:00                 0       66954  2016-04-07 01:46:50  \n",
       "2  2016-03-14 00:00:00                 0       90480  2016-04-05 12:47:46  \n",
       "3  2016-03-17 00:00:00                 0       91074  2016-03-17 17:40:17  \n",
       "4  2016-03-31 00:00:00                 0       60437  2016-04-06 10:17:21  "
      ]
     },
     "execution_count": 4,
     "metadata": {},
     "output_type": "execute_result"
    }
   ],
   "source": [
    "df = pd.read_csv('/datasets/autos.csv')\n",
    "df.head()"
   ]
  },
  {
   "cell_type": "code",
   "execution_count": 5,
   "metadata": {},
   "outputs": [
    {
     "name": "stdout",
     "output_type": "stream",
     "text": [
      "<class 'pandas.core.frame.DataFrame'>\n",
      "RangeIndex: 354369 entries, 0 to 354368\n",
      "Data columns (total 16 columns):\n",
      " #   Column             Non-Null Count   Dtype \n",
      "---  ------             --------------   ----- \n",
      " 0   DateCrawled        354369 non-null  object\n",
      " 1   Price              354369 non-null  int64 \n",
      " 2   VehicleType        316879 non-null  object\n",
      " 3   RegistrationYear   354369 non-null  int64 \n",
      " 4   Gearbox            334536 non-null  object\n",
      " 5   Power              354369 non-null  int64 \n",
      " 6   Model              334664 non-null  object\n",
      " 7   Kilometer          354369 non-null  int64 \n",
      " 8   RegistrationMonth  354369 non-null  int64 \n",
      " 9   FuelType           321474 non-null  object\n",
      " 10  Brand              354369 non-null  object\n",
      " 11  Repaired           283215 non-null  object\n",
      " 12  DateCreated        354369 non-null  object\n",
      " 13  NumberOfPictures   354369 non-null  int64 \n",
      " 14  PostalCode         354369 non-null  int64 \n",
      " 15  LastSeen           354369 non-null  object\n",
      "dtypes: int64(7), object(9)\n",
      "memory usage: 43.3+ MB\n"
     ]
    }
   ],
   "source": [
    "df.info()"
   ]
  },
  {
   "cell_type": "code",
   "execution_count": 6,
   "metadata": {},
   "outputs": [
    {
     "data": {
      "text/plain": [
       "(354369, 16)"
      ]
     },
     "execution_count": 6,
     "metadata": {},
     "output_type": "execute_result"
    }
   ],
   "source": [
    "df.shape"
   ]
  },
  {
   "cell_type": "markdown",
   "metadata": {},
   "source": [
    "*Промежуточный вывод:*\n",
    "\n",
    "1. Был загружен датафрейм\n",
    "2. Рзамер датафрейма: 354369 строк и 16 столбцов\n",
    "3. В датафрейме присутствуют пропуски\n",
    "4. Нужно изменить тип для LastSeen, DateCreated и DateCrawled "
   ]
  },
  {
   "cell_type": "markdown",
   "metadata": {},
   "source": [
    "### Предобработка данных"
   ]
  },
  {
   "cell_type": "code",
   "execution_count": 7,
   "metadata": {},
   "outputs": [
    {
     "name": "stdout",
     "output_type": "stream",
     "text": [
      "количество пропусков в датафрейме:\n",
      "datecrawled              0\n",
      "price                    0\n",
      "vehicletype          37490\n",
      "registrationyear         0\n",
      "gearbox              19833\n",
      "power                    0\n",
      "model                19705\n",
      "kilometer                0\n",
      "registrationmonth        0\n",
      "fueltype             32895\n",
      "brand                    0\n",
      "repaired             71154\n",
      "datecreated              0\n",
      "numberofpictures         0\n",
      "postalcode               0\n",
      "lastseen                 0\n",
      "dtype: int64\n",
      "количество явных дубликатов = 4\n",
      "количество явных дубликатов после удаления = 0\n",
      "Уникальные значения в datecrawled :\n",
      "['2016-03-24 11:52:17' '2016-03-24 10:58:45' '2016-03-14 12:52:21' ...\n",
      " '2016-03-21 09:50:58' '2016-03-14 17:48:27' '2016-03-19 18:57:12']\n",
      "Уникальные значения в vehicletype :\n",
      "[nan 'coupe' 'suv' 'small' 'sedan' 'convertible' 'bus' 'wagon' 'other']\n",
      "Уникальные значения в gearbox :\n",
      "['manual' 'auto' nan]\n",
      "Уникальные значения в model :\n",
      "['golf' nan 'grand' 'fabia' '3er' '2_reihe' 'other' 'c_max' '3_reihe'\n",
      " 'passat' 'navara' 'ka' 'polo' 'twingo' 'a_klasse' 'scirocco' '5er'\n",
      " 'meriva' 'arosa' 'c4' 'civic' 'transporter' 'punto' 'e_klasse' 'clio'\n",
      " 'kadett' 'kangoo' 'corsa' 'one' 'fortwo' '1er' 'b_klasse' 'signum'\n",
      " 'astra' 'a8' 'jetta' 'fiesta' 'c_klasse' 'micra' 'vito' 'sprinter' '156'\n",
      " 'escort' 'forester' 'xc_reihe' 'scenic' 'a4' 'a1' 'insignia' 'combo'\n",
      " 'focus' 'tt' 'a6' 'jazz' 'omega' 'slk' '7er' '80' '147' '100' 'z_reihe'\n",
      " 'sportage' 'sorento' 'v40' 'ibiza' 'mustang' 'eos' 'touran' 'getz' 'a3'\n",
      " 'almera' 'megane' 'lupo' 'r19' 'zafira' 'caddy' 'mondeo' 'cordoba' 'colt'\n",
      " 'impreza' 'vectra' 'berlingo' 'tiguan' 'i_reihe' 'espace' 'sharan'\n",
      " '6_reihe' 'panda' 'up' 'seicento' 'ceed' '5_reihe' 'yeti' 'octavia' 'mii'\n",
      " 'rx_reihe' '6er' 'modus' 'fox' 'matiz' 'beetle' 'c1' 'rio' 'touareg'\n",
      " 'logan' 'spider' 'cuore' 's_max' 'a2' 'galaxy' 'c3' 'viano' 's_klasse'\n",
      " '1_reihe' 'avensis' 'roomster' 'sl' 'kaefer' 'santa' 'cooper' 'leon'\n",
      " '4_reihe' 'a5' '500' 'laguna' 'ptcruiser' 'clk' 'primera' 'x_reihe'\n",
      " 'exeo' '159' 'transit' 'juke' 'qashqai' 'carisma' 'accord' 'corolla'\n",
      " 'lanos' 'phaeton' 'verso' 'swift' 'rav' 'picanto' 'boxster' 'kalos'\n",
      " 'superb' 'stilo' 'alhambra' 'mx_reihe' 'roadster' 'ypsilon' 'cayenne'\n",
      " 'galant' 'justy' '90' 'sirion' 'crossfire' 'agila' 'duster' 'cr_reihe'\n",
      " 'v50' 'c_reihe' 'v_klasse' 'm_klasse' 'yaris' 'c5' 'aygo' 'cc' 'carnival'\n",
      " 'fusion' '911' 'bora' 'forfour' 'm_reihe' 'cl' 'tigra' '300c' 'spark'\n",
      " 'v70' 'kuga' 'x_type' 'ducato' 's_type' 'x_trail' 'toledo' 'altea'\n",
      " 'voyager' 'calibra' 'bravo' 'antara' 'tucson' 'citigo' 'jimny' 'wrangler'\n",
      " 'lybra' 'q7' 'lancer' 'captiva' 'c2' 'discovery' 'freelander' 'sandero'\n",
      " 'note' '900' 'cherokee' 'clubman' 'samara' 'defender' '601' 'cx_reihe'\n",
      " 'legacy' 'pajero' 'auris' 'niva' 's60' 'nubira' 'vivaro' 'g_klasse'\n",
      " 'lodgy' '850' 'range_rover' 'q3' 'serie_2' 'glk' 'charade' 'croma'\n",
      " 'outlander' 'doblo' 'musa' 'move' '9000' 'v60' '145' 'aveo' '200' 'b_max'\n",
      " 'range_rover_sport' 'terios' 'rangerover' 'q5' 'range_rover_evoque'\n",
      " 'materia' 'delta' 'gl' 'kalina' 'amarok' 'elefantino' 'i3' 'kappa'\n",
      " 'serie_3' 'serie_1']\n",
      "Уникальные значения в fueltype :\n",
      "['petrol' 'gasoline' nan 'lpg' 'other' 'hybrid' 'cng' 'electric']\n",
      "Уникальные значения в brand :\n",
      "['volkswagen' 'audi' 'jeep' 'skoda' 'bmw' 'peugeot' 'ford' 'mazda'\n",
      " 'nissan' 'renault' 'mercedes_benz' 'opel' 'seat' 'citroen' 'honda' 'fiat'\n",
      " 'mini' 'smart' 'hyundai' 'sonstige_autos' 'alfa_romeo' 'subaru' 'volvo'\n",
      " 'mitsubishi' 'kia' 'suzuki' 'lancia' 'toyota' 'chevrolet' 'dacia'\n",
      " 'daihatsu' 'trabant' 'saab' 'chrysler' 'jaguar' 'daewoo' 'porsche'\n",
      " 'rover' 'land_rover' 'lada']\n",
      "Уникальные значения в repaired :\n",
      "[nan 'yes' 'no']\n",
      "Уникальные значения в datecreated :\n",
      "['2016-03-24 00:00:00' '2016-03-14 00:00:00' '2016-03-17 00:00:00'\n",
      " '2016-03-31 00:00:00' '2016-04-04 00:00:00' '2016-04-01 00:00:00'\n",
      " '2016-03-21 00:00:00' '2016-03-26 00:00:00' '2016-04-07 00:00:00'\n",
      " '2016-03-15 00:00:00' '2016-03-11 00:00:00' '2016-03-20 00:00:00'\n",
      " '2016-03-23 00:00:00' '2016-03-27 00:00:00' '2016-03-12 00:00:00'\n",
      " '2016-03-13 00:00:00' '2016-03-18 00:00:00' '2016-03-10 00:00:00'\n",
      " '2016-03-07 00:00:00' '2016-03-09 00:00:00' '2016-03-08 00:00:00'\n",
      " '2016-04-03 00:00:00' '2016-03-29 00:00:00' '2016-03-25 00:00:00'\n",
      " '2016-03-28 00:00:00' '2016-03-30 00:00:00' '2016-03-22 00:00:00'\n",
      " '2016-02-09 00:00:00' '2016-03-05 00:00:00' '2016-04-02 00:00:00'\n",
      " '2016-03-16 00:00:00' '2016-03-19 00:00:00' '2016-04-05 00:00:00'\n",
      " '2016-03-06 00:00:00' '2016-02-12 00:00:00' '2016-03-03 00:00:00'\n",
      " '2016-03-01 00:00:00' '2016-03-04 00:00:00' '2016-04-06 00:00:00'\n",
      " '2016-02-15 00:00:00' '2016-02-24 00:00:00' '2016-02-27 00:00:00'\n",
      " '2015-03-20 00:00:00' '2016-02-28 00:00:00' '2016-02-17 00:00:00'\n",
      " '2016-01-27 00:00:00' '2016-02-20 00:00:00' '2016-02-29 00:00:00'\n",
      " '2016-02-10 00:00:00' '2016-02-23 00:00:00' '2016-02-21 00:00:00'\n",
      " '2015-11-02 00:00:00' '2016-02-19 00:00:00' '2016-02-26 00:00:00'\n",
      " '2016-02-11 00:00:00' '2016-01-10 00:00:00' '2016-02-06 00:00:00'\n",
      " '2016-02-18 00:00:00' '2016-01-29 00:00:00' '2016-03-02 00:00:00'\n",
      " '2015-12-06 00:00:00' '2016-01-24 00:00:00' '2016-01-30 00:00:00'\n",
      " '2016-02-02 00:00:00' '2016-02-16 00:00:00' '2016-02-13 00:00:00'\n",
      " '2016-02-05 00:00:00' '2016-02-22 00:00:00' '2015-11-17 00:00:00'\n",
      " '2014-03-10 00:00:00' '2016-02-07 00:00:00' '2016-01-23 00:00:00'\n",
      " '2016-02-25 00:00:00' '2016-02-14 00:00:00' '2016-01-02 00:00:00'\n",
      " '2015-09-04 00:00:00' '2015-11-12 00:00:00' '2015-12-27 00:00:00'\n",
      " '2015-11-24 00:00:00' '2016-01-20 00:00:00' '2016-02-03 00:00:00'\n",
      " '2015-12-05 00:00:00' '2015-08-07 00:00:00' '2016-01-28 00:00:00'\n",
      " '2016-01-31 00:00:00' '2016-02-08 00:00:00' '2016-01-07 00:00:00'\n",
      " '2016-01-22 00:00:00' '2016-01-18 00:00:00' '2016-01-08 00:00:00'\n",
      " '2015-11-23 00:00:00' '2016-01-13 00:00:00' '2016-01-17 00:00:00'\n",
      " '2016-01-15 00:00:00' '2015-11-08 00:00:00' '2016-01-26 00:00:00'\n",
      " '2016-02-04 00:00:00' '2016-01-25 00:00:00' '2016-01-16 00:00:00'\n",
      " '2015-08-10 00:00:00' '2016-01-03 00:00:00' '2016-01-19 00:00:00'\n",
      " '2015-12-30 00:00:00' '2016-02-01 00:00:00' '2015-12-17 00:00:00'\n",
      " '2015-11-10 00:00:00' '2016-01-06 00:00:00' '2015-09-09 00:00:00'\n",
      " '2015-06-18 00:00:00']\n",
      "Уникальные значения в lastseen :\n",
      "['2016-04-07 03:16:57' '2016-04-07 01:46:50' '2016-04-05 12:47:46' ...\n",
      " '2016-03-19 20:44:43' '2016-03-29 10:17:23' '2016-03-21 10:42:49']\n"
     ]
    },
    {
     "data": {
      "text/html": [
       "<div>\n",
       "<style scoped>\n",
       "    .dataframe tbody tr th:only-of-type {\n",
       "        vertical-align: middle;\n",
       "    }\n",
       "\n",
       "    .dataframe tbody tr th {\n",
       "        vertical-align: top;\n",
       "    }\n",
       "\n",
       "    .dataframe thead th {\n",
       "        text-align: right;\n",
       "    }\n",
       "</style>\n",
       "<table border=\"1\" class=\"dataframe\">\n",
       "  <thead>\n",
       "    <tr style=\"text-align: right;\">\n",
       "      <th></th>\n",
       "      <th>datecrawled</th>\n",
       "      <th>price</th>\n",
       "      <th>vehicletype</th>\n",
       "      <th>registrationyear</th>\n",
       "      <th>gearbox</th>\n",
       "      <th>power</th>\n",
       "      <th>model</th>\n",
       "      <th>kilometer</th>\n",
       "      <th>registrationmonth</th>\n",
       "      <th>fueltype</th>\n",
       "      <th>brand</th>\n",
       "      <th>repaired</th>\n",
       "      <th>datecreated</th>\n",
       "      <th>numberofpictures</th>\n",
       "      <th>postalcode</th>\n",
       "      <th>lastseen</th>\n",
       "    </tr>\n",
       "  </thead>\n",
       "  <tbody>\n",
       "    <tr>\n",
       "      <th>0</th>\n",
       "      <td>2016-03-24 11:52:17</td>\n",
       "      <td>480</td>\n",
       "      <td>NaN</td>\n",
       "      <td>1993</td>\n",
       "      <td>manual</td>\n",
       "      <td>0</td>\n",
       "      <td>golf</td>\n",
       "      <td>150000</td>\n",
       "      <td>0</td>\n",
       "      <td>petrol</td>\n",
       "      <td>volkswagen</td>\n",
       "      <td>NaN</td>\n",
       "      <td>2016-03-24 00:00:00</td>\n",
       "      <td>0</td>\n",
       "      <td>70435</td>\n",
       "      <td>2016-04-07 03:16:57</td>\n",
       "    </tr>\n",
       "    <tr>\n",
       "      <th>1</th>\n",
       "      <td>2016-03-24 10:58:45</td>\n",
       "      <td>18300</td>\n",
       "      <td>coupe</td>\n",
       "      <td>2011</td>\n",
       "      <td>manual</td>\n",
       "      <td>190</td>\n",
       "      <td>NaN</td>\n",
       "      <td>125000</td>\n",
       "      <td>5</td>\n",
       "      <td>gasoline</td>\n",
       "      <td>audi</td>\n",
       "      <td>yes</td>\n",
       "      <td>2016-03-24 00:00:00</td>\n",
       "      <td>0</td>\n",
       "      <td>66954</td>\n",
       "      <td>2016-04-07 01:46:50</td>\n",
       "    </tr>\n",
       "    <tr>\n",
       "      <th>2</th>\n",
       "      <td>2016-03-14 12:52:21</td>\n",
       "      <td>9800</td>\n",
       "      <td>suv</td>\n",
       "      <td>2004</td>\n",
       "      <td>auto</td>\n",
       "      <td>163</td>\n",
       "      <td>grand</td>\n",
       "      <td>125000</td>\n",
       "      <td>8</td>\n",
       "      <td>gasoline</td>\n",
       "      <td>jeep</td>\n",
       "      <td>NaN</td>\n",
       "      <td>2016-03-14 00:00:00</td>\n",
       "      <td>0</td>\n",
       "      <td>90480</td>\n",
       "      <td>2016-04-05 12:47:46</td>\n",
       "    </tr>\n",
       "    <tr>\n",
       "      <th>3</th>\n",
       "      <td>2016-03-17 16:54:04</td>\n",
       "      <td>1500</td>\n",
       "      <td>small</td>\n",
       "      <td>2001</td>\n",
       "      <td>manual</td>\n",
       "      <td>75</td>\n",
       "      <td>golf</td>\n",
       "      <td>150000</td>\n",
       "      <td>6</td>\n",
       "      <td>petrol</td>\n",
       "      <td>volkswagen</td>\n",
       "      <td>no</td>\n",
       "      <td>2016-03-17 00:00:00</td>\n",
       "      <td>0</td>\n",
       "      <td>91074</td>\n",
       "      <td>2016-03-17 17:40:17</td>\n",
       "    </tr>\n",
       "    <tr>\n",
       "      <th>4</th>\n",
       "      <td>2016-03-31 17:25:20</td>\n",
       "      <td>3600</td>\n",
       "      <td>small</td>\n",
       "      <td>2008</td>\n",
       "      <td>manual</td>\n",
       "      <td>69</td>\n",
       "      <td>fabia</td>\n",
       "      <td>90000</td>\n",
       "      <td>7</td>\n",
       "      <td>gasoline</td>\n",
       "      <td>skoda</td>\n",
       "      <td>no</td>\n",
       "      <td>2016-03-31 00:00:00</td>\n",
       "      <td>0</td>\n",
       "      <td>60437</td>\n",
       "      <td>2016-04-06 10:17:21</td>\n",
       "    </tr>\n",
       "  </tbody>\n",
       "</table>\n",
       "</div>"
      ],
      "text/plain": [
       "           datecrawled  price vehicletype  registrationyear gearbox  power  \\\n",
       "0  2016-03-24 11:52:17    480         NaN              1993  manual      0   \n",
       "1  2016-03-24 10:58:45  18300       coupe              2011  manual    190   \n",
       "2  2016-03-14 12:52:21   9800         suv              2004    auto    163   \n",
       "3  2016-03-17 16:54:04   1500       small              2001  manual     75   \n",
       "4  2016-03-31 17:25:20   3600       small              2008  manual     69   \n",
       "\n",
       "   model  kilometer  registrationmonth  fueltype       brand repaired  \\\n",
       "0   golf     150000                  0    petrol  volkswagen      NaN   \n",
       "1    NaN     125000                  5  gasoline        audi      yes   \n",
       "2  grand     125000                  8  gasoline        jeep      NaN   \n",
       "3   golf     150000                  6    petrol  volkswagen       no   \n",
       "4  fabia      90000                  7  gasoline       skoda       no   \n",
       "\n",
       "           datecreated  numberofpictures  postalcode             lastseen  \n",
       "0  2016-03-24 00:00:00                 0       70435  2016-04-07 03:16:57  \n",
       "1  2016-03-24 00:00:00                 0       66954  2016-04-07 01:46:50  \n",
       "2  2016-03-14 00:00:00                 0       90480  2016-04-05 12:47:46  \n",
       "3  2016-03-17 00:00:00                 0       91074  2016-03-17 17:40:17  \n",
       "4  2016-03-31 00:00:00                 0       60437  2016-04-06 10:17:21  "
      ]
     },
     "execution_count": 7,
     "metadata": {},
     "output_type": "execute_result"
    }
   ],
   "source": [
    "prepare(df).head()"
   ]
  },
  {
   "cell_type": "markdown",
   "metadata": {},
   "source": [
    "1. Пропуски будут заполнены в паплайне в пункте 2\n",
    "2. Были удалены явные дубликаты\n",
    "3. Неявных дубликатов не было обнаружено\n"
   ]
  },
  {
   "cell_type": "code",
   "execution_count": 8,
   "metadata": {},
   "outputs": [],
   "source": [
    "df['datecrawled'] = pd.to_datetime(df['datecrawled'], errors='coerce')"
   ]
  },
  {
   "cell_type": "code",
   "execution_count": 9,
   "metadata": {},
   "outputs": [],
   "source": [
    "df['lastseen'] = pd.to_datetime(df['lastseen'], errors='coerce')"
   ]
  },
  {
   "cell_type": "code",
   "execution_count": 10,
   "metadata": {},
   "outputs": [],
   "source": [
    "df['datecreated'] = pd.to_datetime(df['datecreated'], errors='coerce')"
   ]
  },
  {
   "cell_type": "code",
   "execution_count": 11,
   "metadata": {},
   "outputs": [
    {
     "name": "stdout",
     "output_type": "stream",
     "text": [
      "<class 'pandas.core.frame.DataFrame'>\n",
      "Int64Index: 354365 entries, 0 to 354368\n",
      "Data columns (total 16 columns):\n",
      " #   Column             Non-Null Count   Dtype         \n",
      "---  ------             --------------   -----         \n",
      " 0   datecrawled        354365 non-null  datetime64[ns]\n",
      " 1   price              354365 non-null  int64         \n",
      " 2   vehicletype        316875 non-null  object        \n",
      " 3   registrationyear   354365 non-null  int64         \n",
      " 4   gearbox            334532 non-null  object        \n",
      " 5   power              354365 non-null  int64         \n",
      " 6   model              334660 non-null  object        \n",
      " 7   kilometer          354365 non-null  int64         \n",
      " 8   registrationmonth  354365 non-null  int64         \n",
      " 9   fueltype           321470 non-null  object        \n",
      " 10  brand              354365 non-null  object        \n",
      " 11  repaired           283211 non-null  object        \n",
      " 12  datecreated        354365 non-null  datetime64[ns]\n",
      " 13  numberofpictures   354365 non-null  int64         \n",
      " 14  postalcode         354365 non-null  int64         \n",
      " 15  lastseen           354365 non-null  datetime64[ns]\n",
      "dtypes: datetime64[ns](3), int64(7), object(6)\n",
      "memory usage: 46.0+ MB\n"
     ]
    }
   ],
   "source": [
    "df.info()"
   ]
  },
  {
   "cell_type": "markdown",
   "metadata": {},
   "source": [
    "*Промежуточный вывод:*\n",
    "\n",
    "1. Были удалены явные дубликаты\n",
    "2. Неявных дубликатов не было обнаружено\n",
    "3. Пропуски были обнаружены\n",
    "4. Изменен тип у признаков lastseen, datecreated и datecrawled\n",
    "5. Названия столбцов и значений были приведены к нижнему регистру"
   ]
  },
  {
   "cell_type": "markdown",
   "metadata": {},
   "source": [
    "### Исследовательский анализ "
   ]
  },
  {
   "cell_type": "code",
   "execution_count": 12,
   "metadata": {},
   "outputs": [],
   "source": [
    "numeric_columns = df.select_dtypes(include=['int64']).columns"
   ]
  },
  {
   "cell_type": "code",
   "execution_count": 13,
   "metadata": {
    "scrolled": true
   },
   "outputs": [
    {
     "data": {
      "image/png": "[encoded data removed]",
      "text/plain": [
       "<Figure size 576x288 with 1 Axes>"
      ]
     },
     "metadata": {
      "needs_background": "light"
     },
     "output_type": "display_data"
    },
    {
     "data": {
      "image/png": "[encoded data removed]",
      "text/plain": [
       "<Figure size 576x288 with 1 Axes>"
      ]
     },
     "metadata": {
      "needs_background": "light"
     },
     "output_type": "display_data"
    },
    {
     "data": {
      "image/png": "[encoded data removed]",
      "text/plain": [
       "<Figure size 576x288 with 1 Axes>"
      ]
     },
     "metadata": {
      "needs_background": "light"
     },
     "output_type": "display_data"
    },
    {
     "data": {
      "image/png": "[encoded data removed]",
      "text/plain": [
       "<Figure size 576x288 with 1 Axes>"
      ]
     },
     "metadata": {
      "needs_background": "light"
     },
     "output_type": "display_data"
    },
    {
     "data": {
      "image/png": "[encoded data removed]",
      "text/plain": [
       "<Figure size 576x288 with 1 Axes>"
      ]
     },
     "metadata": {
      "needs_background": "light"
     },
     "output_type": "display_data"
    },
    {
     "data": {
      "image/png": "[encoded data removed]",
      "text/plain": [
       "<Figure size 576x288 with 1 Axes>"
      ]
     },
     "metadata": {
      "needs_background": "light"
     },
     "output_type": "display_data"
    }
   ],
   "source": [
    "for column in df.select_dtypes(include=['object']).columns:\n",
    "    plt.figure(figsize=(8, 4))\n",
    "    df[column].value_counts().plot(kind='bar', color = 'skyblue', edgecolor = 'black')\n",
    "    plt.title(f'Столбчатая диаграмма для столбца: {column}')\n",
    "    plt.xlabel(column)\n",
    "    plt.ylabel('Количество')\n",
    "    plt.tight_layout()\n",
    "    plt.show()"
   ]
  },
  {
   "cell_type": "markdown",
   "metadata": {},
   "source": [
    "*Промежуточный вывод:*\n",
    "\n",
    "1. Больше всего седанов\n",
    "2. Больше всего ТС с МКПП\n",
    "3. Больше всего ТС, использующих бензин\n",
    "4. Больше всего volkswagen\n",
    "5. Большинство ТС не ремонтировались (после ДТП)"
   ]
  },
  {
   "cell_type": "code",
   "execution_count": 15,
   "metadata": {
    "scrolled": true
   },
   "outputs": [
    {
     "data": {
      "image/png": "[encoded data removed]",
      "text/plain": [
       "<Figure size 576x288 with 1 Axes>"
      ]
     },
     "metadata": {
      "needs_background": "light"
     },
     "output_type": "display_data"
    },
    {
     "data": {
      "image/png": "[encoded data removed]",
      "text/plain": [
       "<Figure size 576x288 with 1 Axes>"
      ]
     },
     "metadata": {
      "needs_background": "light"
     },
     "output_type": "display_data"
    },
    {
     "data": {
      "image/png": "[encoded data removed]",
      "text/plain": [
       "<Figure size 576x288 with 1 Axes>"
      ]
     },
     "metadata": {
      "needs_background": "light"
     },
     "output_type": "display_data"
    },
    {
     "data": {
      "image/png": "[encoded data removed]",
      "text/plain": [
       "<Figure size 576x288 with 1 Axes>"
      ]
     },
     "metadata": {
      "needs_background": "light"
     },
     "output_type": "display_data"
    },
    {
     "data": {
      "image/png": "[encoded data removed]",
      "text/plain": [
       "<Figure size 576x288 with 1 Axes>"
      ]
     },
     "metadata": {
      "needs_background": "light"
     },
     "output_type": "display_data"
    },
    {
     "data": {
      "image/png": "[encoded data removed]",
      "text/plain": [
       "<Figure size 576x288 with 1 Axes>"
      ]
     },
     "metadata": {
      "needs_background": "light"
     },
     "output_type": "display_data"
    },
    {
     "data": {
      "image/png": "[encoded data removed]",
      "text/plain": [
       "<Figure size 576x288 with 1 Axes>"
      ]
     },
     "metadata": {
      "needs_background": "light"
     },
     "output_type": "display_data"
    }
   ],
   "source": [
    "for column in numeric_columns:\n",
    "    plt.figure(figsize=(8, 4))\n",
    "    df[column].plot(kind='hist', bins=20, color = 'skyblue',edgecolor='black')\n",
    "    plt.title(f'Гистограмма для столбца: {column}')\n",
    "    plt.xlabel(column)\n",
    "    plt.ylabel('Количество')\n",
    "    plt.tight_layout()\n",
    "    plt.show()"
   ]
  },
  {
   "cell_type": "code",
   "execution_count": 16,
   "metadata": {
    "scrolled": true
   },
   "outputs": [
    {
     "data": {
      "image/png": "[encoded data removed]",
      "text/plain": [
       "<Figure size 576x288 with 1 Axes>"
      ]
     },
     "metadata": {
      "needs_background": "light"
     },
     "output_type": "display_data"
    },
    {
     "data": {
      "image/png": "[encoded data removed]",
      "text/plain": [
       "<Figure size 576x288 with 1 Axes>"
      ]
     },
     "metadata": {
      "needs_background": "light"
     },
     "output_type": "display_data"
    },
    {
     "data": {
      "image/png": "[encoded data removed]",
      "text/plain": [
       "<Figure size 576x288 with 1 Axes>"
      ]
     },
     "metadata": {
      "needs_background": "light"
     },
     "output_type": "display_data"
    },
    {
     "data": {
      "image/png": "[encoded data removed]",
      "text/plain": [
       "<Figure size 576x288 with 1 Axes>"
      ]
     },
     "metadata": {
      "needs_background": "light"
     },
     "output_type": "display_data"
    },
    {
     "data": {
      "image/png": "[encoded data removed]",
      "text/plain": [
       "<Figure size 576x288 with 1 Axes>"
      ]
     },
     "metadata": {
      "needs_background": "light"
     },
     "output_type": "display_data"
    },
    {
     "data": {
      "image/png": "[encoded data removed]",
      "text/plain": [
       "<Figure size 576x288 with 1 Axes>"
      ]
     },
     "metadata": {
      "needs_background": "light"
     },
     "output_type": "display_data"
    },
    {
     "data": {
      "image/png": "[encoded data removed]",
      "text/plain": [
       "<Figure size 576x288 with 1 Axes>"
      ]
     },
     "metadata": {
      "needs_background": "light"
     },
     "output_type": "display_data"
    }
   ],
   "source": [
    "for column in numeric_columns:\n",
    "    plt.figure(figsize=(8, 4))\n",
    "    df.boxplot(column=column, color='skyblue')\n",
    "    plt.title(f'Ящик с усами для столбца: {column}')\n",
    "    plt.ylabel(column)\n",
    "    plt.tight_layout()\n",
    "    plt.show()"
   ]
  },
  {
   "cell_type": "markdown",
   "metadata": {},
   "source": [
    "Нужно подробнее разобраться с некоторыми признаками"
   ]
  },
  {
   "cell_type": "code",
   "execution_count": 17,
   "metadata": {
    "scrolled": true
   },
   "outputs": [
    {
     "data": {
      "text/html": [
       "<div>\n",
       "<style scoped>\n",
       "    .dataframe tbody tr th:only-of-type {\n",
       "        vertical-align: middle;\n",
       "    }\n",
       "\n",
       "    .dataframe tbody tr th {\n",
       "        vertical-align: top;\n",
       "    }\n",
       "\n",
       "    .dataframe thead th {\n",
       "        text-align: right;\n",
       "    }\n",
       "</style>\n",
       "<table border=\"1\" class=\"dataframe\">\n",
       "  <thead>\n",
       "    <tr style=\"text-align: right;\">\n",
       "      <th></th>\n",
       "      <th>price</th>\n",
       "      <th>registrationyear</th>\n",
       "      <th>power</th>\n",
       "      <th>kilometer</th>\n",
       "      <th>registrationmonth</th>\n",
       "      <th>numberofpictures</th>\n",
       "      <th>postalcode</th>\n",
       "    </tr>\n",
       "  </thead>\n",
       "  <tbody>\n",
       "    <tr>\n",
       "      <th>count</th>\n",
       "      <td>354365.000000</td>\n",
       "      <td>354365.000000</td>\n",
       "      <td>354365.000000</td>\n",
       "      <td>354365.000000</td>\n",
       "      <td>354365.000000</td>\n",
       "      <td>354365.0</td>\n",
       "      <td>354365.000000</td>\n",
       "    </tr>\n",
       "    <tr>\n",
       "      <th>mean</th>\n",
       "      <td>4416.679830</td>\n",
       "      <td>2004.234481</td>\n",
       "      <td>110.093816</td>\n",
       "      <td>128211.363989</td>\n",
       "      <td>5.714650</td>\n",
       "      <td>0.0</td>\n",
       "      <td>50508.503800</td>\n",
       "    </tr>\n",
       "    <tr>\n",
       "      <th>std</th>\n",
       "      <td>4514.176349</td>\n",
       "      <td>90.228466</td>\n",
       "      <td>189.851330</td>\n",
       "      <td>37905.083858</td>\n",
       "      <td>3.726432</td>\n",
       "      <td>0.0</td>\n",
       "      <td>25783.100078</td>\n",
       "    </tr>\n",
       "    <tr>\n",
       "      <th>min</th>\n",
       "      <td>0.000000</td>\n",
       "      <td>1000.000000</td>\n",
       "      <td>0.000000</td>\n",
       "      <td>5000.000000</td>\n",
       "      <td>0.000000</td>\n",
       "      <td>0.0</td>\n",
       "      <td>1067.000000</td>\n",
       "    </tr>\n",
       "    <tr>\n",
       "      <th>25%</th>\n",
       "      <td>1050.000000</td>\n",
       "      <td>1999.000000</td>\n",
       "      <td>69.000000</td>\n",
       "      <td>125000.000000</td>\n",
       "      <td>3.000000</td>\n",
       "      <td>0.0</td>\n",
       "      <td>30165.000000</td>\n",
       "    </tr>\n",
       "    <tr>\n",
       "      <th>50%</th>\n",
       "      <td>2700.000000</td>\n",
       "      <td>2003.000000</td>\n",
       "      <td>105.000000</td>\n",
       "      <td>150000.000000</td>\n",
       "      <td>6.000000</td>\n",
       "      <td>0.0</td>\n",
       "      <td>49413.000000</td>\n",
       "    </tr>\n",
       "    <tr>\n",
       "      <th>75%</th>\n",
       "      <td>6400.000000</td>\n",
       "      <td>2008.000000</td>\n",
       "      <td>143.000000</td>\n",
       "      <td>150000.000000</td>\n",
       "      <td>9.000000</td>\n",
       "      <td>0.0</td>\n",
       "      <td>71083.000000</td>\n",
       "    </tr>\n",
       "    <tr>\n",
       "      <th>max</th>\n",
       "      <td>20000.000000</td>\n",
       "      <td>9999.000000</td>\n",
       "      <td>20000.000000</td>\n",
       "      <td>150000.000000</td>\n",
       "      <td>12.000000</td>\n",
       "      <td>0.0</td>\n",
       "      <td>99998.000000</td>\n",
       "    </tr>\n",
       "  </tbody>\n",
       "</table>\n",
       "</div>"
      ],
      "text/plain": [
       "               price  registrationyear          power      kilometer  \\\n",
       "count  354365.000000     354365.000000  354365.000000  354365.000000   \n",
       "mean     4416.679830       2004.234481     110.093816  128211.363989   \n",
       "std      4514.176349         90.228466     189.851330   37905.083858   \n",
       "min         0.000000       1000.000000       0.000000    5000.000000   \n",
       "25%      1050.000000       1999.000000      69.000000  125000.000000   \n",
       "50%      2700.000000       2003.000000     105.000000  150000.000000   \n",
       "75%      6400.000000       2008.000000     143.000000  150000.000000   \n",
       "max     20000.000000       9999.000000   20000.000000  150000.000000   \n",
       "\n",
       "       registrationmonth  numberofpictures     postalcode  \n",
       "count      354365.000000          354365.0  354365.000000  \n",
       "mean            5.714650               0.0   50508.503800  \n",
       "std             3.726432               0.0   25783.100078  \n",
       "min             0.000000               0.0    1067.000000  \n",
       "25%             3.000000               0.0   30165.000000  \n",
       "50%             6.000000               0.0   49413.000000  \n",
       "75%             9.000000               0.0   71083.000000  \n",
       "max            12.000000               0.0   99998.000000  "
      ]
     },
     "execution_count": 17,
     "metadata": {},
     "output_type": "execute_result"
    }
   ],
   "source": [
    "df.describe()"
   ]
  },
  {
   "cell_type": "markdown",
   "metadata": {},
   "source": [
    "Признак numberofpictures можно удалить, так как он является безсполезным (везде значение 0)\n",
    "\n",
    "В registrationyear присутствуют аномалии: слишком маленькие и слишком большие значения, оставим только наиболее частые от 1950 до 2025\n",
    "\n",
    "Нужно ограничить цену, чтобы она была >0\n",
    "\n",
    "То же самое с мощностью, но еще добавить верхнее приблизительное ограничение (до 600) и построить новые гистограммы для более детального исследования"
   ]
  },
  {
   "cell_type": "code",
   "execution_count": 18,
   "metadata": {},
   "outputs": [
    {
     "data": {
      "text/plain": [
       "650.0"
      ]
     },
     "execution_count": 18,
     "metadata": {},
     "output_type": "execute_result"
    }
   ],
   "source": [
    "df['price'].quantile(0.15)"
   ]
  },
  {
   "cell_type": "code",
   "execution_count": 19,
   "metadata": {},
   "outputs": [],
   "source": [
    "df = df.drop(columns=['numberofpictures'])\n",
    "df = df.query('registrationyear > 1950 and registrationyear < 2016 and price > 650 and power > 0 and power < 600')"
   ]
  },
  {
   "cell_type": "code",
   "execution_count": 20,
   "metadata": {},
   "outputs": [
    {
     "data": {
      "text/plain": [
       "Timestamp('2016-04-07 14:36:58')"
      ]
     },
     "execution_count": 20,
     "metadata": {},
     "output_type": "execute_result"
    }
   ],
   "source": [
    "df['datecrawled'].max()"
   ]
  },
  {
   "cell_type": "code",
   "execution_count": 21,
   "metadata": {},
   "outputs": [
    {
     "data": {
      "text/html": [
       "<div>\n",
       "<style scoped>\n",
       "    .dataframe tbody tr th:only-of-type {\n",
       "        vertical-align: middle;\n",
       "    }\n",
       "\n",
       "    .dataframe tbody tr th {\n",
       "        vertical-align: top;\n",
       "    }\n",
       "\n",
       "    .dataframe thead th {\n",
       "        text-align: right;\n",
       "    }\n",
       "</style>\n",
       "<table border=\"1\" class=\"dataframe\">\n",
       "  <thead>\n",
       "    <tr style=\"text-align: right;\">\n",
       "      <th></th>\n",
       "      <th>price</th>\n",
       "      <th>registrationyear</th>\n",
       "      <th>power</th>\n",
       "      <th>kilometer</th>\n",
       "      <th>registrationmonth</th>\n",
       "      <th>postalcode</th>\n",
       "    </tr>\n",
       "  </thead>\n",
       "  <tbody>\n",
       "    <tr>\n",
       "      <th>count</th>\n",
       "      <td>261067.000000</td>\n",
       "      <td>261067.000000</td>\n",
       "      <td>261067.000000</td>\n",
       "      <td>261067.000000</td>\n",
       "      <td>261067.000000</td>\n",
       "      <td>261067.000000</td>\n",
       "    </tr>\n",
       "    <tr>\n",
       "      <th>mean</th>\n",
       "      <td>5404.288443</td>\n",
       "      <td>2003.126649</td>\n",
       "      <td>125.052213</td>\n",
       "      <td>126886.239931</td>\n",
       "      <td>6.114564</td>\n",
       "      <td>51591.347171</td>\n",
       "    </tr>\n",
       "    <tr>\n",
       "      <th>std</th>\n",
       "      <td>4609.479097</td>\n",
       "      <td>6.208263</td>\n",
       "      <td>54.104517</td>\n",
       "      <td>37318.072635</td>\n",
       "      <td>3.530109</td>\n",
       "      <td>25713.110998</td>\n",
       "    </tr>\n",
       "    <tr>\n",
       "      <th>min</th>\n",
       "      <td>655.000000</td>\n",
       "      <td>1951.000000</td>\n",
       "      <td>1.000000</td>\n",
       "      <td>5000.000000</td>\n",
       "      <td>0.000000</td>\n",
       "      <td>1067.000000</td>\n",
       "    </tr>\n",
       "    <tr>\n",
       "      <th>25%</th>\n",
       "      <td>1800.000000</td>\n",
       "      <td>2000.000000</td>\n",
       "      <td>86.000000</td>\n",
       "      <td>125000.000000</td>\n",
       "      <td>3.000000</td>\n",
       "      <td>31224.000000</td>\n",
       "    </tr>\n",
       "    <tr>\n",
       "      <th>50%</th>\n",
       "      <td>3800.000000</td>\n",
       "      <td>2004.000000</td>\n",
       "      <td>116.000000</td>\n",
       "      <td>150000.000000</td>\n",
       "      <td>6.000000</td>\n",
       "      <td>50827.000000</td>\n",
       "    </tr>\n",
       "    <tr>\n",
       "      <th>75%</th>\n",
       "      <td>7700.000000</td>\n",
       "      <td>2007.000000</td>\n",
       "      <td>150.000000</td>\n",
       "      <td>150000.000000</td>\n",
       "      <td>9.000000</td>\n",
       "      <td>72342.000000</td>\n",
       "    </tr>\n",
       "    <tr>\n",
       "      <th>max</th>\n",
       "      <td>20000.000000</td>\n",
       "      <td>2015.000000</td>\n",
       "      <td>585.000000</td>\n",
       "      <td>150000.000000</td>\n",
       "      <td>12.000000</td>\n",
       "      <td>99998.000000</td>\n",
       "    </tr>\n",
       "  </tbody>\n",
       "</table>\n",
       "</div>"
      ],
      "text/plain": [
       "               price  registrationyear          power      kilometer  \\\n",
       "count  261067.000000     261067.000000  261067.000000  261067.000000   \n",
       "mean     5404.288443       2003.126649     125.052213  126886.239931   \n",
       "std      4609.479097          6.208263      54.104517   37318.072635   \n",
       "min       655.000000       1951.000000       1.000000    5000.000000   \n",
       "25%      1800.000000       2000.000000      86.000000  125000.000000   \n",
       "50%      3800.000000       2004.000000     116.000000  150000.000000   \n",
       "75%      7700.000000       2007.000000     150.000000  150000.000000   \n",
       "max     20000.000000       2015.000000     585.000000  150000.000000   \n",
       "\n",
       "       registrationmonth     postalcode  \n",
       "count      261067.000000  261067.000000  \n",
       "mean            6.114564   51591.347171  \n",
       "std             3.530109   25713.110998  \n",
       "min             0.000000    1067.000000  \n",
       "25%             3.000000   31224.000000  \n",
       "50%             6.000000   50827.000000  \n",
       "75%             9.000000   72342.000000  \n",
       "max            12.000000   99998.000000  "
      ]
     },
     "execution_count": 21,
     "metadata": {},
     "output_type": "execute_result"
    }
   ],
   "source": [
    "df.describe()"
   ]
  },
  {
   "cell_type": "code",
   "execution_count": 22,
   "metadata": {},
   "outputs": [
    {
     "data": {
      "image/png": "[encoded data removed]",
      "text/plain": [
       "<Figure size 576x288 with 1 Axes>"
      ]
     },
     "metadata": {
      "needs_background": "light"
     },
     "output_type": "display_data"
    }
   ],
   "source": [
    "plt.figure(figsize=(8, 4))\n",
    "df['power'].plot(kind='hist', bins=30, color = 'skyblue',edgecolor='black')\n",
    "plt.title(f'Гистограмма для столбца: power')\n",
    "plt.xlabel('power')\n",
    "plt.ylabel('Количество')\n",
    "plt.xlim(0, 600)\n",
    "plt.tight_layout()\n",
    "plt.show()"
   ]
  },
  {
   "cell_type": "markdown",
   "metadata": {},
   "source": [
    "Можем поставить для power нижнюю границу в 50 и верхнюю в 230 л.с."
   ]
  },
  {
   "cell_type": "code",
   "execution_count": 23,
   "metadata": {},
   "outputs": [],
   "source": [
    "df = df.query('power > 50 and power < 230')"
   ]
  },
  {
   "cell_type": "code",
   "execution_count": 24,
   "metadata": {},
   "outputs": [
    {
     "data": {
      "image/png": "[encoded data removed]",
      "text/plain": [
       "<Figure size 576x288 with 1 Axes>"
      ]
     },
     "metadata": {
      "needs_background": "light"
     },
     "output_type": "display_data"
    }
   ],
   "source": [
    "plt.figure(figsize=(8, 4))\n",
    "df.boxplot(column='power', color='skyblue')\n",
    "plt.title(f'Ящик с усами для столбца: power')\n",
    "plt.ylabel(column)\n",
    "plt.tight_layout()\n",
    "plt.show()"
   ]
  },
  {
   "cell_type": "code",
   "execution_count": 25,
   "metadata": {
    "scrolled": true
   },
   "outputs": [
    {
     "data": {
      "text/html": [
       "<div>\n",
       "<style scoped>\n",
       "    .dataframe tbody tr th:only-of-type {\n",
       "        vertical-align: middle;\n",
       "    }\n",
       "\n",
       "    .dataframe tbody tr th {\n",
       "        vertical-align: top;\n",
       "    }\n",
       "\n",
       "    .dataframe thead th {\n",
       "        text-align: right;\n",
       "    }\n",
       "</style>\n",
       "<table border=\"1\" class=\"dataframe\">\n",
       "  <thead>\n",
       "    <tr style=\"text-align: right;\">\n",
       "      <th></th>\n",
       "      <th>price</th>\n",
       "      <th>registrationyear</th>\n",
       "      <th>power</th>\n",
       "      <th>kilometer</th>\n",
       "      <th>registrationmonth</th>\n",
       "      <th>postalcode</th>\n",
       "    </tr>\n",
       "  </thead>\n",
       "  <tbody>\n",
       "    <tr>\n",
       "      <th>count</th>\n",
       "      <td>242465.000000</td>\n",
       "      <td>242465.000000</td>\n",
       "      <td>242465.000000</td>\n",
       "      <td>242465.000000</td>\n",
       "      <td>242465.000000</td>\n",
       "      <td>242465.000000</td>\n",
       "    </tr>\n",
       "    <tr>\n",
       "      <th>mean</th>\n",
       "      <td>5179.888297</td>\n",
       "      <td>2003.284280</td>\n",
       "      <td>119.509286</td>\n",
       "      <td>126713.587528</td>\n",
       "      <td>6.106250</td>\n",
       "      <td>51606.574598</td>\n",
       "    </tr>\n",
       "    <tr>\n",
       "      <th>std</th>\n",
       "      <td>4397.111096</td>\n",
       "      <td>5.960159</td>\n",
       "      <td>41.242691</td>\n",
       "      <td>37408.868474</td>\n",
       "      <td>3.525564</td>\n",
       "      <td>25703.387678</td>\n",
       "    </tr>\n",
       "    <tr>\n",
       "      <th>min</th>\n",
       "      <td>655.000000</td>\n",
       "      <td>1951.000000</td>\n",
       "      <td>51.000000</td>\n",
       "      <td>5000.000000</td>\n",
       "      <td>0.000000</td>\n",
       "      <td>1067.000000</td>\n",
       "    </tr>\n",
       "    <tr>\n",
       "      <th>25%</th>\n",
       "      <td>1800.000000</td>\n",
       "      <td>2000.000000</td>\n",
       "      <td>87.000000</td>\n",
       "      <td>125000.000000</td>\n",
       "      <td>3.000000</td>\n",
       "      <td>31228.000000</td>\n",
       "    </tr>\n",
       "    <tr>\n",
       "      <th>50%</th>\n",
       "      <td>3650.000000</td>\n",
       "      <td>2004.000000</td>\n",
       "      <td>116.000000</td>\n",
       "      <td>150000.000000</td>\n",
       "      <td>6.000000</td>\n",
       "      <td>50829.000000</td>\n",
       "    </tr>\n",
       "    <tr>\n",
       "      <th>75%</th>\n",
       "      <td>7250.000000</td>\n",
       "      <td>2007.000000</td>\n",
       "      <td>150.000000</td>\n",
       "      <td>150000.000000</td>\n",
       "      <td>9.000000</td>\n",
       "      <td>72294.000000</td>\n",
       "    </tr>\n",
       "    <tr>\n",
       "      <th>max</th>\n",
       "      <td>20000.000000</td>\n",
       "      <td>2015.000000</td>\n",
       "      <td>229.000000</td>\n",
       "      <td>150000.000000</td>\n",
       "      <td>12.000000</td>\n",
       "      <td>99998.000000</td>\n",
       "    </tr>\n",
       "  </tbody>\n",
       "</table>\n",
       "</div>"
      ],
      "text/plain": [
       "               price  registrationyear          power      kilometer  \\\n",
       "count  242465.000000     242465.000000  242465.000000  242465.000000   \n",
       "mean     5179.888297       2003.284280     119.509286  126713.587528   \n",
       "std      4397.111096          5.960159      41.242691   37408.868474   \n",
       "min       655.000000       1951.000000      51.000000    5000.000000   \n",
       "25%      1800.000000       2000.000000      87.000000  125000.000000   \n",
       "50%      3650.000000       2004.000000     116.000000  150000.000000   \n",
       "75%      7250.000000       2007.000000     150.000000  150000.000000   \n",
       "max     20000.000000       2015.000000     229.000000  150000.000000   \n",
       "\n",
       "       registrationmonth     postalcode  \n",
       "count      242465.000000  242465.000000  \n",
       "mean            6.106250   51606.574598  \n",
       "std             3.525564   25703.387678  \n",
       "min             0.000000    1067.000000  \n",
       "25%             3.000000   31228.000000  \n",
       "50%             6.000000   50829.000000  \n",
       "75%             9.000000   72294.000000  \n",
       "max            12.000000   99998.000000  "
      ]
     },
     "execution_count": 25,
     "metadata": {},
     "output_type": "execute_result"
    }
   ],
   "source": [
    "df.describe()"
   ]
  },
  {
   "cell_type": "code",
   "execution_count": 26,
   "metadata": {},
   "outputs": [
    {
     "name": "stdout",
     "output_type": "stream",
     "text": [
      "<class 'pandas.core.frame.DataFrame'>\n",
      "Int64Index: 242465 entries, 1 to 354368\n",
      "Data columns (total 15 columns):\n",
      " #   Column             Non-Null Count   Dtype         \n",
      "---  ------             --------------   -----         \n",
      " 0   datecrawled        242465 non-null  datetime64[ns]\n",
      " 1   price              242465 non-null  int64         \n",
      " 2   vehicletype        239592 non-null  object        \n",
      " 3   registrationyear   242465 non-null  int64         \n",
      " 4   gearbox            239081 non-null  object        \n",
      " 5   power              242465 non-null  int64         \n",
      " 6   model              235201 non-null  object        \n",
      " 7   kilometer          242465 non-null  int64         \n",
      " 8   registrationmonth  242465 non-null  int64         \n",
      " 9   fueltype           233623 non-null  object        \n",
      " 10  brand              242465 non-null  object        \n",
      " 11  repaired           213008 non-null  object        \n",
      " 12  datecreated        242465 non-null  datetime64[ns]\n",
      " 13  postalcode         242465 non-null  int64         \n",
      " 14  lastseen           242465 non-null  datetime64[ns]\n",
      "dtypes: datetime64[ns](3), int64(6), object(6)\n",
      "memory usage: 29.6+ MB\n"
     ]
    }
   ],
   "source": [
    "df.info()"
   ]
  },
  {
   "cell_type": "markdown",
   "metadata": {},
   "source": [
    "Сомнительные признаки - datecrawled, datecreated, lastseen - они не важны в оценке стоимости автомобиля, так как не являются техническими характеристиками ТС\n",
    "\n",
    "Их можно удалить\n",
    "\n",
    "Также можно удалить признак registrationmonth, так как признака registrationyear будет достаточно"
   ]
  },
  {
   "cell_type": "code",
   "execution_count": 27,
   "metadata": {},
   "outputs": [],
   "source": [
    " df = df.drop(columns=['datecrawled', 'datecreated', 'lastseen', 'registrationmonth'])"
   ]
  },
  {
   "cell_type": "markdown",
   "metadata": {},
   "source": [
    "*Вывод*\n",
    "\n",
    "1. Больше всего седанов\n",
    "2. Больше всего ТС с МКПП\n",
    "3. Больше всего ТС, использующих бензин\n",
    "4. Больше всего volkswagen\n",
    "5. Большинство ТС не ремонтировались (после ДТП)\n",
    "6. Ограничение цены >650\n",
    "7. Ограничение года регистрации от 1950 до 2016\n",
    "8. Ограничение мощности от 50 до 230\n",
    "9. Были удалены признаки numberofpictures, datecrawled, datecreated, lastseen, registrationmonth"
   ]
  },
  {
   "cell_type": "markdown",
   "metadata": {},
   "source": [
    "## Подготовка данных"
   ]
  },
  {
   "cell_type": "code",
   "execution_count": 28,
   "metadata": {},
   "outputs": [],
   "source": [
    "df_new = df.drop('model', axis = 1)"
   ]
  },
  {
   "cell_type": "code",
   "execution_count": 29,
   "metadata": {},
   "outputs": [
    {
     "data": {
      "text/plain": [
       "['vehicletype', 'gearbox', 'fueltype', 'brand', 'repaired']"
      ]
     },
     "execution_count": 29,
     "metadata": {},
     "output_type": "execute_result"
    }
   ],
   "source": [
    "X = df_new.drop('price', axis=1)\n",
    "y = df_new['price']\n",
    "\n",
    "X_train, X_test, y_train, y_test = train_test_split(X, y, random_state=RANDOM_STATE, test_size=TEST_SIZE)\n",
    "\n",
    "col_ohe = ['vehicletype', 'gearbox', 'fueltype', 'brand', 'repaired']\n",
    "num_col = ['registrationyear', 'power', 'kilometer', 'postalcode']\n",
    "\n",
    "col_ohe"
   ]
  },
  {
   "cell_type": "code",
   "execution_count": 30,
   "metadata": {},
   "outputs": [],
   "source": [
    "ohe_pipe = Pipeline(\n",
    "    [\n",
    "        (\n",
    "            'simpleImputer_ohe', \n",
    "            SimpleImputer(missing_values=np.nan, strategy='most_frequent')\n",
    "        ),\n",
    "        (\n",
    "            'ohe', \n",
    "            OneHotEncoder(drop='first', handle_unknown='ignore')\n",
    "        )\n",
    "    ]\n",
    ")\n",
    "\n",
    "data_preprocessor = ColumnTransformer(\n",
    "    [\n",
    "        ('ohe', ohe_pipe, col_ohe),\n",
    "        ('num', StandardScaler(), num_col)\n",
    "    ], \n",
    "    remainder='passthrough'\n",
    ")\n",
    "\n",
    "pipe_final= Pipeline(\n",
    "    [\n",
    "        ('preprocessor', data_preprocessor),\n",
    "        #('feature_selection', SelectKBest(score_func=f_classif)),\n",
    "        ('models', DecisionTreeRegressor(random_state=RANDOM_STATE))\n",
    "    ]\n",
    ")"
   ]
  },
  {
   "cell_type": "markdown",
   "metadata": {},
   "source": [
    "*Вывод:*\n",
    "\n",
    "Создан паплайн с кодировщиком OneHotEncoder и маштабированием с помощью StandardScaler"
   ]
  },
  {
   "cell_type": "markdown",
   "metadata": {},
   "source": [
    "## Обучение моделей"
   ]
  },
  {
   "cell_type": "code",
   "execution_count": 31,
   "metadata": {},
   "outputs": [],
   "source": [
    "def rmse(y_true, y_pred):\n",
    "    mse = mean_squared_error(y_true, y_pred) \n",
    "    rmse = np.sqrt(mse)\n",
    "    return rmse\n",
    "\n",
    "rmse_score = make_scorer(rmse, greater_is_better=False)"
   ]
  },
  {
   "cell_type": "code",
   "execution_count": 32,
   "metadata": {},
   "outputs": [],
   "source": [
    "param_distributions = [\n",
    "    {\n",
    "        'models': [DecisionTreeRegressor(random_state=RANDOM_STATE)],\n",
    "        'models__max_depth': range(2, 5),\n",
    "        'models__min_samples_split': [500, 1000],\n",
    "        #'feature_selection__k': [4, 6, 'all'],\n",
    "        'preprocessor__num': [StandardScaler(), MinMaxScaler(), 'passthrough']  \n",
    "    },\n",
    "    {\n",
    "        'models': [LinearRegression()],\n",
    "        #'feature_selection__k': [4, 6, 'all'],\n",
    "        'preprocessor__num': [StandardScaler()]  \n",
    "    },\n",
    "    {\n",
    "        'models': [lgb.LGBMRegressor(random_state=RANDOM_STATE, metric = 'rmse')],\n",
    "        'models__max_depth': [10, 500],\n",
    "        'preprocessor__num': [StandardScaler()]\n",
    "        #'feature_selection__k': [4, 6, 'all']\n",
    "    }\n",
    "]"
   ]
  },
  {
   "cell_type": "code",
   "execution_count": 33,
   "metadata": {},
   "outputs": [],
   "source": [
    "grid = GridSearchCV(pipe_final, \n",
    "                    param_distributions, \n",
    "                    cv=5, \n",
    "                    n_jobs=-1,\n",
    "                    scoring=rmse_score\n",
    ")"
   ]
  },
  {
   "cell_type": "code",
   "execution_count": 34,
   "metadata": {
    "scrolled": true
   },
   "outputs": [
    {
     "name": "stderr",
     "output_type": "stream",
     "text": [
      "/opt/conda/lib/python3.9/site-packages/sklearn/utils/deprecation.py:151: FutureWarning:\n",
      "\n",
      "'force_all_finite' was renamed to 'ensure_all_finite' in 1.6 and will be removed in 1.8.\n",
      "\n",
      "/opt/conda/lib/python3.9/site-packages/sklearn/utils/deprecation.py:151: FutureWarning:\n",
      "\n",
      "'force_all_finite' was renamed to 'ensure_all_finite' in 1.6 and will be removed in 1.8.\n",
      "\n",
      "/opt/conda/lib/python3.9/site-packages/sklearn/utils/deprecation.py:151: FutureWarning:\n",
      "\n",
      "'force_all_finite' was renamed to 'ensure_all_finite' in 1.6 and will be removed in 1.8.\n",
      "\n",
      "/opt/conda/lib/python3.9/site-packages/sklearn/utils/deprecation.py:151: FutureWarning:\n",
      "\n",
      "'force_all_finite' was renamed to 'ensure_all_finite' in 1.6 and will be removed in 1.8.\n",
      "\n",
      "/opt/conda/lib/python3.9/site-packages/sklearn/utils/deprecation.py:151: FutureWarning:\n",
      "\n",
      "'force_all_finite' was renamed to 'ensure_all_finite' in 1.6 and will be removed in 1.8.\n",
      "\n",
      "/opt/conda/lib/python3.9/site-packages/sklearn/utils/deprecation.py:151: FutureWarning:\n",
      "\n",
      "'force_all_finite' was renamed to 'ensure_all_finite' in 1.6 and will be removed in 1.8.\n",
      "\n",
      "/opt/conda/lib/python3.9/site-packages/sklearn/utils/deprecation.py:151: FutureWarning:\n",
      "\n",
      "'force_all_finite' was renamed to 'ensure_all_finite' in 1.6 and will be removed in 1.8.\n",
      "\n",
      "/opt/conda/lib/python3.9/site-packages/sklearn/utils/deprecation.py:151: FutureWarning:\n",
      "\n",
      "'force_all_finite' was renamed to 'ensure_all_finite' in 1.6 and will be removed in 1.8.\n",
      "\n",
      "/opt/conda/lib/python3.9/site-packages/sklearn/utils/deprecation.py:151: FutureWarning:\n",
      "\n",
      "'force_all_finite' was renamed to 'ensure_all_finite' in 1.6 and will be removed in 1.8.\n",
      "\n",
      "/opt/conda/lib/python3.9/site-packages/sklearn/utils/deprecation.py:151: FutureWarning:\n",
      "\n",
      "'force_all_finite' was renamed to 'ensure_all_finite' in 1.6 and will be removed in 1.8.\n",
      "\n",
      "/opt/conda/lib/python3.9/site-packages/sklearn/utils/deprecation.py:151: FutureWarning:\n",
      "\n",
      "'force_all_finite' was renamed to 'ensure_all_finite' in 1.6 and will be removed in 1.8.\n",
      "\n",
      "/opt/conda/lib/python3.9/site-packages/sklearn/utils/deprecation.py:151: FutureWarning:\n",
      "\n",
      "'force_all_finite' was renamed to 'ensure_all_finite' in 1.6 and will be removed in 1.8.\n",
      "\n",
      "/opt/conda/lib/python3.9/site-packages/sklearn/utils/deprecation.py:151: FutureWarning:\n",
      "\n",
      "'force_all_finite' was renamed to 'ensure_all_finite' in 1.6 and will be removed in 1.8.\n",
      "\n",
      "/opt/conda/lib/python3.9/site-packages/sklearn/utils/deprecation.py:151: FutureWarning:\n",
      "\n",
      "'force_all_finite' was renamed to 'ensure_all_finite' in 1.6 and will be removed in 1.8.\n",
      "\n",
      "/opt/conda/lib/python3.9/site-packages/sklearn/utils/deprecation.py:151: FutureWarning:\n",
      "\n",
      "'force_all_finite' was renamed to 'ensure_all_finite' in 1.6 and will be removed in 1.8.\n",
      "\n",
      "/opt/conda/lib/python3.9/site-packages/sklearn/utils/deprecation.py:151: FutureWarning:\n",
      "\n",
      "'force_all_finite' was renamed to 'ensure_all_finite' in 1.6 and will be removed in 1.8.\n",
      "\n",
      "/opt/conda/lib/python3.9/site-packages/sklearn/utils/deprecation.py:151: FutureWarning:\n",
      "\n",
      "'force_all_finite' was renamed to 'ensure_all_finite' in 1.6 and will be removed in 1.8.\n",
      "\n",
      "/opt/conda/lib/python3.9/site-packages/sklearn/utils/deprecation.py:151: FutureWarning:\n",
      "\n",
      "'force_all_finite' was renamed to 'ensure_all_finite' in 1.6 and will be removed in 1.8.\n",
      "\n",
      "/opt/conda/lib/python3.9/site-packages/sklearn/utils/deprecation.py:151: FutureWarning:\n",
      "\n",
      "'force_all_finite' was renamed to 'ensure_all_finite' in 1.6 and will be removed in 1.8.\n",
      "\n",
      "/opt/conda/lib/python3.9/site-packages/sklearn/utils/deprecation.py:151: FutureWarning:\n",
      "\n",
      "'force_all_finite' was renamed to 'ensure_all_finite' in 1.6 and will be removed in 1.8.\n",
      "\n",
      "/opt/conda/lib/python3.9/site-packages/sklearn/utils/deprecation.py:151: FutureWarning:\n",
      "\n",
      "'force_all_finite' was renamed to 'ensure_all_finite' in 1.6 and will be removed in 1.8.\n",
      "\n"
     ]
    },
    {
     "data": {
      "text/html": [
       "<style>#sk-container-id-1 {\n",
       "  /* Definition of color scheme common for light and dark mode */\n",
       "  --sklearn-color-text: #000;\n",
       "  --sklearn-color-text-muted: #666;\n",
       "  --sklearn-color-line: gray;\n",
       "  /* Definition of color scheme for unfitted estimators */\n",
       "  --sklearn-color-unfitted-level-0: #fff5e6;\n",
       "  --sklearn-color-unfitted-level-1: #f6e4d2;\n",
       "  --sklearn-color-unfitted-level-2: #ffe0b3;\n",
       "  --sklearn-color-unfitted-level-3: chocolate;\n",
       "  /* Definition of color scheme for fitted estimators */\n",
       "  --sklearn-color-fitted-level-0: #f0f8ff;\n",
       "  --sklearn-color-fitted-level-1: #d4ebff;\n",
       "  --sklearn-color-fitted-level-2: #b3dbfd;\n",
       "  --sklearn-color-fitted-level-3: cornflowerblue;\n",
       "\n",
       "  /* Specific color for light theme */\n",
       "  --sklearn-color-text-on-default-background: var(--sg-text-color, var(--theme-code-foreground, var(--jp-content-font-color1, black)));\n",
       "  --sklearn-color-background: var(--sg-background-color, var(--theme-background, var(--jp-layout-color0, white)));\n",
       "  --sklearn-color-border-box: var(--sg-text-color, var(--theme-code-foreground, var(--jp-content-font-color1, black)));\n",
       "  --sklearn-color-icon: #696969;\n",
       "\n",
       "  @media (prefers-color-scheme: dark) {\n",
       "    /* Redefinition of color scheme for dark theme */\n",
       "    --sklearn-color-text-on-default-background: var(--sg-text-color, var(--theme-code-foreground, var(--jp-content-font-color1, white)));\n",
       "    --sklearn-color-background: var(--sg-background-color, var(--theme-background, var(--jp-layout-color0, #111)));\n",
       "    --sklearn-color-border-box: var(--sg-text-color, var(--theme-code-foreground, var(--jp-content-font-color1, white)));\n",
       "    --sklearn-color-icon: #878787;\n",
       "  }\n",
       "}\n",
       "\n",
       "#sk-container-id-1 {\n",
       "  color: var(--sklearn-color-text);\n",
       "}\n",
       "\n",
       "#sk-container-id-1 pre {\n",
       "  padding: 0;\n",
       "}\n",
       "\n",
       "#sk-container-id-1 input.sk-hidden--visually {\n",
       "  border: 0;\n",
       "  clip: rect(1px 1px 1px 1px);\n",
       "  clip: rect(1px, 1px, 1px, 1px);\n",
       "  height: 1px;\n",
       "  margin: -1px;\n",
       "  overflow: hidden;\n",
       "  padding: 0;\n",
       "  position: absolute;\n",
       "  width: 1px;\n",
       "}\n",
       "\n",
       "#sk-container-id-1 div.sk-dashed-wrapped {\n",
       "  border: 1px dashed var(--sklearn-color-line);\n",
       "  margin: 0 0.4em 0.5em 0.4em;\n",
       "  box-sizing: border-box;\n",
       "  padding-bottom: 0.4em;\n",
       "  background-color: var(--sklearn-color-background);\n",
       "}\n",
       "\n",
       "#sk-container-id-1 div.sk-container {\n",
       "  /* jupyter's `normalize.less` sets `[hidden] { display: none; }`\n",
       "     but bootstrap.min.css set `[hidden] { display: none !important; }`\n",
       "     so we also need the `!important` here to be able to override the\n",
       "     default hidden behavior on the sphinx rendered scikit-learn.org.\n",
       "     See: https://github.com/scikit-learn/scikit-learn/issues/21755 */\n",
       "  display: inline-block !important;\n",
       "  position: relative;\n",
       "}\n",
       "\n",
       "#sk-container-id-1 div.sk-text-repr-fallback {\n",
       "  display: none;\n",
       "}\n",
       "\n",
       "div.sk-parallel-item,\n",
       "div.sk-serial,\n",
       "div.sk-item {\n",
       "  /* draw centered vertical line to link estimators */\n",
       "  background-image: linear-gradient(var(--sklearn-color-text-on-default-background), var(--sklearn-color-text-on-default-background));\n",
       "  background-size: 2px 100%;\n",
       "  background-repeat: no-repeat;\n",
       "  background-position: center center;\n",
       "}\n",
       "\n",
       "/* Parallel-specific style estimator block */\n",
       "\n",
       "#sk-container-id-1 div.sk-parallel-item::after {\n",
       "  content: \"\";\n",
       "  width: 100%;\n",
       "  border-bottom: 2px solid var(--sklearn-color-text-on-default-background);\n",
       "  flex-grow: 1;\n",
       "}\n",
       "\n",
       "#sk-container-id-1 div.sk-parallel {\n",
       "  display: flex;\n",
       "  align-items: stretch;\n",
       "  justify-content: center;\n",
       "  background-color: var(--sklearn-color-background);\n",
       "  position: relative;\n",
       "}\n",
       "\n",
       "#sk-container-id-1 div.sk-parallel-item {\n",
       "  display: flex;\n",
       "  flex-direction: column;\n",
       "}\n",
       "\n",
       "#sk-container-id-1 div.sk-parallel-item:first-child::after {\n",
       "  align-self: flex-end;\n",
       "  width: 50%;\n",
       "}\n",
       "\n",
       "#sk-container-id-1 div.sk-parallel-item:last-child::after {\n",
       "  align-self: flex-start;\n",
       "  width: 50%;\n",
       "}\n",
       "\n",
       "#sk-container-id-1 div.sk-parallel-item:only-child::after {\n",
       "  width: 0;\n",
       "}\n",
       "\n",
       "/* Serial-specific style estimator block */\n",
       "\n",
       "#sk-container-id-1 div.sk-serial {\n",
       "  display: flex;\n",
       "  flex-direction: column;\n",
       "  align-items: center;\n",
       "  background-color: var(--sklearn-color-background);\n",
       "  padding-right: 1em;\n",
       "  padding-left: 1em;\n",
       "}\n",
       "\n",
       "\n",
       "/* Toggleable style: style used for estimator/Pipeline/ColumnTransformer box that is\n",
       "clickable and can be expanded/collapsed.\n",
       "- Pipeline and ColumnTransformer use this feature and define the default style\n",
       "- Estimators will overwrite some part of the style using the `sk-estimator` class\n",
       "*/\n",
       "\n",
       "/* Pipeline and ColumnTransformer style (default) */\n",
       "\n",
       "#sk-container-id-1 div.sk-toggleable {\n",
       "  /* Default theme specific background. It is overwritten whether we have a\n",
       "  specific estimator or a Pipeline/ColumnTransformer */\n",
       "  background-color: var(--sklearn-color-background);\n",
       "}\n",
       "\n",
       "/* Toggleable label */\n",
       "#sk-container-id-1 label.sk-toggleable__label {\n",
       "  cursor: pointer;\n",
       "  display: flex;\n",
       "  width: 100%;\n",
       "  margin-bottom: 0;\n",
       "  padding: 0.5em;\n",
       "  box-sizing: border-box;\n",
       "  text-align: center;\n",
       "  align-items: start;\n",
       "  justify-content: space-between;\n",
       "  gap: 0.5em;\n",
       "}\n",
       "\n",
       "#sk-container-id-1 label.sk-toggleable__label .caption {\n",
       "  font-size: 0.6rem;\n",
       "  font-weight: lighter;\n",
       "  color: var(--sklearn-color-text-muted);\n",
       "}\n",
       "\n",
       "#sk-container-id-1 label.sk-toggleable__label-arrow:before {\n",
       "  /* Arrow on the left of the label */\n",
       "  content: \"▸\";\n",
       "  float: left;\n",
       "  margin-right: 0.25em;\n",
       "  color: var(--sklearn-color-icon);\n",
       "}\n",
       "\n",
       "#sk-container-id-1 label.sk-toggleable__label-arrow:hover:before {\n",
       "  color: var(--sklearn-color-text);\n",
       "}\n",
       "\n",
       "/* Toggleable content - dropdown */\n",
       "\n",
       "#sk-container-id-1 div.sk-toggleable__content {\n",
       "  max-height: 0;\n",
       "  max-width: 0;\n",
       "  overflow: hidden;\n",
       "  text-align: left;\n",
       "  /* unfitted */\n",
       "  background-color: var(--sklearn-color-unfitted-level-0);\n",
       "}\n",
       "\n",
       "#sk-container-id-1 div.sk-toggleable__content.fitted {\n",
       "  /* fitted */\n",
       "  background-color: var(--sklearn-color-fitted-level-0);\n",
       "}\n",
       "\n",
       "#sk-container-id-1 div.sk-toggleable__content pre {\n",
       "  margin: 0.2em;\n",
       "  border-radius: 0.25em;\n",
       "  color: var(--sklearn-color-text);\n",
       "  /* unfitted */\n",
       "  background-color: var(--sklearn-color-unfitted-level-0);\n",
       "}\n",
       "\n",
       "#sk-container-id-1 div.sk-toggleable__content.fitted pre {\n",
       "  /* unfitted */\n",
       "  background-color: var(--sklearn-color-fitted-level-0);\n",
       "}\n",
       "\n",
       "#sk-container-id-1 input.sk-toggleable__control:checked~div.sk-toggleable__content {\n",
       "  /* Expand drop-down */\n",
       "  max-height: 200px;\n",
       "  max-width: 100%;\n",
       "  overflow: auto;\n",
       "}\n",
       "\n",
       "#sk-container-id-1 input.sk-toggleable__control:checked~label.sk-toggleable__label-arrow:before {\n",
       "  content: \"▾\";\n",
       "}\n",
       "\n",
       "/* Pipeline/ColumnTransformer-specific style */\n",
       "\n",
       "#sk-container-id-1 div.sk-label input.sk-toggleable__control:checked~label.sk-toggleable__label {\n",
       "  color: var(--sklearn-color-text);\n",
       "  background-color: var(--sklearn-color-unfitted-level-2);\n",
       "}\n",
       "\n",
       "#sk-container-id-1 div.sk-label.fitted input.sk-toggleable__control:checked~label.sk-toggleable__label {\n",
       "  background-color: var(--sklearn-color-fitted-level-2);\n",
       "}\n",
       "\n",
       "/* Estimator-specific style */\n",
       "\n",
       "/* Colorize estimator box */\n",
       "#sk-container-id-1 div.sk-estimator input.sk-toggleable__control:checked~label.sk-toggleable__label {\n",
       "  /* unfitted */\n",
       "  background-color: var(--sklearn-color-unfitted-level-2);\n",
       "}\n",
       "\n",
       "#sk-container-id-1 div.sk-estimator.fitted input.sk-toggleable__control:checked~label.sk-toggleable__label {\n",
       "  /* fitted */\n",
       "  background-color: var(--sklearn-color-fitted-level-2);\n",
       "}\n",
       "\n",
       "#sk-container-id-1 div.sk-label label.sk-toggleable__label,\n",
       "#sk-container-id-1 div.sk-label label {\n",
       "  /* The background is the default theme color */\n",
       "  color: var(--sklearn-color-text-on-default-background);\n",
       "}\n",
       "\n",
       "/* On hover, darken the color of the background */\n",
       "#sk-container-id-1 div.sk-label:hover label.sk-toggleable__label {\n",
       "  color: var(--sklearn-color-text);\n",
       "  background-color: var(--sklearn-color-unfitted-level-2);\n",
       "}\n",
       "\n",
       "/* Label box, darken color on hover, fitted */\n",
       "#sk-container-id-1 div.sk-label.fitted:hover label.sk-toggleable__label.fitted {\n",
       "  color: var(--sklearn-color-text);\n",
       "  background-color: var(--sklearn-color-fitted-level-2);\n",
       "}\n",
       "\n",
       "/* Estimator label */\n",
       "\n",
       "#sk-container-id-1 div.sk-label label {\n",
       "  font-family: monospace;\n",
       "  font-weight: bold;\n",
       "  display: inline-block;\n",
       "  line-height: 1.2em;\n",
       "}\n",
       "\n",
       "#sk-container-id-1 div.sk-label-container {\n",
       "  text-align: center;\n",
       "}\n",
       "\n",
       "/* Estimator-specific */\n",
       "#sk-container-id-1 div.sk-estimator {\n",
       "  font-family: monospace;\n",
       "  border: 1px dotted var(--sklearn-color-border-box);\n",
       "  border-radius: 0.25em;\n",
       "  box-sizing: border-box;\n",
       "  margin-bottom: 0.5em;\n",
       "  /* unfitted */\n",
       "  background-color: var(--sklearn-color-unfitted-level-0);\n",
       "}\n",
       "\n",
       "#sk-container-id-1 div.sk-estimator.fitted {\n",
       "  /* fitted */\n",
       "  background-color: var(--sklearn-color-fitted-level-0);\n",
       "}\n",
       "\n",
       "/* on hover */\n",
       "#sk-container-id-1 div.sk-estimator:hover {\n",
       "  /* unfitted */\n",
       "  background-color: var(--sklearn-color-unfitted-level-2);\n",
       "}\n",
       "\n",
       "#sk-container-id-1 div.sk-estimator.fitted:hover {\n",
       "  /* fitted */\n",
       "  background-color: var(--sklearn-color-fitted-level-2);\n",
       "}\n",
       "\n",
       "/* Specification for estimator info (e.g. \"i\" and \"?\") */\n",
       "\n",
       "/* Common style for \"i\" and \"?\" */\n",
       "\n",
       ".sk-estimator-doc-link,\n",
       "a:link.sk-estimator-doc-link,\n",
       "a:visited.sk-estimator-doc-link {\n",
       "  float: right;\n",
       "  font-size: smaller;\n",
       "  line-height: 1em;\n",
       "  font-family: monospace;\n",
       "  background-color: var(--sklearn-color-background);\n",
       "  border-radius: 1em;\n",
       "  height: 1em;\n",
       "  width: 1em;\n",
       "  text-decoration: none !important;\n",
       "  margin-left: 0.5em;\n",
       "  text-align: center;\n",
       "  /* unfitted */\n",
       "  border: var(--sklearn-color-unfitted-level-1) 1pt solid;\n",
       "  color: var(--sklearn-color-unfitted-level-1);\n",
       "}\n",
       "\n",
       ".sk-estimator-doc-link.fitted,\n",
       "a:link.sk-estimator-doc-link.fitted,\n",
       "a:visited.sk-estimator-doc-link.fitted {\n",
       "  /* fitted */\n",
       "  border: var(--sklearn-color-fitted-level-1) 1pt solid;\n",
       "  color: var(--sklearn-color-fitted-level-1);\n",
       "}\n",
       "\n",
       "/* On hover */\n",
       "div.sk-estimator:hover .sk-estimator-doc-link:hover,\n",
       ".sk-estimator-doc-link:hover,\n",
       "div.sk-label-container:hover .sk-estimator-doc-link:hover,\n",
       ".sk-estimator-doc-link:hover {\n",
       "  /* unfitted */\n",
       "  background-color: var(--sklearn-color-unfitted-level-3);\n",
       "  color: var(--sklearn-color-background);\n",
       "  text-decoration: none;\n",
       "}\n",
       "\n",
       "div.sk-estimator.fitted:hover .sk-estimator-doc-link.fitted:hover,\n",
       ".sk-estimator-doc-link.fitted:hover,\n",
       "div.sk-label-container:hover .sk-estimator-doc-link.fitted:hover,\n",
       ".sk-estimator-doc-link.fitted:hover {\n",
       "  /* fitted */\n",
       "  background-color: var(--sklearn-color-fitted-level-3);\n",
       "  color: var(--sklearn-color-background);\n",
       "  text-decoration: none;\n",
       "}\n",
       "\n",
       "/* Span, style for the box shown on hovering the info icon */\n",
       ".sk-estimator-doc-link span {\n",
       "  display: none;\n",
       "  z-index: 9999;\n",
       "  position: relative;\n",
       "  font-weight: normal;\n",
       "  right: .2ex;\n",
       "  padding: .5ex;\n",
       "  margin: .5ex;\n",
       "  width: min-content;\n",
       "  min-width: 20ex;\n",
       "  max-width: 50ex;\n",
       "  color: var(--sklearn-color-text);\n",
       "  box-shadow: 2pt 2pt 4pt #999;\n",
       "  /* unfitted */\n",
       "  background: var(--sklearn-color-unfitted-level-0);\n",
       "  border: .5pt solid var(--sklearn-color-unfitted-level-3);\n",
       "}\n",
       "\n",
       ".sk-estimator-doc-link.fitted span {\n",
       "  /* fitted */\n",
       "  background: var(--sklearn-color-fitted-level-0);\n",
       "  border: var(--sklearn-color-fitted-level-3);\n",
       "}\n",
       "\n",
       ".sk-estimator-doc-link:hover span {\n",
       "  display: block;\n",
       "}\n",
       "\n",
       "/* \"?\"-specific style due to the `<a>` HTML tag */\n",
       "\n",
       "#sk-container-id-1 a.estimator_doc_link {\n",
       "  float: right;\n",
       "  font-size: 1rem;\n",
       "  line-height: 1em;\n",
       "  font-family: monospace;\n",
       "  background-color: var(--sklearn-color-background);\n",
       "  border-radius: 1rem;\n",
       "  height: 1rem;\n",
       "  width: 1rem;\n",
       "  text-decoration: none;\n",
       "  /* unfitted */\n",
       "  color: var(--sklearn-color-unfitted-level-1);\n",
       "  border: var(--sklearn-color-unfitted-level-1) 1pt solid;\n",
       "}\n",
       "\n",
       "#sk-container-id-1 a.estimator_doc_link.fitted {\n",
       "  /* fitted */\n",
       "  border: var(--sklearn-color-fitted-level-1) 1pt solid;\n",
       "  color: var(--sklearn-color-fitted-level-1);\n",
       "}\n",
       "\n",
       "/* On hover */\n",
       "#sk-container-id-1 a.estimator_doc_link:hover {\n",
       "  /* unfitted */\n",
       "  background-color: var(--sklearn-color-unfitted-level-3);\n",
       "  color: var(--sklearn-color-background);\n",
       "  text-decoration: none;\n",
       "}\n",
       "\n",
       "#sk-container-id-1 a.estimator_doc_link.fitted:hover {\n",
       "  /* fitted */\n",
       "  background-color: var(--sklearn-color-fitted-level-3);\n",
       "}\n",
       "</style><div id=\"sk-container-id-1\" class=\"sk-top-container\"><div class=\"sk-text-repr-fallback\"><pre>GridSearchCV(cv=5,\n",
       "             estimator=Pipeline(steps=[(&#x27;preprocessor&#x27;,\n",
       "                                        ColumnTransformer(remainder=&#x27;passthrough&#x27;,\n",
       "                                                          transformers=[(&#x27;ohe&#x27;,\n",
       "                                                                         Pipeline(steps=[(&#x27;simpleImputer_ohe&#x27;,\n",
       "                                                                                          SimpleImputer(strategy=&#x27;most_frequent&#x27;)),\n",
       "                                                                                         (&#x27;ohe&#x27;,\n",
       "                                                                                          OneHotEncoder(drop=&#x27;first&#x27;,\n",
       "                                                                                                        handle_unknown=&#x27;ignore&#x27;))]),\n",
       "                                                                         [&#x27;vehicletype&#x27;,\n",
       "                                                                          &#x27;gearbox&#x27;,\n",
       "                                                                          &#x27;fueltype&#x27;,\n",
       "                                                                          &#x27;brand&#x27;,\n",
       "                                                                          &#x27;repaired&#x27;]),\n",
       "                                                                        (&#x27;num&#x27;,\n",
       "                                                                         StandardScaler(),\n",
       "                                                                         [&#x27;regi...\n",
       "                          &#x27;models__min_samples_split&#x27;: [500, 1000],\n",
       "                          &#x27;preprocessor__num&#x27;: [StandardScaler(),\n",
       "                                                MinMaxScaler(),\n",
       "                                                &#x27;passthrough&#x27;]},\n",
       "                         {&#x27;models&#x27;: [LinearRegression()],\n",
       "                          &#x27;preprocessor__num&#x27;: [StandardScaler()]},\n",
       "                         {&#x27;models&#x27;: [LGBMRegressor(metric=&#x27;rmse&#x27;,\n",
       "                                                   random_state=42)],\n",
       "                          &#x27;models__max_depth&#x27;: [10, 500],\n",
       "                          &#x27;preprocessor__num&#x27;: [StandardScaler()]}],\n",
       "             scoring=make_scorer(rmse, greater_is_better=False, response_method=&#x27;predict&#x27;))</pre><b>In a Jupyter environment, please rerun this cell to show the HTML representation or trust the notebook. <br />On GitHub, the HTML representation is unable to render, please try loading this page with nbviewer.org.</b></div><div class=\"sk-container\" hidden><div class=\"sk-item sk-dashed-wrapped\"><div class=\"sk-label-container\"><div class=\"sk-label fitted sk-toggleable\"><input class=\"sk-toggleable__control sk-hidden--visually\" id=\"sk-estimator-id-1\" type=\"checkbox\" ><label for=\"sk-estimator-id-1\" class=\"sk-toggleable__label fitted sk-toggleable__label-arrow\"><div><div>GridSearchCV</div></div><div><a class=\"sk-estimator-doc-link fitted\" rel=\"noreferrer\" target=\"_blank\" href=\"https://scikit-learn.org/1.6/modules/generated/sklearn.model_selection.GridSearchCV.html\">?<span>Documentation for GridSearchCV</span></a><span class=\"sk-estimator-doc-link fitted\">i<span>Fitted</span></span></div></label><div class=\"sk-toggleable__content fitted\"><pre>GridSearchCV(cv=5,\n",
       "             estimator=Pipeline(steps=[(&#x27;preprocessor&#x27;,\n",
       "                                        ColumnTransformer(remainder=&#x27;passthrough&#x27;,\n",
       "                                                          transformers=[(&#x27;ohe&#x27;,\n",
       "                                                                         Pipeline(steps=[(&#x27;simpleImputer_ohe&#x27;,\n",
       "                                                                                          SimpleImputer(strategy=&#x27;most_frequent&#x27;)),\n",
       "                                                                                         (&#x27;ohe&#x27;,\n",
       "                                                                                          OneHotEncoder(drop=&#x27;first&#x27;,\n",
       "                                                                                                        handle_unknown=&#x27;ignore&#x27;))]),\n",
       "                                                                         [&#x27;vehicletype&#x27;,\n",
       "                                                                          &#x27;gearbox&#x27;,\n",
       "                                                                          &#x27;fueltype&#x27;,\n",
       "                                                                          &#x27;brand&#x27;,\n",
       "                                                                          &#x27;repaired&#x27;]),\n",
       "                                                                        (&#x27;num&#x27;,\n",
       "                                                                         StandardScaler(),\n",
       "                                                                         [&#x27;regi...\n",
       "                          &#x27;models__min_samples_split&#x27;: [500, 1000],\n",
       "                          &#x27;preprocessor__num&#x27;: [StandardScaler(),\n",
       "                                                MinMaxScaler(),\n",
       "                                                &#x27;passthrough&#x27;]},\n",
       "                         {&#x27;models&#x27;: [LinearRegression()],\n",
       "                          &#x27;preprocessor__num&#x27;: [StandardScaler()]},\n",
       "                         {&#x27;models&#x27;: [LGBMRegressor(metric=&#x27;rmse&#x27;,\n",
       "                                                   random_state=42)],\n",
       "                          &#x27;models__max_depth&#x27;: [10, 500],\n",
       "                          &#x27;preprocessor__num&#x27;: [StandardScaler()]}],\n",
       "             scoring=make_scorer(rmse, greater_is_better=False, response_method=&#x27;predict&#x27;))</pre></div> </div></div><div class=\"sk-parallel\"><div class=\"sk-parallel-item\"><div class=\"sk-item\"><div class=\"sk-label-container\"><div class=\"sk-label fitted sk-toggleable\"><input class=\"sk-toggleable__control sk-hidden--visually\" id=\"sk-estimator-id-2\" type=\"checkbox\" ><label for=\"sk-estimator-id-2\" class=\"sk-toggleable__label fitted sk-toggleable__label-arrow\"><div><div>best_estimator_: Pipeline</div></div></label><div class=\"sk-toggleable__content fitted\"><pre>Pipeline(steps=[(&#x27;preprocessor&#x27;,\n",
       "                 ColumnTransformer(remainder=&#x27;passthrough&#x27;,\n",
       "                                   transformers=[(&#x27;ohe&#x27;,\n",
       "                                                  Pipeline(steps=[(&#x27;simpleImputer_ohe&#x27;,\n",
       "                                                                   SimpleImputer(strategy=&#x27;most_frequent&#x27;)),\n",
       "                                                                  (&#x27;ohe&#x27;,\n",
       "                                                                   OneHotEncoder(drop=&#x27;first&#x27;,\n",
       "                                                                                 handle_unknown=&#x27;ignore&#x27;))]),\n",
       "                                                  [&#x27;vehicletype&#x27;, &#x27;gearbox&#x27;,\n",
       "                                                   &#x27;fueltype&#x27;, &#x27;brand&#x27;,\n",
       "                                                   &#x27;repaired&#x27;]),\n",
       "                                                 (&#x27;num&#x27;, StandardScaler(),\n",
       "                                                  [&#x27;registrationyear&#x27;, &#x27;power&#x27;,\n",
       "                                                   &#x27;kilometer&#x27;,\n",
       "                                                   &#x27;postalcode&#x27;])])),\n",
       "                (&#x27;models&#x27;,\n",
       "                 LGBMRegressor(max_depth=500, metric=&#x27;rmse&#x27;, random_state=42))])</pre></div> </div></div><div class=\"sk-serial\"><div class=\"sk-item\"><div class=\"sk-serial\"><div class=\"sk-item sk-dashed-wrapped\"><div class=\"sk-label-container\"><div class=\"sk-label fitted sk-toggleable\"><input class=\"sk-toggleable__control sk-hidden--visually\" id=\"sk-estimator-id-3\" type=\"checkbox\" ><label for=\"sk-estimator-id-3\" class=\"sk-toggleable__label fitted sk-toggleable__label-arrow\"><div><div>preprocessor: ColumnTransformer</div></div><div><a class=\"sk-estimator-doc-link fitted\" rel=\"noreferrer\" target=\"_blank\" href=\"https://scikit-learn.org/1.6/modules/generated/sklearn.compose.ColumnTransformer.html\">?<span>Documentation for preprocessor: ColumnTransformer</span></a></div></label><div class=\"sk-toggleable__content fitted\"><pre>ColumnTransformer(remainder=&#x27;passthrough&#x27;,\n",
       "                  transformers=[(&#x27;ohe&#x27;,\n",
       "                                 Pipeline(steps=[(&#x27;simpleImputer_ohe&#x27;,\n",
       "                                                  SimpleImputer(strategy=&#x27;most_frequent&#x27;)),\n",
       "                                                 (&#x27;ohe&#x27;,\n",
       "                                                  OneHotEncoder(drop=&#x27;first&#x27;,\n",
       "                                                                handle_unknown=&#x27;ignore&#x27;))]),\n",
       "                                 [&#x27;vehicletype&#x27;, &#x27;gearbox&#x27;, &#x27;fueltype&#x27;, &#x27;brand&#x27;,\n",
       "                                  &#x27;repaired&#x27;]),\n",
       "                                (&#x27;num&#x27;, StandardScaler(),\n",
       "                                 [&#x27;registrationyear&#x27;, &#x27;power&#x27;, &#x27;kilometer&#x27;,\n",
       "                                  &#x27;postalcode&#x27;])])</pre></div> </div></div><div class=\"sk-parallel\"><div class=\"sk-parallel-item\"><div class=\"sk-item\"><div class=\"sk-label-container\"><div class=\"sk-label fitted sk-toggleable\"><input class=\"sk-toggleable__control sk-hidden--visually\" id=\"sk-estimator-id-4\" type=\"checkbox\" ><label for=\"sk-estimator-id-4\" class=\"sk-toggleable__label fitted sk-toggleable__label-arrow\"><div><div>ohe</div></div></label><div class=\"sk-toggleable__content fitted\"><pre>[&#x27;vehicletype&#x27;, &#x27;gearbox&#x27;, &#x27;fueltype&#x27;, &#x27;brand&#x27;, &#x27;repaired&#x27;]</pre></div> </div></div><div class=\"sk-serial\"><div class=\"sk-item\"><div class=\"sk-serial\"><div class=\"sk-item\"><div class=\"sk-estimator fitted sk-toggleable\"><input class=\"sk-toggleable__control sk-hidden--visually\" id=\"sk-estimator-id-5\" type=\"checkbox\" ><label for=\"sk-estimator-id-5\" class=\"sk-toggleable__label fitted sk-toggleable__label-arrow\"><div><div>SimpleImputer</div></div><div><a class=\"sk-estimator-doc-link fitted\" rel=\"noreferrer\" target=\"_blank\" href=\"https://scikit-learn.org/1.6/modules/generated/sklearn.impute.SimpleImputer.html\">?<span>Documentation for SimpleImputer</span></a></div></label><div class=\"sk-toggleable__content fitted\"><pre>SimpleImputer(strategy=&#x27;most_frequent&#x27;)</pre></div> </div></div><div class=\"sk-item\"><div class=\"sk-estimator fitted sk-toggleable\"><input class=\"sk-toggleable__control sk-hidden--visually\" id=\"sk-estimator-id-6\" type=\"checkbox\" ><label for=\"sk-estimator-id-6\" class=\"sk-toggleable__label fitted sk-toggleable__label-arrow\"><div><div>OneHotEncoder</div></div><div><a class=\"sk-estimator-doc-link fitted\" rel=\"noreferrer\" target=\"_blank\" href=\"https://scikit-learn.org/1.6/modules/generated/sklearn.preprocessing.OneHotEncoder.html\">?<span>Documentation for OneHotEncoder</span></a></div></label><div class=\"sk-toggleable__content fitted\"><pre>OneHotEncoder(drop=&#x27;first&#x27;, handle_unknown=&#x27;ignore&#x27;)</pre></div> </div></div></div></div></div></div></div><div class=\"sk-parallel-item\"><div class=\"sk-item\"><div class=\"sk-label-container\"><div class=\"sk-label fitted sk-toggleable\"><input class=\"sk-toggleable__control sk-hidden--visually\" id=\"sk-estimator-id-7\" type=\"checkbox\" ><label for=\"sk-estimator-id-7\" class=\"sk-toggleable__label fitted sk-toggleable__label-arrow\"><div><div>num</div></div></label><div class=\"sk-toggleable__content fitted\"><pre>[&#x27;registrationyear&#x27;, &#x27;power&#x27;, &#x27;kilometer&#x27;, &#x27;postalcode&#x27;]</pre></div> </div></div><div class=\"sk-serial\"><div class=\"sk-item\"><div class=\"sk-estimator fitted sk-toggleable\"><input class=\"sk-toggleable__control sk-hidden--visually\" id=\"sk-estimator-id-8\" type=\"checkbox\" ><label for=\"sk-estimator-id-8\" class=\"sk-toggleable__label fitted sk-toggleable__label-arrow\"><div><div>StandardScaler</div></div><div><a class=\"sk-estimator-doc-link fitted\" rel=\"noreferrer\" target=\"_blank\" href=\"https://scikit-learn.org/1.6/modules/generated/sklearn.preprocessing.StandardScaler.html\">?<span>Documentation for StandardScaler</span></a></div></label><div class=\"sk-toggleable__content fitted\"><pre>StandardScaler()</pre></div> </div></div></div></div></div><div class=\"sk-parallel-item\"><div class=\"sk-item\"><div class=\"sk-label-container\"><div class=\"sk-label fitted sk-toggleable\"><input class=\"sk-toggleable__control sk-hidden--visually\" id=\"sk-estimator-id-9\" type=\"checkbox\" ><label for=\"sk-estimator-id-9\" class=\"sk-toggleable__label fitted sk-toggleable__label-arrow\"><div><div>remainder</div></div></label><div class=\"sk-toggleable__content fitted\"><pre>[]</pre></div> </div></div><div class=\"sk-serial\"><div class=\"sk-item\"><div class=\"sk-estimator fitted sk-toggleable\"><input class=\"sk-toggleable__control sk-hidden--visually\" id=\"sk-estimator-id-10\" type=\"checkbox\" ><label for=\"sk-estimator-id-10\" class=\"sk-toggleable__label fitted sk-toggleable__label-arrow\"><div><div>passthrough</div></div></label><div class=\"sk-toggleable__content fitted\"><pre>passthrough</pre></div> </div></div></div></div></div></div></div><div class=\"sk-item\"><div class=\"sk-estimator fitted sk-toggleable\"><input class=\"sk-toggleable__control sk-hidden--visually\" id=\"sk-estimator-id-11\" type=\"checkbox\" ><label for=\"sk-estimator-id-11\" class=\"sk-toggleable__label fitted sk-toggleable__label-arrow\"><div><div>LGBMRegressor</div></div></label><div class=\"sk-toggleable__content fitted\"><pre>LGBMRegressor(max_depth=500, metric=&#x27;rmse&#x27;, random_state=42)</pre></div> </div></div></div></div></div></div></div></div></div></div></div>"
      ],
      "text/plain": [
       "GridSearchCV(cv=5,\n",
       "             estimator=Pipeline(steps=[('preprocessor',\n",
       "                                        ColumnTransformer(remainder='passthrough',\n",
       "                                                          transformers=[('ohe',\n",
       "                                                                         Pipeline(steps=[('simpleImputer_ohe',\n",
       "                                                                                          SimpleImputer(strategy='most_frequent')),\n",
       "                                                                                         ('ohe',\n",
       "                                                                                          OneHotEncoder(drop='first',\n",
       "                                                                                                        handle_unknown='ignore'))]),\n",
       "                                                                         ['vehicletype',\n",
       "                                                                          'gearbox',\n",
       "                                                                          'fueltype',\n",
       "                                                                          'brand',\n",
       "                                                                          'repaired']),\n",
       "                                                                        ('num',\n",
       "                                                                         StandardScaler(),\n",
       "                                                                         ['regi...\n",
       "                          'models__min_samples_split': [500, 1000],\n",
       "                          'preprocessor__num': [StandardScaler(),\n",
       "                                                MinMaxScaler(),\n",
       "                                                'passthrough']},\n",
       "                         {'models': [LinearRegression()],\n",
       "                          'preprocessor__num': [StandardScaler()]},\n",
       "                         {'models': [LGBMRegressor(metric='rmse',\n",
       "                                                   random_state=42)],\n",
       "                          'models__max_depth': [10, 500],\n",
       "                          'preprocessor__num': [StandardScaler()]}],\n",
       "             scoring=make_scorer(rmse, greater_is_better=False, response_method='predict'))"
      ]
     },
     "execution_count": 34,
     "metadata": {},
     "output_type": "execute_result"
    }
   ],
   "source": [
    "grid.fit(X_train, y_train)"
   ]
  },
  {
   "cell_type": "code",
   "execution_count": 35,
   "metadata": {},
   "outputs": [
    {
     "data": {
      "text/plain": [
       "1603.3550359233384"
      ]
     },
     "execution_count": 35,
     "metadata": {},
     "output_type": "execute_result"
    }
   ],
   "source": [
    "model = grid.best_estimator_.steps[1][1]\n",
    "grid.best_score_ * -1"
   ]
  },
  {
   "cell_type": "markdown",
   "metadata": {},
   "source": [
    "*Вывод:*\n",
    "\n",
    "1. Были обучены модели: DecisionTreeRegressor, LinearRegression, LGBMRegressor\n",
    "2. Для каждой модели подобраны гиперпараметры\n",
    "3. Получена модель с лучшим показанием метрики:  LGBMRegressor(max_depth=500, metric='rmse', random_state=42) с RMSE = 1603\n",
    "4. Создана метрика rmse"
   ]
  },
  {
   "cell_type": "markdown",
   "metadata": {},
   "source": [
    "## Анализ моделей"
   ]
  },
  {
   "cell_type": "code",
   "execution_count": 36,
   "metadata": {},
   "outputs": [
    {
     "name": "stdout",
     "output_type": "stream",
     "text": [
      "Рейтинг моделей:\n"
     ]
    },
    {
     "data": {
      "text/html": [
       "<div>\n",
       "<style scoped>\n",
       "    .dataframe tbody tr th:only-of-type {\n",
       "        vertical-align: middle;\n",
       "    }\n",
       "\n",
       "    .dataframe tbody tr th {\n",
       "        vertical-align: top;\n",
       "    }\n",
       "\n",
       "    .dataframe thead th {\n",
       "        text-align: right;\n",
       "    }\n",
       "</style>\n",
       "<table border=\"1\" class=\"dataframe\">\n",
       "  <thead>\n",
       "    <tr style=\"text-align: right;\">\n",
       "      <th></th>\n",
       "      <th>params</th>\n",
       "      <th>mean_test_score</th>\n",
       "      <th>rank_test_score</th>\n",
       "    </tr>\n",
       "  </thead>\n",
       "  <tbody>\n",
       "    <tr>\n",
       "      <th>20</th>\n",
       "      <td>{'models': LGBMRegressor(metric='rmse', random_state=42), 'models__max_depth': 500, 'preprocessor__num': StandardScaler()}</td>\n",
       "      <td>-1603.355036</td>\n",
       "      <td>1</td>\n",
       "    </tr>\n",
       "    <tr>\n",
       "      <th>19</th>\n",
       "      <td>{'models': LGBMRegressor(metric='rmse', random_state=42), 'models__max_depth': 10, 'preprocessor__num': StandardScaler()}</td>\n",
       "      <td>-1608.452507</td>\n",
       "      <td>2</td>\n",
       "    </tr>\n",
       "    <tr>\n",
       "      <th>17</th>\n",
       "      <td>{'models': DecisionTreeRegressor(random_state=42), 'models__max_depth': 4, 'models__min_samples_split': 1000, 'preprocessor__num': 'passthrough'}</td>\n",
       "      <td>-2401.470232</td>\n",
       "      <td>3</td>\n",
       "    </tr>\n",
       "    <tr>\n",
       "      <th>16</th>\n",
       "      <td>{'models': DecisionTreeRegressor(random_state=42), 'models__max_depth': 4, 'models__min_samples_split': 1000, 'preprocessor__num': MinMaxScaler()}</td>\n",
       "      <td>-2401.470232</td>\n",
       "      <td>3</td>\n",
       "    </tr>\n",
       "    <tr>\n",
       "      <th>15</th>\n",
       "      <td>{'models': DecisionTreeRegressor(random_state=42), 'models__max_depth': 4, 'models__min_samples_split': 1000, 'preprocessor__num': StandardScaler()}</td>\n",
       "      <td>-2401.470232</td>\n",
       "      <td>3</td>\n",
       "    </tr>\n",
       "    <tr>\n",
       "      <th>14</th>\n",
       "      <td>{'models': DecisionTreeRegressor(random_state=42), 'models__max_depth': 4, 'models__min_samples_split': 500, 'preprocessor__num': 'passthrough'}</td>\n",
       "      <td>-2401.470232</td>\n",
       "      <td>3</td>\n",
       "    </tr>\n",
       "    <tr>\n",
       "      <th>13</th>\n",
       "      <td>{'models': DecisionTreeRegressor(random_state=42), 'models__max_depth': 4, 'models__min_samples_split': 500, 'preprocessor__num': MinMaxScaler()}</td>\n",
       "      <td>-2401.470232</td>\n",
       "      <td>3</td>\n",
       "    </tr>\n",
       "    <tr>\n",
       "      <th>12</th>\n",
       "      <td>{'models': DecisionTreeRegressor(random_state=42), 'models__max_depth': 4, 'models__min_samples_split': 500, 'preprocessor__num': StandardScaler()}</td>\n",
       "      <td>-2401.470232</td>\n",
       "      <td>3</td>\n",
       "    </tr>\n",
       "    <tr>\n",
       "      <th>18</th>\n",
       "      <td>{'models': LinearRegression(), 'preprocessor__num': StandardScaler()}</td>\n",
       "      <td>-2610.765190</td>\n",
       "      <td>9</td>\n",
       "    </tr>\n",
       "    <tr>\n",
       "      <th>11</th>\n",
       "      <td>{'models': DecisionTreeRegressor(random_state=42), 'models__max_depth': 3, 'models__min_samples_split': 1000, 'preprocessor__num': 'passthrough'}</td>\n",
       "      <td>-2622.951245</td>\n",
       "      <td>10</td>\n",
       "    </tr>\n",
       "  </tbody>\n",
       "</table>\n",
       "</div>"
      ],
      "text/plain": [
       "                                                                                                                                                  params  \\\n",
       "20                            {'models': LGBMRegressor(metric='rmse', random_state=42), 'models__max_depth': 500, 'preprocessor__num': StandardScaler()}   \n",
       "19                             {'models': LGBMRegressor(metric='rmse', random_state=42), 'models__max_depth': 10, 'preprocessor__num': StandardScaler()}   \n",
       "17     {'models': DecisionTreeRegressor(random_state=42), 'models__max_depth': 4, 'models__min_samples_split': 1000, 'preprocessor__num': 'passthrough'}   \n",
       "16    {'models': DecisionTreeRegressor(random_state=42), 'models__max_depth': 4, 'models__min_samples_split': 1000, 'preprocessor__num': MinMaxScaler()}   \n",
       "15  {'models': DecisionTreeRegressor(random_state=42), 'models__max_depth': 4, 'models__min_samples_split': 1000, 'preprocessor__num': StandardScaler()}   \n",
       "14      {'models': DecisionTreeRegressor(random_state=42), 'models__max_depth': 4, 'models__min_samples_split': 500, 'preprocessor__num': 'passthrough'}   \n",
       "13     {'models': DecisionTreeRegressor(random_state=42), 'models__max_depth': 4, 'models__min_samples_split': 500, 'preprocessor__num': MinMaxScaler()}   \n",
       "12   {'models': DecisionTreeRegressor(random_state=42), 'models__max_depth': 4, 'models__min_samples_split': 500, 'preprocessor__num': StandardScaler()}   \n",
       "18                                                                                 {'models': LinearRegression(), 'preprocessor__num': StandardScaler()}   \n",
       "11     {'models': DecisionTreeRegressor(random_state=42), 'models__max_depth': 3, 'models__min_samples_split': 1000, 'preprocessor__num': 'passthrough'}   \n",
       "\n",
       "    mean_test_score  rank_test_score  \n",
       "20     -1603.355036                1  \n",
       "19     -1608.452507                2  \n",
       "17     -2401.470232                3  \n",
       "16     -2401.470232                3  \n",
       "15     -2401.470232                3  \n",
       "14     -2401.470232                3  \n",
       "13     -2401.470232                3  \n",
       "12     -2401.470232                3  \n",
       "18     -2610.765190                9  \n",
       "11     -2622.951245               10  "
      ]
     },
     "metadata": {},
     "output_type": "display_data"
    }
   ],
   "source": [
    "results = grid.cv_results_\n",
    "results_df = pd.DataFrame(results)\n",
    "\n",
    "ranking_columns = ['params', 'mean_test_score', 'rank_test_score']\n",
    "ranking_df = results_df[ranking_columns].sort_values(by='rank_test_score')\n",
    "\n",
    "print(\"Рейтинг моделей:\")\n",
    "display(ranking_df.head(10))"
   ]
  },
  {
   "cell_type": "markdown",
   "metadata": {},
   "source": [
    "Лучшая модель -  **LGBMRegressor**(metric='rmse', random_state=42), 'models__max_depth': 500, 'preprocessor__num': StandardScaler()} с **RMSE** = 1603\n",
    "\n",
    "На втором месте - models': **DecisionTreeRegressor**(random_state=42), 'models__max_depth': 4, 'models__min_samples_split': 1000, 'preprocessor__num': 'passthrough' с **RMSE** = 2401"
   ]
  },
  {
   "cell_type": "markdown",
   "metadata": {},
   "source": [
    "Нужно узнать время обучения и время предсказания"
   ]
  },
  {
   "cell_type": "code",
   "execution_count": 37,
   "metadata": {},
   "outputs": [],
   "source": [
    "tree = DecisionTreeRegressor()"
   ]
  },
  {
   "cell_type": "code",
   "execution_count": 38,
   "metadata": {},
   "outputs": [],
   "source": [
    "X_train_prepared = data_preprocessor.fit_transform(X_train)\n",
    "X_test_prepared = data_preprocessor.transform(X_test)"
   ]
  },
  {
   "cell_type": "code",
   "execution_count": 39,
   "metadata": {},
   "outputs": [
    {
     "name": "stderr",
     "output_type": "stream",
     "text": [
      "/opt/conda/lib/python3.9/site-packages/sklearn/utils/deprecation.py:151: FutureWarning:\n",
      "\n",
      "'force_all_finite' was renamed to 'ensure_all_finite' in 1.6 and will be removed in 1.8.\n",
      "\n"
     ]
    },
    {
     "name": "stdout",
     "output_type": "stream",
     "text": [
      "CPU times: user 39.2 s, sys: 249 ms, total: 39.5 s\n",
      "Wall time: 39.6 s\n"
     ]
    },
    {
     "data": {
      "text/html": [
       "<style>#sk-container-id-2 {\n",
       "  /* Definition of color scheme common for light and dark mode */\n",
       "  --sklearn-color-text: #000;\n",
       "  --sklearn-color-text-muted: #666;\n",
       "  --sklearn-color-line: gray;\n",
       "  /* Definition of color scheme for unfitted estimators */\n",
       "  --sklearn-color-unfitted-level-0: #fff5e6;\n",
       "  --sklearn-color-unfitted-level-1: #f6e4d2;\n",
       "  --sklearn-color-unfitted-level-2: #ffe0b3;\n",
       "  --sklearn-color-unfitted-level-3: chocolate;\n",
       "  /* Definition of color scheme for fitted estimators */\n",
       "  --sklearn-color-fitted-level-0: #f0f8ff;\n",
       "  --sklearn-color-fitted-level-1: #d4ebff;\n",
       "  --sklearn-color-fitted-level-2: #b3dbfd;\n",
       "  --sklearn-color-fitted-level-3: cornflowerblue;\n",
       "\n",
       "  /* Specific color for light theme */\n",
       "  --sklearn-color-text-on-default-background: var(--sg-text-color, var(--theme-code-foreground, var(--jp-content-font-color1, black)));\n",
       "  --sklearn-color-background: var(--sg-background-color, var(--theme-background, var(--jp-layout-color0, white)));\n",
       "  --sklearn-color-border-box: var(--sg-text-color, var(--theme-code-foreground, var(--jp-content-font-color1, black)));\n",
       "  --sklearn-color-icon: #696969;\n",
       "\n",
       "  @media (prefers-color-scheme: dark) {\n",
       "    /* Redefinition of color scheme for dark theme */\n",
       "    --sklearn-color-text-on-default-background: var(--sg-text-color, var(--theme-code-foreground, var(--jp-content-font-color1, white)));\n",
       "    --sklearn-color-background: var(--sg-background-color, var(--theme-background, var(--jp-layout-color0, #111)));\n",
       "    --sklearn-color-border-box: var(--sg-text-color, var(--theme-code-foreground, var(--jp-content-font-color1, white)));\n",
       "    --sklearn-color-icon: #878787;\n",
       "  }\n",
       "}\n",
       "\n",
       "#sk-container-id-2 {\n",
       "  color: var(--sklearn-color-text);\n",
       "}\n",
       "\n",
       "#sk-container-id-2 pre {\n",
       "  padding: 0;\n",
       "}\n",
       "\n",
       "#sk-container-id-2 input.sk-hidden--visually {\n",
       "  border: 0;\n",
       "  clip: rect(1px 1px 1px 1px);\n",
       "  clip: rect(1px, 1px, 1px, 1px);\n",
       "  height: 1px;\n",
       "  margin: -1px;\n",
       "  overflow: hidden;\n",
       "  padding: 0;\n",
       "  position: absolute;\n",
       "  width: 1px;\n",
       "}\n",
       "\n",
       "#sk-container-id-2 div.sk-dashed-wrapped {\n",
       "  border: 1px dashed var(--sklearn-color-line);\n",
       "  margin: 0 0.4em 0.5em 0.4em;\n",
       "  box-sizing: border-box;\n",
       "  padding-bottom: 0.4em;\n",
       "  background-color: var(--sklearn-color-background);\n",
       "}\n",
       "\n",
       "#sk-container-id-2 div.sk-container {\n",
       "  /* jupyter's `normalize.less` sets `[hidden] { display: none; }`\n",
       "     but bootstrap.min.css set `[hidden] { display: none !important; }`\n",
       "     so we also need the `!important` here to be able to override the\n",
       "     default hidden behavior on the sphinx rendered scikit-learn.org.\n",
       "     See: https://github.com/scikit-learn/scikit-learn/issues/21755 */\n",
       "  display: inline-block !important;\n",
       "  position: relative;\n",
       "}\n",
       "\n",
       "#sk-container-id-2 div.sk-text-repr-fallback {\n",
       "  display: none;\n",
       "}\n",
       "\n",
       "div.sk-parallel-item,\n",
       "div.sk-serial,\n",
       "div.sk-item {\n",
       "  /* draw centered vertical line to link estimators */\n",
       "  background-image: linear-gradient(var(--sklearn-color-text-on-default-background), var(--sklearn-color-text-on-default-background));\n",
       "  background-size: 2px 100%;\n",
       "  background-repeat: no-repeat;\n",
       "  background-position: center center;\n",
       "}\n",
       "\n",
       "/* Parallel-specific style estimator block */\n",
       "\n",
       "#sk-container-id-2 div.sk-parallel-item::after {\n",
       "  content: \"\";\n",
       "  width: 100%;\n",
       "  border-bottom: 2px solid var(--sklearn-color-text-on-default-background);\n",
       "  flex-grow: 1;\n",
       "}\n",
       "\n",
       "#sk-container-id-2 div.sk-parallel {\n",
       "  display: flex;\n",
       "  align-items: stretch;\n",
       "  justify-content: center;\n",
       "  background-color: var(--sklearn-color-background);\n",
       "  position: relative;\n",
       "}\n",
       "\n",
       "#sk-container-id-2 div.sk-parallel-item {\n",
       "  display: flex;\n",
       "  flex-direction: column;\n",
       "}\n",
       "\n",
       "#sk-container-id-2 div.sk-parallel-item:first-child::after {\n",
       "  align-self: flex-end;\n",
       "  width: 50%;\n",
       "}\n",
       "\n",
       "#sk-container-id-2 div.sk-parallel-item:last-child::after {\n",
       "  align-self: flex-start;\n",
       "  width: 50%;\n",
       "}\n",
       "\n",
       "#sk-container-id-2 div.sk-parallel-item:only-child::after {\n",
       "  width: 0;\n",
       "}\n",
       "\n",
       "/* Serial-specific style estimator block */\n",
       "\n",
       "#sk-container-id-2 div.sk-serial {\n",
       "  display: flex;\n",
       "  flex-direction: column;\n",
       "  align-items: center;\n",
       "  background-color: var(--sklearn-color-background);\n",
       "  padding-right: 1em;\n",
       "  padding-left: 1em;\n",
       "}\n",
       "\n",
       "\n",
       "/* Toggleable style: style used for estimator/Pipeline/ColumnTransformer box that is\n",
       "clickable and can be expanded/collapsed.\n",
       "- Pipeline and ColumnTransformer use this feature and define the default style\n",
       "- Estimators will overwrite some part of the style using the `sk-estimator` class\n",
       "*/\n",
       "\n",
       "/* Pipeline and ColumnTransformer style (default) */\n",
       "\n",
       "#sk-container-id-2 div.sk-toggleable {\n",
       "  /* Default theme specific background. It is overwritten whether we have a\n",
       "  specific estimator or a Pipeline/ColumnTransformer */\n",
       "  background-color: var(--sklearn-color-background);\n",
       "}\n",
       "\n",
       "/* Toggleable label */\n",
       "#sk-container-id-2 label.sk-toggleable__label {\n",
       "  cursor: pointer;\n",
       "  display: flex;\n",
       "  width: 100%;\n",
       "  margin-bottom: 0;\n",
       "  padding: 0.5em;\n",
       "  box-sizing: border-box;\n",
       "  text-align: center;\n",
       "  align-items: start;\n",
       "  justify-content: space-between;\n",
       "  gap: 0.5em;\n",
       "}\n",
       "\n",
       "#sk-container-id-2 label.sk-toggleable__label .caption {\n",
       "  font-size: 0.6rem;\n",
       "  font-weight: lighter;\n",
       "  color: var(--sklearn-color-text-muted);\n",
       "}\n",
       "\n",
       "#sk-container-id-2 label.sk-toggleable__label-arrow:before {\n",
       "  /* Arrow on the left of the label */\n",
       "  content: \"▸\";\n",
       "  float: left;\n",
       "  margin-right: 0.25em;\n",
       "  color: var(--sklearn-color-icon);\n",
       "}\n",
       "\n",
       "#sk-container-id-2 label.sk-toggleable__label-arrow:hover:before {\n",
       "  color: var(--sklearn-color-text);\n",
       "}\n",
       "\n",
       "/* Toggleable content - dropdown */\n",
       "\n",
       "#sk-container-id-2 div.sk-toggleable__content {\n",
       "  max-height: 0;\n",
       "  max-width: 0;\n",
       "  overflow: hidden;\n",
       "  text-align: left;\n",
       "  /* unfitted */\n",
       "  background-color: var(--sklearn-color-unfitted-level-0);\n",
       "}\n",
       "\n",
       "#sk-container-id-2 div.sk-toggleable__content.fitted {\n",
       "  /* fitted */\n",
       "  background-color: var(--sklearn-color-fitted-level-0);\n",
       "}\n",
       "\n",
       "#sk-container-id-2 div.sk-toggleable__content pre {\n",
       "  margin: 0.2em;\n",
       "  border-radius: 0.25em;\n",
       "  color: var(--sklearn-color-text);\n",
       "  /* unfitted */\n",
       "  background-color: var(--sklearn-color-unfitted-level-0);\n",
       "}\n",
       "\n",
       "#sk-container-id-2 div.sk-toggleable__content.fitted pre {\n",
       "  /* unfitted */\n",
       "  background-color: var(--sklearn-color-fitted-level-0);\n",
       "}\n",
       "\n",
       "#sk-container-id-2 input.sk-toggleable__control:checked~div.sk-toggleable__content {\n",
       "  /* Expand drop-down */\n",
       "  max-height: 200px;\n",
       "  max-width: 100%;\n",
       "  overflow: auto;\n",
       "}\n",
       "\n",
       "#sk-container-id-2 input.sk-toggleable__control:checked~label.sk-toggleable__label-arrow:before {\n",
       "  content: \"▾\";\n",
       "}\n",
       "\n",
       "/* Pipeline/ColumnTransformer-specific style */\n",
       "\n",
       "#sk-container-id-2 div.sk-label input.sk-toggleable__control:checked~label.sk-toggleable__label {\n",
       "  color: var(--sklearn-color-text);\n",
       "  background-color: var(--sklearn-color-unfitted-level-2);\n",
       "}\n",
       "\n",
       "#sk-container-id-2 div.sk-label.fitted input.sk-toggleable__control:checked~label.sk-toggleable__label {\n",
       "  background-color: var(--sklearn-color-fitted-level-2);\n",
       "}\n",
       "\n",
       "/* Estimator-specific style */\n",
       "\n",
       "/* Colorize estimator box */\n",
       "#sk-container-id-2 div.sk-estimator input.sk-toggleable__control:checked~label.sk-toggleable__label {\n",
       "  /* unfitted */\n",
       "  background-color: var(--sklearn-color-unfitted-level-2);\n",
       "}\n",
       "\n",
       "#sk-container-id-2 div.sk-estimator.fitted input.sk-toggleable__control:checked~label.sk-toggleable__label {\n",
       "  /* fitted */\n",
       "  background-color: var(--sklearn-color-fitted-level-2);\n",
       "}\n",
       "\n",
       "#sk-container-id-2 div.sk-label label.sk-toggleable__label,\n",
       "#sk-container-id-2 div.sk-label label {\n",
       "  /* The background is the default theme color */\n",
       "  color: var(--sklearn-color-text-on-default-background);\n",
       "}\n",
       "\n",
       "/* On hover, darken the color of the background */\n",
       "#sk-container-id-2 div.sk-label:hover label.sk-toggleable__label {\n",
       "  color: var(--sklearn-color-text);\n",
       "  background-color: var(--sklearn-color-unfitted-level-2);\n",
       "}\n",
       "\n",
       "/* Label box, darken color on hover, fitted */\n",
       "#sk-container-id-2 div.sk-label.fitted:hover label.sk-toggleable__label.fitted {\n",
       "  color: var(--sklearn-color-text);\n",
       "  background-color: var(--sklearn-color-fitted-level-2);\n",
       "}\n",
       "\n",
       "/* Estimator label */\n",
       "\n",
       "#sk-container-id-2 div.sk-label label {\n",
       "  font-family: monospace;\n",
       "  font-weight: bold;\n",
       "  display: inline-block;\n",
       "  line-height: 1.2em;\n",
       "}\n",
       "\n",
       "#sk-container-id-2 div.sk-label-container {\n",
       "  text-align: center;\n",
       "}\n",
       "\n",
       "/* Estimator-specific */\n",
       "#sk-container-id-2 div.sk-estimator {\n",
       "  font-family: monospace;\n",
       "  border: 1px dotted var(--sklearn-color-border-box);\n",
       "  border-radius: 0.25em;\n",
       "  box-sizing: border-box;\n",
       "  margin-bottom: 0.5em;\n",
       "  /* unfitted */\n",
       "  background-color: var(--sklearn-color-unfitted-level-0);\n",
       "}\n",
       "\n",
       "#sk-container-id-2 div.sk-estimator.fitted {\n",
       "  /* fitted */\n",
       "  background-color: var(--sklearn-color-fitted-level-0);\n",
       "}\n",
       "\n",
       "/* on hover */\n",
       "#sk-container-id-2 div.sk-estimator:hover {\n",
       "  /* unfitted */\n",
       "  background-color: var(--sklearn-color-unfitted-level-2);\n",
       "}\n",
       "\n",
       "#sk-container-id-2 div.sk-estimator.fitted:hover {\n",
       "  /* fitted */\n",
       "  background-color: var(--sklearn-color-fitted-level-2);\n",
       "}\n",
       "\n",
       "/* Specification for estimator info (e.g. \"i\" and \"?\") */\n",
       "\n",
       "/* Common style for \"i\" and \"?\" */\n",
       "\n",
       ".sk-estimator-doc-link,\n",
       "a:link.sk-estimator-doc-link,\n",
       "a:visited.sk-estimator-doc-link {\n",
       "  float: right;\n",
       "  font-size: smaller;\n",
       "  line-height: 1em;\n",
       "  font-family: monospace;\n",
       "  background-color: var(--sklearn-color-background);\n",
       "  border-radius: 1em;\n",
       "  height: 1em;\n",
       "  width: 1em;\n",
       "  text-decoration: none !important;\n",
       "  margin-left: 0.5em;\n",
       "  text-align: center;\n",
       "  /* unfitted */\n",
       "  border: var(--sklearn-color-unfitted-level-1) 1pt solid;\n",
       "  color: var(--sklearn-color-unfitted-level-1);\n",
       "}\n",
       "\n",
       ".sk-estimator-doc-link.fitted,\n",
       "a:link.sk-estimator-doc-link.fitted,\n",
       "a:visited.sk-estimator-doc-link.fitted {\n",
       "  /* fitted */\n",
       "  border: var(--sklearn-color-fitted-level-1) 1pt solid;\n",
       "  color: var(--sklearn-color-fitted-level-1);\n",
       "}\n",
       "\n",
       "/* On hover */\n",
       "div.sk-estimator:hover .sk-estimator-doc-link:hover,\n",
       ".sk-estimator-doc-link:hover,\n",
       "div.sk-label-container:hover .sk-estimator-doc-link:hover,\n",
       ".sk-estimator-doc-link:hover {\n",
       "  /* unfitted */\n",
       "  background-color: var(--sklearn-color-unfitted-level-3);\n",
       "  color: var(--sklearn-color-background);\n",
       "  text-decoration: none;\n",
       "}\n",
       "\n",
       "div.sk-estimator.fitted:hover .sk-estimator-doc-link.fitted:hover,\n",
       ".sk-estimator-doc-link.fitted:hover,\n",
       "div.sk-label-container:hover .sk-estimator-doc-link.fitted:hover,\n",
       ".sk-estimator-doc-link.fitted:hover {\n",
       "  /* fitted */\n",
       "  background-color: var(--sklearn-color-fitted-level-3);\n",
       "  color: var(--sklearn-color-background);\n",
       "  text-decoration: none;\n",
       "}\n",
       "\n",
       "/* Span, style for the box shown on hovering the info icon */\n",
       ".sk-estimator-doc-link span {\n",
       "  display: none;\n",
       "  z-index: 9999;\n",
       "  position: relative;\n",
       "  font-weight: normal;\n",
       "  right: .2ex;\n",
       "  padding: .5ex;\n",
       "  margin: .5ex;\n",
       "  width: min-content;\n",
       "  min-width: 20ex;\n",
       "  max-width: 50ex;\n",
       "  color: var(--sklearn-color-text);\n",
       "  box-shadow: 2pt 2pt 4pt #999;\n",
       "  /* unfitted */\n",
       "  background: var(--sklearn-color-unfitted-level-0);\n",
       "  border: .5pt solid var(--sklearn-color-unfitted-level-3);\n",
       "}\n",
       "\n",
       ".sk-estimator-doc-link.fitted span {\n",
       "  /* fitted */\n",
       "  background: var(--sklearn-color-fitted-level-0);\n",
       "  border: var(--sklearn-color-fitted-level-3);\n",
       "}\n",
       "\n",
       ".sk-estimator-doc-link:hover span {\n",
       "  display: block;\n",
       "}\n",
       "\n",
       "/* \"?\"-specific style due to the `<a>` HTML tag */\n",
       "\n",
       "#sk-container-id-2 a.estimator_doc_link {\n",
       "  float: right;\n",
       "  font-size: 1rem;\n",
       "  line-height: 1em;\n",
       "  font-family: monospace;\n",
       "  background-color: var(--sklearn-color-background);\n",
       "  border-radius: 1rem;\n",
       "  height: 1rem;\n",
       "  width: 1rem;\n",
       "  text-decoration: none;\n",
       "  /* unfitted */\n",
       "  color: var(--sklearn-color-unfitted-level-1);\n",
       "  border: var(--sklearn-color-unfitted-level-1) 1pt solid;\n",
       "}\n",
       "\n",
       "#sk-container-id-2 a.estimator_doc_link.fitted {\n",
       "  /* fitted */\n",
       "  border: var(--sklearn-color-fitted-level-1) 1pt solid;\n",
       "  color: var(--sklearn-color-fitted-level-1);\n",
       "}\n",
       "\n",
       "/* On hover */\n",
       "#sk-container-id-2 a.estimator_doc_link:hover {\n",
       "  /* unfitted */\n",
       "  background-color: var(--sklearn-color-unfitted-level-3);\n",
       "  color: var(--sklearn-color-background);\n",
       "  text-decoration: none;\n",
       "}\n",
       "\n",
       "#sk-container-id-2 a.estimator_doc_link.fitted:hover {\n",
       "  /* fitted */\n",
       "  background-color: var(--sklearn-color-fitted-level-3);\n",
       "}\n",
       "</style><div id=\"sk-container-id-2\" class=\"sk-top-container\"><div class=\"sk-text-repr-fallback\"><pre>LGBMRegressor(max_depth=500, metric=&#x27;rmse&#x27;, random_state=42)</pre><b>In a Jupyter environment, please rerun this cell to show the HTML representation or trust the notebook. <br />On GitHub, the HTML representation is unable to render, please try loading this page with nbviewer.org.</b></div><div class=\"sk-container\" hidden><div class=\"sk-item\"><div class=\"sk-estimator fitted sk-toggleable\"><input class=\"sk-toggleable__control sk-hidden--visually\" id=\"sk-estimator-id-12\" type=\"checkbox\" checked><label for=\"sk-estimator-id-12\" class=\"sk-toggleable__label fitted sk-toggleable__label-arrow\"><div><div>LGBMRegressor</div></div><div><span class=\"sk-estimator-doc-link fitted\">i<span>Fitted</span></span></div></label><div class=\"sk-toggleable__content fitted\"><pre>LGBMRegressor(max_depth=500, metric=&#x27;rmse&#x27;, random_state=42)</pre></div> </div></div></div></div>"
      ],
      "text/plain": [
       "LGBMRegressor(max_depth=500, metric='rmse', random_state=42)"
      ]
     },
     "execution_count": 39,
     "metadata": {},
     "output_type": "execute_result"
    }
   ],
   "source": [
    "%%time\n",
    "model.fit(X_train_prepared, y_train)"
   ]
  },
  {
   "cell_type": "code",
   "execution_count": 40,
   "metadata": {},
   "outputs": [
    {
     "name": "stdout",
     "output_type": "stream",
     "text": [
      "CPU times: user 46.7 s, sys: 0 ns, total: 46.7 s\n",
      "Wall time: 47.3 s\n"
     ]
    },
    {
     "data": {
      "text/html": [
       "<style>#sk-container-id-3 {\n",
       "  /* Definition of color scheme common for light and dark mode */\n",
       "  --sklearn-color-text: #000;\n",
       "  --sklearn-color-text-muted: #666;\n",
       "  --sklearn-color-line: gray;\n",
       "  /* Definition of color scheme for unfitted estimators */\n",
       "  --sklearn-color-unfitted-level-0: #fff5e6;\n",
       "  --sklearn-color-unfitted-level-1: #f6e4d2;\n",
       "  --sklearn-color-unfitted-level-2: #ffe0b3;\n",
       "  --sklearn-color-unfitted-level-3: chocolate;\n",
       "  /* Definition of color scheme for fitted estimators */\n",
       "  --sklearn-color-fitted-level-0: #f0f8ff;\n",
       "  --sklearn-color-fitted-level-1: #d4ebff;\n",
       "  --sklearn-color-fitted-level-2: #b3dbfd;\n",
       "  --sklearn-color-fitted-level-3: cornflowerblue;\n",
       "\n",
       "  /* Specific color for light theme */\n",
       "  --sklearn-color-text-on-default-background: var(--sg-text-color, var(--theme-code-foreground, var(--jp-content-font-color1, black)));\n",
       "  --sklearn-color-background: var(--sg-background-color, var(--theme-background, var(--jp-layout-color0, white)));\n",
       "  --sklearn-color-border-box: var(--sg-text-color, var(--theme-code-foreground, var(--jp-content-font-color1, black)));\n",
       "  --sklearn-color-icon: #696969;\n",
       "\n",
       "  @media (prefers-color-scheme: dark) {\n",
       "    /* Redefinition of color scheme for dark theme */\n",
       "    --sklearn-color-text-on-default-background: var(--sg-text-color, var(--theme-code-foreground, var(--jp-content-font-color1, white)));\n",
       "    --sklearn-color-background: var(--sg-background-color, var(--theme-background, var(--jp-layout-color0, #111)));\n",
       "    --sklearn-color-border-box: var(--sg-text-color, var(--theme-code-foreground, var(--jp-content-font-color1, white)));\n",
       "    --sklearn-color-icon: #878787;\n",
       "  }\n",
       "}\n",
       "\n",
       "#sk-container-id-3 {\n",
       "  color: var(--sklearn-color-text);\n",
       "}\n",
       "\n",
       "#sk-container-id-3 pre {\n",
       "  padding: 0;\n",
       "}\n",
       "\n",
       "#sk-container-id-3 input.sk-hidden--visually {\n",
       "  border: 0;\n",
       "  clip: rect(1px 1px 1px 1px);\n",
       "  clip: rect(1px, 1px, 1px, 1px);\n",
       "  height: 1px;\n",
       "  margin: -1px;\n",
       "  overflow: hidden;\n",
       "  padding: 0;\n",
       "  position: absolute;\n",
       "  width: 1px;\n",
       "}\n",
       "\n",
       "#sk-container-id-3 div.sk-dashed-wrapped {\n",
       "  border: 1px dashed var(--sklearn-color-line);\n",
       "  margin: 0 0.4em 0.5em 0.4em;\n",
       "  box-sizing: border-box;\n",
       "  padding-bottom: 0.4em;\n",
       "  background-color: var(--sklearn-color-background);\n",
       "}\n",
       "\n",
       "#sk-container-id-3 div.sk-container {\n",
       "  /* jupyter's `normalize.less` sets `[hidden] { display: none; }`\n",
       "     but bootstrap.min.css set `[hidden] { display: none !important; }`\n",
       "     so we also need the `!important` here to be able to override the\n",
       "     default hidden behavior on the sphinx rendered scikit-learn.org.\n",
       "     See: https://github.com/scikit-learn/scikit-learn/issues/21755 */\n",
       "  display: inline-block !important;\n",
       "  position: relative;\n",
       "}\n",
       "\n",
       "#sk-container-id-3 div.sk-text-repr-fallback {\n",
       "  display: none;\n",
       "}\n",
       "\n",
       "div.sk-parallel-item,\n",
       "div.sk-serial,\n",
       "div.sk-item {\n",
       "  /* draw centered vertical line to link estimators */\n",
       "  background-image: linear-gradient(var(--sklearn-color-text-on-default-background), var(--sklearn-color-text-on-default-background));\n",
       "  background-size: 2px 100%;\n",
       "  background-repeat: no-repeat;\n",
       "  background-position: center center;\n",
       "}\n",
       "\n",
       "/* Parallel-specific style estimator block */\n",
       "\n",
       "#sk-container-id-3 div.sk-parallel-item::after {\n",
       "  content: \"\";\n",
       "  width: 100%;\n",
       "  border-bottom: 2px solid var(--sklearn-color-text-on-default-background);\n",
       "  flex-grow: 1;\n",
       "}\n",
       "\n",
       "#sk-container-id-3 div.sk-parallel {\n",
       "  display: flex;\n",
       "  align-items: stretch;\n",
       "  justify-content: center;\n",
       "  background-color: var(--sklearn-color-background);\n",
       "  position: relative;\n",
       "}\n",
       "\n",
       "#sk-container-id-3 div.sk-parallel-item {\n",
       "  display: flex;\n",
       "  flex-direction: column;\n",
       "}\n",
       "\n",
       "#sk-container-id-3 div.sk-parallel-item:first-child::after {\n",
       "  align-self: flex-end;\n",
       "  width: 50%;\n",
       "}\n",
       "\n",
       "#sk-container-id-3 div.sk-parallel-item:last-child::after {\n",
       "  align-self: flex-start;\n",
       "  width: 50%;\n",
       "}\n",
       "\n",
       "#sk-container-id-3 div.sk-parallel-item:only-child::after {\n",
       "  width: 0;\n",
       "}\n",
       "\n",
       "/* Serial-specific style estimator block */\n",
       "\n",
       "#sk-container-id-3 div.sk-serial {\n",
       "  display: flex;\n",
       "  flex-direction: column;\n",
       "  align-items: center;\n",
       "  background-color: var(--sklearn-color-background);\n",
       "  padding-right: 1em;\n",
       "  padding-left: 1em;\n",
       "}\n",
       "\n",
       "\n",
       "/* Toggleable style: style used for estimator/Pipeline/ColumnTransformer box that is\n",
       "clickable and can be expanded/collapsed.\n",
       "- Pipeline and ColumnTransformer use this feature and define the default style\n",
       "- Estimators will overwrite some part of the style using the `sk-estimator` class\n",
       "*/\n",
       "\n",
       "/* Pipeline and ColumnTransformer style (default) */\n",
       "\n",
       "#sk-container-id-3 div.sk-toggleable {\n",
       "  /* Default theme specific background. It is overwritten whether we have a\n",
       "  specific estimator or a Pipeline/ColumnTransformer */\n",
       "  background-color: var(--sklearn-color-background);\n",
       "}\n",
       "\n",
       "/* Toggleable label */\n",
       "#sk-container-id-3 label.sk-toggleable__label {\n",
       "  cursor: pointer;\n",
       "  display: flex;\n",
       "  width: 100%;\n",
       "  margin-bottom: 0;\n",
       "  padding: 0.5em;\n",
       "  box-sizing: border-box;\n",
       "  text-align: center;\n",
       "  align-items: start;\n",
       "  justify-content: space-between;\n",
       "  gap: 0.5em;\n",
       "}\n",
       "\n",
       "#sk-container-id-3 label.sk-toggleable__label .caption {\n",
       "  font-size: 0.6rem;\n",
       "  font-weight: lighter;\n",
       "  color: var(--sklearn-color-text-muted);\n",
       "}\n",
       "\n",
       "#sk-container-id-3 label.sk-toggleable__label-arrow:before {\n",
       "  /* Arrow on the left of the label */\n",
       "  content: \"▸\";\n",
       "  float: left;\n",
       "  margin-right: 0.25em;\n",
       "  color: var(--sklearn-color-icon);\n",
       "}\n",
       "\n",
       "#sk-container-id-3 label.sk-toggleable__label-arrow:hover:before {\n",
       "  color: var(--sklearn-color-text);\n",
       "}\n",
       "\n",
       "/* Toggleable content - dropdown */\n",
       "\n",
       "#sk-container-id-3 div.sk-toggleable__content {\n",
       "  max-height: 0;\n",
       "  max-width: 0;\n",
       "  overflow: hidden;\n",
       "  text-align: left;\n",
       "  /* unfitted */\n",
       "  background-color: var(--sklearn-color-unfitted-level-0);\n",
       "}\n",
       "\n",
       "#sk-container-id-3 div.sk-toggleable__content.fitted {\n",
       "  /* fitted */\n",
       "  background-color: var(--sklearn-color-fitted-level-0);\n",
       "}\n",
       "\n",
       "#sk-container-id-3 div.sk-toggleable__content pre {\n",
       "  margin: 0.2em;\n",
       "  border-radius: 0.25em;\n",
       "  color: var(--sklearn-color-text);\n",
       "  /* unfitted */\n",
       "  background-color: var(--sklearn-color-unfitted-level-0);\n",
       "}\n",
       "\n",
       "#sk-container-id-3 div.sk-toggleable__content.fitted pre {\n",
       "  /* unfitted */\n",
       "  background-color: var(--sklearn-color-fitted-level-0);\n",
       "}\n",
       "\n",
       "#sk-container-id-3 input.sk-toggleable__control:checked~div.sk-toggleable__content {\n",
       "  /* Expand drop-down */\n",
       "  max-height: 200px;\n",
       "  max-width: 100%;\n",
       "  overflow: auto;\n",
       "}\n",
       "\n",
       "#sk-container-id-3 input.sk-toggleable__control:checked~label.sk-toggleable__label-arrow:before {\n",
       "  content: \"▾\";\n",
       "}\n",
       "\n",
       "/* Pipeline/ColumnTransformer-specific style */\n",
       "\n",
       "#sk-container-id-3 div.sk-label input.sk-toggleable__control:checked~label.sk-toggleable__label {\n",
       "  color: var(--sklearn-color-text);\n",
       "  background-color: var(--sklearn-color-unfitted-level-2);\n",
       "}\n",
       "\n",
       "#sk-container-id-3 div.sk-label.fitted input.sk-toggleable__control:checked~label.sk-toggleable__label {\n",
       "  background-color: var(--sklearn-color-fitted-level-2);\n",
       "}\n",
       "\n",
       "/* Estimator-specific style */\n",
       "\n",
       "/* Colorize estimator box */\n",
       "#sk-container-id-3 div.sk-estimator input.sk-toggleable__control:checked~label.sk-toggleable__label {\n",
       "  /* unfitted */\n",
       "  background-color: var(--sklearn-color-unfitted-level-2);\n",
       "}\n",
       "\n",
       "#sk-container-id-3 div.sk-estimator.fitted input.sk-toggleable__control:checked~label.sk-toggleable__label {\n",
       "  /* fitted */\n",
       "  background-color: var(--sklearn-color-fitted-level-2);\n",
       "}\n",
       "\n",
       "#sk-container-id-3 div.sk-label label.sk-toggleable__label,\n",
       "#sk-container-id-3 div.sk-label label {\n",
       "  /* The background is the default theme color */\n",
       "  color: var(--sklearn-color-text-on-default-background);\n",
       "}\n",
       "\n",
       "/* On hover, darken the color of the background */\n",
       "#sk-container-id-3 div.sk-label:hover label.sk-toggleable__label {\n",
       "  color: var(--sklearn-color-text);\n",
       "  background-color: var(--sklearn-color-unfitted-level-2);\n",
       "}\n",
       "\n",
       "/* Label box, darken color on hover, fitted */\n",
       "#sk-container-id-3 div.sk-label.fitted:hover label.sk-toggleable__label.fitted {\n",
       "  color: var(--sklearn-color-text);\n",
       "  background-color: var(--sklearn-color-fitted-level-2);\n",
       "}\n",
       "\n",
       "/* Estimator label */\n",
       "\n",
       "#sk-container-id-3 div.sk-label label {\n",
       "  font-family: monospace;\n",
       "  font-weight: bold;\n",
       "  display: inline-block;\n",
       "  line-height: 1.2em;\n",
       "}\n",
       "\n",
       "#sk-container-id-3 div.sk-label-container {\n",
       "  text-align: center;\n",
       "}\n",
       "\n",
       "/* Estimator-specific */\n",
       "#sk-container-id-3 div.sk-estimator {\n",
       "  font-family: monospace;\n",
       "  border: 1px dotted var(--sklearn-color-border-box);\n",
       "  border-radius: 0.25em;\n",
       "  box-sizing: border-box;\n",
       "  margin-bottom: 0.5em;\n",
       "  /* unfitted */\n",
       "  background-color: var(--sklearn-color-unfitted-level-0);\n",
       "}\n",
       "\n",
       "#sk-container-id-3 div.sk-estimator.fitted {\n",
       "  /* fitted */\n",
       "  background-color: var(--sklearn-color-fitted-level-0);\n",
       "}\n",
       "\n",
       "/* on hover */\n",
       "#sk-container-id-3 div.sk-estimator:hover {\n",
       "  /* unfitted */\n",
       "  background-color: var(--sklearn-color-unfitted-level-2);\n",
       "}\n",
       "\n",
       "#sk-container-id-3 div.sk-estimator.fitted:hover {\n",
       "  /* fitted */\n",
       "  background-color: var(--sklearn-color-fitted-level-2);\n",
       "}\n",
       "\n",
       "/* Specification for estimator info (e.g. \"i\" and \"?\") */\n",
       "\n",
       "/* Common style for \"i\" and \"?\" */\n",
       "\n",
       ".sk-estimator-doc-link,\n",
       "a:link.sk-estimator-doc-link,\n",
       "a:visited.sk-estimator-doc-link {\n",
       "  float: right;\n",
       "  font-size: smaller;\n",
       "  line-height: 1em;\n",
       "  font-family: monospace;\n",
       "  background-color: var(--sklearn-color-background);\n",
       "  border-radius: 1em;\n",
       "  height: 1em;\n",
       "  width: 1em;\n",
       "  text-decoration: none !important;\n",
       "  margin-left: 0.5em;\n",
       "  text-align: center;\n",
       "  /* unfitted */\n",
       "  border: var(--sklearn-color-unfitted-level-1) 1pt solid;\n",
       "  color: var(--sklearn-color-unfitted-level-1);\n",
       "}\n",
       "\n",
       ".sk-estimator-doc-link.fitted,\n",
       "a:link.sk-estimator-doc-link.fitted,\n",
       "a:visited.sk-estimator-doc-link.fitted {\n",
       "  /* fitted */\n",
       "  border: var(--sklearn-color-fitted-level-1) 1pt solid;\n",
       "  color: var(--sklearn-color-fitted-level-1);\n",
       "}\n",
       "\n",
       "/* On hover */\n",
       "div.sk-estimator:hover .sk-estimator-doc-link:hover,\n",
       ".sk-estimator-doc-link:hover,\n",
       "div.sk-label-container:hover .sk-estimator-doc-link:hover,\n",
       ".sk-estimator-doc-link:hover {\n",
       "  /* unfitted */\n",
       "  background-color: var(--sklearn-color-unfitted-level-3);\n",
       "  color: var(--sklearn-color-background);\n",
       "  text-decoration: none;\n",
       "}\n",
       "\n",
       "div.sk-estimator.fitted:hover .sk-estimator-doc-link.fitted:hover,\n",
       ".sk-estimator-doc-link.fitted:hover,\n",
       "div.sk-label-container:hover .sk-estimator-doc-link.fitted:hover,\n",
       ".sk-estimator-doc-link.fitted:hover {\n",
       "  /* fitted */\n",
       "  background-color: var(--sklearn-color-fitted-level-3);\n",
       "  color: var(--sklearn-color-background);\n",
       "  text-decoration: none;\n",
       "}\n",
       "\n",
       "/* Span, style for the box shown on hovering the info icon */\n",
       ".sk-estimator-doc-link span {\n",
       "  display: none;\n",
       "  z-index: 9999;\n",
       "  position: relative;\n",
       "  font-weight: normal;\n",
       "  right: .2ex;\n",
       "  padding: .5ex;\n",
       "  margin: .5ex;\n",
       "  width: min-content;\n",
       "  min-width: 20ex;\n",
       "  max-width: 50ex;\n",
       "  color: var(--sklearn-color-text);\n",
       "  box-shadow: 2pt 2pt 4pt #999;\n",
       "  /* unfitted */\n",
       "  background: var(--sklearn-color-unfitted-level-0);\n",
       "  border: .5pt solid var(--sklearn-color-unfitted-level-3);\n",
       "}\n",
       "\n",
       ".sk-estimator-doc-link.fitted span {\n",
       "  /* fitted */\n",
       "  background: var(--sklearn-color-fitted-level-0);\n",
       "  border: var(--sklearn-color-fitted-level-3);\n",
       "}\n",
       "\n",
       ".sk-estimator-doc-link:hover span {\n",
       "  display: block;\n",
       "}\n",
       "\n",
       "/* \"?\"-specific style due to the `<a>` HTML tag */\n",
       "\n",
       "#sk-container-id-3 a.estimator_doc_link {\n",
       "  float: right;\n",
       "  font-size: 1rem;\n",
       "  line-height: 1em;\n",
       "  font-family: monospace;\n",
       "  background-color: var(--sklearn-color-background);\n",
       "  border-radius: 1rem;\n",
       "  height: 1rem;\n",
       "  width: 1rem;\n",
       "  text-decoration: none;\n",
       "  /* unfitted */\n",
       "  color: var(--sklearn-color-unfitted-level-1);\n",
       "  border: var(--sklearn-color-unfitted-level-1) 1pt solid;\n",
       "}\n",
       "\n",
       "#sk-container-id-3 a.estimator_doc_link.fitted {\n",
       "  /* fitted */\n",
       "  border: var(--sklearn-color-fitted-level-1) 1pt solid;\n",
       "  color: var(--sklearn-color-fitted-level-1);\n",
       "}\n",
       "\n",
       "/* On hover */\n",
       "#sk-container-id-3 a.estimator_doc_link:hover {\n",
       "  /* unfitted */\n",
       "  background-color: var(--sklearn-color-unfitted-level-3);\n",
       "  color: var(--sklearn-color-background);\n",
       "  text-decoration: none;\n",
       "}\n",
       "\n",
       "#sk-container-id-3 a.estimator_doc_link.fitted:hover {\n",
       "  /* fitted */\n",
       "  background-color: var(--sklearn-color-fitted-level-3);\n",
       "}\n",
       "</style><div id=\"sk-container-id-3\" class=\"sk-top-container\"><div class=\"sk-text-repr-fallback\"><pre>DecisionTreeRegressor()</pre><b>In a Jupyter environment, please rerun this cell to show the HTML representation or trust the notebook. <br />On GitHub, the HTML representation is unable to render, please try loading this page with nbviewer.org.</b></div><div class=\"sk-container\" hidden><div class=\"sk-item\"><div class=\"sk-estimator fitted sk-toggleable\"><input class=\"sk-toggleable__control sk-hidden--visually\" id=\"sk-estimator-id-13\" type=\"checkbox\" checked><label for=\"sk-estimator-id-13\" class=\"sk-toggleable__label fitted sk-toggleable__label-arrow\"><div><div>DecisionTreeRegressor</div></div><div><a class=\"sk-estimator-doc-link fitted\" rel=\"noreferrer\" target=\"_blank\" href=\"https://scikit-learn.org/1.6/modules/generated/sklearn.tree.DecisionTreeRegressor.html\">?<span>Documentation for DecisionTreeRegressor</span></a><span class=\"sk-estimator-doc-link fitted\">i<span>Fitted</span></span></div></label><div class=\"sk-toggleable__content fitted\"><pre>DecisionTreeRegressor()</pre></div> </div></div></div></div>"
      ],
      "text/plain": [
       "DecisionTreeRegressor()"
      ]
     },
     "execution_count": 40,
     "metadata": {},
     "output_type": "execute_result"
    }
   ],
   "source": [
    "%%time\n",
    "tree.fit(X_train_prepared, y_train)"
   ]
  },
  {
   "cell_type": "code",
   "execution_count": 41,
   "metadata": {},
   "outputs": [
    {
     "name": "stderr",
     "output_type": "stream",
     "text": [
      "/opt/conda/lib/python3.9/site-packages/sklearn/utils/deprecation.py:151: FutureWarning:\n",
      "\n",
      "'force_all_finite' was renamed to 'ensure_all_finite' in 1.6 and will be removed in 1.8.\n",
      "\n"
     ]
    },
    {
     "name": "stdout",
     "output_type": "stream",
     "text": [
      "CPU times: user 1.57 s, sys: 0 ns, total: 1.57 s\n",
      "Wall time: 1.51 s\n"
     ]
    }
   ],
   "source": [
    "%%time\n",
    "lgb_pred = model.predict(X_train_prepared)"
   ]
  },
  {
   "cell_type": "code",
   "execution_count": 42,
   "metadata": {},
   "outputs": [
    {
     "name": "stdout",
     "output_type": "stream",
     "text": [
      "CPU times: user 131 ms, sys: 0 ns, total: 131 ms\n",
      "Wall time: 138 ms\n"
     ]
    }
   ],
   "source": [
    "%%time\n",
    "tree_pred = tree.predict(X_train_prepared)"
   ]
  },
  {
   "cell_type": "markdown",
   "metadata": {},
   "source": [
    "Лучшее время предсказний и обучения - DecisionTreeRegressor()\n",
    "\n",
    "Лучшее показание метрик (в 1.5 раза лучше) - LGBMRegressor()"
   ]
  },
  {
   "cell_type": "markdown",
   "metadata": {},
   "source": [
    "Так как качество предсказаний крайне важно и различие в показаниях метрик существенно, то выберем модель LGBMRegressor"
   ]
  },
  {
   "cell_type": "code",
   "execution_count": 43,
   "metadata": {},
   "outputs": [],
   "source": [
    "y_test_pred = model.predict(X_test_prepared)"
   ]
  },
  {
   "cell_type": "code",
   "execution_count": 44,
   "metadata": {},
   "outputs": [
    {
     "data": {
      "text/plain": [
       "1592.3125505750484"
      ]
     },
     "execution_count": 44,
     "metadata": {},
     "output_type": "execute_result"
    }
   ],
   "source": [
    "mean_squared_error(y_test, y_test_pred) ** 0.5"
   ]
  },
  {
   "cell_type": "markdown",
   "metadata": {},
   "source": [
    "Так как критерий успеха - значение метрики RMSE должно быть меньше 2500, то считаем эту модель - успешной"
   ]
  },
  {
   "cell_type": "markdown",
   "metadata": {},
   "source": [
    "*Вывод:*\n",
    "\n",
    "1. Был проведен анализ скорости обучения и предсказания\n",
    "2. После полного анализа для работы была выбрана модель LGBMRegressor()\n",
    "3. Показание метрики на тестовой выборке - 1592"
   ]
  },
  {
   "cell_type": "markdown",
   "metadata": {},
   "source": [
    "## Вывод"
   ]
  },
  {
   "cell_type": "markdown",
   "metadata": {},
   "source": [
    "*Общий вывод:*\n",
    "\n",
    "1. Был загружен датафрейм\n",
    "2. Рзамер датафрейма: 354369 строк и 16 столбцов\n",
    "3. Были удалены явные дубликаты\n",
    "4. Неявных дубликатов не было обнаружено\n",
    "5. Пропуски были обнаружены\n",
    "6. Изменен тип у признаков lastseen, datecreated и datecrawled\n",
    "7. Названия столбцов и значений были приведены к нижнему регистру\n",
    "8. Больше всего седанов\n",
    "9. Больше всего ТС с МКПП\n",
    "10. Больше всего ТС, использующих бензин\n",
    "11. Больше всего volkswagen\n",
    "12. Большинство ТС не ремонтировались (после ДТП)\n",
    "13. Ограничение цены >650\n",
    "14. Ограничение года регистрации от 1950 до 2016\n",
    "15. Ограничение мощности от 50 до 230\n",
    "16. Были удалены признаки numberofpictures, datecrawled, datecreated, lastseen, registrationmonth\n",
    "17. Создан паплайн с кодировщиком OneHotEncoder и маштабированием с помощью StandardScaler\n",
    "18. Были обучены модели: DecisionTreeRegressor, LinearRegression, LGBMRegressor\n",
    "19. Для каждой модели подобраны гиперпараметры\n",
    "20. Получена модель с лучшим показанием метрики: LGBMRegressor(max_depth=500, metric='rmse', random_state=42) с RMSE = 1603\n",
    "21. Был проведен анализ скорости обучения и предсказания\n",
    "22. После полного анализа для работы была выбрана модель LGBMRegressor()\n",
    "23. Показание метрики на тестовой выборке - 1592"
   ]
  }
 ],
 "metadata": {
  "ExecuteTimeLog": [
   {
    "duration": 364,
    "start_time": "2025-03-31T08:51:32.265Z"
   },
   {
    "duration": 3,
    "start_time": "2025-03-31T08:52:06.682Z"
   },
   {
    "duration": 3052,
    "start_time": "2025-03-31T08:52:54.184Z"
   },
   {
    "duration": 4,
    "start_time": "2025-03-31T08:56:58.192Z"
   },
   {
    "duration": 3190,
    "start_time": "2025-03-31T08:57:14.623Z"
   },
   {
    "duration": 998,
    "start_time": "2025-03-31T08:57:48.929Z"
   },
   {
    "duration": 900,
    "start_time": "2025-03-31T08:57:57.451Z"
   },
   {
    "duration": 167,
    "start_time": "2025-03-31T08:58:04.841Z"
   },
   {
    "duration": 2,
    "start_time": "2025-03-31T08:58:47.860Z"
   },
   {
    "duration": 68,
    "start_time": "2025-03-31T09:00:14.950Z"
   },
   {
    "duration": 4,
    "start_time": "2025-03-31T09:00:18.834Z"
   },
   {
    "duration": 1781,
    "start_time": "2025-03-31T09:10:47.113Z"
   },
   {
    "duration": 1809,
    "start_time": "2025-03-31T09:11:08.715Z"
   },
   {
    "duration": 176,
    "start_time": "2025-03-31T09:11:22.676Z"
   },
   {
    "duration": 15,
    "start_time": "2025-03-31T09:11:54.864Z"
   },
   {
    "duration": 416,
    "start_time": "2025-03-31T09:12:09.123Z"
   },
   {
    "duration": 5,
    "start_time": "2025-03-31T09:12:09.541Z"
   },
   {
    "duration": 903,
    "start_time": "2025-03-31T09:12:09.547Z"
   },
   {
    "duration": 164,
    "start_time": "2025-03-31T09:12:10.452Z"
   },
   {
    "duration": 6,
    "start_time": "2025-03-31T09:12:10.617Z"
   },
   {
    "duration": 2873,
    "start_time": "2025-03-31T09:12:10.625Z"
   },
   {
    "duration": 114,
    "start_time": "2025-03-31T09:12:13.507Z"
   },
   {
    "duration": 14,
    "start_time": "2025-03-31T09:12:13.623Z"
   },
   {
    "duration": 112,
    "start_time": "2025-03-31T09:12:45.432Z"
   },
   {
    "duration": 125,
    "start_time": "2025-03-31T09:12:49.575Z"
   },
   {
    "duration": 17,
    "start_time": "2025-03-31T09:17:36.062Z"
   },
   {
    "duration": 107,
    "start_time": "2025-03-31T09:18:04.249Z"
   },
   {
    "duration": 447,
    "start_time": "2025-03-31T09:18:19.064Z"
   },
   {
    "duration": 8951,
    "start_time": "2025-03-31T09:18:25.488Z"
   },
   {
    "duration": 654,
    "start_time": "2025-03-31T09:19:54.550Z"
   },
   {
    "duration": 7,
    "start_time": "2025-03-31T09:19:55.206Z"
   },
   {
    "duration": 967,
    "start_time": "2025-03-31T09:19:55.215Z"
   },
   {
    "duration": 211,
    "start_time": "2025-03-31T09:19:56.185Z"
   },
   {
    "duration": 12,
    "start_time": "2025-03-31T09:19:56.398Z"
   },
   {
    "duration": 3115,
    "start_time": "2025-03-31T09:19:56.413Z"
   },
   {
    "duration": 118,
    "start_time": "2025-03-31T09:19:59.530Z"
   },
   {
    "duration": 132,
    "start_time": "2025-03-31T09:19:59.650Z"
   },
   {
    "duration": 106,
    "start_time": "2025-03-31T09:19:59.784Z"
   },
   {
    "duration": 117,
    "start_time": "2025-03-31T09:19:59.893Z"
   },
   {
    "duration": 16,
    "start_time": "2025-03-31T09:20:00.012Z"
   },
   {
    "duration": 5924,
    "start_time": "2025-03-31T09:20:00.029Z"
   },
   {
    "duration": 2308,
    "start_time": "2025-03-31T09:20:44.713Z"
   },
   {
    "duration": 2571,
    "start_time": "2025-03-31T09:21:23.109Z"
   },
   {
    "duration": 2271,
    "start_time": "2025-03-31T09:21:31.412Z"
   },
   {
    "duration": 198,
    "start_time": "2025-03-31T09:25:32.510Z"
   },
   {
    "duration": 3851,
    "start_time": "2025-03-31T09:25:43.474Z"
   },
   {
    "duration": 3109,
    "start_time": "2025-03-31T09:25:55.699Z"
   },
   {
    "duration": 3876,
    "start_time": "2025-03-31T09:26:00.035Z"
   },
   {
    "duration": 96,
    "start_time": "2025-03-31T09:28:41.020Z"
   },
   {
    "duration": 4,
    "start_time": "2025-03-31T09:29:37.466Z"
   },
   {
    "duration": 318,
    "start_time": "2025-03-31T09:37:03.969Z"
   },
   {
    "duration": 307,
    "start_time": "2025-03-31T09:37:08.552Z"
   },
   {
    "duration": 349,
    "start_time": "2025-03-31T09:37:12.616Z"
   },
   {
    "duration": 525,
    "start_time": "2025-03-31T09:37:18.620Z"
   },
   {
    "duration": 369,
    "start_time": "2025-03-31T09:38:07.814Z"
   },
   {
    "duration": 333,
    "start_time": "2025-03-31T09:38:13.337Z"
   },
   {
    "duration": 356,
    "start_time": "2025-03-31T09:38:17.619Z"
   },
   {
    "duration": 20,
    "start_time": "2025-03-31T09:42:43.090Z"
   },
   {
    "duration": 134,
    "start_time": "2025-03-31T09:42:54.029Z"
   },
   {
    "duration": 88,
    "start_time": "2025-03-31T09:43:04.086Z"
   },
   {
    "duration": 321,
    "start_time": "2025-03-31T09:43:38.659Z"
   },
   {
    "duration": 308,
    "start_time": "2025-03-31T09:43:57.260Z"
   },
   {
    "duration": 356,
    "start_time": "2025-03-31T09:44:04.229Z"
   },
   {
    "duration": 736,
    "start_time": "2025-03-31T09:45:45.096Z"
   },
   {
    "duration": 7,
    "start_time": "2025-03-31T09:45:45.834Z"
   },
   {
    "duration": 1019,
    "start_time": "2025-03-31T09:45:45.843Z"
   },
   {
    "duration": 193,
    "start_time": "2025-03-31T09:45:46.864Z"
   },
   {
    "duration": 4,
    "start_time": "2025-03-31T09:45:47.060Z"
   },
   {
    "duration": 3503,
    "start_time": "2025-03-31T09:45:47.065Z"
   },
   {
    "duration": 156,
    "start_time": "2025-03-31T09:45:50.570Z"
   },
   {
    "duration": 136,
    "start_time": "2025-03-31T09:45:50.731Z"
   },
   {
    "duration": 112,
    "start_time": "2025-03-31T09:45:50.869Z"
   },
   {
    "duration": 136,
    "start_time": "2025-03-31T09:45:50.983Z"
   },
   {
    "duration": 22,
    "start_time": "2025-03-31T09:45:51.120Z"
   },
   {
    "duration": 6310,
    "start_time": "2025-03-31T09:45:51.144Z"
   },
   {
    "duration": 2533,
    "start_time": "2025-03-31T09:45:57.455Z"
   },
   {
    "duration": 4521,
    "start_time": "2025-03-31T09:45:59.991Z"
   },
   {
    "duration": 98,
    "start_time": "2025-03-31T09:46:04.521Z"
   },
   {
    "duration": 121,
    "start_time": "2025-03-31T09:46:04.621Z"
   },
   {
    "duration": 73,
    "start_time": "2025-03-31T09:46:04.744Z"
   },
   {
    "duration": 374,
    "start_time": "2025-03-31T09:46:04.818Z"
   },
   {
    "duration": 371,
    "start_time": "2025-03-31T09:46:19.205Z"
   },
   {
    "duration": 61,
    "start_time": "2025-03-31T09:47:39.608Z"
   },
   {
    "duration": 66,
    "start_time": "2025-03-31T09:47:45.714Z"
   },
   {
    "duration": 520,
    "start_time": "2025-03-31T09:48:26.206Z"
   },
   {
    "duration": 496,
    "start_time": "2025-03-31T09:48:35.455Z"
   },
   {
    "duration": 728,
    "start_time": "2025-03-31T09:48:51.797Z"
   },
   {
    "duration": 11,
    "start_time": "2025-03-31T09:48:52.527Z"
   },
   {
    "duration": 1117,
    "start_time": "2025-03-31T09:48:52.539Z"
   },
   {
    "duration": 204,
    "start_time": "2025-03-31T09:48:53.658Z"
   },
   {
    "duration": 4,
    "start_time": "2025-03-31T09:48:53.864Z"
   },
   {
    "duration": 3634,
    "start_time": "2025-03-31T09:48:53.870Z"
   },
   {
    "duration": 122,
    "start_time": "2025-03-31T09:48:57.513Z"
   },
   {
    "duration": 157,
    "start_time": "2025-03-31T09:48:57.637Z"
   },
   {
    "duration": 130,
    "start_time": "2025-03-31T09:48:57.796Z"
   },
   {
    "duration": 140,
    "start_time": "2025-03-31T09:48:57.929Z"
   },
   {
    "duration": 15,
    "start_time": "2025-03-31T09:48:58.071Z"
   },
   {
    "duration": 6342,
    "start_time": "2025-03-31T09:48:58.088Z"
   },
   {
    "duration": 2441,
    "start_time": "2025-03-31T09:49:04.436Z"
   },
   {
    "duration": 4568,
    "start_time": "2025-03-31T09:49:06.879Z"
   },
   {
    "duration": 169,
    "start_time": "2025-03-31T09:49:11.449Z"
   },
   {
    "duration": 115,
    "start_time": "2025-03-31T09:49:11.628Z"
   },
   {
    "duration": 95,
    "start_time": "2025-03-31T09:49:11.747Z"
   },
   {
    "duration": 345,
    "start_time": "2025-03-31T09:49:11.844Z"
   },
   {
    "duration": 58,
    "start_time": "2025-03-31T09:49:12.190Z"
   },
   {
    "duration": 504,
    "start_time": "2025-03-31T09:49:12.250Z"
   },
   {
    "duration": 711,
    "start_time": "2025-03-31T09:49:27.083Z"
   },
   {
    "duration": 6,
    "start_time": "2025-03-31T09:49:27.796Z"
   },
   {
    "duration": 1048,
    "start_time": "2025-03-31T09:49:27.813Z"
   },
   {
    "duration": 201,
    "start_time": "2025-03-31T09:49:28.862Z"
   },
   {
    "duration": 3,
    "start_time": "2025-03-31T09:49:29.066Z"
   },
   {
    "duration": 3649,
    "start_time": "2025-03-31T09:49:29.071Z"
   },
   {
    "duration": 120,
    "start_time": "2025-03-31T09:49:32.728Z"
   },
   {
    "duration": 134,
    "start_time": "2025-03-31T09:49:32.850Z"
   },
   {
    "duration": 134,
    "start_time": "2025-03-31T09:49:32.985Z"
   },
   {
    "duration": 138,
    "start_time": "2025-03-31T09:49:33.121Z"
   },
   {
    "duration": 16,
    "start_time": "2025-03-31T09:49:33.261Z"
   },
   {
    "duration": 6572,
    "start_time": "2025-03-31T09:49:33.278Z"
   },
   {
    "duration": 2421,
    "start_time": "2025-03-31T09:49:39.856Z"
   },
   {
    "duration": 4550,
    "start_time": "2025-03-31T09:49:42.279Z"
   },
   {
    "duration": 112,
    "start_time": "2025-03-31T09:49:46.834Z"
   },
   {
    "duration": 136,
    "start_time": "2025-03-31T09:49:46.949Z"
   },
   {
    "duration": 81,
    "start_time": "2025-03-31T09:49:47.087Z"
   },
   {
    "duration": 320,
    "start_time": "2025-03-31T09:49:47.169Z"
   },
   {
    "duration": 52,
    "start_time": "2025-03-31T09:49:47.507Z"
   },
   {
    "duration": 583,
    "start_time": "2025-03-31T09:49:47.561Z"
   },
   {
    "duration": 77,
    "start_time": "2025-03-31T09:50:21.929Z"
   },
   {
    "duration": 834,
    "start_time": "2025-03-31T09:57:45.119Z"
   },
   {
    "duration": 142,
    "start_time": "2025-03-31T09:57:50.638Z"
   },
   {
    "duration": 200,
    "start_time": "2025-03-31T09:58:00.203Z"
   },
   {
    "duration": 117,
    "start_time": "2025-03-31T09:59:53.756Z"
   },
   {
    "duration": 251,
    "start_time": "2025-03-31T10:03:39.423Z"
   },
   {
    "duration": 257,
    "start_time": "2025-03-31T10:04:41.271Z"
   },
   {
    "duration": 10,
    "start_time": "2025-03-31T10:04:49.180Z"
   },
   {
    "duration": 3,
    "start_time": "2025-03-31T10:05:25.084Z"
   },
   {
    "duration": 4,
    "start_time": "2025-03-31T10:05:28.666Z"
   },
   {
    "duration": 7,
    "start_time": "2025-03-31T10:08:01.116Z"
   },
   {
    "duration": 4,
    "start_time": "2025-03-31T10:09:54.274Z"
   },
   {
    "duration": 8036,
    "start_time": "2025-03-31T10:11:19.623Z"
   },
   {
    "duration": 3511,
    "start_time": "2025-03-31T10:11:55.965Z"
   },
   {
    "duration": 1404,
    "start_time": "2025-03-31T10:11:59.478Z"
   },
   {
    "duration": 5,
    "start_time": "2025-03-31T10:12:00.884Z"
   },
   {
    "duration": 1253,
    "start_time": "2025-03-31T10:12:00.890Z"
   },
   {
    "duration": 240,
    "start_time": "2025-03-31T10:12:02.147Z"
   },
   {
    "duration": 4,
    "start_time": "2025-03-31T10:12:02.388Z"
   },
   {
    "duration": 3630,
    "start_time": "2025-03-31T10:12:02.393Z"
   },
   {
    "duration": 115,
    "start_time": "2025-03-31T10:12:06.025Z"
   },
   {
    "duration": 137,
    "start_time": "2025-03-31T10:12:06.142Z"
   },
   {
    "duration": 145,
    "start_time": "2025-03-31T10:12:06.281Z"
   },
   {
    "duration": 129,
    "start_time": "2025-03-31T10:12:06.437Z"
   },
   {
    "duration": 70,
    "start_time": "2025-03-31T10:12:06.568Z"
   },
   {
    "duration": 6495,
    "start_time": "2025-03-31T10:12:06.644Z"
   },
   {
    "duration": 2440,
    "start_time": "2025-03-31T10:12:13.142Z"
   },
   {
    "duration": 4452,
    "start_time": "2025-03-31T10:12:15.584Z"
   },
   {
    "duration": 108,
    "start_time": "2025-03-31T10:12:20.043Z"
   },
   {
    "duration": 116,
    "start_time": "2025-03-31T10:12:20.152Z"
   },
   {
    "duration": 83,
    "start_time": "2025-03-31T10:12:20.270Z"
   },
   {
    "duration": 342,
    "start_time": "2025-03-31T10:12:20.355Z"
   },
   {
    "duration": 59,
    "start_time": "2025-03-31T10:12:20.699Z"
   },
   {
    "duration": 597,
    "start_time": "2025-03-31T10:12:20.760Z"
   },
   {
    "duration": 106,
    "start_time": "2025-03-31T10:12:21.359Z"
   },
   {
    "duration": 225,
    "start_time": "2025-03-31T10:12:21.466Z"
   },
   {
    "duration": 5,
    "start_time": "2025-03-31T10:12:21.693Z"
   },
   {
    "duration": 61,
    "start_time": "2025-03-31T10:12:21.700Z"
   },
   {
    "duration": 140,
    "start_time": "2025-03-31T10:17:37.933Z"
   },
   {
    "duration": 4,
    "start_time": "2025-03-31T10:18:21.446Z"
   },
   {
    "duration": 13,
    "start_time": "2025-03-31T10:18:25.048Z"
   },
   {
    "duration": 14,
    "start_time": "2025-03-31T10:18:33.841Z"
   },
   {
    "duration": 4,
    "start_time": "2025-03-31T10:19:42.596Z"
   },
   {
    "duration": 6,
    "start_time": "2025-03-31T10:19:45.841Z"
   },
   {
    "duration": 2,
    "start_time": "2025-03-31T10:20:21.665Z"
   },
   {
    "duration": 4,
    "start_time": "2025-03-31T10:20:25.298Z"
   },
   {
    "duration": 616099,
    "start_time": "2025-03-31T10:21:22.107Z"
   },
   {
    "duration": 265,
    "start_time": "2025-03-31T10:33:24.306Z"
   },
   {
    "duration": 273,
    "start_time": "2025-03-31T10:33:33.352Z"
   },
   {
    "duration": 292,
    "start_time": "2025-03-31T10:33:49.732Z"
   },
   {
    "duration": 318,
    "start_time": "2025-03-31T10:34:23.754Z"
   },
   {
    "duration": 280,
    "start_time": "2025-03-31T10:34:29.761Z"
   },
   {
    "duration": 273,
    "start_time": "2025-03-31T10:34:57.839Z"
   },
   {
    "duration": 5,
    "start_time": "2025-03-31T10:35:11.694Z"
   },
   {
    "duration": 10,
    "start_time": "2025-03-31T10:35:41.511Z"
   },
   {
    "duration": 3,
    "start_time": "2025-03-31T10:35:45.271Z"
   },
   {
    "duration": 3796,
    "start_time": "2025-03-31T10:36:05.264Z"
   },
   {
    "duration": 1412,
    "start_time": "2025-03-31T10:36:09.063Z"
   },
   {
    "duration": 5,
    "start_time": "2025-03-31T10:36:10.477Z"
   },
   {
    "duration": 1199,
    "start_time": "2025-03-31T10:36:10.484Z"
   },
   {
    "duration": 231,
    "start_time": "2025-03-31T10:36:11.685Z"
   },
   {
    "duration": 6,
    "start_time": "2025-03-31T10:36:11.918Z"
   },
   {
    "duration": 3831,
    "start_time": "2025-03-31T10:36:11.926Z"
   },
   {
    "duration": 135,
    "start_time": "2025-03-31T10:36:15.759Z"
   },
   {
    "duration": 170,
    "start_time": "2025-03-31T10:36:15.896Z"
   },
   {
    "duration": 130,
    "start_time": "2025-03-31T10:36:16.068Z"
   },
   {
    "duration": 185,
    "start_time": "2025-03-31T10:36:16.200Z"
   },
   {
    "duration": 28,
    "start_time": "2025-03-31T10:36:16.387Z"
   },
   {
    "duration": 6631,
    "start_time": "2025-03-31T10:36:16.417Z"
   },
   {
    "duration": 2573,
    "start_time": "2025-03-31T10:36:23.056Z"
   },
   {
    "duration": 4900,
    "start_time": "2025-03-31T10:36:25.631Z"
   },
   {
    "duration": 131,
    "start_time": "2025-03-31T10:36:30.534Z"
   },
   {
    "duration": 122,
    "start_time": "2025-03-31T10:36:30.667Z"
   },
   {
    "duration": 83,
    "start_time": "2025-03-31T10:36:30.791Z"
   },
   {
    "duration": 372,
    "start_time": "2025-03-31T10:36:30.876Z"
   },
   {
    "duration": 50,
    "start_time": "2025-03-31T10:36:31.250Z"
   },
   {
    "duration": 649,
    "start_time": "2025-03-31T10:36:31.302Z"
   },
   {
    "duration": 90,
    "start_time": "2025-03-31T10:36:31.956Z"
   },
   {
    "duration": 237,
    "start_time": "2025-03-31T10:36:32.051Z"
   },
   {
    "duration": 4,
    "start_time": "2025-03-31T10:36:32.290Z"
   },
   {
    "duration": 27,
    "start_time": "2025-03-31T10:36:32.295Z"
   },
   {
    "duration": 33,
    "start_time": "2025-03-31T10:36:32.323Z"
   },
   {
    "duration": 16,
    "start_time": "2025-03-31T10:36:32.358Z"
   },
   {
    "duration": 563021,
    "start_time": "2025-03-31T10:36:32.376Z"
   },
   {
    "duration": 3684,
    "start_time": "2025-03-31T10:46:54.879Z"
   },
   {
    "duration": 1330,
    "start_time": "2025-03-31T10:46:58.565Z"
   },
   {
    "duration": 20,
    "start_time": "2025-03-31T10:46:59.897Z"
   },
   {
    "duration": 1071,
    "start_time": "2025-03-31T10:46:59.925Z"
   },
   {
    "duration": 230,
    "start_time": "2025-03-31T10:47:00.998Z"
   },
   {
    "duration": 5,
    "start_time": "2025-03-31T10:47:01.230Z"
   },
   {
    "duration": 3779,
    "start_time": "2025-03-31T10:47:01.243Z"
   },
   {
    "duration": 137,
    "start_time": "2025-03-31T10:47:05.031Z"
   },
   {
    "duration": 175,
    "start_time": "2025-03-31T10:47:05.170Z"
   },
   {
    "duration": 130,
    "start_time": "2025-03-31T10:47:05.347Z"
   },
   {
    "duration": 144,
    "start_time": "2025-03-31T10:47:05.479Z"
   },
   {
    "duration": 17,
    "start_time": "2025-03-31T10:47:05.625Z"
   },
   {
    "duration": 6818,
    "start_time": "2025-03-31T10:47:05.645Z"
   },
   {
    "duration": 2514,
    "start_time": "2025-03-31T10:47:12.465Z"
   },
   {
    "duration": 4586,
    "start_time": "2025-03-31T10:47:14.980Z"
   },
   {
    "duration": 119,
    "start_time": "2025-03-31T10:47:19.607Z"
   },
   {
    "duration": 121,
    "start_time": "2025-03-31T10:47:19.728Z"
   },
   {
    "duration": 79,
    "start_time": "2025-03-31T10:47:19.855Z"
   },
   {
    "duration": 343,
    "start_time": "2025-03-31T10:47:19.942Z"
   },
   {
    "duration": 62,
    "start_time": "2025-03-31T10:47:20.287Z"
   },
   {
    "duration": 680,
    "start_time": "2025-03-31T10:47:20.356Z"
   },
   {
    "duration": 75,
    "start_time": "2025-03-31T10:47:21.041Z"
   },
   {
    "duration": 239,
    "start_time": "2025-03-31T10:47:21.118Z"
   },
   {
    "duration": 5,
    "start_time": "2025-03-31T10:47:21.363Z"
   },
   {
    "duration": 30,
    "start_time": "2025-03-31T10:47:21.371Z"
   },
   {
    "duration": 50,
    "start_time": "2025-03-31T10:47:21.403Z"
   },
   {
    "duration": 7,
    "start_time": "2025-03-31T10:47:21.458Z"
   },
   {
    "duration": 3888,
    "start_time": "2025-03-31T11:04:30.086Z"
   },
   {
    "duration": 1431,
    "start_time": "2025-03-31T11:04:33.976Z"
   },
   {
    "duration": 6,
    "start_time": "2025-03-31T11:04:35.413Z"
   },
   {
    "duration": 1179,
    "start_time": "2025-03-31T11:04:35.422Z"
   },
   {
    "duration": 233,
    "start_time": "2025-03-31T11:04:36.614Z"
   },
   {
    "duration": 4,
    "start_time": "2025-03-31T11:04:36.849Z"
   },
   {
    "duration": 4116,
    "start_time": "2025-03-31T11:04:36.860Z"
   },
   {
    "duration": 162,
    "start_time": "2025-03-31T11:04:40.978Z"
   },
   {
    "duration": 184,
    "start_time": "2025-03-31T11:04:41.146Z"
   },
   {
    "duration": 131,
    "start_time": "2025-03-31T11:04:41.344Z"
   },
   {
    "duration": 170,
    "start_time": "2025-03-31T11:04:41.477Z"
   },
   {
    "duration": 20,
    "start_time": "2025-03-31T11:04:41.650Z"
   },
   {
    "duration": 7178,
    "start_time": "2025-03-31T11:04:41.675Z"
   },
   {
    "duration": 2630,
    "start_time": "2025-03-31T11:04:48.854Z"
   },
   {
    "duration": 4768,
    "start_time": "2025-03-31T11:04:51.486Z"
   },
   {
    "duration": 132,
    "start_time": "2025-03-31T11:04:56.256Z"
   },
   {
    "duration": 132,
    "start_time": "2025-03-31T11:04:56.390Z"
   },
   {
    "duration": 87,
    "start_time": "2025-03-31T11:04:56.523Z"
   },
   {
    "duration": 385,
    "start_time": "2025-03-31T11:04:56.611Z"
   },
   {
    "duration": 58,
    "start_time": "2025-03-31T11:04:56.998Z"
   },
   {
    "duration": 599,
    "start_time": "2025-03-31T11:04:57.063Z"
   },
   {
    "duration": 128,
    "start_time": "2025-03-31T11:04:57.663Z"
   },
   {
    "duration": 294,
    "start_time": "2025-03-31T11:04:57.793Z"
   },
   {
    "duration": 5,
    "start_time": "2025-03-31T11:04:58.088Z"
   },
   {
    "duration": 4,
    "start_time": "2025-03-31T11:04:58.094Z"
   },
   {
    "duration": 15,
    "start_time": "2025-03-31T11:04:58.100Z"
   },
   {
    "duration": 8,
    "start_time": "2025-03-31T11:04:58.117Z"
   },
   {
    "duration": 3802,
    "start_time": "2025-03-31T11:05:06.680Z"
   },
   {
    "duration": 1476,
    "start_time": "2025-03-31T11:05:10.485Z"
   },
   {
    "duration": 5,
    "start_time": "2025-03-31T11:05:11.963Z"
   },
   {
    "duration": 1210,
    "start_time": "2025-03-31T11:05:11.970Z"
   },
   {
    "duration": 228,
    "start_time": "2025-03-31T11:05:13.182Z"
   },
   {
    "duration": 5,
    "start_time": "2025-03-31T11:05:13.412Z"
   },
   {
    "duration": 4084,
    "start_time": "2025-03-31T11:05:13.419Z"
   },
   {
    "duration": 142,
    "start_time": "2025-03-31T11:05:17.507Z"
   },
   {
    "duration": 198,
    "start_time": "2025-03-31T11:05:17.651Z"
   },
   {
    "duration": 138,
    "start_time": "2025-03-31T11:05:17.851Z"
   },
   {
    "duration": 160,
    "start_time": "2025-03-31T11:05:17.991Z"
   },
   {
    "duration": 17,
    "start_time": "2025-03-31T11:05:18.157Z"
   },
   {
    "duration": 6788,
    "start_time": "2025-03-31T11:05:18.176Z"
   },
   {
    "duration": 2468,
    "start_time": "2025-03-31T11:05:24.968Z"
   },
   {
    "duration": 4734,
    "start_time": "2025-03-31T11:05:27.440Z"
   },
   {
    "duration": 111,
    "start_time": "2025-03-31T11:05:32.175Z"
   },
   {
    "duration": 154,
    "start_time": "2025-03-31T11:05:32.288Z"
   },
   {
    "duration": 100,
    "start_time": "2025-03-31T11:05:32.443Z"
   },
   {
    "duration": 334,
    "start_time": "2025-03-31T11:05:32.545Z"
   },
   {
    "duration": 68,
    "start_time": "2025-03-31T11:05:32.880Z"
   },
   {
    "duration": 598,
    "start_time": "2025-03-31T11:05:32.950Z"
   },
   {
    "duration": 86,
    "start_time": "2025-03-31T11:05:33.550Z"
   },
   {
    "duration": 241,
    "start_time": "2025-03-31T11:05:33.638Z"
   },
   {
    "duration": 4,
    "start_time": "2025-03-31T11:05:33.880Z"
   },
   {
    "duration": 36,
    "start_time": "2025-03-31T11:05:33.886Z"
   },
   {
    "duration": 23,
    "start_time": "2025-03-31T11:05:33.933Z"
   },
   {
    "duration": 3,
    "start_time": "2025-03-31T11:05:33.959Z"
   },
   {
    "duration": 3522,
    "start_time": "2025-03-31T12:07:07.811Z"
   },
   {
    "duration": 1475,
    "start_time": "2025-03-31T12:07:11.336Z"
   },
   {
    "duration": 6,
    "start_time": "2025-03-31T12:07:12.813Z"
   },
   {
    "duration": 1059,
    "start_time": "2025-03-31T12:07:12.822Z"
   },
   {
    "duration": 204,
    "start_time": "2025-03-31T12:07:13.884Z"
   },
   {
    "duration": 5,
    "start_time": "2025-03-31T12:07:14.091Z"
   },
   {
    "duration": 3728,
    "start_time": "2025-03-31T12:07:14.098Z"
   },
   {
    "duration": 134,
    "start_time": "2025-03-31T12:07:17.828Z"
   },
   {
    "duration": 167,
    "start_time": "2025-03-31T12:07:17.963Z"
   },
   {
    "duration": 105,
    "start_time": "2025-03-31T12:07:18.137Z"
   },
   {
    "duration": 127,
    "start_time": "2025-03-31T12:07:18.244Z"
   },
   {
    "duration": 16,
    "start_time": "2025-03-31T12:07:18.373Z"
   },
   {
    "duration": 6440,
    "start_time": "2025-03-31T12:07:18.390Z"
   },
   {
    "duration": 2476,
    "start_time": "2025-03-31T12:07:24.833Z"
   },
   {
    "duration": 4335,
    "start_time": "2025-03-31T12:07:27.316Z"
   },
   {
    "duration": 139,
    "start_time": "2025-03-31T12:07:31.653Z"
   },
   {
    "duration": 120,
    "start_time": "2025-03-31T12:07:31.794Z"
   },
   {
    "duration": 85,
    "start_time": "2025-03-31T12:07:31.916Z"
   },
   {
    "duration": 365,
    "start_time": "2025-03-31T12:07:32.007Z"
   },
   {
    "duration": 65,
    "start_time": "2025-03-31T12:07:32.374Z"
   },
   {
    "duration": 604,
    "start_time": "2025-03-31T12:07:32.441Z"
   },
   {
    "duration": 89,
    "start_time": "2025-03-31T12:07:33.047Z"
   },
   {
    "duration": 255,
    "start_time": "2025-03-31T12:07:33.137Z"
   },
   {
    "duration": 5,
    "start_time": "2025-03-31T12:07:33.394Z"
   },
   {
    "duration": 15,
    "start_time": "2025-03-31T12:07:33.409Z"
   },
   {
    "duration": 21,
    "start_time": "2025-03-31T12:07:33.425Z"
   },
   {
    "duration": 17,
    "start_time": "2025-03-31T12:07:33.447Z"
   },
   {
    "duration": 3433,
    "start_time": "2025-03-31T12:19:02.434Z"
   },
   {
    "duration": 1423,
    "start_time": "2025-03-31T12:19:05.869Z"
   },
   {
    "duration": 5,
    "start_time": "2025-03-31T12:19:07.294Z"
   },
   {
    "duration": 1064,
    "start_time": "2025-03-31T12:19:07.301Z"
   },
   {
    "duration": 199,
    "start_time": "2025-03-31T12:19:08.368Z"
   },
   {
    "duration": 4,
    "start_time": "2025-03-31T12:19:08.569Z"
   },
   {
    "duration": 3585,
    "start_time": "2025-03-31T12:19:08.575Z"
   },
   {
    "duration": 145,
    "start_time": "2025-03-31T12:19:12.162Z"
   },
   {
    "duration": 152,
    "start_time": "2025-03-31T12:19:12.320Z"
   },
   {
    "duration": 122,
    "start_time": "2025-03-31T12:19:12.473Z"
   },
   {
    "duration": 137,
    "start_time": "2025-03-31T12:19:12.597Z"
   },
   {
    "duration": 16,
    "start_time": "2025-03-31T12:19:12.738Z"
   },
   {
    "duration": 6471,
    "start_time": "2025-03-31T12:19:12.755Z"
   },
   {
    "duration": 2444,
    "start_time": "2025-03-31T12:19:19.229Z"
   },
   {
    "duration": 4350,
    "start_time": "2025-03-31T12:19:21.675Z"
   },
   {
    "duration": 97,
    "start_time": "2025-03-31T12:19:26.036Z"
   },
   {
    "duration": 116,
    "start_time": "2025-03-31T12:19:26.135Z"
   },
   {
    "duration": 107,
    "start_time": "2025-03-31T12:19:26.253Z"
   },
   {
    "duration": 350,
    "start_time": "2025-03-31T12:19:26.362Z"
   },
   {
    "duration": 50,
    "start_time": "2025-03-31T12:19:26.714Z"
   },
   {
    "duration": 582,
    "start_time": "2025-03-31T12:19:26.766Z"
   },
   {
    "duration": 94,
    "start_time": "2025-03-31T12:19:27.350Z"
   },
   {
    "duration": 227,
    "start_time": "2025-03-31T12:19:27.446Z"
   },
   {
    "duration": 4,
    "start_time": "2025-03-31T12:19:27.675Z"
   },
   {
    "duration": 9,
    "start_time": "2025-03-31T12:19:27.680Z"
   },
   {
    "duration": 62,
    "start_time": "2025-03-31T12:19:27.691Z"
   },
   {
    "duration": 0,
    "start_time": "2025-03-31T12:19:27.754Z"
   },
   {
    "duration": 0,
    "start_time": "2025-03-31T12:19:27.755Z"
   },
   {
    "duration": 73,
    "start_time": "2025-03-31T12:19:49.464Z"
   },
   {
    "duration": 4,
    "start_time": "2025-03-31T12:19:54.633Z"
   },
   {
    "duration": 8,
    "start_time": "2025-03-31T12:19:57.013Z"
   },
   {
    "duration": 335674,
    "start_time": "2025-03-31T12:19:59.094Z"
   },
   {
    "duration": 3424,
    "start_time": "2025-03-31T12:35:30.051Z"
   },
   {
    "duration": 1406,
    "start_time": "2025-03-31T12:35:33.477Z"
   },
   {
    "duration": 7,
    "start_time": "2025-03-31T12:35:34.884Z"
   },
   {
    "duration": 1118,
    "start_time": "2025-03-31T12:35:34.893Z"
   },
   {
    "duration": 189,
    "start_time": "2025-03-31T12:35:36.013Z"
   },
   {
    "duration": 18,
    "start_time": "2025-03-31T12:35:36.204Z"
   },
   {
    "duration": 3567,
    "start_time": "2025-03-31T12:35:36.228Z"
   },
   {
    "duration": 145,
    "start_time": "2025-03-31T12:35:39.797Z"
   },
   {
    "duration": 145,
    "start_time": "2025-03-31T12:35:39.943Z"
   },
   {
    "duration": 140,
    "start_time": "2025-03-31T12:35:40.090Z"
   },
   {
    "duration": 123,
    "start_time": "2025-03-31T12:35:40.239Z"
   },
   {
    "duration": 16,
    "start_time": "2025-03-31T12:35:40.363Z"
   },
   {
    "duration": 6369,
    "start_time": "2025-03-31T12:35:40.382Z"
   },
   {
    "duration": 2435,
    "start_time": "2025-03-31T12:35:46.752Z"
   },
   {
    "duration": 4324,
    "start_time": "2025-03-31T12:35:49.209Z"
   },
   {
    "duration": 109,
    "start_time": "2025-03-31T12:35:53.535Z"
   },
   {
    "duration": 120,
    "start_time": "2025-03-31T12:35:53.646Z"
   },
   {
    "duration": 86,
    "start_time": "2025-03-31T12:35:53.768Z"
   },
   {
    "duration": 333,
    "start_time": "2025-03-31T12:35:53.855Z"
   },
   {
    "duration": 65,
    "start_time": "2025-03-31T12:35:54.190Z"
   },
   {
    "duration": 590,
    "start_time": "2025-03-31T12:35:54.258Z"
   },
   {
    "duration": 106,
    "start_time": "2025-03-31T12:35:54.850Z"
   },
   {
    "duration": 230,
    "start_time": "2025-03-31T12:35:54.957Z"
   },
   {
    "duration": 4,
    "start_time": "2025-03-31T12:35:55.189Z"
   },
   {
    "duration": 43,
    "start_time": "2025-03-31T12:35:55.195Z"
   },
   {
    "duration": 20,
    "start_time": "2025-03-31T12:35:55.240Z"
   },
   {
    "duration": 3,
    "start_time": "2025-03-31T12:35:55.262Z"
   },
   {
    "duration": 363676,
    "start_time": "2025-03-31T12:35:55.266Z"
   },
   {
    "duration": 111,
    "start_time": "2025-03-31T12:44:05.003Z"
   },
   {
    "duration": 37,
    "start_time": "2025-03-31T12:46:43.669Z"
   },
   {
    "duration": 3375,
    "start_time": "2025-03-31T12:47:52.700Z"
   },
   {
    "duration": 1351,
    "start_time": "2025-03-31T12:47:56.078Z"
   },
   {
    "duration": 9,
    "start_time": "2025-03-31T12:47:57.431Z"
   },
   {
    "duration": 1053,
    "start_time": "2025-03-31T12:47:57.442Z"
   },
   {
    "duration": 214,
    "start_time": "2025-03-31T12:47:58.498Z"
   },
   {
    "duration": 5,
    "start_time": "2025-03-31T12:47:58.715Z"
   },
   {
    "duration": 3617,
    "start_time": "2025-03-31T12:47:58.722Z"
   },
   {
    "duration": 132,
    "start_time": "2025-03-31T12:48:02.341Z"
   },
   {
    "duration": 160,
    "start_time": "2025-03-31T12:48:02.475Z"
   },
   {
    "duration": 117,
    "start_time": "2025-03-31T12:48:02.642Z"
   },
   {
    "duration": 128,
    "start_time": "2025-03-31T12:48:02.761Z"
   },
   {
    "duration": 30,
    "start_time": "2025-03-31T12:48:02.890Z"
   },
   {
    "duration": 6421,
    "start_time": "2025-03-31T12:48:02.922Z"
   },
   {
    "duration": 2477,
    "start_time": "2025-03-31T12:48:09.347Z"
   },
   {
    "duration": 4419,
    "start_time": "2025-03-31T12:48:11.827Z"
   },
   {
    "duration": 124,
    "start_time": "2025-03-31T12:48:16.248Z"
   },
   {
    "duration": 138,
    "start_time": "2025-03-31T12:48:16.374Z"
   },
   {
    "duration": 87,
    "start_time": "2025-03-31T12:48:16.515Z"
   },
   {
    "duration": 366,
    "start_time": "2025-03-31T12:48:16.617Z"
   },
   {
    "duration": 67,
    "start_time": "2025-03-31T12:48:16.984Z"
   },
   {
    "duration": 583,
    "start_time": "2025-03-31T12:48:17.053Z"
   },
   {
    "duration": 80,
    "start_time": "2025-03-31T12:48:17.638Z"
   },
   {
    "duration": 147,
    "start_time": "2025-03-31T12:48:17.720Z"
   },
   {
    "duration": 54,
    "start_time": "2025-03-31T12:48:17.869Z"
   },
   {
    "duration": 252,
    "start_time": "2025-03-31T12:48:26.821Z"
   },
   {
    "duration": 5,
    "start_time": "2025-03-31T12:48:44.197Z"
   },
   {
    "duration": 4,
    "start_time": "2025-03-31T12:48:48.080Z"
   },
   {
    "duration": 5,
    "start_time": "2025-03-31T12:48:49.395Z"
   },
   {
    "duration": 3,
    "start_time": "2025-03-31T12:48:50.287Z"
   },
   {
    "duration": 1132410,
    "start_time": "2025-03-31T12:48:51.635Z"
   },
   {
    "duration": 11,
    "start_time": "2025-03-31T13:07:59.403Z"
   },
   {
    "duration": 3261,
    "start_time": "2025-03-31T14:09:12.704Z"
   },
   {
    "duration": 1258,
    "start_time": "2025-03-31T14:09:15.968Z"
   },
   {
    "duration": 5,
    "start_time": "2025-03-31T14:09:17.228Z"
   },
   {
    "duration": 991,
    "start_time": "2025-03-31T14:09:17.234Z"
   },
   {
    "duration": 187,
    "start_time": "2025-03-31T14:09:18.227Z"
   },
   {
    "duration": 4,
    "start_time": "2025-03-31T14:09:18.419Z"
   },
   {
    "duration": 3262,
    "start_time": "2025-03-31T14:09:18.425Z"
   },
   {
    "duration": 154,
    "start_time": "2025-03-31T14:09:21.689Z"
   },
   {
    "duration": 144,
    "start_time": "2025-03-31T14:09:21.845Z"
   },
   {
    "duration": 113,
    "start_time": "2025-03-31T14:09:21.990Z"
   },
   {
    "duration": 118,
    "start_time": "2025-03-31T14:09:22.105Z"
   },
   {
    "duration": 15,
    "start_time": "2025-03-31T14:09:22.224Z"
   },
   {
    "duration": 6079,
    "start_time": "2025-03-31T14:09:22.241Z"
   },
   {
    "duration": 2436,
    "start_time": "2025-03-31T14:09:28.323Z"
   },
   {
    "duration": 4070,
    "start_time": "2025-03-31T14:09:30.760Z"
   },
   {
    "duration": 111,
    "start_time": "2025-03-31T14:09:34.831Z"
   },
   {
    "duration": 111,
    "start_time": "2025-03-31T14:09:34.944Z"
   },
   {
    "duration": 84,
    "start_time": "2025-03-31T14:09:35.057Z"
   },
   {
    "duration": 338,
    "start_time": "2025-03-31T14:09:35.142Z"
   },
   {
    "duration": 58,
    "start_time": "2025-03-31T14:09:35.482Z"
   },
   {
    "duration": 576,
    "start_time": "2025-03-31T14:09:35.542Z"
   },
   {
    "duration": 70,
    "start_time": "2025-03-31T14:09:36.119Z"
   },
   {
    "duration": 141,
    "start_time": "2025-03-31T14:09:36.191Z"
   },
   {
    "duration": 38,
    "start_time": "2025-03-31T14:09:36.333Z"
   },
   {
    "duration": 225,
    "start_time": "2025-03-31T14:09:36.372Z"
   },
   {
    "duration": 14,
    "start_time": "2025-03-31T14:09:36.598Z"
   },
   {
    "duration": 13,
    "start_time": "2025-03-31T14:09:36.619Z"
   },
   {
    "duration": 9,
    "start_time": "2025-03-31T14:09:36.634Z"
   },
   {
    "duration": 22,
    "start_time": "2025-03-31T14:09:36.644Z"
   },
   {
    "duration": 93717,
    "start_time": "2025-03-31T14:09:36.668Z"
   },
   {
    "duration": 3070,
    "start_time": "2025-03-31T14:13:42.070Z"
   },
   {
    "duration": 1337,
    "start_time": "2025-03-31T14:13:45.143Z"
   },
   {
    "duration": 5,
    "start_time": "2025-03-31T14:13:46.481Z"
   },
   {
    "duration": 949,
    "start_time": "2025-03-31T14:13:46.489Z"
   },
   {
    "duration": 172,
    "start_time": "2025-03-31T14:13:47.440Z"
   },
   {
    "duration": 4,
    "start_time": "2025-03-31T14:13:47.614Z"
   },
   {
    "duration": 3073,
    "start_time": "2025-03-31T14:13:47.619Z"
   },
   {
    "duration": 121,
    "start_time": "2025-03-31T14:13:50.706Z"
   },
   {
    "duration": 142,
    "start_time": "2025-03-31T14:13:50.829Z"
   },
   {
    "duration": 115,
    "start_time": "2025-03-31T14:13:50.974Z"
   },
   {
    "duration": 116,
    "start_time": "2025-03-31T14:13:51.091Z"
   },
   {
    "duration": 16,
    "start_time": "2025-03-31T14:13:51.209Z"
   },
   {
    "duration": 5786,
    "start_time": "2025-03-31T14:13:51.227Z"
   },
   {
    "duration": 2337,
    "start_time": "2025-03-31T14:13:57.015Z"
   },
   {
    "duration": 3781,
    "start_time": "2025-03-31T14:13:59.354Z"
   },
   {
    "duration": 146,
    "start_time": "2025-03-31T14:14:03.137Z"
   },
   {
    "duration": 122,
    "start_time": "2025-03-31T14:14:03.285Z"
   },
   {
    "duration": 74,
    "start_time": "2025-03-31T14:14:03.408Z"
   },
   {
    "duration": 385,
    "start_time": "2025-03-31T14:14:03.483Z"
   },
   {
    "duration": 55,
    "start_time": "2025-03-31T14:14:03.870Z"
   },
   {
    "duration": 580,
    "start_time": "2025-03-31T14:14:03.927Z"
   },
   {
    "duration": 69,
    "start_time": "2025-03-31T14:14:04.508Z"
   },
   {
    "duration": 99,
    "start_time": "2025-03-31T14:14:04.579Z"
   },
   {
    "duration": 48,
    "start_time": "2025-03-31T14:14:04.679Z"
   },
   {
    "duration": 208,
    "start_time": "2025-03-31T14:14:04.728Z"
   },
   {
    "duration": 5,
    "start_time": "2025-03-31T14:14:04.938Z"
   },
   {
    "duration": 12,
    "start_time": "2025-03-31T14:14:04.944Z"
   },
   {
    "duration": 26,
    "start_time": "2025-03-31T14:14:04.959Z"
   },
   {
    "duration": 4,
    "start_time": "2025-03-31T14:14:04.986Z"
   },
   {
    "duration": 225826,
    "start_time": "2025-03-31T14:14:04.991Z"
   },
   {
    "duration": 117,
    "start_time": "2025-03-31T14:19:19.973Z"
   },
   {
    "duration": 26,
    "start_time": "2025-03-31T14:19:27.781Z"
   },
   {
    "duration": 5,
    "start_time": "2025-03-31T14:19:56.621Z"
   },
   {
    "duration": 20,
    "start_time": "2025-03-31T14:20:00.589Z"
   },
   {
    "duration": 2,
    "start_time": "2025-03-31T14:21:22.261Z"
   },
   {
    "duration": 10,
    "start_time": "2025-03-31T14:22:51.251Z"
   },
   {
    "duration": 4,
    "start_time": "2025-03-31T14:22:54.041Z"
   },
   {
    "duration": 1764,
    "start_time": "2025-03-31T14:25:12.886Z"
   },
   {
    "duration": 110,
    "start_time": "2025-03-31T14:25:29.511Z"
   },
   {
    "duration": 4359,
    "start_time": "2025-03-31T14:25:38.757Z"
   },
   {
    "duration": 3,
    "start_time": "2025-03-31T14:26:15.350Z"
   },
   {
    "duration": 1359,
    "start_time": "2025-03-31T14:26:20.142Z"
   },
   {
    "duration": 1667,
    "start_time": "2025-03-31T14:26:56.350Z"
   },
   {
    "duration": 158,
    "start_time": "2025-03-31T14:27:34.107Z"
   },
   {
    "duration": 567,
    "start_time": "2025-03-31T14:32:20.942Z"
   },
   {
    "duration": 6,
    "start_time": "2025-03-31T14:32:39.961Z"
   },
   {
    "duration": 53,
    "start_time": "2025-03-31T14:34:16.983Z"
   },
   {
    "duration": 6,
    "start_time": "2025-03-31T14:34:30.652Z"
   },
   {
    "duration": 3131,
    "start_time": "2025-03-31T14:40:21.475Z"
   },
   {
    "duration": 1322,
    "start_time": "2025-03-31T14:40:24.609Z"
   },
   {
    "duration": 6,
    "start_time": "2025-03-31T14:40:25.932Z"
   },
   {
    "duration": 959,
    "start_time": "2025-03-31T14:40:25.940Z"
   },
   {
    "duration": 172,
    "start_time": "2025-03-31T14:40:26.901Z"
   },
   {
    "duration": 4,
    "start_time": "2025-03-31T14:40:27.075Z"
   },
   {
    "duration": 3197,
    "start_time": "2025-03-31T14:40:27.080Z"
   },
   {
    "duration": 111,
    "start_time": "2025-03-31T14:40:30.279Z"
   },
   {
    "duration": 152,
    "start_time": "2025-03-31T14:40:30.392Z"
   },
   {
    "duration": 115,
    "start_time": "2025-03-31T14:40:30.547Z"
   },
   {
    "duration": 110,
    "start_time": "2025-03-31T14:40:30.664Z"
   },
   {
    "duration": 16,
    "start_time": "2025-03-31T14:40:30.776Z"
   },
   {
    "duration": 5727,
    "start_time": "2025-03-31T14:40:30.807Z"
   },
   {
    "duration": 2429,
    "start_time": "2025-03-31T14:40:36.535Z"
   },
   {
    "duration": 3846,
    "start_time": "2025-03-31T14:40:38.966Z"
   },
   {
    "duration": 109,
    "start_time": "2025-03-31T14:40:42.814Z"
   },
   {
    "duration": 115,
    "start_time": "2025-03-31T14:40:42.924Z"
   },
   {
    "duration": 84,
    "start_time": "2025-03-31T14:40:43.040Z"
   },
   {
    "duration": 329,
    "start_time": "2025-03-31T14:40:43.126Z"
   },
   {
    "duration": 58,
    "start_time": "2025-03-31T14:40:43.456Z"
   },
   {
    "duration": 517,
    "start_time": "2025-03-31T14:40:43.516Z"
   },
   {
    "duration": 89,
    "start_time": "2025-03-31T14:40:44.035Z"
   },
   {
    "duration": 96,
    "start_time": "2025-03-31T14:40:44.126Z"
   },
   {
    "duration": 39,
    "start_time": "2025-03-31T14:40:44.224Z"
   },
   {
    "duration": 228,
    "start_time": "2025-03-31T14:40:44.265Z"
   },
   {
    "duration": 12,
    "start_time": "2025-03-31T14:40:44.495Z"
   },
   {
    "duration": 16,
    "start_time": "2025-03-31T14:40:44.509Z"
   },
   {
    "duration": 4,
    "start_time": "2025-03-31T14:40:44.529Z"
   },
   {
    "duration": 8,
    "start_time": "2025-03-31T14:40:44.534Z"
   },
   {
    "duration": 225343,
    "start_time": "2025-03-31T14:40:44.543Z"
   },
   {
    "duration": 4,
    "start_time": "2025-03-31T14:44:29.887Z"
   },
   {
    "duration": 27,
    "start_time": "2025-03-31T14:44:29.893Z"
   },
   {
    "duration": 3,
    "start_time": "2025-03-31T14:44:29.922Z"
   },
   {
    "duration": 1856,
    "start_time": "2025-03-31T14:44:29.926Z"
   },
   {
    "duration": 4732,
    "start_time": "2025-03-31T14:44:31.784Z"
   },
   {
    "duration": 1551,
    "start_time": "2025-03-31T14:44:36.518Z"
   },
   {
    "duration": 1751,
    "start_time": "2025-03-31T14:44:38.070Z"
   },
   {
    "duration": 230,
    "start_time": "2025-03-31T14:44:39.823Z"
   },
   {
    "duration": 561,
    "start_time": "2025-03-31T14:44:40.055Z"
   },
   {
    "duration": 6,
    "start_time": "2025-03-31T14:44:40.618Z"
   },
   {
    "duration": 1934,
    "start_time": "2025-04-01T09:51:28.868Z"
   },
   {
    "duration": 7897,
    "start_time": "2025-04-01T09:51:51.756Z"
   },
   {
    "duration": 1476,
    "start_time": "2025-04-01T09:51:59.657Z"
   },
   {
    "duration": 6,
    "start_time": "2025-04-01T09:52:01.135Z"
   },
   {
    "duration": 1060,
    "start_time": "2025-04-01T09:52:01.144Z"
   },
   {
    "duration": 170,
    "start_time": "2025-04-01T09:52:02.206Z"
   },
   {
    "duration": 4,
    "start_time": "2025-04-01T09:52:02.377Z"
   },
   {
    "duration": 50,
    "start_time": "2025-04-01T09:52:02.383Z"
   },
   {
    "duration": 0,
    "start_time": "2025-04-01T09:52:02.435Z"
   },
   {
    "duration": 0,
    "start_time": "2025-04-01T09:52:02.436Z"
   },
   {
    "duration": 0,
    "start_time": "2025-04-01T09:52:02.438Z"
   },
   {
    "duration": 0,
    "start_time": "2025-04-01T09:52:02.439Z"
   },
   {
    "duration": 0,
    "start_time": "2025-04-01T09:52:02.441Z"
   },
   {
    "duration": 0,
    "start_time": "2025-04-01T09:52:02.442Z"
   },
   {
    "duration": 3162,
    "start_time": "2025-04-01T09:52:29.285Z"
   },
   {
    "duration": 1402,
    "start_time": "2025-04-01T09:52:32.450Z"
   },
   {
    "duration": 6,
    "start_time": "2025-04-01T09:52:33.854Z"
   },
   {
    "duration": 1059,
    "start_time": "2025-04-01T09:52:33.863Z"
   },
   {
    "duration": 175,
    "start_time": "2025-04-01T09:52:34.924Z"
   },
   {
    "duration": 4,
    "start_time": "2025-04-01T09:52:35.103Z"
   },
   {
    "duration": 3357,
    "start_time": "2025-04-01T09:52:35.109Z"
   },
   {
    "duration": 111,
    "start_time": "2025-04-01T09:52:38.467Z"
   },
   {
    "duration": 154,
    "start_time": "2025-04-01T09:52:38.580Z"
   },
   {
    "duration": 110,
    "start_time": "2025-04-01T09:52:38.736Z"
   },
   {
    "duration": 108,
    "start_time": "2025-04-01T09:52:38.848Z"
   },
   {
    "duration": 22,
    "start_time": "2025-04-01T09:52:38.957Z"
   },
   {
    "duration": 5751,
    "start_time": "2025-04-01T09:52:38.980Z"
   },
   {
    "duration": 599,
    "start_time": "2025-04-01T09:53:07.140Z"
   },
   {
    "duration": 248,
    "start_time": "2025-04-01T09:53:53.830Z"
   },
   {
    "duration": 121,
    "start_time": "2025-04-01T09:54:53.703Z"
   },
   {
    "duration": 12,
    "start_time": "2025-04-01T09:57:52.152Z"
   },
   {
    "duration": 14,
    "start_time": "2025-04-01T09:58:26.427Z"
   },
   {
    "duration": 14,
    "start_time": "2025-04-01T09:58:34.385Z"
   },
   {
    "duration": 16,
    "start_time": "2025-04-01T09:59:36.190Z"
   },
   {
    "duration": 2370,
    "start_time": "2025-04-01T10:02:45.206Z"
   },
   {
    "duration": 3751,
    "start_time": "2025-04-01T10:02:50.185Z"
   },
   {
    "duration": 3120,
    "start_time": "2025-04-01T10:02:58.452Z"
   },
   {
    "duration": 1476,
    "start_time": "2025-04-01T10:03:01.575Z"
   },
   {
    "duration": 5,
    "start_time": "2025-04-01T10:03:03.053Z"
   },
   {
    "duration": 1013,
    "start_time": "2025-04-01T10:03:03.061Z"
   },
   {
    "duration": 171,
    "start_time": "2025-04-01T10:03:04.076Z"
   },
   {
    "duration": 5,
    "start_time": "2025-04-01T10:03:04.249Z"
   },
   {
    "duration": 3286,
    "start_time": "2025-04-01T10:03:04.256Z"
   },
   {
    "duration": 128,
    "start_time": "2025-04-01T10:03:07.544Z"
   },
   {
    "duration": 145,
    "start_time": "2025-04-01T10:03:07.674Z"
   },
   {
    "duration": 116,
    "start_time": "2025-04-01T10:03:07.821Z"
   },
   {
    "duration": 107,
    "start_time": "2025-04-01T10:03:07.938Z"
   },
   {
    "duration": 15,
    "start_time": "2025-04-01T10:03:08.046Z"
   },
   {
    "duration": 5771,
    "start_time": "2025-04-01T10:03:08.063Z"
   },
   {
    "duration": 525,
    "start_time": "2025-04-01T10:03:13.835Z"
   },
   {
    "duration": 2292,
    "start_time": "2025-04-01T10:03:14.362Z"
   },
   {
    "duration": 3982,
    "start_time": "2025-04-01T10:03:16.656Z"
   },
   {
    "duration": 154,
    "start_time": "2025-04-01T10:03:20.640Z"
   },
   {
    "duration": 120,
    "start_time": "2025-04-01T10:03:20.803Z"
   },
   {
    "duration": 5,
    "start_time": "2025-04-01T10:03:20.925Z"
   },
   {
    "duration": 42,
    "start_time": "2025-04-01T10:03:20.932Z"
   },
   {
    "duration": 90,
    "start_time": "2025-04-01T10:03:20.976Z"
   },
   {
    "duration": 64,
    "start_time": "2025-04-01T10:03:28.903Z"
   },
   {
    "duration": 329,
    "start_time": "2025-04-01T10:03:29.735Z"
   },
   {
    "duration": 45,
    "start_time": "2025-04-01T10:03:35.711Z"
   },
   {
    "duration": 392,
    "start_time": "2025-04-01T10:03:37.831Z"
   },
   {
    "duration": 84,
    "start_time": "2025-04-01T10:03:43.355Z"
   },
   {
    "duration": 159,
    "start_time": "2025-04-01T10:03:44.905Z"
   },
   {
    "duration": 45,
    "start_time": "2025-04-01T10:03:47.271Z"
   },
   {
    "duration": 217,
    "start_time": "2025-04-01T10:06:22.500Z"
   },
   {
    "duration": 5,
    "start_time": "2025-04-01T10:06:28.674Z"
   },
   {
    "duration": 3154,
    "start_time": "2025-04-01T10:17:01.953Z"
   },
   {
    "duration": 1733,
    "start_time": "2025-04-01T10:17:05.110Z"
   },
   {
    "duration": 5,
    "start_time": "2025-04-01T10:17:06.844Z"
   },
   {
    "duration": 1081,
    "start_time": "2025-04-01T10:17:06.851Z"
   },
   {
    "duration": 154,
    "start_time": "2025-04-01T10:17:07.934Z"
   },
   {
    "duration": 4,
    "start_time": "2025-04-01T10:17:08.089Z"
   },
   {
    "duration": 3000,
    "start_time": "2025-04-01T10:17:08.104Z"
   },
   {
    "duration": 122,
    "start_time": "2025-04-01T10:17:11.106Z"
   },
   {
    "duration": 136,
    "start_time": "2025-04-01T10:17:11.230Z"
   },
   {
    "duration": 107,
    "start_time": "2025-04-01T10:17:11.368Z"
   },
   {
    "duration": 101,
    "start_time": "2025-04-01T10:17:11.477Z"
   },
   {
    "duration": 26,
    "start_time": "2025-04-01T10:17:11.579Z"
   },
   {
    "duration": 5621,
    "start_time": "2025-04-01T10:17:11.607Z"
   },
   {
    "duration": 558,
    "start_time": "2025-04-01T10:17:17.231Z"
   },
   {
    "duration": 2180,
    "start_time": "2025-04-01T10:17:17.791Z"
   },
   {
    "duration": 3935,
    "start_time": "2025-04-01T10:17:19.973Z"
   },
   {
    "duration": 117,
    "start_time": "2025-04-01T10:17:23.909Z"
   },
   {
    "duration": 120,
    "start_time": "2025-04-01T10:17:24.028Z"
   },
   {
    "duration": 6,
    "start_time": "2025-04-01T10:17:24.150Z"
   },
   {
    "duration": 36,
    "start_time": "2025-04-01T10:17:24.158Z"
   },
   {
    "duration": 95,
    "start_time": "2025-04-01T10:17:24.197Z"
   },
   {
    "duration": 336,
    "start_time": "2025-04-01T10:17:24.294Z"
   },
   {
    "duration": 48,
    "start_time": "2025-04-01T10:17:24.632Z"
   },
   {
    "duration": 434,
    "start_time": "2025-04-01T10:17:24.681Z"
   },
   {
    "duration": 65,
    "start_time": "2025-04-01T10:17:25.117Z"
   },
   {
    "duration": 92,
    "start_time": "2025-04-01T10:17:25.184Z"
   },
   {
    "duration": 43,
    "start_time": "2025-04-01T10:17:25.278Z"
   },
   {
    "duration": 51,
    "start_time": "2025-04-01T10:17:25.323Z"
   },
   {
    "duration": 0,
    "start_time": "2025-04-01T10:17:25.377Z"
   },
   {
    "duration": 0,
    "start_time": "2025-04-01T10:17:25.378Z"
   },
   {
    "duration": 0,
    "start_time": "2025-04-01T10:17:25.380Z"
   },
   {
    "duration": 0,
    "start_time": "2025-04-01T10:17:25.382Z"
   },
   {
    "duration": 0,
    "start_time": "2025-04-01T10:17:25.383Z"
   },
   {
    "duration": 0,
    "start_time": "2025-04-01T10:17:25.385Z"
   },
   {
    "duration": 0,
    "start_time": "2025-04-01T10:17:25.386Z"
   },
   {
    "duration": 0,
    "start_time": "2025-04-01T10:17:25.388Z"
   },
   {
    "duration": 0,
    "start_time": "2025-04-01T10:17:25.389Z"
   },
   {
    "duration": 0,
    "start_time": "2025-04-01T10:17:25.391Z"
   },
   {
    "duration": 0,
    "start_time": "2025-04-01T10:17:25.392Z"
   },
   {
    "duration": 0,
    "start_time": "2025-04-01T10:17:25.393Z"
   },
   {
    "duration": 0,
    "start_time": "2025-04-01T10:17:25.395Z"
   },
   {
    "duration": 0,
    "start_time": "2025-04-01T10:17:25.396Z"
   },
   {
    "duration": 0,
    "start_time": "2025-04-01T10:17:25.398Z"
   },
   {
    "duration": 3746,
    "start_time": "2025-04-01T10:18:44.505Z"
   },
   {
    "duration": 1397,
    "start_time": "2025-04-01T10:18:48.254Z"
   },
   {
    "duration": 5,
    "start_time": "2025-04-01T10:18:49.653Z"
   },
   {
    "duration": 981,
    "start_time": "2025-04-01T10:18:49.660Z"
   },
   {
    "duration": 164,
    "start_time": "2025-04-01T10:18:50.642Z"
   },
   {
    "duration": 13,
    "start_time": "2025-04-01T10:18:50.807Z"
   },
   {
    "duration": 3105,
    "start_time": "2025-04-01T10:18:50.822Z"
   },
   {
    "duration": 120,
    "start_time": "2025-04-01T10:18:53.929Z"
   },
   {
    "duration": 140,
    "start_time": "2025-04-01T10:18:54.051Z"
   },
   {
    "duration": 115,
    "start_time": "2025-04-01T10:18:54.194Z"
   },
   {
    "duration": 112,
    "start_time": "2025-04-01T10:18:54.311Z"
   },
   {
    "duration": 33,
    "start_time": "2025-04-01T10:18:54.424Z"
   },
   {
    "duration": 5963,
    "start_time": "2025-04-01T10:18:54.459Z"
   },
   {
    "duration": 530,
    "start_time": "2025-04-01T10:19:00.424Z"
   },
   {
    "duration": 2287,
    "start_time": "2025-04-01T10:19:00.956Z"
   },
   {
    "duration": 3963,
    "start_time": "2025-04-01T10:19:03.245Z"
   },
   {
    "duration": 200,
    "start_time": "2025-04-01T10:19:07.211Z"
   },
   {
    "duration": 9,
    "start_time": "2025-04-01T10:19:07.412Z"
   },
   {
    "duration": 147,
    "start_time": "2025-04-01T10:19:07.423Z"
   },
   {
    "duration": 7,
    "start_time": "2025-04-01T10:19:07.573Z"
   },
   {
    "duration": 139,
    "start_time": "2025-04-01T10:19:07.582Z"
   },
   {
    "duration": 354,
    "start_time": "2025-04-01T10:19:07.723Z"
   },
   {
    "duration": 49,
    "start_time": "2025-04-01T10:19:08.078Z"
   },
   {
    "duration": 508,
    "start_time": "2025-04-01T10:19:08.129Z"
   },
   {
    "duration": 169,
    "start_time": "2025-04-01T10:19:08.639Z"
   },
   {
    "duration": 132,
    "start_time": "2025-04-01T10:19:08.810Z"
   },
   {
    "duration": 84,
    "start_time": "2025-04-01T10:19:08.944Z"
   },
   {
    "duration": 57,
    "start_time": "2025-04-01T10:19:09.032Z"
   },
   {
    "duration": 0,
    "start_time": "2025-04-01T10:19:09.091Z"
   },
   {
    "duration": 0,
    "start_time": "2025-04-01T10:19:09.092Z"
   },
   {
    "duration": 0,
    "start_time": "2025-04-01T10:19:09.094Z"
   },
   {
    "duration": 0,
    "start_time": "2025-04-01T10:19:09.095Z"
   },
   {
    "duration": 0,
    "start_time": "2025-04-01T10:19:09.096Z"
   },
   {
    "duration": 0,
    "start_time": "2025-04-01T10:19:09.097Z"
   },
   {
    "duration": 0,
    "start_time": "2025-04-01T10:19:09.098Z"
   },
   {
    "duration": 0,
    "start_time": "2025-04-01T10:19:09.099Z"
   },
   {
    "duration": 0,
    "start_time": "2025-04-01T10:19:09.101Z"
   },
   {
    "duration": 0,
    "start_time": "2025-04-01T10:19:09.103Z"
   },
   {
    "duration": 0,
    "start_time": "2025-04-01T10:19:09.104Z"
   },
   {
    "duration": 0,
    "start_time": "2025-04-01T10:19:09.106Z"
   },
   {
    "duration": 0,
    "start_time": "2025-04-01T10:19:09.107Z"
   },
   {
    "duration": 0,
    "start_time": "2025-04-01T10:19:09.108Z"
   },
   {
    "duration": 0,
    "start_time": "2025-04-01T10:19:09.109Z"
   },
   {
    "duration": 3203,
    "start_time": "2025-04-01T10:20:30.438Z"
   },
   {
    "duration": 1414,
    "start_time": "2025-04-01T10:20:33.644Z"
   },
   {
    "duration": 5,
    "start_time": "2025-04-01T10:20:35.060Z"
   },
   {
    "duration": 1057,
    "start_time": "2025-04-01T10:20:35.067Z"
   },
   {
    "duration": 172,
    "start_time": "2025-04-01T10:20:36.126Z"
   },
   {
    "duration": 4,
    "start_time": "2025-04-01T10:20:36.304Z"
   },
   {
    "duration": 3227,
    "start_time": "2025-04-01T10:20:36.309Z"
   },
   {
    "duration": 108,
    "start_time": "2025-04-01T10:20:39.538Z"
   },
   {
    "duration": 144,
    "start_time": "2025-04-01T10:20:39.648Z"
   },
   {
    "duration": 122,
    "start_time": "2025-04-01T10:20:39.803Z"
   },
   {
    "duration": 113,
    "start_time": "2025-04-01T10:20:39.927Z"
   },
   {
    "duration": 16,
    "start_time": "2025-04-01T10:20:40.042Z"
   },
   {
    "duration": 5766,
    "start_time": "2025-04-01T10:20:40.060Z"
   },
   {
    "duration": 535,
    "start_time": "2025-04-01T10:20:45.828Z"
   },
   {
    "duration": 2293,
    "start_time": "2025-04-01T10:20:46.365Z"
   },
   {
    "duration": 3954,
    "start_time": "2025-04-01T10:20:48.659Z"
   },
   {
    "duration": 123,
    "start_time": "2025-04-01T10:20:52.617Z"
   },
   {
    "duration": 9,
    "start_time": "2025-04-01T10:20:52.742Z"
   },
   {
    "duration": 141,
    "start_time": "2025-04-01T10:20:52.753Z"
   },
   {
    "duration": 11,
    "start_time": "2025-04-01T10:20:52.896Z"
   },
   {
    "duration": 82,
    "start_time": "2025-04-01T10:20:52.908Z"
   },
   {
    "duration": 346,
    "start_time": "2025-04-01T10:20:53.005Z"
   },
   {
    "duration": 73,
    "start_time": "2025-04-01T10:20:53.353Z"
   },
   {
    "duration": 419,
    "start_time": "2025-04-01T10:20:53.428Z"
   },
   {
    "duration": 85,
    "start_time": "2025-04-01T10:20:53.849Z"
   },
   {
    "duration": 110,
    "start_time": "2025-04-01T10:20:53.936Z"
   },
   {
    "duration": 39,
    "start_time": "2025-04-01T10:20:54.048Z"
   },
   {
    "duration": 185,
    "start_time": "2025-04-01T10:20:54.103Z"
   },
   {
    "duration": 201,
    "start_time": "2025-04-01T10:20:54.290Z"
   },
   {
    "duration": 0,
    "start_time": "2025-04-01T10:20:54.493Z"
   },
   {
    "duration": 0,
    "start_time": "2025-04-01T10:20:54.494Z"
   },
   {
    "duration": 0,
    "start_time": "2025-04-01T10:20:54.504Z"
   },
   {
    "duration": 0,
    "start_time": "2025-04-01T10:20:54.505Z"
   },
   {
    "duration": 0,
    "start_time": "2025-04-01T10:20:54.507Z"
   },
   {
    "duration": 0,
    "start_time": "2025-04-01T10:20:54.508Z"
   },
   {
    "duration": 0,
    "start_time": "2025-04-01T10:20:54.510Z"
   },
   {
    "duration": 0,
    "start_time": "2025-04-01T10:20:54.511Z"
   },
   {
    "duration": 0,
    "start_time": "2025-04-01T10:20:54.512Z"
   },
   {
    "duration": 0,
    "start_time": "2025-04-01T10:20:54.513Z"
   },
   {
    "duration": 0,
    "start_time": "2025-04-01T10:20:54.514Z"
   },
   {
    "duration": 0,
    "start_time": "2025-04-01T10:20:54.515Z"
   },
   {
    "duration": 0,
    "start_time": "2025-04-01T10:20:54.516Z"
   },
   {
    "duration": 0,
    "start_time": "2025-04-01T10:20:54.518Z"
   },
   {
    "duration": 5,
    "start_time": "2025-04-01T10:21:27.162Z"
   },
   {
    "duration": 4,
    "start_time": "2025-04-01T10:21:40.449Z"
   },
   {
    "duration": 5,
    "start_time": "2025-04-01T10:21:44.961Z"
   },
   {
    "duration": 6,
    "start_time": "2025-04-01T10:21:45.996Z"
   },
   {
    "duration": 6,
    "start_time": "2025-04-01T10:21:51.667Z"
   },
   {
    "duration": 111020,
    "start_time": "2025-04-01T10:21:52.741Z"
   },
   {
    "duration": 3214,
    "start_time": "2025-04-01T10:25:31.780Z"
   },
   {
    "duration": 1578,
    "start_time": "2025-04-01T10:25:34.996Z"
   },
   {
    "duration": 5,
    "start_time": "2025-04-01T10:25:36.576Z"
   },
   {
    "duration": 1049,
    "start_time": "2025-04-01T10:25:36.583Z"
   },
   {
    "duration": 213,
    "start_time": "2025-04-01T10:25:37.634Z"
   },
   {
    "duration": 5,
    "start_time": "2025-04-01T10:25:37.848Z"
   },
   {
    "duration": 3542,
    "start_time": "2025-04-01T10:25:37.854Z"
   },
   {
    "duration": 130,
    "start_time": "2025-04-01T10:25:41.398Z"
   },
   {
    "duration": 138,
    "start_time": "2025-04-01T10:25:41.530Z"
   },
   {
    "duration": 119,
    "start_time": "2025-04-01T10:25:41.670Z"
   },
   {
    "duration": 130,
    "start_time": "2025-04-01T10:25:41.791Z"
   },
   {
    "duration": 22,
    "start_time": "2025-04-01T10:25:41.925Z"
   },
   {
    "duration": 6078,
    "start_time": "2025-04-01T10:25:41.950Z"
   },
   {
    "duration": 570,
    "start_time": "2025-04-01T10:25:48.031Z"
   },
   {
    "duration": 2471,
    "start_time": "2025-04-01T10:25:48.603Z"
   },
   {
    "duration": 4230,
    "start_time": "2025-04-01T10:25:51.110Z"
   },
   {
    "duration": 124,
    "start_time": "2025-04-01T10:25:55.342Z"
   },
   {
    "duration": 10,
    "start_time": "2025-04-01T10:25:55.468Z"
   },
   {
    "duration": 147,
    "start_time": "2025-04-01T10:25:55.480Z"
   },
   {
    "duration": 7,
    "start_time": "2025-04-01T10:25:55.629Z"
   },
   {
    "duration": 93,
    "start_time": "2025-04-01T10:25:55.638Z"
   },
   {
    "duration": 343,
    "start_time": "2025-04-01T10:25:55.734Z"
   },
   {
    "duration": 68,
    "start_time": "2025-04-01T10:25:56.079Z"
   },
   {
    "duration": 405,
    "start_time": "2025-04-01T10:25:56.149Z"
   },
   {
    "duration": 71,
    "start_time": "2025-04-01T10:25:56.604Z"
   },
   {
    "duration": 142,
    "start_time": "2025-04-01T10:25:56.679Z"
   },
   {
    "duration": 43,
    "start_time": "2025-04-01T10:25:56.824Z"
   },
   {
    "duration": 22,
    "start_time": "2025-04-01T10:25:56.869Z"
   },
   {
    "duration": 185,
    "start_time": "2025-04-01T10:25:56.893Z"
   },
   {
    "duration": 6,
    "start_time": "2025-04-01T10:25:57.080Z"
   },
   {
    "duration": 30,
    "start_time": "2025-04-01T10:25:57.088Z"
   },
   {
    "duration": 4,
    "start_time": "2025-04-01T10:25:57.120Z"
   },
   {
    "duration": 5,
    "start_time": "2025-04-01T10:25:57.125Z"
   },
   {
    "duration": 621375,
    "start_time": "2025-04-01T10:25:57.132Z"
   },
   {
    "duration": 8,
    "start_time": "2025-04-01T10:36:18.511Z"
   },
   {
    "duration": 21,
    "start_time": "2025-04-01T10:36:18.520Z"
   },
   {
    "duration": 3,
    "start_time": "2025-04-01T10:36:18.542Z"
   },
   {
    "duration": 1569,
    "start_time": "2025-04-01T10:36:18.547Z"
   },
   {
    "duration": 39610,
    "start_time": "2025-04-01T10:36:20.117Z"
   },
   {
    "duration": 47304,
    "start_time": "2025-04-01T10:36:59.811Z"
   },
   {
    "duration": 1598,
    "start_time": "2025-04-01T10:37:47.117Z"
   },
   {
    "duration": 142,
    "start_time": "2025-04-01T10:37:48.717Z"
   },
   {
    "duration": 555,
    "start_time": "2025-04-01T10:37:48.860Z"
   },
   {
    "duration": 7,
    "start_time": "2025-04-01T10:37:49.418Z"
   }
  ],
  "kernelspec": {
   "display_name": "Python 3 (ipykernel)",
   "language": "python",
   "name": "python3"
  },
  "language_info": {
   "codemirror_mode": {
    "name": "ipython",
    "version": 3
   },
   "file_extension": ".py",
   "mimetype": "text/x-python",
   "name": "python",
   "nbconvert_exporter": "python",
   "pygments_lexer": "ipython3",
   "version": "3.11.8"
  },
  "toc": {
   "base_numbering": 1,
   "nav_menu": {
    "height": "219px",
    "width": "279px"
   },
   "number_sections": true,
   "sideBar": true,
   "skip_h1_title": true,
   "title_cell": "Table of Contents",
   "title_sidebar": "Contents",
   "toc_cell": false,
   "toc_position": {},
   "toc_section_display": true,
   "toc_window_display": false
  }
 },
 "nbformat": 4,
 "nbformat_minor": 4
}
