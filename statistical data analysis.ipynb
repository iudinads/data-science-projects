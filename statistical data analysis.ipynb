{
 "cells": [
  {
   "cell_type": "markdown",
   "id": "db98781c",
   "metadata": {},
   "source": [
    "**Проект: Статистический анализ данных**\n",
    "\n",
    "В рамках данного проекта мы проведем статистический анализ данных, полученных от пользователей сервиса аренды самокатов GoFast. Цель нашего исследования заключается в выявлении ключевых факторов, влияющих на использование сервиса, а также в проверке гипотез, которые могут способствовать улучшению качества предоставляемых услуг.\n",
    "\n",
    "В рамках нашего анализа мы будем работать с данными о пользователях, их поездках и подписках, чтобы выявить закономерности и предложить рекомендации по оптимизации тарифных планов и увеличению числа пользователей."
   ]
  },
  {
   "cell_type": "code",
   "execution_count": 1,
   "id": "72576667",
   "metadata": {},
   "outputs": [],
   "source": [
    "import pandas as pd\n",
    "import matplotlib.pyplot as plt\n",
    "import numpy as np\n",
    "import scipy.stats as stats"
   ]
  },
  {
   "cell_type": "markdown",
   "id": "c42cbe00",
   "metadata": {},
   "source": [
    "#### Шаг 1. Загрузка данных"
   ]
  },
  {
   "cell_type": "code",
   "execution_count": 2,
   "id": "eff9f206",
   "metadata": {},
   "outputs": [],
   "source": [
    "data1 = pd.read_csv('/datasets/users_go.csv')\n",
    "data2 = pd.read_csv('/datasets/rides_go.csv')\n",
    "data3 = pd.read_csv('/datasets/subscriptions_go.csv')"
   ]
  },
  {
   "cell_type": "code",
   "execution_count": 3,
   "id": "b13db144",
   "metadata": {},
   "outputs": [
    {
     "data": {
      "text/html": [
       "<div>\n",
       "<style scoped>\n",
       "    .dataframe tbody tr th:only-of-type {\n",
       "        vertical-align: middle;\n",
       "    }\n",
       "\n",
       "    .dataframe tbody tr th {\n",
       "        vertical-align: top;\n",
       "    }\n",
       "\n",
       "    .dataframe thead th {\n",
       "        text-align: right;\n",
       "    }\n",
       "</style>\n",
       "<table border=\"1\" class=\"dataframe\">\n",
       "  <thead>\n",
       "    <tr style=\"text-align: right;\">\n",
       "      <th></th>\n",
       "      <th>user_id</th>\n",
       "      <th>name</th>\n",
       "      <th>age</th>\n",
       "      <th>city</th>\n",
       "      <th>subscription_type</th>\n",
       "    </tr>\n",
       "  </thead>\n",
       "  <tbody>\n",
       "    <tr>\n",
       "      <th>0</th>\n",
       "      <td>1</td>\n",
       "      <td>Кира</td>\n",
       "      <td>22</td>\n",
       "      <td>Тюмень</td>\n",
       "      <td>ultra</td>\n",
       "    </tr>\n",
       "    <tr>\n",
       "      <th>1</th>\n",
       "      <td>2</td>\n",
       "      <td>Станислав</td>\n",
       "      <td>31</td>\n",
       "      <td>Омск</td>\n",
       "      <td>ultra</td>\n",
       "    </tr>\n",
       "    <tr>\n",
       "      <th>2</th>\n",
       "      <td>3</td>\n",
       "      <td>Алексей</td>\n",
       "      <td>20</td>\n",
       "      <td>Москва</td>\n",
       "      <td>ultra</td>\n",
       "    </tr>\n",
       "    <tr>\n",
       "      <th>3</th>\n",
       "      <td>4</td>\n",
       "      <td>Константин</td>\n",
       "      <td>26</td>\n",
       "      <td>Ростов-на-Дону</td>\n",
       "      <td>ultra</td>\n",
       "    </tr>\n",
       "    <tr>\n",
       "      <th>4</th>\n",
       "      <td>5</td>\n",
       "      <td>Адель</td>\n",
       "      <td>28</td>\n",
       "      <td>Омск</td>\n",
       "      <td>ultra</td>\n",
       "    </tr>\n",
       "  </tbody>\n",
       "</table>\n",
       "</div>"
      ],
      "text/plain": [
       "   user_id        name  age            city subscription_type\n",
       "0        1        Кира   22          Тюмень             ultra\n",
       "1        2   Станислав   31            Омск             ultra\n",
       "2        3     Алексей   20          Москва             ultra\n",
       "3        4  Константин   26  Ростов-на-Дону             ultra\n",
       "4        5       Адель   28            Омск             ultra"
      ]
     },
     "execution_count": 3,
     "metadata": {},
     "output_type": "execute_result"
    }
   ],
   "source": [
    "data1.head()"
   ]
  },
  {
   "cell_type": "code",
   "execution_count": 4,
   "id": "d4878d5f",
   "metadata": {},
   "outputs": [
    {
     "name": "stdout",
     "output_type": "stream",
     "text": [
      "<class 'pandas.core.frame.DataFrame'>\n",
      "RangeIndex: 1565 entries, 0 to 1564\n",
      "Data columns (total 5 columns):\n",
      " #   Column             Non-Null Count  Dtype \n",
      "---  ------             --------------  ----- \n",
      " 0   user_id            1565 non-null   int64 \n",
      " 1   name               1565 non-null   object\n",
      " 2   age                1565 non-null   int64 \n",
      " 3   city               1565 non-null   object\n",
      " 4   subscription_type  1565 non-null   object\n",
      "dtypes: int64(2), object(3)\n",
      "memory usage: 61.3+ KB\n"
     ]
    }
   ],
   "source": [
    "data1.info()"
   ]
  },
  {
   "cell_type": "code",
   "execution_count": 5,
   "id": "a22c5a98",
   "metadata": {},
   "outputs": [
    {
     "data": {
      "text/html": [
       "<div>\n",
       "<style scoped>\n",
       "    .dataframe tbody tr th:only-of-type {\n",
       "        vertical-align: middle;\n",
       "    }\n",
       "\n",
       "    .dataframe tbody tr th {\n",
       "        vertical-align: top;\n",
       "    }\n",
       "\n",
       "    .dataframe thead th {\n",
       "        text-align: right;\n",
       "    }\n",
       "</style>\n",
       "<table border=\"1\" class=\"dataframe\">\n",
       "  <thead>\n",
       "    <tr style=\"text-align: right;\">\n",
       "      <th></th>\n",
       "      <th>user_id</th>\n",
       "      <th>distance</th>\n",
       "      <th>duration</th>\n",
       "      <th>date</th>\n",
       "    </tr>\n",
       "  </thead>\n",
       "  <tbody>\n",
       "    <tr>\n",
       "      <th>0</th>\n",
       "      <td>1</td>\n",
       "      <td>4409.919140</td>\n",
       "      <td>25.599769</td>\n",
       "      <td>2021-01-01</td>\n",
       "    </tr>\n",
       "    <tr>\n",
       "      <th>1</th>\n",
       "      <td>1</td>\n",
       "      <td>2617.592153</td>\n",
       "      <td>15.816871</td>\n",
       "      <td>2021-01-18</td>\n",
       "    </tr>\n",
       "    <tr>\n",
       "      <th>2</th>\n",
       "      <td>1</td>\n",
       "      <td>754.159807</td>\n",
       "      <td>6.232113</td>\n",
       "      <td>2021-04-20</td>\n",
       "    </tr>\n",
       "    <tr>\n",
       "      <th>3</th>\n",
       "      <td>1</td>\n",
       "      <td>2694.783254</td>\n",
       "      <td>18.511000</td>\n",
       "      <td>2021-08-11</td>\n",
       "    </tr>\n",
       "    <tr>\n",
       "      <th>4</th>\n",
       "      <td>1</td>\n",
       "      <td>4028.687306</td>\n",
       "      <td>26.265803</td>\n",
       "      <td>2021-08-28</td>\n",
       "    </tr>\n",
       "  </tbody>\n",
       "</table>\n",
       "</div>"
      ],
      "text/plain": [
       "   user_id     distance   duration        date\n",
       "0        1  4409.919140  25.599769  2021-01-01\n",
       "1        1  2617.592153  15.816871  2021-01-18\n",
       "2        1   754.159807   6.232113  2021-04-20\n",
       "3        1  2694.783254  18.511000  2021-08-11\n",
       "4        1  4028.687306  26.265803  2021-08-28"
      ]
     },
     "execution_count": 5,
     "metadata": {},
     "output_type": "execute_result"
    }
   ],
   "source": [
    "data2.head()"
   ]
  },
  {
   "cell_type": "code",
   "execution_count": 6,
   "id": "c572baab",
   "metadata": {},
   "outputs": [
    {
     "name": "stdout",
     "output_type": "stream",
     "text": [
      "<class 'pandas.core.frame.DataFrame'>\n",
      "RangeIndex: 18068 entries, 0 to 18067\n",
      "Data columns (total 4 columns):\n",
      " #   Column    Non-Null Count  Dtype  \n",
      "---  ------    --------------  -----  \n",
      " 0   user_id   18068 non-null  int64  \n",
      " 1   distance  18068 non-null  float64\n",
      " 2   duration  18068 non-null  float64\n",
      " 3   date      18068 non-null  object \n",
      "dtypes: float64(2), int64(1), object(1)\n",
      "memory usage: 564.8+ KB\n"
     ]
    }
   ],
   "source": [
    "data2.info()"
   ]
  },
  {
   "cell_type": "code",
   "execution_count": 7,
   "id": "ca3a402c",
   "metadata": {},
   "outputs": [
    {
     "data": {
      "text/html": [
       "<div>\n",
       "<style scoped>\n",
       "    .dataframe tbody tr th:only-of-type {\n",
       "        vertical-align: middle;\n",
       "    }\n",
       "\n",
       "    .dataframe tbody tr th {\n",
       "        vertical-align: top;\n",
       "    }\n",
       "\n",
       "    .dataframe thead th {\n",
       "        text-align: right;\n",
       "    }\n",
       "</style>\n",
       "<table border=\"1\" class=\"dataframe\">\n",
       "  <thead>\n",
       "    <tr style=\"text-align: right;\">\n",
       "      <th></th>\n",
       "      <th>subscription_type</th>\n",
       "      <th>minute_price</th>\n",
       "      <th>start_ride_price</th>\n",
       "      <th>subscription_fee</th>\n",
       "    </tr>\n",
       "  </thead>\n",
       "  <tbody>\n",
       "    <tr>\n",
       "      <th>0</th>\n",
       "      <td>free</td>\n",
       "      <td>8</td>\n",
       "      <td>50</td>\n",
       "      <td>0</td>\n",
       "    </tr>\n",
       "    <tr>\n",
       "      <th>1</th>\n",
       "      <td>ultra</td>\n",
       "      <td>6</td>\n",
       "      <td>0</td>\n",
       "      <td>199</td>\n",
       "    </tr>\n",
       "  </tbody>\n",
       "</table>\n",
       "</div>"
      ],
      "text/plain": [
       "  subscription_type  minute_price  start_ride_price  subscription_fee\n",
       "0              free             8                50                 0\n",
       "1             ultra             6                 0               199"
      ]
     },
     "execution_count": 7,
     "metadata": {},
     "output_type": "execute_result"
    }
   ],
   "source": [
    "data3.head()"
   ]
  },
  {
   "cell_type": "code",
   "execution_count": 8,
   "id": "588443f0",
   "metadata": {},
   "outputs": [
    {
     "name": "stdout",
     "output_type": "stream",
     "text": [
      "<class 'pandas.core.frame.DataFrame'>\n",
      "RangeIndex: 2 entries, 0 to 1\n",
      "Data columns (total 4 columns):\n",
      " #   Column             Non-Null Count  Dtype \n",
      "---  ------             --------------  ----- \n",
      " 0   subscription_type  2 non-null      object\n",
      " 1   minute_price       2 non-null      int64 \n",
      " 2   start_ride_price   2 non-null      int64 \n",
      " 3   subscription_fee   2 non-null      int64 \n",
      "dtypes: int64(3), object(1)\n",
      "memory usage: 192.0+ bytes\n"
     ]
    }
   ],
   "source": [
    "data3.info()"
   ]
  },
  {
   "cell_type": "markdown",
   "id": "74f7e714",
   "metadata": {},
   "source": [
    "Данные были успешно импортированы и изучена общая информация о них."
   ]
  },
  {
   "cell_type": "markdown",
   "id": "e95ebca7",
   "metadata": {},
   "source": [
    "#### Шаг 2. Предобработка данных"
   ]
  },
  {
   "cell_type": "code",
   "execution_count": 9,
   "id": "af6d202c",
   "metadata": {},
   "outputs": [
    {
     "name": "stdout",
     "output_type": "stream",
     "text": [
      "<class 'pandas.core.frame.DataFrame'>\n",
      "RangeIndex: 18068 entries, 0 to 18067\n",
      "Data columns (total 4 columns):\n",
      " #   Column    Non-Null Count  Dtype         \n",
      "---  ------    --------------  -----         \n",
      " 0   user_id   18068 non-null  int64         \n",
      " 1   distance  18068 non-null  float64       \n",
      " 2   duration  18068 non-null  float64       \n",
      " 3   date      18068 non-null  datetime64[ns]\n",
      "dtypes: datetime64[ns](1), float64(2), int64(1)\n",
      "memory usage: 564.8 KB\n"
     ]
    }
   ],
   "source": [
    "data2['date'] = pd.to_datetime(data2['date'])\n",
    "data2.info()"
   ]
  },
  {
   "cell_type": "code",
   "execution_count": 10,
   "id": "9b5c5703",
   "metadata": {},
   "outputs": [
    {
     "name": "stdout",
     "output_type": "stream",
     "text": [
      "<class 'pandas.core.frame.DataFrame'>\n",
      "RangeIndex: 18068 entries, 0 to 18067\n",
      "Data columns (total 5 columns):\n",
      " #   Column    Non-Null Count  Dtype         \n",
      "---  ------    --------------  -----         \n",
      " 0   user_id   18068 non-null  int64         \n",
      " 1   distance  18068 non-null  float64       \n",
      " 2   duration  18068 non-null  float64       \n",
      " 3   date      18068 non-null  datetime64[ns]\n",
      " 4   month     18068 non-null  int64         \n",
      "dtypes: datetime64[ns](1), float64(2), int64(2)\n",
      "memory usage: 705.9 KB\n"
     ]
    }
   ],
   "source": [
    "data2['month'] = data2['date'].dt.month\n",
    "data2.info()"
   ]
  },
  {
   "cell_type": "code",
   "execution_count": 11,
   "id": "b4f44dfa",
   "metadata": {},
   "outputs": [
    {
     "data": {
      "text/plain": [
       "user_id              0\n",
       "name                 0\n",
       "age                  0\n",
       "city                 0\n",
       "subscription_type    0\n",
       "dtype: int64"
      ]
     },
     "execution_count": 11,
     "metadata": {},
     "output_type": "execute_result"
    }
   ],
   "source": [
    "data1.isna().sum()"
   ]
  },
  {
   "cell_type": "code",
   "execution_count": 12,
   "id": "433fcc22",
   "metadata": {},
   "outputs": [
    {
     "data": {
      "text/plain": [
       "user_id     0\n",
       "distance    0\n",
       "duration    0\n",
       "date        0\n",
       "month       0\n",
       "dtype: int64"
      ]
     },
     "execution_count": 12,
     "metadata": {},
     "output_type": "execute_result"
    }
   ],
   "source": [
    "data2.isna().sum()"
   ]
  },
  {
   "cell_type": "code",
   "execution_count": 13,
   "id": "a84a29df",
   "metadata": {},
   "outputs": [
    {
     "data": {
      "text/plain": [
       "subscription_type    0\n",
       "minute_price         0\n",
       "start_ride_price     0\n",
       "subscription_fee     0\n",
       "dtype: int64"
      ]
     },
     "execution_count": 13,
     "metadata": {},
     "output_type": "execute_result"
    }
   ],
   "source": [
    "data3.isna().sum()"
   ]
  },
  {
   "cell_type": "code",
   "execution_count": 14,
   "id": "bd42f48c",
   "metadata": {},
   "outputs": [
    {
     "data": {
      "text/plain": [
       "(31, 0, 0)"
      ]
     },
     "execution_count": 14,
     "metadata": {},
     "output_type": "execute_result"
    }
   ],
   "source": [
    "data1.duplicated().sum(), data2.duplicated().sum(), data3.duplicated().sum()"
   ]
  },
  {
   "cell_type": "code",
   "execution_count": 15,
   "id": "5f390710",
   "metadata": {},
   "outputs": [],
   "source": [
    "data1 = data1.drop_duplicates().reset_index(drop=True)\n"
   ]
  },
  {
   "cell_type": "code",
   "execution_count": 16,
   "id": "8dd6e341",
   "metadata": {},
   "outputs": [
    {
     "data": {
      "text/plain": [
       "0"
      ]
     },
     "execution_count": 16,
     "metadata": {},
     "output_type": "execute_result"
    }
   ],
   "source": [
    "data1.duplicated().sum()"
   ]
  },
  {
   "cell_type": "markdown",
   "id": "c26a99e0",
   "metadata": {},
   "source": [
    "*Вывод:* был изменен тип данных столбца date в data2, также создан новый столбец month\n",
    "\n",
    "Была произведена проверка на наличие явных дубликатов во всех датафреймах: в data1 было 31 явных дубликатов, в data2 и data3 дубликатов нет\n",
    "\n",
    "Была сделана очистка data1 от явных дубликатов и повторная проверка"
   ]
  },
  {
   "cell_type": "markdown",
   "id": "212593c7",
   "metadata": {},
   "source": [
    "#### Шаг 3. Исследовательский анализ данных"
   ]
  },
  {
   "cell_type": "code",
   "execution_count": 17,
   "id": "c6eb18d7",
   "metadata": {},
   "outputs": [
    {
     "data": {
      "text/plain": [
       "Пятигорск         219\n",
       "Екатеринбург      204\n",
       "Ростов-на-Дону    198\n",
       "Краснодар         193\n",
       "Сочи              189\n",
       "Омск              183\n",
       "Тюмень            180\n",
       "Москва            168\n",
       "Name: city, dtype: int64"
      ]
     },
     "execution_count": 17,
     "metadata": {},
     "output_type": "execute_result"
    }
   ],
   "source": [
    "data1['city'].value_counts()"
   ]
  },
  {
   "cell_type": "code",
   "execution_count": 18,
   "id": "e18b4c1b",
   "metadata": {},
   "outputs": [
    {
     "name": "stdout",
     "output_type": "stream",
     "text": [
      "Пятигорск         219\n",
      "Екатеринбург      204\n",
      "Ростов-на-Дону    198\n",
      "Краснодар         193\n",
      "Сочи              189\n",
      "Омск              183\n",
      "Тюмень            180\n",
      "Москва            168\n",
      "Name: city, dtype: int64\n"
     ]
    },
    {
     "data": {
      "image/png": "[encoded data removed]",
      "text/plain": [
       "<Figure size 864x432 with 1 Axes>"
      ]
     },
     "metadata": {
      "needs_background": "light"
     },
     "output_type": "display_data"
    }
   ],
   "source": [
    "city_counts = data1['city'].value_counts()\n",
    "print(city_counts)\n",
    "\n",
    "plt.figure(figsize=(12, 6))\n",
    "\n",
    "city_counts.plot(kind='bar', edgecolor='black', color='skyblue', width=0.8)\n",
    "\n",
    "plt.title('Частота встречаемости городов')\n",
    "plt.xlabel('Город')\n",
    "plt.ylabel('Количество пользователей')\n",
    "\n",
    "plt.xticks(rotation=45)\n",
    "plt.subplots_adjust(bottom=0.2)\n",
    "plt.show()\n"
   ]
  },
  {
   "cell_type": "code",
   "execution_count": 19,
   "id": "2a01e589",
   "metadata": {},
   "outputs": [
    {
     "data": {
      "text/plain": [
       "free     835\n",
       "ultra    699\n",
       "Name: subscription_type, dtype: int64"
      ]
     },
     "execution_count": 19,
     "metadata": {},
     "output_type": "execute_result"
    }
   ],
   "source": [
    "subscription_counts = data1['subscription_type'].value_counts()\n",
    "subscription_counts"
   ]
  },
  {
   "cell_type": "code",
   "execution_count": 20,
   "id": "e7dcc05e",
   "metadata": {},
   "outputs": [
    {
     "data": {
      "image/png": "[encoded data removed]",
      "text/plain": [
       "<Figure size 576x576 with 1 Axes>"
      ]
     },
     "metadata": {},
     "output_type": "display_data"
    }
   ],
   "source": [
    "plt.figure(figsize=(8, 8))\n",
    "plt.pie(subscription_counts, labels=subscription_counts.index, autopct='%1.1f%%', startangle=90, colors=['skyblue', 'lightcoral'])\n",
    "plt.title('Соотношение пользователей с подпиской и без подписки')\n",
    "plt.axis('equal')\n",
    "plt.show()"
   ]
  },
  {
   "cell_type": "code",
   "execution_count": 21,
   "id": "1234bb70",
   "metadata": {
    "scrolled": true
   },
   "outputs": [
    {
     "data": {
      "text/plain": [
       "(25    145\n",
       " 24    132\n",
       " 26    131\n",
       " 23    129\n",
       " 27    119\n",
       " 22    119\n",
       " 28    112\n",
       " 21     93\n",
       " 20     71\n",
       " 30     68\n",
       " 29     68\n",
       " 31     48\n",
       " 19     47\n",
       " 18     46\n",
       " 32     41\n",
       " 33     39\n",
       " 17     26\n",
       " 34     19\n",
       " 16     19\n",
       " 35     15\n",
       " 15     13\n",
       " 14      9\n",
       " 13      8\n",
       " 36      6\n",
       " 12      4\n",
       " 38      3\n",
       " 37      2\n",
       " 39      1\n",
       " 43      1\n",
       " Name: age, dtype: int64,\n",
       " 43,\n",
       " 12,\n",
       " 25.0)"
      ]
     },
     "execution_count": 21,
     "metadata": {},
     "output_type": "execute_result"
    }
   ],
   "source": [
    "data1['age'].value_counts(), data1['age'].max(), data1['age'].min(),data1['age'].median()"
   ]
  },
  {
   "cell_type": "code",
   "execution_count": 22,
   "id": "2f53a8cf",
   "metadata": {
    "scrolled": true
   },
   "outputs": [
    {
     "data": {
      "image/png": "[encoded data removed]",
      "text/plain": [
       "<Figure size 864x432 with 1 Axes>"
      ]
     },
     "metadata": {
      "needs_background": "light"
     },
     "output_type": "display_data"
    }
   ],
   "source": [
    "plt.figure(figsize=(12, 6))\n",
    "\n",
    "data1['age'].hist(bins = 11, edgecolor='black', color='skyblue')\n",
    "plt.title('Гистограмма возрастов пользователей')\n",
    "plt.xlabel('Возраст')\n",
    "plt.ylabel('Количество пользователей')\n",
    "plt.xlim(10, 45)\n",
    "\n",
    "plt.show()"
   ]
  },
  {
   "cell_type": "code",
   "execution_count": 23,
   "id": "1315d279",
   "metadata": {
    "scrolled": true
   },
   "outputs": [
    {
     "data": {
      "text/html": [
       "<div>\n",
       "<style scoped>\n",
       "    .dataframe tbody tr th:only-of-type {\n",
       "        vertical-align: middle;\n",
       "    }\n",
       "\n",
       "    .dataframe tbody tr th {\n",
       "        vertical-align: top;\n",
       "    }\n",
       "\n",
       "    .dataframe thead th {\n",
       "        text-align: right;\n",
       "    }\n",
       "</style>\n",
       "<table border=\"1\" class=\"dataframe\">\n",
       "  <thead>\n",
       "    <tr style=\"text-align: right;\">\n",
       "      <th></th>\n",
       "      <th>user_id</th>\n",
       "      <th>name</th>\n",
       "      <th>age</th>\n",
       "      <th>city</th>\n",
       "      <th>subscription_type</th>\n",
       "      <th>distance</th>\n",
       "      <th>duration</th>\n",
       "      <th>date</th>\n",
       "      <th>month</th>\n",
       "    </tr>\n",
       "  </thead>\n",
       "  <tbody>\n",
       "    <tr>\n",
       "      <th>0</th>\n",
       "      <td>1</td>\n",
       "      <td>Кира</td>\n",
       "      <td>22</td>\n",
       "      <td>Тюмень</td>\n",
       "      <td>ultra</td>\n",
       "      <td>4409.919140</td>\n",
       "      <td>25.599769</td>\n",
       "      <td>2021-01-01</td>\n",
       "      <td>1</td>\n",
       "    </tr>\n",
       "    <tr>\n",
       "      <th>1</th>\n",
       "      <td>1</td>\n",
       "      <td>Кира</td>\n",
       "      <td>22</td>\n",
       "      <td>Тюмень</td>\n",
       "      <td>ultra</td>\n",
       "      <td>2617.592153</td>\n",
       "      <td>15.816871</td>\n",
       "      <td>2021-01-18</td>\n",
       "      <td>1</td>\n",
       "    </tr>\n",
       "    <tr>\n",
       "      <th>2</th>\n",
       "      <td>1</td>\n",
       "      <td>Кира</td>\n",
       "      <td>22</td>\n",
       "      <td>Тюмень</td>\n",
       "      <td>ultra</td>\n",
       "      <td>754.159807</td>\n",
       "      <td>6.232113</td>\n",
       "      <td>2021-04-20</td>\n",
       "      <td>4</td>\n",
       "    </tr>\n",
       "    <tr>\n",
       "      <th>3</th>\n",
       "      <td>1</td>\n",
       "      <td>Кира</td>\n",
       "      <td>22</td>\n",
       "      <td>Тюмень</td>\n",
       "      <td>ultra</td>\n",
       "      <td>2694.783254</td>\n",
       "      <td>18.511000</td>\n",
       "      <td>2021-08-11</td>\n",
       "      <td>8</td>\n",
       "    </tr>\n",
       "    <tr>\n",
       "      <th>4</th>\n",
       "      <td>1</td>\n",
       "      <td>Кира</td>\n",
       "      <td>22</td>\n",
       "      <td>Тюмень</td>\n",
       "      <td>ultra</td>\n",
       "      <td>4028.687306</td>\n",
       "      <td>26.265803</td>\n",
       "      <td>2021-08-28</td>\n",
       "      <td>8</td>\n",
       "    </tr>\n",
       "  </tbody>\n",
       "</table>\n",
       "</div>"
      ],
      "text/plain": [
       "   user_id  name  age    city subscription_type     distance   duration  \\\n",
       "0        1  Кира   22  Тюмень             ultra  4409.919140  25.599769   \n",
       "1        1  Кира   22  Тюмень             ultra  2617.592153  15.816871   \n",
       "2        1  Кира   22  Тюмень             ultra   754.159807   6.232113   \n",
       "3        1  Кира   22  Тюмень             ultra  2694.783254  18.511000   \n",
       "4        1  Кира   22  Тюмень             ultra  4028.687306  26.265803   \n",
       "\n",
       "        date  month  \n",
       "0 2021-01-01      1  \n",
       "1 2021-01-18      1  \n",
       "2 2021-04-20      4  \n",
       "3 2021-08-11      8  \n",
       "4 2021-08-28      8  "
      ]
     },
     "execution_count": 23,
     "metadata": {},
     "output_type": "execute_result"
    }
   ],
   "source": [
    "merged_data =  pd.merge(data1, data2, on='user_id', how='left')\n",
    "merged_data.head()"
   ]
  },
  {
   "cell_type": "code",
   "execution_count": 24,
   "id": "8bc0a27b",
   "metadata": {},
   "outputs": [
    {
     "data": {
      "text/plain": [
       "(7211.007744598519, 0.855682925681208, 3133.6099936787664)"
      ]
     },
     "execution_count": 24,
     "metadata": {},
     "output_type": "execute_result"
    }
   ],
   "source": [
    "merged_data['distance'].max(), merged_data['distance'].min(), merged_data['distance'].median()"
   ]
  },
  {
   "cell_type": "code",
   "execution_count": 25,
   "id": "34e39c4e",
   "metadata": {
    "scrolled": true
   },
   "outputs": [
    {
     "data": {
      "image/png": "[encoded data removed]",
      "text/plain": [
       "<Figure size 864x432 with 1 Axes>"
      ]
     },
     "metadata": {
      "needs_background": "light"
     },
     "output_type": "display_data"
    }
   ],
   "source": [
    "plt.figure(figsize=(12, 6))\n",
    "\n",
    "merged_data['distance'].hist(bins = 11, edgecolor='black', color='skyblue')\n",
    "plt.title('Гистограмма расстояния')\n",
    "plt.xlabel('Расстояние (м)')\n",
    "plt.ylabel('Количество пользователей')\n",
    "\n",
    "plt.show()"
   ]
  },
  {
   "cell_type": "code",
   "execution_count": 26,
   "id": "1be6be3a",
   "metadata": {},
   "outputs": [
    {
     "data": {
      "text/plain": [
       "(40.82396261922424, 0.5, 17.678394530393803)"
      ]
     },
     "execution_count": 26,
     "metadata": {},
     "output_type": "execute_result"
    }
   ],
   "source": [
    "merged_data['duration'].max(), merged_data['duration'].min(), merged_data['duration'].median()"
   ]
  },
  {
   "cell_type": "code",
   "execution_count": 27,
   "id": "864a6669",
   "metadata": {},
   "outputs": [
    {
     "data": {
      "image/png": "[encoded data removed]",
      "text/plain": [
       "<Figure size 864x432 with 1 Axes>"
      ]
     },
     "metadata": {
      "needs_background": "light"
     },
     "output_type": "display_data"
    }
   ],
   "source": [
    "plt.figure(figsize=(12, 6))\n",
    "\n",
    "merged_data['duration'].hist(bins = 11, edgecolor='black', color='skyblue')\n",
    "plt.title('Гистограмма продолжительности поездок')\n",
    "plt.xlabel('Продолжтельность (мин)')\n",
    "plt.ylabel('Количество пользователей')\n",
    "\n",
    "plt.show()"
   ]
  },
  {
   "cell_type": "code",
   "execution_count": 28,
   "id": "93e7e0cc",
   "metadata": {
    "scrolled": true
   },
   "outputs": [
    {
     "data": {
      "text/html": [
       "<div>\n",
       "<style scoped>\n",
       "    .dataframe tbody tr th:only-of-type {\n",
       "        vertical-align: middle;\n",
       "    }\n",
       "\n",
       "    .dataframe tbody tr th {\n",
       "        vertical-align: top;\n",
       "    }\n",
       "\n",
       "    .dataframe thead th {\n",
       "        text-align: right;\n",
       "    }\n",
       "</style>\n",
       "<table border=\"1\" class=\"dataframe\">\n",
       "  <thead>\n",
       "    <tr style=\"text-align: right;\">\n",
       "      <th></th>\n",
       "      <th>user_id</th>\n",
       "      <th>name</th>\n",
       "      <th>age</th>\n",
       "      <th>city</th>\n",
       "      <th>subscription_type</th>\n",
       "      <th>distance</th>\n",
       "      <th>duration</th>\n",
       "      <th>date</th>\n",
       "      <th>month</th>\n",
       "    </tr>\n",
       "  </thead>\n",
       "  <tbody>\n",
       "    <tr>\n",
       "      <th>15132</th>\n",
       "      <td>1325</td>\n",
       "      <td>Амалия</td>\n",
       "      <td>36</td>\n",
       "      <td>Сочи</td>\n",
       "      <td>free</td>\n",
       "      <td>4030.308008</td>\n",
       "      <td>0.5</td>\n",
       "      <td>2021-12-22</td>\n",
       "      <td>12</td>\n",
       "    </tr>\n",
       "    <tr>\n",
       "      <th>17909</th>\n",
       "      <td>1524</td>\n",
       "      <td>Матвей</td>\n",
       "      <td>32</td>\n",
       "      <td>Москва</td>\n",
       "      <td>free</td>\n",
       "      <td>4103.998874</td>\n",
       "      <td>0.5</td>\n",
       "      <td>2021-06-18</td>\n",
       "      <td>6</td>\n",
       "    </tr>\n",
       "    <tr>\n",
       "      <th>10692</th>\n",
       "      <td>1006</td>\n",
       "      <td>Эльмира</td>\n",
       "      <td>25</td>\n",
       "      <td>Ростов-на-Дону</td>\n",
       "      <td>free</td>\n",
       "      <td>4106.278268</td>\n",
       "      <td>0.5</td>\n",
       "      <td>2021-10-31</td>\n",
       "      <td>10</td>\n",
       "    </tr>\n",
       "    <tr>\n",
       "      <th>9698</th>\n",
       "      <td>937</td>\n",
       "      <td>Родион</td>\n",
       "      <td>22</td>\n",
       "      <td>Ростов-на-Дону</td>\n",
       "      <td>free</td>\n",
       "      <td>4169.066800</td>\n",
       "      <td>0.5</td>\n",
       "      <td>2021-12-12</td>\n",
       "      <td>12</td>\n",
       "    </tr>\n",
       "    <tr>\n",
       "      <th>14342</th>\n",
       "      <td>1268</td>\n",
       "      <td>Юлия</td>\n",
       "      <td>26</td>\n",
       "      <td>Краснодар</td>\n",
       "      <td>free</td>\n",
       "      <td>4177.139336</td>\n",
       "      <td>0.5</td>\n",
       "      <td>2021-06-09</td>\n",
       "      <td>6</td>\n",
       "    </tr>\n",
       "    <tr>\n",
       "      <th>...</th>\n",
       "      <td>...</td>\n",
       "      <td>...</td>\n",
       "      <td>...</td>\n",
       "      <td>...</td>\n",
       "      <td>...</td>\n",
       "      <td>...</td>\n",
       "      <td>...</td>\n",
       "      <td>...</td>\n",
       "      <td>...</td>\n",
       "    </tr>\n",
       "    <tr>\n",
       "      <th>14574</th>\n",
       "      <td>1285</td>\n",
       "      <td>Станислав</td>\n",
       "      <td>27</td>\n",
       "      <td>Пятигорск</td>\n",
       "      <td>free</td>\n",
       "      <td>6316.574814</td>\n",
       "      <td>0.5</td>\n",
       "      <td>2021-09-25</td>\n",
       "      <td>9</td>\n",
       "    </tr>\n",
       "    <tr>\n",
       "      <th>13701</th>\n",
       "      <td>1224</td>\n",
       "      <td>Александр</td>\n",
       "      <td>25</td>\n",
       "      <td>Пятигорск</td>\n",
       "      <td>free</td>\n",
       "      <td>6414.516026</td>\n",
       "      <td>0.5</td>\n",
       "      <td>2021-07-15</td>\n",
       "      <td>7</td>\n",
       "    </tr>\n",
       "    <tr>\n",
       "      <th>11385</th>\n",
       "      <td>1057</td>\n",
       "      <td>Адель</td>\n",
       "      <td>26</td>\n",
       "      <td>Москва</td>\n",
       "      <td>free</td>\n",
       "      <td>6601.197575</td>\n",
       "      <td>0.5</td>\n",
       "      <td>2021-02-07</td>\n",
       "      <td>2</td>\n",
       "    </tr>\n",
       "    <tr>\n",
       "      <th>17242</th>\n",
       "      <td>1477</td>\n",
       "      <td>Ян</td>\n",
       "      <td>17</td>\n",
       "      <td>Сочи</td>\n",
       "      <td>free</td>\n",
       "      <td>6724.932981</td>\n",
       "      <td>0.5</td>\n",
       "      <td>2021-01-12</td>\n",
       "      <td>1</td>\n",
       "    </tr>\n",
       "    <tr>\n",
       "      <th>16309</th>\n",
       "      <td>1411</td>\n",
       "      <td>Александр</td>\n",
       "      <td>20</td>\n",
       "      <td>Пятигорск</td>\n",
       "      <td>free</td>\n",
       "      <td>7211.007745</td>\n",
       "      <td>0.5</td>\n",
       "      <td>2021-04-15</td>\n",
       "      <td>4</td>\n",
       "    </tr>\n",
       "  </tbody>\n",
       "</table>\n",
       "<p>95 rows × 9 columns</p>\n",
       "</div>"
      ],
      "text/plain": [
       "       user_id       name  age            city subscription_type     distance  \\\n",
       "15132     1325     Амалия   36            Сочи              free  4030.308008   \n",
       "17909     1524     Матвей   32          Москва              free  4103.998874   \n",
       "10692     1006    Эльмира   25  Ростов-на-Дону              free  4106.278268   \n",
       "9698       937     Родион   22  Ростов-на-Дону              free  4169.066800   \n",
       "14342     1268       Юлия   26       Краснодар              free  4177.139336   \n",
       "...        ...        ...  ...             ...               ...          ...   \n",
       "14574     1285  Станислав   27       Пятигорск              free  6316.574814   \n",
       "13701     1224  Александр   25       Пятигорск              free  6414.516026   \n",
       "11385     1057      Адель   26          Москва              free  6601.197575   \n",
       "17242     1477         Ян   17            Сочи              free  6724.932981   \n",
       "16309     1411  Александр   20       Пятигорск              free  7211.007745   \n",
       "\n",
       "       duration       date  month  \n",
       "15132       0.5 2021-12-22     12  \n",
       "17909       0.5 2021-06-18      6  \n",
       "10692       0.5 2021-10-31     10  \n",
       "9698        0.5 2021-12-12     12  \n",
       "14342       0.5 2021-06-09      6  \n",
       "...         ...        ...    ...  \n",
       "14574       0.5 2021-09-25      9  \n",
       "13701       0.5 2021-07-15      7  \n",
       "11385       0.5 2021-02-07      2  \n",
       "17242       0.5 2021-01-12      1  \n",
       "16309       0.5 2021-04-15      4  \n",
       "\n",
       "[95 rows x 9 columns]"
      ]
     },
     "execution_count": 28,
     "metadata": {},
     "output_type": "execute_result"
    }
   ],
   "source": [
    "merged_data[merged_data['duration'] <= 1].sort_values(by='distance')"
   ]
  },
  {
   "cell_type": "code",
   "execution_count": 29,
   "id": "6b995683",
   "metadata": {},
   "outputs": [],
   "source": [
    "merged_data = merged_data.query('duration > 1')"
   ]
  },
  {
   "cell_type": "markdown",
   "id": "5af09441",
   "metadata": {},
   "source": [
    "<div class=\"alert alert-info\"> <b>Комментарий</b> рассмотрела поездки с подолжительностью не дольше 1 минуты, могу сделать вывод о том, что это сбой в системе. Максимальная скорость самокатов окло 25 км/ч, за 30 секунд максиильманое расстроение могло бы быть 210м, но не 4030м. Также на всякий случай проверила другие короткие поездки (от 1 до 5 мин), но там расстояние соответствует действительности </div>"
   ]
  },
  {
   "cell_type": "markdown",
   "id": "cde456fa",
   "metadata": {},
   "source": [
    "**Вывод:**\n",
    "1. Больше всего пользователей из Пятигорска (219), меньше всего из Москвы (168).\n",
    "2. 54.4% пользователей не имеют подписки, а 45.6% имеют.\n",
    "3. Возраст пользователей варьируется от 12 до 43, однако большему проценту пользователей 25 лет.\n",
    "4. Больший процент пользователей за свою поездку проехал 3150м.\n",
    "5. Самая частая продолжительность поездки составляет 17-18 мин."
   ]
  },
  {
   "cell_type": "markdown",
   "id": "4ef51331",
   "metadata": {},
   "source": [
    "#### Шаг 4. Объединение данных"
   ]
  },
  {
   "cell_type": "code",
   "execution_count": 30,
   "id": "6bf288b5",
   "metadata": {},
   "outputs": [
    {
     "data": {
      "text/html": [
       "<div>\n",
       "<style scoped>\n",
       "    .dataframe tbody tr th:only-of-type {\n",
       "        vertical-align: middle;\n",
       "    }\n",
       "\n",
       "    .dataframe tbody tr th {\n",
       "        vertical-align: top;\n",
       "    }\n",
       "\n",
       "    .dataframe thead th {\n",
       "        text-align: right;\n",
       "    }\n",
       "</style>\n",
       "<table border=\"1\" class=\"dataframe\">\n",
       "  <thead>\n",
       "    <tr style=\"text-align: right;\">\n",
       "      <th></th>\n",
       "      <th>user_id</th>\n",
       "      <th>name</th>\n",
       "      <th>age</th>\n",
       "      <th>city</th>\n",
       "      <th>subscription_type</th>\n",
       "      <th>distance</th>\n",
       "      <th>duration</th>\n",
       "      <th>date</th>\n",
       "      <th>month</th>\n",
       "      <th>minute_price</th>\n",
       "      <th>start_ride_price</th>\n",
       "      <th>subscription_fee</th>\n",
       "    </tr>\n",
       "  </thead>\n",
       "  <tbody>\n",
       "    <tr>\n",
       "      <th>0</th>\n",
       "      <td>1</td>\n",
       "      <td>Кира</td>\n",
       "      <td>22</td>\n",
       "      <td>Тюмень</td>\n",
       "      <td>ultra</td>\n",
       "      <td>4409.919140</td>\n",
       "      <td>26</td>\n",
       "      <td>2021-01-01</td>\n",
       "      <td>1</td>\n",
       "      <td>6</td>\n",
       "      <td>0</td>\n",
       "      <td>199</td>\n",
       "    </tr>\n",
       "    <tr>\n",
       "      <th>1</th>\n",
       "      <td>1</td>\n",
       "      <td>Кира</td>\n",
       "      <td>22</td>\n",
       "      <td>Тюмень</td>\n",
       "      <td>ultra</td>\n",
       "      <td>2617.592153</td>\n",
       "      <td>16</td>\n",
       "      <td>2021-01-18</td>\n",
       "      <td>1</td>\n",
       "      <td>6</td>\n",
       "      <td>0</td>\n",
       "      <td>199</td>\n",
       "    </tr>\n",
       "    <tr>\n",
       "      <th>2</th>\n",
       "      <td>1</td>\n",
       "      <td>Кира</td>\n",
       "      <td>22</td>\n",
       "      <td>Тюмень</td>\n",
       "      <td>ultra</td>\n",
       "      <td>754.159807</td>\n",
       "      <td>7</td>\n",
       "      <td>2021-04-20</td>\n",
       "      <td>4</td>\n",
       "      <td>6</td>\n",
       "      <td>0</td>\n",
       "      <td>199</td>\n",
       "    </tr>\n",
       "    <tr>\n",
       "      <th>3</th>\n",
       "      <td>1</td>\n",
       "      <td>Кира</td>\n",
       "      <td>22</td>\n",
       "      <td>Тюмень</td>\n",
       "      <td>ultra</td>\n",
       "      <td>2694.783254</td>\n",
       "      <td>19</td>\n",
       "      <td>2021-08-11</td>\n",
       "      <td>8</td>\n",
       "      <td>6</td>\n",
       "      <td>0</td>\n",
       "      <td>199</td>\n",
       "    </tr>\n",
       "    <tr>\n",
       "      <th>4</th>\n",
       "      <td>1</td>\n",
       "      <td>Кира</td>\n",
       "      <td>22</td>\n",
       "      <td>Тюмень</td>\n",
       "      <td>ultra</td>\n",
       "      <td>4028.687306</td>\n",
       "      <td>27</td>\n",
       "      <td>2021-08-28</td>\n",
       "      <td>8</td>\n",
       "      <td>6</td>\n",
       "      <td>0</td>\n",
       "      <td>199</td>\n",
       "    </tr>\n",
       "  </tbody>\n",
       "</table>\n",
       "</div>"
      ],
      "text/plain": [
       "   user_id  name  age    city subscription_type     distance  duration  \\\n",
       "0        1  Кира   22  Тюмень             ultra  4409.919140        26   \n",
       "1        1  Кира   22  Тюмень             ultra  2617.592153        16   \n",
       "2        1  Кира   22  Тюмень             ultra   754.159807         7   \n",
       "3        1  Кира   22  Тюмень             ultra  2694.783254        19   \n",
       "4        1  Кира   22  Тюмень             ultra  4028.687306        27   \n",
       "\n",
       "        date  month  minute_price  start_ride_price  subscription_fee  \n",
       "0 2021-01-01      1             6                 0               199  \n",
       "1 2021-01-18      1             6                 0               199  \n",
       "2 2021-04-20      4             6                 0               199  \n",
       "3 2021-08-11      8             6                 0               199  \n",
       "4 2021-08-28      8             6                 0               199  "
      ]
     },
     "execution_count": 30,
     "metadata": {},
     "output_type": "execute_result"
    }
   ],
   "source": [
    "full_data = pd.merge(merged_data, data3, on='subscription_type', how='left')\n",
    "full_data['duration'] = np.ceil(full_data['duration']).astype('int')\n",
    "full_data.head()"
   ]
  },
  {
   "cell_type": "code",
   "execution_count": 31,
   "id": "0e1f9f13",
   "metadata": {},
   "outputs": [
    {
     "data": {
      "text/html": [
       "<div>\n",
       "<style scoped>\n",
       "    .dataframe tbody tr th:only-of-type {\n",
       "        vertical-align: middle;\n",
       "    }\n",
       "\n",
       "    .dataframe tbody tr th {\n",
       "        vertical-align: top;\n",
       "    }\n",
       "\n",
       "    .dataframe thead th {\n",
       "        text-align: right;\n",
       "    }\n",
       "</style>\n",
       "<table border=\"1\" class=\"dataframe\">\n",
       "  <thead>\n",
       "    <tr style=\"text-align: right;\">\n",
       "      <th></th>\n",
       "      <th>user_id</th>\n",
       "      <th>name</th>\n",
       "      <th>age</th>\n",
       "      <th>city</th>\n",
       "      <th>subscription_type</th>\n",
       "      <th>distance</th>\n",
       "      <th>duration</th>\n",
       "      <th>date</th>\n",
       "      <th>month</th>\n",
       "      <th>minute_price</th>\n",
       "      <th>start_ride_price</th>\n",
       "      <th>subscription_fee</th>\n",
       "    </tr>\n",
       "  </thead>\n",
       "  <tbody>\n",
       "    <tr>\n",
       "      <th>0</th>\n",
       "      <td>1</td>\n",
       "      <td>Кира</td>\n",
       "      <td>22</td>\n",
       "      <td>Тюмень</td>\n",
       "      <td>ultra</td>\n",
       "      <td>4409.919140</td>\n",
       "      <td>26</td>\n",
       "      <td>2021-01-01</td>\n",
       "      <td>1</td>\n",
       "      <td>6</td>\n",
       "      <td>0</td>\n",
       "      <td>199</td>\n",
       "    </tr>\n",
       "    <tr>\n",
       "      <th>1</th>\n",
       "      <td>1</td>\n",
       "      <td>Кира</td>\n",
       "      <td>22</td>\n",
       "      <td>Тюмень</td>\n",
       "      <td>ultra</td>\n",
       "      <td>2617.592153</td>\n",
       "      <td>16</td>\n",
       "      <td>2021-01-18</td>\n",
       "      <td>1</td>\n",
       "      <td>6</td>\n",
       "      <td>0</td>\n",
       "      <td>199</td>\n",
       "    </tr>\n",
       "    <tr>\n",
       "      <th>2</th>\n",
       "      <td>1</td>\n",
       "      <td>Кира</td>\n",
       "      <td>22</td>\n",
       "      <td>Тюмень</td>\n",
       "      <td>ultra</td>\n",
       "      <td>754.159807</td>\n",
       "      <td>7</td>\n",
       "      <td>2021-04-20</td>\n",
       "      <td>4</td>\n",
       "      <td>6</td>\n",
       "      <td>0</td>\n",
       "      <td>199</td>\n",
       "    </tr>\n",
       "    <tr>\n",
       "      <th>3</th>\n",
       "      <td>1</td>\n",
       "      <td>Кира</td>\n",
       "      <td>22</td>\n",
       "      <td>Тюмень</td>\n",
       "      <td>ultra</td>\n",
       "      <td>2694.783254</td>\n",
       "      <td>19</td>\n",
       "      <td>2021-08-11</td>\n",
       "      <td>8</td>\n",
       "      <td>6</td>\n",
       "      <td>0</td>\n",
       "      <td>199</td>\n",
       "    </tr>\n",
       "    <tr>\n",
       "      <th>4</th>\n",
       "      <td>1</td>\n",
       "      <td>Кира</td>\n",
       "      <td>22</td>\n",
       "      <td>Тюмень</td>\n",
       "      <td>ultra</td>\n",
       "      <td>4028.687306</td>\n",
       "      <td>27</td>\n",
       "      <td>2021-08-28</td>\n",
       "      <td>8</td>\n",
       "      <td>6</td>\n",
       "      <td>0</td>\n",
       "      <td>199</td>\n",
       "    </tr>\n",
       "  </tbody>\n",
       "</table>\n",
       "</div>"
      ],
      "text/plain": [
       "   user_id  name  age    city subscription_type     distance  duration  \\\n",
       "0        1  Кира   22  Тюмень             ultra  4409.919140        26   \n",
       "1        1  Кира   22  Тюмень             ultra  2617.592153        16   \n",
       "2        1  Кира   22  Тюмень             ultra   754.159807         7   \n",
       "3        1  Кира   22  Тюмень             ultra  2694.783254        19   \n",
       "4        1  Кира   22  Тюмень             ultra  4028.687306        27   \n",
       "\n",
       "        date  month  minute_price  start_ride_price  subscription_fee  \n",
       "0 2021-01-01      1             6                 0               199  \n",
       "1 2021-01-18      1             6                 0               199  \n",
       "2 2021-04-20      4             6                 0               199  \n",
       "3 2021-08-11      8             6                 0               199  \n",
       "4 2021-08-28      8             6                 0               199  "
      ]
     },
     "execution_count": 31,
     "metadata": {},
     "output_type": "execute_result"
    }
   ],
   "source": [
    "data_query1 = full_data.query('subscription_type == \"ultra\"')\n",
    "data_query1.head()"
   ]
  },
  {
   "cell_type": "code",
   "execution_count": 32,
   "id": "4e2f2b50",
   "metadata": {
    "scrolled": true
   },
   "outputs": [
    {
     "data": {
      "text/html": [
       "<div>\n",
       "<style scoped>\n",
       "    .dataframe tbody tr th:only-of-type {\n",
       "        vertical-align: middle;\n",
       "    }\n",
       "\n",
       "    .dataframe tbody tr th {\n",
       "        vertical-align: top;\n",
       "    }\n",
       "\n",
       "    .dataframe thead th {\n",
       "        text-align: right;\n",
       "    }\n",
       "</style>\n",
       "<table border=\"1\" class=\"dataframe\">\n",
       "  <thead>\n",
       "    <tr style=\"text-align: right;\">\n",
       "      <th></th>\n",
       "      <th>user_id</th>\n",
       "      <th>name</th>\n",
       "      <th>age</th>\n",
       "      <th>city</th>\n",
       "      <th>subscription_type</th>\n",
       "      <th>distance</th>\n",
       "      <th>duration</th>\n",
       "      <th>date</th>\n",
       "      <th>month</th>\n",
       "      <th>minute_price</th>\n",
       "      <th>start_ride_price</th>\n",
       "      <th>subscription_fee</th>\n",
       "    </tr>\n",
       "  </thead>\n",
       "  <tbody>\n",
       "    <tr>\n",
       "      <th>6500</th>\n",
       "      <td>700</td>\n",
       "      <td>Айдар</td>\n",
       "      <td>22</td>\n",
       "      <td>Омск</td>\n",
       "      <td>free</td>\n",
       "      <td>2515.690719</td>\n",
       "      <td>15</td>\n",
       "      <td>2021-01-02</td>\n",
       "      <td>1</td>\n",
       "      <td>8</td>\n",
       "      <td>50</td>\n",
       "      <td>0</td>\n",
       "    </tr>\n",
       "    <tr>\n",
       "      <th>6501</th>\n",
       "      <td>700</td>\n",
       "      <td>Айдар</td>\n",
       "      <td>22</td>\n",
       "      <td>Омск</td>\n",
       "      <td>free</td>\n",
       "      <td>846.932642</td>\n",
       "      <td>17</td>\n",
       "      <td>2021-02-01</td>\n",
       "      <td>2</td>\n",
       "      <td>8</td>\n",
       "      <td>50</td>\n",
       "      <td>0</td>\n",
       "    </tr>\n",
       "    <tr>\n",
       "      <th>6502</th>\n",
       "      <td>700</td>\n",
       "      <td>Айдар</td>\n",
       "      <td>22</td>\n",
       "      <td>Омск</td>\n",
       "      <td>free</td>\n",
       "      <td>4004.434142</td>\n",
       "      <td>21</td>\n",
       "      <td>2021-02-04</td>\n",
       "      <td>2</td>\n",
       "      <td>8</td>\n",
       "      <td>50</td>\n",
       "      <td>0</td>\n",
       "    </tr>\n",
       "    <tr>\n",
       "      <th>6503</th>\n",
       "      <td>700</td>\n",
       "      <td>Айдар</td>\n",
       "      <td>22</td>\n",
       "      <td>Омск</td>\n",
       "      <td>free</td>\n",
       "      <td>1205.911290</td>\n",
       "      <td>10</td>\n",
       "      <td>2021-02-10</td>\n",
       "      <td>2</td>\n",
       "      <td>8</td>\n",
       "      <td>50</td>\n",
       "      <td>0</td>\n",
       "    </tr>\n",
       "    <tr>\n",
       "      <th>6504</th>\n",
       "      <td>700</td>\n",
       "      <td>Айдар</td>\n",
       "      <td>22</td>\n",
       "      <td>Омск</td>\n",
       "      <td>free</td>\n",
       "      <td>3047.379435</td>\n",
       "      <td>18</td>\n",
       "      <td>2021-02-14</td>\n",
       "      <td>2</td>\n",
       "      <td>8</td>\n",
       "      <td>50</td>\n",
       "      <td>0</td>\n",
       "    </tr>\n",
       "  </tbody>\n",
       "</table>\n",
       "</div>"
      ],
      "text/plain": [
       "      user_id   name  age  city subscription_type     distance  duration  \\\n",
       "6500      700  Айдар   22  Омск              free  2515.690719        15   \n",
       "6501      700  Айдар   22  Омск              free   846.932642        17   \n",
       "6502      700  Айдар   22  Омск              free  4004.434142        21   \n",
       "6503      700  Айдар   22  Омск              free  1205.911290        10   \n",
       "6504      700  Айдар   22  Омск              free  3047.379435        18   \n",
       "\n",
       "           date  month  minute_price  start_ride_price  subscription_fee  \n",
       "6500 2021-01-02      1             8                50                 0  \n",
       "6501 2021-02-01      2             8                50                 0  \n",
       "6502 2021-02-04      2             8                50                 0  \n",
       "6503 2021-02-10      2             8                50                 0  \n",
       "6504 2021-02-14      2             8                50                 0  "
      ]
     },
     "execution_count": 32,
     "metadata": {},
     "output_type": "execute_result"
    }
   ],
   "source": [
    "data_query2 = full_data.query('subscription_type != \"ultra\"')\n",
    "data_query2.head()"
   ]
  },
  {
   "cell_type": "code",
   "execution_count": 33,
   "id": "135255d7",
   "metadata": {},
   "outputs": [
    {
     "data": {
      "text/plain": [
       "(5699.769662039453, 244.21043833522924, 3148.6372291760854)"
      ]
     },
     "execution_count": 33,
     "metadata": {},
     "output_type": "execute_result"
    }
   ],
   "source": [
    "data_query1['distance'].max(), data_query1['distance'].min(), data_query1['distance'].median()"
   ]
  },
  {
   "cell_type": "code",
   "execution_count": 35,
   "id": "5d4d2ebe",
   "metadata": {},
   "outputs": [
    {
     "data": {
      "text/plain": [
       "(7066.003771911003,\n",
       " (\"data_query2['distance'].min(),\", \"data_query2['distance'].median()\"))"
      ]
     },
     "execution_count": 35,
     "metadata": {},
     "output_type": "execute_result"
    }
   ],
   "source": [
    ",data_query2['distance'].max(), data_query2['distance'].min(), data_query2['distance'].median()"
   ]
  },
  {
   "cell_type": "code",
   "execution_count": 37,
   "id": "bc366dcd",
   "metadata": {},
   "outputs": [
    {
     "data": {
      "image/png": "[encoded data removed]",
      "text/plain": [
       "<Figure size 864x432 with 1 Axes>"
      ]
     },
     "metadata": {
      "needs_background": "light"
     },
     "output_type": "display_data"
    }
   ],
   "source": [
    "plt.figure(figsize=(12, 6))\n",
    "\n",
    "plt.hist(data_query1['distance'], bins=11, edgecolor='black', color='blue', alpha=0.4, label='С подпиской')\n",
    "\n",
    "\n",
    "plt.hist(data_query2['distance'], bins=11, edgecolor='black', color='purple', alpha=0.4, label='Без подписки')\n",
    "\n",
    "median1 = data_query1['distance'].median()\n",
    "median2 = data_query2['distance'].median()\n",
    "plt.axvline(median1, color='red', linestyle='dashed', linewidth=2, label=f'Медиана с подпиской: {median1:.2f}')\n",
    "plt.axvline(median2, color='black', linestyle='dashed', linewidth=2, label=f'Медиана без подписки: {median2:.2f}')\n",
    "\n",
    "plt.title('Гистограмма расстояния поездок пользователей')\n",
    "plt.xlabel('Расстояние (м)')\n",
    "plt.ylabel('Количество пользователей')\n",
    "plt.legend() \n",
    "\n",
    "\n",
    "plt.show()"
   ]
  },
  {
   "cell_type": "code",
   "execution_count": 38,
   "id": "c9cb83e7",
   "metadata": {},
   "outputs": [
    {
     "data": {
      "text/plain": [
       "(41, 4, 19.0)"
      ]
     },
     "execution_count": 38,
     "metadata": {},
     "output_type": "execute_result"
    }
   ],
   "source": [
    "data_query1['duration'].max(), data_query1['duration'].min(), data_query1['duration'].median()"
   ]
  },
  {
   "cell_type": "code",
   "execution_count": 40,
   "id": "29b1db34",
   "metadata": {},
   "outputs": [
    {
     "data": {
      "text/plain": [
       "(35, 3, 18.0)"
      ]
     },
     "execution_count": 40,
     "metadata": {},
     "output_type": "execute_result"
    }
   ],
   "source": [
    "data_query2['duration'].max(), data_query2['duration'].min(), data_query2['duration'].median()"
   ]
  },
  {
   "cell_type": "code",
   "execution_count": 42,
   "id": "63e28876",
   "metadata": {},
   "outputs": [
    {
     "data": {
      "image/png": "[encoded data removed]",
      "text/plain": [
       "<Figure size 864x432 with 1 Axes>"
      ]
     },
     "metadata": {
      "needs_background": "light"
     },
     "output_type": "display_data"
    }
   ],
   "source": [
    "plt.figure(figsize=(12, 6))\n",
    "\n",
    "plt.hist(data_query1['duration'], bins=11, edgecolor='black', color='blue', alpha=0.4, label='С подпиской')\n",
    "\n",
    "\n",
    "plt.hist(data_query2['duration'], bins=11, edgecolor='black', color='purple', alpha=0.4, label='Без подписки')\n",
    "\n",
    "\n",
    "median1 = data_query1['duration'].median()\n",
    "median2 = data_query2['duration'].median()\n",
    "plt.axvline(median1, color='red', linestyle='dashed', linewidth=2, label=f'Медиана с подпиской: {median1:.2f}')\n",
    "plt.axvline(median2, color='black', linestyle='dashed', linewidth=2, label=f'Медиана без подписки: {median2:.2f}')\n",
    "\n",
    "\n",
    "plt.title('Гистограмма продолжительности поездок пользователей')\n",
    "plt.xlabel('Продолжтельность (мин)')\n",
    "plt.ylabel('Количество пользователей')\n",
    "plt.legend() \n",
    "\n",
    "\n",
    "plt.show()"
   ]
  },
  {
   "cell_type": "markdown",
   "id": "b9fdda1c",
   "metadata": {},
   "source": [
    "**Вывод:** \n",
    "1. Мединанное значение расстояния поездкок у пользователей с подпиской больше, чем у пользователей без нее\n",
    "2. Продолжительности поездкок у пользователей с подпиской больше, чем у пользователей без нее"
   ]
  },
  {
   "cell_type": "markdown",
   "id": "402d620f",
   "metadata": {},
   "source": [
    "#### Шаг 5. Подсчёт выручки"
   ]
  },
  {
   "cell_type": "code",
   "execution_count": 43,
   "id": "53049e0a",
   "metadata": {},
   "outputs": [
    {
     "data": {
      "text/html": [
       "<div>\n",
       "<style scoped>\n",
       "    .dataframe tbody tr th:only-of-type {\n",
       "        vertical-align: middle;\n",
       "    }\n",
       "\n",
       "    .dataframe tbody tr th {\n",
       "        vertical-align: top;\n",
       "    }\n",
       "\n",
       "    .dataframe thead th {\n",
       "        text-align: right;\n",
       "    }\n",
       "</style>\n",
       "<table border=\"1\" class=\"dataframe\">\n",
       "  <thead>\n",
       "    <tr style=\"text-align: right;\">\n",
       "      <th></th>\n",
       "      <th>user_id</th>\n",
       "      <th>month</th>\n",
       "      <th>total_distance</th>\n",
       "      <th>total_rides</th>\n",
       "      <th>total_duration</th>\n",
       "    </tr>\n",
       "  </thead>\n",
       "  <tbody>\n",
       "    <tr>\n",
       "      <th>0</th>\n",
       "      <td>1</td>\n",
       "      <td>1</td>\n",
       "      <td>7027.511294</td>\n",
       "      <td>2</td>\n",
       "      <td>42</td>\n",
       "    </tr>\n",
       "    <tr>\n",
       "      <th>1</th>\n",
       "      <td>1</td>\n",
       "      <td>4</td>\n",
       "      <td>754.159807</td>\n",
       "      <td>1</td>\n",
       "      <td>7</td>\n",
       "    </tr>\n",
       "    <tr>\n",
       "      <th>2</th>\n",
       "      <td>1</td>\n",
       "      <td>8</td>\n",
       "      <td>6723.470560</td>\n",
       "      <td>2</td>\n",
       "      <td>46</td>\n",
       "    </tr>\n",
       "    <tr>\n",
       "      <th>3</th>\n",
       "      <td>1</td>\n",
       "      <td>10</td>\n",
       "      <td>5809.911100</td>\n",
       "      <td>2</td>\n",
       "      <td>32</td>\n",
       "    </tr>\n",
       "    <tr>\n",
       "      <th>4</th>\n",
       "      <td>1</td>\n",
       "      <td>11</td>\n",
       "      <td>7003.499363</td>\n",
       "      <td>3</td>\n",
       "      <td>56</td>\n",
       "    </tr>\n",
       "  </tbody>\n",
       "</table>\n",
       "</div>"
      ],
      "text/plain": [
       "   user_id  month  total_distance  total_rides  total_duration\n",
       "0        1      1     7027.511294            2              42\n",
       "1        1      4      754.159807            1               7\n",
       "2        1      8     6723.470560            2              46\n",
       "3        1     10     5809.911100            2              32\n",
       "4        1     11     7003.499363            3              56"
      ]
     },
     "execution_count": 43,
     "metadata": {},
     "output_type": "execute_result"
    }
   ],
   "source": [
    "aggregated_data = full_data.groupby(['user_id', 'month']).agg(\n",
    "    total_distance=('distance', 'sum'),\n",
    "    total_rides=('distance', 'count'),\n",
    "    total_duration=('duration', 'sum')\n",
    ").reset_index()\n",
    "aggregated_data.head()"
   ]
  },
  {
   "cell_type": "code",
   "execution_count": 44,
   "id": "816aa33a",
   "metadata": {},
   "outputs": [
    {
     "data": {
      "text/html": [
       "<div>\n",
       "<style scoped>\n",
       "    .dataframe tbody tr th:only-of-type {\n",
       "        vertical-align: middle;\n",
       "    }\n",
       "\n",
       "    .dataframe tbody tr th {\n",
       "        vertical-align: top;\n",
       "    }\n",
       "\n",
       "    .dataframe thead th {\n",
       "        text-align: right;\n",
       "    }\n",
       "</style>\n",
       "<table border=\"1\" class=\"dataframe\">\n",
       "  <thead>\n",
       "    <tr style=\"text-align: right;\">\n",
       "      <th></th>\n",
       "      <th>user_id</th>\n",
       "      <th>month</th>\n",
       "      <th>total_distance</th>\n",
       "      <th>total_rides</th>\n",
       "      <th>total_duration</th>\n",
       "    </tr>\n",
       "  </thead>\n",
       "  <tbody>\n",
       "    <tr>\n",
       "      <th>0</th>\n",
       "      <td>1</td>\n",
       "      <td>1</td>\n",
       "      <td>7027.511294</td>\n",
       "      <td>2</td>\n",
       "      <td>42</td>\n",
       "    </tr>\n",
       "    <tr>\n",
       "      <th>1</th>\n",
       "      <td>1</td>\n",
       "      <td>4</td>\n",
       "      <td>754.159807</td>\n",
       "      <td>1</td>\n",
       "      <td>7</td>\n",
       "    </tr>\n",
       "    <tr>\n",
       "      <th>2</th>\n",
       "      <td>1</td>\n",
       "      <td>8</td>\n",
       "      <td>6723.470560</td>\n",
       "      <td>2</td>\n",
       "      <td>46</td>\n",
       "    </tr>\n",
       "    <tr>\n",
       "      <th>3</th>\n",
       "      <td>1</td>\n",
       "      <td>10</td>\n",
       "      <td>5809.911100</td>\n",
       "      <td>2</td>\n",
       "      <td>32</td>\n",
       "    </tr>\n",
       "    <tr>\n",
       "      <th>4</th>\n",
       "      <td>1</td>\n",
       "      <td>11</td>\n",
       "      <td>7003.499363</td>\n",
       "      <td>3</td>\n",
       "      <td>56</td>\n",
       "    </tr>\n",
       "  </tbody>\n",
       "</table>\n",
       "</div>"
      ],
      "text/plain": [
       "   user_id  month  total_distance  total_rides  total_duration\n",
       "0        1      1     7027.511294            2              42\n",
       "1        1      4      754.159807            1               7\n",
       "2        1      8     6723.470560            2              46\n",
       "3        1     10     5809.911100            2              32\n",
       "4        1     11     7003.499363            3              56"
      ]
     },
     "execution_count": 44,
     "metadata": {},
     "output_type": "execute_result"
    }
   ],
   "source": [
    "aggregated_data.head()"
   ]
  },
  {
   "cell_type": "code",
   "execution_count": 45,
   "id": "ee31782f",
   "metadata": {},
   "outputs": [
    {
     "data": {
      "text/plain": [
       "user_id              0\n",
       "month                0\n",
       "total_distance       0\n",
       "total_rides          0\n",
       "total_duration       0\n",
       "subscription_type    0\n",
       "dtype: int64"
      ]
     },
     "execution_count": 45,
     "metadata": {},
     "output_type": "execute_result"
    }
   ],
   "source": [
    "aggregated_data = aggregated_data.merge(data1[['user_id', 'subscription_type']], on='user_id', how='left')\n",
    "aggregated_data.isna().sum()"
   ]
  },
  {
   "cell_type": "code",
   "execution_count": 46,
   "id": "89dc04e4",
   "metadata": {},
   "outputs": [
    {
     "data": {
      "text/html": [
       "<div>\n",
       "<style scoped>\n",
       "    .dataframe tbody tr th:only-of-type {\n",
       "        vertical-align: middle;\n",
       "    }\n",
       "\n",
       "    .dataframe tbody tr th {\n",
       "        vertical-align: top;\n",
       "    }\n",
       "\n",
       "    .dataframe thead th {\n",
       "        text-align: right;\n",
       "    }\n",
       "</style>\n",
       "<table border=\"1\" class=\"dataframe\">\n",
       "  <thead>\n",
       "    <tr style=\"text-align: right;\">\n",
       "      <th></th>\n",
       "      <th>user_id</th>\n",
       "      <th>month</th>\n",
       "      <th>total_distance</th>\n",
       "      <th>total_rides</th>\n",
       "      <th>total_duration</th>\n",
       "      <th>subscription_type</th>\n",
       "      <th>revenue</th>\n",
       "    </tr>\n",
       "  </thead>\n",
       "  <tbody>\n",
       "    <tr>\n",
       "      <th>0</th>\n",
       "      <td>1</td>\n",
       "      <td>1</td>\n",
       "      <td>7027.511294</td>\n",
       "      <td>2</td>\n",
       "      <td>42</td>\n",
       "      <td>ultra</td>\n",
       "      <td>451</td>\n",
       "    </tr>\n",
       "    <tr>\n",
       "      <th>1</th>\n",
       "      <td>1</td>\n",
       "      <td>4</td>\n",
       "      <td>754.159807</td>\n",
       "      <td>1</td>\n",
       "      <td>7</td>\n",
       "      <td>ultra</td>\n",
       "      <td>241</td>\n",
       "    </tr>\n",
       "    <tr>\n",
       "      <th>2</th>\n",
       "      <td>1</td>\n",
       "      <td>8</td>\n",
       "      <td>6723.470560</td>\n",
       "      <td>2</td>\n",
       "      <td>46</td>\n",
       "      <td>ultra</td>\n",
       "      <td>475</td>\n",
       "    </tr>\n",
       "    <tr>\n",
       "      <th>3</th>\n",
       "      <td>1</td>\n",
       "      <td>10</td>\n",
       "      <td>5809.911100</td>\n",
       "      <td>2</td>\n",
       "      <td>32</td>\n",
       "      <td>ultra</td>\n",
       "      <td>391</td>\n",
       "    </tr>\n",
       "    <tr>\n",
       "      <th>4</th>\n",
       "      <td>1</td>\n",
       "      <td>11</td>\n",
       "      <td>7003.499363</td>\n",
       "      <td>3</td>\n",
       "      <td>56</td>\n",
       "      <td>ultra</td>\n",
       "      <td>535</td>\n",
       "    </tr>\n",
       "  </tbody>\n",
       "</table>\n",
       "</div>"
      ],
      "text/plain": [
       "   user_id  month  total_distance  total_rides  total_duration  \\\n",
       "0        1      1     7027.511294            2              42   \n",
       "1        1      4      754.159807            1               7   \n",
       "2        1      8     6723.470560            2              46   \n",
       "3        1     10     5809.911100            2              32   \n",
       "4        1     11     7003.499363            3              56   \n",
       "\n",
       "  subscription_type  revenue  \n",
       "0             ultra      451  \n",
       "1             ultra      241  \n",
       "2             ultra      475  \n",
       "3             ultra      391  \n",
       "4             ultra      535  "
      ]
     },
     "execution_count": 46,
     "metadata": {},
     "output_type": "execute_result"
    }
   ],
   "source": [
    "def revenue_count(row):\n",
    "    if row['subscription_type'] == 'ultra':\n",
    "        price = 6 * row['total_duration'] + 199\n",
    "        return price\n",
    "    else:\n",
    "        price_without = (50 * row['total_rides']) + (8 * row['total_duration'])\n",
    "        return price_without\n",
    "\n",
    "aggregated_data['revenue'] = aggregated_data.apply(revenue_count, axis=1)\n",
    "\n",
    "aggregated_data.head()"
   ]
  },
  {
   "cell_type": "code",
   "execution_count": 47,
   "id": "a381a751",
   "metadata": {},
   "outputs": [],
   "source": [
    "data_hypothesis3_1 = aggregated_data.query('subscription_type == \"ultra\"')\n",
    "data_hypothesis3_2 = aggregated_data.query('subscription_type != \"ultra\"')"
   ]
  },
  {
   "cell_type": "markdown",
   "id": "2442e7ff",
   "metadata": {},
   "source": [
    "*Комментарий студента*: эти датафреймы нужны мне для проверки гипотезы №3"
   ]
  },
  {
   "cell_type": "code",
   "execution_count": 48,
   "id": "453d3fce",
   "metadata": {},
   "outputs": [],
   "source": [
    "aggregated_data.drop(columns=['subscription_type'], inplace=True)"
   ]
  },
  {
   "cell_type": "markdown",
   "id": "af596c1c",
   "metadata": {},
   "source": [
    "*Итог*: был создан датафрейм с агрегированными данными и подсчитана выручка для пользователей обеих групп за каждый месяц"
   ]
  },
  {
   "cell_type": "markdown",
   "id": "41545ac0",
   "metadata": {},
   "source": [
    "#### Шаг 6. Проверка гипотез"
   ]
  },
  {
   "cell_type": "markdown",
   "id": "a7deeab5",
   "metadata": {},
   "source": [
    "Гипотеза №1\n",
    "\n",
    "H0 : m1 = m2\n",
    "\n",
    "H' : m1 > m2"
   ]
  },
  {
   "cell_type": "code",
   "execution_count": 49,
   "id": "ec6766ce",
   "metadata": {},
   "outputs": [
    {
     "name": "stdout",
     "output_type": "stream",
     "text": [
      "T-статистика: 11.18719386710581\n",
      "P-значение: 3.086332092684639e-29\n",
      "Отклоняем нулевую гипотезу: пользователи с подпиской тратят больше времени на поездки.\n"
     ]
    }
   ],
   "source": [
    "subscription_durations = data_query1['duration']\n",
    "non_subscription_durations = data_query2['duration']\n",
    "\n",
    "t_statistic, p_value = stats.ttest_ind(subscription_durations, non_subscription_durations, equal_var=False ,alternative='greater')\n",
    "\n",
    "print(f\"T-статистика: {t_statistic}\")\n",
    "print(f\"P-значение: {p_value}\")\n",
    "\n",
    "alpha = 0.05\n",
    "\n",
    "if p_value < alpha:\n",
    "    print(\"Отклоняем нулевую гипотезу: пользователи с подпиской тратят больше времени на поездки.\")\n",
    "else:\n",
    "    print(\"Не удалось отклонить нулевую гипотезу: нет достаточных доказательств, что пользователи с подпиской тратят больше времени на поездки.\")"
   ]
  },
  {
   "cell_type": "markdown",
   "id": "4512f320",
   "metadata": {},
   "source": [
    "Гипотеза №2\n",
    "\n",
    "H0: m1 = 3130\n",
    "\n",
    "H' : m1 > 3130"
   ]
  },
  {
   "cell_type": "code",
   "execution_count": 50,
   "id": "439f8555",
   "metadata": {},
   "outputs": [
    {
     "name": "stdout",
     "output_type": "stream",
     "text": [
      "T-статистика: -1.402123166869486\n",
      "P-значение: 0.9195368847849785\n",
      "Не удалось отклонить нулевую гипотезу: среднее расстояние, которое проезжают пользователи с подпиской за одну поездку, не превышает 3130 метров \n"
     ]
    }
   ],
   "source": [
    "subscription_distance = data_query1['distance']\n",
    "\n",
    "t_statistic, p_value = stats.ttest_1samp(subscription_distance, 3130, alternative='greater')\n",
    "\n",
    "print(f\"T-статистика: {t_statistic}\")\n",
    "print(f\"P-значение: {p_value}\")\n",
    "\n",
    "alpha = 0.05\n",
    "\n",
    "if p_value < alpha:\n",
    "    print(\"Отклоняем нулевую гипотезу: среднее расстояние, которое проезжают пользователи с подпиской за одну поездку, превышает 3130 метров\")\n",
    "else:\n",
    "    print(\"Не удалось отклонить нулевую гипотезу: среднее расстояние, которое проезжают пользователи с подпиской за одну поездку, не превышает 3130 метров \")"
   ]
  },
  {
   "cell_type": "markdown",
   "id": "39cb6482",
   "metadata": {},
   "source": [
    "Гипотеза №3\n",
    "\n",
    "H0: m1 = m2 (выручка от пользователей с подпиской не выше)\n",
    "\n",
    "H': m1 > m2 (выручка от пользователей с подпиской выше)"
   ]
  },
  {
   "cell_type": "code",
   "execution_count": 51,
   "id": "0c441af5",
   "metadata": {},
   "outputs": [
    {
     "name": "stdout",
     "output_type": "stream",
     "text": [
      "T-статистика: 11.435637849010714\n",
      "P-значение: 2.0314113674863288e-30\n",
      "Отклоняем нулевую гипотезу: помесячная выручка от пользователей с подпиской выше.\n"
     ]
    }
   ],
   "source": [
    "subscription_revenue = data_hypothesis3_1['revenue']\n",
    "non_subscription_revenue = data_hypothesis3_2['revenue']\n",
    "\n",
    "t_statistic, p_value = stats.ttest_ind(subscription_revenue, non_subscription_revenue, alternative='greater')\n",
    "\n",
    "print(f\"T-статистика: {t_statistic}\")\n",
    "print(f\"P-значение: {p_value}\")\n",
    "\n",
    "alpha = 0.05\n",
    "\n",
    "if p_value < alpha:\n",
    "    print(\"Отклоняем нулевую гипотезу: помесячная выручка от пользователей с подпиской выше.\")\n",
    "else:\n",
    "    print(\"Не удалось отклонить нулевую гипотезу: помесячная выручка от пользователей с подпиской не выше.\")"
   ]
  },
  {
   "cell_type": "markdown",
   "id": "35f17eba",
   "metadata": {},
   "source": [
    "Гипотеза №4\n",
    "\n",
    "H0: m1 = m2\n",
    "H': m1 > m2\n",
    "    \n",
    "Мы имеем зависимые (парные) выборки\n",
    "\n",
    "Выбираем тест: scipy.stats.ttest_rel()"
   ]
  },
  {
   "cell_type": "markdown",
   "id": "a26990e1",
   "metadata": {},
   "source": [
    "**Вывод:**\n",
    "\n",
    "После проверки гипотез были сделаны выводы:\n",
    "1. пользователи с подпиской тратят больше времени на поездки.\n",
    "2. среднее расстояние, которое проезжают пользователи с подпиской за одну поездку, не превышает 3130 метров.\n",
    "3. помесячная выручка от пользователей с подпиской выше."
   ]
  }
 ],
 "metadata": {
  "ExecuteTimeLog": [
   {
    "duration": 49,
    "start_time": "2024-11-27T15:18:34.091Z"
   },
   {
    "duration": 500,
    "start_time": "2024-11-27T15:18:36.992Z"
   },
   {
    "duration": 308,
    "start_time": "2024-11-27T15:18:39.410Z"
   },
   {
    "duration": 16,
    "start_time": "2024-11-27T15:18:56.349Z"
   },
   {
    "duration": 11,
    "start_time": "2024-11-27T15:19:03.016Z"
   },
   {
    "duration": 8,
    "start_time": "2024-11-27T15:19:16.210Z"
   },
   {
    "duration": 8,
    "start_time": "2024-11-27T15:19:30.789Z"
   },
   {
    "duration": 13,
    "start_time": "2024-11-27T15:19:35.036Z"
   },
   {
    "duration": 7,
    "start_time": "2024-11-27T15:19:40.669Z"
   },
   {
    "duration": 10,
    "start_time": "2024-11-27T15:19:48.489Z"
   },
   {
    "duration": 9,
    "start_time": "2024-11-27T15:21:34.149Z"
   },
   {
    "duration": 61,
    "start_time": "2024-11-27T15:21:40.740Z"
   },
   {
    "duration": 5,
    "start_time": "2024-11-27T15:22:58.111Z"
   },
   {
    "duration": 11,
    "start_time": "2024-11-27T15:23:02.447Z"
   },
   {
    "duration": 6,
    "start_time": "2024-11-27T15:23:20.392Z"
   },
   {
    "duration": 6,
    "start_time": "2024-11-27T15:23:33.462Z"
   },
   {
    "duration": 6,
    "start_time": "2024-11-27T15:23:35.215Z"
   },
   {
    "duration": 6,
    "start_time": "2024-11-27T15:24:17.263Z"
   },
   {
    "duration": 11,
    "start_time": "2024-11-27T15:24:29.755Z"
   },
   {
    "duration": 6,
    "start_time": "2024-11-27T15:25:35.874Z"
   },
   {
    "duration": 13,
    "start_time": "2024-11-27T15:25:38.789Z"
   },
   {
    "duration": 5,
    "start_time": "2024-11-27T15:26:45.236Z"
   },
   {
    "duration": 28,
    "start_time": "2024-11-27T15:26:56.212Z"
   },
   {
    "duration": 7,
    "start_time": "2024-11-27T15:27:13.981Z"
   },
   {
    "duration": 379,
    "start_time": "2024-11-27T15:27:35.715Z"
   },
   {
    "duration": 68,
    "start_time": "2024-11-27T15:27:36.096Z"
   },
   {
    "duration": 14,
    "start_time": "2024-11-27T15:27:36.166Z"
   },
   {
    "duration": 27,
    "start_time": "2024-11-27T15:27:36.182Z"
   },
   {
    "duration": 19,
    "start_time": "2024-11-27T15:27:36.211Z"
   },
   {
    "duration": 29,
    "start_time": "2024-11-27T15:27:36.232Z"
   },
   {
    "duration": 12,
    "start_time": "2024-11-27T15:27:36.263Z"
   },
   {
    "duration": 32,
    "start_time": "2024-11-27T15:27:36.276Z"
   },
   {
    "duration": 41,
    "start_time": "2024-11-27T15:27:36.309Z"
   },
   {
    "duration": 15,
    "start_time": "2024-11-27T15:27:36.352Z"
   },
   {
    "duration": 5,
    "start_time": "2024-11-27T15:27:36.368Z"
   },
   {
    "duration": 77,
    "start_time": "2024-11-27T15:27:36.375Z"
   },
   {
    "duration": 27,
    "start_time": "2024-11-27T15:27:36.454Z"
   },
   {
    "duration": 43,
    "start_time": "2024-11-27T15:27:36.483Z"
   },
   {
    "duration": 6,
    "start_time": "2024-11-27T15:27:36.528Z"
   },
   {
    "duration": 77,
    "start_time": "2024-11-27T15:27:36.536Z"
   },
   {
    "duration": 387,
    "start_time": "2024-11-27T15:28:14.196Z"
   },
   {
    "duration": 70,
    "start_time": "2024-11-27T15:28:14.585Z"
   },
   {
    "duration": 16,
    "start_time": "2024-11-27T15:28:14.656Z"
   },
   {
    "duration": 12,
    "start_time": "2024-11-27T15:28:14.674Z"
   },
   {
    "duration": 9,
    "start_time": "2024-11-27T15:28:14.689Z"
   },
   {
    "duration": 13,
    "start_time": "2024-11-27T15:28:14.700Z"
   },
   {
    "duration": 7,
    "start_time": "2024-11-27T15:28:14.715Z"
   },
   {
    "duration": 10,
    "start_time": "2024-11-27T15:28:14.724Z"
   },
   {
    "duration": 16,
    "start_time": "2024-11-27T15:28:14.770Z"
   },
   {
    "duration": 12,
    "start_time": "2024-11-27T15:28:14.788Z"
   },
   {
    "duration": 7,
    "start_time": "2024-11-27T15:28:14.802Z"
   },
   {
    "duration": 8,
    "start_time": "2024-11-27T15:28:14.811Z"
   },
   {
    "duration": 6,
    "start_time": "2024-11-27T15:28:14.820Z"
   },
   {
    "duration": 50,
    "start_time": "2024-11-27T15:28:14.829Z"
   },
   {
    "duration": 5,
    "start_time": "2024-11-27T15:28:14.880Z"
   },
   {
    "duration": 7,
    "start_time": "2024-11-27T15:28:14.887Z"
   },
   {
    "duration": 531,
    "start_time": "2024-11-27T15:44:46.407Z"
   },
   {
    "duration": 171,
    "start_time": "2024-11-27T15:44:54.833Z"
   },
   {
    "duration": 125,
    "start_time": "2024-11-27T15:45:00.851Z"
   },
   {
    "duration": 133,
    "start_time": "2024-11-27T15:45:10.933Z"
   },
   {
    "duration": 7,
    "start_time": "2024-11-27T15:45:31.707Z"
   },
   {
    "duration": 72,
    "start_time": "2024-11-27T15:46:58.567Z"
   },
   {
    "duration": 3,
    "start_time": "2024-11-27T15:47:15.756Z"
   },
   {
    "duration": 219,
    "start_time": "2024-11-27T15:47:21.046Z"
   },
   {
    "duration": 173,
    "start_time": "2024-11-27T15:47:39.151Z"
   },
   {
    "duration": 159,
    "start_time": "2024-11-27T15:47:43.657Z"
   },
   {
    "duration": 159,
    "start_time": "2024-11-27T15:48:16.358Z"
   },
   {
    "duration": 157,
    "start_time": "2024-11-27T15:48:32.855Z"
   },
   {
    "duration": 188,
    "start_time": "2024-11-27T15:48:40.542Z"
   },
   {
    "duration": 152,
    "start_time": "2024-11-27T15:49:20.690Z"
   },
   {
    "duration": 161,
    "start_time": "2024-11-27T15:49:27.570Z"
   },
   {
    "duration": 152,
    "start_time": "2024-11-27T15:49:30.998Z"
   },
   {
    "duration": 158,
    "start_time": "2024-11-27T15:49:39.316Z"
   },
   {
    "duration": 158,
    "start_time": "2024-11-27T15:50:20.194Z"
   },
   {
    "duration": 16,
    "start_time": "2024-11-27T15:52:04.596Z"
   },
   {
    "duration": 14,
    "start_time": "2024-11-27T15:52:14.232Z"
   },
   {
    "duration": 12,
    "start_time": "2024-11-27T15:52:29.649Z"
   },
   {
    "duration": 5,
    "start_time": "2024-11-27T19:24:30.969Z"
   },
   {
    "duration": 6,
    "start_time": "2024-11-27T19:24:35.999Z"
   },
   {
    "duration": 167,
    "start_time": "2024-11-27T19:24:44.262Z"
   },
   {
    "duration": 90,
    "start_time": "2024-11-27T19:25:46.403Z"
   },
   {
    "duration": 5,
    "start_time": "2024-11-27T19:26:14.079Z"
   },
   {
    "duration": 7,
    "start_time": "2024-11-27T19:26:57.940Z"
   },
   {
    "duration": 166,
    "start_time": "2024-11-27T19:27:27.680Z"
   },
   {
    "duration": 6,
    "start_time": "2024-11-27T19:27:42.069Z"
   },
   {
    "duration": 6,
    "start_time": "2024-11-27T19:28:02.976Z"
   },
   {
    "duration": 54,
    "start_time": "2024-11-27T19:28:58.447Z"
   },
   {
    "duration": 182,
    "start_time": "2024-11-27T19:29:02.718Z"
   },
   {
    "duration": 180,
    "start_time": "2024-11-27T19:30:01.267Z"
   },
   {
    "duration": 176,
    "start_time": "2024-11-27T19:30:24.284Z"
   },
   {
    "duration": 169,
    "start_time": "2024-11-27T19:30:33.499Z"
   },
   {
    "duration": 8,
    "start_time": "2024-11-27T19:32:29.188Z"
   },
   {
    "duration": 10,
    "start_time": "2024-11-27T19:33:07.710Z"
   },
   {
    "duration": 20,
    "start_time": "2024-11-27T19:33:16.002Z"
   },
   {
    "duration": 16,
    "start_time": "2024-11-27T19:35:36.865Z"
   },
   {
    "duration": 8,
    "start_time": "2024-11-27T19:35:39.194Z"
   },
   {
    "duration": 17,
    "start_time": "2024-11-27T19:35:45.283Z"
   },
   {
    "duration": 10,
    "start_time": "2024-11-27T19:35:45.920Z"
   },
   {
    "duration": 16,
    "start_time": "2024-11-27T19:35:56.194Z"
   },
   {
    "duration": 12,
    "start_time": "2024-11-27T19:36:26.910Z"
   },
   {
    "duration": 167,
    "start_time": "2024-11-27T19:38:49.650Z"
   },
   {
    "duration": 167,
    "start_time": "2024-11-27T19:38:59.446Z"
   },
   {
    "duration": 170,
    "start_time": "2024-11-27T19:39:28.742Z"
   },
   {
    "duration": 169,
    "start_time": "2024-11-27T19:39:45.904Z"
   },
   {
    "duration": 18,
    "start_time": "2024-11-27T19:40:48.757Z"
   },
   {
    "duration": 6,
    "start_time": "2024-11-27T19:41:37.750Z"
   },
   {
    "duration": 12,
    "start_time": "2024-11-27T19:42:30.876Z"
   },
   {
    "duration": 5,
    "start_time": "2024-11-27T19:42:38.105Z"
   },
   {
    "duration": 255,
    "start_time": "2024-11-27T19:44:22.699Z"
   },
   {
    "duration": 13,
    "start_time": "2024-11-27T19:51:14.413Z"
   },
   {
    "duration": 20,
    "start_time": "2024-11-27T19:51:28.227Z"
   },
   {
    "duration": 35,
    "start_time": "2024-11-27T19:52:48.149Z"
   },
   {
    "duration": 9,
    "start_time": "2024-11-27T19:52:56.349Z"
   },
   {
    "duration": 6,
    "start_time": "2024-11-27T19:53:10.246Z"
   },
   {
    "duration": 15,
    "start_time": "2024-11-27T19:53:25.964Z"
   },
   {
    "duration": 15,
    "start_time": "2024-11-27T19:53:27.337Z"
   },
   {
    "duration": 6,
    "start_time": "2024-11-27T19:54:45.387Z"
   },
   {
    "duration": 171,
    "start_time": "2024-11-27T19:54:47.657Z"
   },
   {
    "duration": 5,
    "start_time": "2024-11-27T19:55:11.076Z"
   },
   {
    "duration": 159,
    "start_time": "2024-11-27T19:55:11.645Z"
   },
   {
    "duration": 5,
    "start_time": "2024-11-27T19:56:51.175Z"
   },
   {
    "duration": 174,
    "start_time": "2024-11-27T19:56:52.118Z"
   },
   {
    "duration": 6,
    "start_time": "2024-11-27T19:56:55.762Z"
   },
   {
    "duration": 159,
    "start_time": "2024-11-27T19:56:56.322Z"
   },
   {
    "duration": 149,
    "start_time": "2024-11-27T19:57:28.877Z"
   },
   {
    "duration": 154,
    "start_time": "2024-11-27T19:57:53.610Z"
   },
   {
    "duration": 181,
    "start_time": "2024-11-27T19:58:01.973Z"
   },
   {
    "duration": 151,
    "start_time": "2024-11-27T19:58:13.524Z"
   },
   {
    "duration": 8,
    "start_time": "2024-11-28T11:58:20.698Z"
   },
   {
    "duration": 174,
    "start_time": "2024-11-28T11:58:25.790Z"
   },
   {
    "duration": 5,
    "start_time": "2024-11-28T11:58:39.026Z"
   },
   {
    "duration": 193,
    "start_time": "2024-11-28T11:58:43.081Z"
   },
   {
    "duration": 6,
    "start_time": "2024-11-28T12:00:05.556Z"
   },
   {
    "duration": 20,
    "start_time": "2024-11-28T12:00:43.689Z"
   },
   {
    "duration": 39,
    "start_time": "2024-11-28T12:00:53.150Z"
   },
   {
    "duration": 3,
    "start_time": "2024-11-28T12:02:35.666Z"
   },
   {
    "duration": 3273,
    "start_time": "2024-11-28T12:02:43.310Z"
   },
   {
    "duration": 5,
    "start_time": "2024-11-28T12:03:00.669Z"
   },
   {
    "duration": 9,
    "start_time": "2024-11-28T12:05:50.033Z"
   },
   {
    "duration": 4,
    "start_time": "2024-11-28T12:06:09.966Z"
   },
   {
    "duration": 13,
    "start_time": "2024-11-28T12:06:10.490Z"
   },
   {
    "duration": 10,
    "start_time": "2024-11-28T12:22:03.015Z"
   },
   {
    "duration": 100,
    "start_time": "2024-11-28T12:22:09.863Z"
   },
   {
    "duration": 14,
    "start_time": "2024-11-28T12:22:15.037Z"
   },
   {
    "duration": 9,
    "start_time": "2024-11-28T12:26:55.751Z"
   },
   {
    "duration": 13,
    "start_time": "2024-11-28T12:27:12.506Z"
   },
   {
    "duration": 17,
    "start_time": "2024-11-28T12:27:20.843Z"
   },
   {
    "duration": 132,
    "start_time": "2024-11-28T12:27:26.108Z"
   },
   {
    "duration": 162,
    "start_time": "2024-11-28T12:27:35.364Z"
   },
   {
    "duration": 4,
    "start_time": "2024-11-28T12:28:54.153Z"
   },
   {
    "duration": 9,
    "start_time": "2024-11-28T12:29:00.819Z"
   },
   {
    "duration": 13,
    "start_time": "2024-11-28T12:33:26.102Z"
   },
   {
    "duration": 437,
    "start_time": "2024-11-28T12:35:17.587Z"
   },
   {
    "duration": 7,
    "start_time": "2024-11-28T12:37:01.022Z"
   },
   {
    "duration": 7,
    "start_time": "2024-11-28T12:37:33.314Z"
   },
   {
    "duration": 11,
    "start_time": "2024-11-28T12:40:25.703Z"
   },
   {
    "duration": 34,
    "start_time": "2024-11-28T12:42:31.915Z"
   },
   {
    "duration": 5,
    "start_time": "2024-11-28T12:42:52.690Z"
   },
   {
    "duration": 6,
    "start_time": "2024-11-28T12:43:10.560Z"
   },
   {
    "duration": 27,
    "start_time": "2024-11-28T12:49:21.124Z"
   },
   {
    "duration": 1231,
    "start_time": "2024-11-28T12:49:30.110Z"
   },
   {
    "duration": 75,
    "start_time": "2024-11-28T12:49:31.343Z"
   },
   {
    "duration": 12,
    "start_time": "2024-11-28T12:49:31.419Z"
   },
   {
    "duration": 18,
    "start_time": "2024-11-28T12:49:31.433Z"
   },
   {
    "duration": 18,
    "start_time": "2024-11-28T12:49:31.453Z"
   },
   {
    "duration": 28,
    "start_time": "2024-11-28T12:49:31.474Z"
   },
   {
    "duration": 75,
    "start_time": "2024-11-28T12:49:31.504Z"
   },
   {
    "duration": 30,
    "start_time": "2024-11-28T12:49:31.581Z"
   },
   {
    "duration": 28,
    "start_time": "2024-11-28T12:49:31.612Z"
   },
   {
    "duration": 12,
    "start_time": "2024-11-28T12:49:31.641Z"
   },
   {
    "duration": 16,
    "start_time": "2024-11-28T12:49:31.654Z"
   },
   {
    "duration": 27,
    "start_time": "2024-11-28T12:49:31.672Z"
   },
   {
    "duration": 19,
    "start_time": "2024-11-28T12:49:31.701Z"
   },
   {
    "duration": 20,
    "start_time": "2024-11-28T12:49:31.724Z"
   },
   {
    "duration": 6,
    "start_time": "2024-11-28T12:49:31.746Z"
   },
   {
    "duration": 13,
    "start_time": "2024-11-28T12:49:31.753Z"
   },
   {
    "duration": 25,
    "start_time": "2024-11-28T12:49:31.768Z"
   },
   {
    "duration": 204,
    "start_time": "2024-11-28T12:49:31.794Z"
   },
   {
    "duration": 6,
    "start_time": "2024-11-28T12:49:32.000Z"
   },
   {
    "duration": 122,
    "start_time": "2024-11-28T12:49:32.007Z"
   },
   {
    "duration": 7,
    "start_time": "2024-11-28T12:49:32.130Z"
   },
   {
    "duration": 215,
    "start_time": "2024-11-28T12:49:32.138Z"
   },
   {
    "duration": 27,
    "start_time": "2024-11-28T12:49:32.355Z"
   },
   {
    "duration": 25,
    "start_time": "2024-11-28T12:49:32.384Z"
   },
   {
    "duration": 6,
    "start_time": "2024-11-28T12:49:32.410Z"
   },
   {
    "duration": 212,
    "start_time": "2024-11-28T12:49:32.417Z"
   },
   {
    "duration": 6,
    "start_time": "2024-11-28T12:49:32.630Z"
   },
   {
    "duration": 215,
    "start_time": "2024-11-28T12:49:32.637Z"
   },
   {
    "duration": 33,
    "start_time": "2024-11-28T12:49:32.854Z"
   },
   {
    "duration": 19,
    "start_time": "2024-11-28T12:49:32.889Z"
   },
   {
    "duration": 17,
    "start_time": "2024-11-28T12:49:32.910Z"
   },
   {
    "duration": 33,
    "start_time": "2024-11-28T12:49:32.928Z"
   },
   {
    "duration": 190,
    "start_time": "2024-11-28T12:49:32.963Z"
   },
   {
    "duration": 5,
    "start_time": "2024-11-28T12:49:33.155Z"
   },
   {
    "duration": 179,
    "start_time": "2024-11-28T12:49:33.162Z"
   },
   {
    "duration": 5,
    "start_time": "2024-11-28T12:49:33.342Z"
   },
   {
    "duration": 248,
    "start_time": "2024-11-28T12:49:33.349Z"
   },
   {
    "duration": 5,
    "start_time": "2024-11-28T12:49:33.599Z"
   },
   {
    "duration": 190,
    "start_time": "2024-11-28T12:49:33.605Z"
   },
   {
    "duration": 26,
    "start_time": "2024-11-28T12:49:33.797Z"
   },
   {
    "duration": 4,
    "start_time": "2024-11-28T12:49:33.827Z"
   },
   {
    "duration": 16,
    "start_time": "2024-11-28T12:49:33.832Z"
   },
   {
    "duration": 24,
    "start_time": "2024-11-28T12:49:33.850Z"
   },
   {
    "duration": 151,
    "start_time": "2024-11-28T12:49:33.876Z"
   },
   {
    "duration": 90,
    "start_time": "2024-11-28T12:49:34.029Z"
   },
   {
    "duration": 6,
    "start_time": "2024-11-28T12:49:34.120Z"
   },
   {
    "duration": 13,
    "start_time": "2024-11-28T12:49:34.128Z"
   },
   {
    "duration": 5,
    "start_time": "2024-11-28T12:49:34.142Z"
   },
   {
    "duration": 3,
    "start_time": "2024-11-28T12:51:19.931Z"
   },
   {
    "duration": 6,
    "start_time": "2024-11-28T12:51:53.412Z"
   },
   {
    "duration": 6,
    "start_time": "2024-11-28T12:52:31.725Z"
   },
   {
    "duration": 6,
    "start_time": "2024-11-28T12:53:11.027Z"
   },
   {
    "duration": 7,
    "start_time": "2024-11-28T12:53:57.797Z"
   },
   {
    "duration": 10,
    "start_time": "2024-11-28T12:54:16.266Z"
   },
   {
    "duration": 15,
    "start_time": "2024-11-28T12:54:49.002Z"
   },
   {
    "duration": 1163,
    "start_time": "2024-11-28T12:54:57.360Z"
   },
   {
    "duration": 79,
    "start_time": "2024-11-28T12:54:58.525Z"
   },
   {
    "duration": 12,
    "start_time": "2024-11-28T12:54:58.606Z"
   },
   {
    "duration": 14,
    "start_time": "2024-11-28T12:54:58.619Z"
   },
   {
    "duration": 14,
    "start_time": "2024-11-28T12:54:58.635Z"
   },
   {
    "duration": 11,
    "start_time": "2024-11-28T12:54:58.650Z"
   },
   {
    "duration": 15,
    "start_time": "2024-11-28T12:54:58.662Z"
   },
   {
    "duration": 17,
    "start_time": "2024-11-28T12:54:58.680Z"
   },
   {
    "duration": 18,
    "start_time": "2024-11-28T12:54:58.698Z"
   },
   {
    "duration": 12,
    "start_time": "2024-11-28T12:54:58.718Z"
   },
   {
    "duration": 6,
    "start_time": "2024-11-28T12:54:58.731Z"
   },
   {
    "duration": 16,
    "start_time": "2024-11-28T12:54:58.773Z"
   },
   {
    "duration": 7,
    "start_time": "2024-11-28T12:54:58.801Z"
   },
   {
    "duration": 11,
    "start_time": "2024-11-28T12:54:58.811Z"
   },
   {
    "duration": 5,
    "start_time": "2024-11-28T12:54:58.823Z"
   },
   {
    "duration": 7,
    "start_time": "2024-11-28T12:54:58.829Z"
   },
   {
    "duration": 9,
    "start_time": "2024-11-28T12:54:58.837Z"
   },
   {
    "duration": 214,
    "start_time": "2024-11-28T12:54:58.848Z"
   },
   {
    "duration": 12,
    "start_time": "2024-11-28T12:54:59.063Z"
   },
   {
    "duration": 113,
    "start_time": "2024-11-28T12:54:59.077Z"
   },
   {
    "duration": 7,
    "start_time": "2024-11-28T12:54:59.193Z"
   },
   {
    "duration": 209,
    "start_time": "2024-11-28T12:54:59.201Z"
   },
   {
    "duration": 18,
    "start_time": "2024-11-28T12:54:59.411Z"
   },
   {
    "duration": 20,
    "start_time": "2024-11-28T12:54:59.431Z"
   },
   {
    "duration": 25,
    "start_time": "2024-11-28T12:54:59.452Z"
   },
   {
    "duration": 213,
    "start_time": "2024-11-28T12:54:59.479Z"
   },
   {
    "duration": 7,
    "start_time": "2024-11-28T12:54:59.694Z"
   },
   {
    "duration": 204,
    "start_time": "2024-11-28T12:54:59.702Z"
   },
   {
    "duration": 19,
    "start_time": "2024-11-28T12:54:59.907Z"
   },
   {
    "duration": 18,
    "start_time": "2024-11-28T12:54:59.927Z"
   },
   {
    "duration": 38,
    "start_time": "2024-11-28T12:54:59.946Z"
   },
   {
    "duration": 43,
    "start_time": "2024-11-28T12:54:59.986Z"
   },
   {
    "duration": 196,
    "start_time": "2024-11-28T12:55:00.030Z"
   },
   {
    "duration": 5,
    "start_time": "2024-11-28T12:55:00.228Z"
   },
   {
    "duration": 184,
    "start_time": "2024-11-28T12:55:00.234Z"
   },
   {
    "duration": 5,
    "start_time": "2024-11-28T12:55:00.420Z"
   },
   {
    "duration": 208,
    "start_time": "2024-11-28T12:55:00.426Z"
   },
   {
    "duration": 6,
    "start_time": "2024-11-28T12:55:00.636Z"
   },
   {
    "duration": 196,
    "start_time": "2024-11-28T12:55:00.644Z"
   },
   {
    "duration": 30,
    "start_time": "2024-11-28T12:55:00.841Z"
   },
   {
    "duration": 4,
    "start_time": "2024-11-28T12:55:00.875Z"
   },
   {
    "duration": 16,
    "start_time": "2024-11-28T12:55:00.880Z"
   },
   {
    "duration": 33,
    "start_time": "2024-11-28T12:55:00.897Z"
   },
   {
    "duration": 132,
    "start_time": "2024-11-28T12:55:00.931Z"
   },
   {
    "duration": 191,
    "start_time": "2024-11-28T12:55:01.064Z"
   },
   {
    "duration": 0,
    "start_time": "2024-11-28T12:55:01.257Z"
   },
   {
    "duration": 0,
    "start_time": "2024-11-28T12:55:01.258Z"
   },
   {
    "duration": 0,
    "start_time": "2024-11-28T12:55:01.259Z"
   },
   {
    "duration": 0,
    "start_time": "2024-11-28T12:55:01.260Z"
   },
   {
    "duration": 0,
    "start_time": "2024-11-28T12:55:01.261Z"
   },
   {
    "duration": 147,
    "start_time": "2024-11-28T12:55:35.274Z"
   },
   {
    "duration": 142,
    "start_time": "2024-11-28T12:56:11.929Z"
   },
   {
    "duration": 136,
    "start_time": "2024-11-28T12:57:11.321Z"
   },
   {
    "duration": 136,
    "start_time": "2024-11-28T12:57:15.015Z"
   },
   {
    "duration": 9,
    "start_time": "2024-11-28T12:57:17.464Z"
   },
   {
    "duration": 4,
    "start_time": "2024-11-28T12:57:21.698Z"
   },
   {
    "duration": 7,
    "start_time": "2024-11-28T12:57:26.489Z"
   },
   {
    "duration": 6,
    "start_time": "2024-11-28T12:57:32.033Z"
   },
   {
    "duration": 7,
    "start_time": "2024-11-28T12:57:36.709Z"
   },
   {
    "duration": 7,
    "start_time": "2024-11-28T12:57:39.300Z"
   },
   {
    "duration": 3,
    "start_time": "2024-11-28T12:59:53.922Z"
   },
   {
    "duration": 20,
    "start_time": "2024-11-28T13:03:41.577Z"
   },
   {
    "duration": 141,
    "start_time": "2024-11-28T13:04:18.813Z"
   },
   {
    "duration": 2505,
    "start_time": "2024-11-28T13:04:30.431Z"
   },
   {
    "duration": 2715,
    "start_time": "2024-11-28T13:05:57.028Z"
   },
   {
    "duration": 2584,
    "start_time": "2024-11-28T13:06:10.212Z"
   },
   {
    "duration": 2697,
    "start_time": "2024-11-28T13:09:13.311Z"
   },
   {
    "duration": 51,
    "start_time": "2024-11-28T18:16:43.466Z"
   },
   {
    "duration": 1401,
    "start_time": "2024-11-28T18:16:49.141Z"
   },
   {
    "duration": 1182,
    "start_time": "2024-11-28T18:16:58.344Z"
   },
   {
    "duration": 353,
    "start_time": "2024-11-28T18:16:59.528Z"
   },
   {
    "duration": 12,
    "start_time": "2024-11-28T18:16:59.883Z"
   },
   {
    "duration": 12,
    "start_time": "2024-11-28T18:16:59.896Z"
   },
   {
    "duration": 20,
    "start_time": "2024-11-28T18:16:59.910Z"
   },
   {
    "duration": 26,
    "start_time": "2024-11-28T18:16:59.932Z"
   },
   {
    "duration": 7,
    "start_time": "2024-11-28T18:16:59.960Z"
   },
   {
    "duration": 12,
    "start_time": "2024-11-28T18:16:59.968Z"
   },
   {
    "duration": 15,
    "start_time": "2024-11-28T18:16:59.982Z"
   },
   {
    "duration": 15,
    "start_time": "2024-11-28T18:16:59.999Z"
   },
   {
    "duration": 38,
    "start_time": "2024-11-28T18:17:00.015Z"
   },
   {
    "duration": 42,
    "start_time": "2024-11-28T18:17:00.054Z"
   },
   {
    "duration": 59,
    "start_time": "2024-11-28T18:17:00.097Z"
   },
   {
    "duration": 25,
    "start_time": "2024-11-28T18:17:00.159Z"
   },
   {
    "duration": 43,
    "start_time": "2024-11-28T18:17:00.186Z"
   },
   {
    "duration": 35,
    "start_time": "2024-11-28T18:17:00.230Z"
   },
   {
    "duration": 35,
    "start_time": "2024-11-28T18:17:00.266Z"
   },
   {
    "duration": 238,
    "start_time": "2024-11-28T18:17:00.303Z"
   },
   {
    "duration": 12,
    "start_time": "2024-11-28T18:17:00.543Z"
   },
   {
    "duration": 111,
    "start_time": "2024-11-28T18:17:00.557Z"
   },
   {
    "duration": 6,
    "start_time": "2024-11-28T18:17:00.670Z"
   },
   {
    "duration": 215,
    "start_time": "2024-11-28T18:17:00.678Z"
   },
   {
    "duration": 19,
    "start_time": "2024-11-28T18:17:00.894Z"
   },
   {
    "duration": 39,
    "start_time": "2024-11-28T18:17:00.914Z"
   },
   {
    "duration": 6,
    "start_time": "2024-11-28T18:17:00.955Z"
   },
   {
    "duration": 191,
    "start_time": "2024-11-28T18:17:00.963Z"
   },
   {
    "duration": 7,
    "start_time": "2024-11-28T18:17:01.156Z"
   },
   {
    "duration": 211,
    "start_time": "2024-11-28T18:17:01.164Z"
   },
   {
    "duration": 21,
    "start_time": "2024-11-28T18:17:01.377Z"
   },
   {
    "duration": 81,
    "start_time": "2024-11-28T18:17:01.399Z"
   },
   {
    "duration": 17,
    "start_time": "2024-11-28T18:17:01.482Z"
   },
   {
    "duration": 74,
    "start_time": "2024-11-28T18:17:01.501Z"
   },
   {
    "duration": 192,
    "start_time": "2024-11-28T18:17:01.577Z"
   },
   {
    "duration": 7,
    "start_time": "2024-11-28T18:17:01.771Z"
   },
   {
    "duration": 214,
    "start_time": "2024-11-28T18:17:01.779Z"
   },
   {
    "duration": 5,
    "start_time": "2024-11-28T18:17:01.995Z"
   },
   {
    "duration": 209,
    "start_time": "2024-11-28T18:17:02.002Z"
   },
   {
    "duration": 7,
    "start_time": "2024-11-28T18:17:02.212Z"
   },
   {
    "duration": 210,
    "start_time": "2024-11-28T18:17:02.220Z"
   },
   {
    "duration": 35,
    "start_time": "2024-11-28T18:17:02.432Z"
   },
   {
    "duration": 3,
    "start_time": "2024-11-28T18:17:02.472Z"
   },
   {
    "duration": 35,
    "start_time": "2024-11-28T18:17:02.477Z"
   },
   {
    "duration": 39,
    "start_time": "2024-11-28T18:17:02.514Z"
   },
   {
    "duration": 161,
    "start_time": "2024-11-28T18:17:02.555Z"
   },
   {
    "duration": 94,
    "start_time": "2024-11-28T18:17:02.718Z"
   },
   {
    "duration": 27,
    "start_time": "2024-11-28T18:17:02.814Z"
   },
   {
    "duration": 21,
    "start_time": "2024-11-28T18:17:02.842Z"
   },
   {
    "duration": 6,
    "start_time": "2024-11-28T18:17:02.865Z"
   },
   {
    "duration": 43,
    "start_time": "2024-11-28T18:17:02.873Z"
   },
   {
    "duration": 163,
    "start_time": "2024-11-28T18:17:33.593Z"
   },
   {
    "duration": 173,
    "start_time": "2024-11-28T18:17:52.620Z"
   },
   {
    "duration": 163,
    "start_time": "2024-11-28T18:18:14.763Z"
   },
   {
    "duration": 169,
    "start_time": "2024-11-28T18:18:59.029Z"
   },
   {
    "duration": 173,
    "start_time": "2024-11-28T18:19:20.426Z"
   },
   {
    "duration": 174,
    "start_time": "2024-11-28T18:19:43.155Z"
   },
   {
    "duration": 176,
    "start_time": "2024-11-28T18:19:54.017Z"
   },
   {
    "duration": 196,
    "start_time": "2024-11-28T18:26:27.673Z"
   },
   {
    "duration": 185,
    "start_time": "2024-11-28T18:26:31.684Z"
   },
   {
    "duration": 184,
    "start_time": "2024-11-28T18:27:02.207Z"
   },
   {
    "duration": 205,
    "start_time": "2024-11-28T18:27:13.898Z"
   },
   {
    "duration": 272,
    "start_time": "2024-11-28T18:27:17.887Z"
   },
   {
    "duration": 178,
    "start_time": "2024-11-28T18:27:21.958Z"
   },
   {
    "duration": 177,
    "start_time": "2024-11-28T18:27:33.314Z"
   },
   {
    "duration": 173,
    "start_time": "2024-11-28T18:27:38.130Z"
   },
   {
    "duration": 200,
    "start_time": "2024-11-28T18:27:56.639Z"
   },
   {
    "duration": 237,
    "start_time": "2024-11-28T18:28:24.888Z"
   },
   {
    "duration": 192,
    "start_time": "2024-11-28T18:28:32.041Z"
   },
   {
    "duration": 191,
    "start_time": "2024-11-28T18:28:43.153Z"
   },
   {
    "duration": 18,
    "start_time": "2024-11-28T18:30:21.465Z"
   },
   {
    "duration": 22,
    "start_time": "2024-11-28T18:31:08.166Z"
   },
   {
    "duration": 21,
    "start_time": "2024-11-28T18:31:22.088Z"
   },
   {
    "duration": 7,
    "start_time": "2024-11-28T18:35:01.285Z"
   },
   {
    "duration": 10,
    "start_time": "2024-11-28T18:35:41.365Z"
   },
   {
    "duration": 20,
    "start_time": "2024-11-28T18:35:51.903Z"
   },
   {
    "duration": 221,
    "start_time": "2024-11-28T18:39:10.939Z"
   },
   {
    "duration": 217,
    "start_time": "2024-11-28T18:39:31.896Z"
   },
   {
    "duration": 231,
    "start_time": "2024-11-28T18:41:23.216Z"
   },
   {
    "duration": 316,
    "start_time": "2024-11-28T18:42:00.159Z"
   },
   {
    "duration": 209,
    "start_time": "2024-11-28T18:42:16.823Z"
   },
   {
    "duration": 206,
    "start_time": "2024-11-28T18:42:56.619Z"
   },
   {
    "duration": 217,
    "start_time": "2024-11-28T18:43:08.642Z"
   },
   {
    "duration": 215,
    "start_time": "2024-11-28T18:43:15.436Z"
   },
   {
    "duration": 206,
    "start_time": "2024-11-28T18:44:09.309Z"
   },
   {
    "duration": 241,
    "start_time": "2024-11-28T18:44:13.883Z"
   },
   {
    "duration": 274,
    "start_time": "2024-11-28T18:44:34.053Z"
   },
   {
    "duration": 323,
    "start_time": "2024-11-28T18:44:45.484Z"
   },
   {
    "duration": 328,
    "start_time": "2024-11-28T18:45:08.891Z"
   },
   {
    "duration": 348,
    "start_time": "2024-11-28T18:45:14.379Z"
   },
   {
    "duration": 479,
    "start_time": "2024-11-28T18:45:48.719Z"
   },
   {
    "duration": 20,
    "start_time": "2024-11-28T18:47:58.776Z"
   },
   {
    "duration": 1174,
    "start_time": "2024-11-28T18:48:36.771Z"
   },
   {
    "duration": 74,
    "start_time": "2024-11-28T18:48:37.947Z"
   },
   {
    "duration": 12,
    "start_time": "2024-11-28T18:48:38.023Z"
   },
   {
    "duration": 11,
    "start_time": "2024-11-28T18:48:38.037Z"
   },
   {
    "duration": 23,
    "start_time": "2024-11-28T18:48:38.050Z"
   },
   {
    "duration": 20,
    "start_time": "2024-11-28T18:48:38.075Z"
   },
   {
    "duration": 10,
    "start_time": "2024-11-28T18:48:38.096Z"
   },
   {
    "duration": 15,
    "start_time": "2024-11-28T18:48:38.107Z"
   },
   {
    "duration": 15,
    "start_time": "2024-11-28T18:48:38.124Z"
   },
   {
    "duration": 20,
    "start_time": "2024-11-28T18:48:38.141Z"
   },
   {
    "duration": 6,
    "start_time": "2024-11-28T18:48:38.163Z"
   },
   {
    "duration": 13,
    "start_time": "2024-11-28T18:48:38.170Z"
   },
   {
    "duration": 6,
    "start_time": "2024-11-28T18:48:38.185Z"
   },
   {
    "duration": 15,
    "start_time": "2024-11-28T18:48:38.194Z"
   },
   {
    "duration": 6,
    "start_time": "2024-11-28T18:48:38.210Z"
   },
   {
    "duration": 38,
    "start_time": "2024-11-28T18:48:38.217Z"
   },
   {
    "duration": 5,
    "start_time": "2024-11-28T18:48:38.257Z"
   },
   {
    "duration": 214,
    "start_time": "2024-11-28T18:48:38.264Z"
   },
   {
    "duration": 6,
    "start_time": "2024-11-28T18:48:38.480Z"
   },
   {
    "duration": 109,
    "start_time": "2024-11-28T18:48:38.488Z"
   },
   {
    "duration": 7,
    "start_time": "2024-11-28T18:48:38.598Z"
   },
   {
    "duration": 206,
    "start_time": "2024-11-28T18:48:38.607Z"
   },
   {
    "duration": 20,
    "start_time": "2024-11-28T18:48:38.814Z"
   },
   {
    "duration": 24,
    "start_time": "2024-11-28T18:48:38.836Z"
   },
   {
    "duration": 190,
    "start_time": "2024-11-28T18:48:38.862Z"
   },
   {
    "duration": 7,
    "start_time": "2024-11-28T18:48:39.054Z"
   },
   {
    "duration": 206,
    "start_time": "2024-11-28T18:48:39.063Z"
   },
   {
    "duration": 20,
    "start_time": "2024-11-28T18:48:39.271Z"
   },
   {
    "duration": 6,
    "start_time": "2024-11-28T18:48:39.293Z"
   },
   {
    "duration": 20,
    "start_time": "2024-11-28T18:48:39.300Z"
   },
   {
    "duration": 41,
    "start_time": "2024-11-28T18:48:39.322Z"
   },
   {
    "duration": 16,
    "start_time": "2024-11-28T18:48:39.365Z"
   },
   {
    "duration": 48,
    "start_time": "2024-11-28T18:48:39.382Z"
   },
   {
    "duration": 162,
    "start_time": "2024-11-28T18:48:39.432Z"
   },
   {
    "duration": 6,
    "start_time": "2024-11-28T18:48:39.595Z"
   },
   {
    "duration": 213,
    "start_time": "2024-11-28T18:48:39.602Z"
   },
   {
    "duration": 382,
    "start_time": "2024-11-28T18:48:39.817Z"
   },
   {
    "duration": 6,
    "start_time": "2024-11-28T18:48:40.200Z"
   },
   {
    "duration": 196,
    "start_time": "2024-11-28T18:48:40.207Z"
   },
   {
    "duration": 5,
    "start_time": "2024-11-28T18:48:40.405Z"
   },
   {
    "duration": 278,
    "start_time": "2024-11-28T18:48:40.414Z"
   },
   {
    "duration": 400,
    "start_time": "2024-11-28T18:48:40.694Z"
   },
   {
    "duration": 25,
    "start_time": "2024-11-28T18:48:41.095Z"
   },
   {
    "duration": 8,
    "start_time": "2024-11-28T18:48:41.121Z"
   },
   {
    "duration": 29,
    "start_time": "2024-11-28T18:48:41.130Z"
   },
   {
    "duration": 142,
    "start_time": "2024-11-28T18:48:41.160Z"
   },
   {
    "duration": 9,
    "start_time": "2024-11-28T18:48:41.303Z"
   },
   {
    "duration": 11,
    "start_time": "2024-11-28T18:48:41.313Z"
   },
   {
    "duration": 30,
    "start_time": "2024-11-28T18:48:41.326Z"
   },
   {
    "duration": 71,
    "start_time": "2024-11-28T18:48:41.357Z"
   },
   {
    "duration": 15,
    "start_time": "2024-11-28T18:48:41.430Z"
   }
  ],
  "kernelspec": {
   "display_name": "Python 3 (ipykernel)",
   "language": "python",
   "name": "python3"
  },
  "language_info": {
   "codemirror_mode": {
    "name": "ipython",
    "version": 3
   },
   "file_extension": ".py",
   "mimetype": "text/x-python",
   "name": "python",
   "nbconvert_exporter": "python",
   "pygments_lexer": "ipython3",
   "version": "3.11.8"
  },
  "toc": {
   "base_numbering": 1,
   "nav_menu": {},
   "number_sections": true,
   "sideBar": true,
   "skip_h1_title": true,
   "title_cell": "Table of Contents",
   "title_sidebar": "Contents",
   "toc_cell": false,
   "toc_position": {},
   "toc_section_display": true,
   "toc_window_display": false
  }
 },
 "nbformat": 4,
 "nbformat_minor": 5
}
