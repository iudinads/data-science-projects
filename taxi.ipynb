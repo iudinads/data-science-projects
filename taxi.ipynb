{
 "cells": [
  {
   "cell_type": "markdown",
   "metadata": {
    "toc": true
   },
   "source": [
    "<h1>Содержание<span class=\"tocSkip\"></span></h1>\n",
    "<div class=\"toc\"><ul class=\"toc-item\"><li><span><a href=\"#Подготовка\" data-toc-modified-id=\"Подготовка-1\"><span class=\"toc-item-num\">1&nbsp;&nbsp;</span>Подготовка</a></span></li><li><span><a href=\"#Анализ\" data-toc-modified-id=\"Анализ-2\"><span class=\"toc-item-num\">2&nbsp;&nbsp;</span>Анализ</a></span></li><li><span><a href=\"#Подготовка-признаков\" data-toc-modified-id=\"Подготовка-признаков-3\"><span class=\"toc-item-num\">3&nbsp;&nbsp;</span>Подготовка признаков</a></span></li><li><span><a href=\"#Обучение\" data-toc-modified-id=\"Обучение-4\"><span class=\"toc-item-num\">4&nbsp;&nbsp;</span>Обучение</a></span><ul class=\"toc-item\"><li><span><a href=\"#Создание-паплайна\" data-toc-modified-id=\"Создание-паплайна-4.1\"><span class=\"toc-item-num\">4.1&nbsp;&nbsp;</span>Создание паплайна</a></span></li><li><span><a href=\"#Подбор-гиперпараметров\" data-toc-modified-id=\"Подбор-гиперпараметров-4.2\"><span class=\"toc-item-num\">4.2&nbsp;&nbsp;</span>Подбор гиперпараметров</a></span></li></ul></li><li><span><a href=\"#Тестирование\" data-toc-modified-id=\"Тестирование-5\"><span class=\"toc-item-num\">5&nbsp;&nbsp;</span>Тестирование</a></span></li><li><span><a href=\"#Вывод\" data-toc-modified-id=\"Вывод-6\"><span class=\"toc-item-num\">6&nbsp;&nbsp;</span>Вывод</a></span></li><li><span><a href=\"#Чек-лист-проверки\" data-toc-modified-id=\"Чек-лист-проверки-7\"><span class=\"toc-item-num\">7&nbsp;&nbsp;</span>Чек-лист проверки</a></span></li></ul></div>"
   ]
  },
  {
   "cell_type": "markdown",
   "metadata": {},
   "source": [
    "#  Проект: Прогнозирование заказов такси"
   ]
  },
  {
   "cell_type": "markdown",
   "metadata": {},
   "source": [
    "**Описание исследования**:\n",
    "\n",
    "Компания «Чётенькое такси» предоставляет услуги такси, включая заказы из аэропортов. Для эффективного распределения водителей в периоды пиковой нагрузки необходимо прогнозировать количество заказов на следующий час. В рамках исследования проводится анализ исторических данных, построение и оценка моделей машинного обучения для предсказания спроса на такси.\n",
    "\n",
    "**Цель исследования:**\n",
    "Разработать модель, способную предсказывать количество заказов такси на следующий час с точностью не ниже заданного уровня (RMSE ≤ 48 на тестовой выборке).\n",
    "\n",
    "**Задачи исследования:**\n",
    "\n",
    "1. Загрузить данные и выполнить ресемплирование по одному часу.\n",
    "2. Провести исследовательский анализ данных (EDA).\n",
    "3. Обучить несколько моделей машинного обучения с подбором гиперпараметров.\n",
    "5. Оценить качество моделей на тестовой выборке и выбрать наилучшую.\n",
    "6. Сформулировать выводы и рекомендации для компании."
   ]
  },
  {
   "cell_type": "markdown",
   "metadata": {},
   "source": [
    "**Импорт библиотек**"
   ]
  },
  {
   "cell_type": "code",
   "execution_count": 1,
   "metadata": {},
   "outputs": [
    {
     "name": "stdout",
     "output_type": "stream",
     "text": [
      "Note: you may need to restart the kernel to use updated packages.\n"
     ]
    }
   ],
   "source": [
    "pip install --upgrade scikit-learn -q"
   ]
  },
  {
   "cell_type": "code",
   "execution_count": 2,
   "metadata": {},
   "outputs": [],
   "source": [
    "import pandas as pd\n",
    "import numpy as np\n",
    "\n",
    "import matplotlib.pyplot as plt\n",
    "from statsmodels.tsa.seasonal import seasonal_decompose\n",
    "\n",
    "from sklearn.model_selection import GridSearchCV, train_test_split, TimeSeriesSplit\n",
    "\n",
    "from sklearn.preprocessing import StandardScaler, OrdinalEncoder, MinMaxScaler, OneHotEncoder\n",
    "from sklearn.impute import SimpleImputer\n",
    "from sklearn.pipeline import Pipeline\n",
    "from sklearn.compose import ColumnTransformer\n",
    "from sklearn.metrics import make_scorer, mean_squared_error\n",
    "import lightgbm as lgb\n",
    "\n",
    "from sklearn.tree import DecisionTreeRegressor\n",
    "from sklearn.linear_model import LinearRegression\n",
    "from sklearn.neighbors import KNeighborsRegressor\n",
    "from sklearn.svm import SVR\n",
    "\n",
    "from statsmodels.tsa.stattools import acf\n",
    "from statsmodels.graphics.tsaplots import plot_acf\n",
    "\n",
    "\n",
    "pd.set_option('display.max_colwidth', None)\n",
    "RANDOM_STATE = 42\n",
    "TEST_SIZE = 0.1"
   ]
  },
  {
   "cell_type": "markdown",
   "metadata": {},
   "source": [
    "## Подготовка"
   ]
  },
  {
   "cell_type": "code",
   "execution_count": 3,
   "metadata": {},
   "outputs": [
    {
     "data": {
      "text/html": [
       "<div>\n",
       "<style scoped>\n",
       "    .dataframe tbody tr th:only-of-type {\n",
       "        vertical-align: middle;\n",
       "    }\n",
       "\n",
       "    .dataframe tbody tr th {\n",
       "        vertical-align: top;\n",
       "    }\n",
       "\n",
       "    .dataframe thead th {\n",
       "        text-align: right;\n",
       "    }\n",
       "</style>\n",
       "<table border=\"1\" class=\"dataframe\">\n",
       "  <thead>\n",
       "    <tr style=\"text-align: right;\">\n",
       "      <th></th>\n",
       "      <th>num_orders</th>\n",
       "    </tr>\n",
       "    <tr>\n",
       "      <th>datetime</th>\n",
       "      <th></th>\n",
       "    </tr>\n",
       "  </thead>\n",
       "  <tbody>\n",
       "    <tr>\n",
       "      <th>2018-03-01 00:00:00</th>\n",
       "      <td>9</td>\n",
       "    </tr>\n",
       "    <tr>\n",
       "      <th>2018-03-01 00:10:00</th>\n",
       "      <td>14</td>\n",
       "    </tr>\n",
       "    <tr>\n",
       "      <th>2018-03-01 00:20:00</th>\n",
       "      <td>28</td>\n",
       "    </tr>\n",
       "    <tr>\n",
       "      <th>2018-03-01 00:30:00</th>\n",
       "      <td>20</td>\n",
       "    </tr>\n",
       "    <tr>\n",
       "      <th>2018-03-01 00:40:00</th>\n",
       "      <td>32</td>\n",
       "    </tr>\n",
       "  </tbody>\n",
       "</table>\n",
       "</div>"
      ],
      "text/plain": [
       "                     num_orders\n",
       "datetime                       \n",
       "2018-03-01 00:00:00           9\n",
       "2018-03-01 00:10:00          14\n",
       "2018-03-01 00:20:00          28\n",
       "2018-03-01 00:30:00          20\n",
       "2018-03-01 00:40:00          32"
      ]
     },
     "execution_count": 3,
     "metadata": {},
     "output_type": "execute_result"
    }
   ],
   "source": [
    "df = pd.read_csv('/datasets/taxi.csv', index_col=[0], parse_dates=[0])\n",
    "df.head()"
   ]
  },
  {
   "cell_type": "code",
   "execution_count": 4,
   "metadata": {},
   "outputs": [],
   "source": [
    "df = df.sort_index()"
   ]
  },
  {
   "cell_type": "code",
   "execution_count": 5,
   "metadata": {},
   "outputs": [
    {
     "data": {
      "text/plain": [
       "True"
      ]
     },
     "execution_count": 5,
     "metadata": {},
     "output_type": "execute_result"
    }
   ],
   "source": [
    "df.index.is_monotonic"
   ]
  },
  {
   "cell_type": "code",
   "execution_count": 6,
   "metadata": {},
   "outputs": [
    {
     "name": "stdout",
     "output_type": "stream",
     "text": [
      "<class 'pandas.core.frame.DataFrame'>\n",
      "DatetimeIndex: 26496 entries, 2018-03-01 00:00:00 to 2018-08-31 23:50:00\n",
      "Data columns (total 1 columns):\n",
      " #   Column      Non-Null Count  Dtype\n",
      "---  ------      --------------  -----\n",
      " 0   num_orders  26496 non-null  int64\n",
      "dtypes: int64(1)\n",
      "memory usage: 414.0 KB\n"
     ]
    }
   ],
   "source": [
    "df.info()"
   ]
  },
  {
   "cell_type": "code",
   "execution_count": 7,
   "metadata": {},
   "outputs": [],
   "source": [
    "df = df.resample('1H').sum()"
   ]
  },
  {
   "cell_type": "markdown",
   "metadata": {},
   "source": [
    "*Вывод:* \n",
    "1. Данные были загружены и соотвествуют ТЗ.\n",
    "2. Названия столбцов корректны.\n",
    "3. Пропусков нет.\n",
    "4. Выполнено ресемплирование по одному часу."
   ]
  },
  {
   "cell_type": "markdown",
   "metadata": {},
   "source": [
    "## Анализ"
   ]
  },
  {
   "cell_type": "code",
   "execution_count": 8,
   "metadata": {},
   "outputs": [
    {
     "data": {
      "text/plain": [
       "(Timestamp('2018-03-01 00:00:00', freq='H'),\n",
       " Timestamp('2018-08-31 23:00:00', freq='H'))"
      ]
     },
     "execution_count": 8,
     "metadata": {},
     "output_type": "execute_result"
    }
   ],
   "source": [
    "df.index.min(), df.index.max()"
   ]
  },
  {
   "cell_type": "markdown",
   "metadata": {},
   "source": [
    "У нас есть данные с 1 марта 2018 по 31 августа 2018"
   ]
  },
  {
   "cell_type": "code",
   "execution_count": 9,
   "metadata": {},
   "outputs": [
    {
     "data": {
      "image/png": "[encoded data removed]",
      "text/plain": [
       "<Figure size 864x432 with 1 Axes>"
      ]
     },
     "metadata": {
      "needs_background": "light"
     },
     "output_type": "display_data"
    }
   ],
   "source": [
    "df.plot(figsize = (12, 6))\n",
    "plt.title('Временной ряд')\n",
    "plt.show()"
   ]
  },
  {
   "cell_type": "markdown",
   "metadata": {},
   "source": [
    "По данному графику мало что можно понять"
   ]
  },
  {
   "cell_type": "code",
   "execution_count": 10,
   "metadata": {},
   "outputs": [
    {
     "data": {
      "image/png": "[encoded data removed]",
      "text/plain": [
       "<Figure size 1440x432 with 1 Axes>"
      ]
     },
     "metadata": {
      "needs_background": "light"
     },
     "output_type": "display_data"
    }
   ],
   "source": [
    "df.rolling(24 * 7).mean().plot(figsize=(20, 6))\n",
    "plt.title('Недельное скользящее среднее')\n",
    "plt.xlabel('Даты')\n",
    "plt.ylabel('Количество заказов')\n",
    "plt.show()"
   ]
  },
  {
   "cell_type": "markdown",
   "metadata": {},
   "source": [
    "У нас есть плавное увеличение заказов. Проведем анализ сезонности."
   ]
  },
  {
   "cell_type": "code",
   "execution_count": 11,
   "metadata": {},
   "outputs": [],
   "source": [
    "decomposed = seasonal_decompose(df, period = 24 * 7)"
   ]
  },
  {
   "cell_type": "code",
   "execution_count": 12,
   "metadata": {},
   "outputs": [
    {
     "data": {
      "image/png": "[encoded data removed]",
      "text/plain": [
       "<Figure size 1440x432 with 1 Axes>"
      ]
     },
     "metadata": {
      "needs_background": "light"
     },
     "output_type": "display_data"
    }
   ],
   "source": [
    "df['hour'] = df.index.hour\n",
    "df['dayofweek'] = df.index.dayofweek\n",
    "\n",
    "hourly_pattern = df.groupby('hour')['num_orders'].mean()\n",
    "\n",
    "plt.figure(figsize=(20, 6))\n",
    "hourly_pattern.plot(title='Средняя суточная сезонность')\n",
    "plt.xlabel('Час дня')\n",
    "plt.ylabel('Среднее значение')\n",
    "plt.show()"
   ]
  },
  {
   "cell_type": "markdown",
   "metadata": {},
   "source": [
    "Минимальное количество заказов в ~ 6 утра, максимальное - в 00"
   ]
  },
  {
   "cell_type": "code",
   "execution_count": 13,
   "metadata": {},
   "outputs": [
    {
     "data": {
      "image/png": "[encoded data removed]",
      "text/plain": [
       "<Figure size 720x360 with 1 Axes>"
      ]
     },
     "metadata": {
      "needs_background": "light"
     },
     "output_type": "display_data"
    }
   ],
   "source": [
    "weekday_pattern = df.groupby('dayofweek')['num_orders'].mean()\n",
    "\n",
    "plt.figure(figsize=(10, 5))\n",
    "weekday_pattern.plot(title='Средняя недельная сезонность')\n",
    "plt.xlabel('День недели (0-понедельник)')\n",
    "plt.ylabel('Среднее значение')\n",
    "plt.xticks(ticks=range(7), labels=['Пн', 'Вт', 'Ср', 'Чт', 'Пт', 'Сб', 'Вс'])\n",
    "plt.show()"
   ]
  },
  {
   "cell_type": "markdown",
   "metadata": {},
   "source": [
    "Больше всего заказов в пт и пн, меньше всего в вт и вс."
   ]
  },
  {
   "cell_type": "code",
   "execution_count": 14,
   "metadata": {
    "scrolled": true
   },
   "outputs": [
    {
     "data": {
      "image/png": "[encoded data removed]",
      "text/plain": [
       "<Figure size 1440x432 with 1 Axes>"
      ]
     },
     "metadata": {
      "needs_background": "light"
     },
     "output_type": "display_data"
    }
   ],
   "source": [
    "decomposed.trend.plot(figsize=(20, 6))\n",
    "plt.title('Сезонная составляющая')\n",
    "plt.xlabel('Время')\n",
    "plt.ylabel('Динамика количества заказов')\n",
    "plt.show()"
   ]
  },
  {
   "cell_type": "markdown",
   "metadata": {},
   "source": [
    "Действительно, количество заказов увеличивается."
   ]
  },
  {
   "cell_type": "code",
   "execution_count": 15,
   "metadata": {},
   "outputs": [],
   "source": [
    "df.drop(columns = ['hour', 'dayofweek'], axis = 1, inplace = True)"
   ]
  },
  {
   "cell_type": "markdown",
   "metadata": {},
   "source": [
    "*Вывод:*\n",
    "\n",
    "1. Минимальное количество заказов в ~ 6 утра, максимальное - в 00\n",
    "2. Больше всего заказов в пт и пн, меньше всего в вт и вс.\n",
    "3. Количество заказов увеличивается"
   ]
  },
  {
   "cell_type": "markdown",
   "metadata": {},
   "source": [
    "## Подготовка признаков"
   ]
  },
  {
   "cell_type": "code",
   "execution_count": 16,
   "metadata": {},
   "outputs": [
    {
     "name": "stdout",
     "output_type": "stream",
     "text": [
      "<class 'pandas.core.frame.DataFrame'>\n",
      "DatetimeIndex: 4416 entries, 2018-03-01 00:00:00 to 2018-08-31 23:00:00\n",
      "Freq: H\n",
      "Data columns (total 1 columns):\n",
      " #   Column      Non-Null Count  Dtype\n",
      "---  ------      --------------  -----\n",
      " 0   num_orders  4416 non-null   int64\n",
      "dtypes: int64(1)\n",
      "memory usage: 69.0 KB\n"
     ]
    }
   ],
   "source": [
    "df.info()"
   ]
  },
  {
   "cell_type": "code",
   "execution_count": 17,
   "metadata": {},
   "outputs": [
    {
     "data": {
      "image/png": "[encoded data removed]",
      "text/plain": [
       "<Figure size 432x288 with 1 Axes>"
      ]
     },
     "metadata": {
      "needs_background": "light"
     },
     "output_type": "display_data"
    }
   ],
   "source": [
    "plot_acf(df['num_orders'].dropna(), lags=48, alpha=0.05)\n",
    "plt.show()"
   ]
  },
  {
   "cell_type": "code",
   "execution_count": 18,
   "metadata": {},
   "outputs": [
    {
     "name": "stdout",
     "output_type": "stream",
     "text": [
      "Значимые лаги: [1, 2, 3, 4, 5, 6, 7, 8, 9, 10, 11, 12, 13, 14, 15, 16, 17, 18, 19, 20, 21, 22, 23, 24, 25, 26, 27, 28, 29, 30, 31, 32, 33, 34, 35, 36, 37, 38, 39, 40, 41, 42, 43, 44, 45, 46, 47, 48]\n"
     ]
    }
   ],
   "source": [
    "acf_values, confint = acf(df['num_orders'], nlags=48, alpha=0.05, fft=True)\n",
    "\n",
    "significant_lags = []\n",
    "for lag in range(1, len(acf_values)):\n",
    "    if abs(acf_values[lag]) > confint[lag][1] - acf_values[lag]:\n",
    "        significant_lags.append(lag)\n",
    "\n",
    "print(\"Значимые лаги:\", significant_lags)"
   ]
  },
  {
   "cell_type": "code",
   "execution_count": 19,
   "metadata": {},
   "outputs": [],
   "source": [
    "def make_features(data, significant_lags):\n",
    "    data['hour'] = data.index.hour\n",
    "    data['dayofweek'] = data.index.dayofweek\n",
    "    data['day'] = data.index.day\n",
    "    \n",
    "    data['orders_next_hour'] = data['num_orders'].shift(-1)\n",
    "\n",
    "    for lag in significant_lags:\n",
    "        data[f'lag_{lag}'] = data['num_orders'].shift(lag)\n",
    "\n",
    "    data['rolling_mean_day'] = data['num_orders'].shift().rolling(24).mean()\n",
    "    data['rolling_mean_week'] = data['num_orders'].shift().rolling(168).mean()\n",
    "\n",
    "significant_lags = [1, 2, 3, 23, 24, 25] \n",
    "make_features(df, significant_lags)\n",
    "\n",
    "train, test = train_test_split(df, shuffle=False, test_size=TEST_SIZE)\n",
    "train = train.dropna()\n",
    "test = test.dropna()"
   ]
  },
  {
   "cell_type": "code",
   "execution_count": 20,
   "metadata": {},
   "outputs": [],
   "source": [
    "X_train = train.drop('orders_next_hour', axis=1)\n",
    "y_train = train['orders_next_hour']\n",
    "\n",
    "X_test = test.drop('orders_next_hour', axis=1)\n",
    "y_test = test['orders_next_hour']"
   ]
  },
  {
   "cell_type": "markdown",
   "metadata": {},
   "source": [
    "*Вывод:* Были подготовлены признаки"
   ]
  },
  {
   "cell_type": "markdown",
   "metadata": {},
   "source": [
    "## Обучение"
   ]
  },
  {
   "cell_type": "markdown",
   "metadata": {},
   "source": [
    "### Создание паплайна"
   ]
  },
  {
   "cell_type": "code",
   "execution_count": 21,
   "metadata": {},
   "outputs": [
    {
     "name": "stdout",
     "output_type": "stream",
     "text": [
      "<class 'pandas.core.frame.DataFrame'>\n",
      "DatetimeIndex: 3806 entries, 2018-03-08 00:00:00 to 2018-08-13 13:00:00\n",
      "Freq: H\n",
      "Data columns (total 12 columns):\n",
      " #   Column             Non-Null Count  Dtype  \n",
      "---  ------             --------------  -----  \n",
      " 0   num_orders         3806 non-null   int64  \n",
      " 1   hour               3806 non-null   int64  \n",
      " 2   dayofweek          3806 non-null   int64  \n",
      " 3   day                3806 non-null   int64  \n",
      " 4   lag_1              3806 non-null   float64\n",
      " 5   lag_2              3806 non-null   float64\n",
      " 6   lag_3              3806 non-null   float64\n",
      " 7   lag_23             3806 non-null   float64\n",
      " 8   lag_24             3806 non-null   float64\n",
      " 9   lag_25             3806 non-null   float64\n",
      " 10  rolling_mean_day   3806 non-null   float64\n",
      " 11  rolling_mean_week  3806 non-null   float64\n",
      "dtypes: float64(8), int64(4)\n",
      "memory usage: 386.5 KB\n"
     ]
    }
   ],
   "source": [
    "X_train.info()"
   ]
  },
  {
   "cell_type": "code",
   "execution_count": 22,
   "metadata": {},
   "outputs": [],
   "source": [
    "num_cols = [\n",
    "    'num_orders',\n",
    "    'lag_1',\n",
    "    'lag_2',\n",
    "    'lag_3',\n",
    "    'lag_23',\n",
    "    'lag_24',\n",
    "    'lag_25',\n",
    "    'rolling_mean_day',\n",
    "    'rolling_mean_week',\n",
    "]\n",
    "cat_cols = ['hour','dayofweek', 'day']"
   ]
  },
  {
   "cell_type": "code",
   "execution_count": 23,
   "metadata": {},
   "outputs": [],
   "source": [
    "ohe_pipe = Pipeline(\n",
    "    [\n",
    "        (\n",
    "            'simpleImputer_ohe', \n",
    "            SimpleImputer(missing_values=np.nan, strategy='most_frequent')\n",
    "        ),\n",
    "        (\n",
    "            'ohe', \n",
    "            OneHotEncoder(drop='first', handle_unknown='ignore')\n",
    "        )\n",
    "    ]\n",
    ")\n",
    "\n",
    "\n",
    "data_preprocessor = ColumnTransformer(\n",
    "    [\n",
    "        ('ohe', ohe_pipe, cat_cols),\n",
    "        ('num', StandardScaler(), num_cols)\n",
    "    ], \n",
    "    remainder='passthrough'\n",
    ")\n",
    "\n",
    "pipe_final= Pipeline(\n",
    "    [\n",
    "        ('preprocessor', data_preprocessor),\n",
    "        ('models', DecisionTreeRegressor(random_state=RANDOM_STATE))\n",
    "    ]\n",
    ")"
   ]
  },
  {
   "cell_type": "markdown",
   "metadata": {},
   "source": [
    "### Подбор гиперпараметров"
   ]
  },
  {
   "cell_type": "code",
   "execution_count": 24,
   "metadata": {},
   "outputs": [],
   "source": [
    "param_distributions = [\n",
    "    {\n",
    "        'models': [KNeighborsRegressor()],\n",
    "        'models__n_neighbors': range(1, 20),\n",
    "        'preprocessor__num': [StandardScaler(), MinMaxScaler()]   \n",
    "    },\n",
    "    {\n",
    "        'models': [DecisionTreeRegressor(random_state=RANDOM_STATE)],\n",
    "        'models__max_depth': range(2, 11),\n",
    "        'models__min_samples_split': range(2, 11),\n",
    "        'preprocessor__num': [StandardScaler(), MinMaxScaler(), 'passthrough']  \n",
    "    },\n",
    "    {\n",
    "        'models': [SVR()],\n",
    "        'models__C': [0.1, 1, 10, 100],  \n",
    "        'models__gamma': ['scale', 'auto'], \n",
    "        'preprocessor__num': [StandardScaler(), MinMaxScaler(), 'passthrough']  \n",
    "    },\n",
    "    {\n",
    "        'models': [LinearRegression()],\n",
    "        'preprocessor__num': [StandardScaler(), MinMaxScaler(), 'passthrough']  \n",
    "    },\n",
    "    {\n",
    "        'models': [lgb.LGBMRegressor()]\n",
    "    }\n",
    "]"
   ]
  },
  {
   "cell_type": "code",
   "execution_count": 25,
   "metadata": {},
   "outputs": [],
   "source": [
    "tscv = TimeSeriesSplit(n_splits=3)\n",
    "\n",
    "grid = GridSearchCV(pipe_final, \n",
    "                    param_distributions, \n",
    "                    cv=tscv,\n",
    "                    n_jobs=-1,\n",
    "                    scoring='neg_root_mean_squared_error'  \n",
    ")"
   ]
  },
  {
   "cell_type": "code",
   "execution_count": 26,
   "metadata": {},
   "outputs": [
    {
     "name": "stderr",
     "output_type": "stream",
     "text": [
      "/opt/conda/lib/python3.9/site-packages/sklearn/utils/deprecation.py:151: FutureWarning: 'force_all_finite' was renamed to 'ensure_all_finite' in 1.6 and will be removed in 1.8.\n",
      "  warnings.warn(\n",
      "/opt/conda/lib/python3.9/site-packages/sklearn/utils/deprecation.py:151: FutureWarning: 'force_all_finite' was renamed to 'ensure_all_finite' in 1.6 and will be removed in 1.8.\n",
      "  warnings.warn(\n",
      "/opt/conda/lib/python3.9/site-packages/sklearn/utils/deprecation.py:151: FutureWarning: 'force_all_finite' was renamed to 'ensure_all_finite' in 1.6 and will be removed in 1.8.\n",
      "  warnings.warn(\n",
      "/opt/conda/lib/python3.9/site-packages/sklearn/utils/deprecation.py:151: FutureWarning: 'force_all_finite' was renamed to 'ensure_all_finite' in 1.6 and will be removed in 1.8.\n",
      "  warnings.warn(\n",
      "/opt/conda/lib/python3.9/site-packages/sklearn/utils/deprecation.py:151: FutureWarning: 'force_all_finite' was renamed to 'ensure_all_finite' in 1.6 and will be removed in 1.8.\n",
      "  warnings.warn(\n",
      "/opt/conda/lib/python3.9/site-packages/sklearn/utils/deprecation.py:151: FutureWarning: 'force_all_finite' was renamed to 'ensure_all_finite' in 1.6 and will be removed in 1.8.\n",
      "  warnings.warn(\n"
     ]
    },
    {
     "data": {
      "text/html": [
       "<style>#sk-container-id-1 {\n",
       "  /* Definition of color scheme common for light and dark mode */\n",
       "  --sklearn-color-text: #000;\n",
       "  --sklearn-color-text-muted: #666;\n",
       "  --sklearn-color-line: gray;\n",
       "  /* Definition of color scheme for unfitted estimators */\n",
       "  --sklearn-color-unfitted-level-0: #fff5e6;\n",
       "  --sklearn-color-unfitted-level-1: #f6e4d2;\n",
       "  --sklearn-color-unfitted-level-2: #ffe0b3;\n",
       "  --sklearn-color-unfitted-level-3: chocolate;\n",
       "  /* Definition of color scheme for fitted estimators */\n",
       "  --sklearn-color-fitted-level-0: #f0f8ff;\n",
       "  --sklearn-color-fitted-level-1: #d4ebff;\n",
       "  --sklearn-color-fitted-level-2: #b3dbfd;\n",
       "  --sklearn-color-fitted-level-3: cornflowerblue;\n",
       "\n",
       "  /* Specific color for light theme */\n",
       "  --sklearn-color-text-on-default-background: var(--sg-text-color, var(--theme-code-foreground, var(--jp-content-font-color1, black)));\n",
       "  --sklearn-color-background: var(--sg-background-color, var(--theme-background, var(--jp-layout-color0, white)));\n",
       "  --sklearn-color-border-box: var(--sg-text-color, var(--theme-code-foreground, var(--jp-content-font-color1, black)));\n",
       "  --sklearn-color-icon: #696969;\n",
       "\n",
       "  @media (prefers-color-scheme: dark) {\n",
       "    /* Redefinition of color scheme for dark theme */\n",
       "    --sklearn-color-text-on-default-background: var(--sg-text-color, var(--theme-code-foreground, var(--jp-content-font-color1, white)));\n",
       "    --sklearn-color-background: var(--sg-background-color, var(--theme-background, var(--jp-layout-color0, #111)));\n",
       "    --sklearn-color-border-box: var(--sg-text-color, var(--theme-code-foreground, var(--jp-content-font-color1, white)));\n",
       "    --sklearn-color-icon: #878787;\n",
       "  }\n",
       "}\n",
       "\n",
       "#sk-container-id-1 {\n",
       "  color: var(--sklearn-color-text);\n",
       "}\n",
       "\n",
       "#sk-container-id-1 pre {\n",
       "  padding: 0;\n",
       "}\n",
       "\n",
       "#sk-container-id-1 input.sk-hidden--visually {\n",
       "  border: 0;\n",
       "  clip: rect(1px 1px 1px 1px);\n",
       "  clip: rect(1px, 1px, 1px, 1px);\n",
       "  height: 1px;\n",
       "  margin: -1px;\n",
       "  overflow: hidden;\n",
       "  padding: 0;\n",
       "  position: absolute;\n",
       "  width: 1px;\n",
       "}\n",
       "\n",
       "#sk-container-id-1 div.sk-dashed-wrapped {\n",
       "  border: 1px dashed var(--sklearn-color-line);\n",
       "  margin: 0 0.4em 0.5em 0.4em;\n",
       "  box-sizing: border-box;\n",
       "  padding-bottom: 0.4em;\n",
       "  background-color: var(--sklearn-color-background);\n",
       "}\n",
       "\n",
       "#sk-container-id-1 div.sk-container {\n",
       "  /* jupyter's `normalize.less` sets `[hidden] { display: none; }`\n",
       "     but bootstrap.min.css set `[hidden] { display: none !important; }`\n",
       "     so we also need the `!important` here to be able to override the\n",
       "     default hidden behavior on the sphinx rendered scikit-learn.org.\n",
       "     See: https://github.com/scikit-learn/scikit-learn/issues/21755 */\n",
       "  display: inline-block !important;\n",
       "  position: relative;\n",
       "}\n",
       "\n",
       "#sk-container-id-1 div.sk-text-repr-fallback {\n",
       "  display: none;\n",
       "}\n",
       "\n",
       "div.sk-parallel-item,\n",
       "div.sk-serial,\n",
       "div.sk-item {\n",
       "  /* draw centered vertical line to link estimators */\n",
       "  background-image: linear-gradient(var(--sklearn-color-text-on-default-background), var(--sklearn-color-text-on-default-background));\n",
       "  background-size: 2px 100%;\n",
       "  background-repeat: no-repeat;\n",
       "  background-position: center center;\n",
       "}\n",
       "\n",
       "/* Parallel-specific style estimator block */\n",
       "\n",
       "#sk-container-id-1 div.sk-parallel-item::after {\n",
       "  content: \"\";\n",
       "  width: 100%;\n",
       "  border-bottom: 2px solid var(--sklearn-color-text-on-default-background);\n",
       "  flex-grow: 1;\n",
       "}\n",
       "\n",
       "#sk-container-id-1 div.sk-parallel {\n",
       "  display: flex;\n",
       "  align-items: stretch;\n",
       "  justify-content: center;\n",
       "  background-color: var(--sklearn-color-background);\n",
       "  position: relative;\n",
       "}\n",
       "\n",
       "#sk-container-id-1 div.sk-parallel-item {\n",
       "  display: flex;\n",
       "  flex-direction: column;\n",
       "}\n",
       "\n",
       "#sk-container-id-1 div.sk-parallel-item:first-child::after {\n",
       "  align-self: flex-end;\n",
       "  width: 50%;\n",
       "}\n",
       "\n",
       "#sk-container-id-1 div.sk-parallel-item:last-child::after {\n",
       "  align-self: flex-start;\n",
       "  width: 50%;\n",
       "}\n",
       "\n",
       "#sk-container-id-1 div.sk-parallel-item:only-child::after {\n",
       "  width: 0;\n",
       "}\n",
       "\n",
       "/* Serial-specific style estimator block */\n",
       "\n",
       "#sk-container-id-1 div.sk-serial {\n",
       "  display: flex;\n",
       "  flex-direction: column;\n",
       "  align-items: center;\n",
       "  background-color: var(--sklearn-color-background);\n",
       "  padding-right: 1em;\n",
       "  padding-left: 1em;\n",
       "}\n",
       "\n",
       "\n",
       "/* Toggleable style: style used for estimator/Pipeline/ColumnTransformer box that is\n",
       "clickable and can be expanded/collapsed.\n",
       "- Pipeline and ColumnTransformer use this feature and define the default style\n",
       "- Estimators will overwrite some part of the style using the `sk-estimator` class\n",
       "*/\n",
       "\n",
       "/* Pipeline and ColumnTransformer style (default) */\n",
       "\n",
       "#sk-container-id-1 div.sk-toggleable {\n",
       "  /* Default theme specific background. It is overwritten whether we have a\n",
       "  specific estimator or a Pipeline/ColumnTransformer */\n",
       "  background-color: var(--sklearn-color-background);\n",
       "}\n",
       "\n",
       "/* Toggleable label */\n",
       "#sk-container-id-1 label.sk-toggleable__label {\n",
       "  cursor: pointer;\n",
       "  display: flex;\n",
       "  width: 100%;\n",
       "  margin-bottom: 0;\n",
       "  padding: 0.5em;\n",
       "  box-sizing: border-box;\n",
       "  text-align: center;\n",
       "  align-items: start;\n",
       "  justify-content: space-between;\n",
       "  gap: 0.5em;\n",
       "}\n",
       "\n",
       "#sk-container-id-1 label.sk-toggleable__label .caption {\n",
       "  font-size: 0.6rem;\n",
       "  font-weight: lighter;\n",
       "  color: var(--sklearn-color-text-muted);\n",
       "}\n",
       "\n",
       "#sk-container-id-1 label.sk-toggleable__label-arrow:before {\n",
       "  /* Arrow on the left of the label */\n",
       "  content: \"▸\";\n",
       "  float: left;\n",
       "  margin-right: 0.25em;\n",
       "  color: var(--sklearn-color-icon);\n",
       "}\n",
       "\n",
       "#sk-container-id-1 label.sk-toggleable__label-arrow:hover:before {\n",
       "  color: var(--sklearn-color-text);\n",
       "}\n",
       "\n",
       "/* Toggleable content - dropdown */\n",
       "\n",
       "#sk-container-id-1 div.sk-toggleable__content {\n",
       "  max-height: 0;\n",
       "  max-width: 0;\n",
       "  overflow: hidden;\n",
       "  text-align: left;\n",
       "  /* unfitted */\n",
       "  background-color: var(--sklearn-color-unfitted-level-0);\n",
       "}\n",
       "\n",
       "#sk-container-id-1 div.sk-toggleable__content.fitted {\n",
       "  /* fitted */\n",
       "  background-color: var(--sklearn-color-fitted-level-0);\n",
       "}\n",
       "\n",
       "#sk-container-id-1 div.sk-toggleable__content pre {\n",
       "  margin: 0.2em;\n",
       "  border-radius: 0.25em;\n",
       "  color: var(--sklearn-color-text);\n",
       "  /* unfitted */\n",
       "  background-color: var(--sklearn-color-unfitted-level-0);\n",
       "}\n",
       "\n",
       "#sk-container-id-1 div.sk-toggleable__content.fitted pre {\n",
       "  /* unfitted */\n",
       "  background-color: var(--sklearn-color-fitted-level-0);\n",
       "}\n",
       "\n",
       "#sk-container-id-1 input.sk-toggleable__control:checked~div.sk-toggleable__content {\n",
       "  /* Expand drop-down */\n",
       "  max-height: 200px;\n",
       "  max-width: 100%;\n",
       "  overflow: auto;\n",
       "}\n",
       "\n",
       "#sk-container-id-1 input.sk-toggleable__control:checked~label.sk-toggleable__label-arrow:before {\n",
       "  content: \"▾\";\n",
       "}\n",
       "\n",
       "/* Pipeline/ColumnTransformer-specific style */\n",
       "\n",
       "#sk-container-id-1 div.sk-label input.sk-toggleable__control:checked~label.sk-toggleable__label {\n",
       "  color: var(--sklearn-color-text);\n",
       "  background-color: var(--sklearn-color-unfitted-level-2);\n",
       "}\n",
       "\n",
       "#sk-container-id-1 div.sk-label.fitted input.sk-toggleable__control:checked~label.sk-toggleable__label {\n",
       "  background-color: var(--sklearn-color-fitted-level-2);\n",
       "}\n",
       "\n",
       "/* Estimator-specific style */\n",
       "\n",
       "/* Colorize estimator box */\n",
       "#sk-container-id-1 div.sk-estimator input.sk-toggleable__control:checked~label.sk-toggleable__label {\n",
       "  /* unfitted */\n",
       "  background-color: var(--sklearn-color-unfitted-level-2);\n",
       "}\n",
       "\n",
       "#sk-container-id-1 div.sk-estimator.fitted input.sk-toggleable__control:checked~label.sk-toggleable__label {\n",
       "  /* fitted */\n",
       "  background-color: var(--sklearn-color-fitted-level-2);\n",
       "}\n",
       "\n",
       "#sk-container-id-1 div.sk-label label.sk-toggleable__label,\n",
       "#sk-container-id-1 div.sk-label label {\n",
       "  /* The background is the default theme color */\n",
       "  color: var(--sklearn-color-text-on-default-background);\n",
       "}\n",
       "\n",
       "/* On hover, darken the color of the background */\n",
       "#sk-container-id-1 div.sk-label:hover label.sk-toggleable__label {\n",
       "  color: var(--sklearn-color-text);\n",
       "  background-color: var(--sklearn-color-unfitted-level-2);\n",
       "}\n",
       "\n",
       "/* Label box, darken color on hover, fitted */\n",
       "#sk-container-id-1 div.sk-label.fitted:hover label.sk-toggleable__label.fitted {\n",
       "  color: var(--sklearn-color-text);\n",
       "  background-color: var(--sklearn-color-fitted-level-2);\n",
       "}\n",
       "\n",
       "/* Estimator label */\n",
       "\n",
       "#sk-container-id-1 div.sk-label label {\n",
       "  font-family: monospace;\n",
       "  font-weight: bold;\n",
       "  display: inline-block;\n",
       "  line-height: 1.2em;\n",
       "}\n",
       "\n",
       "#sk-container-id-1 div.sk-label-container {\n",
       "  text-align: center;\n",
       "}\n",
       "\n",
       "/* Estimator-specific */\n",
       "#sk-container-id-1 div.sk-estimator {\n",
       "  font-family: monospace;\n",
       "  border: 1px dotted var(--sklearn-color-border-box);\n",
       "  border-radius: 0.25em;\n",
       "  box-sizing: border-box;\n",
       "  margin-bottom: 0.5em;\n",
       "  /* unfitted */\n",
       "  background-color: var(--sklearn-color-unfitted-level-0);\n",
       "}\n",
       "\n",
       "#sk-container-id-1 div.sk-estimator.fitted {\n",
       "  /* fitted */\n",
       "  background-color: var(--sklearn-color-fitted-level-0);\n",
       "}\n",
       "\n",
       "/* on hover */\n",
       "#sk-container-id-1 div.sk-estimator:hover {\n",
       "  /* unfitted */\n",
       "  background-color: var(--sklearn-color-unfitted-level-2);\n",
       "}\n",
       "\n",
       "#sk-container-id-1 div.sk-estimator.fitted:hover {\n",
       "  /* fitted */\n",
       "  background-color: var(--sklearn-color-fitted-level-2);\n",
       "}\n",
       "\n",
       "/* Specification for estimator info (e.g. \"i\" and \"?\") */\n",
       "\n",
       "/* Common style for \"i\" and \"?\" */\n",
       "\n",
       ".sk-estimator-doc-link,\n",
       "a:link.sk-estimator-doc-link,\n",
       "a:visited.sk-estimator-doc-link {\n",
       "  float: right;\n",
       "  font-size: smaller;\n",
       "  line-height: 1em;\n",
       "  font-family: monospace;\n",
       "  background-color: var(--sklearn-color-background);\n",
       "  border-radius: 1em;\n",
       "  height: 1em;\n",
       "  width: 1em;\n",
       "  text-decoration: none !important;\n",
       "  margin-left: 0.5em;\n",
       "  text-align: center;\n",
       "  /* unfitted */\n",
       "  border: var(--sklearn-color-unfitted-level-1) 1pt solid;\n",
       "  color: var(--sklearn-color-unfitted-level-1);\n",
       "}\n",
       "\n",
       ".sk-estimator-doc-link.fitted,\n",
       "a:link.sk-estimator-doc-link.fitted,\n",
       "a:visited.sk-estimator-doc-link.fitted {\n",
       "  /* fitted */\n",
       "  border: var(--sklearn-color-fitted-level-1) 1pt solid;\n",
       "  color: var(--sklearn-color-fitted-level-1);\n",
       "}\n",
       "\n",
       "/* On hover */\n",
       "div.sk-estimator:hover .sk-estimator-doc-link:hover,\n",
       ".sk-estimator-doc-link:hover,\n",
       "div.sk-label-container:hover .sk-estimator-doc-link:hover,\n",
       ".sk-estimator-doc-link:hover {\n",
       "  /* unfitted */\n",
       "  background-color: var(--sklearn-color-unfitted-level-3);\n",
       "  color: var(--sklearn-color-background);\n",
       "  text-decoration: none;\n",
       "}\n",
       "\n",
       "div.sk-estimator.fitted:hover .sk-estimator-doc-link.fitted:hover,\n",
       ".sk-estimator-doc-link.fitted:hover,\n",
       "div.sk-label-container:hover .sk-estimator-doc-link.fitted:hover,\n",
       ".sk-estimator-doc-link.fitted:hover {\n",
       "  /* fitted */\n",
       "  background-color: var(--sklearn-color-fitted-level-3);\n",
       "  color: var(--sklearn-color-background);\n",
       "  text-decoration: none;\n",
       "}\n",
       "\n",
       "/* Span, style for the box shown on hovering the info icon */\n",
       ".sk-estimator-doc-link span {\n",
       "  display: none;\n",
       "  z-index: 9999;\n",
       "  position: relative;\n",
       "  font-weight: normal;\n",
       "  right: .2ex;\n",
       "  padding: .5ex;\n",
       "  margin: .5ex;\n",
       "  width: min-content;\n",
       "  min-width: 20ex;\n",
       "  max-width: 50ex;\n",
       "  color: var(--sklearn-color-text);\n",
       "  box-shadow: 2pt 2pt 4pt #999;\n",
       "  /* unfitted */\n",
       "  background: var(--sklearn-color-unfitted-level-0);\n",
       "  border: .5pt solid var(--sklearn-color-unfitted-level-3);\n",
       "}\n",
       "\n",
       ".sk-estimator-doc-link.fitted span {\n",
       "  /* fitted */\n",
       "  background: var(--sklearn-color-fitted-level-0);\n",
       "  border: var(--sklearn-color-fitted-level-3);\n",
       "}\n",
       "\n",
       ".sk-estimator-doc-link:hover span {\n",
       "  display: block;\n",
       "}\n",
       "\n",
       "/* \"?\"-specific style due to the `<a>` HTML tag */\n",
       "\n",
       "#sk-container-id-1 a.estimator_doc_link {\n",
       "  float: right;\n",
       "  font-size: 1rem;\n",
       "  line-height: 1em;\n",
       "  font-family: monospace;\n",
       "  background-color: var(--sklearn-color-background);\n",
       "  border-radius: 1rem;\n",
       "  height: 1rem;\n",
       "  width: 1rem;\n",
       "  text-decoration: none;\n",
       "  /* unfitted */\n",
       "  color: var(--sklearn-color-unfitted-level-1);\n",
       "  border: var(--sklearn-color-unfitted-level-1) 1pt solid;\n",
       "}\n",
       "\n",
       "#sk-container-id-1 a.estimator_doc_link.fitted {\n",
       "  /* fitted */\n",
       "  border: var(--sklearn-color-fitted-level-1) 1pt solid;\n",
       "  color: var(--sklearn-color-fitted-level-1);\n",
       "}\n",
       "\n",
       "/* On hover */\n",
       "#sk-container-id-1 a.estimator_doc_link:hover {\n",
       "  /* unfitted */\n",
       "  background-color: var(--sklearn-color-unfitted-level-3);\n",
       "  color: var(--sklearn-color-background);\n",
       "  text-decoration: none;\n",
       "}\n",
       "\n",
       "#sk-container-id-1 a.estimator_doc_link.fitted:hover {\n",
       "  /* fitted */\n",
       "  background-color: var(--sklearn-color-fitted-level-3);\n",
       "}\n",
       "</style><div id=\"sk-container-id-1\" class=\"sk-top-container\"><div class=\"sk-text-repr-fallback\"><pre>GridSearchCV(cv=TimeSeriesSplit(gap=0, max_train_size=None, n_splits=3, test_size=None),\n",
       "             estimator=Pipeline(steps=[(&#x27;preprocessor&#x27;,\n",
       "                                        ColumnTransformer(remainder=&#x27;passthrough&#x27;,\n",
       "                                                          transformers=[(&#x27;ohe&#x27;,\n",
       "                                                                         Pipeline(steps=[(&#x27;simpleImputer_ohe&#x27;,\n",
       "                                                                                          SimpleImputer(strategy=&#x27;most_frequent&#x27;)),\n",
       "                                                                                         (&#x27;ohe&#x27;,\n",
       "                                                                                          OneHotEncoder(drop=&#x27;first&#x27;,\n",
       "                                                                                                        handle_unknown=&#x27;ignore&#x27;))]),\n",
       "                                                                         [&#x27;hour&#x27;,\n",
       "                                                                          &#x27;dayofweek&#x27;,...\n",
       "                          &#x27;preprocessor__num&#x27;: [StandardScaler(),\n",
       "                                                MinMaxScaler(),\n",
       "                                                &#x27;passthrough&#x27;]},\n",
       "                         {&#x27;models&#x27;: [SVR()], &#x27;models__C&#x27;: [0.1, 1, 10, 100],\n",
       "                          &#x27;models__gamma&#x27;: [&#x27;scale&#x27;, &#x27;auto&#x27;],\n",
       "                          &#x27;preprocessor__num&#x27;: [StandardScaler(),\n",
       "                                                MinMaxScaler(),\n",
       "                                                &#x27;passthrough&#x27;]},\n",
       "                         {&#x27;models&#x27;: [LinearRegression()],\n",
       "                          &#x27;preprocessor__num&#x27;: [StandardScaler(),\n",
       "                                                MinMaxScaler(),\n",
       "                                                &#x27;passthrough&#x27;]},\n",
       "                         {&#x27;models&#x27;: [LGBMRegressor()]}],\n",
       "             scoring=&#x27;neg_root_mean_squared_error&#x27;)</pre><b>In a Jupyter environment, please rerun this cell to show the HTML representation or trust the notebook. <br />On GitHub, the HTML representation is unable to render, please try loading this page with nbviewer.org.</b></div><div class=\"sk-container\" hidden><div class=\"sk-item sk-dashed-wrapped\"><div class=\"sk-label-container\"><div class=\"sk-label fitted sk-toggleable\"><input class=\"sk-toggleable__control sk-hidden--visually\" id=\"sk-estimator-id-1\" type=\"checkbox\" ><label for=\"sk-estimator-id-1\" class=\"sk-toggleable__label fitted sk-toggleable__label-arrow\"><div><div>GridSearchCV</div></div><div><a class=\"sk-estimator-doc-link fitted\" rel=\"noreferrer\" target=\"_blank\" href=\"https://scikit-learn.org/1.6/modules/generated/sklearn.model_selection.GridSearchCV.html\">?<span>Documentation for GridSearchCV</span></a><span class=\"sk-estimator-doc-link fitted\">i<span>Fitted</span></span></div></label><div class=\"sk-toggleable__content fitted\"><pre>GridSearchCV(cv=TimeSeriesSplit(gap=0, max_train_size=None, n_splits=3, test_size=None),\n",
       "             estimator=Pipeline(steps=[(&#x27;preprocessor&#x27;,\n",
       "                                        ColumnTransformer(remainder=&#x27;passthrough&#x27;,\n",
       "                                                          transformers=[(&#x27;ohe&#x27;,\n",
       "                                                                         Pipeline(steps=[(&#x27;simpleImputer_ohe&#x27;,\n",
       "                                                                                          SimpleImputer(strategy=&#x27;most_frequent&#x27;)),\n",
       "                                                                                         (&#x27;ohe&#x27;,\n",
       "                                                                                          OneHotEncoder(drop=&#x27;first&#x27;,\n",
       "                                                                                                        handle_unknown=&#x27;ignore&#x27;))]),\n",
       "                                                                         [&#x27;hour&#x27;,\n",
       "                                                                          &#x27;dayofweek&#x27;,...\n",
       "                          &#x27;preprocessor__num&#x27;: [StandardScaler(),\n",
       "                                                MinMaxScaler(),\n",
       "                                                &#x27;passthrough&#x27;]},\n",
       "                         {&#x27;models&#x27;: [SVR()], &#x27;models__C&#x27;: [0.1, 1, 10, 100],\n",
       "                          &#x27;models__gamma&#x27;: [&#x27;scale&#x27;, &#x27;auto&#x27;],\n",
       "                          &#x27;preprocessor__num&#x27;: [StandardScaler(),\n",
       "                                                MinMaxScaler(),\n",
       "                                                &#x27;passthrough&#x27;]},\n",
       "                         {&#x27;models&#x27;: [LinearRegression()],\n",
       "                          &#x27;preprocessor__num&#x27;: [StandardScaler(),\n",
       "                                                MinMaxScaler(),\n",
       "                                                &#x27;passthrough&#x27;]},\n",
       "                         {&#x27;models&#x27;: [LGBMRegressor()]}],\n",
       "             scoring=&#x27;neg_root_mean_squared_error&#x27;)</pre></div> </div></div><div class=\"sk-parallel\"><div class=\"sk-parallel-item\"><div class=\"sk-item\"><div class=\"sk-label-container\"><div class=\"sk-label fitted sk-toggleable\"><input class=\"sk-toggleable__control sk-hidden--visually\" id=\"sk-estimator-id-2\" type=\"checkbox\" ><label for=\"sk-estimator-id-2\" class=\"sk-toggleable__label fitted sk-toggleable__label-arrow\"><div><div>best_estimator_: Pipeline</div></div></label><div class=\"sk-toggleable__content fitted\"><pre>Pipeline(steps=[(&#x27;preprocessor&#x27;,\n",
       "                 ColumnTransformer(remainder=&#x27;passthrough&#x27;,\n",
       "                                   transformers=[(&#x27;ohe&#x27;,\n",
       "                                                  Pipeline(steps=[(&#x27;simpleImputer_ohe&#x27;,\n",
       "                                                                   SimpleImputer(strategy=&#x27;most_frequent&#x27;)),\n",
       "                                                                  (&#x27;ohe&#x27;,\n",
       "                                                                   OneHotEncoder(drop=&#x27;first&#x27;,\n",
       "                                                                                 handle_unknown=&#x27;ignore&#x27;))]),\n",
       "                                                  [&#x27;hour&#x27;, &#x27;dayofweek&#x27;, &#x27;day&#x27;]),\n",
       "                                                 (&#x27;num&#x27;, StandardScaler(),\n",
       "                                                  [&#x27;num_orders&#x27;, &#x27;lag_1&#x27;,\n",
       "                                                   &#x27;lag_2&#x27;, &#x27;lag_3&#x27;, &#x27;lag_23&#x27;,\n",
       "                                                   &#x27;lag_24&#x27;, &#x27;lag_25&#x27;,\n",
       "                                                   &#x27;rolling_mean_day&#x27;,\n",
       "                                                   &#x27;rolling_mean_week&#x27;])])),\n",
       "                (&#x27;models&#x27;, LinearRegression())])</pre></div> </div></div><div class=\"sk-serial\"><div class=\"sk-item\"><div class=\"sk-serial\"><div class=\"sk-item sk-dashed-wrapped\"><div class=\"sk-label-container\"><div class=\"sk-label fitted sk-toggleable\"><input class=\"sk-toggleable__control sk-hidden--visually\" id=\"sk-estimator-id-3\" type=\"checkbox\" ><label for=\"sk-estimator-id-3\" class=\"sk-toggleable__label fitted sk-toggleable__label-arrow\"><div><div>preprocessor: ColumnTransformer</div></div><div><a class=\"sk-estimator-doc-link fitted\" rel=\"noreferrer\" target=\"_blank\" href=\"https://scikit-learn.org/1.6/modules/generated/sklearn.compose.ColumnTransformer.html\">?<span>Documentation for preprocessor: ColumnTransformer</span></a></div></label><div class=\"sk-toggleable__content fitted\"><pre>ColumnTransformer(remainder=&#x27;passthrough&#x27;,\n",
       "                  transformers=[(&#x27;ohe&#x27;,\n",
       "                                 Pipeline(steps=[(&#x27;simpleImputer_ohe&#x27;,\n",
       "                                                  SimpleImputer(strategy=&#x27;most_frequent&#x27;)),\n",
       "                                                 (&#x27;ohe&#x27;,\n",
       "                                                  OneHotEncoder(drop=&#x27;first&#x27;,\n",
       "                                                                handle_unknown=&#x27;ignore&#x27;))]),\n",
       "                                 [&#x27;hour&#x27;, &#x27;dayofweek&#x27;, &#x27;day&#x27;]),\n",
       "                                (&#x27;num&#x27;, StandardScaler(),\n",
       "                                 [&#x27;num_orders&#x27;, &#x27;lag_1&#x27;, &#x27;lag_2&#x27;, &#x27;lag_3&#x27;,\n",
       "                                  &#x27;lag_23&#x27;, &#x27;lag_24&#x27;, &#x27;lag_25&#x27;,\n",
       "                                  &#x27;rolling_mean_day&#x27;, &#x27;rolling_mean_week&#x27;])])</pre></div> </div></div><div class=\"sk-parallel\"><div class=\"sk-parallel-item\"><div class=\"sk-item\"><div class=\"sk-label-container\"><div class=\"sk-label fitted sk-toggleable\"><input class=\"sk-toggleable__control sk-hidden--visually\" id=\"sk-estimator-id-4\" type=\"checkbox\" ><label for=\"sk-estimator-id-4\" class=\"sk-toggleable__label fitted sk-toggleable__label-arrow\"><div><div>ohe</div></div></label><div class=\"sk-toggleable__content fitted\"><pre>[&#x27;hour&#x27;, &#x27;dayofweek&#x27;, &#x27;day&#x27;]</pre></div> </div></div><div class=\"sk-serial\"><div class=\"sk-item\"><div class=\"sk-serial\"><div class=\"sk-item\"><div class=\"sk-estimator fitted sk-toggleable\"><input class=\"sk-toggleable__control sk-hidden--visually\" id=\"sk-estimator-id-5\" type=\"checkbox\" ><label for=\"sk-estimator-id-5\" class=\"sk-toggleable__label fitted sk-toggleable__label-arrow\"><div><div>SimpleImputer</div></div><div><a class=\"sk-estimator-doc-link fitted\" rel=\"noreferrer\" target=\"_blank\" href=\"https://scikit-learn.org/1.6/modules/generated/sklearn.impute.SimpleImputer.html\">?<span>Documentation for SimpleImputer</span></a></div></label><div class=\"sk-toggleable__content fitted\"><pre>SimpleImputer(strategy=&#x27;most_frequent&#x27;)</pre></div> </div></div><div class=\"sk-item\"><div class=\"sk-estimator fitted sk-toggleable\"><input class=\"sk-toggleable__control sk-hidden--visually\" id=\"sk-estimator-id-6\" type=\"checkbox\" ><label for=\"sk-estimator-id-6\" class=\"sk-toggleable__label fitted sk-toggleable__label-arrow\"><div><div>OneHotEncoder</div></div><div><a class=\"sk-estimator-doc-link fitted\" rel=\"noreferrer\" target=\"_blank\" href=\"https://scikit-learn.org/1.6/modules/generated/sklearn.preprocessing.OneHotEncoder.html\">?<span>Documentation for OneHotEncoder</span></a></div></label><div class=\"sk-toggleable__content fitted\"><pre>OneHotEncoder(drop=&#x27;first&#x27;, handle_unknown=&#x27;ignore&#x27;)</pre></div> </div></div></div></div></div></div></div><div class=\"sk-parallel-item\"><div class=\"sk-item\"><div class=\"sk-label-container\"><div class=\"sk-label fitted sk-toggleable\"><input class=\"sk-toggleable__control sk-hidden--visually\" id=\"sk-estimator-id-7\" type=\"checkbox\" ><label for=\"sk-estimator-id-7\" class=\"sk-toggleable__label fitted sk-toggleable__label-arrow\"><div><div>num</div></div></label><div class=\"sk-toggleable__content fitted\"><pre>[&#x27;num_orders&#x27;, &#x27;lag_1&#x27;, &#x27;lag_2&#x27;, &#x27;lag_3&#x27;, &#x27;lag_23&#x27;, &#x27;lag_24&#x27;, &#x27;lag_25&#x27;, &#x27;rolling_mean_day&#x27;, &#x27;rolling_mean_week&#x27;]</pre></div> </div></div><div class=\"sk-serial\"><div class=\"sk-item\"><div class=\"sk-estimator fitted sk-toggleable\"><input class=\"sk-toggleable__control sk-hidden--visually\" id=\"sk-estimator-id-8\" type=\"checkbox\" ><label for=\"sk-estimator-id-8\" class=\"sk-toggleable__label fitted sk-toggleable__label-arrow\"><div><div>StandardScaler</div></div><div><a class=\"sk-estimator-doc-link fitted\" rel=\"noreferrer\" target=\"_blank\" href=\"https://scikit-learn.org/1.6/modules/generated/sklearn.preprocessing.StandardScaler.html\">?<span>Documentation for StandardScaler</span></a></div></label><div class=\"sk-toggleable__content fitted\"><pre>StandardScaler()</pre></div> </div></div></div></div></div><div class=\"sk-parallel-item\"><div class=\"sk-item\"><div class=\"sk-label-container\"><div class=\"sk-label fitted sk-toggleable\"><input class=\"sk-toggleable__control sk-hidden--visually\" id=\"sk-estimator-id-9\" type=\"checkbox\" ><label for=\"sk-estimator-id-9\" class=\"sk-toggleable__label fitted sk-toggleable__label-arrow\"><div><div>remainder</div></div></label><div class=\"sk-toggleable__content fitted\"><pre>[]</pre></div> </div></div><div class=\"sk-serial\"><div class=\"sk-item\"><div class=\"sk-estimator fitted sk-toggleable\"><input class=\"sk-toggleable__control sk-hidden--visually\" id=\"sk-estimator-id-10\" type=\"checkbox\" ><label for=\"sk-estimator-id-10\" class=\"sk-toggleable__label fitted sk-toggleable__label-arrow\"><div><div>passthrough</div></div></label><div class=\"sk-toggleable__content fitted\"><pre>passthrough</pre></div> </div></div></div></div></div></div></div><div class=\"sk-item\"><div class=\"sk-estimator fitted sk-toggleable\"><input class=\"sk-toggleable__control sk-hidden--visually\" id=\"sk-estimator-id-11\" type=\"checkbox\" ><label for=\"sk-estimator-id-11\" class=\"sk-toggleable__label fitted sk-toggleable__label-arrow\"><div><div>LinearRegression</div></div><div><a class=\"sk-estimator-doc-link fitted\" rel=\"noreferrer\" target=\"_blank\" href=\"https://scikit-learn.org/1.6/modules/generated/sklearn.linear_model.LinearRegression.html\">?<span>Documentation for LinearRegression</span></a></div></label><div class=\"sk-toggleable__content fitted\"><pre>LinearRegression()</pre></div> </div></div></div></div></div></div></div></div></div></div></div>"
      ],
      "text/plain": [
       "GridSearchCV(cv=TimeSeriesSplit(gap=0, max_train_size=None, n_splits=3, test_size=None),\n",
       "             estimator=Pipeline(steps=[('preprocessor',\n",
       "                                        ColumnTransformer(remainder='passthrough',\n",
       "                                                          transformers=[('ohe',\n",
       "                                                                         Pipeline(steps=[('simpleImputer_ohe',\n",
       "                                                                                          SimpleImputer(strategy='most_frequent')),\n",
       "                                                                                         ('ohe',\n",
       "                                                                                          OneHotEncoder(drop='first',\n",
       "                                                                                                        handle_unknown='ignore'))]),\n",
       "                                                                         ['hour',\n",
       "                                                                          'dayofweek',...\n",
       "                          'preprocessor__num': [StandardScaler(),\n",
       "                                                MinMaxScaler(),\n",
       "                                                'passthrough']},\n",
       "                         {'models': [SVR()], 'models__C': [0.1, 1, 10, 100],\n",
       "                          'models__gamma': ['scale', 'auto'],\n",
       "                          'preprocessor__num': [StandardScaler(),\n",
       "                                                MinMaxScaler(),\n",
       "                                                'passthrough']},\n",
       "                         {'models': [LinearRegression()],\n",
       "                          'preprocessor__num': [StandardScaler(),\n",
       "                                                MinMaxScaler(),\n",
       "                                                'passthrough']},\n",
       "                         {'models': [LGBMRegressor()]}],\n",
       "             scoring='neg_root_mean_squared_error')"
      ]
     },
     "execution_count": 26,
     "metadata": {},
     "output_type": "execute_result"
    }
   ],
   "source": [
    "grid.fit(X_train, y_train)"
   ]
  },
  {
   "cell_type": "code",
   "execution_count": 27,
   "metadata": {},
   "outputs": [
    {
     "name": "stdout",
     "output_type": "stream",
     "text": [
      "Рейтинг моделей:\n"
     ]
    },
    {
     "data": {
      "text/html": [
       "<div>\n",
       "<style scoped>\n",
       "    .dataframe tbody tr th:only-of-type {\n",
       "        vertical-align: middle;\n",
       "    }\n",
       "\n",
       "    .dataframe tbody tr th {\n",
       "        vertical-align: top;\n",
       "    }\n",
       "\n",
       "    .dataframe thead th {\n",
       "        text-align: right;\n",
       "    }\n",
       "</style>\n",
       "<table border=\"1\" class=\"dataframe\">\n",
       "  <thead>\n",
       "    <tr style=\"text-align: right;\">\n",
       "      <th></th>\n",
       "      <th>params</th>\n",
       "      <th>mean_test_score</th>\n",
       "      <th>rank_test_score</th>\n",
       "    </tr>\n",
       "  </thead>\n",
       "  <tbody>\n",
       "    <tr>\n",
       "      <th>305</th>\n",
       "      <td>{'models': LinearRegression(), 'preprocessor__num': StandardScaler()}</td>\n",
       "      <td>-26.084808</td>\n",
       "      <td>1</td>\n",
       "    </tr>\n",
       "    <tr>\n",
       "      <th>306</th>\n",
       "      <td>{'models': LinearRegression(), 'preprocessor__num': MinMaxScaler()}</td>\n",
       "      <td>-26.084872</td>\n",
       "      <td>2</td>\n",
       "    </tr>\n",
       "    <tr>\n",
       "      <th>307</th>\n",
       "      <td>{'models': LinearRegression(), 'preprocessor__num': 'passthrough'}</td>\n",
       "      <td>-26.089035</td>\n",
       "      <td>3</td>\n",
       "    </tr>\n",
       "    <tr>\n",
       "      <th>303</th>\n",
       "      <td>{'models': SVR(), 'models__C': 100, 'models__gamma': 'auto', 'preprocessor__num': MinMaxScaler()}</td>\n",
       "      <td>-26.874811</td>\n",
       "      <td>4</td>\n",
       "    </tr>\n",
       "    <tr>\n",
       "      <th>308</th>\n",
       "      <td>{'models': LGBMRegressor()}</td>\n",
       "      <td>-27.545720</td>\n",
       "      <td>5</td>\n",
       "    </tr>\n",
       "    <tr>\n",
       "      <th>302</th>\n",
       "      <td>{'models': SVR(), 'models__C': 100, 'models__gamma': 'auto', 'preprocessor__num': StandardScaler()}</td>\n",
       "      <td>-27.843097</td>\n",
       "      <td>6</td>\n",
       "    </tr>\n",
       "    <tr>\n",
       "      <th>301</th>\n",
       "      <td>{'models': SVR(), 'models__C': 100, 'models__gamma': 'scale', 'preprocessor__num': 'passthrough'}</td>\n",
       "      <td>-28.879872</td>\n",
       "      <td>7</td>\n",
       "    </tr>\n",
       "    <tr>\n",
       "      <th>16</th>\n",
       "      <td>{'models': KNeighborsRegressor(), 'models__n_neighbors': 9, 'preprocessor__num': StandardScaler()}</td>\n",
       "      <td>-28.887923</td>\n",
       "      <td>8</td>\n",
       "    </tr>\n",
       "    <tr>\n",
       "      <th>18</th>\n",
       "      <td>{'models': KNeighborsRegressor(), 'models__n_neighbors': 10, 'preprocessor__num': StandardScaler()}</td>\n",
       "      <td>-28.923481</td>\n",
       "      <td>9</td>\n",
       "    </tr>\n",
       "    <tr>\n",
       "      <th>14</th>\n",
       "      <td>{'models': KNeighborsRegressor(), 'models__n_neighbors': 8, 'preprocessor__num': StandardScaler()}</td>\n",
       "      <td>-28.927769</td>\n",
       "      <td>10</td>\n",
       "    </tr>\n",
       "  </tbody>\n",
       "</table>\n",
       "</div>"
      ],
      "text/plain": [
       "                                                                                                  params  \\\n",
       "305                                {'models': LinearRegression(), 'preprocessor__num': StandardScaler()}   \n",
       "306                                  {'models': LinearRegression(), 'preprocessor__num': MinMaxScaler()}   \n",
       "307                                   {'models': LinearRegression(), 'preprocessor__num': 'passthrough'}   \n",
       "303    {'models': SVR(), 'models__C': 100, 'models__gamma': 'auto', 'preprocessor__num': MinMaxScaler()}   \n",
       "308                                                                          {'models': LGBMRegressor()}   \n",
       "302  {'models': SVR(), 'models__C': 100, 'models__gamma': 'auto', 'preprocessor__num': StandardScaler()}   \n",
       "301    {'models': SVR(), 'models__C': 100, 'models__gamma': 'scale', 'preprocessor__num': 'passthrough'}   \n",
       "16    {'models': KNeighborsRegressor(), 'models__n_neighbors': 9, 'preprocessor__num': StandardScaler()}   \n",
       "18   {'models': KNeighborsRegressor(), 'models__n_neighbors': 10, 'preprocessor__num': StandardScaler()}   \n",
       "14    {'models': KNeighborsRegressor(), 'models__n_neighbors': 8, 'preprocessor__num': StandardScaler()}   \n",
       "\n",
       "     mean_test_score  rank_test_score  \n",
       "305       -26.084808                1  \n",
       "306       -26.084872                2  \n",
       "307       -26.089035                3  \n",
       "303       -26.874811                4  \n",
       "308       -27.545720                5  \n",
       "302       -27.843097                6  \n",
       "301       -28.879872                7  \n",
       "16        -28.887923                8  \n",
       "18        -28.923481                9  \n",
       "14        -28.927769               10  "
      ]
     },
     "metadata": {},
     "output_type": "display_data"
    }
   ],
   "source": [
    "results = grid.cv_results_\n",
    "results_df = pd.DataFrame(results)\n",
    "\n",
    "ranking_columns = ['params', 'mean_test_score', 'rank_test_score']\n",
    "ranking_df = results_df[ranking_columns].sort_values(by='rank_test_score')\n",
    "\n",
    "print(\"Рейтинг моделей:\")\n",
    "display(ranking_df.head(10))"
   ]
  },
  {
   "cell_type": "markdown",
   "metadata": {},
   "source": [
    "*Вывод:*\n",
    "\n",
    "1. Создан паплайн с маштабированием StandardScaler и кодированием OneHotEncoder.\n",
    "2. Создана метрика RMSE\n",
    "3. Для каждой модели был проведен подбор гиперпараметров\n",
    "4. Обучены модели: KNeighborsRegressor, DecisionTreeRegressor, SVR, LinearRegression, LGBMRegressor.\n",
    "5. Лучшая модель - LinearRegression с **RMSE = 26.08**"
   ]
  },
  {
   "cell_type": "markdown",
   "metadata": {},
   "source": [
    "## Тестирование"
   ]
  },
  {
   "cell_type": "code",
   "execution_count": 28,
   "metadata": {},
   "outputs": [],
   "source": [
    "best_model = grid.best_estimator_.steps[1][1]\n",
    "data_preprocessor.fit(X_train)\n",
    "X_test_prepared = data_preprocessor.transform(X_test)"
   ]
  },
  {
   "cell_type": "code",
   "execution_count": 29,
   "metadata": {},
   "outputs": [
    {
     "data": {
      "text/plain": [
       "41.65060798904511"
      ]
     },
     "execution_count": 29,
     "metadata": {},
     "output_type": "execute_result"
    }
   ],
   "source": [
    "X_pred_test = best_model.predict(X_test_prepared)\n",
    "mean_squared_error(X_pred_test, y_test) ** 0.5"
   ]
  },
  {
   "cell_type": "markdown",
   "metadata": {},
   "source": [
    "Так как критерий успеха - значение метрики RMSE на тестовой выборке <= 48, то считаем нашу модель успешной"
   ]
  },
  {
   "cell_type": "markdown",
   "metadata": {},
   "source": [
    "## Вывод"
   ]
  },
  {
   "cell_type": "markdown",
   "metadata": {},
   "source": [
    "**Общий вывод:**\n",
    "\n",
    "1. Данные были загружены и соотвествуют ТЗ.\n",
    "2. Названия столбцов корректны.\n",
    "3. Пропусков нет.\n",
    "4. Выполнено ресемплирование по одному часу.\n",
    "5. Минимальное количество заказов в ~ 6 утра, максимальное - в 00.\n",
    "6. Больше всего заказов в пт и пн, меньше всего в вт и вс.\n",
    "7. Количество заказов увеличивается.\n",
    "8. Были подготовлены признаки\n",
    "9. Создан паплайн с маштабированием StandardScaler и кодированием OneHotEncoder.\n",
    "10. Создана метрика RMSE\n",
    "11. Для каждой модели был проведен подбор гиперпараметров\n",
    "12. Обучены модели: KNeighborsRegressor, DecisionTreeRegressor, SVR, LinearRegression, LGBMRegressor.\n",
    "13. Лучшая модель - LinearRegression с RMSE = 26.08\n",
    "14. Значение метрики на тестовой выборке **RMSE = 41.65**"
   ]
  }
 ],
 "metadata": {
  "ExecuteTimeLog": [
   {
    "duration": 8207,
    "start_time": "2025-04-07T08:25:50.816Z"
   },
   {
    "duration": 1837,
    "start_time": "2025-04-07T08:26:06.815Z"
   },
   {
    "duration": 44,
    "start_time": "2025-04-07T08:26:50.773Z"
   },
   {
    "duration": 15,
    "start_time": "2025-04-07T08:27:10.448Z"
   },
   {
    "duration": 3367,
    "start_time": "2025-04-07T08:29:29.297Z"
   },
   {
    "duration": 1436,
    "start_time": "2025-04-07T08:29:32.667Z"
   },
   {
    "duration": 48,
    "start_time": "2025-04-07T08:29:38.894Z"
   },
   {
    "duration": 3,
    "start_time": "2025-04-07T08:29:55.532Z"
   },
   {
    "duration": 10,
    "start_time": "2025-04-07T08:30:05.296Z"
   },
   {
    "duration": 8,
    "start_time": "2025-04-07T08:30:17.489Z"
   },
   {
    "duration": 4,
    "start_time": "2025-04-07T08:34:25.449Z"
   },
   {
    "duration": 127,
    "start_time": "2025-04-07T08:35:45.811Z"
   },
   {
    "duration": 4,
    "start_time": "2025-04-07T08:35:54.400Z"
   },
   {
    "duration": 319,
    "start_time": "2025-04-07T08:39:20.554Z"
   },
   {
    "duration": 258,
    "start_time": "2025-04-07T08:41:02.763Z"
   },
   {
    "duration": 350,
    "start_time": "2025-04-07T08:41:07.921Z"
   },
   {
    "duration": 276,
    "start_time": "2025-04-07T08:41:20.962Z"
   },
   {
    "duration": 8,
    "start_time": "2025-04-07T08:44:50.352Z"
   },
   {
    "duration": 12,
    "start_time": "2025-04-07T08:46:51.723Z"
   },
   {
    "duration": 10,
    "start_time": "2025-04-07T08:56:08.640Z"
   },
   {
    "duration": 45,
    "start_time": "2025-04-07T08:56:26.349Z"
   },
   {
    "duration": 1285,
    "start_time": "2025-04-07T08:56:32.107Z"
   },
   {
    "duration": 20,
    "start_time": "2025-04-07T08:58:18.455Z"
   },
   {
    "duration": 16,
    "start_time": "2025-04-07T08:58:20.540Z"
   },
   {
    "duration": 253,
    "start_time": "2025-04-07T08:58:34.196Z"
   },
   {
    "duration": 163,
    "start_time": "2025-04-07T08:58:47.108Z"
   },
   {
    "duration": 186,
    "start_time": "2025-04-07T08:59:09.531Z"
   },
   {
    "duration": 192,
    "start_time": "2025-04-07T08:59:43.047Z"
   },
   {
    "duration": 177,
    "start_time": "2025-04-07T08:59:47.398Z"
   },
   {
    "duration": 149,
    "start_time": "2025-04-07T09:01:42.290Z"
   },
   {
    "duration": 235,
    "start_time": "2025-04-07T09:01:46.965Z"
   },
   {
    "duration": 165,
    "start_time": "2025-04-07T09:07:14.791Z"
   },
   {
    "duration": 1343,
    "start_time": "2025-04-07T09:07:19.464Z"
   },
   {
    "duration": 10,
    "start_time": "2025-04-07T09:07:37.097Z"
   },
   {
    "duration": 9,
    "start_time": "2025-04-07T09:07:43.278Z"
   },
   {
    "duration": 150,
    "start_time": "2025-04-07T09:08:01.721Z"
   },
   {
    "duration": 154,
    "start_time": "2025-04-07T09:08:07.084Z"
   },
   {
    "duration": 152,
    "start_time": "2025-04-07T09:08:14.284Z"
   },
   {
    "duration": 3390,
    "start_time": "2025-04-07T09:09:11.952Z"
   },
   {
    "duration": 1508,
    "start_time": "2025-04-07T09:09:15.344Z"
   },
   {
    "duration": 53,
    "start_time": "2025-04-07T09:09:16.854Z"
   },
   {
    "duration": 4,
    "start_time": "2025-04-07T09:09:16.909Z"
   },
   {
    "duration": 5,
    "start_time": "2025-04-07T09:09:16.915Z"
   },
   {
    "duration": 22,
    "start_time": "2025-04-07T09:09:16.922Z"
   },
   {
    "duration": 16,
    "start_time": "2025-04-07T09:09:16.945Z"
   },
   {
    "duration": 5,
    "start_time": "2025-04-07T09:09:16.963Z"
   },
   {
    "duration": 297,
    "start_time": "2025-04-07T09:09:16.970Z"
   },
   {
    "duration": 291,
    "start_time": "2025-04-07T09:09:17.269Z"
   },
   {
    "duration": 19,
    "start_time": "2025-04-07T09:09:17.562Z"
   },
   {
    "duration": 273,
    "start_time": "2025-04-07T09:09:17.583Z"
   },
   {
    "duration": 158,
    "start_time": "2025-04-07T09:09:17.859Z"
   },
   {
    "duration": 264,
    "start_time": "2025-04-07T09:09:18.019Z"
   },
   {
    "duration": 123,
    "start_time": "2025-04-07T09:09:59.243Z"
   },
   {
    "duration": 346,
    "start_time": "2025-04-07T09:10:10.075Z"
   },
   {
    "duration": 257,
    "start_time": "2025-04-07T09:12:33.454Z"
   },
   {
    "duration": 11,
    "start_time": "2025-04-07T09:12:52.291Z"
   },
   {
    "duration": 3509,
    "start_time": "2025-04-07T09:14:04.622Z"
   },
   {
    "duration": 1410,
    "start_time": "2025-04-07T09:14:08.134Z"
   },
   {
    "duration": 59,
    "start_time": "2025-04-07T09:14:09.546Z"
   },
   {
    "duration": 4,
    "start_time": "2025-04-07T09:14:09.608Z"
   },
   {
    "duration": 5,
    "start_time": "2025-04-07T09:14:09.613Z"
   },
   {
    "duration": 13,
    "start_time": "2025-04-07T09:14:09.619Z"
   },
   {
    "duration": 10,
    "start_time": "2025-04-07T09:14:09.633Z"
   },
   {
    "duration": 17,
    "start_time": "2025-04-07T09:14:09.645Z"
   },
   {
    "duration": 300,
    "start_time": "2025-04-07T09:14:09.663Z"
   },
   {
    "duration": 285,
    "start_time": "2025-04-07T09:14:09.965Z"
   },
   {
    "duration": 25,
    "start_time": "2025-04-07T09:14:10.251Z"
   },
   {
    "duration": 319,
    "start_time": "2025-04-07T09:14:10.278Z"
   },
   {
    "duration": 156,
    "start_time": "2025-04-07T09:14:10.598Z"
   },
   {
    "duration": 263,
    "start_time": "2025-04-07T09:14:10.756Z"
   },
   {
    "duration": 14,
    "start_time": "2025-04-07T09:14:54.455Z"
   },
   {
    "duration": 136,
    "start_time": "2025-04-07T09:16:16.742Z"
   },
   {
    "duration": 11,
    "start_time": "2025-04-07T09:16:22.439Z"
   },
   {
    "duration": 5,
    "start_time": "2025-04-07T09:16:28.878Z"
   },
   {
    "duration": 11,
    "start_time": "2025-04-07T09:16:30.897Z"
   },
   {
    "duration": 29,
    "start_time": "2025-04-07T09:16:41.698Z"
   },
   {
    "duration": 7,
    "start_time": "2025-04-07T09:16:52.267Z"
   },
   {
    "duration": 13,
    "start_time": "2025-04-07T09:18:55.050Z"
   },
   {
    "duration": 3,
    "start_time": "2025-04-07T09:23:02.782Z"
   },
   {
    "duration": 5,
    "start_time": "2025-04-07T09:23:07.256Z"
   },
   {
    "duration": 3443,
    "start_time": "2025-04-07T09:24:53.248Z"
   },
   {
    "duration": 1437,
    "start_time": "2025-04-07T09:24:56.694Z"
   },
   {
    "duration": 60,
    "start_time": "2025-04-07T09:24:58.132Z"
   },
   {
    "duration": 5,
    "start_time": "2025-04-07T09:24:58.194Z"
   },
   {
    "duration": 4,
    "start_time": "2025-04-07T09:24:58.202Z"
   },
   {
    "duration": 16,
    "start_time": "2025-04-07T09:24:58.207Z"
   },
   {
    "duration": 9,
    "start_time": "2025-04-07T09:24:58.225Z"
   },
   {
    "duration": 25,
    "start_time": "2025-04-07T09:24:58.236Z"
   },
   {
    "duration": 331,
    "start_time": "2025-04-07T09:24:58.263Z"
   },
   {
    "duration": 291,
    "start_time": "2025-04-07T09:24:58.596Z"
   },
   {
    "duration": 20,
    "start_time": "2025-04-07T09:24:58.888Z"
   },
   {
    "duration": 302,
    "start_time": "2025-04-07T09:24:58.910Z"
   },
   {
    "duration": 162,
    "start_time": "2025-04-07T09:24:59.214Z"
   },
   {
    "duration": 273,
    "start_time": "2025-04-07T09:24:59.379Z"
   },
   {
    "duration": 10,
    "start_time": "2025-04-07T09:24:59.654Z"
   },
   {
    "duration": 18,
    "start_time": "2025-04-07T09:24:59.666Z"
   },
   {
    "duration": 30,
    "start_time": "2025-04-07T09:24:59.687Z"
   },
   {
    "duration": 5,
    "start_time": "2025-04-07T09:24:59.718Z"
   },
   {
    "duration": 41,
    "start_time": "2025-04-07T09:24:59.725Z"
   },
   {
    "duration": 5,
    "start_time": "2025-04-07T09:24:59.768Z"
   },
   {
    "duration": 9,
    "start_time": "2025-04-07T09:24:59.775Z"
   },
   {
    "duration": 4,
    "start_time": "2025-04-07T09:28:02.019Z"
   },
   {
    "duration": 4,
    "start_time": "2025-04-07T09:28:50.575Z"
   },
   {
    "duration": 133,
    "start_time": "2025-04-07T09:30:55.259Z"
   },
   {
    "duration": 5,
    "start_time": "2025-04-07T09:32:45.190Z"
   },
   {
    "duration": 5,
    "start_time": "2025-04-07T09:32:51.233Z"
   },
   {
    "duration": 3355,
    "start_time": "2025-04-07T09:32:56.840Z"
   },
   {
    "duration": 1410,
    "start_time": "2025-04-07T09:33:00.198Z"
   },
   {
    "duration": 54,
    "start_time": "2025-04-07T09:33:01.610Z"
   },
   {
    "duration": 4,
    "start_time": "2025-04-07T09:33:01.666Z"
   },
   {
    "duration": 20,
    "start_time": "2025-04-07T09:33:01.672Z"
   },
   {
    "duration": 18,
    "start_time": "2025-04-07T09:33:01.694Z"
   },
   {
    "duration": 9,
    "start_time": "2025-04-07T09:33:01.714Z"
   },
   {
    "duration": 15,
    "start_time": "2025-04-07T09:33:01.725Z"
   },
   {
    "duration": 325,
    "start_time": "2025-04-07T09:33:01.743Z"
   },
   {
    "duration": 307,
    "start_time": "2025-04-07T09:33:02.070Z"
   },
   {
    "duration": 19,
    "start_time": "2025-04-07T09:33:02.380Z"
   },
   {
    "duration": 306,
    "start_time": "2025-04-07T09:33:02.401Z"
   },
   {
    "duration": 164,
    "start_time": "2025-04-07T09:33:02.709Z"
   },
   {
    "duration": 280,
    "start_time": "2025-04-07T09:33:02.876Z"
   },
   {
    "duration": 5,
    "start_time": "2025-04-07T09:33:03.157Z"
   },
   {
    "duration": 88,
    "start_time": "2025-04-07T09:33:03.164Z"
   },
   {
    "duration": 33,
    "start_time": "2025-04-07T09:33:03.253Z"
   },
   {
    "duration": 5,
    "start_time": "2025-04-07T09:33:03.288Z"
   },
   {
    "duration": 22,
    "start_time": "2025-04-07T09:33:03.294Z"
   },
   {
    "duration": 23,
    "start_time": "2025-04-07T09:33:03.318Z"
   },
   {
    "duration": 40,
    "start_time": "2025-04-07T09:33:03.343Z"
   },
   {
    "duration": 4,
    "start_time": "2025-04-07T09:33:03.386Z"
   },
   {
    "duration": 9,
    "start_time": "2025-04-07T09:33:03.391Z"
   },
   {
    "duration": 140,
    "start_time": "2025-04-07T09:33:03.401Z"
   },
   {
    "duration": 0,
    "start_time": "2025-04-07T09:33:03.543Z"
   },
   {
    "duration": 0,
    "start_time": "2025-04-07T09:33:03.545Z"
   },
   {
    "duration": 3,
    "start_time": "2025-04-07T09:33:28.079Z"
   },
   {
    "duration": 98880,
    "start_time": "2025-04-07T09:33:29.044Z"
   },
   {
    "duration": 3798,
    "start_time": "2025-04-07T09:35:55.260Z"
   },
   {
    "duration": 1468,
    "start_time": "2025-04-07T09:35:59.062Z"
   },
   {
    "duration": 59,
    "start_time": "2025-04-07T09:36:00.531Z"
   },
   {
    "duration": 3,
    "start_time": "2025-04-07T09:36:00.593Z"
   },
   {
    "duration": 22,
    "start_time": "2025-04-07T09:36:00.597Z"
   },
   {
    "duration": 63,
    "start_time": "2025-04-07T09:36:00.621Z"
   },
   {
    "duration": 10,
    "start_time": "2025-04-07T09:36:00.686Z"
   },
   {
    "duration": 7,
    "start_time": "2025-04-07T09:36:00.698Z"
   },
   {
    "duration": 300,
    "start_time": "2025-04-07T09:36:00.706Z"
   },
   {
    "duration": 338,
    "start_time": "2025-04-07T09:36:01.010Z"
   },
   {
    "duration": 26,
    "start_time": "2025-04-07T09:36:01.350Z"
   },
   {
    "duration": 321,
    "start_time": "2025-04-07T09:36:01.378Z"
   },
   {
    "duration": 176,
    "start_time": "2025-04-07T09:36:01.702Z"
   },
   {
    "duration": 286,
    "start_time": "2025-04-07T09:36:01.880Z"
   },
   {
    "duration": 7,
    "start_time": "2025-04-07T09:36:02.169Z"
   },
   {
    "duration": 33,
    "start_time": "2025-04-07T09:36:02.178Z"
   },
   {
    "duration": 42,
    "start_time": "2025-04-07T09:36:02.213Z"
   },
   {
    "duration": 6,
    "start_time": "2025-04-07T09:36:02.256Z"
   },
   {
    "duration": 14,
    "start_time": "2025-04-07T09:36:02.264Z"
   },
   {
    "duration": 4,
    "start_time": "2025-04-07T09:36:02.280Z"
   },
   {
    "duration": 35,
    "start_time": "2025-04-07T09:36:02.286Z"
   },
   {
    "duration": 127,
    "start_time": "2025-04-07T09:36:02.322Z"
   },
   {
    "duration": 27,
    "start_time": "2025-04-07T09:36:02.451Z"
   },
   {
    "duration": 5,
    "start_time": "2025-04-07T09:36:02.481Z"
   },
   {
    "duration": 72774,
    "start_time": "2025-04-07T09:36:02.488Z"
   },
   {
    "duration": 0,
    "start_time": "2025-04-07T09:37:15.264Z"
   },
   {
    "duration": 3609,
    "start_time": "2025-04-07T09:38:45.531Z"
   },
   {
    "duration": 1509,
    "start_time": "2025-04-07T09:38:49.142Z"
   },
   {
    "duration": 49,
    "start_time": "2025-04-07T09:38:50.652Z"
   },
   {
    "duration": 4,
    "start_time": "2025-04-07T09:38:50.702Z"
   },
   {
    "duration": 7,
    "start_time": "2025-04-07T09:38:50.708Z"
   },
   {
    "duration": 11,
    "start_time": "2025-04-07T09:38:50.716Z"
   },
   {
    "duration": 10,
    "start_time": "2025-04-07T09:38:50.729Z"
   },
   {
    "duration": 23,
    "start_time": "2025-04-07T09:38:50.740Z"
   },
   {
    "duration": 338,
    "start_time": "2025-04-07T09:38:50.765Z"
   },
   {
    "duration": 339,
    "start_time": "2025-04-07T09:38:51.105Z"
   },
   {
    "duration": 33,
    "start_time": "2025-04-07T09:38:51.446Z"
   },
   {
    "duration": 291,
    "start_time": "2025-04-07T09:38:51.481Z"
   },
   {
    "duration": 182,
    "start_time": "2025-04-07T09:38:51.775Z"
   },
   {
    "duration": 310,
    "start_time": "2025-04-07T09:38:51.960Z"
   },
   {
    "duration": 5,
    "start_time": "2025-04-07T09:38:52.272Z"
   },
   {
    "duration": 12,
    "start_time": "2025-04-07T09:38:52.279Z"
   },
   {
    "duration": 27,
    "start_time": "2025-04-07T09:38:52.293Z"
   },
   {
    "duration": 6,
    "start_time": "2025-04-07T09:38:52.322Z"
   },
   {
    "duration": 15,
    "start_time": "2025-04-07T09:38:52.361Z"
   },
   {
    "duration": 80,
    "start_time": "2025-04-07T09:38:52.378Z"
   },
   {
    "duration": 8,
    "start_time": "2025-04-07T09:38:52.460Z"
   },
   {
    "duration": 5,
    "start_time": "2025-04-07T09:38:52.470Z"
   },
   {
    "duration": 14,
    "start_time": "2025-04-07T09:38:52.477Z"
   },
   {
    "duration": 3,
    "start_time": "2025-04-07T09:38:52.493Z"
   },
   {
    "duration": 141318,
    "start_time": "2025-04-07T09:38:52.498Z"
   },
   {
    "duration": 0,
    "start_time": "2025-04-07T09:41:13.818Z"
   },
   {
    "duration": 3501,
    "start_time": "2025-04-07T09:41:57.942Z"
   },
   {
    "duration": 1425,
    "start_time": "2025-04-07T09:42:01.446Z"
   },
   {
    "duration": 48,
    "start_time": "2025-04-07T09:42:02.873Z"
   },
   {
    "duration": 3,
    "start_time": "2025-04-07T09:42:02.923Z"
   },
   {
    "duration": 27,
    "start_time": "2025-04-07T09:42:02.928Z"
   },
   {
    "duration": 12,
    "start_time": "2025-04-07T09:42:02.957Z"
   },
   {
    "duration": 10,
    "start_time": "2025-04-07T09:42:02.972Z"
   },
   {
    "duration": 13,
    "start_time": "2025-04-07T09:42:02.984Z"
   },
   {
    "duration": 311,
    "start_time": "2025-04-07T09:42:02.999Z"
   },
   {
    "duration": 292,
    "start_time": "2025-04-07T09:42:03.312Z"
   },
   {
    "duration": 18,
    "start_time": "2025-04-07T09:42:03.606Z"
   },
   {
    "duration": 276,
    "start_time": "2025-04-07T09:42:03.626Z"
   },
   {
    "duration": 160,
    "start_time": "2025-04-07T09:42:03.904Z"
   },
   {
    "duration": 266,
    "start_time": "2025-04-07T09:42:04.067Z"
   },
   {
    "duration": 5,
    "start_time": "2025-04-07T09:42:04.335Z"
   },
   {
    "duration": 24,
    "start_time": "2025-04-07T09:42:04.342Z"
   },
   {
    "duration": 133,
    "start_time": "2025-04-07T09:42:04.369Z"
   },
   {
    "duration": 6,
    "start_time": "2025-04-07T09:42:04.504Z"
   },
   {
    "duration": 18,
    "start_time": "2025-04-07T09:42:04.511Z"
   },
   {
    "duration": 3,
    "start_time": "2025-04-07T09:42:04.531Z"
   },
   {
    "duration": 19,
    "start_time": "2025-04-07T09:42:04.535Z"
   },
   {
    "duration": 9,
    "start_time": "2025-04-07T09:42:04.556Z"
   },
   {
    "duration": 25,
    "start_time": "2025-04-07T09:42:04.567Z"
   },
   {
    "duration": 6,
    "start_time": "2025-04-07T09:42:04.594Z"
   },
   {
    "duration": 127828,
    "start_time": "2025-04-07T09:42:04.602Z"
   },
   {
    "duration": 0,
    "start_time": "2025-04-07T09:44:12.433Z"
   },
   {
    "duration": 3747,
    "start_time": "2025-04-07T09:45:02.222Z"
   },
   {
    "duration": 1406,
    "start_time": "2025-04-07T09:45:05.972Z"
   },
   {
    "duration": 61,
    "start_time": "2025-04-07T09:45:07.380Z"
   },
   {
    "duration": 3,
    "start_time": "2025-04-07T09:45:07.443Z"
   },
   {
    "duration": 6,
    "start_time": "2025-04-07T09:45:07.448Z"
   },
   {
    "duration": 20,
    "start_time": "2025-04-07T09:45:07.455Z"
   },
   {
    "duration": 14,
    "start_time": "2025-04-07T09:45:07.477Z"
   },
   {
    "duration": 5,
    "start_time": "2025-04-07T09:45:07.493Z"
   },
   {
    "duration": 350,
    "start_time": "2025-04-07T09:45:07.500Z"
   },
   {
    "duration": 311,
    "start_time": "2025-04-07T09:45:07.852Z"
   },
   {
    "duration": 28,
    "start_time": "2025-04-07T09:45:08.165Z"
   },
   {
    "duration": 299,
    "start_time": "2025-04-07T09:45:08.194Z"
   },
   {
    "duration": 167,
    "start_time": "2025-04-07T09:45:08.495Z"
   },
   {
    "duration": 279,
    "start_time": "2025-04-07T09:45:08.666Z"
   },
   {
    "duration": 15,
    "start_time": "2025-04-07T09:45:08.947Z"
   },
   {
    "duration": 21,
    "start_time": "2025-04-07T09:45:08.965Z"
   },
   {
    "duration": 31,
    "start_time": "2025-04-07T09:45:08.988Z"
   },
   {
    "duration": 6,
    "start_time": "2025-04-07T09:45:09.021Z"
   },
   {
    "duration": 42,
    "start_time": "2025-04-07T09:45:09.029Z"
   },
   {
    "duration": 4,
    "start_time": "2025-04-07T09:45:09.074Z"
   },
   {
    "duration": 6,
    "start_time": "2025-04-07T09:45:09.080Z"
   },
   {
    "duration": 7,
    "start_time": "2025-04-07T09:45:09.088Z"
   },
   {
    "duration": 5,
    "start_time": "2025-04-07T09:45:09.097Z"
   },
   {
    "duration": 5,
    "start_time": "2025-04-07T09:45:09.104Z"
   },
   {
    "duration": 223496,
    "start_time": "2025-04-07T09:45:09.110Z"
   },
   {
    "duration": 21,
    "start_time": "2025-04-07T09:48:52.607Z"
   },
   {
    "duration": 155,
    "start_time": "2025-04-07T09:53:06.722Z"
   },
   {
    "duration": 40,
    "start_time": "2025-04-07T09:53:10.367Z"
   },
   {
    "duration": 91,
    "start_time": "2025-04-07T09:53:31.312Z"
   },
   {
    "duration": 3644,
    "start_time": "2025-04-07T09:55:28.008Z"
   },
   {
    "duration": 1434,
    "start_time": "2025-04-07T09:55:31.654Z"
   },
   {
    "duration": 48,
    "start_time": "2025-04-07T09:55:33.090Z"
   },
   {
    "duration": 3,
    "start_time": "2025-04-07T09:55:33.139Z"
   },
   {
    "duration": 5,
    "start_time": "2025-04-07T09:55:33.146Z"
   },
   {
    "duration": 14,
    "start_time": "2025-04-07T09:55:33.161Z"
   },
   {
    "duration": 10,
    "start_time": "2025-04-07T09:55:33.177Z"
   },
   {
    "duration": 5,
    "start_time": "2025-04-07T09:55:33.189Z"
   },
   {
    "duration": 400,
    "start_time": "2025-04-07T09:55:33.196Z"
   },
   {
    "duration": 303,
    "start_time": "2025-04-07T09:55:33.598Z"
   },
   {
    "duration": 19,
    "start_time": "2025-04-07T09:55:33.903Z"
   },
   {
    "duration": 278,
    "start_time": "2025-04-07T09:55:33.923Z"
   },
   {
    "duration": 172,
    "start_time": "2025-04-07T09:55:34.203Z"
   },
   {
    "duration": 308,
    "start_time": "2025-04-07T09:55:34.379Z"
   },
   {
    "duration": 5,
    "start_time": "2025-04-07T09:55:34.689Z"
   },
   {
    "duration": 18,
    "start_time": "2025-04-07T09:55:34.696Z"
   },
   {
    "duration": 65,
    "start_time": "2025-04-07T09:55:34.716Z"
   },
   {
    "duration": 6,
    "start_time": "2025-04-07T09:55:34.783Z"
   },
   {
    "duration": 21,
    "start_time": "2025-04-07T09:55:34.790Z"
   },
   {
    "duration": 23,
    "start_time": "2025-04-07T09:55:34.813Z"
   },
   {
    "duration": 9,
    "start_time": "2025-04-07T09:55:34.838Z"
   },
   {
    "duration": 20,
    "start_time": "2025-04-07T09:55:34.849Z"
   },
   {
    "duration": 9,
    "start_time": "2025-04-07T09:55:34.871Z"
   },
   {
    "duration": 3,
    "start_time": "2025-04-07T09:55:34.882Z"
   },
   {
    "duration": 905810,
    "start_time": "2025-04-07T09:55:34.887Z"
   },
   {
    "duration": 22,
    "start_time": "2025-04-07T10:10:40.699Z"
   },
   {
    "duration": 60,
    "start_time": "2025-04-07T10:10:40.723Z"
   },
   {
    "duration": 11,
    "start_time": "2025-04-07T10:10:40.785Z"
   },
   {
    "duration": 1628,
    "start_time": "2025-04-07T11:52:12.350Z"
   },
   {
    "duration": 8029,
    "start_time": "2025-04-07T11:52:59.996Z"
   },
   {
    "duration": 1391,
    "start_time": "2025-04-07T11:53:08.027Z"
   },
   {
    "duration": 85,
    "start_time": "2025-04-07T11:53:09.419Z"
   },
   {
    "duration": 4,
    "start_time": "2025-04-07T11:53:09.506Z"
   },
   {
    "duration": 5,
    "start_time": "2025-04-07T11:53:09.512Z"
   },
   {
    "duration": 12,
    "start_time": "2025-04-07T11:53:09.519Z"
   },
   {
    "duration": 10,
    "start_time": "2025-04-07T11:53:09.533Z"
   },
   {
    "duration": 5,
    "start_time": "2025-04-07T11:53:09.544Z"
   },
   {
    "duration": 317,
    "start_time": "2025-04-07T11:53:09.550Z"
   },
   {
    "duration": 283,
    "start_time": "2025-04-07T11:53:09.869Z"
   },
   {
    "duration": 20,
    "start_time": "2025-04-07T11:53:10.153Z"
   },
   {
    "duration": 268,
    "start_time": "2025-04-07T11:53:10.175Z"
   },
   {
    "duration": 172,
    "start_time": "2025-04-07T11:53:10.444Z"
   },
   {
    "duration": 276,
    "start_time": "2025-04-07T11:53:10.619Z"
   },
   {
    "duration": 12,
    "start_time": "2025-04-07T11:53:10.897Z"
   },
   {
    "duration": 18,
    "start_time": "2025-04-07T11:53:10.911Z"
   },
   {
    "duration": 7,
    "start_time": "2025-04-07T11:53:10.931Z"
   },
   {
    "duration": 7,
    "start_time": "2025-04-07T11:54:54.894Z"
   },
   {
    "duration": 1965,
    "start_time": "2025-04-07T12:04:22.643Z"
   },
   {
    "duration": 317,
    "start_time": "2025-04-07T12:04:45.191Z"
   },
   {
    "duration": 6,
    "start_time": "2025-04-07T12:05:54.929Z"
   },
   {
    "duration": 7,
    "start_time": "2025-04-07T12:06:07.008Z"
   },
   {
    "duration": 238,
    "start_time": "2025-04-07T12:07:15.525Z"
   },
   {
    "duration": 236,
    "start_time": "2025-04-07T12:07:24.153Z"
   },
   {
    "duration": 262,
    "start_time": "2025-04-07T12:07:38.492Z"
   },
   {
    "duration": 5,
    "start_time": "2025-04-07T12:11:29.306Z"
   },
   {
    "duration": 136,
    "start_time": "2025-04-07T12:14:45.481Z"
   },
   {
    "duration": 17,
    "start_time": "2025-04-07T12:14:59.191Z"
   },
   {
    "duration": 3159,
    "start_time": "2025-04-07T12:15:05.606Z"
   },
   {
    "duration": 1338,
    "start_time": "2025-04-07T12:15:08.768Z"
   },
   {
    "duration": 48,
    "start_time": "2025-04-07T12:15:10.107Z"
   },
   {
    "duration": 3,
    "start_time": "2025-04-07T12:15:10.157Z"
   },
   {
    "duration": 93,
    "start_time": "2025-04-07T12:15:10.162Z"
   },
   {
    "duration": 23,
    "start_time": "2025-04-07T12:15:10.257Z"
   },
   {
    "duration": 11,
    "start_time": "2025-04-07T12:15:10.282Z"
   },
   {
    "duration": 12,
    "start_time": "2025-04-07T12:15:10.294Z"
   },
   {
    "duration": 278,
    "start_time": "2025-04-07T12:15:10.307Z"
   },
   {
    "duration": 280,
    "start_time": "2025-04-07T12:15:10.587Z"
   },
   {
    "duration": 18,
    "start_time": "2025-04-07T12:15:10.869Z"
   },
   {
    "duration": 268,
    "start_time": "2025-04-07T12:15:10.889Z"
   },
   {
    "duration": 156,
    "start_time": "2025-04-07T12:15:11.158Z"
   },
   {
    "duration": 266,
    "start_time": "2025-04-07T12:15:11.317Z"
   },
   {
    "duration": 6,
    "start_time": "2025-04-07T12:15:11.585Z"
   },
   {
    "duration": 23,
    "start_time": "2025-04-07T12:15:11.592Z"
   },
   {
    "duration": 251,
    "start_time": "2025-04-07T12:15:11.617Z"
   },
   {
    "duration": 7,
    "start_time": "2025-04-07T12:15:11.869Z"
   },
   {
    "duration": 36,
    "start_time": "2025-04-07T12:15:11.878Z"
   },
   {
    "duration": 5,
    "start_time": "2025-04-07T12:16:14.958Z"
   },
   {
    "duration": 12,
    "start_time": "2025-04-07T12:16:20.240Z"
   },
   {
    "duration": 12,
    "start_time": "2025-04-07T12:17:22.656Z"
   },
   {
    "duration": 3118,
    "start_time": "2025-04-07T12:17:31.368Z"
   },
   {
    "duration": 1414,
    "start_time": "2025-04-07T12:17:34.489Z"
   },
   {
    "duration": 49,
    "start_time": "2025-04-07T12:17:35.904Z"
   },
   {
    "duration": 4,
    "start_time": "2025-04-07T12:17:35.955Z"
   },
   {
    "duration": 33,
    "start_time": "2025-04-07T12:17:35.961Z"
   },
   {
    "duration": 13,
    "start_time": "2025-04-07T12:17:35.996Z"
   },
   {
    "duration": 30,
    "start_time": "2025-04-07T12:17:36.011Z"
   },
   {
    "duration": 7,
    "start_time": "2025-04-07T12:17:36.043Z"
   },
   {
    "duration": 309,
    "start_time": "2025-04-07T12:17:36.051Z"
   },
   {
    "duration": 287,
    "start_time": "2025-04-07T12:17:36.361Z"
   },
   {
    "duration": 18,
    "start_time": "2025-04-07T12:17:36.650Z"
   },
   {
    "duration": 268,
    "start_time": "2025-04-07T12:17:36.670Z"
   },
   {
    "duration": 169,
    "start_time": "2025-04-07T12:17:36.940Z"
   },
   {
    "duration": 253,
    "start_time": "2025-04-07T12:17:37.112Z"
   },
   {
    "duration": 5,
    "start_time": "2025-04-07T12:17:37.367Z"
   },
   {
    "duration": 13,
    "start_time": "2025-04-07T12:17:37.373Z"
   },
   {
    "duration": 286,
    "start_time": "2025-04-07T12:17:37.388Z"
   },
   {
    "duration": 6,
    "start_time": "2025-04-07T12:17:37.676Z"
   },
   {
    "duration": 34,
    "start_time": "2025-04-07T12:17:37.683Z"
   },
   {
    "duration": 6,
    "start_time": "2025-04-07T12:17:37.719Z"
   },
   {
    "duration": 14,
    "start_time": "2025-04-07T12:17:37.727Z"
   },
   {
    "duration": 4,
    "start_time": "2025-04-07T12:17:37.743Z"
   },
   {
    "duration": 4,
    "start_time": "2025-04-07T12:17:46.348Z"
   },
   {
    "duration": 4,
    "start_time": "2025-04-07T12:17:50.963Z"
   },
   {
    "duration": 132,
    "start_time": "2025-04-07T12:20:33.227Z"
   },
   {
    "duration": 5,
    "start_time": "2025-04-07T12:21:19.768Z"
   },
   {
    "duration": 10,
    "start_time": "2025-04-07T12:21:25.393Z"
   },
   {
    "duration": 12,
    "start_time": "2025-04-07T12:23:45.218Z"
   },
   {
    "duration": 5,
    "start_time": "2025-04-07T12:23:52.860Z"
   },
   {
    "duration": 4,
    "start_time": "2025-04-07T12:23:53.861Z"
   },
   {
    "duration": 107846,
    "start_time": "2025-04-07T12:24:14.137Z"
   },
   {
    "duration": 28,
    "start_time": "2025-04-07T12:26:07.392Z"
   },
   {
    "duration": 25,
    "start_time": "2025-04-07T12:26:21.656Z"
   },
   {
    "duration": 74,
    "start_time": "2025-04-07T12:26:24.768Z"
   },
   {
    "duration": 69,
    "start_time": "2025-04-07T12:26:43.396Z"
   },
   {
    "duration": 66,
    "start_time": "2025-04-07T12:27:14.316Z"
   },
   {
    "duration": 5,
    "start_time": "2025-04-07T12:28:01.411Z"
   },
   {
    "duration": 54,
    "start_time": "2025-04-07T12:28:17.045Z"
   },
   {
    "duration": 3336,
    "start_time": "2025-04-07T12:29:10.449Z"
   },
   {
    "duration": 1477,
    "start_time": "2025-04-07T12:29:13.788Z"
   },
   {
    "duration": 52,
    "start_time": "2025-04-07T12:29:15.267Z"
   },
   {
    "duration": 17,
    "start_time": "2025-04-07T12:29:15.325Z"
   },
   {
    "duration": 7,
    "start_time": "2025-04-07T12:29:15.345Z"
   },
   {
    "duration": 23,
    "start_time": "2025-04-07T12:29:15.354Z"
   },
   {
    "duration": 9,
    "start_time": "2025-04-07T12:29:15.380Z"
   },
   {
    "duration": 5,
    "start_time": "2025-04-07T12:29:15.390Z"
   },
   {
    "duration": 318,
    "start_time": "2025-04-07T12:29:15.396Z"
   },
   {
    "duration": 293,
    "start_time": "2025-04-07T12:29:15.717Z"
   },
   {
    "duration": 33,
    "start_time": "2025-04-07T12:29:16.018Z"
   },
   {
    "duration": 310,
    "start_time": "2025-04-07T12:29:16.053Z"
   },
   {
    "duration": 177,
    "start_time": "2025-04-07T12:29:16.364Z"
   },
   {
    "duration": 288,
    "start_time": "2025-04-07T12:29:16.544Z"
   },
   {
    "duration": 5,
    "start_time": "2025-04-07T12:29:16.834Z"
   },
   {
    "duration": 11,
    "start_time": "2025-04-07T12:29:16.840Z"
   },
   {
    "duration": 235,
    "start_time": "2025-04-07T12:29:16.852Z"
   },
   {
    "duration": 7,
    "start_time": "2025-04-07T12:29:17.088Z"
   },
   {
    "duration": 32,
    "start_time": "2025-04-07T12:29:17.106Z"
   },
   {
    "duration": 9,
    "start_time": "2025-04-07T12:29:17.140Z"
   },
   {
    "duration": 85,
    "start_time": "2025-04-07T12:29:17.151Z"
   },
   {
    "duration": 3,
    "start_time": "2025-04-07T12:29:17.238Z"
   },
   {
    "duration": 5,
    "start_time": "2025-04-07T12:29:17.244Z"
   },
   {
    "duration": 81,
    "start_time": "2025-04-07T12:29:17.250Z"
   },
   {
    "duration": 7,
    "start_time": "2025-04-07T12:29:17.333Z"
   },
   {
    "duration": 320792,
    "start_time": "2025-04-07T12:29:17.342Z"
   },
   {
    "duration": 0,
    "start_time": "2025-04-07T12:34:38.136Z"
   },
   {
    "duration": 0,
    "start_time": "2025-04-07T12:34:38.138Z"
   },
   {
    "duration": 0,
    "start_time": "2025-04-07T12:34:38.141Z"
   },
   {
    "duration": 3595,
    "start_time": "2025-04-07T12:34:48.857Z"
   },
   {
    "duration": 1374,
    "start_time": "2025-04-07T12:34:52.455Z"
   },
   {
    "duration": 51,
    "start_time": "2025-04-07T12:34:53.831Z"
   },
   {
    "duration": 4,
    "start_time": "2025-04-07T12:34:53.884Z"
   },
   {
    "duration": 5,
    "start_time": "2025-04-07T12:34:53.890Z"
   },
   {
    "duration": 26,
    "start_time": "2025-04-07T12:34:53.896Z"
   },
   {
    "duration": 144,
    "start_time": "2025-04-07T12:34:53.924Z"
   },
   {
    "duration": 13,
    "start_time": "2025-04-07T12:34:54.070Z"
   },
   {
    "duration": 394,
    "start_time": "2025-04-07T12:34:54.084Z"
   },
   {
    "duration": 338,
    "start_time": "2025-04-07T12:34:54.482Z"
   },
   {
    "duration": 24,
    "start_time": "2025-04-07T12:34:54.822Z"
   },
   {
    "duration": 300,
    "start_time": "2025-04-07T12:34:54.848Z"
   },
   {
    "duration": 180,
    "start_time": "2025-04-07T12:34:55.150Z"
   },
   {
    "duration": 270,
    "start_time": "2025-04-07T12:34:55.333Z"
   },
   {
    "duration": 15,
    "start_time": "2025-04-07T12:34:55.606Z"
   },
   {
    "duration": 20,
    "start_time": "2025-04-07T12:34:55.628Z"
   },
   {
    "duration": 230,
    "start_time": "2025-04-07T12:34:55.651Z"
   },
   {
    "duration": 39,
    "start_time": "2025-04-07T12:34:55.883Z"
   },
   {
    "duration": 23,
    "start_time": "2025-04-07T12:34:55.923Z"
   },
   {
    "duration": 6,
    "start_time": "2025-04-07T12:34:55.947Z"
   },
   {
    "duration": 21,
    "start_time": "2025-04-07T12:34:55.955Z"
   },
   {
    "duration": 8,
    "start_time": "2025-04-07T12:34:55.977Z"
   },
   {
    "duration": 9,
    "start_time": "2025-04-07T12:34:55.986Z"
   },
   {
    "duration": 20,
    "start_time": "2025-04-07T12:34:55.997Z"
   },
   {
    "duration": 28,
    "start_time": "2025-04-07T12:34:56.026Z"
   },
   {
    "duration": 700516,
    "start_time": "2025-04-07T12:34:56.056Z"
   },
   {
    "duration": 0,
    "start_time": "2025-04-07T12:46:36.574Z"
   },
   {
    "duration": 0,
    "start_time": "2025-04-07T12:46:36.576Z"
   },
   {
    "duration": 0,
    "start_time": "2025-04-07T12:46:36.577Z"
   },
   {
    "duration": 3,
    "start_time": "2025-04-07T12:46:53.245Z"
   },
   {
    "duration": 5,
    "start_time": "2025-04-07T12:46:55.163Z"
   },
   {
    "duration": 3440,
    "start_time": "2025-04-07T12:47:00.037Z"
   },
   {
    "duration": 1485,
    "start_time": "2025-04-07T12:47:03.481Z"
   },
   {
    "duration": 59,
    "start_time": "2025-04-07T12:47:04.968Z"
   },
   {
    "duration": 3,
    "start_time": "2025-04-07T12:47:05.029Z"
   },
   {
    "duration": 20,
    "start_time": "2025-04-07T12:47:05.036Z"
   },
   {
    "duration": 27,
    "start_time": "2025-04-07T12:47:05.059Z"
   },
   {
    "duration": 13,
    "start_time": "2025-04-07T12:47:05.089Z"
   },
   {
    "duration": 10,
    "start_time": "2025-04-07T12:47:05.106Z"
   },
   {
    "duration": 318,
    "start_time": "2025-04-07T12:47:05.120Z"
   },
   {
    "duration": 300,
    "start_time": "2025-04-07T12:47:05.440Z"
   },
   {
    "duration": 18,
    "start_time": "2025-04-07T12:47:05.742Z"
   },
   {
    "duration": 304,
    "start_time": "2025-04-07T12:47:05.763Z"
   },
   {
    "duration": 191,
    "start_time": "2025-04-07T12:47:06.069Z"
   },
   {
    "duration": 316,
    "start_time": "2025-04-07T12:47:06.264Z"
   },
   {
    "duration": 6,
    "start_time": "2025-04-07T12:47:06.582Z"
   },
   {
    "duration": 33,
    "start_time": "2025-04-07T12:47:06.590Z"
   },
   {
    "duration": 254,
    "start_time": "2025-04-07T12:47:06.625Z"
   },
   {
    "duration": 8,
    "start_time": "2025-04-07T12:47:06.881Z"
   },
   {
    "duration": 40,
    "start_time": "2025-04-07T12:47:06.891Z"
   },
   {
    "duration": 7,
    "start_time": "2025-04-07T12:47:06.933Z"
   },
   {
    "duration": 16,
    "start_time": "2025-04-07T12:47:06.942Z"
   },
   {
    "duration": 8,
    "start_time": "2025-04-07T12:47:06.960Z"
   },
   {
    "duration": 6,
    "start_time": "2025-04-07T12:47:06.970Z"
   },
   {
    "duration": 36,
    "start_time": "2025-04-07T12:47:06.977Z"
   },
   {
    "duration": 15,
    "start_time": "2025-04-07T12:47:07.015Z"
   },
   {
    "duration": 985017,
    "start_time": "2025-04-07T12:47:07.032Z"
   },
   {
    "duration": 21,
    "start_time": "2025-04-07T13:03:32.051Z"
   },
   {
    "duration": 57,
    "start_time": "2025-04-07T13:03:32.074Z"
   },
   {
    "duration": 84,
    "start_time": "2025-04-07T13:03:32.132Z"
   },
   {
    "duration": 3781,
    "start_time": "2025-04-07T13:04:17.014Z"
   },
   {
    "duration": 1462,
    "start_time": "2025-04-07T13:04:20.799Z"
   },
   {
    "duration": 76,
    "start_time": "2025-04-07T13:04:22.263Z"
   },
   {
    "duration": 5,
    "start_time": "2025-04-07T13:04:22.344Z"
   },
   {
    "duration": 87,
    "start_time": "2025-04-07T13:04:22.351Z"
   },
   {
    "duration": 14,
    "start_time": "2025-04-07T13:04:22.439Z"
   },
   {
    "duration": 8,
    "start_time": "2025-04-07T13:04:22.455Z"
   },
   {
    "duration": 7,
    "start_time": "2025-04-07T13:04:22.465Z"
   },
   {
    "duration": 329,
    "start_time": "2025-04-07T13:04:22.474Z"
   },
   {
    "duration": 321,
    "start_time": "2025-04-07T13:04:22.807Z"
   },
   {
    "duration": 21,
    "start_time": "2025-04-07T13:04:23.136Z"
   },
   {
    "duration": 317,
    "start_time": "2025-04-07T13:04:23.159Z"
   },
   {
    "duration": 188,
    "start_time": "2025-04-07T13:04:23.477Z"
   },
   {
    "duration": 316,
    "start_time": "2025-04-07T13:04:23.667Z"
   },
   {
    "duration": 4,
    "start_time": "2025-04-07T13:04:23.984Z"
   },
   {
    "duration": 52,
    "start_time": "2025-04-07T13:04:23.990Z"
   },
   {
    "duration": 282,
    "start_time": "2025-04-07T13:04:24.044Z"
   },
   {
    "duration": 12,
    "start_time": "2025-04-07T13:04:24.327Z"
   },
   {
    "duration": 116,
    "start_time": "2025-04-07T13:04:24.341Z"
   },
   {
    "duration": 7,
    "start_time": "2025-04-07T13:04:24.459Z"
   },
   {
    "duration": 45,
    "start_time": "2025-04-07T13:04:24.469Z"
   },
   {
    "duration": 5,
    "start_time": "2025-04-07T13:04:24.518Z"
   },
   {
    "duration": 13,
    "start_time": "2025-04-07T13:04:24.525Z"
   },
   {
    "duration": 11,
    "start_time": "2025-04-07T13:04:24.541Z"
   },
   {
    "duration": 4,
    "start_time": "2025-04-07T13:04:24.555Z"
   },
   {
    "duration": 342873,
    "start_time": "2025-04-07T13:04:24.562Z"
   },
   {
    "duration": 0,
    "start_time": "2025-04-07T13:10:07.440Z"
   },
   {
    "duration": 0,
    "start_time": "2025-04-07T13:10:07.441Z"
   },
   {
    "duration": 0,
    "start_time": "2025-04-07T13:10:07.443Z"
   },
   {
    "duration": 3797,
    "start_time": "2025-04-07T13:11:35.674Z"
   },
   {
    "duration": 1571,
    "start_time": "2025-04-07T13:11:39.474Z"
   },
   {
    "duration": 75,
    "start_time": "2025-04-07T13:11:41.047Z"
   },
   {
    "duration": 8,
    "start_time": "2025-04-07T13:11:41.127Z"
   },
   {
    "duration": 4,
    "start_time": "2025-04-07T13:11:41.143Z"
   },
   {
    "duration": 14,
    "start_time": "2025-04-07T13:11:41.149Z"
   },
   {
    "duration": 9,
    "start_time": "2025-04-07T13:11:41.165Z"
   },
   {
    "duration": 5,
    "start_time": "2025-04-07T13:11:41.176Z"
   },
   {
    "duration": 378,
    "start_time": "2025-04-07T13:11:41.183Z"
   },
   {
    "duration": 333,
    "start_time": "2025-04-07T13:11:41.563Z"
   },
   {
    "duration": 57,
    "start_time": "2025-04-07T13:11:41.897Z"
   },
   {
    "duration": 312,
    "start_time": "2025-04-07T13:11:41.956Z"
   },
   {
    "duration": 184,
    "start_time": "2025-04-07T13:11:42.270Z"
   },
   {
    "duration": 314,
    "start_time": "2025-04-07T13:11:42.458Z"
   },
   {
    "duration": 5,
    "start_time": "2025-04-07T13:11:42.774Z"
   },
   {
    "duration": 89,
    "start_time": "2025-04-07T13:11:42.781Z"
   },
   {
    "duration": 279,
    "start_time": "2025-04-07T13:11:42.872Z"
   },
   {
    "duration": 6,
    "start_time": "2025-04-07T13:11:43.153Z"
   },
   {
    "duration": 26,
    "start_time": "2025-04-07T13:11:43.161Z"
   },
   {
    "duration": 27,
    "start_time": "2025-04-07T13:11:43.188Z"
   },
   {
    "duration": 26,
    "start_time": "2025-04-07T13:11:43.218Z"
   },
   {
    "duration": 4,
    "start_time": "2025-04-07T13:11:43.245Z"
   },
   {
    "duration": 6,
    "start_time": "2025-04-07T13:11:43.250Z"
   },
   {
    "duration": 12,
    "start_time": "2025-04-07T13:11:43.258Z"
   },
   {
    "duration": 4,
    "start_time": "2025-04-07T13:11:43.272Z"
   },
   {
    "duration": 1138090,
    "start_time": "2025-04-07T13:11:43.278Z"
   },
   {
    "duration": 43,
    "start_time": "2025-04-07T13:30:41.370Z"
   },
   {
    "duration": 111,
    "start_time": "2025-04-07T13:30:41.416Z"
   },
   {
    "duration": 55,
    "start_time": "2025-04-07T13:30:41.530Z"
   },
   {
    "duration": 3,
    "start_time": "2025-04-07T13:32:14.141Z"
   },
   {
    "duration": 133,
    "start_time": "2025-04-07T13:32:22.549Z"
   },
   {
    "duration": 5,
    "start_time": "2025-04-07T13:33:27.636Z"
   },
   {
    "duration": 3206,
    "start_time": "2025-04-07T13:39:11.737Z"
   },
   {
    "duration": 1402,
    "start_time": "2025-04-07T13:39:14.946Z"
   },
   {
    "duration": 47,
    "start_time": "2025-04-07T13:39:16.351Z"
   },
   {
    "duration": 4,
    "start_time": "2025-04-07T13:39:16.400Z"
   },
   {
    "duration": 18,
    "start_time": "2025-04-07T13:39:16.405Z"
   },
   {
    "duration": 13,
    "start_time": "2025-04-07T13:39:16.425Z"
   },
   {
    "duration": 9,
    "start_time": "2025-04-07T13:39:16.440Z"
   },
   {
    "duration": 5,
    "start_time": "2025-04-07T13:39:16.451Z"
   },
   {
    "duration": 326,
    "start_time": "2025-04-07T13:39:16.458Z"
   },
   {
    "duration": 287,
    "start_time": "2025-04-07T13:39:16.787Z"
   },
   {
    "duration": 31,
    "start_time": "2025-04-07T13:39:17.076Z"
   },
   {
    "duration": 267,
    "start_time": "2025-04-07T13:39:17.108Z"
   },
   {
    "duration": 162,
    "start_time": "2025-04-07T13:39:17.377Z"
   },
   {
    "duration": 293,
    "start_time": "2025-04-07T13:39:17.541Z"
   },
   {
    "duration": 5,
    "start_time": "2025-04-07T13:39:17.835Z"
   },
   {
    "duration": 22,
    "start_time": "2025-04-07T13:39:17.841Z"
   },
   {
    "duration": 263,
    "start_time": "2025-04-07T13:39:17.865Z"
   },
   {
    "duration": 7,
    "start_time": "2025-04-07T13:39:18.129Z"
   },
   {
    "duration": 22,
    "start_time": "2025-04-07T13:39:18.138Z"
   },
   {
    "duration": 5,
    "start_time": "2025-04-07T13:39:18.162Z"
   },
   {
    "duration": 41,
    "start_time": "2025-04-07T13:39:18.169Z"
   },
   {
    "duration": 3,
    "start_time": "2025-04-07T13:39:18.212Z"
   },
   {
    "duration": 4,
    "start_time": "2025-04-07T13:39:18.217Z"
   },
   {
    "duration": 5,
    "start_time": "2025-04-07T13:39:18.222Z"
   },
   {
    "duration": 6,
    "start_time": "2025-04-07T13:39:18.229Z"
   },
   {
    "duration": 158618,
    "start_time": "2025-04-07T13:39:18.236Z"
   },
   {
    "duration": 0,
    "start_time": "2025-04-07T13:41:56.856Z"
   },
   {
    "duration": 0,
    "start_time": "2025-04-07T13:41:56.857Z"
   },
   {
    "duration": 0,
    "start_time": "2025-04-07T13:41:56.858Z"
   },
   {
    "duration": 3301,
    "start_time": "2025-04-07T13:43:05.441Z"
   },
   {
    "duration": 1379,
    "start_time": "2025-04-07T13:43:08.744Z"
   },
   {
    "duration": 47,
    "start_time": "2025-04-07T13:43:10.125Z"
   },
   {
    "duration": 3,
    "start_time": "2025-04-07T13:43:10.174Z"
   },
   {
    "duration": 18,
    "start_time": "2025-04-07T13:43:10.178Z"
   },
   {
    "duration": 21,
    "start_time": "2025-04-07T13:43:10.198Z"
   },
   {
    "duration": 9,
    "start_time": "2025-04-07T13:43:10.221Z"
   },
   {
    "duration": 4,
    "start_time": "2025-04-07T13:43:10.232Z"
   },
   {
    "duration": 306,
    "start_time": "2025-04-07T13:43:10.237Z"
   },
   {
    "duration": 284,
    "start_time": "2025-04-07T13:43:10.546Z"
   },
   {
    "duration": 19,
    "start_time": "2025-04-07T13:43:10.832Z"
   },
   {
    "duration": 285,
    "start_time": "2025-04-07T13:43:10.853Z"
   },
   {
    "duration": 161,
    "start_time": "2025-04-07T13:43:11.141Z"
   },
   {
    "duration": 265,
    "start_time": "2025-04-07T13:43:11.304Z"
   },
   {
    "duration": 5,
    "start_time": "2025-04-07T13:43:11.571Z"
   },
   {
    "duration": 51,
    "start_time": "2025-04-07T13:43:11.577Z"
   },
   {
    "duration": 243,
    "start_time": "2025-04-07T13:43:11.629Z"
   },
   {
    "duration": 6,
    "start_time": "2025-04-07T13:43:11.873Z"
   },
   {
    "duration": 38,
    "start_time": "2025-04-07T13:43:11.881Z"
   },
   {
    "duration": 16,
    "start_time": "2025-04-07T13:43:11.920Z"
   },
   {
    "duration": 11,
    "start_time": "2025-04-07T13:43:11.938Z"
   },
   {
    "duration": 3,
    "start_time": "2025-04-07T13:43:11.950Z"
   },
   {
    "duration": 7,
    "start_time": "2025-04-07T13:43:11.955Z"
   },
   {
    "duration": 9,
    "start_time": "2025-04-07T13:43:11.964Z"
   },
   {
    "duration": 4,
    "start_time": "2025-04-07T13:43:11.974Z"
   },
   {
    "duration": 114853,
    "start_time": "2025-04-07T13:43:11.980Z"
   },
   {
    "duration": 21,
    "start_time": "2025-04-07T13:45:06.835Z"
   },
   {
    "duration": 43,
    "start_time": "2025-04-07T13:45:06.859Z"
   },
   {
    "duration": 14,
    "start_time": "2025-04-07T13:45:06.909Z"
   }
  ],
  "kernelspec": {
   "display_name": "Python 3 (ipykernel)",
   "language": "python",
   "name": "python3"
  },
  "language_info": {
   "codemirror_mode": {
    "name": "ipython",
    "version": 3
   },
   "file_extension": ".py",
   "mimetype": "text/x-python",
   "name": "python",
   "nbconvert_exporter": "python",
   "pygments_lexer": "ipython3",
   "version": "3.11.8"
  },
  "toc": {
   "base_numbering": 1,
   "nav_menu": {
    "height": "126px",
    "width": "202px"
   },
   "number_sections": true,
   "sideBar": true,
   "skip_h1_title": true,
   "title_cell": "Содержание",
   "title_sidebar": "Contents",
   "toc_cell": true,
   "toc_position": {
    "height": "calc(100% - 180px)",
    "left": "10px",
    "top": "150px",
    "width": "182px"
   },
   "toc_section_display": true,
   "toc_window_display": true
  }
 },
 "nbformat": 4,
 "nbformat_minor": 4
}
