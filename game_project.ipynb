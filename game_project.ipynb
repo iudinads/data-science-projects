{
 "cells": [
  {
   "cell_type": "markdown",
   "metadata": {},
   "source": [
    "**Заголовок:** Исследование продаж компьютерных игр для определения успешных продуктов и планирования рекламных кампаний.\n",
    "\n",
    "**Описание проекта:** В данном проекте мы проведем анализ исторических данных о продажах компьютерных игр с целью выявления закономерностей, определяющих успешность игры. Используя данные о платформах, жанрах, оценках пользователей и критиков, мы сможем сделать обоснованные предположения о потенциально популярных продуктах и спланировать рекламные кампании на 2017 год. Работа включает в себя подготовку данных, исследовательский анализ, составление портрета пользователей для разных регионов и проверку гипотез.\n",
    "\n",
    "**Цель исследования:** Целью исследования является выявление закономерностей, определяющих успешность компьютерных игр, что позволит интернет-магазину «Стримчик» более эффективно планировать свои рекламные кампании и ориентироваться на предпочтения пользователей.\n",
    "\n",
    "**Ход исследования:**\n",
    "1. Открытие файла с данными и изучение информации.\n",
    "2. Подготовка данных: преобразование типов данных, приведение названий столбцов к нижнему регистру, обработка пропусков, обработка дубликатов, создание нового столбца total_sales, который суммирует продажи во всех регионах.\n",
    "3. Исследовательский анализ данных: анализ количества игр, выпущенных по годам, для определения актуального периода, изучение изменений в продажах по платформам, анализ влияния отзывов пользователей и критиков на продажи через диаграмму рассеяния и расчет корреляции, исследование общего распределения игр по жанрам для выявления самых прибыльных жанров.\n",
    "4. Портрет пользователя каждого региона: Определение топ-5 популярных платформ и жанров для каждого региона (NA, EU, JP).Анализ различий в долях продаж между регионами. Исследование влияния рейтинга ESRB на продажи в каждом регионе.\n",
    "5. Проверка гипотез: Проверка гипотезы о равенстве средних пользовательских рейтингов платформ Xbox One и PC. Проверка гипотезы о различии средних пользовательских рейтингов жанров Action и Sports.\n",
    "\n",
    "**Общий вывод:** Резюмирование полученных результатов, формулировка конечных выводов и рекомендаций."
   ]
  },
  {
   "cell_type": "markdown",
   "metadata": {},
   "source": [
    "**Шаг №1**"
   ]
  },
  {
   "cell_type": "code",
   "execution_count": 1,
   "metadata": {},
   "outputs": [],
   "source": [
    "import pandas as pd\n",
    "import matplotlib.pyplot as plt\n",
    "import numpy as np\n",
    "from scipy import stats\n",
    "import seaborn as sns"
   ]
  },
  {
   "cell_type": "code",
   "execution_count": 2,
   "metadata": {},
   "outputs": [
    {
     "data": {
      "text/html": [
       "<div>\n",
       "<style scoped>\n",
       "    .dataframe tbody tr th:only-of-type {\n",
       "        vertical-align: middle;\n",
       "    }\n",
       "\n",
       "    .dataframe tbody tr th {\n",
       "        vertical-align: top;\n",
       "    }\n",
       "\n",
       "    .dataframe thead th {\n",
       "        text-align: right;\n",
       "    }\n",
       "</style>\n",
       "<table border=\"1\" class=\"dataframe\">\n",
       "  <thead>\n",
       "    <tr style=\"text-align: right;\">\n",
       "      <th></th>\n",
       "      <th>Name</th>\n",
       "      <th>Platform</th>\n",
       "      <th>Year_of_Release</th>\n",
       "      <th>Genre</th>\n",
       "      <th>NA_sales</th>\n",
       "      <th>EU_sales</th>\n",
       "      <th>JP_sales</th>\n",
       "      <th>Other_sales</th>\n",
       "      <th>Critic_Score</th>\n",
       "      <th>User_Score</th>\n",
       "      <th>Rating</th>\n",
       "    </tr>\n",
       "  </thead>\n",
       "  <tbody>\n",
       "    <tr>\n",
       "      <th>0</th>\n",
       "      <td>Wii Sports</td>\n",
       "      <td>Wii</td>\n",
       "      <td>2006.0</td>\n",
       "      <td>Sports</td>\n",
       "      <td>41.36</td>\n",
       "      <td>28.96</td>\n",
       "      <td>3.77</td>\n",
       "      <td>8.45</td>\n",
       "      <td>76.0</td>\n",
       "      <td>8</td>\n",
       "      <td>E</td>\n",
       "    </tr>\n",
       "    <tr>\n",
       "      <th>1</th>\n",
       "      <td>Super Mario Bros.</td>\n",
       "      <td>NES</td>\n",
       "      <td>1985.0</td>\n",
       "      <td>Platform</td>\n",
       "      <td>29.08</td>\n",
       "      <td>3.58</td>\n",
       "      <td>6.81</td>\n",
       "      <td>0.77</td>\n",
       "      <td>NaN</td>\n",
       "      <td>NaN</td>\n",
       "      <td>NaN</td>\n",
       "    </tr>\n",
       "    <tr>\n",
       "      <th>2</th>\n",
       "      <td>Mario Kart Wii</td>\n",
       "      <td>Wii</td>\n",
       "      <td>2008.0</td>\n",
       "      <td>Racing</td>\n",
       "      <td>15.68</td>\n",
       "      <td>12.76</td>\n",
       "      <td>3.79</td>\n",
       "      <td>3.29</td>\n",
       "      <td>82.0</td>\n",
       "      <td>8.3</td>\n",
       "      <td>E</td>\n",
       "    </tr>\n",
       "    <tr>\n",
       "      <th>3</th>\n",
       "      <td>Wii Sports Resort</td>\n",
       "      <td>Wii</td>\n",
       "      <td>2009.0</td>\n",
       "      <td>Sports</td>\n",
       "      <td>15.61</td>\n",
       "      <td>10.93</td>\n",
       "      <td>3.28</td>\n",
       "      <td>2.95</td>\n",
       "      <td>80.0</td>\n",
       "      <td>8</td>\n",
       "      <td>E</td>\n",
       "    </tr>\n",
       "    <tr>\n",
       "      <th>4</th>\n",
       "      <td>Pokemon Red/Pokemon Blue</td>\n",
       "      <td>GB</td>\n",
       "      <td>1996.0</td>\n",
       "      <td>Role-Playing</td>\n",
       "      <td>11.27</td>\n",
       "      <td>8.89</td>\n",
       "      <td>10.22</td>\n",
       "      <td>1.00</td>\n",
       "      <td>NaN</td>\n",
       "      <td>NaN</td>\n",
       "      <td>NaN</td>\n",
       "    </tr>\n",
       "  </tbody>\n",
       "</table>\n",
       "</div>"
      ],
      "text/plain": [
       "                       Name Platform  Year_of_Release         Genre  NA_sales  \\\n",
       "0                Wii Sports      Wii           2006.0        Sports     41.36   \n",
       "1         Super Mario Bros.      NES           1985.0      Platform     29.08   \n",
       "2            Mario Kart Wii      Wii           2008.0        Racing     15.68   \n",
       "3         Wii Sports Resort      Wii           2009.0        Sports     15.61   \n",
       "4  Pokemon Red/Pokemon Blue       GB           1996.0  Role-Playing     11.27   \n",
       "\n",
       "   EU_sales  JP_sales  Other_sales  Critic_Score User_Score Rating  \n",
       "0     28.96      3.77         8.45          76.0          8      E  \n",
       "1      3.58      6.81         0.77           NaN        NaN    NaN  \n",
       "2     12.76      3.79         3.29          82.0        8.3      E  \n",
       "3     10.93      3.28         2.95          80.0          8      E  \n",
       "4      8.89     10.22         1.00           NaN        NaN    NaN  "
      ]
     },
     "execution_count": 2,
     "metadata": {},
     "output_type": "execute_result"
    }
   ],
   "source": [
    "data = pd.read_csv('/datasets/games.csv')\n",
    "data.head()"
   ]
  },
  {
   "cell_type": "code",
   "execution_count": 3,
   "metadata": {},
   "outputs": [
    {
     "name": "stdout",
     "output_type": "stream",
     "text": [
      "<class 'pandas.core.frame.DataFrame'>\n",
      "RangeIndex: 16715 entries, 0 to 16714\n",
      "Data columns (total 11 columns):\n",
      " #   Column           Non-Null Count  Dtype  \n",
      "---  ------           --------------  -----  \n",
      " 0   Name             16713 non-null  object \n",
      " 1   Platform         16715 non-null  object \n",
      " 2   Year_of_Release  16446 non-null  float64\n",
      " 3   Genre            16713 non-null  object \n",
      " 4   NA_sales         16715 non-null  float64\n",
      " 5   EU_sales         16715 non-null  float64\n",
      " 6   JP_sales         16715 non-null  float64\n",
      " 7   Other_sales      16715 non-null  float64\n",
      " 8   Critic_Score     8137 non-null   float64\n",
      " 9   User_Score       10014 non-null  object \n",
      " 10  Rating           9949 non-null   object \n",
      "dtypes: float64(6), object(5)\n",
      "memory usage: 1.4+ MB\n"
     ]
    }
   ],
   "source": [
    "data.info()"
   ]
  },
  {
   "cell_type": "markdown",
   "metadata": {},
   "source": [
    "*Вывод:* данные были успешно загружены, изучена общая информация"
   ]
  },
  {
   "cell_type": "markdown",
   "metadata": {},
   "source": [
    "**Шаг №2**"
   ]
  },
  {
   "cell_type": "code",
   "execution_count": 4,
   "metadata": {},
   "outputs": [
    {
     "data": {
      "text/plain": [
       "Index(['name', 'platform', 'year_of_release', 'genre', 'na_sales', 'eu_sales',\n",
       "       'jp_sales', 'other_sales', 'critic_score', 'user_score', 'rating'],\n",
       "      dtype='object')"
      ]
     },
     "execution_count": 4,
     "metadata": {},
     "output_type": "execute_result"
    }
   ],
   "source": [
    "data.columns = data.columns.str.lower()\n",
    "data.columns"
   ]
  },
  {
   "cell_type": "code",
   "execution_count": 5,
   "metadata": {},
   "outputs": [
    {
     "data": {
      "text/plain": [
       "name                  2\n",
       "platform              0\n",
       "year_of_release     269\n",
       "genre                 2\n",
       "na_sales              0\n",
       "eu_sales              0\n",
       "jp_sales              0\n",
       "other_sales           0\n",
       "critic_score       8578\n",
       "user_score         6701\n",
       "rating             6766\n",
       "dtype: int64"
      ]
     },
     "execution_count": 5,
     "metadata": {},
     "output_type": "execute_result"
    }
   ],
   "source": [
    "data.isna().sum()"
   ]
  },
  {
   "cell_type": "code",
   "execution_count": 6,
   "metadata": {},
   "outputs": [
    {
     "data": {
      "text/html": [
       "<div>\n",
       "<style scoped>\n",
       "    .dataframe tbody tr th:only-of-type {\n",
       "        vertical-align: middle;\n",
       "    }\n",
       "\n",
       "    .dataframe tbody tr th {\n",
       "        vertical-align: top;\n",
       "    }\n",
       "\n",
       "    .dataframe thead th {\n",
       "        text-align: right;\n",
       "    }\n",
       "</style>\n",
       "<table border=\"1\" class=\"dataframe\">\n",
       "  <thead>\n",
       "    <tr style=\"text-align: right;\">\n",
       "      <th></th>\n",
       "      <th>name</th>\n",
       "      <th>platform</th>\n",
       "      <th>year_of_release</th>\n",
       "      <th>genre</th>\n",
       "      <th>na_sales</th>\n",
       "      <th>eu_sales</th>\n",
       "      <th>jp_sales</th>\n",
       "      <th>other_sales</th>\n",
       "      <th>critic_score</th>\n",
       "      <th>user_score</th>\n",
       "      <th>rating</th>\n",
       "    </tr>\n",
       "  </thead>\n",
       "  <tbody>\n",
       "    <tr>\n",
       "      <th>659</th>\n",
       "      <td>NaN</td>\n",
       "      <td>GEN</td>\n",
       "      <td>1993.0</td>\n",
       "      <td>NaN</td>\n",
       "      <td>1.78</td>\n",
       "      <td>0.53</td>\n",
       "      <td>0.00</td>\n",
       "      <td>0.08</td>\n",
       "      <td>NaN</td>\n",
       "      <td>NaN</td>\n",
       "      <td>NaN</td>\n",
       "    </tr>\n",
       "    <tr>\n",
       "      <th>14244</th>\n",
       "      <td>NaN</td>\n",
       "      <td>GEN</td>\n",
       "      <td>1993.0</td>\n",
       "      <td>NaN</td>\n",
       "      <td>0.00</td>\n",
       "      <td>0.00</td>\n",
       "      <td>0.03</td>\n",
       "      <td>0.00</td>\n",
       "      <td>NaN</td>\n",
       "      <td>NaN</td>\n",
       "      <td>NaN</td>\n",
       "    </tr>\n",
       "  </tbody>\n",
       "</table>\n",
       "</div>"
      ],
      "text/plain": [
       "      name platform  year_of_release genre  na_sales  eu_sales  jp_sales  \\\n",
       "659    NaN      GEN           1993.0   NaN      1.78      0.53      0.00   \n",
       "14244  NaN      GEN           1993.0   NaN      0.00      0.00      0.03   \n",
       "\n",
       "       other_sales  critic_score user_score rating  \n",
       "659           0.08           NaN        NaN    NaN  \n",
       "14244         0.00           NaN        NaN    NaN  "
      ]
     },
     "execution_count": 6,
     "metadata": {},
     "output_type": "execute_result"
    }
   ],
   "source": [
    "data[data['genre'].isna()]"
   ]
  },
  {
   "cell_type": "code",
   "execution_count": 7,
   "metadata": {
    "scrolled": true
   },
   "outputs": [
    {
     "data": {
      "text/html": [
       "<div>\n",
       "<style scoped>\n",
       "    .dataframe tbody tr th:only-of-type {\n",
       "        vertical-align: middle;\n",
       "    }\n",
       "\n",
       "    .dataframe tbody tr th {\n",
       "        vertical-align: top;\n",
       "    }\n",
       "\n",
       "    .dataframe thead th {\n",
       "        text-align: right;\n",
       "    }\n",
       "</style>\n",
       "<table border=\"1\" class=\"dataframe\">\n",
       "  <thead>\n",
       "    <tr style=\"text-align: right;\">\n",
       "      <th></th>\n",
       "      <th>name</th>\n",
       "      <th>platform</th>\n",
       "      <th>year_of_release</th>\n",
       "      <th>genre</th>\n",
       "      <th>na_sales</th>\n",
       "      <th>eu_sales</th>\n",
       "      <th>jp_sales</th>\n",
       "      <th>other_sales</th>\n",
       "      <th>critic_score</th>\n",
       "      <th>user_score</th>\n",
       "      <th>rating</th>\n",
       "    </tr>\n",
       "  </thead>\n",
       "  <tbody>\n",
       "    <tr>\n",
       "      <th>183</th>\n",
       "      <td>Madden NFL 2004</td>\n",
       "      <td>PS2</td>\n",
       "      <td>NaN</td>\n",
       "      <td>Sports</td>\n",
       "      <td>4.26</td>\n",
       "      <td>0.26</td>\n",
       "      <td>0.01</td>\n",
       "      <td>0.71</td>\n",
       "      <td>94.0</td>\n",
       "      <td>8.5</td>\n",
       "      <td>E</td>\n",
       "    </tr>\n",
       "    <tr>\n",
       "      <th>377</th>\n",
       "      <td>FIFA Soccer 2004</td>\n",
       "      <td>PS2</td>\n",
       "      <td>NaN</td>\n",
       "      <td>Sports</td>\n",
       "      <td>0.59</td>\n",
       "      <td>2.36</td>\n",
       "      <td>0.04</td>\n",
       "      <td>0.51</td>\n",
       "      <td>84.0</td>\n",
       "      <td>6.4</td>\n",
       "      <td>E</td>\n",
       "    </tr>\n",
       "    <tr>\n",
       "      <th>456</th>\n",
       "      <td>LEGO Batman: The Videogame</td>\n",
       "      <td>Wii</td>\n",
       "      <td>NaN</td>\n",
       "      <td>Action</td>\n",
       "      <td>1.80</td>\n",
       "      <td>0.97</td>\n",
       "      <td>0.00</td>\n",
       "      <td>0.29</td>\n",
       "      <td>74.0</td>\n",
       "      <td>7.9</td>\n",
       "      <td>E10+</td>\n",
       "    </tr>\n",
       "    <tr>\n",
       "      <th>475</th>\n",
       "      <td>wwe Smackdown vs. Raw 2006</td>\n",
       "      <td>PS2</td>\n",
       "      <td>NaN</td>\n",
       "      <td>Fighting</td>\n",
       "      <td>1.57</td>\n",
       "      <td>1.02</td>\n",
       "      <td>0.00</td>\n",
       "      <td>0.41</td>\n",
       "      <td>NaN</td>\n",
       "      <td>NaN</td>\n",
       "      <td>NaN</td>\n",
       "    </tr>\n",
       "    <tr>\n",
       "      <th>609</th>\n",
       "      <td>Space Invaders</td>\n",
       "      <td>2600</td>\n",
       "      <td>NaN</td>\n",
       "      <td>Shooter</td>\n",
       "      <td>2.36</td>\n",
       "      <td>0.14</td>\n",
       "      <td>0.00</td>\n",
       "      <td>0.03</td>\n",
       "      <td>NaN</td>\n",
       "      <td>NaN</td>\n",
       "      <td>NaN</td>\n",
       "    </tr>\n",
       "    <tr>\n",
       "      <th>...</th>\n",
       "      <td>...</td>\n",
       "      <td>...</td>\n",
       "      <td>...</td>\n",
       "      <td>...</td>\n",
       "      <td>...</td>\n",
       "      <td>...</td>\n",
       "      <td>...</td>\n",
       "      <td>...</td>\n",
       "      <td>...</td>\n",
       "      <td>...</td>\n",
       "      <td>...</td>\n",
       "    </tr>\n",
       "    <tr>\n",
       "      <th>16373</th>\n",
       "      <td>PDC World Championship Darts 2008</td>\n",
       "      <td>PSP</td>\n",
       "      <td>NaN</td>\n",
       "      <td>Sports</td>\n",
       "      <td>0.01</td>\n",
       "      <td>0.00</td>\n",
       "      <td>0.00</td>\n",
       "      <td>0.00</td>\n",
       "      <td>43.0</td>\n",
       "      <td>tbd</td>\n",
       "      <td>E10+</td>\n",
       "    </tr>\n",
       "    <tr>\n",
       "      <th>16405</th>\n",
       "      <td>Freaky Flyers</td>\n",
       "      <td>GC</td>\n",
       "      <td>NaN</td>\n",
       "      <td>Racing</td>\n",
       "      <td>0.01</td>\n",
       "      <td>0.00</td>\n",
       "      <td>0.00</td>\n",
       "      <td>0.00</td>\n",
       "      <td>69.0</td>\n",
       "      <td>6.5</td>\n",
       "      <td>T</td>\n",
       "    </tr>\n",
       "    <tr>\n",
       "      <th>16448</th>\n",
       "      <td>Inversion</td>\n",
       "      <td>PC</td>\n",
       "      <td>NaN</td>\n",
       "      <td>Shooter</td>\n",
       "      <td>0.01</td>\n",
       "      <td>0.00</td>\n",
       "      <td>0.00</td>\n",
       "      <td>0.00</td>\n",
       "      <td>59.0</td>\n",
       "      <td>6.7</td>\n",
       "      <td>M</td>\n",
       "    </tr>\n",
       "    <tr>\n",
       "      <th>16458</th>\n",
       "      <td>Hakuouki: Shinsengumi Kitan</td>\n",
       "      <td>PS3</td>\n",
       "      <td>NaN</td>\n",
       "      <td>Adventure</td>\n",
       "      <td>0.01</td>\n",
       "      <td>0.00</td>\n",
       "      <td>0.00</td>\n",
       "      <td>0.00</td>\n",
       "      <td>NaN</td>\n",
       "      <td>NaN</td>\n",
       "      <td>NaN</td>\n",
       "    </tr>\n",
       "    <tr>\n",
       "      <th>16522</th>\n",
       "      <td>Virtua Quest</td>\n",
       "      <td>GC</td>\n",
       "      <td>NaN</td>\n",
       "      <td>Role-Playing</td>\n",
       "      <td>0.01</td>\n",
       "      <td>0.00</td>\n",
       "      <td>0.00</td>\n",
       "      <td>0.00</td>\n",
       "      <td>55.0</td>\n",
       "      <td>5.5</td>\n",
       "      <td>T</td>\n",
       "    </tr>\n",
       "  </tbody>\n",
       "</table>\n",
       "<p>269 rows × 11 columns</p>\n",
       "</div>"
      ],
      "text/plain": [
       "                                    name platform  year_of_release  \\\n",
       "183                      Madden NFL 2004      PS2              NaN   \n",
       "377                     FIFA Soccer 2004      PS2              NaN   \n",
       "456           LEGO Batman: The Videogame      Wii              NaN   \n",
       "475           wwe Smackdown vs. Raw 2006      PS2              NaN   \n",
       "609                       Space Invaders     2600              NaN   \n",
       "...                                  ...      ...              ...   \n",
       "16373  PDC World Championship Darts 2008      PSP              NaN   \n",
       "16405                      Freaky Flyers       GC              NaN   \n",
       "16448                          Inversion       PC              NaN   \n",
       "16458        Hakuouki: Shinsengumi Kitan      PS3              NaN   \n",
       "16522                       Virtua Quest       GC              NaN   \n",
       "\n",
       "              genre  na_sales  eu_sales  jp_sales  other_sales  critic_score  \\\n",
       "183          Sports      4.26      0.26      0.01         0.71          94.0   \n",
       "377          Sports      0.59      2.36      0.04         0.51          84.0   \n",
       "456          Action      1.80      0.97      0.00         0.29          74.0   \n",
       "475        Fighting      1.57      1.02      0.00         0.41           NaN   \n",
       "609         Shooter      2.36      0.14      0.00         0.03           NaN   \n",
       "...             ...       ...       ...       ...          ...           ...   \n",
       "16373        Sports      0.01      0.00      0.00         0.00          43.0   \n",
       "16405        Racing      0.01      0.00      0.00         0.00          69.0   \n",
       "16448       Shooter      0.01      0.00      0.00         0.00          59.0   \n",
       "16458     Adventure      0.01      0.00      0.00         0.00           NaN   \n",
       "16522  Role-Playing      0.01      0.00      0.00         0.00          55.0   \n",
       "\n",
       "      user_score rating  \n",
       "183          8.5      E  \n",
       "377          6.4      E  \n",
       "456          7.9   E10+  \n",
       "475          NaN    NaN  \n",
       "609          NaN    NaN  \n",
       "...          ...    ...  \n",
       "16373        tbd   E10+  \n",
       "16405        6.5      T  \n",
       "16448        6.7      M  \n",
       "16458        NaN    NaN  \n",
       "16522        5.5      T  \n",
       "\n",
       "[269 rows x 11 columns]"
      ]
     },
     "execution_count": 7,
     "metadata": {},
     "output_type": "execute_result"
    }
   ],
   "source": [
    "data[data['year_of_release'].isna()]"
   ]
  },
  {
   "cell_type": "code",
   "execution_count": 8,
   "metadata": {},
   "outputs": [
    {
     "data": {
      "text/plain": [
       "name                  0\n",
       "platform              0\n",
       "year_of_release       0\n",
       "genre                 0\n",
       "na_sales              0\n",
       "eu_sales              0\n",
       "jp_sales              0\n",
       "other_sales           0\n",
       "critic_score       8461\n",
       "user_score         6605\n",
       "rating                0\n",
       "dtype: int64"
      ]
     },
     "execution_count": 8,
     "metadata": {},
     "output_type": "execute_result"
    }
   ],
   "source": [
    "data['rating'] = data['rating'].fillna('неизвестен')\n",
    "data.dropna(subset=['year_of_release', 'name', 'genre'], inplace=True)\n",
    "data.isna().sum()"
   ]
  },
  {
   "cell_type": "code",
   "execution_count": 9,
   "metadata": {},
   "outputs": [
    {
     "data": {
      "text/html": [
       "<div>\n",
       "<style scoped>\n",
       "    .dataframe tbody tr th:only-of-type {\n",
       "        vertical-align: middle;\n",
       "    }\n",
       "\n",
       "    .dataframe tbody tr th {\n",
       "        vertical-align: top;\n",
       "    }\n",
       "\n",
       "    .dataframe thead th {\n",
       "        text-align: right;\n",
       "    }\n",
       "</style>\n",
       "<table border=\"1\" class=\"dataframe\">\n",
       "  <thead>\n",
       "    <tr style=\"text-align: right;\">\n",
       "      <th></th>\n",
       "      <th>name</th>\n",
       "      <th>platform</th>\n",
       "      <th>year_of_release</th>\n",
       "      <th>genre</th>\n",
       "      <th>na_sales</th>\n",
       "      <th>eu_sales</th>\n",
       "      <th>jp_sales</th>\n",
       "      <th>other_sales</th>\n",
       "      <th>critic_score</th>\n",
       "      <th>user_score</th>\n",
       "      <th>rating</th>\n",
       "    </tr>\n",
       "  </thead>\n",
       "  <tbody>\n",
       "    <tr>\n",
       "      <th>119</th>\n",
       "      <td>Zumba Fitness</td>\n",
       "      <td>Wii</td>\n",
       "      <td>2010.0</td>\n",
       "      <td>Sports</td>\n",
       "      <td>3.45</td>\n",
       "      <td>2.59</td>\n",
       "      <td>0.0</td>\n",
       "      <td>0.66</td>\n",
       "      <td>NaN</td>\n",
       "      <td>tbd</td>\n",
       "      <td>E</td>\n",
       "    </tr>\n",
       "    <tr>\n",
       "      <th>301</th>\n",
       "      <td>Namco Museum: 50th Anniversary</td>\n",
       "      <td>PS2</td>\n",
       "      <td>2005.0</td>\n",
       "      <td>Misc</td>\n",
       "      <td>2.08</td>\n",
       "      <td>1.35</td>\n",
       "      <td>0.0</td>\n",
       "      <td>0.54</td>\n",
       "      <td>61.0</td>\n",
       "      <td>tbd</td>\n",
       "      <td>E10+</td>\n",
       "    </tr>\n",
       "    <tr>\n",
       "      <th>520</th>\n",
       "      <td>Zumba Fitness 2</td>\n",
       "      <td>Wii</td>\n",
       "      <td>2011.0</td>\n",
       "      <td>Sports</td>\n",
       "      <td>1.51</td>\n",
       "      <td>1.03</td>\n",
       "      <td>0.0</td>\n",
       "      <td>0.27</td>\n",
       "      <td>NaN</td>\n",
       "      <td>tbd</td>\n",
       "      <td>T</td>\n",
       "    </tr>\n",
       "    <tr>\n",
       "      <th>645</th>\n",
       "      <td>uDraw Studio</td>\n",
       "      <td>Wii</td>\n",
       "      <td>2010.0</td>\n",
       "      <td>Misc</td>\n",
       "      <td>1.65</td>\n",
       "      <td>0.57</td>\n",
       "      <td>0.0</td>\n",
       "      <td>0.20</td>\n",
       "      <td>71.0</td>\n",
       "      <td>tbd</td>\n",
       "      <td>E</td>\n",
       "    </tr>\n",
       "    <tr>\n",
       "      <th>718</th>\n",
       "      <td>Just Dance Kids</td>\n",
       "      <td>Wii</td>\n",
       "      <td>2010.0</td>\n",
       "      <td>Misc</td>\n",
       "      <td>1.52</td>\n",
       "      <td>0.54</td>\n",
       "      <td>0.0</td>\n",
       "      <td>0.18</td>\n",
       "      <td>NaN</td>\n",
       "      <td>tbd</td>\n",
       "      <td>E</td>\n",
       "    </tr>\n",
       "    <tr>\n",
       "      <th>...</th>\n",
       "      <td>...</td>\n",
       "      <td>...</td>\n",
       "      <td>...</td>\n",
       "      <td>...</td>\n",
       "      <td>...</td>\n",
       "      <td>...</td>\n",
       "      <td>...</td>\n",
       "      <td>...</td>\n",
       "      <td>...</td>\n",
       "      <td>...</td>\n",
       "      <td>...</td>\n",
       "    </tr>\n",
       "    <tr>\n",
       "      <th>16695</th>\n",
       "      <td>Planet Monsters</td>\n",
       "      <td>GBA</td>\n",
       "      <td>2001.0</td>\n",
       "      <td>Action</td>\n",
       "      <td>0.01</td>\n",
       "      <td>0.00</td>\n",
       "      <td>0.0</td>\n",
       "      <td>0.00</td>\n",
       "      <td>67.0</td>\n",
       "      <td>tbd</td>\n",
       "      <td>E</td>\n",
       "    </tr>\n",
       "    <tr>\n",
       "      <th>16697</th>\n",
       "      <td>Bust-A-Move 3000</td>\n",
       "      <td>GC</td>\n",
       "      <td>2003.0</td>\n",
       "      <td>Puzzle</td>\n",
       "      <td>0.01</td>\n",
       "      <td>0.00</td>\n",
       "      <td>0.0</td>\n",
       "      <td>0.00</td>\n",
       "      <td>53.0</td>\n",
       "      <td>tbd</td>\n",
       "      <td>E</td>\n",
       "    </tr>\n",
       "    <tr>\n",
       "      <th>16698</th>\n",
       "      <td>Mega Brain Boost</td>\n",
       "      <td>DS</td>\n",
       "      <td>2008.0</td>\n",
       "      <td>Puzzle</td>\n",
       "      <td>0.01</td>\n",
       "      <td>0.00</td>\n",
       "      <td>0.0</td>\n",
       "      <td>0.00</td>\n",
       "      <td>48.0</td>\n",
       "      <td>tbd</td>\n",
       "      <td>E</td>\n",
       "    </tr>\n",
       "    <tr>\n",
       "      <th>16704</th>\n",
       "      <td>Plushees</td>\n",
       "      <td>DS</td>\n",
       "      <td>2008.0</td>\n",
       "      <td>Simulation</td>\n",
       "      <td>0.01</td>\n",
       "      <td>0.00</td>\n",
       "      <td>0.0</td>\n",
       "      <td>0.00</td>\n",
       "      <td>NaN</td>\n",
       "      <td>tbd</td>\n",
       "      <td>E</td>\n",
       "    </tr>\n",
       "    <tr>\n",
       "      <th>16706</th>\n",
       "      <td>Men in Black II: Alien Escape</td>\n",
       "      <td>GC</td>\n",
       "      <td>2003.0</td>\n",
       "      <td>Shooter</td>\n",
       "      <td>0.01</td>\n",
       "      <td>0.00</td>\n",
       "      <td>0.0</td>\n",
       "      <td>0.00</td>\n",
       "      <td>NaN</td>\n",
       "      <td>tbd</td>\n",
       "      <td>T</td>\n",
       "    </tr>\n",
       "  </tbody>\n",
       "</table>\n",
       "<p>2376 rows × 11 columns</p>\n",
       "</div>"
      ],
      "text/plain": [
       "                                 name platform  year_of_release       genre  \\\n",
       "119                     Zumba Fitness      Wii           2010.0      Sports   \n",
       "301    Namco Museum: 50th Anniversary      PS2           2005.0        Misc   \n",
       "520                   Zumba Fitness 2      Wii           2011.0      Sports   \n",
       "645                      uDraw Studio      Wii           2010.0        Misc   \n",
       "718                   Just Dance Kids      Wii           2010.0        Misc   \n",
       "...                               ...      ...              ...         ...   \n",
       "16695                 Planet Monsters      GBA           2001.0      Action   \n",
       "16697                Bust-A-Move 3000       GC           2003.0      Puzzle   \n",
       "16698                Mega Brain Boost       DS           2008.0      Puzzle   \n",
       "16704                        Plushees       DS           2008.0  Simulation   \n",
       "16706   Men in Black II: Alien Escape       GC           2003.0     Shooter   \n",
       "\n",
       "       na_sales  eu_sales  jp_sales  other_sales  critic_score user_score  \\\n",
       "119        3.45      2.59       0.0         0.66           NaN        tbd   \n",
       "301        2.08      1.35       0.0         0.54          61.0        tbd   \n",
       "520        1.51      1.03       0.0         0.27           NaN        tbd   \n",
       "645        1.65      0.57       0.0         0.20          71.0        tbd   \n",
       "718        1.52      0.54       0.0         0.18           NaN        tbd   \n",
       "...         ...       ...       ...          ...           ...        ...   \n",
       "16695      0.01      0.00       0.0         0.00          67.0        tbd   \n",
       "16697      0.01      0.00       0.0         0.00          53.0        tbd   \n",
       "16698      0.01      0.00       0.0         0.00          48.0        tbd   \n",
       "16704      0.01      0.00       0.0         0.00           NaN        tbd   \n",
       "16706      0.01      0.00       0.0         0.00           NaN        tbd   \n",
       "\n",
       "      rating  \n",
       "119        E  \n",
       "301     E10+  \n",
       "520        T  \n",
       "645        E  \n",
       "718        E  \n",
       "...      ...  \n",
       "16695      E  \n",
       "16697      E  \n",
       "16698      E  \n",
       "16704      E  \n",
       "16706      T  \n",
       "\n",
       "[2376 rows x 11 columns]"
      ]
     },
     "execution_count": 9,
     "metadata": {},
     "output_type": "execute_result"
    }
   ],
   "source": [
    "data[data['user_score'] == 'tbd']"
   ]
  },
  {
   "cell_type": "code",
   "execution_count": 10,
   "metadata": {},
   "outputs": [
    {
     "data": {
      "text/plain": [
       "2016.0"
      ]
     },
     "execution_count": 10,
     "metadata": {},
     "output_type": "execute_result"
    }
   ],
   "source": [
    "max_year = data[data['user_score'] == 'tbd']['year_of_release'].max()\n",
    "max_year"
   ]
  },
  {
   "cell_type": "code",
   "execution_count": 11,
   "metadata": {},
   "outputs": [
    {
     "data": {
      "text/plain": [
       "name                  0\n",
       "platform              0\n",
       "year_of_release       0\n",
       "genre                 0\n",
       "na_sales              0\n",
       "eu_sales              0\n",
       "jp_sales              0\n",
       "other_sales           0\n",
       "critic_score       8461\n",
       "user_score         8981\n",
       "rating                0\n",
       "dtype: int64"
      ]
     },
     "execution_count": 11,
     "metadata": {},
     "output_type": "execute_result"
    }
   ],
   "source": [
    "data['user_score'] = np.where(data['user_score'] == 'tbd', np.nan, data['user_score'])\n",
    "data.isna().sum()"
   ]
  },
  {
   "cell_type": "markdown",
   "metadata": {},
   "source": [
    "*Вывод:* \n",
    "\n",
    "1. были изучены пропуски в столбцах name и genre, они появились в одинаковых строчках, и информацию об этой игре невозможно установить.\n",
    "2. были изучены пропуски в столбцах с оценками, эти пропуски невозможно заполнить, т.к. оценки критиков/пользователей крайне важны и относятся к определенной игре, так что их нельзя заполнить медианой/средним.\n",
    "3. рейтинг ERSB был заполнен \"неизвестен\".\n",
    "4. были изучены пропуски в столбце с годом релиза, по названию игр можно понять, что год их релиза примерно 2004-2006, эти данные уже неактуальны для нашего исследования.\n",
    "5. оценка пользователя tbd указывает на то, что оценка еще не определена/ не доступна, мы заменим ее на nan, так как замена на численное значение может дать искажение, а удаление данных - сокращение информации об играх"
   ]
  },
  {
   "cell_type": "markdown",
   "metadata": {},
   "source": [
    "После удаления/заполнения пропусков поменяем тип данных в некоторых столбцах\n",
    "1. year_of_release - тип данных int32, использовать float64 неуместно, я не выбрала тип datetime, т.к. мы ничего не знаем о дне и месяце выхода игры\n",
    "2. user_score меняем на float"
   ]
  },
  {
   "cell_type": "code",
   "execution_count": 12,
   "metadata": {},
   "outputs": [],
   "source": [
    "data['year_of_release'] = data['year_of_release'].astype('int32')"
   ]
  },
  {
   "cell_type": "code",
   "execution_count": 13,
   "metadata": {},
   "outputs": [],
   "source": [
    "data['total_sales'] = data['na_sales'] + data['eu_sales'] + data['jp_sales'] + data['other_sales']"
   ]
  },
  {
   "cell_type": "code",
   "execution_count": 14,
   "metadata": {},
   "outputs": [
    {
     "name": "stdout",
     "output_type": "stream",
     "text": [
      "<class 'pandas.core.frame.DataFrame'>\n",
      "Int64Index: 16444 entries, 0 to 16714\n",
      "Data columns (total 12 columns):\n",
      " #   Column           Non-Null Count  Dtype  \n",
      "---  ------           --------------  -----  \n",
      " 0   name             16444 non-null  object \n",
      " 1   platform         16444 non-null  object \n",
      " 2   year_of_release  16444 non-null  int32  \n",
      " 3   genre            16444 non-null  object \n",
      " 4   na_sales         16444 non-null  float64\n",
      " 5   eu_sales         16444 non-null  float64\n",
      " 6   jp_sales         16444 non-null  float64\n",
      " 7   other_sales      16444 non-null  float64\n",
      " 8   critic_score     7983 non-null   float64\n",
      " 9   user_score       7463 non-null   float64\n",
      " 10  rating           16444 non-null  object \n",
      " 11  total_sales      16444 non-null  float64\n",
      "dtypes: float64(7), int32(1), object(4)\n",
      "memory usage: 1.6+ MB\n"
     ]
    }
   ],
   "source": [
    "data['user_score'] = data['user_score'].astype(float)\n",
    "data.info()"
   ]
  },
  {
   "cell_type": "markdown",
   "metadata": {},
   "source": [
    "*Вывод:*\n",
    "\n",
    "Были изучены пропуски, и вот возможные причины их образования:\n",
    "1. системный сбой.\n",
    "2. человеческий фактор (забыли указать год релиза и т.п.)\n",
    "3. оценка игры еще не опредлена/не доступна (игра только вышла).\n",
    "4. оценка находится на изменении и еще не отображается.\n",
    "\n",
    "Были заполнены пропуски, где это возможно\n",
    "\n",
    "Был изменен тип данных в столбцах year_of_release, user_score\n",
    "\n",
    "Были удалены строки, содержащие неактуальную/неполную информацию.\n",
    "\n",
    "Был добавлен столбец с суммарным количеством продаж каждой игры."
   ]
  },
  {
   "cell_type": "code",
   "execution_count": 15,
   "metadata": {},
   "outputs": [
    {
     "data": {
      "text/html": [
       "<div>\n",
       "<style scoped>\n",
       "    .dataframe tbody tr th:only-of-type {\n",
       "        vertical-align: middle;\n",
       "    }\n",
       "\n",
       "    .dataframe tbody tr th {\n",
       "        vertical-align: top;\n",
       "    }\n",
       "\n",
       "    .dataframe thead th {\n",
       "        text-align: right;\n",
       "    }\n",
       "</style>\n",
       "<table border=\"1\" class=\"dataframe\">\n",
       "  <thead>\n",
       "    <tr style=\"text-align: right;\">\n",
       "      <th></th>\n",
       "      <th>name</th>\n",
       "      <th>platform</th>\n",
       "      <th>year_of_release</th>\n",
       "      <th>genre</th>\n",
       "      <th>na_sales</th>\n",
       "      <th>eu_sales</th>\n",
       "      <th>jp_sales</th>\n",
       "      <th>other_sales</th>\n",
       "      <th>critic_score</th>\n",
       "      <th>user_score</th>\n",
       "      <th>rating</th>\n",
       "      <th>total_sales</th>\n",
       "    </tr>\n",
       "  </thead>\n",
       "  <tbody>\n",
       "    <tr>\n",
       "      <th>604</th>\n",
       "      <td>Madden NFL 13</td>\n",
       "      <td>PS3</td>\n",
       "      <td>2012</td>\n",
       "      <td>Sports</td>\n",
       "      <td>2.11</td>\n",
       "      <td>0.22</td>\n",
       "      <td>0.0</td>\n",
       "      <td>0.23</td>\n",
       "      <td>83.0</td>\n",
       "      <td>5.5</td>\n",
       "      <td>E</td>\n",
       "      <td>2.56</td>\n",
       "    </tr>\n",
       "    <tr>\n",
       "      <th>16230</th>\n",
       "      <td>Madden NFL 13</td>\n",
       "      <td>PS3</td>\n",
       "      <td>2012</td>\n",
       "      <td>Sports</td>\n",
       "      <td>0.00</td>\n",
       "      <td>0.01</td>\n",
       "      <td>0.0</td>\n",
       "      <td>0.00</td>\n",
       "      <td>83.0</td>\n",
       "      <td>5.5</td>\n",
       "      <td>E</td>\n",
       "      <td>0.01</td>\n",
       "    </tr>\n",
       "  </tbody>\n",
       "</table>\n",
       "</div>"
      ],
      "text/plain": [
       "                name platform  year_of_release   genre  na_sales  eu_sales  \\\n",
       "604    Madden NFL 13      PS3             2012  Sports      2.11      0.22   \n",
       "16230  Madden NFL 13      PS3             2012  Sports      0.00      0.01   \n",
       "\n",
       "       jp_sales  other_sales  critic_score  user_score rating  total_sales  \n",
       "604         0.0         0.23          83.0         5.5      E         2.56  \n",
       "16230       0.0         0.00          83.0         5.5      E         0.01  "
      ]
     },
     "execution_count": 15,
     "metadata": {},
     "output_type": "execute_result"
    }
   ],
   "source": [
    "data[data[['name', 'platform','year_of_release']].duplicated(keep=False)]"
   ]
  },
  {
   "cell_type": "code",
   "execution_count": 16,
   "metadata": {},
   "outputs": [],
   "source": [
    "data = data.drop(index=16230)"
   ]
  },
  {
   "cell_type": "code",
   "execution_count": 17,
   "metadata": {},
   "outputs": [
    {
     "data": {
      "text/html": [
       "<div>\n",
       "<style scoped>\n",
       "    .dataframe tbody tr th:only-of-type {\n",
       "        vertical-align: middle;\n",
       "    }\n",
       "\n",
       "    .dataframe tbody tr th {\n",
       "        vertical-align: top;\n",
       "    }\n",
       "\n",
       "    .dataframe thead th {\n",
       "        text-align: right;\n",
       "    }\n",
       "</style>\n",
       "<table border=\"1\" class=\"dataframe\">\n",
       "  <thead>\n",
       "    <tr style=\"text-align: right;\">\n",
       "      <th></th>\n",
       "      <th>name</th>\n",
       "      <th>platform</th>\n",
       "      <th>year_of_release</th>\n",
       "      <th>genre</th>\n",
       "      <th>na_sales</th>\n",
       "      <th>eu_sales</th>\n",
       "      <th>jp_sales</th>\n",
       "      <th>other_sales</th>\n",
       "      <th>critic_score</th>\n",
       "      <th>user_score</th>\n",
       "      <th>rating</th>\n",
       "      <th>total_sales</th>\n",
       "    </tr>\n",
       "  </thead>\n",
       "  <tbody>\n",
       "  </tbody>\n",
       "</table>\n",
       "</div>"
      ],
      "text/plain": [
       "Empty DataFrame\n",
       "Columns: [name, platform, year_of_release, genre, na_sales, eu_sales, jp_sales, other_sales, critic_score, user_score, rating, total_sales]\n",
       "Index: []"
      ]
     },
     "execution_count": 17,
     "metadata": {},
     "output_type": "execute_result"
    }
   ],
   "source": [
    "data[data[['name', 'platform','year_of_release']].duplicated(keep=False)]"
   ]
  },
  {
   "cell_type": "code",
   "execution_count": 18,
   "metadata": {},
   "outputs": [
    {
     "data": {
      "text/plain": [
       "array(['Wii', 'NES', 'GB', 'DS', 'X360', 'PS3', 'PS2', 'SNES', 'GBA',\n",
       "       'PS4', '3DS', 'N64', 'PS', 'XB', 'PC', '2600', 'PSP', 'XOne',\n",
       "       'WiiU', 'GC', 'GEN', 'DC', 'PSV', 'SAT', 'SCD', 'WS', 'NG', 'TG16',\n",
       "       '3DO', 'GG', 'PCFX'], dtype=object)"
      ]
     },
     "execution_count": 18,
     "metadata": {},
     "output_type": "execute_result"
    }
   ],
   "source": [
    "data['platform'].unique()"
   ]
  },
  {
   "cell_type": "code",
   "execution_count": 19,
   "metadata": {},
   "outputs": [
    {
     "data": {
      "text/plain": [
       "array(['Sports', 'Platform', 'Racing', 'Role-Playing', 'Puzzle', 'Misc',\n",
       "       'Shooter', 'Simulation', 'Action', 'Fighting', 'Adventure',\n",
       "       'Strategy'], dtype=object)"
      ]
     },
     "execution_count": 19,
     "metadata": {},
     "output_type": "execute_result"
    }
   ],
   "source": [
    "data['genre'].unique()"
   ]
  },
  {
   "cell_type": "markdown",
   "metadata": {},
   "source": [
    "*Вывод:* \n",
    "\n",
    "Была добавлена проверка на явные дубликаты: в датасете присутствовала дублирующая строчка, которая была удалена.\n",
    "\n",
    "Была добавлена проверка на неявные дубликаты: проверены столбцы genre, platform - дубликатов не обнаружено. "
   ]
  },
  {
   "cell_type": "markdown",
   "metadata": {},
   "source": [
    "**Шаг №3**"
   ]
  },
  {
   "cell_type": "code",
   "execution_count": 20,
   "metadata": {
    "scrolled": true
   },
   "outputs": [
    {
     "data": {
      "image/png": "[encoded data removed]",
      "text/plain": [
       "<Figure size 1440x432 with 1 Axes>"
      ]
     },
     "metadata": {
      "needs_background": "light"
     },
     "output_type": "display_data"
    }
   ],
   "source": [
    "min_year = int(data['year_of_release'].min())\n",
    "max_year = int(data['year_of_release'].max())\n",
    "\n",
    "bins = [year - 0.5 for year in range(min_year, max_year + 2)]\n",
    "\n",
    "plt.figure(figsize=(20, 6))\n",
    "plt.hist(data['year_of_release'], bins=bins, edgecolor='black', align='mid')\n",
    "plt.title('Частота выпуска игр по годам')\n",
    "plt.xlabel('Год выпуска')\n",
    "plt.ylabel('Число игр')\n",
    "plt.xticks(range(min_year, max_year + 1))\n",
    "plt.grid(axis='y')\n",
    "\n",
    "plt.show()"
   ]
  },
  {
   "cell_type": "markdown",
   "metadata": {},
   "source": [
    "*Вывод:* нам не важны данные за все года, т.к. они уже неактуальны"
   ]
  },
  {
   "cell_type": "code",
   "execution_count": 21,
   "metadata": {},
   "outputs": [
    {
     "data": {
      "text/html": [
       "<div>\n",
       "<style scoped>\n",
       "    .dataframe tbody tr th:only-of-type {\n",
       "        vertical-align: middle;\n",
       "    }\n",
       "\n",
       "    .dataframe tbody tr th {\n",
       "        vertical-align: top;\n",
       "    }\n",
       "\n",
       "    .dataframe thead th {\n",
       "        text-align: right;\n",
       "    }\n",
       "</style>\n",
       "<table border=\"1\" class=\"dataframe\">\n",
       "  <thead>\n",
       "    <tr style=\"text-align: right;\">\n",
       "      <th></th>\n",
       "      <th>platform</th>\n",
       "      <th>total_sales</th>\n",
       "    </tr>\n",
       "  </thead>\n",
       "  <tbody>\n",
       "    <tr>\n",
       "      <th>16</th>\n",
       "      <td>PS2</td>\n",
       "      <td>1233.56</td>\n",
       "    </tr>\n",
       "    <tr>\n",
       "      <th>28</th>\n",
       "      <td>X360</td>\n",
       "      <td>961.24</td>\n",
       "    </tr>\n",
       "    <tr>\n",
       "      <th>17</th>\n",
       "      <td>PS3</td>\n",
       "      <td>931.33</td>\n",
       "    </tr>\n",
       "    <tr>\n",
       "      <th>26</th>\n",
       "      <td>Wii</td>\n",
       "      <td>891.18</td>\n",
       "    </tr>\n",
       "    <tr>\n",
       "      <th>4</th>\n",
       "      <td>DS</td>\n",
       "      <td>802.78</td>\n",
       "    </tr>\n",
       "    <tr>\n",
       "      <th>15</th>\n",
       "      <td>PS</td>\n",
       "      <td>727.58</td>\n",
       "    </tr>\n",
       "    <tr>\n",
       "      <th>18</th>\n",
       "      <td>PS4</td>\n",
       "      <td>314.14</td>\n",
       "    </tr>\n",
       "    <tr>\n",
       "      <th>6</th>\n",
       "      <td>GBA</td>\n",
       "      <td>312.88</td>\n",
       "    </tr>\n",
       "    <tr>\n",
       "      <th>19</th>\n",
       "      <td>PSP</td>\n",
       "      <td>289.53</td>\n",
       "    </tr>\n",
       "    <tr>\n",
       "      <th>2</th>\n",
       "      <td>3DS</td>\n",
       "      <td>257.81</td>\n",
       "    </tr>\n",
       "  </tbody>\n",
       "</table>\n",
       "</div>"
      ],
      "text/plain": [
       "   platform  total_sales\n",
       "16      PS2      1233.56\n",
       "28     X360       961.24\n",
       "17      PS3       931.33\n",
       "26      Wii       891.18\n",
       "4        DS       802.78\n",
       "15       PS       727.58\n",
       "18      PS4       314.14\n",
       "6       GBA       312.88\n",
       "19      PSP       289.53\n",
       "2       3DS       257.81"
      ]
     },
     "execution_count": 21,
     "metadata": {},
     "output_type": "execute_result"
    }
   ],
   "source": [
    "table = data.groupby('platform')['total_sales'].sum().reset_index().sort_values(by='total_sales', ascending = False)\n",
    "table.head(10)"
   ]
  },
  {
   "cell_type": "code",
   "execution_count": 22,
   "metadata": {},
   "outputs": [
    {
     "data": {
      "image/png": "[encoded data removed]",
      "text/plain": [
       "<Figure size 864x432 with 1 Axes>"
      ]
     },
     "metadata": {
      "needs_background": "light"
     },
     "output_type": "display_data"
    }
   ],
   "source": [
    "platforms = ['PS2', 'X360', 'PS3', 'Wii', 'DS', 'PS']\n",
    "filtered_data = data[data['platform'].isin(platforms)]\n",
    "\n",
    "grouped_data = filtered_data.groupby(['year_of_release', 'platform']).size().unstack(fill_value=0)\n",
    "\n",
    "grouped_data.plot(kind='bar', figsize=(12, 6), stacked=True)\n",
    "\n",
    "plt.title('Количество игр по годам для различных платформ')\n",
    "plt.xlabel('Год выпуска')\n",
    "plt.ylabel('Количество игр')\n",
    "plt.legend(title='Платформа')\n",
    "plt.xticks(rotation=45)\n",
    "plt.tight_layout()\n",
    "\n",
    "plt.show()"
   ]
  },
  {
   "cell_type": "code",
   "execution_count": 23,
   "metadata": {},
   "outputs": [
    {
     "data": {
      "image/png": "[encoded data removed]",
      "text/plain": [
       "<Figure size 864x432 with 1 Axes>"
      ]
     },
     "metadata": {
      "needs_background": "light"
     },
     "output_type": "display_data"
    }
   ],
   "source": [
    "filtered_data1 = data[data['platform'].isin(platforms)]\n",
    "\n",
    "grouped_data1 = filtered_data1.groupby(['year_of_release', 'platform'])['total_sales'].sum().unstack()\n",
    "\n",
    "grouped_data1.plot(kind='bar', figsize=(12, 6), stacked=True)\n",
    "\n",
    "plt.title('Количество продаж по годам для различных платформ')\n",
    "plt.xlabel('Год выпуска')\n",
    "plt.ylabel('Количество продаж (млн)')\n",
    "plt.legend(title='Платформа')\n",
    "plt.xticks(rotation=45)\n",
    "plt.tight_layout()\n",
    "\n",
    "plt.show()"
   ]
  },
  {
   "cell_type": "markdown",
   "metadata": {},
   "source": [
    "*Вывод:* в среднем определенная платформа выпускает игры в течении ~10-11 лет. \n",
    "\n",
    "Пик продаж и количества выпущенных игр наступал через ~3 года после выпуска первой игры.\n"
   ]
  },
  {
   "cell_type": "markdown",
   "metadata": {},
   "source": [
    "Выбор актуальных данных: актуальным периодом для работы с данными будет 2015 и 2016 годы.\n",
    "\n",
    "Данные за 2015 год помогут выявить долгосрочные тренды и сезонные колебания, которые могут повлиять на продажи в 2017 году\n",
    "\n",
    " Данные за 2016 год позволят увидеть, как изменились продажи по сравнению с предыдущим годом. Это поможет понять, какие факторы повлияли на рост или падение, и адаптировать стратегию на 2017 год."
   ]
  },
  {
   "cell_type": "code",
   "execution_count": 24,
   "metadata": {},
   "outputs": [],
   "source": [
    "data_cleaned = data.query('year_of_release >= 2015')"
   ]
  },
  {
   "cell_type": "code",
   "execution_count": 25,
   "metadata": {},
   "outputs": [
    {
     "data": {
      "text/html": [
       "<div>\n",
       "<style scoped>\n",
       "    .dataframe tbody tr th:only-of-type {\n",
       "        vertical-align: middle;\n",
       "    }\n",
       "\n",
       "    .dataframe tbody tr th {\n",
       "        vertical-align: top;\n",
       "    }\n",
       "\n",
       "    .dataframe thead th {\n",
       "        text-align: right;\n",
       "    }\n",
       "</style>\n",
       "<table border=\"1\" class=\"dataframe\">\n",
       "  <thead>\n",
       "    <tr style=\"text-align: right;\">\n",
       "      <th></th>\n",
       "      <th>platform</th>\n",
       "      <th>total_sales</th>\n",
       "    </tr>\n",
       "  </thead>\n",
       "  <tbody>\n",
       "    <tr>\n",
       "      <th>3</th>\n",
       "      <td>PS4</td>\n",
       "      <td>188.15</td>\n",
       "    </tr>\n",
       "    <tr>\n",
       "      <th>9</th>\n",
       "      <td>XOne</td>\n",
       "      <td>86.29</td>\n",
       "    </tr>\n",
       "    <tr>\n",
       "      <th>0</th>\n",
       "      <td>3DS</td>\n",
       "      <td>42.92</td>\n",
       "    </tr>\n",
       "    <tr>\n",
       "      <th>7</th>\n",
       "      <td>WiiU</td>\n",
       "      <td>20.95</td>\n",
       "    </tr>\n",
       "    <tr>\n",
       "      <th>2</th>\n",
       "      <td>PS3</td>\n",
       "      <td>20.42</td>\n",
       "    </tr>\n",
       "    <tr>\n",
       "      <th>1</th>\n",
       "      <td>PC</td>\n",
       "      <td>13.77</td>\n",
       "    </tr>\n",
       "    <tr>\n",
       "      <th>8</th>\n",
       "      <td>X360</td>\n",
       "      <td>13.48</td>\n",
       "    </tr>\n",
       "    <tr>\n",
       "      <th>5</th>\n",
       "      <td>PSV</td>\n",
       "      <td>10.50</td>\n",
       "    </tr>\n",
       "    <tr>\n",
       "      <th>6</th>\n",
       "      <td>Wii</td>\n",
       "      <td>1.32</td>\n",
       "    </tr>\n",
       "    <tr>\n",
       "      <th>4</th>\n",
       "      <td>PSP</td>\n",
       "      <td>0.12</td>\n",
       "    </tr>\n",
       "  </tbody>\n",
       "</table>\n",
       "</div>"
      ],
      "text/plain": [
       "  platform  total_sales\n",
       "3      PS4       188.15\n",
       "9     XOne        86.29\n",
       "0      3DS        42.92\n",
       "7     WiiU        20.95\n",
       "2      PS3        20.42\n",
       "1       PC        13.77\n",
       "8     X360        13.48\n",
       "5      PSV        10.50\n",
       "6      Wii         1.32\n",
       "4      PSP         0.12"
      ]
     },
     "execution_count": 25,
     "metadata": {},
     "output_type": "execute_result"
    }
   ],
   "source": [
    "data_cleaned.groupby('platform')['total_sales'].sum().reset_index().sort_values(by='total_sales', ascending = False)"
   ]
  },
  {
   "cell_type": "markdown",
   "metadata": {},
   "source": [
    "Лидирующими за 2015, 2016 года являются платформы: PS4, XOne, 3DS, WiiU, PS3"
   ]
  },
  {
   "cell_type": "code",
   "execution_count": 26,
   "metadata": {},
   "outputs": [
    {
     "data": {
      "text/html": [
       "<div>\n",
       "<style scoped>\n",
       "    .dataframe tbody tr th:only-of-type {\n",
       "        vertical-align: middle;\n",
       "    }\n",
       "\n",
       "    .dataframe tbody tr th {\n",
       "        vertical-align: top;\n",
       "    }\n",
       "\n",
       "    .dataframe thead th {\n",
       "        text-align: right;\n",
       "    }\n",
       "</style>\n",
       "<table border=\"1\" class=\"dataframe\">\n",
       "  <thead>\n",
       "    <tr style=\"text-align: right;\">\n",
       "      <th></th>\n",
       "      <th>platform</th>\n",
       "      <th>year_of_release</th>\n",
       "      <th>total_sales</th>\n",
       "    </tr>\n",
       "  </thead>\n",
       "  <tbody>\n",
       "    <tr>\n",
       "      <th>0</th>\n",
       "      <td>3DS</td>\n",
       "      <td>2015</td>\n",
       "      <td>27.78</td>\n",
       "    </tr>\n",
       "    <tr>\n",
       "      <th>1</th>\n",
       "      <td>3DS</td>\n",
       "      <td>2016</td>\n",
       "      <td>15.14</td>\n",
       "    </tr>\n",
       "    <tr>\n",
       "      <th>2</th>\n",
       "      <td>PS3</td>\n",
       "      <td>2015</td>\n",
       "      <td>16.82</td>\n",
       "    </tr>\n",
       "    <tr>\n",
       "      <th>3</th>\n",
       "      <td>PS3</td>\n",
       "      <td>2016</td>\n",
       "      <td>3.60</td>\n",
       "    </tr>\n",
       "    <tr>\n",
       "      <th>4</th>\n",
       "      <td>PS4</td>\n",
       "      <td>2015</td>\n",
       "      <td>118.90</td>\n",
       "    </tr>\n",
       "    <tr>\n",
       "      <th>5</th>\n",
       "      <td>PS4</td>\n",
       "      <td>2016</td>\n",
       "      <td>69.25</td>\n",
       "    </tr>\n",
       "    <tr>\n",
       "      <th>6</th>\n",
       "      <td>WiiU</td>\n",
       "      <td>2015</td>\n",
       "      <td>16.35</td>\n",
       "    </tr>\n",
       "    <tr>\n",
       "      <th>7</th>\n",
       "      <td>WiiU</td>\n",
       "      <td>2016</td>\n",
       "      <td>4.60</td>\n",
       "    </tr>\n",
       "    <tr>\n",
       "      <th>8</th>\n",
       "      <td>XOne</td>\n",
       "      <td>2015</td>\n",
       "      <td>60.14</td>\n",
       "    </tr>\n",
       "    <tr>\n",
       "      <th>9</th>\n",
       "      <td>XOne</td>\n",
       "      <td>2016</td>\n",
       "      <td>26.15</td>\n",
       "    </tr>\n",
       "  </tbody>\n",
       "</table>\n",
       "</div>"
      ],
      "text/plain": [
       "  platform  year_of_release  total_sales\n",
       "0      3DS             2015        27.78\n",
       "1      3DS             2016        15.14\n",
       "2      PS3             2015        16.82\n",
       "3      PS3             2016         3.60\n",
       "4      PS4             2015       118.90\n",
       "5      PS4             2016        69.25\n",
       "6     WiiU             2015        16.35\n",
       "7     WiiU             2016         4.60\n",
       "8     XOne             2015        60.14\n",
       "9     XOne             2016        26.15"
      ]
     },
     "execution_count": 26,
     "metadata": {},
     "output_type": "execute_result"
    }
   ],
   "source": [
    "data_platform = data_cleaned.query('platform in [\"PS4\", \"XOne\", \"3DS\", \"WiiU\", \"PS3\"]')\n",
    "result1 = data_platform.groupby(['platform', 'year_of_release'], as_index=False)['total_sales'].sum()\n",
    "result1"
   ]
  },
  {
   "cell_type": "markdown",
   "metadata": {},
   "source": [
    "*Вывод*: наблюдается спад продаж для всех платформ в 2016 году, по сравнению с 2015\n",
    "\n",
    "Выберем поценциально прибыльные платформы: PS4, 3DS, XOne \n",
    "\n",
    "Выбор был сделан на основе отношения количества продаж в 2016 к 2015г."
   ]
  },
  {
   "cell_type": "code",
   "execution_count": 27,
   "metadata": {},
   "outputs": [
    {
     "name": "stdout",
     "output_type": "stream",
     "text": [
      "Медиана глобальных продаж по платформам:\n",
      "platform\n",
      "3DS     0.090\n",
      "PS3     0.060\n",
      "PS4     0.120\n",
      "WiiU    0.215\n",
      "XOne    0.130\n",
      "Name: total_sales, dtype: float64\n"
     ]
    },
    {
     "data": {
      "image/png": "[encoded data removed]",
      "text/plain": [
       "<Figure size 1008x720 with 1 Axes>"
      ]
     },
     "metadata": {
      "needs_background": "light"
     },
     "output_type": "display_data"
    }
   ],
   "source": [
    "\n",
    "\n",
    "median_sales = data_platform.groupby('platform')['total_sales'].median()\n",
    "\n",
    "print(\"Медиана глобальных продаж по платформам:\")\n",
    "print(median_sales)\n",
    "\n",
    "plt.figure(figsize=(14, 10))\n",
    "\n",
    "plt.boxplot([data_platform[data_platform['platform'] == platform]['total_sales'] for platform in data_platform['platform'].unique()],\n",
    "            labels=data_platform['platform'].unique())\n",
    "\n",
    "plt.title('Ящик с усами по глобальным продажам игр в разбивке по платформам')\n",
    "plt.xlabel('Платформа')\n",
    "plt.ylabel('Глобальные продажи (млн.)')\n",
    "plt.tight_layout()\n",
    "\n",
    "plt.show()"
   ]
  },
  {
   "cell_type": "code",
   "execution_count": 28,
   "metadata": {},
   "outputs": [
    {
     "data": {
      "image/png": "[encoded data removed]",
      "text/plain": [
       "<Figure size 1008x864 with 1 Axes>"
      ]
     },
     "metadata": {
      "needs_background": "light"
     },
     "output_type": "display_data"
    }
   ],
   "source": [
    "q75_sales = data_platform.groupby('platform')['total_sales'].quantile(0.75)\n",
    "\n",
    "\n",
    "plt.figure(figsize=(14, 12))\n",
    "\n",
    "\n",
    "plt.boxplot([data_platform[data_platform['platform'] == platform]['total_sales'] for platform in data_platform['platform'].unique()],\n",
    "            labels=data_platform['platform'].unique())\n",
    "\n",
    "\n",
    "plt.ylim(0, q75_sales.max())\n",
    "\n",
    "plt.title('Нижняя часть ящика с усами по глобальным продажам игр в разбивке по платформам')\n",
    "plt.xlabel('Платформа')\n",
    "plt.ylabel('Глобальные продажи (млн.)')\n",
    "plt.tight_layout()\n",
    "plt.show()"
   ]
  },
  {
   "cell_type": "markdown",
   "metadata": {},
   "source": [
    "*Вывод:* на графиках видно наличие выбросов, так что будем оперировать медианой, которая являеется более устойчивой.\n",
    "\n",
    "Самое большое медианное значение у платформы WiiU, а самый большой межквартильный размах у платформы XOne\n",
    "\n",
    "Медианные значения для платформ PS4 и XOne почти равны, однако для 3DS оно ниже.\n",
    "\n",
    "Межквартильный размах больше у XOne, а у PS4 наблюдается большое количество выбросов, т.е. игры с экстремально большим количеством продаж."
   ]
  },
  {
   "cell_type": "code",
   "execution_count": 29,
   "metadata": {},
   "outputs": [
    {
     "data": {
      "image/png": "[encoded data removed]",
      "text/plain": [
       "<Figure size 720x432 with 1 Axes>"
      ]
     },
     "metadata": {
      "needs_background": "light"
     },
     "output_type": "display_data"
    }
   ],
   "source": [
    "data_actual_platform = data_platform.query('platform in [\"PS4\", \"XOne\", \"3DS\"]')\n",
    "data_filtered_actual_platform = data_actual_platform.dropna(subset=['critic_score', 'user_score'])\n",
    "\n",
    "data_xone = data_filtered_actual_platform[data_filtered_actual_platform['platform'] == 'XOne']\n",
    "\n",
    "plt.figure(figsize=(10, 6))\n",
    "plt.scatter(data_xone['critic_score'], data_xone['total_sales'], alpha=0.5)\n",
    "plt.title('Диаграмма рассеивания: оценка критиков и общие продажи для платформы XOne')\n",
    "plt.xlabel('Оценка критиков')\n",
    "plt.ylabel('Общие продажи (в миллионах)')\n",
    "plt.grid(True)\n",
    "plt.show()"
   ]
  },
  {
   "cell_type": "code",
   "execution_count": 30,
   "metadata": {},
   "outputs": [
    {
     "data": {
      "image/png": "[encoded data removed]",
      "text/plain": [
       "<Figure size 720x432 with 1 Axes>"
      ]
     },
     "metadata": {
      "needs_background": "light"
     },
     "output_type": "display_data"
    }
   ],
   "source": [
    "plt.figure(figsize=(10, 6))\n",
    "plt.scatter(data_xone['user_score'], data_xone['total_sales'], alpha=0.5)\n",
    "plt.title('Диаграмма рассеивания: оценка пользователей и общие продажи для платформы XOne')\n",
    "plt.xlabel('Оценка пользователей')\n",
    "plt.ylabel('Общие продажи (в миллионах)')\n",
    "plt.grid(True)\n",
    "plt.show()"
   ]
  },
  {
   "cell_type": "code",
   "execution_count": 31,
   "metadata": {},
   "outputs": [
    {
     "data": {
      "text/plain": [
       "0.4225192624742895"
      ]
     },
     "execution_count": 31,
     "metadata": {},
     "output_type": "execute_result"
    }
   ],
   "source": [
    "data_xone['critic_score'].corr(data_xone['total_sales'])"
   ]
  },
  {
   "cell_type": "code",
   "execution_count": 32,
   "metadata": {},
   "outputs": [
    {
     "data": {
      "text/plain": [
       "-0.06868389218473443"
      ]
     },
     "execution_count": 32,
     "metadata": {},
     "output_type": "execute_result"
    }
   ],
   "source": [
    "data_xone['user_score'].corr(data_xone['total_sales'])"
   ]
  },
  {
   "cell_type": "markdown",
   "metadata": {},
   "source": [
    "*Вывод:* по диаграмме рассивания и подсчитанным коэф-ам корреляции понятно, что:\n",
    "1. между отзывами критиков и продажами игр несильная положительная статистическая связь.\n",
    "2. между отзывами пользователей и продажами игр нет статистической связи, коэф-т корреляции близок к 0."
   ]
  },
  {
   "cell_type": "code",
   "execution_count": 33,
   "metadata": {},
   "outputs": [
    {
     "data": {
      "text/plain": [
       "(0.3920741369660568, -0.06436843081030288)"
      ]
     },
     "execution_count": 33,
     "metadata": {},
     "output_type": "execute_result"
    }
   ],
   "source": [
    "data_ps4 = data_filtered_actual_platform[data_filtered_actual_platform['platform'] == 'PS4']\n",
    "data_ps4['critic_score'].corr(data_ps4['total_sales']), data_ps4['user_score'].corr(data_ps4['total_sales'])"
   ]
  },
  {
   "cell_type": "markdown",
   "metadata": {},
   "source": [
    "Для точности выводов рассмотрим еще одну платформу.\n",
    "\n",
    "Выводы, сделанные ранее, подтвердились.\n",
    "\n",
    "Мнение критиков сильнее влияет на продажи, чем мнение пользователей, но сильная статистическая связь отсуствует."
   ]
  },
  {
   "cell_type": "code",
   "execution_count": 34,
   "metadata": {},
   "outputs": [
    {
     "data": {
      "image/png": "[encoded data removed]",
      "text/plain": [
       "<Figure size 720x432 with 1 Axes>"
      ]
     },
     "metadata": {
      "needs_background": "light"
     },
     "output_type": "display_data"
    },
    {
     "data": {
      "image/png": "[encoded data removed]",
      "text/plain": [
       "<Figure size 720x432 with 1 Axes>"
      ]
     },
     "metadata": {
      "needs_background": "light"
     },
     "output_type": "display_data"
    }
   ],
   "source": [
    "data_cleaned_platform = data_platform.dropna(subset=['critic_score', 'user_score'])\n",
    "\n",
    "data_wiiu = data_cleaned_platform[data_cleaned_platform['platform'] == 'WiiU']\n",
    "\n",
    "plt.figure(figsize=(10, 6))\n",
    "plt.scatter(data_wiiu['critic_score'], data_wiiu['total_sales'], alpha=0.5)\n",
    "plt.title('Диаграмма рассеивания: оценка критиков и общие продажи для платформы WiiU')\n",
    "plt.xlabel('Оценка критиков')\n",
    "plt.ylabel('Общие продажи (в миллионах)')\n",
    "plt.grid(True)\n",
    "plt.show()\n",
    "\n",
    "plt.figure(figsize=(10, 6))\n",
    "plt.scatter(data_ps4['user_score'], data_ps4['total_sales'], alpha=0.5)\n",
    "plt.title('Диаграмма рассеивания: оценка пользователей и общие продажи для платформы WiiU')\n",
    "plt.xlabel('Оценка пользователей')\n",
    "plt.ylabel('Общие продажи (в миллионах)')\n",
    "plt.grid(True)\n",
    "plt.show()"
   ]
  },
  {
   "cell_type": "code",
   "execution_count": 35,
   "metadata": {},
   "outputs": [
    {
     "data": {
      "image/png": "[encoded data removed]",
      "text/plain": [
       "<Figure size 720x432 with 1 Axes>"
      ]
     },
     "metadata": {
      "needs_background": "light"
     },
     "output_type": "display_data"
    },
    {
     "data": {
      "image/png": "[encoded data removed]",
      "text/plain": [
       "<Figure size 720x432 with 1 Axes>"
      ]
     },
     "metadata": {
      "needs_background": "light"
     },
     "output_type": "display_data"
    }
   ],
   "source": [
    "plt.figure(figsize=(10, 6))\n",
    "plt.scatter(data_ps4['critic_score'], data_ps4['total_sales'], alpha=0.5)\n",
    "plt.title('Диаграмма рассеивания: оценка критиков и общие продажи для платформы PS4')\n",
    "plt.xlabel('Оценка критиков')\n",
    "plt.ylabel('Общие продажи (в миллионах)')\n",
    "plt.grid(True)\n",
    "plt.show()\n",
    "\n",
    "plt.figure(figsize=(10, 6))\n",
    "plt.scatter(data_ps4['user_score'], data_ps4['total_sales'], alpha=0.5)\n",
    "plt.title('Диаграмма рассеивания: оценка пользователей и общие продажи для платформы PS4')\n",
    "plt.xlabel('Оценка пользователей')\n",
    "plt.ylabel('Общие продажи (в миллионах)')\n",
    "plt.grid(True)\n",
    "plt.show()"
   ]
  },
  {
   "cell_type": "code",
   "execution_count": 36,
   "metadata": {},
   "outputs": [
    {
     "data": {
      "image/png": "[encoded data removed]",
      "text/plain": [
       "<Figure size 720x432 with 1 Axes>"
      ]
     },
     "metadata": {
      "needs_background": "light"
     },
     "output_type": "display_data"
    },
    {
     "data": {
      "image/png": "[encoded data removed]",
      "text/plain": [
       "<Figure size 720x432 with 1 Axes>"
      ]
     },
     "metadata": {
      "needs_background": "light"
     },
     "output_type": "display_data"
    }
   ],
   "source": [
    "data_cleaned_platform = data_platform.dropna(subset=['critic_score', 'user_score'])\n",
    "\n",
    "data_wiiu = data_cleaned_platform[data_cleaned_platform['platform'] == 'WiiU']\n",
    "\n",
    "plt.figure(figsize=(10, 6))\n",
    "plt.scatter(data_wiiu['critic_score'], data_wiiu['total_sales'], alpha=0.5)\n",
    "plt.title('Диаграмма рассеивания: оценка критиков и общие продажи для платформы WiiU')\n",
    "plt.xlabel('Оценка критиков')\n",
    "plt.ylabel('Общие продажи (в миллионах)')\n",
    "plt.grid(True)\n",
    "plt.show()\n",
    "\n",
    "plt.figure(figsize=(10, 6))\n",
    "plt.scatter(data_ps4['user_score'], data_ps4['total_sales'], alpha=0.5)\n",
    "plt.title('Диаграмма рассеивания: оценка пользователей и общие продажи для платформы WiiU')\n",
    "plt.xlabel('Оценка пользователей')\n",
    "plt.ylabel('Общие продажи (в миллионах)')\n",
    "plt.grid(True)\n",
    "plt.show()"
   ]
  },
  {
   "cell_type": "code",
   "execution_count": 37,
   "metadata": {},
   "outputs": [
    {
     "data": {
      "image/png": "[encoded data removed]",
      "text/plain": [
       "<Figure size 720x432 with 1 Axes>"
      ]
     },
     "metadata": {
      "needs_background": "light"
     },
     "output_type": "display_data"
    },
    {
     "data": {
      "image/png": "[encoded data removed]",
      "text/plain": [
       "<Figure size 720x432 with 1 Axes>"
      ]
     },
     "metadata": {
      "needs_background": "light"
     },
     "output_type": "display_data"
    }
   ],
   "source": [
    "\n",
    "data_3DS = data_cleaned_platform[data_cleaned_platform['platform'] == '3DS']\n",
    "\n",
    "plt.figure(figsize=(10, 6))\n",
    "plt.scatter(data_wiiu['critic_score'], data_wiiu['total_sales'], alpha=0.5)\n",
    "plt.title('Диаграмма рассеивания: оценка критиков и общие продажи для платформы 3DS')\n",
    "plt.xlabel('Оценка критиков')\n",
    "plt.ylabel('Общие продажи (в миллионах)')\n",
    "plt.grid(True)\n",
    "plt.show()\n",
    "\n",
    "plt.figure(figsize=(10, 6))\n",
    "plt.scatter(data_ps4['user_score'], data_ps4['total_sales'], alpha=0.5)\n",
    "plt.title('Диаграмма рассеивания: оценка пользователей и общие продажи для платформы 3DS')\n",
    "plt.xlabel('Оценка пользователей')\n",
    "plt.ylabel('Общие продажи (в миллионах)')\n",
    "plt.grid(True)\n",
    "plt.show()"
   ]
  },
  {
   "cell_type": "code",
   "execution_count": 38,
   "metadata": {},
   "outputs": [
    {
     "data": {
      "image/png": "[encoded data removed]",
      "text/plain": [
       "<Figure size 720x432 with 1 Axes>"
      ]
     },
     "metadata": {
      "needs_background": "light"
     },
     "output_type": "display_data"
    },
    {
     "data": {
      "image/png": "[encoded data removed]",
      "text/plain": [
       "<Figure size 720x432 with 1 Axes>"
      ]
     },
     "metadata": {
      "needs_background": "light"
     },
     "output_type": "display_data"
    }
   ],
   "source": [
    "data_cleaned_platform = data_platform.dropna(subset=['critic_score', 'user_score'])\n",
    "\n",
    "data_wiiu = data_cleaned_platform[data_cleaned_platform['platform'] == 'PS3']\n",
    "\n",
    "plt.figure(figsize=(10, 6))\n",
    "plt.scatter(data_wiiu['critic_score'], data_wiiu['total_sales'], alpha=0.5)\n",
    "plt.title('Диаграмма рассеивания: оценка критиков и общие продажи для платформы PS3')\n",
    "plt.xlabel('Оценка критиков')\n",
    "plt.ylabel('Общие продажи (в миллионах)')\n",
    "plt.grid(True)\n",
    "plt.show()\n",
    "\n",
    "plt.figure(figsize=(10, 6))\n",
    "plt.scatter(data_ps4['user_score'], data_ps4['total_sales'], alpha=0.5)\n",
    "plt.title('Диаграмма рассеивания: оценка пользователей и общие продажи для платформы PS3')\n",
    "plt.xlabel('Оценка пользователей')\n",
    "plt.ylabel('Общие продажи (в миллионах)')\n",
    "plt.grid(True)\n",
    "plt.show()"
   ]
  },
  {
   "cell_type": "markdown",
   "metadata": {},
   "source": [
    "*Вывод:* ни на одной из диаграмм рессеиния не наблюдается сильной линейной связи, выводы, сделанные раннее, подтверждены, но теперь для них есть полные основания."
   ]
  },
  {
   "cell_type": "code",
   "execution_count": 39,
   "metadata": {},
   "outputs": [
    {
     "data": {
      "image/png": "[encoded data removed]",
      "text/plain": [
       "<Figure size 864x432 with 1 Axes>"
      ]
     },
     "metadata": {
      "needs_background": "light"
     },
     "output_type": "display_data"
    },
    {
     "name": "stdout",
     "output_type": "stream",
     "text": [
      "           genre  total_sales\n",
      "8        Shooter        92.77\n",
      "0         Action        80.42\n",
      "10        Sports        50.60\n",
      "7   Role-Playing        47.45\n",
      "6         Racing        10.37\n",
      "2       Fighting        10.17\n",
      "1      Adventure         8.07\n",
      "3           Misc         7.33\n",
      "9     Simulation         5.02\n",
      "4       Platform         3.54\n",
      "11      Strategy         0.92\n",
      "5         Puzzle         0.70\n"
     ]
    }
   ],
   "source": [
    "genre_sales = data_actual_platform.groupby('genre')['total_sales'].sum().reset_index()\n",
    "\n",
    "\n",
    "genre_sales = genre_sales.sort_values(by='total_sales', ascending=False)\n",
    "\n",
    "plt.figure(figsize=(12, 6))\n",
    "plt.barh(genre_sales['genre'], genre_sales['total_sales'], color='skyblue')\n",
    "plt.title('Общие продажи игр по жанрам')\n",
    "plt.xlabel('Общие продажи (в миллионах)')\n",
    "plt.ylabel('Жанр')\n",
    "plt.grid(axis='x', linestyle='--', alpha=0.7)\n",
    "plt.show()\n",
    "\n",
    "print(genre_sales)"
   ]
  },
  {
   "cell_type": "code",
   "execution_count": 40,
   "metadata": {},
   "outputs": [
    {
     "name": "stdout",
     "output_type": "stream",
     "text": [
      "           genre      mean  median\n",
      "8        Shooter  1.627544   0.630\n",
      "10        Sports  0.903571   0.220\n",
      "7   Role-Playing  0.624342   0.200\n",
      "2       Fighting  0.423750   0.165\n",
      "9     Simulation  0.334667   0.120\n",
      "4       Platform  0.221250   0.120\n",
      "6         Racing  0.357586   0.100\n",
      "0         Action  0.346638   0.090\n",
      "11      Strategy  0.092000   0.070\n",
      "5         Puzzle  0.140000   0.060\n",
      "3           Misc  0.192895   0.055\n",
      "1      Adventure  0.192143   0.055\n"
     ]
    },
    {
     "data": {
      "image/png": "[encoded data removed]",
      "text/plain": [
       "<Figure size 1008x864 with 1 Axes>"
      ]
     },
     "metadata": {
      "needs_background": "light"
     },
     "output_type": "display_data"
    }
   ],
   "source": [
    "genre_sales = data_actual_platform.groupby('genre')['total_sales'].agg(['mean', 'median']).reset_index()\n",
    "\n",
    "print(genre_sales.sort_values(by='median', ascending = False))\n",
    "\n",
    "\n",
    "\n",
    "q75_sales1 = data_actual_platform.groupby('genre')['total_sales'].quantile(0.75)\n",
    "\n",
    "plt.figure(figsize=(14, 12))\n",
    "\n",
    "\n",
    "plt.boxplot([data_actual_platform[data_actual_platform['genre'] == genre]['total_sales'] for genre in data_actual_platform['genre'].unique()],\n",
    "            labels=data_actual_platform['genre'].unique())\n",
    "\n",
    "\n",
    "plt.ylim(0, q75_sales1.max())\n",
    "\n",
    "plt.title('Нижняя часть ящика с усами распределения продаж по жанрам')\n",
    "plt.xlabel('Жанр')\n",
    "plt.ylabel('Общие продажи (млн.)')\n",
    "plt.tight_layout()\n",
    "plt.show()"
   ]
  },
  {
   "cell_type": "markdown",
   "metadata": {},
   "source": [
    "*Вывод:* можно сделать вывод о том, что самым прибльным жанром являентся shooter.\n",
    "\n",
    "Будем оперировать медианой, так как на графике видно наличие выбросов.\n",
    "\n",
    "Жанры с самым большим медианным количеством продаж:\n",
    "1. Shooter.\n",
    "2. Sports.\n",
    "\n",
    "Жанры с самым низким медианным количеством продаж:\n",
    "1. Misc.\n",
    "2. Adventure."
   ]
  },
  {
   "cell_type": "markdown",
   "metadata": {},
   "source": [
    "**Шаг №4**"
   ]
  },
  {
   "cell_type": "code",
   "execution_count": 41,
   "metadata": {},
   "outputs": [
    {
     "data": {
      "text/html": [
       "<div>\n",
       "<style scoped>\n",
       "    .dataframe tbody tr th:only-of-type {\n",
       "        vertical-align: middle;\n",
       "    }\n",
       "\n",
       "    .dataframe tbody tr th {\n",
       "        vertical-align: top;\n",
       "    }\n",
       "\n",
       "    .dataframe thead th {\n",
       "        text-align: right;\n",
       "    }\n",
       "</style>\n",
       "<table border=\"1\" class=\"dataframe\">\n",
       "  <thead>\n",
       "    <tr style=\"text-align: right;\">\n",
       "      <th></th>\n",
       "      <th>platform</th>\n",
       "      <th>total_sales</th>\n",
       "    </tr>\n",
       "  </thead>\n",
       "  <tbody>\n",
       "    <tr>\n",
       "      <th>3</th>\n",
       "      <td>PS4</td>\n",
       "      <td>188.15</td>\n",
       "    </tr>\n",
       "    <tr>\n",
       "      <th>9</th>\n",
       "      <td>XOne</td>\n",
       "      <td>86.29</td>\n",
       "    </tr>\n",
       "    <tr>\n",
       "      <th>0</th>\n",
       "      <td>3DS</td>\n",
       "      <td>42.92</td>\n",
       "    </tr>\n",
       "    <tr>\n",
       "      <th>7</th>\n",
       "      <td>WiiU</td>\n",
       "      <td>20.95</td>\n",
       "    </tr>\n",
       "    <tr>\n",
       "      <th>2</th>\n",
       "      <td>PS3</td>\n",
       "      <td>20.42</td>\n",
       "    </tr>\n",
       "    <tr>\n",
       "      <th>1</th>\n",
       "      <td>PC</td>\n",
       "      <td>13.77</td>\n",
       "    </tr>\n",
       "    <tr>\n",
       "      <th>8</th>\n",
       "      <td>X360</td>\n",
       "      <td>13.48</td>\n",
       "    </tr>\n",
       "    <tr>\n",
       "      <th>5</th>\n",
       "      <td>PSV</td>\n",
       "      <td>10.50</td>\n",
       "    </tr>\n",
       "    <tr>\n",
       "      <th>6</th>\n",
       "      <td>Wii</td>\n",
       "      <td>1.32</td>\n",
       "    </tr>\n",
       "    <tr>\n",
       "      <th>4</th>\n",
       "      <td>PSP</td>\n",
       "      <td>0.12</td>\n",
       "    </tr>\n",
       "  </tbody>\n",
       "</table>\n",
       "</div>"
      ],
      "text/plain": [
       "  platform  total_sales\n",
       "3      PS4       188.15\n",
       "9     XOne        86.29\n",
       "0      3DS        42.92\n",
       "7     WiiU        20.95\n",
       "2      PS3        20.42\n",
       "1       PC        13.77\n",
       "8     X360        13.48\n",
       "5      PSV        10.50\n",
       "6      Wii         1.32\n",
       "4      PSP         0.12"
      ]
     },
     "execution_count": 41,
     "metadata": {},
     "output_type": "execute_result"
    }
   ],
   "source": [
    "data_cleaned.groupby('platform')['total_sales'].sum().reset_index().sort_values(by='total_sales', ascending = False)"
   ]
  },
  {
   "cell_type": "code",
   "execution_count": 42,
   "metadata": {},
   "outputs": [
    {
     "data": {
      "text/html": [
       "<div>\n",
       "<style scoped>\n",
       "    .dataframe tbody tr th:only-of-type {\n",
       "        vertical-align: middle;\n",
       "    }\n",
       "\n",
       "    .dataframe tbody tr th {\n",
       "        vertical-align: top;\n",
       "    }\n",
       "\n",
       "    .dataframe thead th {\n",
       "        text-align: right;\n",
       "    }\n",
       "</style>\n",
       "<table border=\"1\" class=\"dataframe\">\n",
       "  <thead>\n",
       "    <tr style=\"text-align: right;\">\n",
       "      <th></th>\n",
       "      <th>name</th>\n",
       "      <th>platform</th>\n",
       "      <th>year_of_release</th>\n",
       "      <th>genre</th>\n",
       "      <th>na_sales</th>\n",
       "      <th>eu_sales</th>\n",
       "      <th>jp_sales</th>\n",
       "      <th>other_sales</th>\n",
       "      <th>critic_score</th>\n",
       "      <th>user_score</th>\n",
       "      <th>rating</th>\n",
       "      <th>total_sales</th>\n",
       "    </tr>\n",
       "  </thead>\n",
       "  <tbody>\n",
       "    <tr>\n",
       "      <th>31</th>\n",
       "      <td>Call of Duty: Black Ops 3</td>\n",
       "      <td>PS4</td>\n",
       "      <td>2015</td>\n",
       "      <td>Shooter</td>\n",
       "      <td>6.03</td>\n",
       "      <td>5.86</td>\n",
       "      <td>0.36</td>\n",
       "      <td>2.38</td>\n",
       "      <td>NaN</td>\n",
       "      <td>NaN</td>\n",
       "      <td>неизвестен</td>\n",
       "      <td>14.63</td>\n",
       "    </tr>\n",
       "    <tr>\n",
       "      <th>77</th>\n",
       "      <td>FIFA 16</td>\n",
       "      <td>PS4</td>\n",
       "      <td>2015</td>\n",
       "      <td>Sports</td>\n",
       "      <td>1.12</td>\n",
       "      <td>6.12</td>\n",
       "      <td>0.06</td>\n",
       "      <td>1.28</td>\n",
       "      <td>82.0</td>\n",
       "      <td>4.3</td>\n",
       "      <td>E</td>\n",
       "      <td>8.58</td>\n",
       "    </tr>\n",
       "    <tr>\n",
       "      <th>87</th>\n",
       "      <td>Star Wars Battlefront (2015)</td>\n",
       "      <td>PS4</td>\n",
       "      <td>2015</td>\n",
       "      <td>Shooter</td>\n",
       "      <td>2.99</td>\n",
       "      <td>3.49</td>\n",
       "      <td>0.22</td>\n",
       "      <td>1.28</td>\n",
       "      <td>NaN</td>\n",
       "      <td>NaN</td>\n",
       "      <td>неизвестен</td>\n",
       "      <td>7.98</td>\n",
       "    </tr>\n",
       "    <tr>\n",
       "      <th>94</th>\n",
       "      <td>FIFA 17</td>\n",
       "      <td>PS4</td>\n",
       "      <td>2016</td>\n",
       "      <td>Sports</td>\n",
       "      <td>0.66</td>\n",
       "      <td>5.75</td>\n",
       "      <td>0.08</td>\n",
       "      <td>1.11</td>\n",
       "      <td>85.0</td>\n",
       "      <td>5.0</td>\n",
       "      <td>E</td>\n",
       "      <td>7.60</td>\n",
       "    </tr>\n",
       "    <tr>\n",
       "      <th>99</th>\n",
       "      <td>Call of Duty: Black Ops 3</td>\n",
       "      <td>XOne</td>\n",
       "      <td>2015</td>\n",
       "      <td>Shooter</td>\n",
       "      <td>4.59</td>\n",
       "      <td>2.11</td>\n",
       "      <td>0.01</td>\n",
       "      <td>0.68</td>\n",
       "      <td>NaN</td>\n",
       "      <td>NaN</td>\n",
       "      <td>неизвестен</td>\n",
       "      <td>7.39</td>\n",
       "    </tr>\n",
       "  </tbody>\n",
       "</table>\n",
       "</div>"
      ],
      "text/plain": [
       "                            name platform  year_of_release    genre  na_sales  \\\n",
       "31     Call of Duty: Black Ops 3      PS4             2015  Shooter      6.03   \n",
       "77                       FIFA 16      PS4             2015   Sports      1.12   \n",
       "87  Star Wars Battlefront (2015)      PS4             2015  Shooter      2.99   \n",
       "94                       FIFA 17      PS4             2016   Sports      0.66   \n",
       "99     Call of Duty: Black Ops 3     XOne             2015  Shooter      4.59   \n",
       "\n",
       "    eu_sales  jp_sales  other_sales  critic_score  user_score      rating  \\\n",
       "31      5.86      0.36         2.38           NaN         NaN  неизвестен   \n",
       "77      6.12      0.06         1.28          82.0         4.3           E   \n",
       "87      3.49      0.22         1.28           NaN         NaN  неизвестен   \n",
       "94      5.75      0.08         1.11          85.0         5.0           E   \n",
       "99      2.11      0.01         0.68           NaN         NaN  неизвестен   \n",
       "\n",
       "    total_sales  \n",
       "31        14.63  \n",
       "77         8.58  \n",
       "87         7.98  \n",
       "94         7.60  \n",
       "99         7.39  "
      ]
     },
     "execution_count": 42,
     "metadata": {},
     "output_type": "execute_result"
    }
   ],
   "source": [
    "data_cleaned.head()"
   ]
  },
  {
   "cell_type": "code",
   "execution_count": 43,
   "metadata": {},
   "outputs": [
    {
     "name": "stdout",
     "output_type": "stream",
     "text": [
      "Топ платформ NA:\n"
     ]
    },
    {
     "data": {
      "text/html": [
       "<div>\n",
       "<style scoped>\n",
       "    .dataframe tbody tr th:only-of-type {\n",
       "        vertical-align: middle;\n",
       "    }\n",
       "\n",
       "    .dataframe tbody tr th {\n",
       "        vertical-align: top;\n",
       "    }\n",
       "\n",
       "    .dataframe thead th {\n",
       "        text-align: right;\n",
       "    }\n",
       "</style>\n",
       "<table border=\"1\" class=\"dataframe\">\n",
       "  <thead>\n",
       "    <tr style=\"text-align: right;\">\n",
       "      <th></th>\n",
       "      <th>platform</th>\n",
       "      <th>na_sales</th>\n",
       "      <th>eu_sales</th>\n",
       "      <th>jp_sales</th>\n",
       "    </tr>\n",
       "  </thead>\n",
       "  <tbody>\n",
       "    <tr>\n",
       "      <th>3</th>\n",
       "      <td>PS4</td>\n",
       "      <td>63.86</td>\n",
       "      <td>83.54</td>\n",
       "      <td>12.05</td>\n",
       "    </tr>\n",
       "    <tr>\n",
       "      <th>9</th>\n",
       "      <td>XOne</td>\n",
       "      <td>50.30</td>\n",
       "      <td>28.10</td>\n",
       "      <td>0.18</td>\n",
       "    </tr>\n",
       "    <tr>\n",
       "      <th>0</th>\n",
       "      <td>3DS</td>\n",
       "      <td>10.31</td>\n",
       "      <td>7.39</td>\n",
       "      <td>23.55</td>\n",
       "    </tr>\n",
       "    <tr>\n",
       "      <th>7</th>\n",
       "      <td>WiiU</td>\n",
       "      <td>8.86</td>\n",
       "      <td>6.49</td>\n",
       "      <td>4.12</td>\n",
       "    </tr>\n",
       "    <tr>\n",
       "      <th>8</th>\n",
       "      <td>X360</td>\n",
       "      <td>8.05</td>\n",
       "      <td>4.21</td>\n",
       "      <td>0.00</td>\n",
       "    </tr>\n",
       "  </tbody>\n",
       "</table>\n",
       "</div>"
      ],
      "text/plain": [
       "  platform  na_sales  eu_sales  jp_sales\n",
       "3      PS4     63.86     83.54     12.05\n",
       "9     XOne     50.30     28.10      0.18\n",
       "0      3DS     10.31      7.39     23.55\n",
       "7     WiiU      8.86      6.49      4.12\n",
       "8     X360      8.05      4.21      0.00"
      ]
     },
     "metadata": {},
     "output_type": "display_data"
    },
    {
     "name": "stdout",
     "output_type": "stream",
     "text": [
      "\n",
      "Топ платформ EU:\n"
     ]
    },
    {
     "data": {
      "text/html": [
       "<div>\n",
       "<style scoped>\n",
       "    .dataframe tbody tr th:only-of-type {\n",
       "        vertical-align: middle;\n",
       "    }\n",
       "\n",
       "    .dataframe tbody tr th {\n",
       "        vertical-align: top;\n",
       "    }\n",
       "\n",
       "    .dataframe thead th {\n",
       "        text-align: right;\n",
       "    }\n",
       "</style>\n",
       "<table border=\"1\" class=\"dataframe\">\n",
       "  <thead>\n",
       "    <tr style=\"text-align: right;\">\n",
       "      <th></th>\n",
       "      <th>platform</th>\n",
       "      <th>na_sales</th>\n",
       "      <th>eu_sales</th>\n",
       "      <th>jp_sales</th>\n",
       "    </tr>\n",
       "  </thead>\n",
       "  <tbody>\n",
       "    <tr>\n",
       "      <th>3</th>\n",
       "      <td>PS4</td>\n",
       "      <td>63.86</td>\n",
       "      <td>83.54</td>\n",
       "      <td>12.05</td>\n",
       "    </tr>\n",
       "    <tr>\n",
       "      <th>9</th>\n",
       "      <td>XOne</td>\n",
       "      <td>50.30</td>\n",
       "      <td>28.10</td>\n",
       "      <td>0.18</td>\n",
       "    </tr>\n",
       "    <tr>\n",
       "      <th>1</th>\n",
       "      <td>PC</td>\n",
       "      <td>3.72</td>\n",
       "      <td>9.10</td>\n",
       "      <td>0.00</td>\n",
       "    </tr>\n",
       "    <tr>\n",
       "      <th>0</th>\n",
       "      <td>3DS</td>\n",
       "      <td>10.31</td>\n",
       "      <td>7.39</td>\n",
       "      <td>23.55</td>\n",
       "    </tr>\n",
       "    <tr>\n",
       "      <th>2</th>\n",
       "      <td>PS3</td>\n",
       "      <td>5.66</td>\n",
       "      <td>7.30</td>\n",
       "      <td>4.97</td>\n",
       "    </tr>\n",
       "  </tbody>\n",
       "</table>\n",
       "</div>"
      ],
      "text/plain": [
       "  platform  na_sales  eu_sales  jp_sales\n",
       "3      PS4     63.86     83.54     12.05\n",
       "9     XOne     50.30     28.10      0.18\n",
       "1       PC      3.72      9.10      0.00\n",
       "0      3DS     10.31      7.39     23.55\n",
       "2      PS3      5.66      7.30      4.97"
      ]
     },
     "metadata": {},
     "output_type": "display_data"
    },
    {
     "name": "stdout",
     "output_type": "stream",
     "text": [
      "\n",
      "Топ платформ JP:\n"
     ]
    },
    {
     "data": {
      "text/html": [
       "<div>\n",
       "<style scoped>\n",
       "    .dataframe tbody tr th:only-of-type {\n",
       "        vertical-align: middle;\n",
       "    }\n",
       "\n",
       "    .dataframe tbody tr th {\n",
       "        vertical-align: top;\n",
       "    }\n",
       "\n",
       "    .dataframe thead th {\n",
       "        text-align: right;\n",
       "    }\n",
       "</style>\n",
       "<table border=\"1\" class=\"dataframe\">\n",
       "  <thead>\n",
       "    <tr style=\"text-align: right;\">\n",
       "      <th></th>\n",
       "      <th>platform</th>\n",
       "      <th>na_sales</th>\n",
       "      <th>eu_sales</th>\n",
       "      <th>jp_sales</th>\n",
       "    </tr>\n",
       "  </thead>\n",
       "  <tbody>\n",
       "    <tr>\n",
       "      <th>0</th>\n",
       "      <td>3DS</td>\n",
       "      <td>10.31</td>\n",
       "      <td>7.39</td>\n",
       "      <td>23.55</td>\n",
       "    </tr>\n",
       "    <tr>\n",
       "      <th>3</th>\n",
       "      <td>PS4</td>\n",
       "      <td>63.86</td>\n",
       "      <td>83.54</td>\n",
       "      <td>12.05</td>\n",
       "    </tr>\n",
       "    <tr>\n",
       "      <th>5</th>\n",
       "      <td>PSV</td>\n",
       "      <td>0.54</td>\n",
       "      <td>1.08</td>\n",
       "      <td>8.41</td>\n",
       "    </tr>\n",
       "    <tr>\n",
       "      <th>2</th>\n",
       "      <td>PS3</td>\n",
       "      <td>5.66</td>\n",
       "      <td>7.30</td>\n",
       "      <td>4.97</td>\n",
       "    </tr>\n",
       "    <tr>\n",
       "      <th>7</th>\n",
       "      <td>WiiU</td>\n",
       "      <td>8.86</td>\n",
       "      <td>6.49</td>\n",
       "      <td>4.12</td>\n",
       "    </tr>\n",
       "  </tbody>\n",
       "</table>\n",
       "</div>"
      ],
      "text/plain": [
       "  platform  na_sales  eu_sales  jp_sales\n",
       "0      3DS     10.31      7.39     23.55\n",
       "3      PS4     63.86     83.54     12.05\n",
       "5      PSV      0.54      1.08      8.41\n",
       "2      PS3      5.66      7.30      4.97\n",
       "7     WiiU      8.86      6.49      4.12"
      ]
     },
     "metadata": {},
     "output_type": "display_data"
    },
    {
     "name": "stdout",
     "output_type": "stream",
     "text": [
      "\n",
      "Рассчитанные доли продаж по регионам:\n"
     ]
    },
    {
     "data": {
      "text/html": [
       "<div>\n",
       "<style scoped>\n",
       "    .dataframe tbody tr th:only-of-type {\n",
       "        vertical-align: middle;\n",
       "    }\n",
       "\n",
       "    .dataframe tbody tr th {\n",
       "        vertical-align: top;\n",
       "    }\n",
       "\n",
       "    .dataframe thead th {\n",
       "        text-align: right;\n",
       "    }\n",
       "</style>\n",
       "<table border=\"1\" class=\"dataframe\">\n",
       "  <thead>\n",
       "    <tr style=\"text-align: right;\">\n",
       "      <th></th>\n",
       "      <th>platform</th>\n",
       "      <th>na_share</th>\n",
       "      <th>eu_share</th>\n",
       "      <th>jp_share</th>\n",
       "    </tr>\n",
       "  </thead>\n",
       "  <tbody>\n",
       "    <tr>\n",
       "      <th>0</th>\n",
       "      <td>3DS</td>\n",
       "      <td>0.067923</td>\n",
       "      <td>0.049953</td>\n",
       "      <td>0.441011</td>\n",
       "    </tr>\n",
       "    <tr>\n",
       "      <th>1</th>\n",
       "      <td>PS4</td>\n",
       "      <td>0.420713</td>\n",
       "      <td>0.564688</td>\n",
       "      <td>0.225655</td>\n",
       "    </tr>\n",
       "    <tr>\n",
       "      <th>2</th>\n",
       "      <td>WiiU</td>\n",
       "      <td>0.058370</td>\n",
       "      <td>NaN</td>\n",
       "      <td>0.077154</td>\n",
       "    </tr>\n",
       "    <tr>\n",
       "      <th>3</th>\n",
       "      <td>X360</td>\n",
       "      <td>0.053034</td>\n",
       "      <td>NaN</td>\n",
       "      <td>NaN</td>\n",
       "    </tr>\n",
       "    <tr>\n",
       "      <th>4</th>\n",
       "      <td>XOne</td>\n",
       "      <td>0.331379</td>\n",
       "      <td>0.189942</td>\n",
       "      <td>NaN</td>\n",
       "    </tr>\n",
       "    <tr>\n",
       "      <th>5</th>\n",
       "      <td>PC</td>\n",
       "      <td>NaN</td>\n",
       "      <td>0.061511</td>\n",
       "      <td>NaN</td>\n",
       "    </tr>\n",
       "    <tr>\n",
       "      <th>6</th>\n",
       "      <td>PS3</td>\n",
       "      <td>NaN</td>\n",
       "      <td>0.049344</td>\n",
       "      <td>0.093071</td>\n",
       "    </tr>\n",
       "    <tr>\n",
       "      <th>7</th>\n",
       "      <td>PSV</td>\n",
       "      <td>NaN</td>\n",
       "      <td>NaN</td>\n",
       "      <td>0.157491</td>\n",
       "    </tr>\n",
       "  </tbody>\n",
       "</table>\n",
       "</div>"
      ],
      "text/plain": [
       "  platform  na_share  eu_share  jp_share\n",
       "0      3DS  0.067923  0.049953  0.441011\n",
       "1      PS4  0.420713  0.564688  0.225655\n",
       "2     WiiU  0.058370       NaN  0.077154\n",
       "3     X360  0.053034       NaN       NaN\n",
       "4     XOne  0.331379  0.189942       NaN\n",
       "5       PC       NaN  0.061511       NaN\n",
       "6      PS3       NaN  0.049344  0.093071\n",
       "7      PSV       NaN       NaN  0.157491"
      ]
     },
     "metadata": {},
     "output_type": "display_data"
    }
   ],
   "source": [
    "platform_sales = data_cleaned.groupby('platform')[['na_sales', 'eu_sales', 'jp_sales']].sum().reset_index()\n",
    "top_na_platforms = platform_sales.nlargest(5, 'na_sales')\n",
    "top_eu_platforms = platform_sales.nlargest(5, 'eu_sales')\n",
    "top_jp_platforms = platform_sales.nlargest(5, 'jp_sales')\n",
    "print('Топ платформ NA:')\n",
    "display(top_na_platforms)\n",
    "print()\n",
    "print('Топ платформ EU:')\n",
    "display(top_eu_platforms)\n",
    "print()\n",
    "print('Топ платформ JP:')\n",
    "display(top_jp_platforms)\n",
    "print()\n",
    "\n",
    "total_na_sales = platform_sales['na_sales'].sum()\n",
    "total_eu_sales = platform_sales['eu_sales'].sum()\n",
    "total_jp_sales = platform_sales['jp_sales'].sum()\n",
    "\n",
    "# вычисляем доли\n",
    "platform_sales['na_share'] = platform_sales['na_sales'] / total_na_sales\n",
    "platform_sales['eu_share'] = platform_sales['eu_sales'] / total_eu_sales\n",
    "platform_sales['jp_share'] = platform_sales['jp_sales'] / total_jp_sales\n",
    "\n",
    "top_na_shares = platform_sales[platform_sales['platform'].isin(top_na_platforms['platform'])][['platform', 'na_share']]\n",
    "top_eu_shares = platform_sales[platform_sales['platform'].isin(top_eu_platforms['platform'])][['platform', 'eu_share']]\n",
    "top_jp_shares = platform_sales[platform_sales['platform'].isin(top_jp_platforms['platform'])][['platform', 'jp_share']]\n",
    "\n",
    "top_platforms = pd.merge(top_na_shares, top_eu_shares, on='platform', how='outer')\n",
    "top_platforms = pd.merge(top_platforms, top_jp_shares, on='platform', how='outer')\n",
    "\n",
    "print('Рассчитанные доли продаж по регионам:')\n",
    "display(top_platforms)"
   ]
  },
  {
   "cell_type": "markdown",
   "metadata": {},
   "source": [
    "*Вывод:*\n",
    "\n",
    "Самые популярные платформы:\n",
    "\n",
    "Для региона NA:\n",
    "1. PS4\n",
    "2. XOne\n",
    "3. 3DS\n",
    "4. WiiU\n",
    "5. X360\n",
    "\n",
    "Для региона EU:\n",
    "1. PS4\n",
    "2. XOne\n",
    "3. PC\n",
    "4. 3DS\n",
    "5. PS3\n",
    "\n",
    "Для региона JP:\n",
    "1. 3DS\n",
    "2. PS4\n",
    "3. PSV\n",
    "4. PS3\n",
    "5. WiiU\n",
    "\n",
    "\n",
    "Большая доля покупок игр на платформе 3DS принадлежит пользователям из региона JP\n",
    "\n",
    "Большая доля покупок игр на платформе PS4 принадлежит пользователям из региона EU\n",
    "\n",
    "Большая доля покупок игр на платформе XOne принадлежит пользователям из региона NA"
   ]
  },
  {
   "cell_type": "code",
   "execution_count": 44,
   "metadata": {},
   "outputs": [
    {
     "name": "stdout",
     "output_type": "stream",
     "text": [
      "Топ-5 жанров в NA:\n",
      " genre\n",
      "Shooter         48.18\n",
      "Action          33.68\n",
      "Sports          26.31\n",
      "Role-Playing    19.82\n",
      "Misc             5.58\n",
      "Name: na_sales, dtype: float64\n",
      "\n",
      "Топ-5 жанров в EU:\n",
      " genre\n",
      "Shooter         40.28\n",
      "Action          34.82\n",
      "Sports          27.82\n",
      "Role-Playing    17.21\n",
      "Racing           6.52\n",
      "Name: eu_sales, dtype: float64\n",
      "\n",
      "Топ-5 жанров в JP:\n",
      " genre\n",
      "Action          23.05\n",
      "Role-Playing    13.41\n",
      "Shooter          3.79\n",
      "Misc             3.19\n",
      "Adventure        2.22\n",
      "Name: jp_sales, dtype: float64\n"
     ]
    }
   ],
   "source": [
    "na_genre_sales = data_cleaned.groupby('genre')['na_sales'].sum().sort_values(ascending=False).head(5)\n",
    "eu_genre_sales = data_cleaned.groupby('genre')['eu_sales'].sum().sort_values(ascending=False).head(5)\n",
    "jp_genre_sales = data_cleaned.groupby('genre')['jp_sales'].sum().sort_values(ascending=False).head(5)\n",
    "\n",
    "print(\"Топ-5 жанров в NA:\\n\", na_genre_sales)\n",
    "print(\"\\nТоп-5 жанров в EU:\\n\", eu_genre_sales)\n",
    "print(\"\\nТоп-5 жанров в JP:\\n\", jp_genre_sales)"
   ]
  },
  {
   "cell_type": "markdown",
   "metadata": {},
   "source": [
    "*Вывод:*\n",
    "\n",
    "Самые популярные жанры:\n",
    "\n",
    "Для региона NA:\n",
    "1. Shooter\n",
    "2. Action\n",
    "3. Sports\n",
    "4. Role-playing\n",
    "5. Misc\n",
    "\n",
    "Для региона EU:\n",
    "1. Shooter\n",
    "2. Action\n",
    "3. Sports\n",
    "4. Role-playing\n",
    "5. Racing\n",
    "\n",
    "Для региона JP:\n",
    "1. Acion\n",
    "2. Role-playing\n",
    "3. Shooter\n",
    "4. Misc\n",
    "5. Adventure\n",
    "\n",
    "Для регионов NA и EU топ жанров почти идентичный.\n",
    "\n",
    "Для региона JP: есть такие же жанры, однако они занимают другие позиции в рейтинге.\n"
   ]
  },
  {
   "cell_type": "code",
   "execution_count": 45,
   "metadata": {},
   "outputs": [
    {
     "name": "stdout",
     "output_type": "stream",
     "text": [
      "Количество записей с рейтингом 'неизвестен': 513\n"
     ]
    },
    {
     "data": {
      "text/html": [
       "<div>\n",
       "<style scoped>\n",
       "    .dataframe tbody tr th:only-of-type {\n",
       "        vertical-align: middle;\n",
       "    }\n",
       "\n",
       "    .dataframe tbody tr th {\n",
       "        vertical-align: top;\n",
       "    }\n",
       "\n",
       "    .dataframe thead th {\n",
       "        text-align: right;\n",
       "    }\n",
       "</style>\n",
       "<table border=\"1\" class=\"dataframe\">\n",
       "  <thead>\n",
       "    <tr style=\"text-align: right;\">\n",
       "      <th></th>\n",
       "      <th>rating</th>\n",
       "      <th>na_sales</th>\n",
       "      <th>eu_sales</th>\n",
       "      <th>jp_sales</th>\n",
       "      <th>total_sales</th>\n",
       "    </tr>\n",
       "  </thead>\n",
       "  <tbody>\n",
       "    <tr>\n",
       "      <th>0</th>\n",
       "      <td>E</td>\n",
       "      <td>26.59</td>\n",
       "      <td>34.83</td>\n",
       "      <td>5.25</td>\n",
       "      <td>75.24</td>\n",
       "    </tr>\n",
       "    <tr>\n",
       "      <th>1</th>\n",
       "      <td>E10+</td>\n",
       "      <td>17.87</td>\n",
       "      <td>11.54</td>\n",
       "      <td>3.27</td>\n",
       "      <td>36.68</td>\n",
       "    </tr>\n",
       "    <tr>\n",
       "      <th>2</th>\n",
       "      <td>M</td>\n",
       "      <td>47.03</td>\n",
       "      <td>45.54</td>\n",
       "      <td>4.29</td>\n",
       "      <td>111.10</td>\n",
       "    </tr>\n",
       "    <tr>\n",
       "      <th>3</th>\n",
       "      <td>T</td>\n",
       "      <td>22.86</td>\n",
       "      <td>20.32</td>\n",
       "      <td>7.70</td>\n",
       "      <td>57.73</td>\n",
       "    </tr>\n",
       "    <tr>\n",
       "      <th>4</th>\n",
       "      <td>неизвестен</td>\n",
       "      <td>37.44</td>\n",
       "      <td>35.71</td>\n",
       "      <td>32.89</td>\n",
       "      <td>117.17</td>\n",
       "    </tr>\n",
       "  </tbody>\n",
       "</table>\n",
       "</div>"
      ],
      "text/plain": [
       "       rating  na_sales  eu_sales  jp_sales  total_sales\n",
       "0           E     26.59     34.83      5.25        75.24\n",
       "1        E10+     17.87     11.54      3.27        36.68\n",
       "2           M     47.03     45.54      4.29       111.10\n",
       "3           T     22.86     20.32      7.70        57.73\n",
       "4  неизвестен     37.44     35.71     32.89       117.17"
      ]
     },
     "metadata": {},
     "output_type": "display_data"
    }
   ],
   "source": [
    "unknown_rating_count = data_cleaned[data_cleaned['rating'] == 'неизвестен'].shape[0]\n",
    "print(f\"Количество записей с рейтингом 'неизвестен': {unknown_rating_count}\")\n",
    "\n",
    "\n",
    "sales_by_rating = data_cleaned.groupby('rating').agg({\n",
    "    'na_sales': 'sum',\n",
    "    'eu_sales': 'sum',\n",
    "    'jp_sales': 'sum',\n",
    "    'total_sales': 'sum'\n",
    "}).reset_index()\n",
    "\n",
    "\n",
    "display(sales_by_rating)"
   ]
  },
  {
   "cell_type": "code",
   "execution_count": 46,
   "metadata": {},
   "outputs": [
    {
     "data": {
      "image/png": "[encoded data removed]",
      "text/plain": [
       "<Figure size 1008x720 with 3 Axes>"
      ]
     },
     "metadata": {
      "needs_background": "light"
     },
     "output_type": "display_data"
    }
   ],
   "source": [
    "plt.figure(figsize=(14, 10))\n",
    "\n",
    "# создаем графики для каждого региона\n",
    "plt.subplot(3, 1, 1)\n",
    "sns.barplot(data=sales_by_rating, x='rating', y='na_sales')\n",
    "plt.title('Суммарные продажи в Северной Америке по рейтингу ESRB')\n",
    "plt.xlabel('Рейтинг ESRB')\n",
    "plt.ylabel('Суммарные продажи (млн копий)')\n",
    "plt.xticks(rotation=45)\n",
    "\n",
    "plt.subplot(3, 1, 2)\n",
    "sns.barplot(data=sales_by_rating, x='rating', y='eu_sales' )\n",
    "plt.title('Суммарные продажи в Европе по рейтингу ESRB')\n",
    "plt.xlabel('Рейтинг ESRB')\n",
    "plt.ylabel('Суммарные продажи (млн копий)')\n",
    "plt.xticks(rotation=45)\n",
    "\n",
    "plt.subplot(3, 1, 3)\n",
    "sns.barplot(data=sales_by_rating, x='rating', y='jp_sales')\n",
    "plt.title('Суммарные продажи в Японии по рейтингу ESRB')\n",
    "plt.xlabel('Рейтинг ESRB')\n",
    "plt.ylabel('Суммарные продажи (млн копий)')\n",
    "plt.xticks(rotation=45)\n",
    "\n",
    "plt.tight_layout()\n",
    "plt.show()"
   ]
  },
  {
   "cell_type": "markdown",
   "metadata": {},
   "source": [
    "*Вывод:*\n",
    "\n",
    "Можно сделать вывод о том, для регионов NA и EU самое большое количество продаж у игр с рейтингом ESRB \"M\", а у JP - с рейтингом \"неизвестен\""
   ]
  },
  {
   "cell_type": "markdown",
   "metadata": {},
   "source": [
    "**Шаг №5**"
   ]
  },
  {
   "cell_type": "markdown",
   "metadata": {},
   "source": [
    "*Гипотеза № 1*\n",
    "\n",
    "H0: средние пользовательские рейтинги платформ Xbox One и PC одинаковые.\n",
    "\n",
    "H1: средние пользовательские рейтинги платформ Xbox One и PC различаются.\n",
    "\n",
    "Где m1 - средний ползовательский рейтинг платформы Xbox One. m2 - средний ползовательский рейтинг платформы PC.\n",
    "\n",
    "H0: m1 = m2\n",
    "\n",
    "H1: m1 != m2\n",
    "\n",
    "Двусторонняя критическая область \n",
    "\n",
    "alpha = 0.05\n",
    "\n",
    "Выброки независимые, значит используем scipy.stats.ttest_ind"
   ]
  },
  {
   "cell_type": "code",
   "execution_count": 47,
   "metadata": {},
   "outputs": [
    {
     "name": "stdout",
     "output_type": "stream",
     "text": [
      "T-статистика: 1.0515500933673056, P-значение: 0.2946308864003345\n",
      "Не отвергаем нулевую гипотезу: средние пользовательские рейтинги платформ Xbox One и PC одинаковые.\n"
     ]
    }
   ],
   "source": [
    "xone_scores = data_cleaned[data_cleaned['platform'] == 'XOne']['user_score'].dropna()\n",
    "\n",
    "pc_scores = data_cleaned[data_cleaned['platform'] == 'PC']['user_score'].dropna()\n",
    "\n",
    "t_statistic, p_value = stats.ttest_ind(xone_scores, pc_scores, equal_var=False, alternative='two-sided')\n",
    "\n",
    "alpha = 0.05\n",
    "\n",
    "print(f\"T-статистика: {t_statistic}, P-значение: {p_value}\")\n",
    "\n",
    "if p_value < alpha:\n",
    "    print(\"Отвергаем нулевую гипотезу: средние пользовательские рейтинги платформ Xbox One и PC различаются.\")\n",
    "else:\n",
    "    print(\"Не отвергаем нулевую гипотезу: средние пользовательские рейтинги платформ Xbox One и PC одинаковые.\")"
   ]
  },
  {
   "cell_type": "markdown",
   "metadata": {},
   "source": [
    "*Гипотеза № 2*\n",
    "\n",
    "H0: средние пользовательские рейтинги жанров Action и Sports не различаются.\n",
    "\n",
    "H1: средние пользовательские рейтинги жанров Action и Sports разные.\n",
    "\n",
    "Где m1 - средний пользовательский рейтинг жанра Action. m2 - это средний пользовательский рейтинг жанра Sports.\n",
    "\n",
    "H0: m1 = m2\n",
    "\n",
    "H1: m1 != m2\n",
    "\n",
    "Двусторонняя критическая область \n",
    "\n",
    "alpha = 0.05\n",
    "\n",
    "Выброки независимые, значит используем scipy.stats.ttest_ind"
   ]
  },
  {
   "cell_type": "code",
   "execution_count": 48,
   "metadata": {},
   "outputs": [
    {
     "name": "stdout",
     "output_type": "stream",
     "text": [
      "T-test: Statistic=6.764121363817531, p-value=5.97163549920592e-10\n",
      "Отвергаем нулевую гипотезу: средние пользовательские рейтинги жанров Action и Sports разные.\n"
     ]
    }
   ],
   "source": [
    "action_scores = data_cleaned[data_cleaned['genre'] == 'Action']['user_score'].dropna()\n",
    "\n",
    "sports_scores = data_cleaned[data_cleaned['genre'] == 'Sports']['user_score'].dropna()\n",
    "\n",
    "\n",
    "t_statistic, p_value = stats.ttest_ind(action_scores, sports_scores, equal_var=False, alternative='two-sided')\n",
    "print(f'T-test: Statistic={t_statistic}, p-value={p_value}')\n",
    "\n",
    "alpha = 0.05\n",
    "if p_value < alpha:\n",
    "    print('Отвергаем нулевую гипотезу: средние пользовательские рейтинги жанров Action и Sports разные.')\n",
    "else:\n",
    "    print('Не отвергаем нулевую гипотезу: средние пользовательские рейтинги жанров Action и Sports не различаются.')"
   ]
  },
  {
   "cell_type": "markdown",
   "metadata": {},
   "source": [
    "*Вывод:*\n",
    "1. средние пользовательские рейтинги платформ Xbox One и PC одинаковые.\n",
    "2. средние пользовательские рейтинги жанров Action и Sports разные."
   ]
  },
  {
   "cell_type": "markdown",
   "metadata": {},
   "source": [
    "**Шаг №6**"
   ]
  },
  {
   "cell_type": "markdown",
   "metadata": {},
   "source": [
    "**Общий вывод:**\n",
    "\n",
    "В результате нашего анализа мы смогли выявить ключевые факторы успешности игр на рынке, определить перспективные платформы и жанры, а также провести обоснованную проверку гипотез. Эти выводы могут стать основой для стратегического планирования на 2017 год и помогут интернет-магазину «Стримчик».\n",
    "\n",
    "1. Изучено поведение платформ на рынке: в среднем определенная платформа выпускает игры в течении ~10-11 лет. Пик продаж и количества выпущенных игр наступал через ~3 года после выпуска первой игры.\n",
    "\n",
    "2. Изучено поведение платформ за 2015 и 2016 года: наблюдается спад продаж для всех платформ в 2016 году, по сравнению с 2015. Поценциально прибыльные платформы: PS4, 3DS, XOne.\n",
    "\n",
    "3. Изучена зависимость: между отзывами критиков и продажами игр несильная положительная статистическая связь. Между отзывами пользователей и продажами игр нет статистической связи, коэф-т корреляции близок к 0. Мнение критиков сильнее влияет на продажи, чем мнение пользователей, но сильная статистическая связь отсуствует.\n",
    "\n",
    "4. Изучены жанры игр: жанры с самым большим медианным количеством продаж: Shooter, Sports. Жанры с самым низким медианным количеством продаж: Misc, Adventure.\n",
    "\n",
    "5. Были выявлены самые популярные платформы для каждого региона: для региона NA: PS4, XOne, 3DS, WiiU, X360. Для региона EU: PS4, XOne, PC, 3DS, PS3. Для региона JP: 3DS, PS4, PSV, PS3, WiiU.\n",
    "\n",
    "6. Для регионов NA и EU самое большое количество продаж у игр с рейтингом ESRB \"M\", а у JP - с рейтингом \"неизвестен\"\n",
    "\n",
    "7. Были выявлены самые популярные жанры игр для каждого региона: для региона NA: Shooter, Action, Sports, Role-playing, Misc. Для региона EU: Shooter, Action, Sports, Role-playing, Racing. Для региона JP: Acion, Role-playing, Shooter, Misc, Adventure.\n",
    "\n",
    "8. Были сделаны выводы: средние пользовательские рейтинги платформ Xbox One и PC одинаковые. Средние пользовательские рейтинги жанров Action и Sports разные.\n"
   ]
  },
  {
   "cell_type": "code",
   "execution_count": null,
   "metadata": {},
   "outputs": [],
   "source": []
  }
 ],
 "metadata": {
  "ExecuteTimeLog": [
   {
    "duration": 391,
    "start_time": "2024-12-10T19:23:16.660Z"
   },
   {
    "duration": 203,
    "start_time": "2024-12-10T19:23:48.862Z"
   },
   {
    "duration": 13,
    "start_time": "2024-12-10T19:23:59.765Z"
   },
   {
    "duration": 71,
    "start_time": "2024-12-10T19:24:57.851Z"
   },
   {
    "duration": 4,
    "start_time": "2024-12-10T19:25:00.796Z"
   },
   {
    "duration": 5,
    "start_time": "2024-12-10T19:26:00.210Z"
   },
   {
    "duration": 14,
    "start_time": "2024-12-10T19:26:43.485Z"
   },
   {
    "duration": 17,
    "start_time": "2024-12-10T19:28:57.099Z"
   },
   {
    "duration": 13,
    "start_time": "2024-12-10T19:29:01.152Z"
   },
   {
    "duration": 6,
    "start_time": "2024-12-10T19:29:38.142Z"
   },
   {
    "duration": 18,
    "start_time": "2024-12-10T19:31:09.354Z"
   },
   {
    "duration": 12,
    "start_time": "2024-12-10T19:32:14.816Z"
   },
   {
    "duration": 6,
    "start_time": "2024-12-10T19:32:25.855Z"
   },
   {
    "duration": 21,
    "start_time": "2024-12-10T19:32:40.005Z"
   },
   {
    "duration": 8,
    "start_time": "2024-12-10T19:35:05.812Z"
   },
   {
    "duration": 9,
    "start_time": "2024-12-10T19:35:29.792Z"
   },
   {
    "duration": 3,
    "start_time": "2024-12-10T19:36:19.829Z"
   },
   {
    "duration": 26,
    "start_time": "2024-12-10T19:36:27.227Z"
   },
   {
    "duration": 11,
    "start_time": "2024-12-10T19:36:47.600Z"
   },
   {
    "duration": 19,
    "start_time": "2024-12-10T19:42:38.248Z"
   },
   {
    "duration": 25,
    "start_time": "2024-12-10T19:42:46.812Z"
   },
   {
    "duration": 6,
    "start_time": "2024-12-10T19:46:16.757Z"
   },
   {
    "duration": 4,
    "start_time": "2024-12-10T19:46:30.032Z"
   },
   {
    "duration": 9,
    "start_time": "2024-12-10T19:46:52.940Z"
   },
   {
    "duration": 19,
    "start_time": "2024-12-10T19:47:54.511Z"
   },
   {
    "duration": 10,
    "start_time": "2024-12-10T19:50:16.499Z"
   },
   {
    "duration": 8,
    "start_time": "2024-12-10T19:50:21.354Z"
   },
   {
    "duration": 16,
    "start_time": "2024-12-10T19:50:39.767Z"
   },
   {
    "duration": 11,
    "start_time": "2024-12-10T19:51:52.927Z"
   },
   {
    "duration": 4,
    "start_time": "2024-12-10T19:52:40.953Z"
   },
   {
    "duration": 18,
    "start_time": "2024-12-10T20:02:55.353Z"
   },
   {
    "duration": 9,
    "start_time": "2024-12-10T20:03:49.220Z"
   },
   {
    "duration": 20,
    "start_time": "2024-12-10T20:04:23.699Z"
   },
   {
    "duration": 6,
    "start_time": "2024-12-10T20:04:26.280Z"
   },
   {
    "duration": 6,
    "start_time": "2024-12-10T20:04:31.857Z"
   },
   {
    "duration": 27,
    "start_time": "2024-12-10T20:06:03.941Z"
   },
   {
    "duration": 7,
    "start_time": "2024-12-10T20:06:17.382Z"
   },
   {
    "duration": 6,
    "start_time": "2024-12-10T20:06:59.424Z"
   },
   {
    "duration": 11,
    "start_time": "2024-12-10T20:07:18.673Z"
   },
   {
    "duration": 49,
    "start_time": "2024-12-10T20:07:30.178Z"
   },
   {
    "duration": 384,
    "start_time": "2024-12-10T20:08:07.070Z"
   },
   {
    "duration": 67,
    "start_time": "2024-12-10T20:08:07.456Z"
   },
   {
    "duration": 13,
    "start_time": "2024-12-10T20:08:07.524Z"
   },
   {
    "duration": 18,
    "start_time": "2024-12-10T20:08:07.538Z"
   },
   {
    "duration": 14,
    "start_time": "2024-12-10T20:08:07.559Z"
   },
   {
    "duration": 43,
    "start_time": "2024-12-10T20:08:07.575Z"
   },
   {
    "duration": 22,
    "start_time": "2024-12-10T20:08:07.620Z"
   },
   {
    "duration": 29,
    "start_time": "2024-12-10T20:08:07.644Z"
   },
   {
    "duration": 49,
    "start_time": "2024-12-10T20:08:07.675Z"
   },
   {
    "duration": 20,
    "start_time": "2024-12-10T20:08:07.726Z"
   },
   {
    "duration": 20,
    "start_time": "2024-12-10T20:08:07.748Z"
   },
   {
    "duration": 36,
    "start_time": "2024-12-10T20:08:07.770Z"
   },
   {
    "duration": 28,
    "start_time": "2024-12-10T20:08:07.807Z"
   },
   {
    "duration": 5,
    "start_time": "2024-12-10T20:10:18.348Z"
   },
   {
    "duration": 13,
    "start_time": "2024-12-10T20:10:24.465Z"
   },
   {
    "duration": 63,
    "start_time": "2024-12-10T20:17:01.268Z"
   },
   {
    "duration": 405,
    "start_time": "2024-12-10T20:17:13.859Z"
   },
   {
    "duration": 22,
    "start_time": "2024-12-10T20:17:16.848Z"
   },
   {
    "duration": 273,
    "start_time": "2024-12-10T20:19:39.301Z"
   },
   {
    "duration": 316,
    "start_time": "2024-12-10T20:19:47.300Z"
   },
   {
    "duration": 324,
    "start_time": "2024-12-10T20:19:53.789Z"
   },
   {
    "duration": 287,
    "start_time": "2024-12-10T20:31:47.919Z"
   },
   {
    "duration": 12,
    "start_time": "2024-12-10T20:36:00.507Z"
   },
   {
    "duration": 12,
    "start_time": "2024-12-10T20:36:21.168Z"
   },
   {
    "duration": 12,
    "start_time": "2024-12-10T20:36:31.272Z"
   },
   {
    "duration": 12,
    "start_time": "2024-12-10T20:36:57.225Z"
   },
   {
    "duration": 12,
    "start_time": "2024-12-10T20:37:33.472Z"
   },
   {
    "duration": 10,
    "start_time": "2024-12-10T20:37:44.053Z"
   },
   {
    "duration": 12,
    "start_time": "2024-12-10T20:37:48.928Z"
   },
   {
    "duration": 761,
    "start_time": "2024-12-11T09:30:41.088Z"
   },
   {
    "duration": 120,
    "start_time": "2024-12-11T09:30:41.851Z"
   },
   {
    "duration": 15,
    "start_time": "2024-12-11T09:30:41.973Z"
   },
   {
    "duration": 23,
    "start_time": "2024-12-11T09:30:41.990Z"
   },
   {
    "duration": 68,
    "start_time": "2024-12-11T09:30:42.014Z"
   },
   {
    "duration": 25,
    "start_time": "2024-12-11T09:30:42.083Z"
   },
   {
    "duration": 34,
    "start_time": "2024-12-11T09:30:42.110Z"
   },
   {
    "duration": 30,
    "start_time": "2024-12-11T09:30:42.146Z"
   },
   {
    "duration": 30,
    "start_time": "2024-12-11T09:30:42.178Z"
   },
   {
    "duration": 21,
    "start_time": "2024-12-11T09:30:42.210Z"
   },
   {
    "duration": 26,
    "start_time": "2024-12-11T09:30:42.232Z"
   },
   {
    "duration": 26,
    "start_time": "2024-12-11T09:30:42.259Z"
   },
   {
    "duration": 26,
    "start_time": "2024-12-11T09:30:42.286Z"
   },
   {
    "duration": 26,
    "start_time": "2024-12-11T09:30:42.314Z"
   },
   {
    "duration": 355,
    "start_time": "2024-12-11T09:30:42.342Z"
   },
   {
    "duration": 12,
    "start_time": "2024-12-11T09:30:42.699Z"
   },
   {
    "duration": 11,
    "start_time": "2024-12-11T09:31:12.705Z"
   },
   {
    "duration": 13,
    "start_time": "2024-12-11T09:31:52.845Z"
   },
   {
    "duration": 4,
    "start_time": "2024-12-11T09:32:06.125Z"
   },
   {
    "duration": 15,
    "start_time": "2024-12-11T09:32:27.526Z"
   },
   {
    "duration": 71,
    "start_time": "2024-12-11T09:36:00.206Z"
   },
   {
    "duration": 26,
    "start_time": "2024-12-11T09:36:08.966Z"
   },
   {
    "duration": 8,
    "start_time": "2024-12-11T09:36:19.805Z"
   },
   {
    "duration": 6,
    "start_time": "2024-12-11T09:53:23.047Z"
   },
   {
    "duration": 11,
    "start_time": "2024-12-11T09:55:21.305Z"
   },
   {
    "duration": 11,
    "start_time": "2024-12-11T10:00:25.694Z"
   },
   {
    "duration": 15,
    "start_time": "2024-12-11T10:03:13.545Z"
   },
   {
    "duration": 16,
    "start_time": "2024-12-11T10:03:19.214Z"
   },
   {
    "duration": 16,
    "start_time": "2024-12-11T10:04:17.759Z"
   },
   {
    "duration": 653,
    "start_time": "2024-12-11T10:14:04.144Z"
   },
   {
    "duration": 67,
    "start_time": "2024-12-11T10:14:04.799Z"
   },
   {
    "duration": 14,
    "start_time": "2024-12-11T10:14:04.868Z"
   },
   {
    "duration": 21,
    "start_time": "2024-12-11T10:14:04.884Z"
   },
   {
    "duration": 42,
    "start_time": "2024-12-11T10:14:04.907Z"
   },
   {
    "duration": 30,
    "start_time": "2024-12-11T10:14:04.950Z"
   },
   {
    "duration": 29,
    "start_time": "2024-12-11T10:14:04.982Z"
   },
   {
    "duration": 24,
    "start_time": "2024-12-11T10:14:05.013Z"
   },
   {
    "duration": 33,
    "start_time": "2024-12-11T10:14:05.038Z"
   },
   {
    "duration": 23,
    "start_time": "2024-12-11T10:14:05.073Z"
   },
   {
    "duration": 30,
    "start_time": "2024-12-11T10:14:05.097Z"
   },
   {
    "duration": 38,
    "start_time": "2024-12-11T10:14:05.128Z"
   },
   {
    "duration": 35,
    "start_time": "2024-12-11T10:14:05.168Z"
   },
   {
    "duration": 40,
    "start_time": "2024-12-11T10:14:05.206Z"
   },
   {
    "duration": 343,
    "start_time": "2024-12-11T10:14:05.247Z"
   },
   {
    "duration": 11,
    "start_time": "2024-12-11T10:14:05.592Z"
   },
   {
    "duration": 99,
    "start_time": "2024-12-11T10:14:05.604Z"
   },
   {
    "duration": 21,
    "start_time": "2024-12-11T10:14:05.705Z"
   },
   {
    "duration": 34,
    "start_time": "2024-12-11T10:14:05.727Z"
   },
   {
    "duration": 21,
    "start_time": "2024-12-11T10:14:05.763Z"
   },
   {
    "duration": 14,
    "start_time": "2024-12-11T10:14:16.135Z"
   },
   {
    "duration": 14,
    "start_time": "2024-12-11T10:15:51.674Z"
   },
   {
    "duration": 14,
    "start_time": "2024-12-11T10:16:05.831Z"
   },
   {
    "duration": 15,
    "start_time": "2024-12-11T10:18:13.373Z"
   },
   {
    "duration": 15,
    "start_time": "2024-12-11T10:18:49.098Z"
   },
   {
    "duration": 10,
    "start_time": "2024-12-11T10:22:46.275Z"
   },
   {
    "duration": 814,
    "start_time": "2024-12-11T16:36:00.611Z"
   },
   {
    "duration": 127,
    "start_time": "2024-12-11T16:36:01.428Z"
   },
   {
    "duration": 15,
    "start_time": "2024-12-11T16:36:01.556Z"
   },
   {
    "duration": 101,
    "start_time": "2024-12-11T16:36:01.572Z"
   },
   {
    "duration": 14,
    "start_time": "2024-12-11T16:36:01.675Z"
   },
   {
    "duration": 58,
    "start_time": "2024-12-11T16:36:01.691Z"
   },
   {
    "duration": 132,
    "start_time": "2024-12-11T16:36:01.751Z"
   },
   {
    "duration": 25,
    "start_time": "2024-12-11T16:36:01.885Z"
   },
   {
    "duration": 22,
    "start_time": "2024-12-11T16:36:01.912Z"
   },
   {
    "duration": 39,
    "start_time": "2024-12-11T16:36:01.936Z"
   },
   {
    "duration": 11,
    "start_time": "2024-12-11T16:36:01.977Z"
   },
   {
    "duration": 14,
    "start_time": "2024-12-11T16:36:01.989Z"
   },
   {
    "duration": 159,
    "start_time": "2024-12-11T16:36:02.004Z"
   },
   {
    "duration": 25,
    "start_time": "2024-12-11T16:36:02.166Z"
   },
   {
    "duration": 347,
    "start_time": "2024-12-11T16:36:02.192Z"
   },
   {
    "duration": 11,
    "start_time": "2024-12-11T16:36:02.541Z"
   },
   {
    "duration": 28,
    "start_time": "2024-12-11T16:36:02.554Z"
   },
   {
    "duration": 720,
    "start_time": "2024-12-11T16:36:02.583Z"
   },
   {
    "duration": 82,
    "start_time": "2024-12-11T16:36:47.986Z"
   },
   {
    "duration": 695,
    "start_time": "2024-12-11T16:37:00.610Z"
   },
   {
    "duration": 676,
    "start_time": "2024-12-11T16:37:51.673Z"
   },
   {
    "duration": 665,
    "start_time": "2024-12-11T16:38:03.194Z"
   },
   {
    "duration": 11,
    "start_time": "2024-12-11T16:48:14.712Z"
   },
   {
    "duration": 3,
    "start_time": "2024-12-11T16:48:21.762Z"
   },
   {
    "duration": 77,
    "start_time": "2024-12-11T16:48:21.767Z"
   },
   {
    "duration": 14,
    "start_time": "2024-12-11T16:48:21.846Z"
   },
   {
    "duration": 30,
    "start_time": "2024-12-11T16:48:21.861Z"
   },
   {
    "duration": 11,
    "start_time": "2024-12-11T16:48:21.894Z"
   },
   {
    "duration": 21,
    "start_time": "2024-12-11T16:48:21.906Z"
   },
   {
    "duration": 23,
    "start_time": "2024-12-11T16:48:21.929Z"
   },
   {
    "duration": 21,
    "start_time": "2024-12-11T16:48:21.953Z"
   },
   {
    "duration": 23,
    "start_time": "2024-12-11T16:48:21.975Z"
   },
   {
    "duration": 7,
    "start_time": "2024-12-11T16:48:21.999Z"
   },
   {
    "duration": 18,
    "start_time": "2024-12-11T16:48:22.007Z"
   },
   {
    "duration": 3,
    "start_time": "2024-12-11T16:48:22.027Z"
   },
   {
    "duration": 19,
    "start_time": "2024-12-11T16:48:22.032Z"
   },
   {
    "duration": 16,
    "start_time": "2024-12-11T16:48:22.070Z"
   },
   {
    "duration": 487,
    "start_time": "2024-12-11T16:48:22.088Z"
   },
   {
    "duration": 12,
    "start_time": "2024-12-11T16:48:22.577Z"
   },
   {
    "duration": 670,
    "start_time": "2024-12-11T16:48:22.590Z"
   },
   {
    "duration": 643,
    "start_time": "2024-12-11T16:48:23.261Z"
   },
   {
    "duration": 7,
    "start_time": "2024-12-11T16:48:23.905Z"
   },
   {
    "duration": 14,
    "start_time": "2024-12-11T16:48:23.913Z"
   },
   {
    "duration": 15,
    "start_time": "2024-12-11T16:48:23.929Z"
   },
   {
    "duration": 350,
    "start_time": "2024-12-11T16:48:23.946Z"
   },
   {
    "duration": 357,
    "start_time": "2024-12-11T16:48:46.930Z"
   },
   {
    "duration": 406,
    "start_time": "2024-12-11T16:48:56.394Z"
   },
   {
    "duration": 336,
    "start_time": "2024-12-11T16:49:01.640Z"
   },
   {
    "duration": 426,
    "start_time": "2024-12-11T16:50:03.562Z"
   },
   {
    "duration": 325,
    "start_time": "2024-12-11T16:51:17.523Z"
   },
   {
    "duration": 339,
    "start_time": "2024-12-11T16:53:25.816Z"
   },
   {
    "duration": 340,
    "start_time": "2024-12-11T16:53:46.616Z"
   },
   {
    "duration": 16,
    "start_time": "2024-12-11T17:01:17.740Z"
   },
   {
    "duration": 11,
    "start_time": "2024-12-11T17:02:25.123Z"
   },
   {
    "duration": 11,
    "start_time": "2024-12-11T17:02:31.725Z"
   },
   {
    "duration": 5,
    "start_time": "2024-12-11T17:02:37.177Z"
   },
   {
    "duration": 6,
    "start_time": "2024-12-11T17:03:11.255Z"
   },
   {
    "duration": 647,
    "start_time": "2024-12-11T17:34:06.386Z"
   },
   {
    "duration": 71,
    "start_time": "2024-12-11T17:34:07.035Z"
   },
   {
    "duration": 15,
    "start_time": "2024-12-11T17:34:07.107Z"
   },
   {
    "duration": 8,
    "start_time": "2024-12-11T17:34:07.124Z"
   },
   {
    "duration": 20,
    "start_time": "2024-12-11T17:34:07.134Z"
   },
   {
    "duration": 28,
    "start_time": "2024-12-11T17:34:07.156Z"
   },
   {
    "duration": 29,
    "start_time": "2024-12-11T17:34:07.185Z"
   },
   {
    "duration": 19,
    "start_time": "2024-12-11T17:34:07.215Z"
   },
   {
    "duration": 37,
    "start_time": "2024-12-11T17:34:07.235Z"
   },
   {
    "duration": 8,
    "start_time": "2024-12-11T17:34:07.274Z"
   },
   {
    "duration": 22,
    "start_time": "2024-12-11T17:34:07.284Z"
   },
   {
    "duration": 4,
    "start_time": "2024-12-11T17:34:07.308Z"
   },
   {
    "duration": 22,
    "start_time": "2024-12-11T17:34:07.314Z"
   },
   {
    "duration": 31,
    "start_time": "2024-12-11T17:34:07.339Z"
   },
   {
    "duration": 351,
    "start_time": "2024-12-11T17:34:07.372Z"
   },
   {
    "duration": 11,
    "start_time": "2024-12-11T17:34:07.724Z"
   },
   {
    "duration": 646,
    "start_time": "2024-12-11T17:34:07.736Z"
   },
   {
    "duration": 690,
    "start_time": "2024-12-11T17:34:08.384Z"
   },
   {
    "duration": 6,
    "start_time": "2024-12-11T17:34:09.075Z"
   },
   {
    "duration": 16,
    "start_time": "2024-12-11T17:34:09.083Z"
   },
   {
    "duration": 16,
    "start_time": "2024-12-11T17:34:09.100Z"
   },
   {
    "duration": 355,
    "start_time": "2024-12-11T17:34:09.118Z"
   },
   {
    "duration": 173,
    "start_time": "2024-12-11T17:34:09.475Z"
   },
   {
    "duration": 156,
    "start_time": "2024-12-11T17:34:49.460Z"
   },
   {
    "duration": 4,
    "start_time": "2024-12-11T17:35:47.045Z"
   },
   {
    "duration": 5,
    "start_time": "2024-12-11T17:35:58.041Z"
   },
   {
    "duration": 3,
    "start_time": "2024-12-11T17:39:24.925Z"
   },
   {
    "duration": 6,
    "start_time": "2024-12-11T17:39:31.025Z"
   },
   {
    "duration": 6,
    "start_time": "2024-12-11T17:39:40.737Z"
   },
   {
    "duration": 192,
    "start_time": "2024-12-11T17:44:54.612Z"
   },
   {
    "duration": 191,
    "start_time": "2024-12-11T17:45:22.363Z"
   },
   {
    "duration": 129,
    "start_time": "2024-12-11T17:45:51.855Z"
   },
   {
    "duration": 187,
    "start_time": "2024-12-11T17:45:55.071Z"
   },
   {
    "duration": 186,
    "start_time": "2024-12-11T17:46:02.592Z"
   },
   {
    "duration": 50,
    "start_time": "2024-12-12T06:08:28.376Z"
   },
   {
    "duration": 774,
    "start_time": "2024-12-12T06:08:34.624Z"
   },
   {
    "duration": 225,
    "start_time": "2024-12-12T06:08:35.400Z"
   },
   {
    "duration": 15,
    "start_time": "2024-12-12T06:08:35.627Z"
   },
   {
    "duration": 15,
    "start_time": "2024-12-12T06:08:35.644Z"
   },
   {
    "duration": 16,
    "start_time": "2024-12-12T06:08:35.660Z"
   },
   {
    "duration": 32,
    "start_time": "2024-12-12T06:08:35.677Z"
   },
   {
    "duration": 28,
    "start_time": "2024-12-12T06:08:35.711Z"
   },
   {
    "duration": 25,
    "start_time": "2024-12-12T06:08:35.741Z"
   },
   {
    "duration": 23,
    "start_time": "2024-12-12T06:08:35.767Z"
   },
   {
    "duration": 5,
    "start_time": "2024-12-12T06:08:35.793Z"
   },
   {
    "duration": 9,
    "start_time": "2024-12-12T06:08:35.800Z"
   },
   {
    "duration": 50,
    "start_time": "2024-12-12T06:08:35.810Z"
   },
   {
    "duration": 11,
    "start_time": "2024-12-12T06:08:35.862Z"
   },
   {
    "duration": 25,
    "start_time": "2024-12-12T06:08:35.875Z"
   },
   {
    "duration": 313,
    "start_time": "2024-12-12T06:08:35.901Z"
   },
   {
    "duration": 11,
    "start_time": "2024-12-12T06:08:36.215Z"
   },
   {
    "duration": 657,
    "start_time": "2024-12-12T06:08:36.227Z"
   },
   {
    "duration": 643,
    "start_time": "2024-12-12T06:08:36.886Z"
   },
   {
    "duration": 5,
    "start_time": "2024-12-12T06:08:37.531Z"
   },
   {
    "duration": 10,
    "start_time": "2024-12-12T06:08:37.538Z"
   },
   {
    "duration": 14,
    "start_time": "2024-12-12T06:08:37.549Z"
   },
   {
    "duration": 325,
    "start_time": "2024-12-12T06:08:37.564Z"
   },
   {
    "duration": 154,
    "start_time": "2024-12-12T06:08:37.890Z"
   },
   {
    "duration": 152,
    "start_time": "2024-12-12T06:08:38.045Z"
   },
   {
    "duration": 4,
    "start_time": "2024-12-12T06:08:38.198Z"
   },
   {
    "duration": 5,
    "start_time": "2024-12-12T06:08:38.204Z"
   },
   {
    "duration": 10,
    "start_time": "2024-12-12T06:08:38.211Z"
   },
   {
    "duration": 195,
    "start_time": "2024-12-12T06:08:38.225Z"
   },
   {
    "duration": 12,
    "start_time": "2024-12-12T06:10:34.113Z"
   },
   {
    "duration": 9,
    "start_time": "2024-12-12T06:13:23.949Z"
   },
   {
    "duration": 26,
    "start_time": "2024-12-12T06:14:04.837Z"
   },
   {
    "duration": 31,
    "start_time": "2024-12-12T06:15:10.350Z"
   },
   {
    "duration": 37,
    "start_time": "2024-12-12T06:15:52.759Z"
   },
   {
    "duration": 31,
    "start_time": "2024-12-12T06:16:14.192Z"
   },
   {
    "duration": 26,
    "start_time": "2024-12-12T06:19:31.364Z"
   },
   {
    "duration": 29,
    "start_time": "2024-12-12T06:21:04.680Z"
   },
   {
    "duration": 32,
    "start_time": "2024-12-12T06:21:24.990Z"
   },
   {
    "duration": 87,
    "start_time": "2024-12-12T06:28:38.704Z"
   },
   {
    "duration": 34,
    "start_time": "2024-12-12T06:28:50.053Z"
   },
   {
    "duration": 36,
    "start_time": "2024-12-12T06:30:45.606Z"
   },
   {
    "duration": 11,
    "start_time": "2024-12-12T06:30:55.187Z"
   },
   {
    "duration": 11,
    "start_time": "2024-12-12T06:31:25.312Z"
   },
   {
    "duration": 10,
    "start_time": "2024-12-12T06:39:08.820Z"
   },
   {
    "duration": 10,
    "start_time": "2024-12-12T06:39:52.410Z"
   },
   {
    "duration": 10,
    "start_time": "2024-12-12T06:40:39.208Z"
   },
   {
    "duration": 12,
    "start_time": "2024-12-12T06:41:44.598Z"
   },
   {
    "duration": 153,
    "start_time": "2024-12-12T06:44:50.308Z"
   },
   {
    "duration": 1313,
    "start_time": "2024-12-12T06:49:35.566Z"
   },
   {
    "duration": 6,
    "start_time": "2024-12-12T06:49:41.952Z"
   },
   {
    "duration": 435,
    "start_time": "2024-12-12T06:51:44.307Z"
   },
   {
    "duration": 37,
    "start_time": "2024-12-12T06:51:50.381Z"
   },
   {
    "duration": 7,
    "start_time": "2024-12-12T06:52:07.110Z"
   },
   {
    "duration": 1261,
    "start_time": "2024-12-12T10:20:13.229Z"
   },
   {
    "duration": 207,
    "start_time": "2024-12-12T10:20:14.492Z"
   },
   {
    "duration": 13,
    "start_time": "2024-12-12T10:20:14.701Z"
   },
   {
    "duration": 9,
    "start_time": "2024-12-12T10:20:14.715Z"
   },
   {
    "duration": 9,
    "start_time": "2024-12-12T10:20:14.725Z"
   },
   {
    "duration": 80,
    "start_time": "2024-12-12T10:20:14.735Z"
   },
   {
    "duration": 18,
    "start_time": "2024-12-12T10:20:14.816Z"
   },
   {
    "duration": 15,
    "start_time": "2024-12-12T10:20:14.835Z"
   },
   {
    "duration": 22,
    "start_time": "2024-12-12T10:20:14.852Z"
   },
   {
    "duration": 7,
    "start_time": "2024-12-12T10:20:14.876Z"
   },
   {
    "duration": 11,
    "start_time": "2024-12-12T10:20:14.884Z"
   },
   {
    "duration": 11,
    "start_time": "2024-12-12T10:20:14.897Z"
   },
   {
    "duration": 4,
    "start_time": "2024-12-12T10:20:14.909Z"
   },
   {
    "duration": 38,
    "start_time": "2024-12-12T10:20:14.915Z"
   },
   {
    "duration": 305,
    "start_time": "2024-12-12T10:20:14.955Z"
   },
   {
    "duration": 11,
    "start_time": "2024-12-12T10:20:15.262Z"
   },
   {
    "duration": 654,
    "start_time": "2024-12-12T10:20:15.274Z"
   },
   {
    "duration": 563,
    "start_time": "2024-12-12T10:20:15.929Z"
   },
   {
    "duration": 6,
    "start_time": "2024-12-12T10:20:16.493Z"
   },
   {
    "duration": 51,
    "start_time": "2024-12-12T10:20:16.501Z"
   },
   {
    "duration": 19,
    "start_time": "2024-12-12T10:20:16.554Z"
   },
   {
    "duration": 347,
    "start_time": "2024-12-12T10:20:16.575Z"
   },
   {
    "duration": 155,
    "start_time": "2024-12-12T10:20:16.924Z"
   },
   {
    "duration": 208,
    "start_time": "2024-12-12T10:20:17.080Z"
   },
   {
    "duration": 4,
    "start_time": "2024-12-12T10:20:17.290Z"
   },
   {
    "duration": 25,
    "start_time": "2024-12-12T10:20:17.296Z"
   },
   {
    "duration": 13,
    "start_time": "2024-12-12T10:20:17.322Z"
   },
   {
    "duration": 171,
    "start_time": "2024-12-12T10:20:17.336Z"
   },
   {
    "duration": 105,
    "start_time": "2024-12-12T10:20:17.508Z"
   },
   {
    "duration": 0,
    "start_time": "2024-12-12T10:20:17.614Z"
   },
   {
    "duration": 0,
    "start_time": "2024-12-12T10:20:17.615Z"
   },
   {
    "duration": 0,
    "start_time": "2024-12-12T10:20:17.616Z"
   },
   {
    "duration": 0,
    "start_time": "2024-12-12T10:20:17.617Z"
   },
   {
    "duration": 0,
    "start_time": "2024-12-12T10:20:17.618Z"
   },
   {
    "duration": 10,
    "start_time": "2024-12-12T10:20:57.845Z"
   },
   {
    "duration": 12,
    "start_time": "2024-12-12T10:21:03.144Z"
   },
   {
    "duration": 34,
    "start_time": "2024-12-12T10:21:03.776Z"
   },
   {
    "duration": 11,
    "start_time": "2024-12-12T10:21:08.358Z"
   },
   {
    "duration": 13,
    "start_time": "2024-12-12T10:21:10.551Z"
   },
   {
    "duration": 9,
    "start_time": "2024-12-12T10:21:26.124Z"
   },
   {
    "duration": 7,
    "start_time": "2024-12-12T10:21:37.727Z"
   },
   {
    "duration": 7,
    "start_time": "2024-12-12T10:21:46.621Z"
   },
   {
    "duration": 6,
    "start_time": "2024-12-12T10:22:15.474Z"
   },
   {
    "duration": 1373,
    "start_time": "2024-12-12T10:23:40.416Z"
   },
   {
    "duration": 6,
    "start_time": "2024-12-12T10:23:48.673Z"
   },
   {
    "duration": 7,
    "start_time": "2024-12-12T10:24:55.324Z"
   },
   {
    "duration": 12,
    "start_time": "2024-12-12T10:26:53.701Z"
   },
   {
    "duration": 9,
    "start_time": "2024-12-12T10:27:39.312Z"
   },
   {
    "duration": 9,
    "start_time": "2024-12-12T10:29:08.394Z"
   },
   {
    "duration": 1001,
    "start_time": "2024-12-12T10:52:07.243Z"
   },
   {
    "duration": 66,
    "start_time": "2024-12-12T10:52:08.245Z"
   },
   {
    "duration": 12,
    "start_time": "2024-12-12T10:52:08.313Z"
   },
   {
    "duration": 3,
    "start_time": "2024-12-12T10:52:08.327Z"
   },
   {
    "duration": 12,
    "start_time": "2024-12-12T10:52:08.332Z"
   },
   {
    "duration": 13,
    "start_time": "2024-12-12T10:52:08.345Z"
   },
   {
    "duration": 29,
    "start_time": "2024-12-12T10:52:08.360Z"
   },
   {
    "duration": 24,
    "start_time": "2024-12-12T10:52:08.390Z"
   },
   {
    "duration": 20,
    "start_time": "2024-12-12T10:52:08.415Z"
   },
   {
    "duration": 7,
    "start_time": "2024-12-12T10:52:08.437Z"
   },
   {
    "duration": 14,
    "start_time": "2024-12-12T10:52:08.445Z"
   },
   {
    "duration": 3,
    "start_time": "2024-12-12T10:52:08.460Z"
   },
   {
    "duration": 4,
    "start_time": "2024-12-12T10:52:08.464Z"
   },
   {
    "duration": 21,
    "start_time": "2024-12-12T10:52:08.469Z"
   },
   {
    "duration": 304,
    "start_time": "2024-12-12T10:52:08.491Z"
   },
   {
    "duration": 15,
    "start_time": "2024-12-12T10:52:08.796Z"
   },
   {
    "duration": 546,
    "start_time": "2024-12-12T10:52:08.813Z"
   },
   {
    "duration": 577,
    "start_time": "2024-12-12T10:52:09.360Z"
   },
   {
    "duration": 6,
    "start_time": "2024-12-12T10:52:09.938Z"
   },
   {
    "duration": 18,
    "start_time": "2024-12-12T10:52:09.946Z"
   },
   {
    "duration": 15,
    "start_time": "2024-12-12T10:52:09.965Z"
   },
   {
    "duration": 317,
    "start_time": "2024-12-12T10:52:09.981Z"
   },
   {
    "duration": 154,
    "start_time": "2024-12-12T10:52:10.300Z"
   },
   {
    "duration": 203,
    "start_time": "2024-12-12T10:52:10.455Z"
   },
   {
    "duration": 5,
    "start_time": "2024-12-12T10:52:10.660Z"
   },
   {
    "duration": 16,
    "start_time": "2024-12-12T10:52:10.667Z"
   },
   {
    "duration": 8,
    "start_time": "2024-12-12T10:52:10.684Z"
   },
   {
    "duration": 164,
    "start_time": "2024-12-12T10:52:10.696Z"
   },
   {
    "duration": 9,
    "start_time": "2024-12-12T10:52:10.862Z"
   },
   {
    "duration": 37,
    "start_time": "2024-12-12T10:52:10.872Z"
   },
   {
    "duration": 37,
    "start_time": "2024-12-12T10:52:10.911Z"
   },
   {
    "duration": 9,
    "start_time": "2024-12-12T10:52:10.949Z"
   },
   {
    "duration": 10,
    "start_time": "2024-12-12T10:52:10.960Z"
   },
   {
    "duration": 35,
    "start_time": "2024-12-12T10:52:10.971Z"
   },
   {
    "duration": 9,
    "start_time": "2024-12-12T10:52:11.007Z"
   },
   {
    "duration": 51,
    "start_time": "2024-12-12T12:23:12.547Z"
   },
   {
    "duration": 1207,
    "start_time": "2024-12-12T12:23:25.142Z"
   },
   {
    "duration": 209,
    "start_time": "2024-12-12T12:23:26.351Z"
   },
   {
    "duration": 12,
    "start_time": "2024-12-12T12:23:26.562Z"
   },
   {
    "duration": 4,
    "start_time": "2024-12-12T12:23:26.575Z"
   },
   {
    "duration": 17,
    "start_time": "2024-12-12T12:23:26.581Z"
   },
   {
    "duration": 16,
    "start_time": "2024-12-12T12:23:26.600Z"
   },
   {
    "duration": 72,
    "start_time": "2024-12-12T12:23:26.617Z"
   },
   {
    "duration": 24,
    "start_time": "2024-12-12T12:23:26.691Z"
   },
   {
    "duration": 36,
    "start_time": "2024-12-12T12:23:26.716Z"
   },
   {
    "duration": 5,
    "start_time": "2024-12-12T12:23:26.754Z"
   },
   {
    "duration": 63,
    "start_time": "2024-12-12T12:23:26.761Z"
   },
   {
    "duration": 38,
    "start_time": "2024-12-12T12:23:26.826Z"
   },
   {
    "duration": 21,
    "start_time": "2024-12-12T12:23:26.866Z"
   },
   {
    "duration": 17,
    "start_time": "2024-12-12T12:23:26.889Z"
   },
   {
    "duration": 297,
    "start_time": "2024-12-12T12:23:26.908Z"
   },
   {
    "duration": 11,
    "start_time": "2024-12-12T12:23:27.210Z"
   },
   {
    "duration": 676,
    "start_time": "2024-12-12T12:23:27.222Z"
   },
   {
    "duration": 577,
    "start_time": "2024-12-12T12:23:27.900Z"
   },
   {
    "duration": 6,
    "start_time": "2024-12-12T12:23:28.479Z"
   },
   {
    "duration": 24,
    "start_time": "2024-12-12T12:23:28.487Z"
   },
   {
    "duration": 13,
    "start_time": "2024-12-12T12:23:28.512Z"
   },
   {
    "duration": 308,
    "start_time": "2024-12-12T12:23:28.527Z"
   },
   {
    "duration": 148,
    "start_time": "2024-12-12T12:23:28.836Z"
   },
   {
    "duration": 207,
    "start_time": "2024-12-12T12:23:28.985Z"
   },
   {
    "duration": 55,
    "start_time": "2024-12-12T12:24:12.472Z"
   },
   {
    "duration": 85,
    "start_time": "2024-12-12T12:25:35.739Z"
   },
   {
    "duration": 61,
    "start_time": "2024-12-12T12:28:33.647Z"
   },
   {
    "duration": 18,
    "start_time": "2024-12-12T12:28:48.223Z"
   },
   {
    "duration": 4,
    "start_time": "2024-12-12T12:32:02.478Z"
   },
   {
    "duration": 13,
    "start_time": "2024-12-12T12:32:08.589Z"
   },
   {
    "duration": 6,
    "start_time": "2024-12-12T12:33:14.110Z"
   },
   {
    "duration": 5,
    "start_time": "2024-12-12T12:33:53.548Z"
   },
   {
    "duration": 5,
    "start_time": "2024-12-12T12:34:18.783Z"
   },
   {
    "duration": 5,
    "start_time": "2024-12-12T12:34:31.497Z"
   },
   {
    "duration": 5,
    "start_time": "2024-12-12T12:34:36.791Z"
   },
   {
    "duration": 222,
    "start_time": "2024-12-12T12:40:29.446Z"
   },
   {
    "duration": 9,
    "start_time": "2024-12-12T12:41:22.089Z"
   },
   {
    "duration": 19,
    "start_time": "2024-12-12T12:41:32.589Z"
   },
   {
    "duration": 1043,
    "start_time": "2024-12-12T12:41:42.089Z"
   },
   {
    "duration": 67,
    "start_time": "2024-12-12T12:41:43.134Z"
   },
   {
    "duration": 12,
    "start_time": "2024-12-12T12:41:43.202Z"
   },
   {
    "duration": 5,
    "start_time": "2024-12-12T12:41:43.216Z"
   },
   {
    "duration": 26,
    "start_time": "2024-12-12T12:41:43.222Z"
   },
   {
    "duration": 19,
    "start_time": "2024-12-12T12:41:43.249Z"
   },
   {
    "duration": 21,
    "start_time": "2024-12-12T12:41:43.269Z"
   },
   {
    "duration": 20,
    "start_time": "2024-12-12T12:41:43.291Z"
   },
   {
    "duration": 19,
    "start_time": "2024-12-12T12:41:43.313Z"
   },
   {
    "duration": 6,
    "start_time": "2024-12-12T12:41:43.335Z"
   },
   {
    "duration": 9,
    "start_time": "2024-12-12T12:41:43.342Z"
   },
   {
    "duration": 4,
    "start_time": "2024-12-12T12:41:43.352Z"
   },
   {
    "duration": 13,
    "start_time": "2024-12-12T12:41:43.357Z"
   },
   {
    "duration": 13,
    "start_time": "2024-12-12T12:41:43.371Z"
   },
   {
    "duration": 40,
    "start_time": "2024-12-12T12:41:43.385Z"
   },
   {
    "duration": 4,
    "start_time": "2024-12-12T12:41:43.427Z"
   },
   {
    "duration": 20,
    "start_time": "2024-12-12T12:41:43.432Z"
   },
   {
    "duration": 6,
    "start_time": "2024-12-12T12:41:43.454Z"
   },
   {
    "duration": 10,
    "start_time": "2024-12-12T12:41:43.462Z"
   },
   {
    "duration": 303,
    "start_time": "2024-12-12T12:41:43.473Z"
   },
   {
    "duration": 10,
    "start_time": "2024-12-12T12:41:43.777Z"
   },
   {
    "duration": 568,
    "start_time": "2024-12-12T12:41:43.789Z"
   },
   {
    "duration": 575,
    "start_time": "2024-12-12T12:41:44.359Z"
   },
   {
    "duration": 6,
    "start_time": "2024-12-12T12:41:44.935Z"
   },
   {
    "duration": 28,
    "start_time": "2024-12-12T12:41:44.942Z"
   },
   {
    "duration": 14,
    "start_time": "2024-12-12T12:41:44.971Z"
   },
   {
    "duration": 97,
    "start_time": "2024-12-12T12:41:44.986Z"
   },
   {
    "duration": 0,
    "start_time": "2024-12-12T12:41:45.084Z"
   },
   {
    "duration": 334,
    "start_time": "2024-12-12T12:41:54.579Z"
   },
   {
    "duration": 11,
    "start_time": "2024-12-12T12:42:29.740Z"
   },
   {
    "duration": 13,
    "start_time": "2024-12-12T12:42:36.124Z"
   },
   {
    "duration": 365,
    "start_time": "2024-12-12T12:42:42.050Z"
   },
   {
    "duration": 362,
    "start_time": "2024-12-12T12:44:57.050Z"
   },
   {
    "duration": 355,
    "start_time": "2024-12-12T12:45:01.370Z"
   },
   {
    "duration": 357,
    "start_time": "2024-12-12T12:45:06.791Z"
   },
   {
    "duration": 325,
    "start_time": "2024-12-12T12:45:19.096Z"
   },
   {
    "duration": 9,
    "start_time": "2024-12-12T12:46:53.382Z"
   },
   {
    "duration": 314,
    "start_time": "2024-12-12T12:47:02.497Z"
   },
   {
    "duration": 1042,
    "start_time": "2024-12-12T12:54:20.893Z"
   },
   {
    "duration": 64,
    "start_time": "2024-12-12T12:54:21.937Z"
   },
   {
    "duration": 11,
    "start_time": "2024-12-12T12:54:22.003Z"
   },
   {
    "duration": 11,
    "start_time": "2024-12-12T12:54:22.016Z"
   },
   {
    "duration": 10,
    "start_time": "2024-12-12T12:54:22.028Z"
   },
   {
    "duration": 12,
    "start_time": "2024-12-12T12:54:22.039Z"
   },
   {
    "duration": 15,
    "start_time": "2024-12-12T12:54:22.052Z"
   },
   {
    "duration": 14,
    "start_time": "2024-12-12T12:54:22.068Z"
   },
   {
    "duration": 39,
    "start_time": "2024-12-12T12:54:22.083Z"
   },
   {
    "duration": 6,
    "start_time": "2024-12-12T12:54:22.124Z"
   },
   {
    "duration": 17,
    "start_time": "2024-12-12T12:54:22.131Z"
   },
   {
    "duration": 3,
    "start_time": "2024-12-12T12:54:22.149Z"
   },
   {
    "duration": 8,
    "start_time": "2024-12-12T12:54:22.154Z"
   },
   {
    "duration": 20,
    "start_time": "2024-12-12T12:54:22.163Z"
   },
   {
    "duration": 27,
    "start_time": "2024-12-12T12:54:22.184Z"
   },
   {
    "duration": 5,
    "start_time": "2024-12-12T12:54:22.212Z"
   },
   {
    "duration": 13,
    "start_time": "2024-12-12T12:54:22.218Z"
   },
   {
    "duration": 4,
    "start_time": "2024-12-12T12:54:22.232Z"
   },
   {
    "duration": 5,
    "start_time": "2024-12-12T12:54:22.238Z"
   },
   {
    "duration": 315,
    "start_time": "2024-12-12T12:54:22.244Z"
   },
   {
    "duration": 10,
    "start_time": "2024-12-12T12:54:22.561Z"
   },
   {
    "duration": 562,
    "start_time": "2024-12-12T12:54:22.572Z"
   },
   {
    "duration": 593,
    "start_time": "2024-12-12T12:54:23.136Z"
   },
   {
    "duration": 6,
    "start_time": "2024-12-12T12:54:23.731Z"
   },
   {
    "duration": 12,
    "start_time": "2024-12-12T12:54:23.738Z"
   },
   {
    "duration": 12,
    "start_time": "2024-12-12T12:54:23.751Z"
   },
   {
    "duration": 347,
    "start_time": "2024-12-12T12:54:23.764Z"
   },
   {
    "duration": 326,
    "start_time": "2024-12-12T12:54:24.115Z"
   },
   {
    "duration": 103,
    "start_time": "2024-12-12T12:54:24.443Z"
   },
   {
    "duration": 0,
    "start_time": "2024-12-12T12:54:24.548Z"
   },
   {
    "duration": 0,
    "start_time": "2024-12-12T12:54:24.549Z"
   },
   {
    "duration": 0,
    "start_time": "2024-12-12T12:54:24.550Z"
   },
   {
    "duration": 0,
    "start_time": "2024-12-12T12:54:24.551Z"
   },
   {
    "duration": 0,
    "start_time": "2024-12-12T12:54:24.552Z"
   },
   {
    "duration": 0,
    "start_time": "2024-12-12T12:54:24.553Z"
   },
   {
    "duration": 0,
    "start_time": "2024-12-12T12:54:24.554Z"
   },
   {
    "duration": 0,
    "start_time": "2024-12-12T12:54:24.555Z"
   },
   {
    "duration": 0,
    "start_time": "2024-12-12T12:54:24.556Z"
   },
   {
    "duration": 0,
    "start_time": "2024-12-12T12:54:24.557Z"
   },
   {
    "duration": 0,
    "start_time": "2024-12-12T12:54:24.557Z"
   },
   {
    "duration": 0,
    "start_time": "2024-12-12T12:54:24.558Z"
   },
   {
    "duration": 12,
    "start_time": "2024-12-12T12:55:46.230Z"
   },
   {
    "duration": 219,
    "start_time": "2024-12-12T12:55:52.886Z"
   },
   {
    "duration": 188,
    "start_time": "2024-12-12T12:55:59.148Z"
   },
   {
    "duration": 5,
    "start_time": "2024-12-12T12:56:08.250Z"
   },
   {
    "duration": 6,
    "start_time": "2024-12-12T12:56:08.955Z"
   },
   {
    "duration": 7,
    "start_time": "2024-12-12T14:15:39.173Z"
   },
   {
    "duration": 58,
    "start_time": "2024-12-12T18:58:29.776Z"
   },
   {
    "duration": 1383,
    "start_time": "2024-12-12T18:58:37.836Z"
   },
   {
    "duration": 126,
    "start_time": "2024-12-12T18:58:39.221Z"
   },
   {
    "duration": 17,
    "start_time": "2024-12-12T18:58:39.349Z"
   },
   {
    "duration": 5,
    "start_time": "2024-12-12T18:58:39.368Z"
   },
   {
    "duration": 10,
    "start_time": "2024-12-12T18:58:39.375Z"
   },
   {
    "duration": 34,
    "start_time": "2024-12-12T18:58:39.386Z"
   },
   {
    "duration": 28,
    "start_time": "2024-12-12T18:58:39.422Z"
   },
   {
    "duration": 19,
    "start_time": "2024-12-12T18:58:39.452Z"
   },
   {
    "duration": 45,
    "start_time": "2024-12-12T18:58:39.473Z"
   },
   {
    "duration": 11,
    "start_time": "2024-12-12T18:58:39.519Z"
   },
   {
    "duration": 13,
    "start_time": "2024-12-12T18:58:39.532Z"
   },
   {
    "duration": 5,
    "start_time": "2024-12-12T18:58:39.547Z"
   },
   {
    "duration": 6,
    "start_time": "2024-12-12T18:58:39.554Z"
   },
   {
    "duration": 52,
    "start_time": "2024-12-12T18:58:39.563Z"
   },
   {
    "duration": 22,
    "start_time": "2024-12-12T18:58:39.617Z"
   },
   {
    "duration": 6,
    "start_time": "2024-12-12T18:58:39.641Z"
   },
   {
    "duration": 17,
    "start_time": "2024-12-12T18:58:39.648Z"
   },
   {
    "duration": 5,
    "start_time": "2024-12-12T18:58:39.667Z"
   },
   {
    "duration": 43,
    "start_time": "2024-12-12T18:58:39.674Z"
   },
   {
    "duration": 365,
    "start_time": "2024-12-12T18:58:39.719Z"
   },
   {
    "duration": 13,
    "start_time": "2024-12-12T18:58:40.086Z"
   },
   {
    "duration": 752,
    "start_time": "2024-12-12T18:58:40.115Z"
   },
   {
    "duration": 766,
    "start_time": "2024-12-12T18:58:40.870Z"
   },
   {
    "duration": 6,
    "start_time": "2024-12-12T18:58:41.638Z"
   },
   {
    "duration": 63,
    "start_time": "2024-12-12T18:58:41.646Z"
   },
   {
    "duration": 22,
    "start_time": "2024-12-12T18:58:41.711Z"
   },
   {
    "duration": 386,
    "start_time": "2024-12-12T18:58:41.735Z"
   },
   {
    "duration": 406,
    "start_time": "2024-12-12T18:58:42.123Z"
   },
   {
    "duration": 275,
    "start_time": "2024-12-12T18:58:42.531Z"
   },
   {
    "duration": 169,
    "start_time": "2024-12-12T18:58:42.808Z"
   },
   {
    "duration": 5,
    "start_time": "2024-12-12T18:58:42.979Z"
   },
   {
    "duration": 6,
    "start_time": "2024-12-12T18:58:42.985Z"
   },
   {
    "duration": 23,
    "start_time": "2024-12-12T18:58:42.993Z"
   },
   {
    "duration": 165,
    "start_time": "2024-12-12T19:00:15.456Z"
   },
   {
    "duration": 327,
    "start_time": "2024-12-12T19:07:14.178Z"
   },
   {
    "duration": 317,
    "start_time": "2024-12-12T19:07:51.950Z"
   },
   {
    "duration": 157,
    "start_time": "2024-12-12T19:08:12.481Z"
   },
   {
    "duration": 167,
    "start_time": "2024-12-12T19:08:21.121Z"
   },
   {
    "duration": 4,
    "start_time": "2024-12-12T19:09:52.775Z"
   },
   {
    "duration": 311,
    "start_time": "2024-12-12T19:11:50.106Z"
   },
   {
    "duration": 418,
    "start_time": "2024-12-12T19:12:21.813Z"
   },
   {
    "duration": 342,
    "start_time": "2024-12-12T19:12:49.276Z"
   },
   {
    "duration": 309,
    "start_time": "2024-12-12T19:16:10.230Z"
   },
   {
    "duration": 185,
    "start_time": "2024-12-12T19:17:29.696Z"
   },
   {
    "duration": 363,
    "start_time": "2024-12-12T19:19:35.216Z"
   },
   {
    "duration": 110,
    "start_time": "2024-12-12T19:20:18.389Z"
   },
   {
    "duration": 386,
    "start_time": "2024-12-12T19:20:20.745Z"
   },
   {
    "duration": 307,
    "start_time": "2024-12-12T19:20:43.415Z"
   },
   {
    "duration": 605,
    "start_time": "2024-12-12T19:23:45.638Z"
   },
   {
    "duration": 332,
    "start_time": "2024-12-12T19:24:15.456Z"
   },
   {
    "duration": 312,
    "start_time": "2024-12-12T19:24:27.024Z"
   },
   {
    "duration": 913,
    "start_time": "2024-12-12T19:24:39.982Z"
   },
   {
    "duration": 753,
    "start_time": "2024-12-12T19:25:08.520Z"
   },
   {
    "duration": 435,
    "start_time": "2024-12-12T19:26:39.055Z"
   },
   {
    "duration": 91,
    "start_time": "2024-12-12T19:28:06.464Z"
   },
   {
    "duration": 11,
    "start_time": "2024-12-12T19:29:32.410Z"
   },
   {
    "duration": 15,
    "start_time": "2024-12-12T19:29:33.254Z"
   },
   {
    "duration": 38,
    "start_time": "2024-12-12T19:29:35.116Z"
   },
   {
    "duration": 37,
    "start_time": "2024-12-12T19:29:47.049Z"
   },
   {
    "duration": 40,
    "start_time": "2024-12-12T19:30:00.472Z"
   },
   {
    "duration": 52,
    "start_time": "2024-12-12T19:30:17.969Z"
   },
   {
    "duration": 8,
    "start_time": "2024-12-12T19:30:25.279Z"
   },
   {
    "duration": 60,
    "start_time": "2024-12-12T19:30:30.061Z"
   },
   {
    "duration": 11,
    "start_time": "2024-12-12T19:31:36.400Z"
   },
   {
    "duration": 13,
    "start_time": "2024-12-12T19:35:34.522Z"
   },
   {
    "duration": 14,
    "start_time": "2024-12-12T19:36:23.939Z"
   },
   {
    "duration": 12,
    "start_time": "2024-12-12T19:36:51.419Z"
   },
   {
    "duration": 15,
    "start_time": "2024-12-12T19:37:54.158Z"
   },
   {
    "duration": 1146,
    "start_time": "2024-12-12T19:38:08.780Z"
   },
   {
    "duration": 77,
    "start_time": "2024-12-12T19:38:09.928Z"
   },
   {
    "duration": 24,
    "start_time": "2024-12-12T19:38:10.007Z"
   },
   {
    "duration": 28,
    "start_time": "2024-12-12T19:38:10.033Z"
   },
   {
    "duration": 29,
    "start_time": "2024-12-12T19:38:10.063Z"
   },
   {
    "duration": 39,
    "start_time": "2024-12-12T19:38:10.094Z"
   },
   {
    "duration": 51,
    "start_time": "2024-12-12T19:38:10.135Z"
   },
   {
    "duration": 24,
    "start_time": "2024-12-12T19:38:10.188Z"
   },
   {
    "duration": 27,
    "start_time": "2024-12-12T19:38:10.214Z"
   },
   {
    "duration": 11,
    "start_time": "2024-12-12T19:38:10.243Z"
   },
   {
    "duration": 46,
    "start_time": "2024-12-12T19:38:10.255Z"
   },
   {
    "duration": 5,
    "start_time": "2024-12-12T19:38:10.304Z"
   },
   {
    "duration": 16,
    "start_time": "2024-12-12T19:38:10.310Z"
   },
   {
    "duration": 31,
    "start_time": "2024-12-12T19:38:10.330Z"
   },
   {
    "duration": 75,
    "start_time": "2024-12-12T19:38:10.363Z"
   },
   {
    "duration": 14,
    "start_time": "2024-12-12T19:38:10.440Z"
   },
   {
    "duration": 17,
    "start_time": "2024-12-12T19:38:10.456Z"
   },
   {
    "duration": 6,
    "start_time": "2024-12-12T19:38:10.475Z"
   },
   {
    "duration": 10,
    "start_time": "2024-12-12T19:38:10.483Z"
   },
   {
    "duration": 378,
    "start_time": "2024-12-12T19:38:10.495Z"
   },
   {
    "duration": 13,
    "start_time": "2024-12-12T19:38:10.875Z"
   },
   {
    "duration": 718,
    "start_time": "2024-12-12T19:38:10.890Z"
   },
   {
    "duration": 716,
    "start_time": "2024-12-12T19:38:11.610Z"
   },
   {
    "duration": 6,
    "start_time": "2024-12-12T19:38:12.328Z"
   },
   {
    "duration": 14,
    "start_time": "2024-12-12T19:38:12.335Z"
   },
   {
    "duration": 23,
    "start_time": "2024-12-12T19:38:12.350Z"
   },
   {
    "duration": 380,
    "start_time": "2024-12-12T19:38:12.374Z"
   },
   {
    "duration": 391,
    "start_time": "2024-12-12T19:38:12.756Z"
   },
   {
    "duration": 269,
    "start_time": "2024-12-12T19:38:13.149Z"
   },
   {
    "duration": 172,
    "start_time": "2024-12-12T19:38:13.419Z"
   },
   {
    "duration": 5,
    "start_time": "2024-12-12T19:38:13.593Z"
   },
   {
    "duration": 17,
    "start_time": "2024-12-12T19:38:13.600Z"
   },
   {
    "duration": 7,
    "start_time": "2024-12-12T19:38:13.618Z"
   },
   {
    "duration": 318,
    "start_time": "2024-12-12T19:38:13.627Z"
   },
   {
    "duration": 340,
    "start_time": "2024-12-12T19:38:13.947Z"
   },
   {
    "duration": 316,
    "start_time": "2024-12-12T19:38:14.289Z"
   },
   {
    "duration": 315,
    "start_time": "2024-12-12T19:38:14.607Z"
   },
   {
    "duration": 462,
    "start_time": "2024-12-12T19:38:14.924Z"
   },
   {
    "duration": 194,
    "start_time": "2024-12-12T19:38:15.387Z"
   },
   {
    "duration": 488,
    "start_time": "2024-12-12T19:38:15.582Z"
   },
   {
    "duration": 10,
    "start_time": "2024-12-12T19:38:16.074Z"
   },
   {
    "duration": 14,
    "start_time": "2024-12-12T19:38:16.086Z"
   },
   {
    "duration": 88,
    "start_time": "2024-12-12T19:38:16.114Z"
   },
   {
    "duration": 11,
    "start_time": "2024-12-12T19:38:16.203Z"
   },
   {
    "duration": 10,
    "start_time": "2024-12-12T19:38:16.216Z"
   },
   {
    "duration": 14,
    "start_time": "2024-12-12T19:38:19.953Z"
   },
   {
    "duration": 17,
    "start_time": "2024-12-12T19:38:36.376Z"
   },
   {
    "duration": 217,
    "start_time": "2024-12-12T19:39:12.608Z"
   },
   {
    "duration": 58,
    "start_time": "2024-12-12T19:39:30.736Z"
   },
   {
    "duration": 507,
    "start_time": "2024-12-12T19:39:41.810Z"
   },
   {
    "duration": 471,
    "start_time": "2024-12-12T19:40:00.072Z"
   },
   {
    "duration": 584,
    "start_time": "2024-12-12T19:40:07.992Z"
   },
   {
    "duration": 480,
    "start_time": "2024-12-12T19:41:26.951Z"
   },
   {
    "duration": 510,
    "start_time": "2024-12-12T19:41:39.866Z"
   },
   {
    "duration": 4,
    "start_time": "2024-12-12T19:44:09.002Z"
   },
   {
    "duration": 8,
    "start_time": "2024-12-12T19:46:41.584Z"
   },
   {
    "duration": 8,
    "start_time": "2024-12-12T19:46:58.881Z"
   },
   {
    "duration": 95,
    "start_time": "2024-12-12T20:00:37.242Z"
   },
   {
    "duration": 1323,
    "start_time": "2024-12-12T20:26:36.008Z"
   },
   {
    "duration": 138,
    "start_time": "2024-12-12T20:26:37.333Z"
   },
   {
    "duration": 15,
    "start_time": "2024-12-12T20:26:37.473Z"
   },
   {
    "duration": 4,
    "start_time": "2024-12-12T20:26:37.490Z"
   },
   {
    "duration": 10,
    "start_time": "2024-12-12T20:26:37.496Z"
   },
   {
    "duration": 27,
    "start_time": "2024-12-12T20:26:37.507Z"
   },
   {
    "duration": 37,
    "start_time": "2024-12-12T20:26:37.535Z"
   },
   {
    "duration": 19,
    "start_time": "2024-12-12T20:26:37.573Z"
   },
   {
    "duration": 20,
    "start_time": "2024-12-12T20:26:37.594Z"
   },
   {
    "duration": 9,
    "start_time": "2024-12-12T20:26:37.616Z"
   },
   {
    "duration": 11,
    "start_time": "2024-12-12T20:26:37.626Z"
   },
   {
    "duration": 31,
    "start_time": "2024-12-12T20:26:37.639Z"
   },
   {
    "duration": 20,
    "start_time": "2024-12-12T20:26:37.672Z"
   },
   {
    "duration": 16,
    "start_time": "2024-12-12T20:26:37.695Z"
   },
   {
    "duration": 19,
    "start_time": "2024-12-12T20:26:37.712Z"
   },
   {
    "duration": 4,
    "start_time": "2024-12-12T20:26:37.733Z"
   },
   {
    "duration": 14,
    "start_time": "2024-12-12T20:26:37.738Z"
   },
   {
    "duration": 5,
    "start_time": "2024-12-12T20:26:37.770Z"
   },
   {
    "duration": 6,
    "start_time": "2024-12-12T20:26:37.776Z"
   },
   {
    "duration": 360,
    "start_time": "2024-12-12T20:26:37.783Z"
   },
   {
    "duration": 11,
    "start_time": "2024-12-12T20:26:38.145Z"
   },
   {
    "duration": 748,
    "start_time": "2024-12-12T20:26:38.157Z"
   },
   {
    "duration": 658,
    "start_time": "2024-12-12T20:26:38.907Z"
   },
   {
    "duration": 6,
    "start_time": "2024-12-12T20:26:39.569Z"
   },
   {
    "duration": 12,
    "start_time": "2024-12-12T20:26:39.577Z"
   },
   {
    "duration": 14,
    "start_time": "2024-12-12T20:26:39.590Z"
   },
   {
    "duration": 364,
    "start_time": "2024-12-12T20:26:39.606Z"
   },
   {
    "duration": 345,
    "start_time": "2024-12-12T20:26:39.972Z"
   },
   {
    "duration": 264,
    "start_time": "2024-12-12T20:26:40.319Z"
   },
   {
    "duration": 176,
    "start_time": "2024-12-12T20:26:40.584Z"
   },
   {
    "duration": 12,
    "start_time": "2024-12-12T20:26:40.761Z"
   },
   {
    "duration": 16,
    "start_time": "2024-12-12T20:26:40.774Z"
   },
   {
    "duration": 21,
    "start_time": "2024-12-12T20:26:40.792Z"
   },
   {
    "duration": 308,
    "start_time": "2024-12-12T20:26:40.815Z"
   },
   {
    "duration": 330,
    "start_time": "2024-12-12T20:26:41.125Z"
   },
   {
    "duration": 317,
    "start_time": "2024-12-12T20:26:41.456Z"
   },
   {
    "duration": 305,
    "start_time": "2024-12-12T20:26:41.775Z"
   },
   {
    "duration": 404,
    "start_time": "2024-12-12T20:26:42.082Z"
   },
   {
    "duration": 197,
    "start_time": "2024-12-12T20:26:42.488Z"
   },
   {
    "duration": 455,
    "start_time": "2024-12-12T20:26:42.686Z"
   },
   {
    "duration": 12,
    "start_time": "2024-12-12T20:26:43.144Z"
   },
   {
    "duration": 23,
    "start_time": "2024-12-12T20:26:43.158Z"
   },
   {
    "duration": 56,
    "start_time": "2024-12-12T20:26:43.182Z"
   },
   {
    "duration": 32,
    "start_time": "2024-12-12T20:26:43.240Z"
   },
   {
    "duration": 15,
    "start_time": "2024-12-12T20:26:43.273Z"
   },
   {
    "duration": 221,
    "start_time": "2024-12-12T20:26:43.290Z"
   },
   {
    "duration": 0,
    "start_time": "2024-12-12T20:26:43.512Z"
   },
   {
    "duration": 0,
    "start_time": "2024-12-12T20:26:43.514Z"
   },
   {
    "duration": 1391,
    "start_time": "2024-12-12T21:15:49.787Z"
   },
   {
    "duration": 1241,
    "start_time": "2024-12-12T21:30:57.690Z"
   },
   {
    "duration": 124,
    "start_time": "2024-12-12T21:30:58.933Z"
   },
   {
    "duration": 16,
    "start_time": "2024-12-12T21:30:59.059Z"
   },
   {
    "duration": 5,
    "start_time": "2024-12-12T21:30:59.077Z"
   },
   {
    "duration": 11,
    "start_time": "2024-12-12T21:30:59.084Z"
   },
   {
    "duration": 27,
    "start_time": "2024-12-12T21:30:59.097Z"
   },
   {
    "duration": 22,
    "start_time": "2024-12-12T21:30:59.126Z"
   },
   {
    "duration": 19,
    "start_time": "2024-12-12T21:30:59.149Z"
   },
   {
    "duration": 48,
    "start_time": "2024-12-12T21:30:59.170Z"
   },
   {
    "duration": 7,
    "start_time": "2024-12-12T21:30:59.220Z"
   },
   {
    "duration": 11,
    "start_time": "2024-12-12T21:30:59.229Z"
   },
   {
    "duration": 4,
    "start_time": "2024-12-12T21:30:59.242Z"
   },
   {
    "duration": 4,
    "start_time": "2024-12-12T21:30:59.248Z"
   },
   {
    "duration": 17,
    "start_time": "2024-12-12T21:30:59.254Z"
   },
   {
    "duration": 60,
    "start_time": "2024-12-12T21:30:59.273Z"
   },
   {
    "duration": 6,
    "start_time": "2024-12-12T21:30:59.335Z"
   },
   {
    "duration": 15,
    "start_time": "2024-12-12T21:30:59.342Z"
   },
   {
    "duration": 6,
    "start_time": "2024-12-12T21:30:59.359Z"
   },
   {
    "duration": 6,
    "start_time": "2024-12-12T21:30:59.367Z"
   },
   {
    "duration": 378,
    "start_time": "2024-12-12T21:30:59.375Z"
   },
   {
    "duration": 13,
    "start_time": "2024-12-12T21:30:59.755Z"
   },
   {
    "duration": 685,
    "start_time": "2024-12-12T21:30:59.770Z"
   },
   {
    "duration": 647,
    "start_time": "2024-12-12T21:31:00.457Z"
   },
   {
    "duration": 14,
    "start_time": "2024-12-12T21:31:01.106Z"
   },
   {
    "duration": 30,
    "start_time": "2024-12-12T21:31:01.121Z"
   },
   {
    "duration": 111,
    "start_time": "2024-12-12T21:31:01.152Z"
   },
   {
    "duration": 374,
    "start_time": "2024-12-12T21:31:01.264Z"
   },
   {
    "duration": 378,
    "start_time": "2024-12-12T21:31:01.641Z"
   },
   {
    "duration": 166,
    "start_time": "2024-12-12T21:31:02.021Z"
   },
   {
    "duration": 161,
    "start_time": "2024-12-12T21:31:02.189Z"
   },
   {
    "duration": 5,
    "start_time": "2024-12-12T21:31:02.352Z"
   },
   {
    "duration": 11,
    "start_time": "2024-12-12T21:31:02.359Z"
   },
   {
    "duration": 10,
    "start_time": "2024-12-12T21:31:02.371Z"
   },
   {
    "duration": 327,
    "start_time": "2024-12-12T21:31:02.383Z"
   },
   {
    "duration": 314,
    "start_time": "2024-12-12T21:31:02.711Z"
   },
   {
    "duration": 302,
    "start_time": "2024-12-12T21:31:03.027Z"
   },
   {
    "duration": 399,
    "start_time": "2024-12-12T21:31:03.330Z"
   },
   {
    "duration": 343,
    "start_time": "2024-12-12T21:31:03.730Z"
   },
   {
    "duration": 188,
    "start_time": "2024-12-12T21:31:04.075Z"
   },
   {
    "duration": 461,
    "start_time": "2024-12-12T21:31:04.265Z"
   },
   {
    "duration": 11,
    "start_time": "2024-12-12T21:31:04.728Z"
   },
   {
    "duration": 47,
    "start_time": "2024-12-12T21:31:04.740Z"
   },
   {
    "duration": 53,
    "start_time": "2024-12-12T21:31:04.789Z"
   },
   {
    "duration": 12,
    "start_time": "2024-12-12T21:31:04.844Z"
   },
   {
    "duration": 17,
    "start_time": "2024-12-12T21:31:04.858Z"
   },
   {
    "duration": 564,
    "start_time": "2024-12-12T21:31:04.876Z"
   },
   {
    "duration": 9,
    "start_time": "2024-12-12T21:31:05.442Z"
   },
   {
    "duration": 82,
    "start_time": "2024-12-12T21:31:05.453Z"
   }
  ],
  "kernelspec": {
   "display_name": "Python 3 (ipykernel)",
   "language": "python",
   "name": "python3"
  },
  "language_info": {
   "codemirror_mode": {
    "name": "ipython",
    "version": 3
   },
   "file_extension": ".py",
   "mimetype": "text/x-python",
   "name": "python",
   "nbconvert_exporter": "python",
   "pygments_lexer": "ipython3",
   "version": "3.11.8"
  },
  "toc": {
   "base_numbering": 1,
   "nav_menu": {},
   "number_sections": true,
   "sideBar": true,
   "skip_h1_title": true,
   "title_cell": "Table of Contents",
   "title_sidebar": "Contents",
   "toc_cell": false,
   "toc_position": {},
   "toc_section_display": true,
   "toc_window_display": false
  }
 },
 "nbformat": 4,
 "nbformat_minor": 4
}
