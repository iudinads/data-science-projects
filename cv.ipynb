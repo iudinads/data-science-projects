{
 "cells": [
  {
   "cell_type": "markdown",
   "metadata": {},
   "source": [
    "# Определение возраста покупателей"
   ]
  },
  {
   "cell_type": "markdown",
   "metadata": {},
   "source": [
    "## Исследовательский анализ данных"
   ]
  },
  {
   "cell_type": "markdown",
   "metadata": {},
   "source": [
    "**Проект: \"Исследовательский анализ датасета для определения возраста по фотографиям\"**\n",
    "\n",
    "**Цель исследования:**\n",
    "\n",
    "Изучить структуру и особенности предоставленного датасета (/datasets/faces/)\n",
    "\n",
    "**Задачи исследования:**\n",
    "\n",
    "1. Анализ размера и структуры выборки\n",
    "\n",
    "2. Визуализация распределения возраста\n",
    "\n",
    "3. Просмотр примеров изображений\n",
    "\n",
    "4. Выводы для обучения модели\n"
   ]
  },
  {
   "cell_type": "markdown",
   "metadata": {},
   "source": [
    "Импорт библиотек"
   ]
  },
  {
   "cell_type": "code",
   "execution_count": 1,
   "metadata": {},
   "outputs": [],
   "source": [
    "import pandas as pd\n",
    "import matplotlib.pyplot as plt\n",
    "import seaborn as sns\n",
    "from tensorflow.keras.preprocessing.image import ImageDataGenerator"
   ]
  },
  {
   "cell_type": "markdown",
   "metadata": {},
   "source": [
    "### Размер выборки"
   ]
  },
  {
   "cell_type": "code",
   "execution_count": 2,
   "metadata": {},
   "outputs": [
    {
     "data": {
      "text/plain": [
       "(7591, 2)"
      ]
     },
     "execution_count": 2,
     "metadata": {},
     "output_type": "execute_result"
    }
   ],
   "source": [
    "df = pd.read_csv('/datasets/faces/labels.csv')\n",
    "\n",
    "df.shape"
   ]
  },
  {
   "cell_type": "code",
   "execution_count": 3,
   "metadata": {},
   "outputs": [
    {
     "data": {
      "text/html": [
       "<div>\n",
       "<style scoped>\n",
       "    .dataframe tbody tr th:only-of-type {\n",
       "        vertical-align: middle;\n",
       "    }\n",
       "\n",
       "    .dataframe tbody tr th {\n",
       "        vertical-align: top;\n",
       "    }\n",
       "\n",
       "    .dataframe thead th {\n",
       "        text-align: right;\n",
       "    }\n",
       "</style>\n",
       "<table border=\"1\" class=\"dataframe\">\n",
       "  <thead>\n",
       "    <tr style=\"text-align: right;\">\n",
       "      <th></th>\n",
       "      <th>file_name</th>\n",
       "      <th>real_age</th>\n",
       "    </tr>\n",
       "  </thead>\n",
       "  <tbody>\n",
       "    <tr>\n",
       "      <th>0</th>\n",
       "      <td>000000.jpg</td>\n",
       "      <td>4</td>\n",
       "    </tr>\n",
       "    <tr>\n",
       "      <th>1</th>\n",
       "      <td>000001.jpg</td>\n",
       "      <td>18</td>\n",
       "    </tr>\n",
       "    <tr>\n",
       "      <th>2</th>\n",
       "      <td>000002.jpg</td>\n",
       "      <td>80</td>\n",
       "    </tr>\n",
       "    <tr>\n",
       "      <th>3</th>\n",
       "      <td>000003.jpg</td>\n",
       "      <td>50</td>\n",
       "    </tr>\n",
       "    <tr>\n",
       "      <th>4</th>\n",
       "      <td>000004.jpg</td>\n",
       "      <td>17</td>\n",
       "    </tr>\n",
       "  </tbody>\n",
       "</table>\n",
       "</div>"
      ],
      "text/plain": [
       "    file_name  real_age\n",
       "0  000000.jpg         4\n",
       "1  000001.jpg        18\n",
       "2  000002.jpg        80\n",
       "3  000003.jpg        50\n",
       "4  000004.jpg        17"
      ]
     },
     "execution_count": 3,
     "metadata": {},
     "output_type": "execute_result"
    }
   ],
   "source": [
    "df.head()"
   ]
  },
  {
   "cell_type": "code",
   "execution_count": 4,
   "metadata": {},
   "outputs": [
    {
     "name": "stdout",
     "output_type": "stream",
     "text": [
      "<class 'pandas.core.frame.DataFrame'>\n",
      "RangeIndex: 7591 entries, 0 to 7590\n",
      "Data columns (total 2 columns):\n",
      " #   Column     Non-Null Count  Dtype \n",
      "---  ------     --------------  ----- \n",
      " 0   file_name  7591 non-null   object\n",
      " 1   real_age   7591 non-null   int64 \n",
      "dtypes: int64(1), object(1)\n",
      "memory usage: 118.7+ KB\n"
     ]
    }
   ],
   "source": [
    "df.info()"
   ]
  },
  {
   "cell_type": "code",
   "execution_count": 5,
   "metadata": {},
   "outputs": [
    {
     "data": {
      "text/plain": [
       "0"
      ]
     },
     "execution_count": 5,
     "metadata": {},
     "output_type": "execute_result"
    }
   ],
   "source": [
    "df['file_name'].duplicated().sum()"
   ]
  },
  {
   "cell_type": "code",
   "execution_count": 6,
   "metadata": {},
   "outputs": [
    {
     "data": {
      "text/html": [
       "<div>\n",
       "<style scoped>\n",
       "    .dataframe tbody tr th:only-of-type {\n",
       "        vertical-align: middle;\n",
       "    }\n",
       "\n",
       "    .dataframe tbody tr th {\n",
       "        vertical-align: top;\n",
       "    }\n",
       "\n",
       "    .dataframe thead th {\n",
       "        text-align: right;\n",
       "    }\n",
       "</style>\n",
       "<table border=\"1\" class=\"dataframe\">\n",
       "  <thead>\n",
       "    <tr style=\"text-align: right;\">\n",
       "      <th></th>\n",
       "      <th>real_age</th>\n",
       "    </tr>\n",
       "  </thead>\n",
       "  <tbody>\n",
       "    <tr>\n",
       "      <th>count</th>\n",
       "      <td>7591.000000</td>\n",
       "    </tr>\n",
       "    <tr>\n",
       "      <th>mean</th>\n",
       "      <td>31.201159</td>\n",
       "    </tr>\n",
       "    <tr>\n",
       "      <th>std</th>\n",
       "      <td>17.145060</td>\n",
       "    </tr>\n",
       "    <tr>\n",
       "      <th>min</th>\n",
       "      <td>1.000000</td>\n",
       "    </tr>\n",
       "    <tr>\n",
       "      <th>25%</th>\n",
       "      <td>20.000000</td>\n",
       "    </tr>\n",
       "    <tr>\n",
       "      <th>50%</th>\n",
       "      <td>29.000000</td>\n",
       "    </tr>\n",
       "    <tr>\n",
       "      <th>75%</th>\n",
       "      <td>41.000000</td>\n",
       "    </tr>\n",
       "    <tr>\n",
       "      <th>max</th>\n",
       "      <td>100.000000</td>\n",
       "    </tr>\n",
       "  </tbody>\n",
       "</table>\n",
       "</div>"
      ],
      "text/plain": [
       "          real_age\n",
       "count  7591.000000\n",
       "mean     31.201159\n",
       "std      17.145060\n",
       "min       1.000000\n",
       "25%      20.000000\n",
       "50%      29.000000\n",
       "75%      41.000000\n",
       "max     100.000000"
      ]
     },
     "execution_count": 6,
     "metadata": {},
     "output_type": "execute_result"
    }
   ],
   "source": [
    "df.describe()"
   ]
  },
  {
   "cell_type": "markdown",
   "metadata": {},
   "source": [
    "*Вывод*: \n",
    "1. Данные загружены и соответствуют ТЗ. \n",
    "2. Дубликаты и пропуски отсуствуют.\n",
    "3. Размер - 7591 изображений."
   ]
  },
  {
   "cell_type": "markdown",
   "metadata": {},
   "source": [
    "### Визуализация"
   ]
  },
  {
   "cell_type": "code",
   "execution_count": 7,
   "metadata": {},
   "outputs": [
    {
     "data": {
      "image/png": "[encoded data removed]",
      "text/plain": [
       "<Figure size 864x432 with 1 Axes>"
      ]
     },
     "metadata": {
      "needs_background": "light"
     },
     "output_type": "display_data"
    }
   ],
   "source": [
    "plt.figure(figsize=(12, 6))\n",
    "\n",
    "median_age = df['real_age'].median()\n",
    "\n",
    "ax = sns.histplot(data=df, x='real_age', bins=100, \n",
    "                 kde=True, color='skyblue', \n",
    "                 edgecolor='navy', linewidth=0.5)\n",
    "\n",
    "plt.axvline(median_age, color='red', linestyle='--', linewidth=2, \n",
    "           label=f'Медиана: {median_age:.1f} лет')\n",
    "\n",
    "plt.title('Распределение возраста в датасете', fontsize=16, pad=20)\n",
    "plt.xlabel('Возраст (лет)', fontsize=12)\n",
    "plt.ylabel('Количество изображений', fontsize=12)\n",
    "plt.grid(axis='y', alpha=0.3)\n",
    "\n",
    "plt.legend(fontsize=12, frameon=True, \n",
    "          facecolor='white', edgecolor='gray')\n",
    "\n",
    "ax.set_xticks(range(0, df['real_age'].max()+1, 5))\n",
    "plt.xticks(rotation=45)\n",
    "\n",
    "plt.tight_layout()\n",
    "plt.show()"
   ]
  },
  {
   "cell_type": "markdown",
   "metadata": {},
   "source": [
    "*Вывод:*\n",
    "\n",
    "1. Медиана - 29 лет.\n",
    "2. Самый частый возраст ~ 25 лет.\n",
    "3. Самые нечастные 80-100 лет.\n",
    "4. Максимальный возраст - 100 лет.\n",
    "5. Минимальный возраст - 1 год."
   ]
  },
  {
   "cell_type": "markdown",
   "metadata": {},
   "source": [
    "### Примеры изображений"
   ]
  },
  {
   "cell_type": "code",
   "execution_count": null,
   "metadata": {},
   "outputs": [],
   "source": [
    "datagen = ImageDataGenerator(rescale=1./255)\n",
    "\n",
    "\n",
    "image_flow = datagen.flow_from_dataframe(\n",
    "    dataframe=df,\n",
    "    directory='/datasets/faces/final_files',  \n",
    "    x_col='file_name',                       \n",
    "    y_col='real_age',                        \n",
    "    target_size=(150, 150),                  \n",
    "    batch_size=15,                           \n",
    "    class_mode='raw',                        \n",
    "    shuffle=True                            \n",
    ")\n",
    "\n",
    "images, ages = next(image_flow)\n",
    "\n",
    "plt.figure(figsize=(15, 10))\n",
    "for i in range(15):\n",
    "    plt.subplot(3, 5, i+1)\n",
    "    plt.imshow(images[i])\n",
    "    plt.title(f'Возраст: {int(ages[i])}', fontsize=10)\n",
    "    plt.axis('off')\n",
    "plt.suptitle('Примеры изображений из датасета с указанием возраста', fontsize=16)\n",
    "plt.tight_layout()\n",
    "plt.show()"
   ]
  },
  {
   "cell_type": "markdown",
   "metadata": {},
   "source": [
    "*Вывод:*\n",
    "\n",
    "1. Некоторые фотографии в плохом качестве \n",
    "2. Некоторые фотографии содержат фильтры\n",
    "3. Некоторые фотографии содедржат черные рамки"
   ]
  },
  {
   "cell_type": "markdown",
   "metadata": {},
   "source": [
    "### Общий вывод"
   ]
  },
  {
   "cell_type": "markdown",
   "metadata": {},
   "source": [
    "Вывод:\n",
    "\n",
    "1. Данные загружены и соответствуют ТЗ. \n",
    "2. Дубликаты и пропуски отсуствуют.\n",
    "3. Размер - 7591 изображений.\n",
    "1. Медиана - 29 лет.\n",
    "2. Самый частый возраст ~ 25 лет.\n",
    "3. Самые нечастные 80-100 лет.\n",
    "4. Максимальный возраст - 100 лет.\n",
    "5. Минимальный возраст - 1 год.\n",
    "1. Некоторые фотографии в плохом качестве.\n",
    "2. Некоторые фотографии содержат фильтры.\n",
    "3. Некоторые фотографии содедржат черные рамки."
   ]
  },
  {
   "cell_type": "markdown",
   "metadata": {},
   "source": [
    "## Обучение модели"
   ]
  },
  {
   "cell_type": "markdown",
   "metadata": {},
   "source": [
    "Перенесите сюда код обучения модели и её результат вывода на экран.\n",
    "\n",
    "\n",
    "(Код в этом разделе запускается в отдельном GPU-тренажёре, поэтому оформлен не как ячейка с кодом, а как код в текстовой ячейке)"
   ]
  },
  {
   "cell_type": "markdown",
   "metadata": {},
   "source": [
    "```python\n",
    "\n",
    "import pandas as pd\n",
    "import numpy as np\n",
    "from tensorflow.keras.layers import Dense, GlobalAveragePooling2D\n",
    "from tensorflow.keras.models import Sequential\n",
    "from tensorflow.keras.preprocessing.image import ImageDataGenerator\n",
    "from tensorflow.keras.applications.resnet import ResNet50\n",
    "from tensorflow.keras.optimizers import Adam\n",
    "\n",
    "\n",
    "def load_train(path):\n",
    "    labels = pd.read_csv(path + 'labels.csv')\n",
    "    train_datagen = ImageDataGenerator(rescale=1/255., validation_split=0.25)\n",
    "    train_datagen_flow = train_datagen.flow_from_dataframe(\n",
    "        dataframe=pd.read_csv(path + 'labels.csv'),\n",
    "        x_col='file_name',\n",
    "        y_col='real_age',\n",
    "        class_mode='raw',\n",
    "        subset='training',\n",
    "        directory=path + 'final_files/',\n",
    "        target_size=(224, 224),\n",
    "        batch_size=16,\n",
    "        seed=12345)\n",
    "\n",
    "    return train_datagen_flow\n",
    "\n",
    "def load_test(path):\n",
    "    train_datagen = ImageDataGenerator(rescale=1/255., validation_split=0.25)\n",
    "    test_datagen_flow = train_datagen.flow_from_dataframe(\n",
    "        dataframe=pd.read_csv(path + 'labels.csv'),\n",
    "        x_col='file_name',\n",
    "        y_col='real_age',\n",
    "        class_mode='raw',\n",
    "        subset='validation',\n",
    "        directory=path + 'final_files/',\n",
    "        target_size=(224, 224),\n",
    "        batch_size=16,\n",
    "        seed=12345)\n",
    "\n",
    "    return test_datagen_flow\n",
    "\n",
    "def create_model(input_shape=(224, 224, 3)):\n",
    "    model = Sequential()\n",
    "    backbone = ResNet50(\n",
    "        input_shape=input_shape, \n",
    "        weights='/datasets/keras_models/resnet50_weights_tf_dim_ordering_tf_kernels_notop.h5', \n",
    "        include_top=False)\n",
    "\n",
    "    model.add(backbone)\n",
    "    model.add(GlobalAveragePooling2D())\n",
    "    model.add(Dense(1, activation='relu'))\n",
    "\n",
    "    optimizer = Adam(learning_rate=0.0001)\n",
    "    model.compile(\n",
    "        optimizer=optimizer, \n",
    "        loss='mse',\n",
    "        metrics=['mae'])\n",
    "\n",
    "    return model\n",
    "\n",
    "def train_model(model, train_data, test_data, batch_size=None, epochs=5,\n",
    "               steps_per_epoch=None, validation_steps=None):\n",
    "\n",
    "    model.fit(train_data,\n",
    "              validation_data=test_data,\n",
    "              batch_size=batch_size,\n",
    "              epochs=epochs,\n",
    "              steps_per_epoch=steps_per_epoch,\n",
    "              validation_steps=validation_steps,\n",
    "              verbose=2)\n",
    "    return model\n",
    "\n",
    "```"
   ]
  },
  {
   "cell_type": "markdown",
   "metadata": {},
   "source": [
    "```\n",
    "\n",
    "Train for 356 steps, validate for 119 steps\n",
    "Epoch 1/5\n",
    "356/356 - 97s - loss: 197.5938 - mae: 10.2103 - val_loss: 440.4561 - val_mae: 15.8227\n",
    "Epoch 2/5\n",
    "356/356 - 47s - loss: 66.0109 - mae: 6.1980 - val_loss: 121.9848 - val_mae: 8.3455\n",
    "Epoch 3/5\n",
    "356/356 - 47s - loss: 37.8944 - mae: 4.7349 - val_loss: 80.9530 - val_mae: 6.7527\n",
    "Epoch 4/5\n",
    "356/356 - 47s - loss: 26.7836 - mae: 3.9584 - val_loss: 73.8397 - val_mae: 6.6640\n",
    "Epoch 5/5\n",
    "356/356 - 47s - loss: 19.6089 - mae: 3.3670 - val_loss: 73.0907 - val_mae: 6.4339\n",
    "119/119 - 12s - loss: 73.0907 - mae: 6.4339\n",
    "\n",
    "\n",
    "```"
   ]
  },
  {
   "cell_type": "markdown",
   "metadata": {},
   "source": [
    "## Анализ обученной модели"
   ]
  },
  {
   "cell_type": "markdown",
   "metadata": {},
   "source": [
    "**Вывод:**\n",
    "\n",
    "1. Основа модели — ResNet50.\n",
    "2. Добавлен GlobalAveragePooling2D для уменьшения размерности.\n",
    "3. Выходной слой — Dense(1, activation='relu').\n",
    "4. Оптимизатор: Adam с learning rate = 0.0001.\n",
    "5. Функция потерь: MSE.\n",
    "6. Функция потерь: MSE.\n",
    "7. Обучение на 5 эпохах.\n",
    "8. Результат: **MAE = 6.43**."
   ]
  }
 ],
 "metadata": {
  "ExecuteTimeLog": [
   {
    "duration": 3067,
    "start_time": "2025-05-05T14:02:09.847Z"
   },
   {
    "duration": 36,
    "start_time": "2025-05-05T14:02:34.357Z"
   },
   {
    "duration": 13,
    "start_time": "2025-05-05T14:02:44.690Z"
   },
   {
    "duration": 13,
    "start_time": "2025-05-05T14:02:52.604Z"
   },
   {
    "duration": 6,
    "start_time": "2025-05-05T14:03:00.909Z"
   },
   {
    "duration": 14,
    "start_time": "2025-05-05T14:03:07.544Z"
   },
   {
    "duration": 766,
    "start_time": "2025-05-05T14:03:52.965Z"
   },
   {
    "duration": 88903,
    "start_time": "2025-05-05T14:04:24.126Z"
   },
   {
    "duration": 2800,
    "start_time": "2025-05-12T13:54:51.677Z"
   },
   {
    "duration": 37,
    "start_time": "2025-05-12T13:54:54.479Z"
   },
   {
    "duration": 9,
    "start_time": "2025-05-12T13:54:54.518Z"
   },
   {
    "duration": 16,
    "start_time": "2025-05-12T13:54:54.528Z"
   },
   {
    "duration": 35,
    "start_time": "2025-05-12T13:54:54.546Z"
   },
   {
    "duration": 15,
    "start_time": "2025-05-12T13:54:54.583Z"
   },
   {
    "duration": 790,
    "start_time": "2025-05-12T13:54:54.599Z"
   },
   {
    "duration": 91853,
    "start_time": "2025-05-12T13:54:55.391Z"
   },
   {
    "duration": 2712,
    "start_time": "2025-05-12T14:44:59.523Z"
   },
   {
    "duration": 38,
    "start_time": "2025-05-12T14:45:02.238Z"
   },
   {
    "duration": 10,
    "start_time": "2025-05-12T14:45:02.278Z"
   },
   {
    "duration": 44,
    "start_time": "2025-05-12T14:45:02.289Z"
   },
   {
    "duration": 44,
    "start_time": "2025-05-12T14:45:02.335Z"
   },
   {
    "duration": 33,
    "start_time": "2025-05-12T14:45:02.380Z"
   },
   {
    "duration": 863,
    "start_time": "2025-05-12T14:45:02.414Z"
   }
  ],
  "kernelspec": {
   "display_name": "Python 3 (ipykernel)",
   "language": "python",
   "name": "python3"
  },
  "language_info": {
   "codemirror_mode": {
    "name": "ipython",
    "version": 3
   },
   "file_extension": ".py",
   "mimetype": "text/x-python",
   "name": "python",
   "nbconvert_exporter": "python",
   "pygments_lexer": "ipython3",
   "version": "3.11.8"
  },
  "toc": {
   "base_numbering": 1,
   "nav_menu": {},
   "number_sections": true,
   "sideBar": true,
   "skip_h1_title": true,
   "title_cell": "Table of Contents",
   "title_sidebar": "Contents",
   "toc_cell": false,
   "toc_position": {
    "height": "calc(100% - 180px)",
    "left": "10px",
    "top": "150px",
    "width": "166.188px"
   },
   "toc_section_display": true,
   "toc_window_display": true
  }
 },
 "nbformat": 4,
 "nbformat_minor": 4
}
