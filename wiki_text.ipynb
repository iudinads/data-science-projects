{
 "cells": [
  {
   "cell_type": "markdown",
   "metadata": {
    "toc": true
   },
   "source": [
    "<h1>Содержание<span class=\"tocSkip\"></span></h1>\n",
    "<div class=\"toc\"><ul class=\"toc-item\"><li><span><a href=\"#Подготовка\" data-toc-modified-id=\"Подготовка-1\"><span class=\"toc-item-num\">1&nbsp;&nbsp;</span>Подготовка</a></span><ul class=\"toc-item\"><li><span><a href=\"#Загрузка-данных\" data-toc-modified-id=\"Загрузка-данных-1.1\"><span class=\"toc-item-num\">1.1&nbsp;&nbsp;</span>Загрузка данных</a></span></li><li><span><a href=\"#Предобработка-данных\" data-toc-modified-id=\"Предобработка-данных-1.2\"><span class=\"toc-item-num\">1.2&nbsp;&nbsp;</span>Предобработка данных</a></span></li><li><span><a href=\"#Лемматизация-и-удаление-стоп-слов\" data-toc-modified-id=\"Лемматизация-и-удаление-стоп-слов-1.3\"><span class=\"toc-item-num\">1.3&nbsp;&nbsp;</span>Лемматизация и удаление стоп-слов</a></span></li></ul></li><li><span><a href=\"#Обучение\" data-toc-modified-id=\"Обучение-2\"><span class=\"toc-item-num\">2&nbsp;&nbsp;</span>Обучение</a></span></li><li><span><a href=\"#Выводы\" data-toc-modified-id=\"Выводы-3\"><span class=\"toc-item-num\">3&nbsp;&nbsp;</span>Выводы</a></span></li><li><span><a href=\"#Чек-лист-проверки\" data-toc-modified-id=\"Чек-лист-проверки-4\"><span class=\"toc-item-num\">4&nbsp;&nbsp;</span>Чек-лист проверки</a></span></li></ul></div>"
   ]
  },
  {
   "cell_type": "markdown",
   "metadata": {},
   "source": [
    "# Проект для «Викишоп»"
   ]
  },
  {
   "cell_type": "markdown",
   "metadata": {},
   "source": [
    "**Название проекта**: Классификация токсичных комментариев для интернет-магазина «Викишоп»\n",
    "\n",
    "**Цель исследования:**\n",
    "\n",
    "Разработать модель машинного обучения, способную автоматически определять токсичные комментарии в пользовательских правках товаров интернет-магазина «Викишоп» для их последующей модерации.\n",
    "\n",
    "**Задачи исследования:**\n",
    "\n",
    "1. Загрузить и предобработать текстовые данные (очистка, лемматизация, удаление стоп-слов).\n",
    "2. Обучить несколько моделей классификации для предсказания токсичности комментариев.\n",
    "3. Оценить качество моделей с помощью метрики F1-score и выбрать лучшую (целевое значение ≥ 0.75).\n",
    "4. Проверить работу модели на тестовых данных и сделать выводы о её применимости в реальных условиях.\n",
    "\n",
    "**Входные данные:**\n",
    "\n",
    "Датасет toxic_comments.csv, содержащий:\n",
    "\n",
    "1. text — текст комментария.\n",
    "2. toxic — бинарный целевой признак (1 — токсичный, 0 — нейтральный/позитивный)."
   ]
  },
  {
   "cell_type": "markdown",
   "metadata": {},
   "source": [
    "**Импорт библиотек**"
   ]
  },
  {
   "cell_type": "code",
   "execution_count": 1,
   "metadata": {},
   "outputs": [
    {
     "name": "stdout",
     "output_type": "stream",
     "text": [
      "Note: you may need to restart the kernel to use updated packages.\n"
     ]
    }
   ],
   "source": [
    "pip install --upgrade scikit-learn -q"
   ]
  },
  {
   "cell_type": "code",
   "execution_count": 2,
   "metadata": {},
   "outputs": [],
   "source": [
    "import pandas as pd\n",
    "import numpy as np\n",
    "\n",
    "from sklearn.feature_extraction.text import TfidfVectorizer\n",
    "from sklearn.model_selection import (\n",
    "    train_test_split,\n",
    "    GridSearchCV,\n",
    "    RandomizedSearchCV,\n",
    ")\n",
    "\n",
    "from sklearn.linear_model import LogisticRegression\n",
    "from sklearn.metrics import f1_score\n",
    "from sklearn.pipeline import Pipeline\n",
    "from sklearn.compose import ColumnTransformer\n",
    "from sklearn.tree import DecisionTreeClassifier\n",
    "from sklearn.neighbors import KNeighborsClassifier\n",
    "from sklearn.svm import SVC\n",
    "\n",
    "\n",
    "import re\n",
    "import spacy\n",
    "\n",
    "RANDOM_STATE = 43\n",
    "TEST_SIZE = 0.25\n",
    "\n",
    "pd.set_option('display.max_colwidth', None)"
   ]
  },
  {
   "cell_type": "markdown",
   "metadata": {},
   "source": [
    "## Подготовка"
   ]
  },
  {
   "cell_type": "markdown",
   "metadata": {},
   "source": [
    "### Загрузка данных"
   ]
  },
  {
   "cell_type": "code",
   "execution_count": 3,
   "metadata": {},
   "outputs": [
    {
     "data": {
      "text/html": [
       "<div>\n",
       "<style scoped>\n",
       "    .dataframe tbody tr th:only-of-type {\n",
       "        vertical-align: middle;\n",
       "    }\n",
       "\n",
       "    .dataframe tbody tr th {\n",
       "        vertical-align: top;\n",
       "    }\n",
       "\n",
       "    .dataframe thead th {\n",
       "        text-align: right;\n",
       "    }\n",
       "</style>\n",
       "<table border=\"1\" class=\"dataframe\">\n",
       "  <thead>\n",
       "    <tr style=\"text-align: right;\">\n",
       "      <th></th>\n",
       "      <th>text</th>\n",
       "      <th>toxic</th>\n",
       "    </tr>\n",
       "  </thead>\n",
       "  <tbody>\n",
       "    <tr>\n",
       "      <th>0</th>\n",
       "      <td>Explanation\\nWhy the edits made under my username Hardcore Metallica Fan were reverted? They weren't vandalisms, just closure on some GAs after I voted at New York Dolls FAC. And please don't remove the template from the talk page since I'm retired now.89.205.38.27</td>\n",
       "      <td>0</td>\n",
       "    </tr>\n",
       "    <tr>\n",
       "      <th>1</th>\n",
       "      <td>D'aww! He matches this background colour I'm seemingly stuck with. Thanks.  (talk) 21:51, January 11, 2016 (UTC)</td>\n",
       "      <td>0</td>\n",
       "    </tr>\n",
       "    <tr>\n",
       "      <th>2</th>\n",
       "      <td>Hey man, I'm really not trying to edit war. It's just that this guy is constantly removing relevant information and talking to me through edits instead of my talk page. He seems to care more about the formatting than the actual info.</td>\n",
       "      <td>0</td>\n",
       "    </tr>\n",
       "    <tr>\n",
       "      <th>3</th>\n",
       "      <td>\"\\nMore\\nI can't make any real suggestions on improvement - I wondered if the section statistics should be later on, or a subsection of \"\"types of accidents\"\"  -I think the references may need tidying so that they are all in the exact same format ie date format etc. I can do that later on, if no-one else does first - if you have any preferences for formatting style on references or want to do it yourself please let me know.\\n\\nThere appears to be a backlog on articles for review so I guess there may be a delay until a reviewer turns up. It's listed in the relevant form eg Wikipedia:Good_article_nominations#Transport  \"</td>\n",
       "      <td>0</td>\n",
       "    </tr>\n",
       "    <tr>\n",
       "      <th>4</th>\n",
       "      <td>You, sir, are my hero. Any chance you remember what page that's on?</td>\n",
       "      <td>0</td>\n",
       "    </tr>\n",
       "  </tbody>\n",
       "</table>\n",
       "</div>"
      ],
      "text/plain": [
       "                                                                                                                                                                                                                                                                                                                                                                                                                                                                                                                                                                                                                                                 text  \\\n",
       "0                                                                                                                                                                                                                                                                                                                                                                           Explanation\\nWhy the edits made under my username Hardcore Metallica Fan were reverted? They weren't vandalisms, just closure on some GAs after I voted at New York Dolls FAC. And please don't remove the template from the talk page since I'm retired now.89.205.38.27   \n",
       "1                                                                                                                                                                                                                                                                                                                                                                                                                                                                                                                                    D'aww! He matches this background colour I'm seemingly stuck with. Thanks.  (talk) 21:51, January 11, 2016 (UTC)   \n",
       "2                                                                                                                                                                                                                                                                                                                                                                                                           Hey man, I'm really not trying to edit war. It's just that this guy is constantly removing relevant information and talking to me through edits instead of my talk page. He seems to care more about the formatting than the actual info.   \n",
       "3  \"\\nMore\\nI can't make any real suggestions on improvement - I wondered if the section statistics should be later on, or a subsection of \"\"types of accidents\"\"  -I think the references may need tidying so that they are all in the exact same format ie date format etc. I can do that later on, if no-one else does first - if you have any preferences for formatting style on references or want to do it yourself please let me know.\\n\\nThere appears to be a backlog on articles for review so I guess there may be a delay until a reviewer turns up. It's listed in the relevant form eg Wikipedia:Good_article_nominations#Transport  \"   \n",
       "4                                                                                                                                                                                                                                                                                                                                                                                                                                                                                                                                                                                 You, sir, are my hero. Any chance you remember what page that's on?   \n",
       "\n",
       "   toxic  \n",
       "0      0  \n",
       "1      0  \n",
       "2      0  \n",
       "3      0  \n",
       "4      0  "
      ]
     },
     "execution_count": 3,
     "metadata": {},
     "output_type": "execute_result"
    }
   ],
   "source": [
    "df = pd.read_csv('/datasets/toxic_comments.csv', index_col=0)\n",
    "df.head()"
   ]
  },
  {
   "cell_type": "code",
   "execution_count": 4,
   "metadata": {},
   "outputs": [
    {
     "name": "stdout",
     "output_type": "stream",
     "text": [
      "<class 'pandas.core.frame.DataFrame'>\n",
      "Int64Index: 159292 entries, 0 to 159450\n",
      "Data columns (total 2 columns):\n",
      " #   Column  Non-Null Count   Dtype \n",
      "---  ------  --------------   ----- \n",
      " 0   text    159292 non-null  object\n",
      " 1   toxic   159292 non-null  int64 \n",
      "dtypes: int64(1), object(1)\n",
      "memory usage: 3.6+ MB\n"
     ]
    }
   ],
   "source": [
    "df.info()"
   ]
  },
  {
   "cell_type": "code",
   "execution_count": 5,
   "metadata": {},
   "outputs": [
    {
     "data": {
      "text/plain": [
       "(159292, 2)"
      ]
     },
     "execution_count": 5,
     "metadata": {},
     "output_type": "execute_result"
    }
   ],
   "source": [
    "df.shape"
   ]
  },
  {
   "cell_type": "markdown",
   "metadata": {},
   "source": [
    "*Вывод:*\n",
    "\n",
    "1. Данные были загружены и соответствуют ТЗ.\n",
    "2. Названия столбцов не требуют корректировки.\n",
    "3. Размер датафрейма - (159292, 2).\n",
    "4. Пропуски не обнаружены."
   ]
  },
  {
   "cell_type": "markdown",
   "metadata": {},
   "source": [
    "### Предобработка данных"
   ]
  },
  {
   "cell_type": "code",
   "execution_count": 6,
   "metadata": {},
   "outputs": [
    {
     "data": {
      "text/plain": [
       "0"
      ]
     },
     "execution_count": 6,
     "metadata": {},
     "output_type": "execute_result"
    }
   ],
   "source": [
    "df['text'].isna().sum()"
   ]
  },
  {
   "cell_type": "code",
   "execution_count": 7,
   "metadata": {},
   "outputs": [
    {
     "data": {
      "text/plain": [
       "0"
      ]
     },
     "execution_count": 7,
     "metadata": {},
     "output_type": "execute_result"
    }
   ],
   "source": [
    "df['text'].duplicated().sum()"
   ]
  },
  {
   "cell_type": "markdown",
   "metadata": {},
   "source": [
    "*Вывод:*\n",
    "\n",
    "1. Нет пропусков.\n",
    "2. Нет дубликатов."
   ]
  },
  {
   "cell_type": "markdown",
   "metadata": {},
   "source": [
    "### Лемматизация и удаление стоп-слов"
   ]
  },
  {
   "cell_type": "code",
   "execution_count": 8,
   "metadata": {},
   "outputs": [],
   "source": [
    "def lemmatize(text, nlp_object):\n",
    "    '''\n",
    "    Лемматизация, удаление стоп-слов и лишних пробелов\n",
    "    '''\n",
    "    doc = nlp(text)\n",
    "    lemm = \" \".join([token.lemma_ for token in doc])\n",
    "    clear = re.sub(r'[^a-zA-Z ]', ' ', lemm.lower())\n",
    "    return ' '.join(clear.split())"
   ]
  },
  {
   "cell_type": "code",
   "execution_count": 9,
   "metadata": {},
   "outputs": [],
   "source": [
    "nlp = spacy.load('en_core_web_sm', disable=['parser', 'ner'])"
   ]
  },
  {
   "cell_type": "code",
   "execution_count": 10,
   "metadata": {},
   "outputs": [
    {
     "data": {
      "text/html": [
       "<div>\n",
       "<style scoped>\n",
       "    .dataframe tbody tr th:only-of-type {\n",
       "        vertical-align: middle;\n",
       "    }\n",
       "\n",
       "    .dataframe tbody tr th {\n",
       "        vertical-align: top;\n",
       "    }\n",
       "\n",
       "    .dataframe thead th {\n",
       "        text-align: right;\n",
       "    }\n",
       "</style>\n",
       "<table border=\"1\" class=\"dataframe\">\n",
       "  <thead>\n",
       "    <tr style=\"text-align: right;\">\n",
       "      <th></th>\n",
       "      <th>text</th>\n",
       "      <th>toxic</th>\n",
       "      <th>clear_text</th>\n",
       "    </tr>\n",
       "  </thead>\n",
       "  <tbody>\n",
       "    <tr>\n",
       "      <th>0</th>\n",
       "      <td>Explanation\\nWhy the edits made under my username Hardcore Metallica Fan were reverted? They weren't vandalisms, just closure on some GAs after I voted at New York Dolls FAC. And please don't remove the template from the talk page since I'm retired now.89.205.38.27</td>\n",
       "      <td>0</td>\n",
       "      <td>explanation why the edit make under my username hardcore metallica fan be revert they be not vandalism just closure on some gas after i vote at new york dolls fac and please do not remove the template from the talk page since i be retire now</td>\n",
       "    </tr>\n",
       "    <tr>\n",
       "      <th>1</th>\n",
       "      <td>D'aww! He matches this background colour I'm seemingly stuck with. Thanks.  (talk) 21:51, January 11, 2016 (UTC)</td>\n",
       "      <td>0</td>\n",
       "      <td>d aww he match this background colour i be seemingly stuck with thank talk january utc</td>\n",
       "    </tr>\n",
       "    <tr>\n",
       "      <th>2</th>\n",
       "      <td>Hey man, I'm really not trying to edit war. It's just that this guy is constantly removing relevant information and talking to me through edits instead of my talk page. He seems to care more about the formatting than the actual info.</td>\n",
       "      <td>0</td>\n",
       "      <td>hey man i be really not try to edit war it be just that this guy be constantly remove relevant information and talk to i through edit instead of my talk page he seem to care more about the formatting than the actual info</td>\n",
       "    </tr>\n",
       "    <tr>\n",
       "      <th>3</th>\n",
       "      <td>\"\\nMore\\nI can't make any real suggestions on improvement - I wondered if the section statistics should be later on, or a subsection of \"\"types of accidents\"\"  -I think the references may need tidying so that they are all in the exact same format ie date format etc. I can do that later on, if no-one else does first - if you have any preferences for formatting style on references or want to do it yourself please let me know.\\n\\nThere appears to be a backlog on articles for review so I guess there may be a delay until a reviewer turns up. It's listed in the relevant form eg Wikipedia:Good_article_nominations#Transport  \"</td>\n",
       "      <td>0</td>\n",
       "      <td>more i can not make any real suggestion on improvement i wonder if the section statistic should be later on or a subsection of type of accident i think the reference may need tidy so that they be all in the exact same format ie date format etc i can do that later on if no one else do first if you have any preference for format style on reference or want to do it yourself please let i know there appear to be a backlog on article for review so i guess there may be a delay until a reviewer turn up it be list in the relevant form eg wikipedia good article nominations transport</td>\n",
       "    </tr>\n",
       "    <tr>\n",
       "      <th>4</th>\n",
       "      <td>You, sir, are my hero. Any chance you remember what page that's on?</td>\n",
       "      <td>0</td>\n",
       "      <td>you sir be my hero any chance you remember what page that be on</td>\n",
       "    </tr>\n",
       "  </tbody>\n",
       "</table>\n",
       "</div>"
      ],
      "text/plain": [
       "                                                                                                                                                                                                                                                                                                                                                                                                                                                                                                                                                                                                                                                 text  \\\n",
       "0                                                                                                                                                                                                                                                                                                                                                                           Explanation\\nWhy the edits made under my username Hardcore Metallica Fan were reverted? They weren't vandalisms, just closure on some GAs after I voted at New York Dolls FAC. And please don't remove the template from the talk page since I'm retired now.89.205.38.27   \n",
       "1                                                                                                                                                                                                                                                                                                                                                                                                                                                                                                                                    D'aww! He matches this background colour I'm seemingly stuck with. Thanks.  (talk) 21:51, January 11, 2016 (UTC)   \n",
       "2                                                                                                                                                                                                                                                                                                                                                                                                           Hey man, I'm really not trying to edit war. It's just that this guy is constantly removing relevant information and talking to me through edits instead of my talk page. He seems to care more about the formatting than the actual info.   \n",
       "3  \"\\nMore\\nI can't make any real suggestions on improvement - I wondered if the section statistics should be later on, or a subsection of \"\"types of accidents\"\"  -I think the references may need tidying so that they are all in the exact same format ie date format etc. I can do that later on, if no-one else does first - if you have any preferences for formatting style on references or want to do it yourself please let me know.\\n\\nThere appears to be a backlog on articles for review so I guess there may be a delay until a reviewer turns up. It's listed in the relevant form eg Wikipedia:Good_article_nominations#Transport  \"   \n",
       "4                                                                                                                                                                                                                                                                                                                                                                                                                                                                                                                                                                                 You, sir, are my hero. Any chance you remember what page that's on?   \n",
       "\n",
       "   toxic  \\\n",
       "0      0   \n",
       "1      0   \n",
       "2      0   \n",
       "3      0   \n",
       "4      0   \n",
       "\n",
       "                                                                                                                                                                                                                                                                                                                                                                                                                                                                                                                                                                                            clear_text  \n",
       "0                                                                                                                                                                                                                                                                                                                                                    explanation why the edit make under my username hardcore metallica fan be revert they be not vandalism just closure on some gas after i vote at new york dolls fac and please do not remove the template from the talk page since i be retire now  \n",
       "1                                                                                                                                                                                                                                                                                                                                                                                                                                                                                                               d aww he match this background colour i be seemingly stuck with thank talk january utc  \n",
       "2                                                                                                                                                                                                                                                                                                                                                                         hey man i be really not try to edit war it be just that this guy be constantly remove relevant information and talk to i through edit instead of my talk page he seem to care more about the formatting than the actual info  \n",
       "3  more i can not make any real suggestion on improvement i wonder if the section statistic should be later on or a subsection of type of accident i think the reference may need tidy so that they be all in the exact same format ie date format etc i can do that later on if no one else do first if you have any preference for format style on reference or want to do it yourself please let i know there appear to be a backlog on article for review so i guess there may be a delay until a reviewer turn up it be list in the relevant form eg wikipedia good article nominations transport  \n",
       "4                                                                                                                                                                                                                                                                                                                                                                                                                                                                                                                                      you sir be my hero any chance you remember what page that be on  "
      ]
     },
     "execution_count": 10,
     "metadata": {},
     "output_type": "execute_result"
    }
   ],
   "source": [
    "df['clear_text'] = df['text'].apply(lambda x: lemmatize(x, nlp))\n",
    "df.head()"
   ]
  },
  {
   "cell_type": "code",
   "execution_count": 11,
   "metadata": {},
   "outputs": [
    {
     "data": {
      "text/plain": [
       "1323"
      ]
     },
     "execution_count": 11,
     "metadata": {},
     "output_type": "execute_result"
    }
   ],
   "source": [
    "df['clear_text'].duplicated().sum()"
   ]
  },
  {
   "cell_type": "markdown",
   "metadata": {},
   "source": [
    "Нужно удалить дубликаты и проверить баланс классов"
   ]
  },
  {
   "cell_type": "code",
   "execution_count": 12,
   "metadata": {},
   "outputs": [
    {
     "data": {
      "text/plain": [
       "0    0.898436\n",
       "1    0.101564\n",
       "Name: toxic, dtype: float64"
      ]
     },
     "execution_count": 12,
     "metadata": {},
     "output_type": "execute_result"
    }
   ],
   "source": [
    "df = df.drop_duplicates(subset=['clear_text'])\n",
    "df['toxic'].value_counts() / len(df)"
   ]
  },
  {
   "cell_type": "markdown",
   "metadata": {},
   "source": [
    "Есть сильный дисбаланс классов"
   ]
  },
  {
   "cell_type": "markdown",
   "metadata": {},
   "source": [
    "*Выводы*:\n",
    "\n",
    "1. Создана функция для лемматизации и удаления стоп-слов и лишних пробелов.\n",
    "2. Удалены дубликаты.\n",
    "3. Присутствует дисбаланс классов"
   ]
  },
  {
   "cell_type": "markdown",
   "metadata": {},
   "source": [
    "## Обучение"
   ]
  },
  {
   "cell_type": "code",
   "execution_count": 13,
   "metadata": {},
   "outputs": [],
   "source": [
    "X = df['clear_text']\n",
    "y = df['toxic']"
   ]
  },
  {
   "cell_type": "code",
   "execution_count": 14,
   "metadata": {},
   "outputs": [],
   "source": [
    "X_train, X_test, y_train, y_test = train_test_split(\n",
    "    X, y, stratify=y, test_size=TEST_SIZE, random_state=RANDOM_STATE\n",
    ")"
   ]
  },
  {
   "cell_type": "code",
   "execution_count": 15,
   "metadata": {},
   "outputs": [],
   "source": [
    "count_tf_idf = TfidfVectorizer(stop_words='english')"
   ]
  },
  {
   "cell_type": "code",
   "execution_count": 16,
   "metadata": {},
   "outputs": [],
   "source": [
    "pipeline = Pipeline(\n",
    "    [\n",
    "        (\"vect\", TfidfVectorizer()),\n",
    "        (\"models\", LogisticRegression(random_state=RANDOM_STATE)),\n",
    "    ]\n",
    ")"
   ]
  },
  {
   "cell_type": "code",
   "execution_count": 17,
   "metadata": {},
   "outputs": [],
   "source": [
    "param_distributions = [\n",
    "    {\n",
    "        'models': [KNeighborsClassifier()],\n",
    "        'models__n_neighbors': [3, 5, 7]\n",
    "    },\n",
    "    {\n",
    "        'models': [DecisionTreeClassifier(random_state=RANDOM_STATE)],\n",
    "        'models__max_depth': [3, 5],\n",
    "        'models__min_samples_split': [2, 5],\n",
    "    },\n",
    "    {\n",
    "        'models': [LogisticRegression(random_state=RANDOM_STATE, solver='liblinear', max_iter=1000)],\n",
    "        'models__C': [0.1, 1, 10], \n",
    "        'vect__max_features': [5000, 10000],\n",
    "        'vect__max_df': [0.4, 0.6, 0.8], \n",
    "        'vect__min_df': [1, 3],\n",
    "        'vect__norm': ['l1', 'l2'],\n",
    "    }\n",
    "]"
   ]
  },
  {
   "cell_type": "code",
   "execution_count": 18,
   "metadata": {},
   "outputs": [],
   "source": [
    "rndom = RandomizedSearchCV(\n",
    "    pipeline,\n",
    "    param_distributions,\n",
    "    n_iter=10,\n",
    "    cv=5,\n",
    "    n_jobs=-1,\n",
    "    scoring='f1'\n",
    ")"
   ]
  },
  {
   "cell_type": "code",
   "execution_count": 19,
   "metadata": {},
   "outputs": [
    {
     "data": {
      "text/html": [
       "<style>#sk-container-id-1 {\n",
       "  /* Definition of color scheme common for light and dark mode */\n",
       "  --sklearn-color-text: #000;\n",
       "  --sklearn-color-text-muted: #666;\n",
       "  --sklearn-color-line: gray;\n",
       "  /* Definition of color scheme for unfitted estimators */\n",
       "  --sklearn-color-unfitted-level-0: #fff5e6;\n",
       "  --sklearn-color-unfitted-level-1: #f6e4d2;\n",
       "  --sklearn-color-unfitted-level-2: #ffe0b3;\n",
       "  --sklearn-color-unfitted-level-3: chocolate;\n",
       "  /* Definition of color scheme for fitted estimators */\n",
       "  --sklearn-color-fitted-level-0: #f0f8ff;\n",
       "  --sklearn-color-fitted-level-1: #d4ebff;\n",
       "  --sklearn-color-fitted-level-2: #b3dbfd;\n",
       "  --sklearn-color-fitted-level-3: cornflowerblue;\n",
       "\n",
       "  /* Specific color for light theme */\n",
       "  --sklearn-color-text-on-default-background: var(--sg-text-color, var(--theme-code-foreground, var(--jp-content-font-color1, black)));\n",
       "  --sklearn-color-background: var(--sg-background-color, var(--theme-background, var(--jp-layout-color0, white)));\n",
       "  --sklearn-color-border-box: var(--sg-text-color, var(--theme-code-foreground, var(--jp-content-font-color1, black)));\n",
       "  --sklearn-color-icon: #696969;\n",
       "\n",
       "  @media (prefers-color-scheme: dark) {\n",
       "    /* Redefinition of color scheme for dark theme */\n",
       "    --sklearn-color-text-on-default-background: var(--sg-text-color, var(--theme-code-foreground, var(--jp-content-font-color1, white)));\n",
       "    --sklearn-color-background: var(--sg-background-color, var(--theme-background, var(--jp-layout-color0, #111)));\n",
       "    --sklearn-color-border-box: var(--sg-text-color, var(--theme-code-foreground, var(--jp-content-font-color1, white)));\n",
       "    --sklearn-color-icon: #878787;\n",
       "  }\n",
       "}\n",
       "\n",
       "#sk-container-id-1 {\n",
       "  color: var(--sklearn-color-text);\n",
       "}\n",
       "\n",
       "#sk-container-id-1 pre {\n",
       "  padding: 0;\n",
       "}\n",
       "\n",
       "#sk-container-id-1 input.sk-hidden--visually {\n",
       "  border: 0;\n",
       "  clip: rect(1px 1px 1px 1px);\n",
       "  clip: rect(1px, 1px, 1px, 1px);\n",
       "  height: 1px;\n",
       "  margin: -1px;\n",
       "  overflow: hidden;\n",
       "  padding: 0;\n",
       "  position: absolute;\n",
       "  width: 1px;\n",
       "}\n",
       "\n",
       "#sk-container-id-1 div.sk-dashed-wrapped {\n",
       "  border: 1px dashed var(--sklearn-color-line);\n",
       "  margin: 0 0.4em 0.5em 0.4em;\n",
       "  box-sizing: border-box;\n",
       "  padding-bottom: 0.4em;\n",
       "  background-color: var(--sklearn-color-background);\n",
       "}\n",
       "\n",
       "#sk-container-id-1 div.sk-container {\n",
       "  /* jupyter's `normalize.less` sets `[hidden] { display: none; }`\n",
       "     but bootstrap.min.css set `[hidden] { display: none !important; }`\n",
       "     so we also need the `!important` here to be able to override the\n",
       "     default hidden behavior on the sphinx rendered scikit-learn.org.\n",
       "     See: https://github.com/scikit-learn/scikit-learn/issues/21755 */\n",
       "  display: inline-block !important;\n",
       "  position: relative;\n",
       "}\n",
       "\n",
       "#sk-container-id-1 div.sk-text-repr-fallback {\n",
       "  display: none;\n",
       "}\n",
       "\n",
       "div.sk-parallel-item,\n",
       "div.sk-serial,\n",
       "div.sk-item {\n",
       "  /* draw centered vertical line to link estimators */\n",
       "  background-image: linear-gradient(var(--sklearn-color-text-on-default-background), var(--sklearn-color-text-on-default-background));\n",
       "  background-size: 2px 100%;\n",
       "  background-repeat: no-repeat;\n",
       "  background-position: center center;\n",
       "}\n",
       "\n",
       "/* Parallel-specific style estimator block */\n",
       "\n",
       "#sk-container-id-1 div.sk-parallel-item::after {\n",
       "  content: \"\";\n",
       "  width: 100%;\n",
       "  border-bottom: 2px solid var(--sklearn-color-text-on-default-background);\n",
       "  flex-grow: 1;\n",
       "}\n",
       "\n",
       "#sk-container-id-1 div.sk-parallel {\n",
       "  display: flex;\n",
       "  align-items: stretch;\n",
       "  justify-content: center;\n",
       "  background-color: var(--sklearn-color-background);\n",
       "  position: relative;\n",
       "}\n",
       "\n",
       "#sk-container-id-1 div.sk-parallel-item {\n",
       "  display: flex;\n",
       "  flex-direction: column;\n",
       "}\n",
       "\n",
       "#sk-container-id-1 div.sk-parallel-item:first-child::after {\n",
       "  align-self: flex-end;\n",
       "  width: 50%;\n",
       "}\n",
       "\n",
       "#sk-container-id-1 div.sk-parallel-item:last-child::after {\n",
       "  align-self: flex-start;\n",
       "  width: 50%;\n",
       "}\n",
       "\n",
       "#sk-container-id-1 div.sk-parallel-item:only-child::after {\n",
       "  width: 0;\n",
       "}\n",
       "\n",
       "/* Serial-specific style estimator block */\n",
       "\n",
       "#sk-container-id-1 div.sk-serial {\n",
       "  display: flex;\n",
       "  flex-direction: column;\n",
       "  align-items: center;\n",
       "  background-color: var(--sklearn-color-background);\n",
       "  padding-right: 1em;\n",
       "  padding-left: 1em;\n",
       "}\n",
       "\n",
       "\n",
       "/* Toggleable style: style used for estimator/Pipeline/ColumnTransformer box that is\n",
       "clickable and can be expanded/collapsed.\n",
       "- Pipeline and ColumnTransformer use this feature and define the default style\n",
       "- Estimators will overwrite some part of the style using the `sk-estimator` class\n",
       "*/\n",
       "\n",
       "/* Pipeline and ColumnTransformer style (default) */\n",
       "\n",
       "#sk-container-id-1 div.sk-toggleable {\n",
       "  /* Default theme specific background. It is overwritten whether we have a\n",
       "  specific estimator or a Pipeline/ColumnTransformer */\n",
       "  background-color: var(--sklearn-color-background);\n",
       "}\n",
       "\n",
       "/* Toggleable label */\n",
       "#sk-container-id-1 label.sk-toggleable__label {\n",
       "  cursor: pointer;\n",
       "  display: flex;\n",
       "  width: 100%;\n",
       "  margin-bottom: 0;\n",
       "  padding: 0.5em;\n",
       "  box-sizing: border-box;\n",
       "  text-align: center;\n",
       "  align-items: start;\n",
       "  justify-content: space-between;\n",
       "  gap: 0.5em;\n",
       "}\n",
       "\n",
       "#sk-container-id-1 label.sk-toggleable__label .caption {\n",
       "  font-size: 0.6rem;\n",
       "  font-weight: lighter;\n",
       "  color: var(--sklearn-color-text-muted);\n",
       "}\n",
       "\n",
       "#sk-container-id-1 label.sk-toggleable__label-arrow:before {\n",
       "  /* Arrow on the left of the label */\n",
       "  content: \"▸\";\n",
       "  float: left;\n",
       "  margin-right: 0.25em;\n",
       "  color: var(--sklearn-color-icon);\n",
       "}\n",
       "\n",
       "#sk-container-id-1 label.sk-toggleable__label-arrow:hover:before {\n",
       "  color: var(--sklearn-color-text);\n",
       "}\n",
       "\n",
       "/* Toggleable content - dropdown */\n",
       "\n",
       "#sk-container-id-1 div.sk-toggleable__content {\n",
       "  max-height: 0;\n",
       "  max-width: 0;\n",
       "  overflow: hidden;\n",
       "  text-align: left;\n",
       "  /* unfitted */\n",
       "  background-color: var(--sklearn-color-unfitted-level-0);\n",
       "}\n",
       "\n",
       "#sk-container-id-1 div.sk-toggleable__content.fitted {\n",
       "  /* fitted */\n",
       "  background-color: var(--sklearn-color-fitted-level-0);\n",
       "}\n",
       "\n",
       "#sk-container-id-1 div.sk-toggleable__content pre {\n",
       "  margin: 0.2em;\n",
       "  border-radius: 0.25em;\n",
       "  color: var(--sklearn-color-text);\n",
       "  /* unfitted */\n",
       "  background-color: var(--sklearn-color-unfitted-level-0);\n",
       "}\n",
       "\n",
       "#sk-container-id-1 div.sk-toggleable__content.fitted pre {\n",
       "  /* unfitted */\n",
       "  background-color: var(--sklearn-color-fitted-level-0);\n",
       "}\n",
       "\n",
       "#sk-container-id-1 input.sk-toggleable__control:checked~div.sk-toggleable__content {\n",
       "  /* Expand drop-down */\n",
       "  max-height: 200px;\n",
       "  max-width: 100%;\n",
       "  overflow: auto;\n",
       "}\n",
       "\n",
       "#sk-container-id-1 input.sk-toggleable__control:checked~label.sk-toggleable__label-arrow:before {\n",
       "  content: \"▾\";\n",
       "}\n",
       "\n",
       "/* Pipeline/ColumnTransformer-specific style */\n",
       "\n",
       "#sk-container-id-1 div.sk-label input.sk-toggleable__control:checked~label.sk-toggleable__label {\n",
       "  color: var(--sklearn-color-text);\n",
       "  background-color: var(--sklearn-color-unfitted-level-2);\n",
       "}\n",
       "\n",
       "#sk-container-id-1 div.sk-label.fitted input.sk-toggleable__control:checked~label.sk-toggleable__label {\n",
       "  background-color: var(--sklearn-color-fitted-level-2);\n",
       "}\n",
       "\n",
       "/* Estimator-specific style */\n",
       "\n",
       "/* Colorize estimator box */\n",
       "#sk-container-id-1 div.sk-estimator input.sk-toggleable__control:checked~label.sk-toggleable__label {\n",
       "  /* unfitted */\n",
       "  background-color: var(--sklearn-color-unfitted-level-2);\n",
       "}\n",
       "\n",
       "#sk-container-id-1 div.sk-estimator.fitted input.sk-toggleable__control:checked~label.sk-toggleable__label {\n",
       "  /* fitted */\n",
       "  background-color: var(--sklearn-color-fitted-level-2);\n",
       "}\n",
       "\n",
       "#sk-container-id-1 div.sk-label label.sk-toggleable__label,\n",
       "#sk-container-id-1 div.sk-label label {\n",
       "  /* The background is the default theme color */\n",
       "  color: var(--sklearn-color-text-on-default-background);\n",
       "}\n",
       "\n",
       "/* On hover, darken the color of the background */\n",
       "#sk-container-id-1 div.sk-label:hover label.sk-toggleable__label {\n",
       "  color: var(--sklearn-color-text);\n",
       "  background-color: var(--sklearn-color-unfitted-level-2);\n",
       "}\n",
       "\n",
       "/* Label box, darken color on hover, fitted */\n",
       "#sk-container-id-1 div.sk-label.fitted:hover label.sk-toggleable__label.fitted {\n",
       "  color: var(--sklearn-color-text);\n",
       "  background-color: var(--sklearn-color-fitted-level-2);\n",
       "}\n",
       "\n",
       "/* Estimator label */\n",
       "\n",
       "#sk-container-id-1 div.sk-label label {\n",
       "  font-family: monospace;\n",
       "  font-weight: bold;\n",
       "  display: inline-block;\n",
       "  line-height: 1.2em;\n",
       "}\n",
       "\n",
       "#sk-container-id-1 div.sk-label-container {\n",
       "  text-align: center;\n",
       "}\n",
       "\n",
       "/* Estimator-specific */\n",
       "#sk-container-id-1 div.sk-estimator {\n",
       "  font-family: monospace;\n",
       "  border: 1px dotted var(--sklearn-color-border-box);\n",
       "  border-radius: 0.25em;\n",
       "  box-sizing: border-box;\n",
       "  margin-bottom: 0.5em;\n",
       "  /* unfitted */\n",
       "  background-color: var(--sklearn-color-unfitted-level-0);\n",
       "}\n",
       "\n",
       "#sk-container-id-1 div.sk-estimator.fitted {\n",
       "  /* fitted */\n",
       "  background-color: var(--sklearn-color-fitted-level-0);\n",
       "}\n",
       "\n",
       "/* on hover */\n",
       "#sk-container-id-1 div.sk-estimator:hover {\n",
       "  /* unfitted */\n",
       "  background-color: var(--sklearn-color-unfitted-level-2);\n",
       "}\n",
       "\n",
       "#sk-container-id-1 div.sk-estimator.fitted:hover {\n",
       "  /* fitted */\n",
       "  background-color: var(--sklearn-color-fitted-level-2);\n",
       "}\n",
       "\n",
       "/* Specification for estimator info (e.g. \"i\" and \"?\") */\n",
       "\n",
       "/* Common style for \"i\" and \"?\" */\n",
       "\n",
       ".sk-estimator-doc-link,\n",
       "a:link.sk-estimator-doc-link,\n",
       "a:visited.sk-estimator-doc-link {\n",
       "  float: right;\n",
       "  font-size: smaller;\n",
       "  line-height: 1em;\n",
       "  font-family: monospace;\n",
       "  background-color: var(--sklearn-color-background);\n",
       "  border-radius: 1em;\n",
       "  height: 1em;\n",
       "  width: 1em;\n",
       "  text-decoration: none !important;\n",
       "  margin-left: 0.5em;\n",
       "  text-align: center;\n",
       "  /* unfitted */\n",
       "  border: var(--sklearn-color-unfitted-level-1) 1pt solid;\n",
       "  color: var(--sklearn-color-unfitted-level-1);\n",
       "}\n",
       "\n",
       ".sk-estimator-doc-link.fitted,\n",
       "a:link.sk-estimator-doc-link.fitted,\n",
       "a:visited.sk-estimator-doc-link.fitted {\n",
       "  /* fitted */\n",
       "  border: var(--sklearn-color-fitted-level-1) 1pt solid;\n",
       "  color: var(--sklearn-color-fitted-level-1);\n",
       "}\n",
       "\n",
       "/* On hover */\n",
       "div.sk-estimator:hover .sk-estimator-doc-link:hover,\n",
       ".sk-estimator-doc-link:hover,\n",
       "div.sk-label-container:hover .sk-estimator-doc-link:hover,\n",
       ".sk-estimator-doc-link:hover {\n",
       "  /* unfitted */\n",
       "  background-color: var(--sklearn-color-unfitted-level-3);\n",
       "  color: var(--sklearn-color-background);\n",
       "  text-decoration: none;\n",
       "}\n",
       "\n",
       "div.sk-estimator.fitted:hover .sk-estimator-doc-link.fitted:hover,\n",
       ".sk-estimator-doc-link.fitted:hover,\n",
       "div.sk-label-container:hover .sk-estimator-doc-link.fitted:hover,\n",
       ".sk-estimator-doc-link.fitted:hover {\n",
       "  /* fitted */\n",
       "  background-color: var(--sklearn-color-fitted-level-3);\n",
       "  color: var(--sklearn-color-background);\n",
       "  text-decoration: none;\n",
       "}\n",
       "\n",
       "/* Span, style for the box shown on hovering the info icon */\n",
       ".sk-estimator-doc-link span {\n",
       "  display: none;\n",
       "  z-index: 9999;\n",
       "  position: relative;\n",
       "  font-weight: normal;\n",
       "  right: .2ex;\n",
       "  padding: .5ex;\n",
       "  margin: .5ex;\n",
       "  width: min-content;\n",
       "  min-width: 20ex;\n",
       "  max-width: 50ex;\n",
       "  color: var(--sklearn-color-text);\n",
       "  box-shadow: 2pt 2pt 4pt #999;\n",
       "  /* unfitted */\n",
       "  background: var(--sklearn-color-unfitted-level-0);\n",
       "  border: .5pt solid var(--sklearn-color-unfitted-level-3);\n",
       "}\n",
       "\n",
       ".sk-estimator-doc-link.fitted span {\n",
       "  /* fitted */\n",
       "  background: var(--sklearn-color-fitted-level-0);\n",
       "  border: var(--sklearn-color-fitted-level-3);\n",
       "}\n",
       "\n",
       ".sk-estimator-doc-link:hover span {\n",
       "  display: block;\n",
       "}\n",
       "\n",
       "/* \"?\"-specific style due to the `<a>` HTML tag */\n",
       "\n",
       "#sk-container-id-1 a.estimator_doc_link {\n",
       "  float: right;\n",
       "  font-size: 1rem;\n",
       "  line-height: 1em;\n",
       "  font-family: monospace;\n",
       "  background-color: var(--sklearn-color-background);\n",
       "  border-radius: 1rem;\n",
       "  height: 1rem;\n",
       "  width: 1rem;\n",
       "  text-decoration: none;\n",
       "  /* unfitted */\n",
       "  color: var(--sklearn-color-unfitted-level-1);\n",
       "  border: var(--sklearn-color-unfitted-level-1) 1pt solid;\n",
       "}\n",
       "\n",
       "#sk-container-id-1 a.estimator_doc_link.fitted {\n",
       "  /* fitted */\n",
       "  border: var(--sklearn-color-fitted-level-1) 1pt solid;\n",
       "  color: var(--sklearn-color-fitted-level-1);\n",
       "}\n",
       "\n",
       "/* On hover */\n",
       "#sk-container-id-1 a.estimator_doc_link:hover {\n",
       "  /* unfitted */\n",
       "  background-color: var(--sklearn-color-unfitted-level-3);\n",
       "  color: var(--sklearn-color-background);\n",
       "  text-decoration: none;\n",
       "}\n",
       "\n",
       "#sk-container-id-1 a.estimator_doc_link.fitted:hover {\n",
       "  /* fitted */\n",
       "  background-color: var(--sklearn-color-fitted-level-3);\n",
       "}\n",
       "</style><div id=\"sk-container-id-1\" class=\"sk-top-container\"><div class=\"sk-text-repr-fallback\"><pre>RandomizedSearchCV(cv=5,\n",
       "                   estimator=Pipeline(steps=[(&#x27;vect&#x27;, TfidfVectorizer()),\n",
       "                                             (&#x27;models&#x27;,\n",
       "                                              LogisticRegression(random_state=43))]),\n",
       "                   n_jobs=-1,\n",
       "                   param_distributions=[{&#x27;models&#x27;: [KNeighborsClassifier()],\n",
       "                                         &#x27;models__n_neighbors&#x27;: [3, 5, 7]},\n",
       "                                        {&#x27;models&#x27;: [DecisionTreeClassifier(random_state=43)],\n",
       "                                         &#x27;models__max_depth&#x27;: [3, 5],\n",
       "                                         &#x27;models__min_samples_split&#x27;: [2, 5]},\n",
       "                                        {&#x27;models&#x27;: [LogisticRegression(max_iter=1000,\n",
       "                                                                       random_state=43,\n",
       "                                                                       solver=&#x27;liblinear&#x27;)],\n",
       "                                         &#x27;models__C&#x27;: [0.1, 1, 10],\n",
       "                                         &#x27;vect__max_df&#x27;: [0.4, 0.6, 0.8],\n",
       "                                         &#x27;vect__max_features&#x27;: [5000, 10000],\n",
       "                                         &#x27;vect__min_df&#x27;: [1, 3],\n",
       "                                         &#x27;vect__norm&#x27;: [&#x27;l1&#x27;, &#x27;l2&#x27;]}],\n",
       "                   scoring=&#x27;f1&#x27;)</pre><b>In a Jupyter environment, please rerun this cell to show the HTML representation or trust the notebook. <br />On GitHub, the HTML representation is unable to render, please try loading this page with nbviewer.org.</b></div><div class=\"sk-container\" hidden><div class=\"sk-item sk-dashed-wrapped\"><div class=\"sk-label-container\"><div class=\"sk-label fitted sk-toggleable\"><input class=\"sk-toggleable__control sk-hidden--visually\" id=\"sk-estimator-id-1\" type=\"checkbox\" ><label for=\"sk-estimator-id-1\" class=\"sk-toggleable__label fitted sk-toggleable__label-arrow\"><div><div>RandomizedSearchCV</div></div><div><a class=\"sk-estimator-doc-link fitted\" rel=\"noreferrer\" target=\"_blank\" href=\"https://scikit-learn.org/1.6/modules/generated/sklearn.model_selection.RandomizedSearchCV.html\">?<span>Documentation for RandomizedSearchCV</span></a><span class=\"sk-estimator-doc-link fitted\">i<span>Fitted</span></span></div></label><div class=\"sk-toggleable__content fitted\"><pre>RandomizedSearchCV(cv=5,\n",
       "                   estimator=Pipeline(steps=[(&#x27;vect&#x27;, TfidfVectorizer()),\n",
       "                                             (&#x27;models&#x27;,\n",
       "                                              LogisticRegression(random_state=43))]),\n",
       "                   n_jobs=-1,\n",
       "                   param_distributions=[{&#x27;models&#x27;: [KNeighborsClassifier()],\n",
       "                                         &#x27;models__n_neighbors&#x27;: [3, 5, 7]},\n",
       "                                        {&#x27;models&#x27;: [DecisionTreeClassifier(random_state=43)],\n",
       "                                         &#x27;models__max_depth&#x27;: [3, 5],\n",
       "                                         &#x27;models__min_samples_split&#x27;: [2, 5]},\n",
       "                                        {&#x27;models&#x27;: [LogisticRegression(max_iter=1000,\n",
       "                                                                       random_state=43,\n",
       "                                                                       solver=&#x27;liblinear&#x27;)],\n",
       "                                         &#x27;models__C&#x27;: [0.1, 1, 10],\n",
       "                                         &#x27;vect__max_df&#x27;: [0.4, 0.6, 0.8],\n",
       "                                         &#x27;vect__max_features&#x27;: [5000, 10000],\n",
       "                                         &#x27;vect__min_df&#x27;: [1, 3],\n",
       "                                         &#x27;vect__norm&#x27;: [&#x27;l1&#x27;, &#x27;l2&#x27;]}],\n",
       "                   scoring=&#x27;f1&#x27;)</pre></div> </div></div><div class=\"sk-parallel\"><div class=\"sk-parallel-item\"><div class=\"sk-item\"><div class=\"sk-label-container\"><div class=\"sk-label fitted sk-toggleable\"><input class=\"sk-toggleable__control sk-hidden--visually\" id=\"sk-estimator-id-2\" type=\"checkbox\" ><label for=\"sk-estimator-id-2\" class=\"sk-toggleable__label fitted sk-toggleable__label-arrow\"><div><div>best_estimator_: Pipeline</div></div></label><div class=\"sk-toggleable__content fitted\"><pre>Pipeline(steps=[(&#x27;vect&#x27;, TfidfVectorizer(max_df=0.6, max_features=10000)),\n",
       "                (&#x27;models&#x27;,\n",
       "                 LogisticRegression(C=10, max_iter=1000, random_state=43,\n",
       "                                    solver=&#x27;liblinear&#x27;))])</pre></div> </div></div><div class=\"sk-serial\"><div class=\"sk-item\"><div class=\"sk-serial\"><div class=\"sk-item\"><div class=\"sk-estimator fitted sk-toggleable\"><input class=\"sk-toggleable__control sk-hidden--visually\" id=\"sk-estimator-id-3\" type=\"checkbox\" ><label for=\"sk-estimator-id-3\" class=\"sk-toggleable__label fitted sk-toggleable__label-arrow\"><div><div>TfidfVectorizer</div></div><div><a class=\"sk-estimator-doc-link fitted\" rel=\"noreferrer\" target=\"_blank\" href=\"https://scikit-learn.org/1.6/modules/generated/sklearn.feature_extraction.text.TfidfVectorizer.html\">?<span>Documentation for TfidfVectorizer</span></a></div></label><div class=\"sk-toggleable__content fitted\"><pre>TfidfVectorizer(max_df=0.6, max_features=10000)</pre></div> </div></div><div class=\"sk-item\"><div class=\"sk-estimator fitted sk-toggleable\"><input class=\"sk-toggleable__control sk-hidden--visually\" id=\"sk-estimator-id-4\" type=\"checkbox\" ><label for=\"sk-estimator-id-4\" class=\"sk-toggleable__label fitted sk-toggleable__label-arrow\"><div><div>LogisticRegression</div></div><div><a class=\"sk-estimator-doc-link fitted\" rel=\"noreferrer\" target=\"_blank\" href=\"https://scikit-learn.org/1.6/modules/generated/sklearn.linear_model.LogisticRegression.html\">?<span>Documentation for LogisticRegression</span></a></div></label><div class=\"sk-toggleable__content fitted\"><pre>LogisticRegression(C=10, max_iter=1000, random_state=43, solver=&#x27;liblinear&#x27;)</pre></div> </div></div></div></div></div></div></div></div></div></div></div>"
      ],
      "text/plain": [
       "RandomizedSearchCV(cv=5,\n",
       "                   estimator=Pipeline(steps=[('vect', TfidfVectorizer()),\n",
       "                                             ('models',\n",
       "                                              LogisticRegression(random_state=43))]),\n",
       "                   n_jobs=-1,\n",
       "                   param_distributions=[{'models': [KNeighborsClassifier()],\n",
       "                                         'models__n_neighbors': [3, 5, 7]},\n",
       "                                        {'models': [DecisionTreeClassifier(random_state=43)],\n",
       "                                         'models__max_depth': [3, 5],\n",
       "                                         'models__min_samples_split': [2, 5]},\n",
       "                                        {'models': [LogisticRegression(max_iter=1000,\n",
       "                                                                       random_state=43,\n",
       "                                                                       solver='liblinear')],\n",
       "                                         'models__C': [0.1, 1, 10],\n",
       "                                         'vect__max_df': [0.4, 0.6, 0.8],\n",
       "                                         'vect__max_features': [5000, 10000],\n",
       "                                         'vect__min_df': [1, 3],\n",
       "                                         'vect__norm': ['l1', 'l2']}],\n",
       "                   scoring='f1')"
      ]
     },
     "execution_count": 19,
     "metadata": {},
     "output_type": "execute_result"
    }
   ],
   "source": [
    "rndom.fit(X_train, y_train)"
   ]
  },
  {
   "cell_type": "code",
   "execution_count": 20,
   "metadata": {},
   "outputs": [
    {
     "name": "stdout",
     "output_type": "stream",
     "text": [
      "Рейтинг моделей:\n"
     ]
    },
    {
     "data": {
      "text/html": [
       "<div>\n",
       "<style scoped>\n",
       "    .dataframe tbody tr th:only-of-type {\n",
       "        vertical-align: middle;\n",
       "    }\n",
       "\n",
       "    .dataframe tbody tr th {\n",
       "        vertical-align: top;\n",
       "    }\n",
       "\n",
       "    .dataframe thead th {\n",
       "        text-align: right;\n",
       "    }\n",
       "</style>\n",
       "<table border=\"1\" class=\"dataframe\">\n",
       "  <thead>\n",
       "    <tr style=\"text-align: right;\">\n",
       "      <th></th>\n",
       "      <th>params</th>\n",
       "      <th>mean_test_score</th>\n",
       "      <th>rank_test_score</th>\n",
       "    </tr>\n",
       "  </thead>\n",
       "  <tbody>\n",
       "    <tr>\n",
       "      <th>3</th>\n",
       "      <td>{'vect__norm': 'l2', 'vect__min_df': 1, 'vect__max_features': 10000, 'vect__max_df': 0.6, 'models__C': 10, 'models': LogisticRegression(max_iter=1000, random_state=43, solver='liblinear')}</td>\n",
       "      <td>0.783392</td>\n",
       "      <td>1</td>\n",
       "    </tr>\n",
       "    <tr>\n",
       "      <th>6</th>\n",
       "      <td>{'vect__norm': 'l2', 'vect__min_df': 1, 'vect__max_features': 5000, 'vect__max_df': 0.6, 'models__C': 10, 'models': LogisticRegression(max_iter=1000, random_state=43, solver='liblinear')}</td>\n",
       "      <td>0.779239</td>\n",
       "      <td>2</td>\n",
       "    </tr>\n",
       "    <tr>\n",
       "      <th>4</th>\n",
       "      <td>{'vect__norm': 'l2', 'vect__min_df': 3, 'vect__max_features': 10000, 'vect__max_df': 0.4, 'models__C': 10, 'models': LogisticRegression(max_iter=1000, random_state=43, solver='liblinear')}</td>\n",
       "      <td>0.775095</td>\n",
       "      <td>3</td>\n",
       "    </tr>\n",
       "    <tr>\n",
       "      <th>0</th>\n",
       "      <td>{'vect__norm': 'l2', 'vect__min_df': 3, 'vect__max_features': 5000, 'vect__max_df': 0.8, 'models__C': 1, 'models': LogisticRegression(max_iter=1000, random_state=43, solver='liblinear')}</td>\n",
       "      <td>0.747363</td>\n",
       "      <td>4</td>\n",
       "    </tr>\n",
       "    <tr>\n",
       "      <th>7</th>\n",
       "      <td>{'vect__norm': 'l1', 'vect__min_df': 3, 'vect__max_features': 10000, 'vect__max_df': 0.8, 'models__C': 10, 'models': LogisticRegression(max_iter=1000, random_state=43, solver='liblinear')}</td>\n",
       "      <td>0.686504</td>\n",
       "      <td>5</td>\n",
       "    </tr>\n",
       "    <tr>\n",
       "      <th>2</th>\n",
       "      <td>{'vect__norm': 'l1', 'vect__min_df': 1, 'vect__max_features': 10000, 'vect__max_df': 0.8, 'models__C': 10, 'models': LogisticRegression(max_iter=1000, random_state=43, solver='liblinear')}</td>\n",
       "      <td>0.686460</td>\n",
       "      <td>6</td>\n",
       "    </tr>\n",
       "    <tr>\n",
       "      <th>5</th>\n",
       "      <td>{'vect__norm': 'l2', 'vect__min_df': 1, 'vect__max_features': 5000, 'vect__max_df': 0.6, 'models__C': 0.1, 'models': LogisticRegression(max_iter=1000, random_state=43, solver='liblinear')}</td>\n",
       "      <td>0.569413</td>\n",
       "      <td>7</td>\n",
       "    </tr>\n",
       "    <tr>\n",
       "      <th>8</th>\n",
       "      <td>{'vect__norm': 'l1', 'vect__min_df': 1, 'vect__max_features': 5000, 'vect__max_df': 0.4, 'models__C': 1, 'models': LogisticRegression(max_iter=1000, random_state=43, solver='liblinear')}</td>\n",
       "      <td>0.512368</td>\n",
       "      <td>8</td>\n",
       "    </tr>\n",
       "    <tr>\n",
       "      <th>1</th>\n",
       "      <td>{'vect__norm': 'l1', 'vect__min_df': 1, 'vect__max_features': 10000, 'vect__max_df': 0.8, 'models__C': 1, 'models': LogisticRegression(max_iter=1000, random_state=43, solver='liblinear')}</td>\n",
       "      <td>0.492017</td>\n",
       "      <td>9</td>\n",
       "    </tr>\n",
       "    <tr>\n",
       "      <th>9</th>\n",
       "      <td>{'vect__norm': 'l1', 'vect__min_df': 3, 'vect__max_features': 10000, 'vect__max_df': 0.8, 'models__C': 0.1, 'models': LogisticRegression(max_iter=1000, random_state=43, solver='liblinear')}</td>\n",
       "      <td>0.114829</td>\n",
       "      <td>10</td>\n",
       "    </tr>\n",
       "  </tbody>\n",
       "</table>\n",
       "</div>"
      ],
      "text/plain": [
       "                                                                                                                                                                                          params  \\\n",
       "3   {'vect__norm': 'l2', 'vect__min_df': 1, 'vect__max_features': 10000, 'vect__max_df': 0.6, 'models__C': 10, 'models': LogisticRegression(max_iter=1000, random_state=43, solver='liblinear')}   \n",
       "6    {'vect__norm': 'l2', 'vect__min_df': 1, 'vect__max_features': 5000, 'vect__max_df': 0.6, 'models__C': 10, 'models': LogisticRegression(max_iter=1000, random_state=43, solver='liblinear')}   \n",
       "4   {'vect__norm': 'l2', 'vect__min_df': 3, 'vect__max_features': 10000, 'vect__max_df': 0.4, 'models__C': 10, 'models': LogisticRegression(max_iter=1000, random_state=43, solver='liblinear')}   \n",
       "0     {'vect__norm': 'l2', 'vect__min_df': 3, 'vect__max_features': 5000, 'vect__max_df': 0.8, 'models__C': 1, 'models': LogisticRegression(max_iter=1000, random_state=43, solver='liblinear')}   \n",
       "7   {'vect__norm': 'l1', 'vect__min_df': 3, 'vect__max_features': 10000, 'vect__max_df': 0.8, 'models__C': 10, 'models': LogisticRegression(max_iter=1000, random_state=43, solver='liblinear')}   \n",
       "2   {'vect__norm': 'l1', 'vect__min_df': 1, 'vect__max_features': 10000, 'vect__max_df': 0.8, 'models__C': 10, 'models': LogisticRegression(max_iter=1000, random_state=43, solver='liblinear')}   \n",
       "5   {'vect__norm': 'l2', 'vect__min_df': 1, 'vect__max_features': 5000, 'vect__max_df': 0.6, 'models__C': 0.1, 'models': LogisticRegression(max_iter=1000, random_state=43, solver='liblinear')}   \n",
       "8     {'vect__norm': 'l1', 'vect__min_df': 1, 'vect__max_features': 5000, 'vect__max_df': 0.4, 'models__C': 1, 'models': LogisticRegression(max_iter=1000, random_state=43, solver='liblinear')}   \n",
       "1    {'vect__norm': 'l1', 'vect__min_df': 1, 'vect__max_features': 10000, 'vect__max_df': 0.8, 'models__C': 1, 'models': LogisticRegression(max_iter=1000, random_state=43, solver='liblinear')}   \n",
       "9  {'vect__norm': 'l1', 'vect__min_df': 3, 'vect__max_features': 10000, 'vect__max_df': 0.8, 'models__C': 0.1, 'models': LogisticRegression(max_iter=1000, random_state=43, solver='liblinear')}   \n",
       "\n",
       "   mean_test_score  rank_test_score  \n",
       "3         0.783392                1  \n",
       "6         0.779239                2  \n",
       "4         0.775095                3  \n",
       "0         0.747363                4  \n",
       "7         0.686504                5  \n",
       "2         0.686460                6  \n",
       "5         0.569413                7  \n",
       "8         0.512368                8  \n",
       "1         0.492017                9  \n",
       "9         0.114829               10  "
      ]
     },
     "metadata": {},
     "output_type": "display_data"
    }
   ],
   "source": [
    "results = rndom.cv_results_\n",
    "results_df = pd.DataFrame(results)\n",
    "\n",
    "ranking_columns = ['params', 'mean_test_score', 'rank_test_score']\n",
    "ranking_df = results_df[ranking_columns].sort_values(by='rank_test_score')\n",
    "\n",
    "print(\"Рейтинг моделей:\")\n",
    "display(ranking_df.head(10))"
   ]
  },
  {
   "cell_type": "markdown",
   "metadata": {},
   "source": [
    "Лучшая модель - **LogisticRegression**(C=10, max_iter=1000, random_state=43, solver='liblinear') c test_score = **0.783**"
   ]
  },
  {
   "cell_type": "code",
   "execution_count": 21,
   "metadata": {},
   "outputs": [],
   "source": [
    "best_estimator = rndom.best_estimator_\n",
    "vect = best_estimator[0]\n",
    "model = best_estimator[1]"
   ]
  },
  {
   "cell_type": "code",
   "execution_count": 22,
   "metadata": {},
   "outputs": [],
   "source": [
    "tf_idf_test = vect.transform(X_test)"
   ]
  },
  {
   "cell_type": "code",
   "execution_count": 23,
   "metadata": {},
   "outputs": [
    {
     "data": {
      "text/plain": [
       "0.7868265123329199"
      ]
     },
     "execution_count": 23,
     "metadata": {},
     "output_type": "execute_result"
    }
   ],
   "source": [
    "y_pred = model.predict(tf_idf_test)\n",
    "f1_score(y_test, y_pred)"
   ]
  },
  {
   "cell_type": "markdown",
   "metadata": {},
   "source": [
    "Так как критерий успеха значение метрики f1 >= 0.75, то считаем нашу модель успешной"
   ]
  },
  {
   "cell_type": "markdown",
   "metadata": {},
   "source": [
    "*Выводы:*\n",
    "\n",
    "1. Был создан паплайн\n",
    "2. Были обучены модели - KNeighborsClassifier, DecisionTreeClassifier, LogisticRegression\n",
    "3. Для каждой модели были подобраны гиперпараметры\n",
    "3. Лучшая модель на тренировочной выборке - LogisticRegression с f1 = 0.783\n",
    "4. Значение метрики на тестовой выборке - **0.787**"
   ]
  },
  {
   "cell_type": "markdown",
   "metadata": {},
   "source": [
    "## Выводы"
   ]
  },
  {
   "cell_type": "markdown",
   "metadata": {},
   "source": [
    "**Общий вывод**\n",
    "\n",
    "1. Данные были загружены и соответствуют ТЗ.\n",
    "2. Названия столбцов не требуют корректировки.\n",
    "3. Размер датафрейма - (159292, 2).\n",
    "4. Пропуски не обнаружены.\n",
    "1. Создана функция для лемматизации и удаления стоп-слов и лишних пробелов.\n",
    "2. Удалены дубликаты.\n",
    "3. Присутствует дисбаланс классов\n",
    "1. Был создан паплайн\n",
    "2. Были обучены модели - KNeighborsClassifier, DecisionTreeClassifier, LogisticRegression\n",
    "3. Для каждой модели были подобраны гиперпараметры\n",
    "3. Лучшая модель на тренировочной выборке - **LogisticRegression**(C=10, max_iter=1000, random_state=43, solver='liblinear') с f1 = **0.783**\n",
    "4. Значение метрики на тестовой выборке - **0.787**"
   ]
  }
 ],
 "metadata": {
  "ExecuteTimeLog": [
   {
    "duration": 7342,
    "start_time": "2025-04-21T10:44:52.855Z"
   },
   {
    "duration": 426,
    "start_time": "2025-04-21T10:45:07.901Z"
   },
   {
    "duration": 983,
    "start_time": "2025-04-21T10:45:51.924Z"
   },
   {
    "duration": 103,
    "start_time": "2025-04-21T10:47:23.057Z"
   },
   {
    "duration": 27,
    "start_time": "2025-04-21T10:47:30.407Z"
   },
   {
    "duration": 26,
    "start_time": "2025-04-21T10:47:34.425Z"
   },
   {
    "duration": 33,
    "start_time": "2025-04-21T10:47:37.610Z"
   },
   {
    "duration": 155,
    "start_time": "2025-04-21T10:54:00.768Z"
   },
   {
    "duration": 4400,
    "start_time": "2025-04-21T10:54:32.410Z"
   },
   {
    "duration": 3115,
    "start_time": "2025-04-21T10:54:52.777Z"
   },
   {
    "duration": 5,
    "start_time": "2025-04-21T10:55:47.283Z"
   },
   {
    "duration": 726,
    "start_time": "2025-04-21T10:56:10.573Z"
   },
   {
    "duration": 564,
    "start_time": "2025-04-21T10:56:35.325Z"
   },
   {
    "duration": 60682,
    "start_time": "2025-04-21T10:56:37.780Z"
   },
   {
    "duration": 4,
    "start_time": "2025-04-21T10:58:45.051Z"
   },
   {
    "duration": 4,
    "start_time": "2025-04-21T10:58:48.972Z"
   },
   {
    "duration": 458,
    "start_time": "2025-04-21T10:58:57.027Z"
   },
   {
    "duration": 3,
    "start_time": "2025-04-21T10:59:04.473Z"
   },
   {
    "duration": 127263,
    "start_time": "2025-04-21T10:59:28.750Z"
   },
   {
    "duration": 35,
    "start_time": "2025-04-21T11:02:11.740Z"
   },
   {
    "duration": 4,
    "start_time": "2025-04-21T11:02:23.431Z"
   },
   {
    "duration": 3034,
    "start_time": "2025-04-21T11:02:33.133Z"
   },
   {
    "duration": 3446,
    "start_time": "2025-04-21T11:02:36.169Z"
   },
   {
    "duration": 882,
    "start_time": "2025-04-21T11:02:39.617Z"
   },
   {
    "duration": 38,
    "start_time": "2025-04-21T11:02:40.500Z"
   },
   {
    "duration": 4,
    "start_time": "2025-04-21T11:02:40.540Z"
   },
   {
    "duration": 59,
    "start_time": "2025-04-21T11:02:40.545Z"
   },
   {
    "duration": 79,
    "start_time": "2025-04-21T11:02:40.606Z"
   },
   {
    "duration": 12,
    "start_time": "2025-04-21T11:02:40.686Z"
   },
   {
    "duration": 504,
    "start_time": "2025-04-21T11:02:40.700Z"
   },
   {
    "duration": 662,
    "start_time": "2025-04-21T11:02:41.205Z"
   },
   {
    "duration": 3042,
    "start_time": "2025-04-21T11:10:49.410Z"
   },
   {
    "duration": 4359,
    "start_time": "2025-04-21T11:10:52.454Z"
   },
   {
    "duration": 924,
    "start_time": "2025-04-21T11:10:56.815Z"
   },
   {
    "duration": 33,
    "start_time": "2025-04-21T11:10:57.741Z"
   },
   {
    "duration": 4,
    "start_time": "2025-04-21T11:10:57.776Z"
   },
   {
    "duration": 33,
    "start_time": "2025-04-21T11:10:57.781Z"
   },
   {
    "duration": 93,
    "start_time": "2025-04-21T11:10:57.816Z"
   },
   {
    "duration": 89,
    "start_time": "2025-04-21T11:10:57.911Z"
   },
   {
    "duration": 689,
    "start_time": "2025-04-21T11:10:58.002Z"
   },
   {
    "duration": 43462,
    "start_time": "2025-04-21T11:10:58.693Z"
   },
   {
    "duration": 2967,
    "start_time": "2025-04-21T11:23:51.457Z"
   },
   {
    "duration": 3911,
    "start_time": "2025-04-21T11:23:54.426Z"
   },
   {
    "duration": 882,
    "start_time": "2025-04-21T11:23:58.339Z"
   },
   {
    "duration": 37,
    "start_time": "2025-04-21T11:23:59.223Z"
   },
   {
    "duration": 7,
    "start_time": "2025-04-21T11:23:59.263Z"
   },
   {
    "duration": 27,
    "start_time": "2025-04-21T11:23:59.271Z"
   },
   {
    "duration": 191,
    "start_time": "2025-04-21T11:23:59.300Z"
   },
   {
    "duration": 10,
    "start_time": "2025-04-21T11:23:59.492Z"
   },
   {
    "duration": 671,
    "start_time": "2025-04-21T11:23:59.504Z"
   },
   {
    "duration": 1112440,
    "start_time": "2025-04-21T11:24:00.177Z"
   },
   {
    "duration": 80,
    "start_time": "2025-04-21T11:43:16.099Z"
   },
   {
    "duration": 238,
    "start_time": "2025-04-21T11:43:58.015Z"
   },
   {
    "duration": 3,
    "start_time": "2025-04-21T11:46:24.350Z"
   },
   {
    "duration": 67,
    "start_time": "2025-04-21T11:46:33.620Z"
   },
   {
    "duration": 3,
    "start_time": "2025-04-21T11:46:44.381Z"
   },
   {
    "duration": 12,
    "start_time": "2025-04-21T11:46:56.710Z"
   },
   {
    "duration": 3,
    "start_time": "2025-04-21T11:47:00.428Z"
   },
   {
    "duration": 308,
    "start_time": "2025-04-21T11:49:11.173Z"
   },
   {
    "duration": 4,
    "start_time": "2025-04-21T11:50:23.778Z"
   },
   {
    "duration": 3,
    "start_time": "2025-04-21T11:51:10.878Z"
   },
   {
    "duration": 21,
    "start_time": "2025-04-21T11:51:25.247Z"
   },
   {
    "duration": 4,
    "start_time": "2025-04-21T11:51:51.083Z"
   },
   {
    "duration": 3,
    "start_time": "2025-04-21T11:52:57.046Z"
   },
   {
    "duration": 21,
    "start_time": "2025-04-21T11:53:10.327Z"
   },
   {
    "duration": 1974426,
    "start_time": "2025-04-21T11:53:13.778Z"
   },
   {
    "duration": 3,
    "start_time": "2025-04-21T12:26:57.231Z"
   },
   {
    "duration": 2975,
    "start_time": "2025-04-21T12:30:10.658Z"
   },
   {
    "duration": 4648,
    "start_time": "2025-04-21T12:30:13.636Z"
   },
   {
    "duration": 900,
    "start_time": "2025-04-21T12:30:18.285Z"
   },
   {
    "duration": 33,
    "start_time": "2025-04-21T12:30:19.187Z"
   },
   {
    "duration": 4,
    "start_time": "2025-04-21T12:30:19.237Z"
   },
   {
    "duration": 30,
    "start_time": "2025-04-21T12:30:19.242Z"
   },
   {
    "duration": 89,
    "start_time": "2025-04-21T12:30:19.274Z"
   },
   {
    "duration": 3,
    "start_time": "2025-04-21T12:30:19.365Z"
   },
   {
    "duration": 681,
    "start_time": "2025-04-21T12:30:19.370Z"
   },
   {
    "duration": 1123754,
    "start_time": "2025-04-21T12:30:20.052Z"
   },
   {
    "duration": 89,
    "start_time": "2025-04-21T12:49:03.808Z"
   },
   {
    "duration": 286,
    "start_time": "2025-04-21T12:49:03.899Z"
   },
   {
    "duration": 3,
    "start_time": "2025-04-21T12:49:04.186Z"
   },
   {
    "duration": 86,
    "start_time": "2025-04-21T12:49:04.191Z"
   },
   {
    "duration": 3,
    "start_time": "2025-04-21T12:49:04.278Z"
   },
   {
    "duration": 33,
    "start_time": "2025-04-21T12:49:04.282Z"
   },
   {
    "duration": 30,
    "start_time": "2025-04-21T12:49:04.316Z"
   },
   {
    "duration": 11,
    "start_time": "2025-04-21T12:49:04.348Z"
   },
   {
    "duration": 3140,
    "start_time": "2025-04-21T13:11:48.139Z"
   },
   {
    "duration": 3982,
    "start_time": "2025-04-21T13:11:51.282Z"
   },
   {
    "duration": 944,
    "start_time": "2025-04-21T13:11:55.266Z"
   },
   {
    "duration": 40,
    "start_time": "2025-04-21T13:11:56.212Z"
   },
   {
    "duration": 4,
    "start_time": "2025-04-21T13:11:56.255Z"
   },
   {
    "duration": 28,
    "start_time": "2025-04-21T13:11:56.261Z"
   },
   {
    "duration": 106,
    "start_time": "2025-04-21T13:11:56.292Z"
   },
   {
    "duration": 76,
    "start_time": "2025-04-21T13:11:56.400Z"
   },
   {
    "duration": 674,
    "start_time": "2025-04-21T13:11:56.478Z"
   },
   {
    "duration": 1124533,
    "start_time": "2025-04-21T13:11:57.154Z"
   },
   {
    "duration": 87,
    "start_time": "2025-04-21T13:30:41.688Z"
   },
   {
    "duration": 276,
    "start_time": "2025-04-21T13:30:41.777Z"
   },
   {
    "duration": 3,
    "start_time": "2025-04-21T13:30:42.054Z"
   },
   {
    "duration": 95,
    "start_time": "2025-04-21T13:30:42.060Z"
   },
   {
    "duration": 3,
    "start_time": "2025-04-21T13:30:42.156Z"
   },
   {
    "duration": 45,
    "start_time": "2025-04-21T13:30:42.161Z"
   },
   {
    "duration": 56,
    "start_time": "2025-04-21T13:30:42.208Z"
   },
   {
    "duration": 47,
    "start_time": "2025-04-21T13:30:42.266Z"
   },
   {
    "duration": 298091,
    "start_time": "2025-04-21T13:30:42.315Z"
   },
   {
    "duration": 301,
    "start_time": "2025-04-21T13:36:16.814Z"
   },
   {
    "duration": 3,
    "start_time": "2025-04-21T13:36:21.833Z"
   },
   {
    "duration": 20,
    "start_time": "2025-04-21T13:36:51.114Z"
   },
   {
    "duration": 17,
    "start_time": "2025-04-21T13:36:56.876Z"
   },
   {
    "duration": 19,
    "start_time": "2025-04-21T13:37:28.060Z"
   },
   {
    "duration": 19,
    "start_time": "2025-04-21T13:37:51.969Z"
   },
   {
    "duration": 3,
    "start_time": "2025-04-21T13:37:57.649Z"
   },
   {
    "duration": 1784,
    "start_time": "2025-04-21T13:38:05.353Z"
   },
   {
    "duration": 89,
    "start_time": "2025-04-21T13:38:14.297Z"
   },
   {
    "duration": 19,
    "start_time": "2025-04-21T13:38:17.285Z"
   },
   {
    "duration": 4,
    "start_time": "2025-04-21T13:41:49.665Z"
   },
   {
    "duration": 3,
    "start_time": "2025-04-21T13:41:51.296Z"
   },
   {
    "duration": 116171,
    "start_time": "2025-04-21T13:41:52.734Z"
   },
   {
    "duration": 3146,
    "start_time": "2025-04-21T13:48:27.601Z"
   },
   {
    "duration": 3917,
    "start_time": "2025-04-21T13:48:30.749Z"
   },
   {
    "duration": 962,
    "start_time": "2025-04-21T13:48:34.668Z"
   },
   {
    "duration": 34,
    "start_time": "2025-04-21T13:48:35.637Z"
   },
   {
    "duration": 4,
    "start_time": "2025-04-21T13:48:35.673Z"
   },
   {
    "duration": 56,
    "start_time": "2025-04-21T13:48:35.678Z"
   },
   {
    "duration": 81,
    "start_time": "2025-04-21T13:48:35.736Z"
   },
   {
    "duration": 14,
    "start_time": "2025-04-21T13:48:35.819Z"
   },
   {
    "duration": 705,
    "start_time": "2025-04-21T13:48:35.834Z"
   },
   {
    "duration": 1133108,
    "start_time": "2025-04-21T13:48:36.541Z"
   },
   {
    "duration": 90,
    "start_time": "2025-04-21T14:07:29.651Z"
   },
   {
    "duration": 284,
    "start_time": "2025-04-21T14:07:29.742Z"
   },
   {
    "duration": 3,
    "start_time": "2025-04-21T14:07:30.028Z"
   },
   {
    "duration": 145,
    "start_time": "2025-04-21T14:07:30.033Z"
   },
   {
    "duration": 3,
    "start_time": "2025-04-21T14:07:30.180Z"
   },
   {
    "duration": 27,
    "start_time": "2025-04-21T14:07:30.185Z"
   },
   {
    "duration": 48,
    "start_time": "2025-04-21T14:07:30.214Z"
   },
   {
    "duration": 61,
    "start_time": "2025-04-21T14:07:30.263Z"
   },
   {
    "duration": 626160,
    "start_time": "2025-04-21T14:07:30.326Z"
   },
   {
    "duration": 21,
    "start_time": "2025-04-21T14:17:56.487Z"
   },
   {
    "duration": 3,
    "start_time": "2025-04-21T14:17:56.509Z"
   },
   {
    "duration": 1823,
    "start_time": "2025-04-21T14:17:56.514Z"
   },
   {
    "duration": 17,
    "start_time": "2025-04-21T14:17:58.339Z"
   }
  ],
  "kernelspec": {
   "display_name": "Python 3 (ipykernel)",
   "language": "python",
   "name": "python3"
  },
  "language_info": {
   "codemirror_mode": {
    "name": "ipython",
    "version": 3
   },
   "file_extension": ".py",
   "mimetype": "text/x-python",
   "name": "python",
   "nbconvert_exporter": "python",
   "pygments_lexer": "ipython3",
   "version": "3.11.8"
  },
  "toc": {
   "base_numbering": 1,
   "nav_menu": {},
   "number_sections": true,
   "sideBar": true,
   "skip_h1_title": true,
   "title_cell": "Содержание",
   "title_sidebar": "Contents",
   "toc_cell": true,
   "toc_position": {
    "height": "calc(100% - 180px)",
    "left": "10px",
    "top": "150px",
    "width": "233px"
   },
   "toc_section_display": true,
   "toc_window_display": true
  }
 },
 "nbformat": 4,
 "nbformat_minor": 4
}
