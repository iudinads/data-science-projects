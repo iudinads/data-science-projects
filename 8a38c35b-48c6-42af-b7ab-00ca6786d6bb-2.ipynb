{
 "cells": [
  {
   "cell_type": "markdown",
   "metadata": {},
   "source": [
    "# Выбор локации для скважины"
   ]
  },
  {
   "cell_type": "markdown",
   "metadata": {},
   "source": [
    "В компании «ГлавРосГосНефть» поставлена задача определить оптимальное место для бурения новой скважины. Для этого собраны данные о пробах нефти из трех различных регионов, в каждом из которых имеется 10 000 месторождений с измерениями качества нефти и объема её запасов. \n",
    "\n",
    "Необходимо построить модель машинного обучения, которая поможет определить регион, где добыча принесёт наибольшую прибыль и проанализировать возможную прибыль и риски техникой *Bootstrap.*\n",
    "\n",
    "Шаги для выбора локации:\n",
    "\n",
    "- В избранном регионе ищут месторождения, для каждого определяют значения признаков;\n",
    "- Строят модель и оценивают объём запасов;\n",
    "- Выбирают месторождения с самым высокими оценками значений. Количество месторождений зависит от бюджета компании и стоимости разработки одной скважины;\n",
    "- Прибыль равна суммарной прибыли отобранных месторождений."
   ]
  },
  {
   "cell_type": "markdown",
   "metadata": {},
   "source": [
    "**Импорт библиотек**"
   ]
  },
  {
   "cell_type": "code",
   "execution_count": 1,
   "metadata": {},
   "outputs": [
    {
     "name": "stdout",
     "output_type": "stream",
     "text": [
      "Requirement already satisfied: scikit-learn in /opt/conda/lib/python3.9/site-packages (1.6.1)\n",
      "Requirement already satisfied: scipy>=1.6.0 in /opt/conda/lib/python3.9/site-packages (from scikit-learn) (1.9.1)\n",
      "Requirement already satisfied: joblib>=1.2.0 in /opt/conda/lib/python3.9/site-packages (from scikit-learn) (1.4.2)\n",
      "Requirement already satisfied: numpy>=1.19.5 in /opt/conda/lib/python3.9/site-packages (from scikit-learn) (1.21.1)\n",
      "Requirement already satisfied: threadpoolctl>=3.1.0 in /opt/conda/lib/python3.9/site-packages (from scikit-learn) (3.1.0)\n",
      "Note: you may need to restart the kernel to use updated packages.\n"
     ]
    }
   ],
   "source": [
    "pip install --upgrade scikit-learn"
   ]
  },
  {
   "cell_type": "code",
   "execution_count": 2,
   "metadata": {},
   "outputs": [],
   "source": [
    "import pandas as pd\n",
    "import numpy as np\n",
    "import matplotlib.pyplot as plt\n",
    "import seaborn as sns\n",
    "\n",
    "from sklearn.model_selection import GridSearchCV, train_test_split\n",
    "from sklearn.preprocessing import StandardScaler\n",
    "from sklearn.impute import SimpleImputer\n",
    "from sklearn.linear_model import LinearRegression\n",
    "from sklearn.metrics import mean_squared_error\n",
    "\n",
    "RANDOM_STATE = 42\n",
    "TEST_SIZE = 0.25"
   ]
  },
  {
   "cell_type": "code",
   "execution_count": 3,
   "metadata": {},
   "outputs": [],
   "source": [
    "PROFIT_ONE_BARREL = 450\n",
    "PROFIT_ONE_PRODUCT = PROFIT_ONE_BARREL * 1000\n",
    "\n",
    "WELL_BUDGET = 10000000000\n",
    "WELL_AMOUNT = 200\n",
    "\n",
    "THRESHOLD = 0.025"
   ]
  },
  {
   "cell_type": "markdown",
   "metadata": {},
   "source": [
    "## Загрузка и подготовка данных"
   ]
  },
  {
   "cell_type": "code",
   "execution_count": 4,
   "metadata": {},
   "outputs": [],
   "source": [
    "geo_0 = pd.read_csv('/datasets/geo_data_0.csv')\n",
    "geo_1 = pd.read_csv('/datasets/geo_data_1.csv')\n",
    "geo_2 = pd.read_csv('/datasets/geo_data_2.csv')"
   ]
  },
  {
   "cell_type": "code",
   "execution_count": 5,
   "metadata": {},
   "outputs": [
    {
     "data": {
      "text/html": [
       "<div>\n",
       "<style scoped>\n",
       "    .dataframe tbody tr th:only-of-type {\n",
       "        vertical-align: middle;\n",
       "    }\n",
       "\n",
       "    .dataframe tbody tr th {\n",
       "        vertical-align: top;\n",
       "    }\n",
       "\n",
       "    .dataframe thead th {\n",
       "        text-align: right;\n",
       "    }\n",
       "</style>\n",
       "<table border=\"1\" class=\"dataframe\">\n",
       "  <thead>\n",
       "    <tr style=\"text-align: right;\">\n",
       "      <th></th>\n",
       "      <th>id</th>\n",
       "      <th>f0</th>\n",
       "      <th>f1</th>\n",
       "      <th>f2</th>\n",
       "      <th>product</th>\n",
       "    </tr>\n",
       "  </thead>\n",
       "  <tbody>\n",
       "    <tr>\n",
       "      <th>0</th>\n",
       "      <td>txEyH</td>\n",
       "      <td>0.705745</td>\n",
       "      <td>-0.497823</td>\n",
       "      <td>1.221170</td>\n",
       "      <td>105.280062</td>\n",
       "    </tr>\n",
       "    <tr>\n",
       "      <th>1</th>\n",
       "      <td>2acmU</td>\n",
       "      <td>1.334711</td>\n",
       "      <td>-0.340164</td>\n",
       "      <td>4.365080</td>\n",
       "      <td>73.037750</td>\n",
       "    </tr>\n",
       "    <tr>\n",
       "      <th>2</th>\n",
       "      <td>409Wp</td>\n",
       "      <td>1.022732</td>\n",
       "      <td>0.151990</td>\n",
       "      <td>1.419926</td>\n",
       "      <td>85.265647</td>\n",
       "    </tr>\n",
       "    <tr>\n",
       "      <th>3</th>\n",
       "      <td>iJLyR</td>\n",
       "      <td>-0.032172</td>\n",
       "      <td>0.139033</td>\n",
       "      <td>2.978566</td>\n",
       "      <td>168.620776</td>\n",
       "    </tr>\n",
       "    <tr>\n",
       "      <th>4</th>\n",
       "      <td>Xdl7t</td>\n",
       "      <td>1.988431</td>\n",
       "      <td>0.155413</td>\n",
       "      <td>4.751769</td>\n",
       "      <td>154.036647</td>\n",
       "    </tr>\n",
       "  </tbody>\n",
       "</table>\n",
       "</div>"
      ],
      "text/plain": [
       "      id        f0        f1        f2     product\n",
       "0  txEyH  0.705745 -0.497823  1.221170  105.280062\n",
       "1  2acmU  1.334711 -0.340164  4.365080   73.037750\n",
       "2  409Wp  1.022732  0.151990  1.419926   85.265647\n",
       "3  iJLyR -0.032172  0.139033  2.978566  168.620776\n",
       "4  Xdl7t  1.988431  0.155413  4.751769  154.036647"
      ]
     },
     "metadata": {},
     "output_type": "display_data"
    },
    {
     "name": "stdout",
     "output_type": "stream",
     "text": [
      "(100000, 5)\n",
      "\n",
      "<class 'pandas.core.frame.DataFrame'>\n",
      "RangeIndex: 100000 entries, 0 to 99999\n",
      "Data columns (total 5 columns):\n",
      " #   Column   Non-Null Count   Dtype  \n",
      "---  ------   --------------   -----  \n",
      " 0   id       100000 non-null  object \n",
      " 1   f0       100000 non-null  float64\n",
      " 2   f1       100000 non-null  float64\n",
      " 3   f2       100000 non-null  float64\n",
      " 4   product  100000 non-null  float64\n",
      "dtypes: float64(4), object(1)\n",
      "memory usage: 3.8+ MB\n"
     ]
    }
   ],
   "source": [
    "display(geo_0.head())\n",
    "print(geo_0.shape)\n",
    "print()\n",
    "geo_0.info()"
   ]
  },
  {
   "cell_type": "code",
   "execution_count": 6,
   "metadata": {},
   "outputs": [
    {
     "data": {
      "text/html": [
       "<div>\n",
       "<style scoped>\n",
       "    .dataframe tbody tr th:only-of-type {\n",
       "        vertical-align: middle;\n",
       "    }\n",
       "\n",
       "    .dataframe tbody tr th {\n",
       "        vertical-align: top;\n",
       "    }\n",
       "\n",
       "    .dataframe thead th {\n",
       "        text-align: right;\n",
       "    }\n",
       "</style>\n",
       "<table border=\"1\" class=\"dataframe\">\n",
       "  <thead>\n",
       "    <tr style=\"text-align: right;\">\n",
       "      <th></th>\n",
       "      <th>id</th>\n",
       "      <th>f0</th>\n",
       "      <th>f1</th>\n",
       "      <th>f2</th>\n",
       "      <th>product</th>\n",
       "    </tr>\n",
       "  </thead>\n",
       "  <tbody>\n",
       "    <tr>\n",
       "      <th>0</th>\n",
       "      <td>kBEdx</td>\n",
       "      <td>-15.001348</td>\n",
       "      <td>-8.276000</td>\n",
       "      <td>-0.005876</td>\n",
       "      <td>3.179103</td>\n",
       "    </tr>\n",
       "    <tr>\n",
       "      <th>1</th>\n",
       "      <td>62mP7</td>\n",
       "      <td>14.272088</td>\n",
       "      <td>-3.475083</td>\n",
       "      <td>0.999183</td>\n",
       "      <td>26.953261</td>\n",
       "    </tr>\n",
       "    <tr>\n",
       "      <th>2</th>\n",
       "      <td>vyE1P</td>\n",
       "      <td>6.263187</td>\n",
       "      <td>-5.948386</td>\n",
       "      <td>5.001160</td>\n",
       "      <td>134.766305</td>\n",
       "    </tr>\n",
       "    <tr>\n",
       "      <th>3</th>\n",
       "      <td>KcrkZ</td>\n",
       "      <td>-13.081196</td>\n",
       "      <td>-11.506057</td>\n",
       "      <td>4.999415</td>\n",
       "      <td>137.945408</td>\n",
       "    </tr>\n",
       "    <tr>\n",
       "      <th>4</th>\n",
       "      <td>AHL4O</td>\n",
       "      <td>12.702195</td>\n",
       "      <td>-8.147433</td>\n",
       "      <td>5.004363</td>\n",
       "      <td>134.766305</td>\n",
       "    </tr>\n",
       "  </tbody>\n",
       "</table>\n",
       "</div>"
      ],
      "text/plain": [
       "      id         f0         f1        f2     product\n",
       "0  kBEdx -15.001348  -8.276000 -0.005876    3.179103\n",
       "1  62mP7  14.272088  -3.475083  0.999183   26.953261\n",
       "2  vyE1P   6.263187  -5.948386  5.001160  134.766305\n",
       "3  KcrkZ -13.081196 -11.506057  4.999415  137.945408\n",
       "4  AHL4O  12.702195  -8.147433  5.004363  134.766305"
      ]
     },
     "metadata": {},
     "output_type": "display_data"
    },
    {
     "name": "stdout",
     "output_type": "stream",
     "text": [
      "(100000, 5)\n",
      "\n",
      "<class 'pandas.core.frame.DataFrame'>\n",
      "RangeIndex: 100000 entries, 0 to 99999\n",
      "Data columns (total 5 columns):\n",
      " #   Column   Non-Null Count   Dtype  \n",
      "---  ------   --------------   -----  \n",
      " 0   id       100000 non-null  object \n",
      " 1   f0       100000 non-null  float64\n",
      " 2   f1       100000 non-null  float64\n",
      " 3   f2       100000 non-null  float64\n",
      " 4   product  100000 non-null  float64\n",
      "dtypes: float64(4), object(1)\n",
      "memory usage: 3.8+ MB\n"
     ]
    }
   ],
   "source": [
    "display(geo_1.head())\n",
    "print(geo_1.shape)\n",
    "print()\n",
    "geo_1.info()"
   ]
  },
  {
   "cell_type": "code",
   "execution_count": 7,
   "metadata": {},
   "outputs": [
    {
     "data": {
      "text/html": [
       "<div>\n",
       "<style scoped>\n",
       "    .dataframe tbody tr th:only-of-type {\n",
       "        vertical-align: middle;\n",
       "    }\n",
       "\n",
       "    .dataframe tbody tr th {\n",
       "        vertical-align: top;\n",
       "    }\n",
       "\n",
       "    .dataframe thead th {\n",
       "        text-align: right;\n",
       "    }\n",
       "</style>\n",
       "<table border=\"1\" class=\"dataframe\">\n",
       "  <thead>\n",
       "    <tr style=\"text-align: right;\">\n",
       "      <th></th>\n",
       "      <th>id</th>\n",
       "      <th>f0</th>\n",
       "      <th>f1</th>\n",
       "      <th>f2</th>\n",
       "      <th>product</th>\n",
       "    </tr>\n",
       "  </thead>\n",
       "  <tbody>\n",
       "    <tr>\n",
       "      <th>0</th>\n",
       "      <td>fwXo0</td>\n",
       "      <td>-1.146987</td>\n",
       "      <td>0.963328</td>\n",
       "      <td>-0.828965</td>\n",
       "      <td>27.758673</td>\n",
       "    </tr>\n",
       "    <tr>\n",
       "      <th>1</th>\n",
       "      <td>WJtFt</td>\n",
       "      <td>0.262778</td>\n",
       "      <td>0.269839</td>\n",
       "      <td>-2.530187</td>\n",
       "      <td>56.069697</td>\n",
       "    </tr>\n",
       "    <tr>\n",
       "      <th>2</th>\n",
       "      <td>ovLUW</td>\n",
       "      <td>0.194587</td>\n",
       "      <td>0.289035</td>\n",
       "      <td>-5.586433</td>\n",
       "      <td>62.871910</td>\n",
       "    </tr>\n",
       "    <tr>\n",
       "      <th>3</th>\n",
       "      <td>q6cA6</td>\n",
       "      <td>2.236060</td>\n",
       "      <td>-0.553760</td>\n",
       "      <td>0.930038</td>\n",
       "      <td>114.572842</td>\n",
       "    </tr>\n",
       "    <tr>\n",
       "      <th>4</th>\n",
       "      <td>WPMUX</td>\n",
       "      <td>-0.515993</td>\n",
       "      <td>1.716266</td>\n",
       "      <td>5.899011</td>\n",
       "      <td>149.600746</td>\n",
       "    </tr>\n",
       "  </tbody>\n",
       "</table>\n",
       "</div>"
      ],
      "text/plain": [
       "      id        f0        f1        f2     product\n",
       "0  fwXo0 -1.146987  0.963328 -0.828965   27.758673\n",
       "1  WJtFt  0.262778  0.269839 -2.530187   56.069697\n",
       "2  ovLUW  0.194587  0.289035 -5.586433   62.871910\n",
       "3  q6cA6  2.236060 -0.553760  0.930038  114.572842\n",
       "4  WPMUX -0.515993  1.716266  5.899011  149.600746"
      ]
     },
     "metadata": {},
     "output_type": "display_data"
    },
    {
     "name": "stdout",
     "output_type": "stream",
     "text": [
      "(100000, 5)\n",
      "\n",
      "<class 'pandas.core.frame.DataFrame'>\n",
      "RangeIndex: 100000 entries, 0 to 99999\n",
      "Data columns (total 5 columns):\n",
      " #   Column   Non-Null Count   Dtype  \n",
      "---  ------   --------------   -----  \n",
      " 0   id       100000 non-null  object \n",
      " 1   f0       100000 non-null  float64\n",
      " 2   f1       100000 non-null  float64\n",
      " 3   f2       100000 non-null  float64\n",
      " 4   product  100000 non-null  float64\n",
      "dtypes: float64(4), object(1)\n",
      "memory usage: 3.8+ MB\n"
     ]
    }
   ],
   "source": [
    "display(geo_2.head())\n",
    "print(geo_2.shape)\n",
    "print()\n",
    "geo_2.info()"
   ]
  },
  {
   "cell_type": "markdown",
   "metadata": {},
   "source": [
    "*Вывод по загрузке данных:*\n",
    "\n",
    "1. данные загружены и соответствуют ТЗ\n",
    "2. названия столбцов соответвуют ТЗ\n",
    "3. типы данных правильные"
   ]
  },
  {
   "cell_type": "code",
   "execution_count": 8,
   "metadata": {},
   "outputs": [
    {
     "name": "stdout",
     "output_type": "stream",
     "text": [
      "Количество пропущенных значений: id         0\n",
      "f0         0\n",
      "f1         0\n",
      "f2         0\n",
      "product    0\n",
      "dtype: int64\n",
      "\n",
      "Количество явных дубликатов: 0\n",
      "\n",
      "Количество пропущенных значений: id         0\n",
      "f0         0\n",
      "f1         0\n",
      "f2         0\n",
      "product    0\n",
      "dtype: int64\n",
      "\n",
      "Количество явных дубликатов: 0\n",
      "\n",
      "Количество пропущенных значений: id         0\n",
      "f0         0\n",
      "f1         0\n",
      "f2         0\n",
      "product    0\n",
      "dtype: int64\n",
      "\n",
      "Количество явных дубликатов: 0\n",
      "\n"
     ]
    }
   ],
   "source": [
    "for df in [geo_0, geo_1, geo_2]:\n",
    "    print(f'Количество пропущенных значений: {df.isna().sum()}')\n",
    "    print()\n",
    "    print(f'Количество явных дубликатов: {df.duplicated().sum()}')\n",
    "    print()"
   ]
  },
  {
   "cell_type": "markdown",
   "metadata": {},
   "source": [
    "*Вывод*:\n",
    "\n",
    "1. В датафреймах нет пропущенных значений\n",
    "2. В датафреймах нет явных и неявных дубликатов"
   ]
  },
  {
   "cell_type": "code",
   "execution_count": 9,
   "metadata": {},
   "outputs": [
    {
     "data": {
      "text/plain": [
       "99990"
      ]
     },
     "execution_count": 9,
     "metadata": {},
     "output_type": "execute_result"
    }
   ],
   "source": [
    "len(geo_0['id'].unique())"
   ]
  },
  {
   "cell_type": "code",
   "execution_count": 10,
   "metadata": {},
   "outputs": [
    {
     "data": {
      "text/plain": [
       "99996"
      ]
     },
     "execution_count": 10,
     "metadata": {},
     "output_type": "execute_result"
    }
   ],
   "source": [
    "len(geo_1['id'].unique())"
   ]
  },
  {
   "cell_type": "code",
   "execution_count": 11,
   "metadata": {},
   "outputs": [
    {
     "data": {
      "text/plain": [
       "99996"
      ]
     },
     "execution_count": 11,
     "metadata": {},
     "output_type": "execute_result"
    }
   ],
   "source": [
    "len(geo_2['id'].unique())"
   ]
  },
  {
   "cell_type": "markdown",
   "metadata": {},
   "source": [
    "Есть повторяющиеся id, это нужно устранить"
   ]
  },
  {
   "cell_type": "code",
   "execution_count": 12,
   "metadata": {},
   "outputs": [
    {
     "data": {
      "text/plain": [
       "(99990, (99990, 5), 99996, (99996, 5), 99996, (99996, 5))"
      ]
     },
     "execution_count": 12,
     "metadata": {},
     "output_type": "execute_result"
    }
   ],
   "source": [
    "geo_0 = geo_0.drop_duplicates(subset='id', keep='first')\n",
    "geo_1 = geo_1.drop_duplicates(subset='id', keep='first')\n",
    "geo_2 = geo_2.drop_duplicates(subset='id', keep='first')\n",
    "\n",
    "len(geo_0['id'].unique()), geo_0.shape, len(geo_1['id'].unique()), geo_1.shape, len(geo_2['id'].unique()), geo_2.shape"
   ]
  },
  {
   "cell_type": "code",
   "execution_count": 13,
   "metadata": {},
   "outputs": [],
   "source": [
    "geo_0.set_index('id', inplace=True)\n",
    "geo_1.set_index('id', inplace=True)\n",
    "geo_2.set_index('id', inplace=True)\n"
   ]
  },
  {
   "cell_type": "markdown",
   "metadata": {},
   "source": [
    "Вывод: \n",
    "\n",
    "1. Данные загружены и соответствуют ТЗ\n",
    "2. Названия столбцов соответвуют ТЗ\n",
    "3. Типы данных правильные\n",
    "4. В датафреймах нет пропущенных значений\n",
    "5. В датафреймах нет явных и неявных дубликатов\n",
    "7. Удалены повторяющиеся значения id"
   ]
  },
  {
   "cell_type": "markdown",
   "metadata": {},
   "source": [
    "### Исследовательский анализ данных"
   ]
  },
  {
   "cell_type": "code",
   "execution_count": 14,
   "metadata": {
    "scrolled": true
   },
   "outputs": [
    {
     "data": {
      "image/png": "[encoded data removed]",
      "text/plain": [
       "<Figure size 576x288 with 1 Axes>"
      ]
     },
     "metadata": {
      "needs_background": "light"
     },
     "output_type": "display_data"
    },
    {
     "data": {
      "image/png": "[encoded data removed]",
      "text/plain": [
       "<Figure size 576x288 with 1 Axes>"
      ]
     },
     "metadata": {
      "needs_background": "light"
     },
     "output_type": "display_data"
    },
    {
     "data": {
      "image/png": "[encoded data removed]",
      "text/plain": [
       "<Figure size 576x288 with 1 Axes>"
      ]
     },
     "metadata": {
      "needs_background": "light"
     },
     "output_type": "display_data"
    },
    {
     "data": {
      "image/png": "[encoded data removed]",
      "text/plain": [
       "<Figure size 576x288 with 1 Axes>"
      ]
     },
     "metadata": {
      "needs_background": "light"
     },
     "output_type": "display_data"
    }
   ],
   "source": [
    "numeric_columns = geo_0.select_dtypes(include=['float64']).columns\n",
    "\n",
    "for column in numeric_columns:\n",
    "    plt.figure(figsize=(8, 4))\n",
    "    geo_0[column].plot(kind='hist', bins=20, color = 'skyblue',edgecolor='black')\n",
    "    plt.title(f'Гистограмма для столбца: {column}')\n",
    "    plt.xlabel(column)\n",
    "    plt.ylabel('Количество')\n",
    "    plt.tight_layout()\n",
    "    plt.show()"
   ]
  },
  {
   "cell_type": "markdown",
   "metadata": {},
   "source": [
    "Распределение у признака f2 - сильно похоже на нормальное, у остальных - ненормальное"
   ]
  },
  {
   "cell_type": "code",
   "execution_count": 15,
   "metadata": {
    "scrolled": true
   },
   "outputs": [
    {
     "data": {
      "image/png": "[encoded data removed]",
      "text/plain": [
       "<Figure size 576x288 with 1 Axes>"
      ]
     },
     "metadata": {
      "needs_background": "light"
     },
     "output_type": "display_data"
    },
    {
     "data": {
      "image/png": "[encoded data removed]",
      "text/plain": [
       "<Figure size 576x288 with 1 Axes>"
      ]
     },
     "metadata": {
      "needs_background": "light"
     },
     "output_type": "display_data"
    },
    {
     "data": {
      "image/png": "[encoded data removed]",
      "text/plain": [
       "<Figure size 576x288 with 1 Axes>"
      ]
     },
     "metadata": {
      "needs_background": "light"
     },
     "output_type": "display_data"
    },
    {
     "data": {
      "image/png": "[encoded data removed]",
      "text/plain": [
       "<Figure size 576x288 with 1 Axes>"
      ]
     },
     "metadata": {
      "needs_background": "light"
     },
     "output_type": "display_data"
    }
   ],
   "source": [
    "numeric_columns = geo_1.select_dtypes(include=['float64']).columns\n",
    "\n",
    "for column in numeric_columns:\n",
    "    plt.figure(figsize=(8, 4))\n",
    "    geo_1[column].plot(kind='hist', bins=20, color = 'skyblue',edgecolor='black')\n",
    "    plt.title(f'Гистограмма для столбца: {column}')\n",
    "    plt.xlabel(column)\n",
    "    plt.ylabel('Количество')\n",
    "    plt.tight_layout()\n",
    "    plt.show()"
   ]
  },
  {
   "cell_type": "markdown",
   "metadata": {},
   "source": [
    "Распределение у признака f1 - сильно похоже на нормальное, у остальных - ненормальное"
   ]
  },
  {
   "cell_type": "code",
   "execution_count": 16,
   "metadata": {
    "scrolled": true
   },
   "outputs": [
    {
     "data": {
      "image/png": "[encoded data removed]",
      "text/plain": [
       "<Figure size 576x288 with 1 Axes>"
      ]
     },
     "metadata": {
      "needs_background": "light"
     },
     "output_type": "display_data"
    },
    {
     "data": {
      "image/png": "[encoded data removed]",
      "text/plain": [
       "<Figure size 576x288 with 1 Axes>"
      ]
     },
     "metadata": {
      "needs_background": "light"
     },
     "output_type": "display_data"
    },
    {
     "data": {
      "image/png": "[encoded data removed]",
      "text/plain": [
       "<Figure size 576x288 with 1 Axes>"
      ]
     },
     "metadata": {
      "needs_background": "light"
     },
     "output_type": "display_data"
    },
    {
     "data": {
      "image/png": "[encoded data removed]",
      "text/plain": [
       "<Figure size 576x288 with 1 Axes>"
      ]
     },
     "metadata": {
      "needs_background": "light"
     },
     "output_type": "display_data"
    }
   ],
   "source": [
    "numeric_columns = geo_2.select_dtypes(include=['float64']).columns\n",
    "\n",
    "for column in numeric_columns:\n",
    "    plt.figure(figsize=(8, 4))\n",
    "    geo_2[column].plot(kind='hist', bins=20, color = 'skyblue',edgecolor='black')\n",
    "    plt.title(f'Гистограмма для столбца: {column}')\n",
    "    plt.xlabel(column)\n",
    "    plt.ylabel('Количество')\n",
    "    plt.tight_layout()\n",
    "    plt.show()"
   ]
  },
  {
   "cell_type": "markdown",
   "metadata": {},
   "source": [
    "У признаков f1, f2, f3 распределение очень похоже на нормальное"
   ]
  },
  {
   "cell_type": "markdown",
   "metadata": {},
   "source": [
    "*Вывод:*\n",
    "\n",
    "У большинства признаков в датафреймах распределение не нормальное"
   ]
  },
  {
   "cell_type": "markdown",
   "metadata": {},
   "source": [
    "### Корреляционных анализ"
   ]
  },
  {
   "cell_type": "markdown",
   "metadata": {},
   "source": [
    "Так как мы будем работать с линейной регрессией, нам важно провести корреляционный анализ.\n",
    "Из предыдущего пункта мы выяснили, что не у всех признаков нормальное распределение, поэтому будет использовать коэф. корреляции по спирмену"
   ]
  },
  {
   "cell_type": "code",
   "execution_count": 17,
   "metadata": {},
   "outputs": [
    {
     "data": {
      "image/png": "[encoded data removed]",
      "text/plain": [
       "<Figure size 576x432 with 2 Axes>"
      ]
     },
     "metadata": {
      "needs_background": "light"
     },
     "output_type": "display_data"
    }
   ],
   "source": [
    "correlation_matrix = geo_0.corr(method='spearman')\n",
    "\n",
    "plt.figure(figsize=(8, 6))\n",
    "sns.heatmap(correlation_matrix, annot=True, cmap='coolwarm', fmt='.2f', square=True)\n",
    "plt.title('Матрица корреляции Спирмена')\n",
    "plt.show()"
   ]
  },
  {
   "cell_type": "markdown",
   "metadata": {},
   "source": [
    "Мультиколлинеарности нет\n",
    "\n",
    "Самая сильная корреляционная положительная связь у признаков product и f2"
   ]
  },
  {
   "cell_type": "code",
   "execution_count": 18,
   "metadata": {},
   "outputs": [
    {
     "data": {
      "image/png": "[encoded data removed]",
      "text/plain": [
       "<Figure size 576x432 with 2 Axes>"
      ]
     },
     "metadata": {
      "needs_background": "light"
     },
     "output_type": "display_data"
    }
   ],
   "source": [
    "correlation_matrix = geo_1.corr(method='spearman')\n",
    "\n",
    "plt.figure(figsize=(8, 6))\n",
    "sns.heatmap(correlation_matrix, annot=True, cmap='coolwarm', fmt='.2f', square=True)\n",
    "plt.title('Матрица корреляции Спирмена')\n",
    "plt.show()"
   ]
  },
  {
   "cell_type": "code",
   "execution_count": 19,
   "metadata": {
    "scrolled": true
   },
   "outputs": [
    {
     "data": {
      "image/png": "[encoded data removed]",
      "text/plain": [
       "<Figure size 576x432 with 2 Axes>"
      ]
     },
     "metadata": {
      "needs_background": "light"
     },
     "output_type": "display_data"
    }
   ],
   "source": [
    "correlation_matrix = geo_2.corr(method='spearman')\n",
    "\n",
    "plt.figure(figsize=(8, 6))\n",
    "sns.heatmap(correlation_matrix, annot=True, cmap='coolwarm', fmt='.2f', square=True)\n",
    "plt.title('Матрица корреляции Спирмена')\n",
    "plt.show()"
   ]
  },
  {
   "cell_type": "markdown",
   "metadata": {},
   "source": [
    "Мультиколлинеарности нет\n",
    "\n",
    "Самая сильная корреляционная положительная связь у признаков product и f2"
   ]
  },
  {
   "cell_type": "markdown",
   "metadata": {},
   "source": [
    "## Обучение и проверка модели"
   ]
  },
  {
   "cell_type": "markdown",
   "metadata": {},
   "source": [
    "Функция:\n",
    "\n",
    "1. Разбиение данных на обучающую и валидационную выборку\n",
    "2. Маштабирование данных\n",
    "3. Обучение модели\n",
    "4. Предсказание "
   ]
  },
  {
   "cell_type": "code",
   "execution_count": 20,
   "metadata": {},
   "outputs": [],
   "source": [
    "def model(df):\n",
    "\n",
    "    X = df.drop('product', axis=1)\n",
    "    y = df['product']\n",
    "\n",
    "    X_train, X_val, y_train, y_val = train_test_split(\n",
    "        X, y, test_size=TEST_SIZE, random_state=RANDOM_STATE\n",
    "    )\n",
    "    \n",
    "    scaler = StandardScaler()\n",
    "    \n",
    "    X_train_scaled = scaler.fit_transform(X_train)\n",
    "\n",
    "    X_val_scaled = scaler.transform(X_val)\n",
    "\n",
    "    \n",
    "    model = LinearRegression()\n",
    "    model.fit(X_train_scaled, y_train)\n",
    "\n",
    "    predict_val = model.predict(X_val_scaled)\n",
    "    val_df = X_val.merge(y_val, left_index=True, right_index=True)\n",
    "    val_df['product_predicted'] = predict_val\n",
    "\n",
    "    val_score = np.sqrt(mean_squared_error(y_val, predict_val))\n",
    "    \n",
    "    average_predicted = predict_val.mean()\n",
    "\n",
    "    print(f'RMSE на валидационной выборке: {val_score}')\n",
    "    print(f'Средний запас предсказанного сырья: {average_predicted}')\n",
    "\n",
    "    return model, val_df"
   ]
  },
  {
   "cell_type": "code",
   "execution_count": 21,
   "metadata": {},
   "outputs": [
    {
     "name": "stdout",
     "output_type": "stream",
     "text": [
      "RMSE на валидационной выборке: 37.68508926201444\n",
      "Средний запас предсказанного сырья: 92.60984027552017\n"
     ]
    }
   ],
   "source": [
    "model_geo_0, geo_0_pred = model(geo_0)"
   ]
  },
  {
   "cell_type": "code",
   "execution_count": 22,
   "metadata": {
    "scrolled": true
   },
   "outputs": [
    {
     "name": "stdout",
     "output_type": "stream",
     "text": [
      "RMSE на валидационной выборке: 0.8928265978121422\n",
      "Средний запас предсказанного сырья: 68.57703454115173\n"
     ]
    }
   ],
   "source": [
    "model_geo_1, geo_1_pred = model(geo_1)"
   ]
  },
  {
   "cell_type": "code",
   "execution_count": 23,
   "metadata": {},
   "outputs": [
    {
     "name": "stdout",
     "output_type": "stream",
     "text": [
      "RMSE на валидационной выборке: 40.080822438088305\n",
      "Средний запас предсказанного сырья: 94.93478722287514\n"
     ]
    }
   ],
   "source": [
    "model_geo_2, geo_2_pred = model(geo_2)"
   ]
  },
  {
   "cell_type": "markdown",
   "metadata": {},
   "source": [
    "Лучшее показание метрики RMSE у модели для geo_1 "
   ]
  },
  {
   "cell_type": "markdown",
   "metadata": {},
   "source": [
    "(Так же остается вопрос, не из-за мультиколлнеарности ли это?)"
   ]
  },
  {
   "cell_type": "markdown",
   "metadata": {},
   "source": [
    "*Вывод:*\n",
    "\n",
    "1. Обучены модели линейной регресси\n",
    "2. Рассчитаны значения метрики RMSE: 37.685, 0.893, 40.081\n",
    "3. Рассчитаны средние запасы предсказанного сырья: 92.610, 68.577, 94.935"
   ]
  },
  {
   "cell_type": "markdown",
   "metadata": {},
   "source": [
    "## Подготовка к расчёту прибыли"
   ]
  },
  {
   "cell_type": "code",
   "execution_count": 24,
   "metadata": {},
   "outputs": [
    {
     "name": "stdout",
     "output_type": "stream",
     "text": [
      "Объем безубыточного производства: 112\n"
     ]
    }
   ],
   "source": [
    "#достаточный объём сырья для безубыточной разработки новой скважины\n",
    "volume = WELL_BUDGET / PROFIT_ONE_PRODUCT\n",
    "\n",
    "#то есть для одной скважины нужно производить сырье в объеме:\n",
    "one_volume = volume / WELL_AMOUNT\n",
    "\n",
    "print(f'Объем безубыточного производства: {round(one_volume) + 1}')"
   ]
  },
  {
   "cell_type": "markdown",
   "metadata": {},
   "source": [
    "Сравненине полученного объёма сырья со средним запасом в каждом регионе"
   ]
  },
  {
   "cell_type": "code",
   "execution_count": 25,
   "metadata": {},
   "outputs": [
    {
     "name": "stdout",
     "output_type": "stream",
     "text": [
      " для региона geo_0 разница между средним запасом и целевым объемом -19.500315782256465\n",
      " для региона geo_1 разница между средним запасом и целевым объемом -43.17608408195936\n",
      " для региона geo_2 разница между средним запасом и целевым объемом -17.001657880666215\n"
     ]
    }
   ],
   "source": [
    "count = -1\n",
    "for geo in [geo_0, geo_1, geo_2]:\n",
    "    count += 1\n",
    "    diff = geo['product'].mean() - 112\n",
    "    print(f' для региона geo_{count} разница между средним запасом и целевым объемом {diff}')"
   ]
  },
  {
   "cell_type": "markdown",
   "metadata": {},
   "source": [
    "*Вывод:* Во всех регионах средний запас меньше, чем целевой объем сырья"
   ]
  },
  {
   "cell_type": "markdown",
   "metadata": {},
   "source": [
    "## Расчёт прибыли и рисков "
   ]
  },
  {
   "cell_type": "code",
   "execution_count": 26,
   "metadata": {},
   "outputs": [],
   "source": [
    "def profit_calculate(df, wells_amount, profit_one_product, well_budget):\n",
    " \n",
    "    top_200_pred = df.sort_values('product_predicted', ascending=False).iloc[:wells_amount]\n",
    "    \n",
    "    top_200_product = top_200_pred['product'].sum()\n",
    "    \n",
    "    return top_200_product * profit_one_product - well_budget"
   ]
  },
  {
   "cell_type": "code",
   "execution_count": 27,
   "metadata": {
    "scrolled": true
   },
   "outputs": [
    {
     "name": "stdout",
     "output_type": "stream",
     "text": [
      "Прогнозируемая прибыль с лучших 200 скважин в регионе geo_0: 3468529787.422388\n",
      "Прогнозируемая прибыль с лучших 200 скважин в регионе geo_1: 2415086696.681511\n",
      "Прогнозируемая прибыль с лучших 200 скважин в регионе geo_2: 2396613000.939848\n"
     ]
    }
   ],
   "source": [
    "count = -1\n",
    "for geo in [geo_0_pred, geo_1_pred, geo_2_pred]:\n",
    "    count += 1\n",
    "    \n",
    "    profit = profit_calculate(geo, 200, PROFIT_ONE_PRODUCT, WELL_BUDGET)\n",
    "    \n",
    "    print(f'Прогнозируемая прибыль с лучших 200 скважин в регионе geo_{count}: {profit}')"
   ]
  },
  {
   "cell_type": "markdown",
   "metadata": {},
   "source": [
    "Применение техники Bootstrap"
   ]
  },
  {
   "cell_type": "code",
   "execution_count": 28,
   "metadata": {},
   "outputs": [],
   "source": [
    "state = np.random.RandomState(RANDOM_STATE)\n",
    "\n",
    "\n",
    "def estimated_profit(df, geo_num):\n",
    "    bootstrap_values = []\n",
    "    for i in range(1000):\n",
    "        subsample = df.sample(500, replace=True, random_state=state)\n",
    "        bootstrap_values.append(\n",
    "            profit_calculate(subsample, 200, PROFIT_ONE_PRODUCT, WELL_BUDGET)\n",
    "        )\n",
    "    bootstrap_values = pd.Series(bootstrap_values)\n",
    "\n",
    "    average_profit = round(bootstrap_values.mean())\n",
    "    quant_high = round(np.quantile(bootstrap_values, 0.975))\n",
    "    quant_low = round(np.quantile(bootstrap_values, 0.025))\n",
    "    \n",
    "    # вычисление риска\n",
    "    risk = (bootstrap_values < 0).mean()  \n",
    "    risk_percentage = round(risk * 100, 2)\n",
    "\n",
    "    print(f'для geo_{geo_num}')\n",
    "    print(f'Средняя ожидаемая прибыль в регионе:      {average_profit}')\n",
    "    print(f'Минимальная ожидаемая прибыль в регионе:  {quant_low}')\n",
    "    print(f'Максимальная ожидаемая прибыль в регионе: {quant_high}\\n')\n",
    "    print(f'Риск убытков (вероятность отрицательной прибыли): {risk_percentage}%\\n')"
   ]
  },
  {
   "cell_type": "code",
   "execution_count": 29,
   "metadata": {},
   "outputs": [
    {
     "name": "stdout",
     "output_type": "stream",
     "text": [
      "для geo_0\n",
      "Средняя ожидаемая прибыль в регионе:      403572064\n",
      "Минимальная ожидаемая прибыль в регионе:  -137690003\n",
      "Максимальная ожидаемая прибыль в регионе: 902848311\n",
      "\n",
      "Риск убытков (вероятность отрицательной прибыли): 5.9%\n",
      "\n",
      "для geo_1\n",
      "Средняя ожидаемая прибыль в регионе:      439363670\n",
      "Минимальная ожидаемая прибыль в регионе:  31747700\n",
      "Максимальная ожидаемая прибыль в регионе: 845875096\n",
      "\n",
      "Риск убытков (вероятность отрицательной прибыли): 1.6%\n",
      "\n",
      "для geo_2\n",
      "Средняя ожидаемая прибыль в регионе:      367701927\n",
      "Минимальная ожидаемая прибыль в регионе:  -169188559\n",
      "Максимальная ожидаемая прибыль в регионе: 877126557\n",
      "\n",
      "Риск убытков (вероятность отрицательной прибыли): 8.0%\n",
      "\n"
     ]
    }
   ],
   "source": [
    "geo_num = -1\n",
    "for geo in [geo_0_pred, geo_1_pred, geo_2_pred]:\n",
    "    geo_num += 1\n",
    "    estimated_profit(geo, geo_num)"
   ]
  },
  {
   "cell_type": "markdown",
   "metadata": {},
   "source": [
    "*Вывод:* Исходя из полученных результатов, оптимальным регионом будет geo_1, т.к. минимальная ожидаемая прибыль в регионе: 31747700, что является самым большим значением из всех регионов, также у данного региона минимальный риск 1,6%."
   ]
  },
  {
   "cell_type": "markdown",
   "metadata": {},
   "source": [
    "## Общий вывод"
   ]
  },
  {
   "cell_type": "markdown",
   "metadata": {},
   "source": [
    "**Вывод:**\n",
    "\n",
    "1. Загрузка и подготовка данных: Данные загружены и соответствуют ТЗ; Названия столбцов соответвуют ТЗ; Типы данных правильные; В датафреймах нет пропущенных значений; В датафреймах нет явных и неявных дубликатов; Удалены повторяющиеся значения id\n",
    "2. Обучение моделей для каждого региона: Обучены модели линейной регресси; Рассчитаны значения метрики RMSE: 37.685, 0.893, 40.081; Рассчитаны средние запасы предсказанного сырья: 92.610, 68.577, 94.935\n",
    "3. Объем безубыточного производства: 112\n",
    "4. Прогнозируемая прибыль с лучших 200 скважин в регионе geo_0: 3468529787.422388; Прогнозируемая прибыль с лучших 200 скважин в регионе geo_1: 2415086696.681511; Прогнозируемая прибыль с лучших 200 скважин в регионе geo_2: 2396613000.939848\n",
    "5. для geo_0: Средняя ожидаемая прибыль в регионе: 403572064; Минимальная ожидаемая прибыль в регионе:  -137690003; Максимальная ожидаемая прибыль в регионе: 902848311; Риск убытков (вероятность отрицательной прибыли): 5.9%\n",
    "6. для geo_1: Средняя ожидаемая прибыль в регионе: 439363670; Минимальная ожидаемая прибыль в регионе:  31747700; Максимальная ожидаемая прибыль в регионе: 845875096; Риск убытков (вероятность отрицательной прибыли): 1.6%\n",
    "7. для geo_2: Средняя ожидаемая прибыль в регионе: 367701927; Минимальная ожидаемая прибыль в регионе:  -169188559; Максимальная ожидаемая прибыль в регионе: 877126557; Риск убытков (вероятность отрицательной прибыли): 8.0%\n",
    "8. Исходя из полученных результатов, оптимальным регионом будет geo_1, т.к. минимальная ожидаемая прибыль в регионе: 31747700, что является самым большим значением из всех регионов, также у данного региона минимальный риск 1,6%."
   ]
  }
 ],
 "metadata": {
  "ExecuteTimeLog": [
   {
    "duration": 393,
    "start_time": "2025-02-24T11:56:00.706Z"
   },
   {
    "duration": 4,
    "start_time": "2025-02-24T11:56:14.606Z"
   },
   {
    "duration": 3558,
    "start_time": "2025-02-24T11:57:01.120Z"
   },
   {
    "duration": 411,
    "start_time": "2025-02-24T11:57:04.680Z"
   },
   {
    "duration": 487,
    "start_time": "2025-02-24T11:58:35.140Z"
   },
   {
    "duration": 25,
    "start_time": "2025-02-24T11:59:32.720Z"
   },
   {
    "duration": 18,
    "start_time": "2025-02-24T12:00:05.609Z"
   },
   {
    "duration": 19,
    "start_time": "2025-02-24T12:00:28.067Z"
   },
   {
    "duration": 3007,
    "start_time": "2025-02-24T12:04:40.974Z"
   },
   {
    "duration": 412,
    "start_time": "2025-02-24T12:04:43.984Z"
   },
   {
    "duration": 403,
    "start_time": "2025-02-24T12:04:44.397Z"
   },
   {
    "duration": 31,
    "start_time": "2025-02-24T12:04:44.802Z"
   },
   {
    "duration": 38,
    "start_time": "2025-02-24T12:04:44.837Z"
   },
   {
    "duration": 29,
    "start_time": "2025-02-24T12:04:44.877Z"
   },
   {
    "duration": 154,
    "start_time": "2025-02-24T12:05:16.073Z"
   },
   {
    "duration": 148,
    "start_time": "2025-02-24T12:05:28.332Z"
   },
   {
    "duration": 19,
    "start_time": "2025-02-24T12:07:48.796Z"
   },
   {
    "duration": 19,
    "start_time": "2025-02-24T12:08:43.786Z"
   },
   {
    "duration": 21,
    "start_time": "2025-02-24T12:08:48.006Z"
   },
   {
    "duration": 115,
    "start_time": "2025-02-24T12:11:43.149Z"
   },
   {
    "duration": 84,
    "start_time": "2025-02-24T12:19:14.442Z"
   },
   {
    "duration": 66,
    "start_time": "2025-02-24T12:19:29.500Z"
   },
   {
    "duration": 13,
    "start_time": "2025-02-24T12:19:32.398Z"
   },
   {
    "duration": 3266,
    "start_time": "2025-02-24T12:20:20.178Z"
   },
   {
    "duration": 1368,
    "start_time": "2025-02-24T12:20:23.446Z"
   },
   {
    "duration": 420,
    "start_time": "2025-02-24T12:20:24.816Z"
   },
   {
    "duration": 37,
    "start_time": "2025-02-24T12:20:25.238Z"
   },
   {
    "duration": 35,
    "start_time": "2025-02-24T12:20:25.278Z"
   },
   {
    "duration": 22,
    "start_time": "2025-02-24T12:20:25.315Z"
   },
   {
    "duration": 178,
    "start_time": "2025-02-24T12:20:25.338Z"
   },
   {
    "duration": 18,
    "start_time": "2025-02-24T12:20:25.518Z"
   },
   {
    "duration": 43,
    "start_time": "2025-02-24T12:20:25.538Z"
   },
   {
    "duration": 24,
    "start_time": "2025-02-24T12:20:25.583Z"
   },
   {
    "duration": 127,
    "start_time": "2025-02-24T12:20:25.608Z"
   },
   {
    "duration": 1297,
    "start_time": "2025-02-24T12:20:25.737Z"
   },
   {
    "duration": 1291,
    "start_time": "2025-02-24T12:21:16.849Z"
   },
   {
    "duration": 1212,
    "start_time": "2025-02-24T12:21:51.038Z"
   },
   {
    "duration": 371,
    "start_time": "2025-02-24T12:25:17.451Z"
   },
   {
    "duration": 349,
    "start_time": "2025-02-24T12:26:10.747Z"
   },
   {
    "duration": 374,
    "start_time": "2025-02-24T12:26:22.828Z"
   },
   {
    "duration": 229,
    "start_time": "2025-02-24T12:34:11.391Z"
   },
   {
    "duration": 161,
    "start_time": "2025-02-24T12:49:00.513Z"
   },
   {
    "duration": 3282,
    "start_time": "2025-02-24T12:50:42.375Z"
   },
   {
    "duration": 1372,
    "start_time": "2025-02-24T12:50:45.661Z"
   },
   {
    "duration": 443,
    "start_time": "2025-02-24T12:50:47.035Z"
   },
   {
    "duration": 28,
    "start_time": "2025-02-24T12:50:47.480Z"
   },
   {
    "duration": 24,
    "start_time": "2025-02-24T12:50:47.510Z"
   },
   {
    "duration": 51,
    "start_time": "2025-02-24T12:50:47.536Z"
   },
   {
    "duration": 175,
    "start_time": "2025-02-24T12:50:47.589Z"
   },
   {
    "duration": 22,
    "start_time": "2025-02-24T12:50:47.775Z"
   },
   {
    "duration": 26,
    "start_time": "2025-02-24T12:50:47.800Z"
   },
   {
    "duration": 16,
    "start_time": "2025-02-24T12:50:47.827Z"
   },
   {
    "duration": 172,
    "start_time": "2025-02-24T12:50:47.845Z"
   },
   {
    "duration": 17,
    "start_time": "2025-02-24T12:50:48.019Z"
   },
   {
    "duration": 1314,
    "start_time": "2025-02-24T12:50:48.038Z"
   },
   {
    "duration": 1292,
    "start_time": "2025-02-24T12:50:49.355Z"
   },
   {
    "duration": 1386,
    "start_time": "2025-02-24T12:50:50.649Z"
   },
   {
    "duration": 416,
    "start_time": "2025-02-24T12:50:52.037Z"
   },
   {
    "duration": 424,
    "start_time": "2025-02-24T12:50:52.456Z"
   },
   {
    "duration": 429,
    "start_time": "2025-02-24T12:50:52.881Z"
   },
   {
    "duration": 59,
    "start_time": "2025-02-24T12:51:15.042Z"
   },
   {
    "duration": 159,
    "start_time": "2025-02-24T12:51:53.839Z"
   },
   {
    "duration": 3402,
    "start_time": "2025-02-24T12:52:08.660Z"
   },
   {
    "duration": 1380,
    "start_time": "2025-02-24T12:52:12.065Z"
   },
   {
    "duration": 452,
    "start_time": "2025-02-24T12:52:13.447Z"
   },
   {
    "duration": 38,
    "start_time": "2025-02-24T12:52:13.901Z"
   },
   {
    "duration": 43,
    "start_time": "2025-02-24T12:52:13.941Z"
   },
   {
    "duration": 24,
    "start_time": "2025-02-24T12:52:13.987Z"
   },
   {
    "duration": 181,
    "start_time": "2025-02-24T12:52:14.013Z"
   },
   {
    "duration": 17,
    "start_time": "2025-02-24T12:52:14.195Z"
   },
   {
    "duration": 17,
    "start_time": "2025-02-24T12:52:14.213Z"
   },
   {
    "duration": 44,
    "start_time": "2025-02-24T12:52:14.232Z"
   },
   {
    "duration": 139,
    "start_time": "2025-02-24T12:52:14.278Z"
   },
   {
    "duration": 10,
    "start_time": "2025-02-24T12:52:14.419Z"
   },
   {
    "duration": 1200,
    "start_time": "2025-02-24T12:52:14.431Z"
   },
   {
    "duration": 1303,
    "start_time": "2025-02-24T12:52:15.634Z"
   },
   {
    "duration": 1227,
    "start_time": "2025-02-24T12:52:16.938Z"
   },
   {
    "duration": 452,
    "start_time": "2025-02-24T12:52:18.174Z"
   },
   {
    "duration": 403,
    "start_time": "2025-02-24T12:52:18.629Z"
   },
   {
    "duration": 382,
    "start_time": "2025-02-24T12:52:19.034Z"
   },
   {
    "duration": 80,
    "start_time": "2025-02-24T12:58:17.596Z"
   },
   {
    "duration": 5,
    "start_time": "2025-02-24T12:58:24.172Z"
   },
   {
    "duration": 344,
    "start_time": "2025-02-24T12:58:35.960Z"
   },
   {
    "duration": 332,
    "start_time": "2025-02-24T12:58:44.415Z"
   },
   {
    "duration": 237,
    "start_time": "2025-02-24T12:58:53.252Z"
   },
   {
    "duration": 3239,
    "start_time": "2025-02-24T13:00:40.371Z"
   },
   {
    "duration": 1311,
    "start_time": "2025-02-24T13:00:43.613Z"
   },
   {
    "duration": 425,
    "start_time": "2025-02-24T13:00:44.926Z"
   },
   {
    "duration": 36,
    "start_time": "2025-02-24T13:00:45.353Z"
   },
   {
    "duration": 27,
    "start_time": "2025-02-24T13:00:45.391Z"
   },
   {
    "duration": 25,
    "start_time": "2025-02-24T13:00:45.420Z"
   },
   {
    "duration": 178,
    "start_time": "2025-02-24T13:00:45.447Z"
   },
   {
    "duration": 17,
    "start_time": "2025-02-24T13:00:45.627Z"
   },
   {
    "duration": 38,
    "start_time": "2025-02-24T13:00:45.646Z"
   },
   {
    "duration": 16,
    "start_time": "2025-02-24T13:00:45.686Z"
   },
   {
    "duration": 129,
    "start_time": "2025-02-24T13:00:45.703Z"
   },
   {
    "duration": 11,
    "start_time": "2025-02-24T13:00:45.834Z"
   },
   {
    "duration": 1289,
    "start_time": "2025-02-24T13:00:45.847Z"
   },
   {
    "duration": 1303,
    "start_time": "2025-02-24T13:00:47.138Z"
   },
   {
    "duration": 1200,
    "start_time": "2025-02-24T13:00:48.442Z"
   },
   {
    "duration": 403,
    "start_time": "2025-02-24T13:00:49.643Z"
   },
   {
    "duration": 371,
    "start_time": "2025-02-24T13:00:50.048Z"
   },
   {
    "duration": 380,
    "start_time": "2025-02-24T13:00:50.422Z"
   },
   {
    "duration": 6,
    "start_time": "2025-02-24T13:00:50.804Z"
   },
   {
    "duration": 388,
    "start_time": "2025-02-24T13:00:50.812Z"
   },
   {
    "duration": 280,
    "start_time": "2025-02-24T13:01:01.119Z"
   },
   {
    "duration": 229,
    "start_time": "2025-02-24T13:01:19.046Z"
   },
   {
    "duration": 11,
    "start_time": "2025-02-24T13:05:49.692Z"
   },
   {
    "duration": 113,
    "start_time": "2025-02-24T13:28:14.563Z"
   },
   {
    "duration": 5,
    "start_time": "2025-02-24T13:28:26.943Z"
   },
   {
    "duration": 81,
    "start_time": "2025-02-24T13:32:46.910Z"
   },
   {
    "duration": 6,
    "start_time": "2025-02-24T13:32:56.536Z"
   },
   {
    "duration": 3,
    "start_time": "2025-02-24T13:39:05.738Z"
   },
   {
    "duration": 4,
    "start_time": "2025-02-24T13:39:13.368Z"
   },
   {
    "duration": 11,
    "start_time": "2025-02-24T13:40:18.556Z"
   },
   {
    "duration": 19,
    "start_time": "2025-02-24T13:40:25.981Z"
   },
   {
    "duration": 9,
    "start_time": "2025-02-24T13:40:41.899Z"
   },
   {
    "duration": 10,
    "start_time": "2025-02-24T13:40:59.087Z"
   },
   {
    "duration": 23,
    "start_time": "2025-02-24T13:41:25.876Z"
   },
   {
    "duration": 6,
    "start_time": "2025-02-24T13:45:44.272Z"
   },
   {
    "duration": 2615,
    "start_time": "2025-02-24T13:47:02.654Z"
   },
   {
    "duration": 3110,
    "start_time": "2025-02-24T13:51:42.420Z"
   },
   {
    "duration": 1300,
    "start_time": "2025-02-24T13:51:45.533Z"
   },
   {
    "duration": 426,
    "start_time": "2025-02-24T13:51:46.835Z"
   },
   {
    "duration": 28,
    "start_time": "2025-02-24T13:51:47.264Z"
   },
   {
    "duration": 26,
    "start_time": "2025-02-24T13:51:47.293Z"
   },
   {
    "duration": 22,
    "start_time": "2025-02-24T13:51:47.321Z"
   },
   {
    "duration": 173,
    "start_time": "2025-02-24T13:51:47.344Z"
   },
   {
    "duration": 17,
    "start_time": "2025-02-24T13:51:47.519Z"
   },
   {
    "duration": 16,
    "start_time": "2025-02-24T13:51:47.538Z"
   },
   {
    "duration": 17,
    "start_time": "2025-02-24T13:51:47.576Z"
   },
   {
    "duration": 126,
    "start_time": "2025-02-24T13:51:47.595Z"
   },
   {
    "duration": 10,
    "start_time": "2025-02-24T13:51:47.722Z"
   },
   {
    "duration": 1197,
    "start_time": "2025-02-24T13:51:47.734Z"
   },
   {
    "duration": 1296,
    "start_time": "2025-02-24T13:51:48.932Z"
   },
   {
    "duration": 1209,
    "start_time": "2025-02-24T13:51:50.229Z"
   },
   {
    "duration": 376,
    "start_time": "2025-02-24T13:51:51.439Z"
   },
   {
    "duration": 373,
    "start_time": "2025-02-24T13:51:51.817Z"
   },
   {
    "duration": 400,
    "start_time": "2025-02-24T13:51:52.192Z"
   },
   {
    "duration": 6,
    "start_time": "2025-02-24T13:51:52.593Z"
   },
   {
    "duration": 394,
    "start_time": "2025-02-24T13:51:52.601Z"
   },
   {
    "duration": 196,
    "start_time": "2025-02-24T13:51:52.997Z"
   },
   {
    "duration": 292,
    "start_time": "2025-02-24T13:51:53.195Z"
   },
   {
    "duration": 3,
    "start_time": "2025-02-24T13:51:53.489Z"
   },
   {
    "duration": 22,
    "start_time": "2025-02-24T13:51:53.494Z"
   },
   {
    "duration": 11,
    "start_time": "2025-02-24T13:51:53.518Z"
   },
   {
    "duration": 33,
    "start_time": "2025-02-24T13:51:53.530Z"
   },
   {
    "duration": 11,
    "start_time": "2025-02-24T13:51:53.565Z"
   },
   {
    "duration": 2551,
    "start_time": "2025-02-24T13:51:53.579Z"
   },
   {
    "duration": 104,
    "start_time": "2025-02-24T17:04:52.689Z"
   },
   {
    "duration": 4,
    "start_time": "2025-02-24T17:07:21.758Z"
   },
   {
    "duration": 3,
    "start_time": "2025-02-24T17:09:12.353Z"
   },
   {
    "duration": 8306,
    "start_time": "2025-02-24T17:14:16.834Z"
   },
   {
    "duration": 1672,
    "start_time": "2025-02-24T17:14:25.143Z"
   },
   {
    "duration": 4,
    "start_time": "2025-02-24T17:14:26.817Z"
   },
   {
    "duration": 454,
    "start_time": "2025-02-24T17:14:26.824Z"
   },
   {
    "duration": 32,
    "start_time": "2025-02-24T17:14:27.280Z"
   },
   {
    "duration": 25,
    "start_time": "2025-02-24T17:14:27.314Z"
   },
   {
    "duration": 53,
    "start_time": "2025-02-24T17:14:27.341Z"
   },
   {
    "duration": 182,
    "start_time": "2025-02-24T17:14:27.396Z"
   },
   {
    "duration": 20,
    "start_time": "2025-02-24T17:14:27.581Z"
   },
   {
    "duration": 20,
    "start_time": "2025-02-24T17:14:27.604Z"
   },
   {
    "duration": 49,
    "start_time": "2025-02-24T17:14:27.626Z"
   },
   {
    "duration": 139,
    "start_time": "2025-02-24T17:14:27.677Z"
   },
   {
    "duration": 12,
    "start_time": "2025-02-24T17:14:27.818Z"
   },
   {
    "duration": 1417,
    "start_time": "2025-02-24T17:14:27.832Z"
   },
   {
    "duration": 1289,
    "start_time": "2025-02-24T17:14:29.251Z"
   },
   {
    "duration": 1303,
    "start_time": "2025-02-24T17:14:30.541Z"
   },
   {
    "duration": 448,
    "start_time": "2025-02-24T17:14:31.846Z"
   },
   {
    "duration": 403,
    "start_time": "2025-02-24T17:14:32.296Z"
   },
   {
    "duration": 399,
    "start_time": "2025-02-24T17:14:32.701Z"
   },
   {
    "duration": 6,
    "start_time": "2025-02-24T17:14:33.102Z"
   },
   {
    "duration": 406,
    "start_time": "2025-02-24T17:14:33.110Z"
   },
   {
    "duration": 268,
    "start_time": "2025-02-24T17:14:33.518Z"
   },
   {
    "duration": 202,
    "start_time": "2025-02-24T17:14:33.788Z"
   },
   {
    "duration": 3,
    "start_time": "2025-02-24T17:14:33.992Z"
   },
   {
    "duration": 76,
    "start_time": "2025-02-24T17:14:33.996Z"
   },
   {
    "duration": 3,
    "start_time": "2025-02-24T17:14:34.074Z"
   },
   {
    "duration": 38,
    "start_time": "2025-02-24T17:14:34.079Z"
   },
   {
    "duration": 6,
    "start_time": "2025-02-24T17:14:34.120Z"
   },
   {
    "duration": 2837,
    "start_time": "2025-02-24T17:14:34.128Z"
   },
   {
    "duration": 6,
    "start_time": "2025-02-24T17:17:38.600Z"
   },
   {
    "duration": 2840,
    "start_time": "2025-02-24T17:17:40.883Z"
   },
   {
    "duration": 3439,
    "start_time": "2025-02-24T17:22:36.751Z"
   },
   {
    "duration": 1403,
    "start_time": "2025-02-24T17:22:40.192Z"
   },
   {
    "duration": 3,
    "start_time": "2025-02-24T17:22:41.597Z"
   },
   {
    "duration": 442,
    "start_time": "2025-02-24T17:22:41.601Z"
   },
   {
    "duration": 39,
    "start_time": "2025-02-24T17:22:42.045Z"
   },
   {
    "duration": 24,
    "start_time": "2025-02-24T17:22:42.085Z"
   },
   {
    "duration": 24,
    "start_time": "2025-02-24T17:22:42.111Z"
   },
   {
    "duration": 189,
    "start_time": "2025-02-24T17:22:42.137Z"
   },
   {
    "duration": 21,
    "start_time": "2025-02-24T17:22:42.328Z"
   },
   {
    "duration": 35,
    "start_time": "2025-02-24T17:22:42.351Z"
   },
   {
    "duration": 19,
    "start_time": "2025-02-24T17:22:42.388Z"
   },
   {
    "duration": 149,
    "start_time": "2025-02-24T17:22:42.408Z"
   },
   {
    "duration": 18,
    "start_time": "2025-02-24T17:22:42.558Z"
   },
   {
    "duration": 1260,
    "start_time": "2025-02-24T17:22:42.579Z"
   },
   {
    "duration": 1311,
    "start_time": "2025-02-24T17:22:43.841Z"
   },
   {
    "duration": 1294,
    "start_time": "2025-02-24T17:22:45.154Z"
   },
   {
    "duration": 436,
    "start_time": "2025-02-24T17:22:46.450Z"
   },
   {
    "duration": 408,
    "start_time": "2025-02-24T17:22:46.888Z"
   },
   {
    "duration": 403,
    "start_time": "2025-02-24T17:22:47.298Z"
   },
   {
    "duration": 6,
    "start_time": "2025-02-24T17:22:47.703Z"
   },
   {
    "duration": 402,
    "start_time": "2025-02-24T17:22:47.711Z"
   },
   {
    "duration": 267,
    "start_time": "2025-02-24T17:22:48.115Z"
   },
   {
    "duration": 204,
    "start_time": "2025-02-24T17:22:48.384Z"
   },
   {
    "duration": 3,
    "start_time": "2025-02-24T17:22:48.590Z"
   },
   {
    "duration": 15,
    "start_time": "2025-02-24T17:22:48.595Z"
   },
   {
    "duration": 4,
    "start_time": "2025-02-24T17:22:48.611Z"
   },
   {
    "duration": 76,
    "start_time": "2025-02-24T17:22:48.616Z"
   },
   {
    "duration": 7,
    "start_time": "2025-02-24T17:22:48.693Z"
   },
   {
    "duration": 2917,
    "start_time": "2025-02-24T17:22:48.701Z"
   }
  ],
  "kernelspec": {
   "display_name": "Python 3 (ipykernel)",
   "language": "python",
   "name": "python3"
  },
  "language_info": {
   "codemirror_mode": {
    "name": "ipython",
    "version": 3
   },
   "file_extension": ".py",
   "mimetype": "text/x-python",
   "name": "python",
   "nbconvert_exporter": "python",
   "pygments_lexer": "ipython3",
   "version": "3.11.8"
  },
  "toc": {
   "base_numbering": 1,
   "nav_menu": {
    "height": "171px",
    "width": "361px"
   },
   "number_sections": true,
   "sideBar": true,
   "skip_h1_title": true,
   "title_cell": "Table of Contents",
   "title_sidebar": "Contents",
   "toc_cell": false,
   "toc_position": {},
   "toc_section_display": true,
   "toc_window_display": false
  }
 },
 "nbformat": 4,
 "nbformat_minor": 4
}
