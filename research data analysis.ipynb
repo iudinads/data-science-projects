{
 "cells": [
  {
   "cell_type": "markdown",
   "metadata": {
    "id": "-VFbjcb3Awb7"
   },
   "source": [
    "# Исследование объявлений о продаже квартир\n",
    "\n",
    "В вашем распоряжении данные сервиса Яндекс Недвижимость — архив объявлений о продаже квартир в Санкт-Петербурге и соседних населённых пунктах за несколько лет. Вам нужно научиться определять рыночную стоимость объектов недвижимости. Для этого проведите исследовательский анализ данных и установите параметры, влияющие на цену объектов. Это позволит построить автоматизированную систему: она отследит аномалии и мошенническую деятельность.\n",
    "\n",
    "По каждой квартире на продажу доступны два вида данных. Первые вписаны пользователем, вторые — получены автоматически на основе картографических данных. Например, расстояние до центра, аэропорта и других объектов — эти данные автоматически получены из геосервисов. Количество парков и водоёмов также заполняется без участия пользователя."
   ]
  },
  {
   "cell_type": "markdown",
   "metadata": {
    "id": "aeFLH07FAwb9"
   },
   "source": [
    "### Откройте файл с данными и изучите общую информацию"
   ]
  },
  {
   "cell_type": "code",
   "execution_count": 1,
   "metadata": {
    "id": "7MZxY65pAwb9"
   },
   "outputs": [],
   "source": [
    "import pandas as pd\n",
    "import matplotlib.pyplot as plt"
   ]
  },
  {
   "cell_type": "code",
   "execution_count": 2,
   "metadata": {},
   "outputs": [
    {
     "data": {
      "text/html": [
       "<div>\n",
       "<style scoped>\n",
       "    .dataframe tbody tr th:only-of-type {\n",
       "        vertical-align: middle;\n",
       "    }\n",
       "\n",
       "    .dataframe tbody tr th {\n",
       "        vertical-align: top;\n",
       "    }\n",
       "\n",
       "    .dataframe thead th {\n",
       "        text-align: right;\n",
       "    }\n",
       "</style>\n",
       "<table border=\"1\" class=\"dataframe\">\n",
       "  <thead>\n",
       "    <tr style=\"text-align: right;\">\n",
       "      <th></th>\n",
       "      <th>total_images</th>\n",
       "      <th>last_price</th>\n",
       "      <th>total_area</th>\n",
       "      <th>first_day_exposition</th>\n",
       "      <th>rooms</th>\n",
       "      <th>ceiling_height</th>\n",
       "      <th>floors_total</th>\n",
       "      <th>living_area</th>\n",
       "      <th>floor</th>\n",
       "      <th>is_apartment</th>\n",
       "      <th>...</th>\n",
       "      <th>kitchen_area</th>\n",
       "      <th>balcony</th>\n",
       "      <th>locality_name</th>\n",
       "      <th>airports_nearest</th>\n",
       "      <th>cityCenters_nearest</th>\n",
       "      <th>parks_around3000</th>\n",
       "      <th>parks_nearest</th>\n",
       "      <th>ponds_around3000</th>\n",
       "      <th>ponds_nearest</th>\n",
       "      <th>days_exposition</th>\n",
       "    </tr>\n",
       "  </thead>\n",
       "  <tbody>\n",
       "    <tr>\n",
       "      <th>0</th>\n",
       "      <td>20</td>\n",
       "      <td>13000000.0</td>\n",
       "      <td>108.0</td>\n",
       "      <td>2019-03-07T00:00:00</td>\n",
       "      <td>3</td>\n",
       "      <td>2.70</td>\n",
       "      <td>16.0</td>\n",
       "      <td>51.0</td>\n",
       "      <td>8</td>\n",
       "      <td>NaN</td>\n",
       "      <td>...</td>\n",
       "      <td>25.0</td>\n",
       "      <td>NaN</td>\n",
       "      <td>Санкт-Петербург</td>\n",
       "      <td>18863.0</td>\n",
       "      <td>16028.0</td>\n",
       "      <td>1.0</td>\n",
       "      <td>482.0</td>\n",
       "      <td>2.0</td>\n",
       "      <td>755.0</td>\n",
       "      <td>NaN</td>\n",
       "    </tr>\n",
       "    <tr>\n",
       "      <th>1</th>\n",
       "      <td>7</td>\n",
       "      <td>3350000.0</td>\n",
       "      <td>40.4</td>\n",
       "      <td>2018-12-04T00:00:00</td>\n",
       "      <td>1</td>\n",
       "      <td>NaN</td>\n",
       "      <td>11.0</td>\n",
       "      <td>18.6</td>\n",
       "      <td>1</td>\n",
       "      <td>NaN</td>\n",
       "      <td>...</td>\n",
       "      <td>11.0</td>\n",
       "      <td>2.0</td>\n",
       "      <td>посёлок Шушары</td>\n",
       "      <td>12817.0</td>\n",
       "      <td>18603.0</td>\n",
       "      <td>0.0</td>\n",
       "      <td>NaN</td>\n",
       "      <td>0.0</td>\n",
       "      <td>NaN</td>\n",
       "      <td>81.0</td>\n",
       "    </tr>\n",
       "    <tr>\n",
       "      <th>2</th>\n",
       "      <td>10</td>\n",
       "      <td>5196000.0</td>\n",
       "      <td>56.0</td>\n",
       "      <td>2015-08-20T00:00:00</td>\n",
       "      <td>2</td>\n",
       "      <td>NaN</td>\n",
       "      <td>5.0</td>\n",
       "      <td>34.3</td>\n",
       "      <td>4</td>\n",
       "      <td>NaN</td>\n",
       "      <td>...</td>\n",
       "      <td>8.3</td>\n",
       "      <td>0.0</td>\n",
       "      <td>Санкт-Петербург</td>\n",
       "      <td>21741.0</td>\n",
       "      <td>13933.0</td>\n",
       "      <td>1.0</td>\n",
       "      <td>90.0</td>\n",
       "      <td>2.0</td>\n",
       "      <td>574.0</td>\n",
       "      <td>558.0</td>\n",
       "    </tr>\n",
       "    <tr>\n",
       "      <th>3</th>\n",
       "      <td>0</td>\n",
       "      <td>64900000.0</td>\n",
       "      <td>159.0</td>\n",
       "      <td>2015-07-24T00:00:00</td>\n",
       "      <td>3</td>\n",
       "      <td>NaN</td>\n",
       "      <td>14.0</td>\n",
       "      <td>NaN</td>\n",
       "      <td>9</td>\n",
       "      <td>NaN</td>\n",
       "      <td>...</td>\n",
       "      <td>NaN</td>\n",
       "      <td>0.0</td>\n",
       "      <td>Санкт-Петербург</td>\n",
       "      <td>28098.0</td>\n",
       "      <td>6800.0</td>\n",
       "      <td>2.0</td>\n",
       "      <td>84.0</td>\n",
       "      <td>3.0</td>\n",
       "      <td>234.0</td>\n",
       "      <td>424.0</td>\n",
       "    </tr>\n",
       "    <tr>\n",
       "      <th>4</th>\n",
       "      <td>2</td>\n",
       "      <td>10000000.0</td>\n",
       "      <td>100.0</td>\n",
       "      <td>2018-06-19T00:00:00</td>\n",
       "      <td>2</td>\n",
       "      <td>3.03</td>\n",
       "      <td>14.0</td>\n",
       "      <td>32.0</td>\n",
       "      <td>13</td>\n",
       "      <td>NaN</td>\n",
       "      <td>...</td>\n",
       "      <td>41.0</td>\n",
       "      <td>NaN</td>\n",
       "      <td>Санкт-Петербург</td>\n",
       "      <td>31856.0</td>\n",
       "      <td>8098.0</td>\n",
       "      <td>2.0</td>\n",
       "      <td>112.0</td>\n",
       "      <td>1.0</td>\n",
       "      <td>48.0</td>\n",
       "      <td>121.0</td>\n",
       "    </tr>\n",
       "  </tbody>\n",
       "</table>\n",
       "<p>5 rows × 22 columns</p>\n",
       "</div>"
      ],
      "text/plain": [
       "   total_images  last_price  total_area first_day_exposition  rooms  \\\n",
       "0            20  13000000.0       108.0  2019-03-07T00:00:00      3   \n",
       "1             7   3350000.0        40.4  2018-12-04T00:00:00      1   \n",
       "2            10   5196000.0        56.0  2015-08-20T00:00:00      2   \n",
       "3             0  64900000.0       159.0  2015-07-24T00:00:00      3   \n",
       "4             2  10000000.0       100.0  2018-06-19T00:00:00      2   \n",
       "\n",
       "   ceiling_height  floors_total  living_area  floor is_apartment  ...  \\\n",
       "0            2.70          16.0         51.0      8          NaN  ...   \n",
       "1             NaN          11.0         18.6      1          NaN  ...   \n",
       "2             NaN           5.0         34.3      4          NaN  ...   \n",
       "3             NaN          14.0          NaN      9          NaN  ...   \n",
       "4            3.03          14.0         32.0     13          NaN  ...   \n",
       "\n",
       "   kitchen_area  balcony    locality_name  airports_nearest  \\\n",
       "0          25.0      NaN  Санкт-Петербург           18863.0   \n",
       "1          11.0      2.0   посёлок Шушары           12817.0   \n",
       "2           8.3      0.0  Санкт-Петербург           21741.0   \n",
       "3           NaN      0.0  Санкт-Петербург           28098.0   \n",
       "4          41.0      NaN  Санкт-Петербург           31856.0   \n",
       "\n",
       "  cityCenters_nearest  parks_around3000  parks_nearest  ponds_around3000  \\\n",
       "0             16028.0               1.0          482.0               2.0   \n",
       "1             18603.0               0.0            NaN               0.0   \n",
       "2             13933.0               1.0           90.0               2.0   \n",
       "3              6800.0               2.0           84.0               3.0   \n",
       "4              8098.0               2.0          112.0               1.0   \n",
       "\n",
       "   ponds_nearest  days_exposition  \n",
       "0          755.0              NaN  \n",
       "1            NaN             81.0  \n",
       "2          574.0            558.0  \n",
       "3          234.0            424.0  \n",
       "4           48.0            121.0  \n",
       "\n",
       "[5 rows x 22 columns]"
      ]
     },
     "execution_count": 2,
     "metadata": {},
     "output_type": "execute_result"
    }
   ],
   "source": [
    "data = pd.read_csv('/datasets/real_estate_data.csv', sep='\\t')\n",
    "data.head()"
   ]
  },
  {
   "cell_type": "code",
   "execution_count": 3,
   "metadata": {},
   "outputs": [
    {
     "name": "stdout",
     "output_type": "stream",
     "text": [
      "<class 'pandas.core.frame.DataFrame'>\n",
      "RangeIndex: 23699 entries, 0 to 23698\n",
      "Data columns (total 22 columns):\n",
      " #   Column                Non-Null Count  Dtype  \n",
      "---  ------                --------------  -----  \n",
      " 0   total_images          23699 non-null  int64  \n",
      " 1   last_price            23699 non-null  float64\n",
      " 2   total_area            23699 non-null  float64\n",
      " 3   first_day_exposition  23699 non-null  object \n",
      " 4   rooms                 23699 non-null  int64  \n",
      " 5   ceiling_height        14504 non-null  float64\n",
      " 6   floors_total          23613 non-null  float64\n",
      " 7   living_area           21796 non-null  float64\n",
      " 8   floor                 23699 non-null  int64  \n",
      " 9   is_apartment          2775 non-null   object \n",
      " 10  studio                23699 non-null  bool   \n",
      " 11  open_plan             23699 non-null  bool   \n",
      " 12  kitchen_area          21421 non-null  float64\n",
      " 13  balcony               12180 non-null  float64\n",
      " 14  locality_name         23650 non-null  object \n",
      " 15  airports_nearest      18157 non-null  float64\n",
      " 16  cityCenters_nearest   18180 non-null  float64\n",
      " 17  parks_around3000      18181 non-null  float64\n",
      " 18  parks_nearest         8079 non-null   float64\n",
      " 19  ponds_around3000      18181 non-null  float64\n",
      " 20  ponds_nearest         9110 non-null   float64\n",
      " 21  days_exposition       20518 non-null  float64\n",
      "dtypes: bool(2), float64(14), int64(3), object(3)\n",
      "memory usage: 3.7+ MB\n"
     ]
    }
   ],
   "source": [
    "data.info()"
   ]
  },
  {
   "cell_type": "code",
   "execution_count": 4,
   "metadata": {},
   "outputs": [
    {
     "data": {
      "image/png": "[encoded data removed]",
      "text/plain": [
       "<Figure size 1080x1440 with 20 Axes>"
      ]
     },
     "metadata": {
      "needs_background": "light"
     },
     "output_type": "display_data"
    }
   ],
   "source": [
    "data.hist(figsize=(15,20))\n",
    "plt.show()"
   ]
  },
  {
   "cell_type": "markdown",
   "metadata": {},
   "source": [
    "*Вывод:* на построенных гистограммах видно наличие выбросов и нелогичных значений "
   ]
  },
  {
   "cell_type": "markdown",
   "metadata": {
    "id": "-O5NtivEAwb9"
   },
   "source": [
    "### Выполните предобработку данных"
   ]
  },
  {
   "cell_type": "code",
   "execution_count": 5,
   "metadata": {
    "id": "7v3vAeTuAwb-"
   },
   "outputs": [
    {
     "data": {
      "text/plain": [
       "total_images                0\n",
       "last_price                  0\n",
       "total_area                  0\n",
       "first_day_exposition        0\n",
       "rooms                       0\n",
       "ceiling_height           9195\n",
       "floors_total               86\n",
       "living_area              1903\n",
       "floor                       0\n",
       "is_apartment            20924\n",
       "studio                      0\n",
       "open_plan                   0\n",
       "kitchen_area             2278\n",
       "balcony                 11519\n",
       "locality_name              49\n",
       "airports_nearest         5542\n",
       "cityCenters_nearest      5519\n",
       "parks_around3000         5518\n",
       "parks_nearest           15620\n",
       "ponds_around3000         5518\n",
       "ponds_nearest           14589\n",
       "days_exposition          3181\n",
       "dtype: int64"
      ]
     },
     "execution_count": 5,
     "metadata": {},
     "output_type": "execute_result"
    }
   ],
   "source": [
    "data.isna().sum()"
   ]
  },
  {
   "cell_type": "code",
   "execution_count": 6,
   "metadata": {},
   "outputs": [],
   "source": [
    "data['balcony'] = data['balcony'].fillna(0)\n",
    "data['parks_around3000'] = data['parks_around3000'].fillna(0)\n",
    "data['ponds_around3000'] = data['ponds_around3000'].fillna(0)\n",
    "data['locality_name'] = data['locality_name'].fillna('неизвестен')"
   ]
  },
  {
   "cell_type": "markdown",
   "metadata": {},
   "source": [
    "По аналогии с количеством балконов можем заполнить нулями: parks_around3000, ponds_around3000\n",
    "\n",
    "однако, то, что касается метража или конкретного рассояния до объекта - мы не можем логически предположить значения\n",
    "\n",
    "также я заполнила столбец 'locality_name' с помощью 'неизвестен', так как дальше мы будем работать с этим столбом \n",
    "\n",
    "*причина возможных появлений пропусков*: человеческий фактор (пропустили/забыли написать) или сбой в системе"
   ]
  },
  {
   "cell_type": "code",
   "execution_count": 7,
   "metadata": {},
   "outputs": [
    {
     "data": {
      "text/html": [
       "<div>\n",
       "<style scoped>\n",
       "    .dataframe tbody tr th:only-of-type {\n",
       "        vertical-align: middle;\n",
       "    }\n",
       "\n",
       "    .dataframe tbody tr th {\n",
       "        vertical-align: top;\n",
       "    }\n",
       "\n",
       "    .dataframe thead th {\n",
       "        text-align: right;\n",
       "    }\n",
       "</style>\n",
       "<table border=\"1\" class=\"dataframe\">\n",
       "  <thead>\n",
       "    <tr style=\"text-align: right;\">\n",
       "      <th></th>\n",
       "      <th>total_images</th>\n",
       "      <th>last_price</th>\n",
       "      <th>total_area</th>\n",
       "      <th>first_day_exposition</th>\n",
       "      <th>rooms</th>\n",
       "      <th>ceiling_height</th>\n",
       "      <th>floors_total</th>\n",
       "      <th>living_area</th>\n",
       "      <th>floor</th>\n",
       "      <th>is_apartment</th>\n",
       "      <th>...</th>\n",
       "      <th>kitchen_area</th>\n",
       "      <th>balcony</th>\n",
       "      <th>locality_name</th>\n",
       "      <th>airports_nearest</th>\n",
       "      <th>cityCenters_nearest</th>\n",
       "      <th>parks_around3000</th>\n",
       "      <th>parks_nearest</th>\n",
       "      <th>ponds_around3000</th>\n",
       "      <th>ponds_nearest</th>\n",
       "      <th>days_exposition</th>\n",
       "    </tr>\n",
       "  </thead>\n",
       "  <tbody>\n",
       "    <tr>\n",
       "      <th>1</th>\n",
       "      <td>7</td>\n",
       "      <td>3350000.0</td>\n",
       "      <td>40.4</td>\n",
       "      <td>2018-12-04T00:00:00</td>\n",
       "      <td>1</td>\n",
       "      <td>NaN</td>\n",
       "      <td>11.0</td>\n",
       "      <td>18.6</td>\n",
       "      <td>1</td>\n",
       "      <td>NaN</td>\n",
       "      <td>...</td>\n",
       "      <td>11.0</td>\n",
       "      <td>2.0</td>\n",
       "      <td>посёлок Шушары</td>\n",
       "      <td>12817.0</td>\n",
       "      <td>18603.0</td>\n",
       "      <td>0.0</td>\n",
       "      <td>NaN</td>\n",
       "      <td>0.0</td>\n",
       "      <td>NaN</td>\n",
       "      <td>81.0</td>\n",
       "    </tr>\n",
       "    <tr>\n",
       "      <th>5</th>\n",
       "      <td>10</td>\n",
       "      <td>2890000.0</td>\n",
       "      <td>30.4</td>\n",
       "      <td>2018-09-10T00:00:00</td>\n",
       "      <td>1</td>\n",
       "      <td>NaN</td>\n",
       "      <td>12.0</td>\n",
       "      <td>14.4</td>\n",
       "      <td>5</td>\n",
       "      <td>NaN</td>\n",
       "      <td>...</td>\n",
       "      <td>9.1</td>\n",
       "      <td>0.0</td>\n",
       "      <td>городской посёлок Янино-1</td>\n",
       "      <td>NaN</td>\n",
       "      <td>NaN</td>\n",
       "      <td>0.0</td>\n",
       "      <td>NaN</td>\n",
       "      <td>0.0</td>\n",
       "      <td>NaN</td>\n",
       "      <td>55.0</td>\n",
       "    </tr>\n",
       "    <tr>\n",
       "      <th>6</th>\n",
       "      <td>6</td>\n",
       "      <td>3700000.0</td>\n",
       "      <td>37.3</td>\n",
       "      <td>2017-11-02T00:00:00</td>\n",
       "      <td>1</td>\n",
       "      <td>NaN</td>\n",
       "      <td>26.0</td>\n",
       "      <td>10.6</td>\n",
       "      <td>6</td>\n",
       "      <td>NaN</td>\n",
       "      <td>...</td>\n",
       "      <td>14.4</td>\n",
       "      <td>1.0</td>\n",
       "      <td>посёлок Парголово</td>\n",
       "      <td>52996.0</td>\n",
       "      <td>19143.0</td>\n",
       "      <td>0.0</td>\n",
       "      <td>NaN</td>\n",
       "      <td>0.0</td>\n",
       "      <td>NaN</td>\n",
       "      <td>155.0</td>\n",
       "    </tr>\n",
       "  </tbody>\n",
       "</table>\n",
       "<p>3 rows × 22 columns</p>\n",
       "</div>"
      ],
      "text/plain": [
       "   total_images  last_price  total_area first_day_exposition  rooms  \\\n",
       "1             7   3350000.0        40.4  2018-12-04T00:00:00      1   \n",
       "5            10   2890000.0        30.4  2018-09-10T00:00:00      1   \n",
       "6             6   3700000.0        37.3  2017-11-02T00:00:00      1   \n",
       "\n",
       "   ceiling_height  floors_total  living_area  floor is_apartment  ...  \\\n",
       "1             NaN          11.0         18.6      1          NaN  ...   \n",
       "5             NaN          12.0         14.4      5          NaN  ...   \n",
       "6             NaN          26.0         10.6      6          NaN  ...   \n",
       "\n",
       "   kitchen_area  balcony              locality_name  airports_nearest  \\\n",
       "1          11.0      2.0             посёлок Шушары           12817.0   \n",
       "5           9.1      0.0  городской посёлок Янино-1               NaN   \n",
       "6          14.4      1.0          посёлок Парголово           52996.0   \n",
       "\n",
       "  cityCenters_nearest  parks_around3000  parks_nearest  ponds_around3000  \\\n",
       "1             18603.0               0.0            NaN               0.0   \n",
       "5                 NaN               0.0            NaN               0.0   \n",
       "6             19143.0               0.0            NaN               0.0   \n",
       "\n",
       "   ponds_nearest  days_exposition  \n",
       "1            NaN             81.0  \n",
       "5            NaN             55.0  \n",
       "6            NaN            155.0  \n",
       "\n",
       "[3 rows x 22 columns]"
      ]
     },
     "execution_count": 7,
     "metadata": {},
     "output_type": "execute_result"
    }
   ],
   "source": [
    "data[data['parks_around3000'] == 0].head(3)"
   ]
  },
  {
   "cell_type": "code",
   "execution_count": 8,
   "metadata": {},
   "outputs": [
    {
     "data": {
      "text/html": [
       "<div>\n",
       "<style scoped>\n",
       "    .dataframe tbody tr th:only-of-type {\n",
       "        vertical-align: middle;\n",
       "    }\n",
       "\n",
       "    .dataframe tbody tr th {\n",
       "        vertical-align: top;\n",
       "    }\n",
       "\n",
       "    .dataframe thead th {\n",
       "        text-align: right;\n",
       "    }\n",
       "</style>\n",
       "<table border=\"1\" class=\"dataframe\">\n",
       "  <thead>\n",
       "    <tr style=\"text-align: right;\">\n",
       "      <th></th>\n",
       "      <th>total_images</th>\n",
       "      <th>last_price</th>\n",
       "      <th>total_area</th>\n",
       "      <th>first_day_exposition</th>\n",
       "      <th>rooms</th>\n",
       "      <th>ceiling_height</th>\n",
       "      <th>floors_total</th>\n",
       "      <th>living_area</th>\n",
       "      <th>floor</th>\n",
       "      <th>is_apartment</th>\n",
       "      <th>...</th>\n",
       "      <th>kitchen_area</th>\n",
       "      <th>balcony</th>\n",
       "      <th>locality_name</th>\n",
       "      <th>airports_nearest</th>\n",
       "      <th>cityCenters_nearest</th>\n",
       "      <th>parks_around3000</th>\n",
       "      <th>parks_nearest</th>\n",
       "      <th>ponds_around3000</th>\n",
       "      <th>ponds_nearest</th>\n",
       "      <th>days_exposition</th>\n",
       "    </tr>\n",
       "  </thead>\n",
       "  <tbody>\n",
       "  </tbody>\n",
       "</table>\n",
       "<p>0 rows × 22 columns</p>\n",
       "</div>"
      ],
      "text/plain": [
       "Empty DataFrame\n",
       "Columns: [total_images, last_price, total_area, first_day_exposition, rooms, ceiling_height, floors_total, living_area, floor, is_apartment, studio, open_plan, kitchen_area, balcony, locality_name, airports_nearest, cityCenters_nearest, parks_around3000, parks_nearest, ponds_around3000, ponds_nearest, days_exposition]\n",
       "Index: []\n",
       "\n",
       "[0 rows x 22 columns]"
      ]
     },
     "execution_count": 8,
     "metadata": {},
     "output_type": "execute_result"
    }
   ],
   "source": [
    "data[(data['parks_around3000'] != 0) & (data['locality_name'] == 'городской посёлок Янино-1')].head(3)"
   ]
  },
  {
   "cell_type": "code",
   "execution_count": 9,
   "metadata": {},
   "outputs": [
    {
     "data": {
      "text/plain": [
       "total_images                0\n",
       "last_price                  0\n",
       "total_area                  0\n",
       "first_day_exposition        0\n",
       "rooms                       0\n",
       "ceiling_height           9195\n",
       "floors_total               86\n",
       "living_area              1903\n",
       "floor                       0\n",
       "is_apartment            20924\n",
       "studio                      0\n",
       "open_plan                   0\n",
       "kitchen_area             2278\n",
       "balcony                     0\n",
       "locality_name               0\n",
       "airports_nearest         5542\n",
       "cityCenters_nearest      5519\n",
       "parks_around3000            0\n",
       "parks_nearest           15620\n",
       "ponds_around3000            0\n",
       "ponds_nearest           14589\n",
       "days_exposition          3181\n",
       "dtype: int64"
      ]
     },
     "execution_count": 9,
     "metadata": {},
     "output_type": "execute_result"
    }
   ],
   "source": [
    "data.isna().sum()"
   ]
  },
  {
   "cell_type": "code",
   "execution_count": 10,
   "metadata": {},
   "outputs": [],
   "source": [
    "data['parks_around3000'] = data['parks_around3000'].astype('int32')\n",
    "data['ponds_around3000'] = data['ponds_around3000'].astype('int32')"
   ]
  },
  {
   "cell_type": "markdown",
   "metadata": {},
   "source": [
    "*Объяснение изменения типов данных:*\n",
    "\n",
    "метраж, цена могут быть дробными числами, поэтому тип данных float64 в соответствующих столбцах не менялся\n",
    "\n",
    "но количество объектов может быть только целочисленным, поэтому в столбцах parks_around3000, ponds_around3000 был изменен тип данных на int64"
   ]
  },
  {
   "cell_type": "code",
   "execution_count": 11,
   "metadata": {},
   "outputs": [
    {
     "data": {
      "text/plain": [
       "(array(['Санкт-Петербург', 'посёлок Шушары', 'городской посёлок Янино-1',\n",
       "        'посёлок Парголово', 'посёлок Мурино', 'Ломоносов', 'Сертолово',\n",
       "        'Петергоф', 'Пушкин', 'деревня Кудрово', 'Коммунар', 'Колпино',\n",
       "        'поселок городского типа Красный Бор', 'Гатчина', 'поселок Мурино',\n",
       "        'деревня Фёдоровское', 'Выборг', 'Кронштадт', 'Кировск',\n",
       "        'деревня Новое Девяткино', 'посёлок Металлострой',\n",
       "        'посёлок городского типа Лебяжье',\n",
       "        'посёлок городского типа Сиверский', 'поселок Молодцово',\n",
       "        'поселок городского типа Кузьмоловский',\n",
       "        'садовое товарищество Новая Ропша', 'Павловск',\n",
       "        'деревня Пикколово', 'Всеволожск', 'Волхов', 'Кингисепп',\n",
       "        'Приозерск', 'Сестрорецк', 'деревня Куттузи', 'посёлок Аннино',\n",
       "        'поселок городского типа Ефимовский', 'посёлок Плодовое',\n",
       "        'деревня Заклинье', 'поселок Торковичи', 'поселок Первомайское',\n",
       "        'Красное Село', 'посёлок Понтонный', 'Сясьстрой', 'деревня Старая',\n",
       "        'деревня Лесколово', 'посёлок Новый Свет', 'Сланцы',\n",
       "        'село Путилово', 'Ивангород', 'Мурино', 'Шлиссельбург',\n",
       "        'Никольское', 'Зеленогорск', 'Сосновый Бор', 'поселок Новый Свет',\n",
       "        'деревня Оржицы', 'деревня Кальтино', 'Кудрово',\n",
       "        'поселок Романовка', 'посёлок Бугры', 'поселок Бугры',\n",
       "        'поселок городского типа Рощино', 'Кириши', 'Луга', 'Волосово',\n",
       "        'Отрадное', 'село Павлово', 'поселок Оредеж', 'село Копорье',\n",
       "        'посёлок городского типа Красный Бор', 'посёлок Молодёжное',\n",
       "        'Тихвин', 'посёлок Победа', 'деревня Нурма',\n",
       "        'поселок городского типа Синявино', 'Тосно',\n",
       "        'посёлок городского типа Кузьмоловский', 'посёлок Стрельна',\n",
       "        'Бокситогорск', 'посёлок Александровская', 'деревня Лопухинка',\n",
       "        'Пикалёво', 'поселок Терволово',\n",
       "        'поселок городского типа Советский', 'Подпорожье',\n",
       "        'посёлок Петровское', 'посёлок городского типа Токсово',\n",
       "        'поселок Сельцо', 'посёлок городского типа Вырица',\n",
       "        'деревня Кипень', 'деревня Келози', 'деревня Вартемяги',\n",
       "        'посёлок Тельмана', 'поселок Севастьяново',\n",
       "        'городской поселок Большая Ижора', 'неизвестен',\n",
       "        'городской посёлок Павлово', 'деревня Агалатово',\n",
       "        'посёлок Новогорелово', 'городской посёлок Лесогорский',\n",
       "        'деревня Лаголово', 'поселок Цвелодубово',\n",
       "        'поселок городского типа Рахья', 'поселок городского типа Вырица',\n",
       "        'деревня Белогорка', 'поселок Заводской',\n",
       "        'городской посёлок Новоселье', 'деревня Большие Колпаны',\n",
       "        'деревня Горбунки', 'деревня Батово', 'деревня Заневка',\n",
       "        'деревня Иссад', 'Приморск', 'городской посёлок Фёдоровское',\n",
       "        'деревня Мистолово', 'Новая Ладога', 'поселок Зимитицы',\n",
       "        'поселок Барышево', 'деревня Разметелево',\n",
       "        'поселок городского типа имени Свердлова', 'деревня Пеники',\n",
       "        'поселок Рябово', 'деревня Пудомяги', 'поселок станции Корнево',\n",
       "        'деревня Низино', 'деревня Бегуницы', 'посёлок Поляны',\n",
       "        'городской посёлок Мга', 'поселок Елизаветино',\n",
       "        'посёлок городского типа Кузнечное', 'деревня Колтуши',\n",
       "        'поселок Запорожское', 'посёлок городского типа Рощино',\n",
       "        'деревня Гостилицы', 'деревня Малое Карлино',\n",
       "        'посёлок Мичуринское', 'посёлок городского типа имени Морозова',\n",
       "        'посёлок Песочный', 'посёлок Сосново', 'деревня Аро',\n",
       "        'поселок Ильичёво', 'посёлок городского типа Тайцы',\n",
       "        'деревня Малое Верево', 'деревня Извара', 'поселок станции Вещево',\n",
       "        'село Паша', 'деревня Калитино',\n",
       "        'посёлок городского типа Ульяновка', 'деревня Чудской Бор',\n",
       "        'поселок городского типа Дубровка', 'деревня Мины',\n",
       "        'поселок Войсковицы', 'посёлок городского типа имени Свердлова',\n",
       "        'деревня Коркино', 'посёлок Ропша',\n",
       "        'поселок городского типа Приладожский', 'посёлок Щеглово',\n",
       "        'посёлок Гаврилово', 'Лодейное Поле', 'деревня Рабитицы',\n",
       "        'поселок городского типа Никольский', 'деревня Кузьмолово',\n",
       "        'деревня Малые Колпаны', 'поселок Тельмана',\n",
       "        'посёлок Петро-Славянка', 'городской посёлок Назия',\n",
       "        'посёлок Репино', 'посёлок Ильичёво', 'поселок Углово',\n",
       "        'поселок Старая Малукса', 'садовое товарищество Рахья',\n",
       "        'поселок Аннино', 'поселок Победа', 'деревня Меньково',\n",
       "        'деревня Старые Бегуницы', 'посёлок Сапёрный', 'поселок Семрино',\n",
       "        'поселок Гаврилово', 'поселок Глажево', 'поселок Кобринское',\n",
       "        'деревня Гарболово', 'деревня Юкки',\n",
       "        'поселок станции Приветнинское', 'деревня Мануйлово',\n",
       "        'деревня Пчева', 'поселок Поляны', 'поселок Цвылёво',\n",
       "        'поселок Мельниково', 'посёлок Пудость', 'посёлок Усть-Луга',\n",
       "        'Светогорск', 'Любань', 'поселок Селезнёво',\n",
       "        'поселок городского типа Рябово', 'Каменногорск', 'деревня Кривко',\n",
       "        'поселок Глебычево', 'деревня Парицы', 'поселок Жилпосёлок',\n",
       "        'посёлок городского типа Мга', 'городской поселок Янино-1',\n",
       "        'посёлок Войскорово', 'село Никольское', 'посёлок Терволово',\n",
       "        'поселок Стеклянный', 'посёлок городского типа Важины',\n",
       "        'посёлок Мыза-Ивановка', 'село Русско-Высоцкое',\n",
       "        'поселок городского типа Лебяжье',\n",
       "        'поселок городского типа Форносово', 'село Старая Ладога',\n",
       "        'поселок Житково', 'городской посёлок Виллози', 'деревня Лампово',\n",
       "        'деревня Шпаньково', 'деревня Лаврики', 'посёлок Сумино',\n",
       "        'посёлок Возрождение', 'деревня Старосиверская',\n",
       "        'посёлок Кикерино', 'поселок Возрождение',\n",
       "        'деревня Старое Хинколово', 'посёлок Пригородный',\n",
       "        'посёлок Торфяное', 'городской посёлок Будогощь',\n",
       "        'поселок Суходолье', 'поселок Красная Долина', 'деревня Хапо-Ое',\n",
       "        'поселок городского типа Дружная Горка', 'поселок Лисий Нос',\n",
       "        'деревня Яльгелево', 'посёлок Стеклянный', 'село Рождествено',\n",
       "        'деревня Старополье', 'посёлок Левашово', 'деревня Сяськелево',\n",
       "        'деревня Камышовка',\n",
       "        'садоводческое некоммерческое товарищество Лесная Поляна',\n",
       "        'деревня Хязельки', 'поселок Жилгородок',\n",
       "        'посёлок городского типа Павлово', 'деревня Ялгино',\n",
       "        'поселок Новый Учхоз', 'городской посёлок Рощино',\n",
       "        'поселок Гончарово', 'поселок Почап', 'посёлок Сапёрное',\n",
       "        'посёлок Платформа 69-й километр', 'поселок Каложицы',\n",
       "        'деревня Фалилеево', 'деревня Пельгора',\n",
       "        'поселок городского типа Лесогорский', 'деревня Торошковичи',\n",
       "        'посёлок Белоостров', 'посёлок Алексеевка', 'поселок Серебрянский',\n",
       "        'поселок Лукаши', 'поселок Петровское', 'деревня Щеглово',\n",
       "        'поселок Мичуринское', 'деревня Тарасово', 'поселок Кингисеппский',\n",
       "        'посёлок при железнодорожной станции Вещево', 'поселок Ушаки',\n",
       "        'деревня Котлы', 'деревня Сижно', 'деревня Торосово',\n",
       "        'посёлок Форт Красная Горка', 'поселок городского типа Токсово',\n",
       "        'деревня Новолисино', 'посёлок станции Громово', 'деревня Глинка',\n",
       "        'посёлок Мельниково', 'поселок городского типа Назия',\n",
       "        'деревня Старая Пустошь', 'поселок Коммунары', 'поселок Починок',\n",
       "        'посёлок городского типа Вознесенье', 'деревня Разбегаево',\n",
       "        'посёлок городского типа Рябово', 'поселок Гладкое',\n",
       "        'посёлок при железнодорожной станции Приветнинское',\n",
       "        'поселок Тёсово-4', 'посёлок Жилгородок', 'деревня Бор',\n",
       "        'посёлок Коробицыно', 'деревня Большая Вруда', 'деревня Курковицы',\n",
       "        'посёлок Лисий Нос', 'городской посёлок Советский',\n",
       "        'посёлок Кобралово', 'деревня Суоранда', 'поселок Кобралово',\n",
       "        'поселок городского типа Кондратьево',\n",
       "        'коттеджный поселок Счастье', 'поселок Любань', 'деревня Реброво',\n",
       "        'деревня Зимитицы', 'деревня Тойворово', 'поселок Семиозерье',\n",
       "        'поселок Лесное', 'поселок Совхозный', 'поселок Усть-Луга',\n",
       "        'посёлок Ленинское', 'посёлок Суйда',\n",
       "        'посёлок городского типа Форносово', 'деревня Нижние Осельки',\n",
       "        'посёлок станции Свирь', 'поселок Перово', 'Высоцк',\n",
       "        'поселок Гарболово', 'село Шум', 'поселок Котельский',\n",
       "        'поселок станции Лужайка', 'деревня Большая Пустомержа',\n",
       "        'поселок Красносельское', 'деревня Вахнова Кара', 'деревня Пижма',\n",
       "        'коттеджный поселок Кивеннапа Север', 'поселок Коробицыно',\n",
       "        'поселок Ромашки', 'посёлок Перово', 'деревня Каськово',\n",
       "        'деревня Куровицы', 'посёлок Плоское', 'поселок Сумино',\n",
       "        'поселок городского типа Большая Ижора', 'поселок Кирпичное',\n",
       "        'деревня Ям-Тесово', 'деревня Раздолье', 'деревня Терпилицы',\n",
       "        'посёлок Шугозеро', 'деревня Ваганово', 'поселок Пушное',\n",
       "        'садовое товарищество Садко', 'посёлок Усть-Ижора',\n",
       "        'деревня Выскатка', 'городской посёлок Свирьстрой',\n",
       "        'поселок Громово', 'деревня Кисельня', 'посёлок Старая Малукса',\n",
       "        'деревня Трубников Бор', 'поселок Калитино',\n",
       "        'посёлок Высокоключевой', 'садовое товарищество Приладожский',\n",
       "        'посёлок Пансионат Зелёный Бор', 'деревня Ненимяки',\n",
       "        'поселок Пансионат Зелёный Бор', 'деревня Снегирёвка',\n",
       "        'деревня Рапполово', 'деревня Пустынка', 'поселок Рабитицы',\n",
       "        'деревня Большой Сабск', 'деревня Русско', 'деревня Лупполово',\n",
       "        'деревня Большое Рейзино', 'деревня Малая Романовка',\n",
       "        'поселок Дружноселье', 'поселок Пчевжа', 'поселок Володарское',\n",
       "        'деревня Нижняя', 'коттеджный посёлок Лесное', 'деревня Тихковицы',\n",
       "        'деревня Борисова Грива', 'посёлок Дзержинского'], dtype=object),\n",
       " 365)"
      ]
     },
     "execution_count": 11,
     "metadata": {},
     "output_type": "execute_result"
    }
   ],
   "source": [
    "data['locality_name'].unique(), len(data['locality_name'].unique())"
   ]
  },
  {
   "cell_type": "markdown",
   "metadata": {},
   "source": [
    "*Найдены неявные дубликаты:* \n",
    "Мурино посёлок Мурино поселок Мурино\n",
    "поселок городского типа Рябово поселок Рябово"
   ]
  },
  {
   "cell_type": "code",
   "execution_count": 12,
   "metadata": {},
   "outputs": [],
   "source": [
    "data['locality_name'] = data['locality_name'].str.replace('ё', 'е')\n",
    "data['locality_name'] = data['locality_name'].replace('Мурино', 'поселок Мурино')\n",
    "data['locality_name'] = data['locality_name'].replace('поселок городского типа Рябово', 'поселок Рябово')\n"
   ]
  },
  {
   "cell_type": "code",
   "execution_count": 15,
   "metadata": {},
   "outputs": [
    {
     "data": {
      "text/plain": [
       "(array(['Санкт-Петербург', 'поселок Шушары', 'городской поселок Янино-1',\n",
       "        'поселок Парголово', 'поселок Мурино', 'Ломоносов', 'Сертолово',\n",
       "        'Петергоф', 'Пушкин', 'деревня Кудрово', 'Коммунар', 'Колпино',\n",
       "        'поселок городского типа Красный Бор', 'Гатчина',\n",
       "        'деревня Федоровское', 'Выборг', 'Кронштадт', 'Кировск',\n",
       "        'деревня Новое Девяткино', 'поселок Металлострой',\n",
       "        'поселок городского типа Лебяжье',\n",
       "        'поселок городского типа Сиверский', 'поселок Молодцово',\n",
       "        'поселок городского типа Кузьмоловский',\n",
       "        'садовое товарищество Новая Ропша', 'Павловск',\n",
       "        'деревня Пикколово', 'Всеволожск', 'Волхов', 'Кингисепп',\n",
       "        'Приозерск', 'Сестрорецк', 'деревня Куттузи', 'поселок Аннино',\n",
       "        'поселок городского типа Ефимовский', 'поселок Плодовое',\n",
       "        'деревня Заклинье', 'поселок Торковичи', 'поселок Первомайское',\n",
       "        'Красное Село', 'поселок Понтонный', 'Сясьстрой', 'деревня Старая',\n",
       "        'деревня Лесколово', 'поселок Новый Свет', 'Сланцы',\n",
       "        'село Путилово', 'Ивангород', 'Шлиссельбург', 'Никольское',\n",
       "        'Зеленогорск', 'Сосновый Бор', 'деревня Оржицы',\n",
       "        'деревня Кальтино', 'Кудрово', 'поселок Романовка',\n",
       "        'поселок Бугры', 'поселок городского типа Рощино', 'Кириши',\n",
       "        'Луга', 'Волосово', 'Отрадное', 'село Павлово', 'поселок Оредеж',\n",
       "        'село Копорье', 'поселок Молодежное', 'Тихвин', 'поселок Победа',\n",
       "        'деревня Нурма', 'поселок городского типа Синявино', 'Тосно',\n",
       "        'поселок Стрельна', 'Бокситогорск', 'поселок Александровская',\n",
       "        'деревня Лопухинка', 'Пикалево', 'поселок Терволово',\n",
       "        'поселок городского типа Советский', 'Подпорожье',\n",
       "        'поселок Петровское', 'поселок городского типа Токсово',\n",
       "        'поселок Сельцо', 'поселок городского типа Вырица',\n",
       "        'деревня Кипень', 'деревня Келози', 'деревня Вартемяги',\n",
       "        'поселок Тельмана', 'поселок Севастьяново',\n",
       "        'городской поселок Большая Ижора', 'неизвестен',\n",
       "        'городской поселок Павлово', 'деревня Агалатово',\n",
       "        'поселок Новогорелово', 'городской поселок Лесогорский',\n",
       "        'деревня Лаголово', 'поселок Цвелодубово',\n",
       "        'поселок городского типа Рахья', 'деревня Белогорка',\n",
       "        'поселок Заводской', 'городской поселок Новоселье',\n",
       "        'деревня Большие Колпаны', 'деревня Горбунки', 'деревня Батово',\n",
       "        'деревня Заневка', 'деревня Иссад', 'Приморск',\n",
       "        'городской поселок Федоровское', 'деревня Мистолово',\n",
       "        'Новая Ладога', 'поселок Зимитицы', 'поселок Барышево',\n",
       "        'деревня Разметелево', 'поселок городского типа имени Свердлова',\n",
       "        'деревня Пеники', 'поселок Рябово', 'деревня Пудомяги',\n",
       "        'поселок станции Корнево', 'деревня Низино', 'деревня Бегуницы',\n",
       "        'поселок Поляны', 'городской поселок Мга', 'поселок Елизаветино',\n",
       "        'поселок городского типа Кузнечное', 'деревня Колтуши',\n",
       "        'поселок Запорожское', 'деревня Гостилицы',\n",
       "        'деревня Малое Карлино', 'поселок Мичуринское',\n",
       "        'поселок городского типа имени Морозова', 'поселок Песочный',\n",
       "        'поселок Сосново', 'деревня Аро', 'поселок Ильичево',\n",
       "        'поселок городского типа Тайцы', 'деревня Малое Верево',\n",
       "        'деревня Извара', 'поселок станции Вещево', 'село Паша',\n",
       "        'деревня Калитино', 'поселок городского типа Ульяновка',\n",
       "        'деревня Чудской Бор', 'поселок городского типа Дубровка',\n",
       "        'деревня Мины', 'поселок Войсковицы', 'деревня Коркино',\n",
       "        'поселок Ропша', 'поселок городского типа Приладожский',\n",
       "        'поселок Щеглово', 'поселок Гаврилово', 'Лодейное Поле',\n",
       "        'деревня Рабитицы', 'поселок городского типа Никольский',\n",
       "        'деревня Кузьмолово', 'деревня Малые Колпаны',\n",
       "        'поселок Петро-Славянка', 'городской поселок Назия',\n",
       "        'поселок Репино', 'поселок Углово', 'поселок Старая Малукса',\n",
       "        'садовое товарищество Рахья', 'деревня Меньково',\n",
       "        'деревня Старые Бегуницы', 'поселок Саперный', 'поселок Семрино',\n",
       "        'поселок Глажево', 'поселок Кобринское', 'деревня Гарболово',\n",
       "        'деревня Юкки', 'поселок станции Приветнинское',\n",
       "        'деревня Мануйлово', 'деревня Пчева', 'поселок Цвылево',\n",
       "        'поселок Мельниково', 'поселок Пудость', 'поселок Усть-Луга',\n",
       "        'Светогорск', 'Любань', 'поселок Селезнево', 'Каменногорск',\n",
       "        'деревня Кривко', 'поселок Глебычево', 'деревня Парицы',\n",
       "        'поселок Жилпоселок', 'поселок городского типа Мга',\n",
       "        'поселок Войскорово', 'село Никольское', 'поселок Стеклянный',\n",
       "        'поселок городского типа Важины', 'поселок Мыза-Ивановка',\n",
       "        'село Русско-Высоцкое', 'поселок городского типа Форносово',\n",
       "        'село Старая Ладога', 'поселок Житково',\n",
       "        'городской поселок Виллози', 'деревня Лампово',\n",
       "        'деревня Шпаньково', 'деревня Лаврики', 'поселок Сумино',\n",
       "        'поселок Возрождение', 'деревня Старосиверская',\n",
       "        'поселок Кикерино', 'деревня Старое Хинколово',\n",
       "        'поселок Пригородный', 'поселок Торфяное',\n",
       "        'городской поселок Будогощь', 'поселок Суходолье',\n",
       "        'поселок Красная Долина', 'деревня Хапо-Ое',\n",
       "        'поселок городского типа Дружная Горка', 'поселок Лисий Нос',\n",
       "        'деревня Яльгелево', 'село Рождествено', 'деревня Старополье',\n",
       "        'поселок Левашово', 'деревня Сяськелево', 'деревня Камышовка',\n",
       "        'садоводческое некоммерческое товарищество Лесная Поляна',\n",
       "        'деревня Хязельки', 'поселок Жилгородок',\n",
       "        'поселок городского типа Павлово', 'деревня Ялгино',\n",
       "        'поселок Новый Учхоз', 'городской поселок Рощино',\n",
       "        'поселок Гончарово', 'поселок Почап', 'поселок Саперное',\n",
       "        'поселок Платформа 69-й километр', 'поселок Каложицы',\n",
       "        'деревня Фалилеево', 'деревня Пельгора',\n",
       "        'поселок городского типа Лесогорский', 'деревня Торошковичи',\n",
       "        'поселок Белоостров', 'поселок Алексеевка', 'поселок Серебрянский',\n",
       "        'поселок Лукаши', 'деревня Щеглово', 'деревня Тарасово',\n",
       "        'поселок Кингисеппский',\n",
       "        'поселок при железнодорожной станции Вещево', 'поселок Ушаки',\n",
       "        'деревня Котлы', 'деревня Сижно', 'деревня Торосово',\n",
       "        'поселок Форт Красная Горка', 'деревня Новолисино',\n",
       "        'поселок станции Громово', 'деревня Глинка',\n",
       "        'поселок городского типа Назия', 'деревня Старая Пустошь',\n",
       "        'поселок Коммунары', 'поселок Починок',\n",
       "        'поселок городского типа Вознесенье', 'деревня Разбегаево',\n",
       "        'поселок Гладкое',\n",
       "        'поселок при железнодорожной станции Приветнинское',\n",
       "        'поселок Тесово-4', 'деревня Бор', 'поселок Коробицыно',\n",
       "        'деревня Большая Вруда', 'деревня Курковицы',\n",
       "        'городской поселок Советский', 'поселок Кобралово',\n",
       "        'деревня Суоранда', 'поселок городского типа Кондратьево',\n",
       "        'коттеджный поселок Счастье', 'поселок Любань', 'деревня Реброво',\n",
       "        'деревня Зимитицы', 'деревня Тойворово', 'поселок Семиозерье',\n",
       "        'поселок Лесное', 'поселок Совхозный', 'поселок Ленинское',\n",
       "        'поселок Суйда', 'деревня Нижние Осельки', 'поселок станции Свирь',\n",
       "        'поселок Перово', 'Высоцк', 'поселок Гарболово', 'село Шум',\n",
       "        'поселок Котельский', 'поселок станции Лужайка',\n",
       "        'деревня Большая Пустомержа', 'поселок Красносельское',\n",
       "        'деревня Вахнова Кара', 'деревня Пижма',\n",
       "        'коттеджный поселок Кивеннапа Север', 'поселок Ромашки',\n",
       "        'деревня Каськово', 'деревня Куровицы', 'поселок Плоское',\n",
       "        'поселок городского типа Большая Ижора', 'поселок Кирпичное',\n",
       "        'деревня Ям-Тесово', 'деревня Раздолье', 'деревня Терпилицы',\n",
       "        'поселок Шугозеро', 'деревня Ваганово', 'поселок Пушное',\n",
       "        'садовое товарищество Садко', 'поселок Усть-Ижора',\n",
       "        'деревня Выскатка', 'городской поселок Свирьстрой',\n",
       "        'поселок Громово', 'деревня Кисельня', 'деревня Трубников Бор',\n",
       "        'поселок Калитино', 'поселок Высокоключевой',\n",
       "        'садовое товарищество Приладожский',\n",
       "        'поселок Пансионат Зеленый Бор', 'деревня Ненимяки',\n",
       "        'деревня Снегиревка', 'деревня Рапполово', 'деревня Пустынка',\n",
       "        'поселок Рабитицы', 'деревня Большой Сабск', 'деревня Русско',\n",
       "        'деревня Лупполово', 'деревня Большое Рейзино',\n",
       "        'деревня Малая Романовка', 'поселок Дружноселье', 'поселок Пчевжа',\n",
       "        'поселок Володарское', 'деревня Нижняя',\n",
       "        'коттеджный поселок Лесное', 'деревня Тихковицы',\n",
       "        'деревня Борисова Грива', 'поселок Дзержинского'], dtype=object),\n",
       " 329)"
      ]
     },
     "execution_count": 15,
     "metadata": {},
     "output_type": "execute_result"
    }
   ],
   "source": [
    "data['locality_name'].unique(), len(data['locality_name'].unique())"
   ]
  },
  {
   "cell_type": "markdown",
   "metadata": {},
   "source": [
    "*Вывод:* после удаления неявных дубликатов количество уникальных значений столбца 'locality_name' сократилось с 365 до 329"
   ]
  },
  {
   "cell_type": "code",
   "execution_count": 15,
   "metadata": {
    "scrolled": true
   },
   "outputs": [
    {
     "name": "stdout",
     "output_type": "stream",
     "text": [
      "<class 'pandas.core.frame.DataFrame'>\n",
      "RangeIndex: 23699 entries, 0 to 23698\n",
      "Data columns (total 23 columns):\n",
      " #   Column                Non-Null Count  Dtype  \n",
      "---  ------                --------------  -----  \n",
      " 0   total_images          23699 non-null  int64  \n",
      " 1   last_price            23699 non-null  float64\n",
      " 2   total_area            23699 non-null  float64\n",
      " 3   first_day_exposition  23699 non-null  object \n",
      " 4   rooms                 23699 non-null  int64  \n",
      " 5   ceiling_height        14504 non-null  float64\n",
      " 6   floors_total          23613 non-null  float64\n",
      " 7   living_area           21796 non-null  float64\n",
      " 8   floor                 23699 non-null  int64  \n",
      " 9   is_apartment          2775 non-null   object \n",
      " 10  studio                23699 non-null  bool   \n",
      " 11  open_plan             23699 non-null  bool   \n",
      " 12  kitchen_area          21421 non-null  float64\n",
      " 13  balcony               23699 non-null  float64\n",
      " 14  locality_name         23699 non-null  object \n",
      " 15  airports_nearest      18157 non-null  float64\n",
      " 16  cityCenters_nearest   18180 non-null  float64\n",
      " 17  parks_around3000      23699 non-null  int32  \n",
      " 18  parks_nearest         8079 non-null   float64\n",
      " 19  ponds_around3000      23699 non-null  int32  \n",
      " 20  ponds_nearest         9110 non-null   float64\n",
      " 21  days_exposition       20518 non-null  float64\n",
      " 22  loсality_name         23699 non-null  object \n",
      "dtypes: bool(2), float64(12), int32(2), int64(3), object(4)\n",
      "memory usage: 3.7+ MB\n"
     ]
    }
   ],
   "source": [
    "data.info()"
   ]
  },
  {
   "cell_type": "code",
   "execution_count": 16,
   "metadata": {},
   "outputs": [
    {
     "data": {
      "text/plain": [
       "(19, 2.070635891809781)"
      ]
     },
     "execution_count": 16,
     "metadata": {},
     "output_type": "execute_result"
    }
   ],
   "source": [
    "data['rooms'].max(), data['rooms'].mean()"
   ]
  },
  {
   "cell_type": "code",
   "execution_count": 17,
   "metadata": {},
   "outputs": [
    {
     "data": {
      "text/plain": [
       "(409.7, 34.457852427601395, 2.0)"
      ]
     },
     "execution_count": 17,
     "metadata": {},
     "output_type": "execute_result"
    }
   ],
   "source": [
    "data['living_area'].max(), data['living_area'].mean(), data['living_area'].min()"
   ]
  },
  {
   "cell_type": "code",
   "execution_count": 18,
   "metadata": {},
   "outputs": [
    {
     "data": {
      "text/plain": [
       "(100.0, 2.77149889685604, 1.0)"
      ]
     },
     "execution_count": 18,
     "metadata": {},
     "output_type": "execute_result"
    }
   ],
   "source": [
    "data['ceiling_height'].max(), data['ceiling_height'].mean(),data['ceiling_height'].min()"
   ]
  },
  {
   "cell_type": "code",
   "execution_count": 19,
   "metadata": {},
   "outputs": [
    {
     "data": {
      "text/plain": [
       "(5.0, 0.5910797923963036)"
      ]
     },
     "execution_count": 19,
     "metadata": {},
     "output_type": "execute_result"
    }
   ],
   "source": [
    "data['balcony'].max(), data['balcony'].mean()"
   ]
  },
  {
   "cell_type": "code",
   "execution_count": 21,
   "metadata": {},
   "outputs": [],
   "source": [
    "data = data.query('rooms <= 4 and living_area <= 100 and ceiling_height <= 35 and living_area >= 20 and ceiling_height >= 2')"
   ]
  },
  {
   "cell_type": "markdown",
   "metadata": {},
   "source": [
    "*Объяснение:* выбрала высоту потолков до 35м исходя из пукнта 4, где сказано, что 32м это скорее всего 3.2м,\n",
    "остальное все по логике"
   ]
  },
  {
   "cell_type": "markdown",
   "metadata": {},
   "source": [
    "*Вывод:* были расчитаны средние, максимальные и минимальные значения столбцов, где могли находиться экстремальные значения.\n",
    "\n",
    "Методом query() была произведена фильтрация строк для очистки data"
   ]
  },
  {
   "cell_type": "markdown",
   "metadata": {},
   "source": [
    "<div class=\"alert alert-block alert-info\">\n",
    "    Исправила\n",
    "</div>"
   ]
  },
  {
   "cell_type": "markdown",
   "metadata": {
    "id": "QCcvyY6YAwb-"
   },
   "source": [
    "### Добавьте в таблицу новые столбцы"
   ]
  },
  {
   "cell_type": "code",
   "execution_count": 22,
   "metadata": {
    "id": "Z8eJek3IAwb-"
   },
   "outputs": [
    {
     "data": {
      "text/html": [
       "<div>\n",
       "<style scoped>\n",
       "    .dataframe tbody tr th:only-of-type {\n",
       "        vertical-align: middle;\n",
       "    }\n",
       "\n",
       "    .dataframe tbody tr th {\n",
       "        vertical-align: top;\n",
       "    }\n",
       "\n",
       "    .dataframe thead th {\n",
       "        text-align: right;\n",
       "    }\n",
       "</style>\n",
       "<table border=\"1\" class=\"dataframe\">\n",
       "  <thead>\n",
       "    <tr style=\"text-align: right;\">\n",
       "      <th></th>\n",
       "      <th>total_images</th>\n",
       "      <th>last_price</th>\n",
       "      <th>total_area</th>\n",
       "      <th>first_day_exposition</th>\n",
       "      <th>rooms</th>\n",
       "      <th>ceiling_height</th>\n",
       "      <th>floors_total</th>\n",
       "      <th>living_area</th>\n",
       "      <th>floor</th>\n",
       "      <th>is_apartment</th>\n",
       "      <th>...</th>\n",
       "      <th>balcony</th>\n",
       "      <th>locality_name</th>\n",
       "      <th>airports_nearest</th>\n",
       "      <th>cityCenters_nearest</th>\n",
       "      <th>parks_around3000</th>\n",
       "      <th>parks_nearest</th>\n",
       "      <th>ponds_around3000</th>\n",
       "      <th>ponds_nearest</th>\n",
       "      <th>days_exposition</th>\n",
       "      <th>loсality_name</th>\n",
       "    </tr>\n",
       "  </thead>\n",
       "  <tbody>\n",
       "    <tr>\n",
       "      <th>0</th>\n",
       "      <td>20</td>\n",
       "      <td>13000000.0</td>\n",
       "      <td>108.0</td>\n",
       "      <td>2019-03-07T00:00:00</td>\n",
       "      <td>3</td>\n",
       "      <td>2.70</td>\n",
       "      <td>16.0</td>\n",
       "      <td>51.0</td>\n",
       "      <td>8</td>\n",
       "      <td>NaN</td>\n",
       "      <td>...</td>\n",
       "      <td>0.0</td>\n",
       "      <td>Санкт-Петербург</td>\n",
       "      <td>18863.0</td>\n",
       "      <td>16028.0</td>\n",
       "      <td>1</td>\n",
       "      <td>482.0</td>\n",
       "      <td>2</td>\n",
       "      <td>755.0</td>\n",
       "      <td>NaN</td>\n",
       "      <td>Санкт-Петербург</td>\n",
       "    </tr>\n",
       "    <tr>\n",
       "      <th>4</th>\n",
       "      <td>2</td>\n",
       "      <td>10000000.0</td>\n",
       "      <td>100.0</td>\n",
       "      <td>2018-06-19T00:00:00</td>\n",
       "      <td>2</td>\n",
       "      <td>3.03</td>\n",
       "      <td>14.0</td>\n",
       "      <td>32.0</td>\n",
       "      <td>13</td>\n",
       "      <td>NaN</td>\n",
       "      <td>...</td>\n",
       "      <td>0.0</td>\n",
       "      <td>Санкт-Петербург</td>\n",
       "      <td>31856.0</td>\n",
       "      <td>8098.0</td>\n",
       "      <td>2</td>\n",
       "      <td>112.0</td>\n",
       "      <td>1</td>\n",
       "      <td>48.0</td>\n",
       "      <td>121.0</td>\n",
       "      <td>Санкт-Петербург</td>\n",
       "    </tr>\n",
       "    <tr>\n",
       "      <th>9</th>\n",
       "      <td>18</td>\n",
       "      <td>5400000.0</td>\n",
       "      <td>61.0</td>\n",
       "      <td>2017-02-26T00:00:00</td>\n",
       "      <td>3</td>\n",
       "      <td>2.50</td>\n",
       "      <td>9.0</td>\n",
       "      <td>43.6</td>\n",
       "      <td>7</td>\n",
       "      <td>NaN</td>\n",
       "      <td>...</td>\n",
       "      <td>2.0</td>\n",
       "      <td>Санкт-Петербург</td>\n",
       "      <td>50898.0</td>\n",
       "      <td>15008.0</td>\n",
       "      <td>0</td>\n",
       "      <td>NaN</td>\n",
       "      <td>0</td>\n",
       "      <td>NaN</td>\n",
       "      <td>289.0</td>\n",
       "      <td>Санкт-Петербург</td>\n",
       "    </tr>\n",
       "    <tr>\n",
       "      <th>10</th>\n",
       "      <td>5</td>\n",
       "      <td>5050000.0</td>\n",
       "      <td>39.6</td>\n",
       "      <td>2017-11-16T00:00:00</td>\n",
       "      <td>1</td>\n",
       "      <td>2.67</td>\n",
       "      <td>12.0</td>\n",
       "      <td>20.3</td>\n",
       "      <td>3</td>\n",
       "      <td>NaN</td>\n",
       "      <td>...</td>\n",
       "      <td>0.0</td>\n",
       "      <td>Санкт-Петербург</td>\n",
       "      <td>38357.0</td>\n",
       "      <td>13878.0</td>\n",
       "      <td>1</td>\n",
       "      <td>310.0</td>\n",
       "      <td>2</td>\n",
       "      <td>553.0</td>\n",
       "      <td>137.0</td>\n",
       "      <td>Санкт-Петербург</td>\n",
       "    </tr>\n",
       "    <tr>\n",
       "      <th>13</th>\n",
       "      <td>20</td>\n",
       "      <td>3550000.0</td>\n",
       "      <td>42.8</td>\n",
       "      <td>2017-07-01T00:00:00</td>\n",
       "      <td>2</td>\n",
       "      <td>2.56</td>\n",
       "      <td>5.0</td>\n",
       "      <td>27.0</td>\n",
       "      <td>5</td>\n",
       "      <td>NaN</td>\n",
       "      <td>...</td>\n",
       "      <td>1.0</td>\n",
       "      <td>Петергоф</td>\n",
       "      <td>37868.0</td>\n",
       "      <td>33058.0</td>\n",
       "      <td>1</td>\n",
       "      <td>294.0</td>\n",
       "      <td>3</td>\n",
       "      <td>298.0</td>\n",
       "      <td>366.0</td>\n",
       "      <td>Петергоф</td>\n",
       "    </tr>\n",
       "  </tbody>\n",
       "</table>\n",
       "<p>5 rows × 23 columns</p>\n",
       "</div>"
      ],
      "text/plain": [
       "    total_images  last_price  total_area first_day_exposition  rooms  \\\n",
       "0             20  13000000.0       108.0  2019-03-07T00:00:00      3   \n",
       "4              2  10000000.0       100.0  2018-06-19T00:00:00      2   \n",
       "9             18   5400000.0        61.0  2017-02-26T00:00:00      3   \n",
       "10             5   5050000.0        39.6  2017-11-16T00:00:00      1   \n",
       "13            20   3550000.0        42.8  2017-07-01T00:00:00      2   \n",
       "\n",
       "    ceiling_height  floors_total  living_area  floor is_apartment  ...  \\\n",
       "0             2.70          16.0         51.0      8          NaN  ...   \n",
       "4             3.03          14.0         32.0     13          NaN  ...   \n",
       "9             2.50           9.0         43.6      7          NaN  ...   \n",
       "10            2.67          12.0         20.3      3          NaN  ...   \n",
       "13            2.56           5.0         27.0      5          NaN  ...   \n",
       "\n",
       "    balcony    locality_name  airports_nearest  cityCenters_nearest  \\\n",
       "0       0.0  Санкт-Петербург           18863.0              16028.0   \n",
       "4       0.0  Санкт-Петербург           31856.0               8098.0   \n",
       "9       2.0  Санкт-Петербург           50898.0              15008.0   \n",
       "10      0.0  Санкт-Петербург           38357.0              13878.0   \n",
       "13      1.0         Петергоф           37868.0              33058.0   \n",
       "\n",
       "   parks_around3000  parks_nearest  ponds_around3000  ponds_nearest  \\\n",
       "0                 1          482.0                 2          755.0   \n",
       "4                 2          112.0                 1           48.0   \n",
       "9                 0            NaN                 0            NaN   \n",
       "10                1          310.0                 2          553.0   \n",
       "13                1          294.0                 3          298.0   \n",
       "\n",
       "    days_exposition    loсality_name  \n",
       "0               NaN  Санкт-Петербург  \n",
       "4             121.0  Санкт-Петербург  \n",
       "9             289.0  Санкт-Петербург  \n",
       "10            137.0  Санкт-Петербург  \n",
       "13            366.0         Петергоф  \n",
       "\n",
       "[5 rows x 23 columns]"
      ]
     },
     "execution_count": 22,
     "metadata": {},
     "output_type": "execute_result"
    }
   ],
   "source": [
    "data.head()"
   ]
  },
  {
   "cell_type": "code",
   "execution_count": 23,
   "metadata": {},
   "outputs": [],
   "source": [
    "data['price_for_meter'] = (data['last_price'] / data['total_area']).round(2)"
   ]
  },
  {
   "cell_type": "code",
   "execution_count": 24,
   "metadata": {},
   "outputs": [],
   "source": [
    "data['first_day_exposition'] = pd.to_datetime(data['first_day_exposition'])\n",
    "data['day_exposition'] = data['first_day_exposition'].dt.dayofweek"
   ]
  },
  {
   "cell_type": "code",
   "execution_count": 25,
   "metadata": {},
   "outputs": [],
   "source": [
    "data['month_exposition'] = data['first_day_exposition'].dt.month"
   ]
  },
  {
   "cell_type": "code",
   "execution_count": 26,
   "metadata": {},
   "outputs": [],
   "source": [
    "data['year_exposition'] = data['first_day_exposition'].dt.year"
   ]
  },
  {
   "cell_type": "code",
   "execution_count": 27,
   "metadata": {},
   "outputs": [],
   "source": [
    "def determine_floor_type(row):\n",
    "    if row['floor'] == 1:\n",
    "        return 'первый'\n",
    "    elif row['floor'] == row['floors_total']:\n",
    "        return 'последний'\n",
    "    else:\n",
    "        return 'другой'\n",
    "data['type_floor'] = data.apply(determine_floor_type, axis=1)"
   ]
  },
  {
   "cell_type": "code",
   "execution_count": 28,
   "metadata": {},
   "outputs": [],
   "source": [
    "import numpy as np\n",
    "data['city_center_km'] = data['cityCenters_nearest'].apply(\n",
    "    lambda x: round(x / 1000) if pd.notna(x) else np.nan)"
   ]
  },
  {
   "cell_type": "markdown",
   "metadata": {
    "id": "pPyxrKWTAwb-"
   },
   "source": [
    "### Проведите исследовательский анализ данных"
   ]
  },
  {
   "cell_type": "markdown",
   "metadata": {},
   "source": [
    "Список параметров:\n",
    "общая площадь;\n",
    "жилая площадь;\n",
    "площадь кухни;\n",
    "цена объекта;\n",
    "количество комнат;\n",
    "высота потолков;\n",
    "тип этажа квартиры («первый», «последний», «другой»);\n",
    "общее количество этажей в доме;\n",
    "расстояние до центра города в метрах;\n",
    "расстояние до ближайшего парка"
   ]
  },
  {
   "cell_type": "code",
   "execution_count": 29,
   "metadata": {
    "id": "V2f0D3kLAwb-",
    "scrolled": true
   },
   "outputs": [
    {
     "data": {
      "image/png": "[encoded data removed]",
      "text/plain": [
       "<Figure size 1080x720 with 10 Axes>"
      ]
     },
     "metadata": {
      "needs_background": "light"
     },
     "output_type": "display_data"
    }
   ],
   "source": [
    "columns_to_plot = [\n",
    "    'total_area',\n",
    "    'living_area',\n",
    "    'kitchen_area',\n",
    "    'last_price',\n",
    "    'rooms',\n",
    "    'ceiling_height',\n",
    "    'type_floor',\n",
    "    'floors_total',\n",
    "    'cityCenters_nearest',\n",
    "    'parks_nearest'\n",
    "]\n",
    "\n",
    "plt.figure(figsize=(15, 10))\n",
    "\n",
    "for i, column in enumerate(columns_to_plot):\n",
    "    plt.subplot(3, 4, i + 1) \n",
    "    data[column].hist(bins=40, edgecolor='black')\n",
    "    plt.title(column)\n",
    "    plt.xlabel(column)\n",
    "    plt.ylabel('Frequency')\n",
    "\n",
    "\n",
    "plt.tight_layout()\n",
    "plt.show() "
   ]
  },
  {
   "cell_type": "code",
   "execution_count": 30,
   "metadata": {},
   "outputs": [
    {
     "data": {
      "text/plain": [
       "260.0"
      ]
     },
     "execution_count": 30,
     "metadata": {},
     "output_type": "execute_result"
    }
   ],
   "source": [
    "data['total_area'].max()"
   ]
  },
  {
   "cell_type": "markdown",
   "metadata": {},
   "source": [
    "*Анализ экстремальных значений(выбросов)*\n",
    "\n",
    "1. total_area: выбросы при >150м\n",
    "2. living_area: уже обработано на прошлом этапе\n",
    "3. kitchen_area: выбросы >40м\n",
    "4. last_price: выбросы >0.4 * 10^8\n",
    "5. ceiling_height: логическое изменение экстремальных значений путем деления на 10\n",
    "6. cityCenters_nearest: выбросы >55000м\n",
    "7. parks_nearest: выбросы >15000м"
   ]
  },
  {
   "cell_type": "markdown",
   "metadata": {},
   "source": [
    "<div class=\"alert alert-block alert-warning\">\n",
    " \n",
    "### Комментарий ревьюера\n",
    "    \n",
    "#### Совет\n",
    "\n",
    "Вот тут давай привыкнем оформлять графики правильно. Не забывай давать им названия. Сделать это можно командой title()"
   ]
  },
  {
   "cell_type": "code",
   "execution_count": 32,
   "metadata": {},
   "outputs": [],
   "source": [
    "data['ceiling_height'] = data['ceiling_height'].apply(lambda x: x / 10 if x >= 20 else x)"
   ]
  },
  {
   "cell_type": "code",
   "execution_count": 33,
   "metadata": {},
   "outputs": [],
   "source": [
    "data = data.query('total_area <= 150 and kitchen_area <= 40 and last_price <= 40000000 and ceiling_height <= 3.5 and cityCenters_nearest <= 55000 and parks_nearest <= 15000')"
   ]
  },
  {
   "cell_type": "code",
   "execution_count": 22,
   "metadata": {},
   "outputs": [
    {
     "data": {
      "image/png": "[encoded data removed]",
      "text/plain": [
       "<Figure size 1080x576 with 1 Axes>"
      ]
     },
     "metadata": {
      "needs_background": "light"
     },
     "output_type": "display_data"
    }
   ],
   "source": [
    "data['days_exposition'].hist(bins = 100, figsize=(15,8), edgecolor='black')\n",
    "plt.title('Hist')\n",
    "plt.xlabel('days_exposition')\n",
    "plt.ylabel('Frequency')\n",
    "plt.show()"
   ]
  },
  {
   "cell_type": "markdown",
   "metadata": {},
   "source": [
    "<div class=\"alert alert-block alert-danger\">\n",
    " \n",
    "### Комментарий ревьюера\n",
    "    \n",
    "#### Ошибка\n",
    "\n",
    "А тут стоило рассмотреть график чуть подробнее. На нем будет несколько выбросов. Нужно их показать на графике и высказаться о причинах появления."
   ]
  },
  {
   "cell_type": "markdown",
   "metadata": {},
   "source": [
    "<div class=\"alert alert-block alert-info\">\n",
    "    Я изменила оформление графика, добавила title и подписи для осей, также изменила количество корзин для более наглядной визуализации, воспользовалась plt.show().\n",
    "    Ниже написала возможные причины возникновения выбросов\n",
    "</div>"
   ]
  },
  {
   "cell_type": "markdown",
   "metadata": {},
   "source": [
    "<div class=\"alert alert-block alert-success\">\n",
    " \n",
    "# Комментарий ревьюера ver.2 \n",
    "    \n",
    "#### Успех\n",
    "\n",
    "Отлично. Выбросы тут появились по причине того, что в эти дни система убирает с показа бесплатные объявления. "
   ]
  },
  {
   "cell_type": "code",
   "execution_count": 20,
   "metadata": {},
   "outputs": [
    {
     "data": {
      "text/plain": [
       "(180.88863436982163, 1.0)"
      ]
     },
     "execution_count": 20,
     "metadata": {},
     "output_type": "execute_result"
    }
   ],
   "source": [
    "data['days_exposition'].mean(), data['days_exposition'].min()"
   ]
  },
  {
   "cell_type": "code",
   "execution_count": 36,
   "metadata": {},
   "outputs": [
    {
     "data": {
      "text/plain": [
       "114.0"
      ]
     },
     "execution_count": 36,
     "metadata": {},
     "output_type": "execute_result"
    }
   ],
   "source": [
    "data['days_exposition'].median()"
   ]
  },
  {
   "cell_type": "code",
   "execution_count": 37,
   "metadata": {},
   "outputs": [
    {
     "name": "stdout",
     "output_type": "stream",
     "text": [
      "15-й квантиль: 26.0\n",
      "85-й квантиль: 392.2999999999997\n"
     ]
    }
   ],
   "source": [
    "quantile_15 = data['days_exposition'].quantile(0.15)\n",
    "quantile_85 = data['days_exposition'].quantile(0.85)\n",
    "\n",
    "print(f\"15-й квантиль: {quantile_15}\")\n",
    "print(f\"85-й квантиль: {quantile_85}\")"
   ]
  },
  {
   "cell_type": "markdown",
   "metadata": {},
   "source": [
    "*Возможные причины возникновения выбросов:*\n",
    "1. Системный сбой\n",
    "2. Человеческий фактор, неправильно указали количество дней, если эти данные заполнялись вручную"
   ]
  },
  {
   "cell_type": "markdown",
   "metadata": {},
   "source": [
    "*Объяснение:*\n",
    "среднее более чуствительно к выбросам, поэтому я буду оперировать медианой\n",
    "1. Среднее время продажи ~114 дней\n",
    "2. Экстремально быстрые продажи до 26 дней\n",
    "3. Экстремально долгие от 392 дней"
   ]
  },
  {
   "cell_type": "code",
   "execution_count": 38,
   "metadata": {},
   "outputs": [
    {
     "data": {
      "text/html": [
       "<div>\n",
       "<style scoped>\n",
       "    .dataframe tbody tr th:only-of-type {\n",
       "        vertical-align: middle;\n",
       "    }\n",
       "\n",
       "    .dataframe tbody tr th {\n",
       "        vertical-align: top;\n",
       "    }\n",
       "\n",
       "    .dataframe thead th {\n",
       "        text-align: right;\n",
       "    }\n",
       "</style>\n",
       "<table border=\"1\" class=\"dataframe\">\n",
       "  <thead>\n",
       "    <tr style=\"text-align: right;\">\n",
       "      <th></th>\n",
       "      <th>total_images</th>\n",
       "      <th>last_price</th>\n",
       "      <th>total_area</th>\n",
       "      <th>first_day_exposition</th>\n",
       "      <th>rooms</th>\n",
       "      <th>ceiling_height</th>\n",
       "      <th>floors_total</th>\n",
       "      <th>living_area</th>\n",
       "      <th>floor</th>\n",
       "      <th>is_apartment</th>\n",
       "      <th>...</th>\n",
       "      <th>ponds_around3000</th>\n",
       "      <th>ponds_nearest</th>\n",
       "      <th>days_exposition</th>\n",
       "      <th>loсality_name</th>\n",
       "      <th>price_for_meter</th>\n",
       "      <th>day_exposition</th>\n",
       "      <th>month_exposition</th>\n",
       "      <th>year_exposition</th>\n",
       "      <th>type_floor</th>\n",
       "      <th>city_center_km</th>\n",
       "    </tr>\n",
       "  </thead>\n",
       "  <tbody>\n",
       "    <tr>\n",
       "      <th>0</th>\n",
       "      <td>20</td>\n",
       "      <td>13000000.0</td>\n",
       "      <td>108.0</td>\n",
       "      <td>2019-03-07</td>\n",
       "      <td>3</td>\n",
       "      <td>2.7</td>\n",
       "      <td>16.0</td>\n",
       "      <td>51.0</td>\n",
       "      <td>8</td>\n",
       "      <td>NaN</td>\n",
       "      <td>...</td>\n",
       "      <td>2</td>\n",
       "      <td>755.0</td>\n",
       "      <td>NaN</td>\n",
       "      <td>Санкт-Петербург</td>\n",
       "      <td>120370.37</td>\n",
       "      <td>3</td>\n",
       "      <td>3</td>\n",
       "      <td>2019</td>\n",
       "      <td>другой</td>\n",
       "      <td>16.0</td>\n",
       "    </tr>\n",
       "  </tbody>\n",
       "</table>\n",
       "<p>1 rows × 29 columns</p>\n",
       "</div>"
      ],
      "text/plain": [
       "   total_images  last_price  total_area first_day_exposition  rooms  \\\n",
       "0            20  13000000.0       108.0           2019-03-07      3   \n",
       "\n",
       "   ceiling_height  floors_total  living_area  floor is_apartment  ...  \\\n",
       "0             2.7          16.0         51.0      8          NaN  ...   \n",
       "\n",
       "   ponds_around3000  ponds_nearest  days_exposition    loсality_name  \\\n",
       "0                 2          755.0              NaN  Санкт-Петербург   \n",
       "\n",
       "  price_for_meter  day_exposition  month_exposition  year_exposition  \\\n",
       "0       120370.37               3                 3             2019   \n",
       "\n",
       "   type_floor  city_center_km  \n",
       "0      другой            16.0  \n",
       "\n",
       "[1 rows x 29 columns]"
      ]
     },
     "execution_count": 38,
     "metadata": {},
     "output_type": "execute_result"
    }
   ],
   "source": [
    "data.head(1)"
   ]
  },
  {
   "cell_type": "code",
   "execution_count": 39,
   "metadata": {},
   "outputs": [
    {
     "data": {
      "image/png": "[encoded data removed]",
      "text/plain": [
       "<Figure size 720x432 with 1 Axes>"
      ]
     },
     "metadata": {
      "needs_background": "light"
     },
     "output_type": "display_data"
    }
   ],
   "source": [
    "plt.figure(figsize=(10, 6))\n",
    "plt.scatter(data['total_area'], data['last_price'], alpha=0.5)\n",
    "plt.title('Зависимость цены от общей площади')\n",
    "plt.xlabel('Общая площадь (м²)')\n",
    "plt.ylabel('Цена (руб.)')\n",
    "plt.grid()\n",
    "plt.show()\n"
   ]
  },
  {
   "cell_type": "markdown",
   "metadata": {},
   "source": [
    "<div class=\"alert alert-block alert-success\">\n",
    " \n",
    "### Комментарий ревьюера\n",
    "    \n",
    "#### Успех\n",
    "\n",
    "Тут хочу отметить то, что подобран классный метод показа зависимости на графике. "
   ]
  },
  {
   "cell_type": "code",
   "execution_count": 40,
   "metadata": {},
   "outputs": [
    {
     "data": {
      "image/png": "[encoded data removed]",
      "text/plain": [
       "<Figure size 720x432 with 1 Axes>"
      ]
     },
     "metadata": {
      "needs_background": "light"
     },
     "output_type": "display_data"
    }
   ],
   "source": [
    "plt.figure(figsize=(10, 6))\n",
    "plt.scatter(data['living_area'], data['last_price'], alpha=0.5)\n",
    "plt.title('Зависимость цены от жилой площади')\n",
    "plt.xlabel('Жилая площадь (м²)')\n",
    "plt.ylabel('Цена (руб.)')\n",
    "plt.grid()\n",
    "plt.show()\n"
   ]
  },
  {
   "cell_type": "code",
   "execution_count": 41,
   "metadata": {},
   "outputs": [
    {
     "data": {
      "image/png": "[encoded data removed]",
      "text/plain": [
       "<Figure size 720x432 with 1 Axes>"
      ]
     },
     "metadata": {
      "needs_background": "light"
     },
     "output_type": "display_data"
    }
   ],
   "source": [
    "plt.figure(figsize=(10, 6))\n",
    "plt.scatter(data['kitchen_area'], data['last_price'], alpha=0.5)\n",
    "plt.title('Зависимость цены от площади кухни')\n",
    "plt.xlabel('Площадь кухни (м²)')\n",
    "plt.ylabel('Цена (руб.)')\n",
    "plt.grid()\n",
    "plt.show()\n"
   ]
  },
  {
   "cell_type": "code",
   "execution_count": 42,
   "metadata": {},
   "outputs": [
    {
     "data": {
      "image/png": "[encoded data removed]",
      "text/plain": [
       "<Figure size 720x432 with 1 Axes>"
      ]
     },
     "metadata": {
      "needs_background": "light"
     },
     "output_type": "display_data"
    }
   ],
   "source": [
    "plt.figure(figsize=(10, 6))\n",
    "plt.scatter(data['rooms'], data['last_price'], alpha=0.5)\n",
    "plt.title('Зависимость цены от кол-ва комнат')\n",
    "plt.xlabel('Кол-во комнат')\n",
    "plt.ylabel('Цена (руб.)')\n",
    "plt.grid()\n",
    "plt.show()\n"
   ]
  },
  {
   "cell_type": "markdown",
   "metadata": {},
   "source": [
    "*Вывод:* исходя из графиков, можем сделать вывод о том, что присутствует линейная зависимость между ценой и метражем (общей площадью, жилой площадью, кухонной площадью)"
   ]
  },
  {
   "cell_type": "markdown",
   "metadata": {},
   "source": [
    "<div class=\"alert alert-block alert-danger\">\n",
    " \n",
    "### Комментарий ревьюера\n",
    "    \n",
    "#### Ошибка\n",
    "\n",
    "А тут давай попробуем оставить выводы под граифики. В конце концов, мы ведь граифики ради выводов и используем. "
   ]
  },
  {
   "cell_type": "markdown",
   "metadata": {},
   "source": [
    "<div class=\"alert alert-block alert-info\">\n",
    "    Добавила промежуточный вывод по графикам, ниже написан полный вывод\n",
    "</div>"
   ]
  },
  {
   "cell_type": "code",
   "execution_count": 43,
   "metadata": {},
   "outputs": [
    {
     "data": {
      "text/plain": [
       "<Figure size 720x432 with 0 Axes>"
      ]
     },
     "metadata": {},
     "output_type": "display_data"
    },
    {
     "data": {
      "image/png": "[encoded data removed]",
      "text/plain": [
       "<Figure size 432x288 with 1 Axes>"
      ]
     },
     "metadata": {
      "needs_background": "light"
     },
     "output_type": "display_data"
    }
   ],
   "source": [
    "plt.figure(figsize=(10, 6))\n",
    "data.boxplot(column='last_price', by='type_floor', grid=False)\n",
    "plt.title('Зависимость цены от этажа')\n",
    "plt.suptitle('')\n",
    "plt.xlabel('Этаж')\n",
    "plt.ylabel('Цена (руб.)')\n",
    "plt.grid()\n",
    "plt.show()"
   ]
  },
  {
   "cell_type": "code",
   "execution_count": 44,
   "metadata": {},
   "outputs": [
    {
     "data": {
      "text/plain": [
       "<Figure size 720x432 with 0 Axes>"
      ]
     },
     "metadata": {},
     "output_type": "display_data"
    },
    {
     "data": {
      "image/png": "[encoded data removed]",
      "text/plain": [
       "<Figure size 432x288 with 1 Axes>"
      ]
     },
     "metadata": {
      "needs_background": "light"
     },
     "output_type": "display_data"
    }
   ],
   "source": [
    "plt.figure(figsize=(10, 6))\n",
    "data.boxplot(column='last_price', by='day_exposition', grid=False)\n",
    "plt.title('Зависимость цены от дня недели')\n",
    "plt.suptitle('')\n",
    "plt.xlabel('День недели')\n",
    "plt.ylabel('Цена (руб.)')\n",
    "plt.grid()\n",
    "plt.show()\n"
   ]
  },
  {
   "cell_type": "code",
   "execution_count": 45,
   "metadata": {},
   "outputs": [
    {
     "data": {
      "text/plain": [
       "<Figure size 720x432 with 0 Axes>"
      ]
     },
     "metadata": {},
     "output_type": "display_data"
    },
    {
     "data": {
      "image/png": "[encoded data removed]",
      "text/plain": [
       "<Figure size 432x288 with 1 Axes>"
      ]
     },
     "metadata": {
      "needs_background": "light"
     },
     "output_type": "display_data"
    }
   ],
   "source": [
    "plt.figure(figsize=(10, 6))\n",
    "data.boxplot(column='last_price', by='month_exposition', grid=False)\n",
    "plt.title('Зависимость цены от месяца')\n",
    "plt.suptitle('')\n",
    "plt.xlabel('Месяц')\n",
    "plt.ylabel('Цена (руб.)')\n",
    "plt.grid()\n",
    "plt.show()"
   ]
  },
  {
   "cell_type": "code",
   "execution_count": 46,
   "metadata": {},
   "outputs": [
    {
     "data": {
      "text/plain": [
       "<Figure size 720x432 with 0 Axes>"
      ]
     },
     "metadata": {},
     "output_type": "display_data"
    },
    {
     "data": {
      "image/png": "[encoded data removed]",
      "text/plain": [
       "<Figure size 432x288 with 1 Axes>"
      ]
     },
     "metadata": {
      "needs_background": "light"
     },
     "output_type": "display_data"
    }
   ],
   "source": [
    "plt.figure(figsize=(10, 6))\n",
    "data.boxplot(column='last_price', by='year_exposition', grid=False)\n",
    "plt.title('Зависимость цены от года')\n",
    "plt.suptitle('')\n",
    "plt.xlabel('Год')\n",
    "plt.ylabel('Цена (руб.)')\n",
    "plt.grid()\n",
    "plt.show()"
   ]
  },
  {
   "cell_type": "markdown",
   "metadata": {},
   "source": [
    "<div class=\"alert alert-block alert-danger\">\n",
    " \n",
    "### Комментарий ревьюера\n",
    "    \n",
    "#### Ошибка\n",
    "\n",
    "Для дня, месяца и года нет смысла считать корреляцию. У этих параметров нет линейной связи. Вывод о зависимости стоит делать толькопо графику. "
   ]
  },
  {
   "cell_type": "markdown",
   "metadata": {},
   "source": [
    "<div class=\"alert alert-block alert-info\">\n",
    "    Поняла, тогда исправила вывод, опираясь только на графики\n",
    "</div>"
   ]
  },
  {
   "cell_type": "markdown",
   "metadata": {},
   "source": [
    "<div class=\"alert alert-block alert-success\">\n",
    " \n",
    "# Комментарий ревьюера ver.2 \n",
    "    \n",
    "#### Успех\n",
    "\n",
    "Исправлено и тут "
   ]
  },
  {
   "cell_type": "markdown",
   "metadata": {},
   "source": [
    "**Вывод:**\n",
    "Цена больше всего зависит от параметров, связанных с метражем:\n",
    "\n",
    "1. общей площади\n",
    "2. жилой площади\n",
    "3. площади кухни\n",
    "\n",
    "Связь линейная: чем больше цена, тем больше метраж"
   ]
  },
  {
   "cell_type": "markdown",
   "metadata": {},
   "source": [
    "Исключим то, где locality_name == 'неизвестен'"
   ]
  },
  {
   "cell_type": "code",
   "execution_count": 48,
   "metadata": {},
   "outputs": [
    {
     "data": {
      "text/html": [
       "<div>\n",
       "<style scoped>\n",
       "    .dataframe tbody tr th:only-of-type {\n",
       "        vertical-align: middle;\n",
       "    }\n",
       "\n",
       "    .dataframe tbody tr th {\n",
       "        vertical-align: top;\n",
       "    }\n",
       "\n",
       "    .dataframe thead th {\n",
       "        text-align: right;\n",
       "    }\n",
       "</style>\n",
       "<table border=\"1\" class=\"dataframe\">\n",
       "  <thead>\n",
       "    <tr style=\"text-align: right;\">\n",
       "      <th></th>\n",
       "      <th>locality_name</th>\n",
       "      <th>number_of_listings</th>\n",
       "      <th>average_price_for_meter</th>\n",
       "    </tr>\n",
       "  </thead>\n",
       "  <tbody>\n",
       "    <tr>\n",
       "      <th>0</th>\n",
       "      <td>Зеленогорск</td>\n",
       "      <td>8</td>\n",
       "      <td>105947.951250</td>\n",
       "    </tr>\n",
       "    <tr>\n",
       "      <th>1</th>\n",
       "      <td>Колпино</td>\n",
       "      <td>47</td>\n",
       "      <td>71856.186596</td>\n",
       "    </tr>\n",
       "    <tr>\n",
       "      <th>2</th>\n",
       "      <td>Красное Село</td>\n",
       "      <td>14</td>\n",
       "      <td>71533.545000</td>\n",
       "    </tr>\n",
       "    <tr>\n",
       "      <th>3</th>\n",
       "      <td>Кронштадт</td>\n",
       "      <td>37</td>\n",
       "      <td>77867.722973</td>\n",
       "    </tr>\n",
       "    <tr>\n",
       "      <th>4</th>\n",
       "      <td>Ломоносов</td>\n",
       "      <td>5</td>\n",
       "      <td>65634.412000</td>\n",
       "    </tr>\n",
       "    <tr>\n",
       "      <th>5</th>\n",
       "      <td>Павловск</td>\n",
       "      <td>9</td>\n",
       "      <td>104186.201111</td>\n",
       "    </tr>\n",
       "    <tr>\n",
       "      <th>6</th>\n",
       "      <td>Петергоф</td>\n",
       "      <td>63</td>\n",
       "      <td>84634.123968</td>\n",
       "    </tr>\n",
       "    <tr>\n",
       "      <th>7</th>\n",
       "      <td>Пушкин</td>\n",
       "      <td>90</td>\n",
       "      <td>105363.318444</td>\n",
       "    </tr>\n",
       "    <tr>\n",
       "      <th>8</th>\n",
       "      <td>Санкт-Петербург</td>\n",
       "      <td>3138</td>\n",
       "      <td>114617.828642</td>\n",
       "    </tr>\n",
       "    <tr>\n",
       "      <th>9</th>\n",
       "      <td>Сестрорецк</td>\n",
       "      <td>36</td>\n",
       "      <td>105615.681944</td>\n",
       "    </tr>\n",
       "    <tr>\n",
       "      <th>10</th>\n",
       "      <td>посёлок Парголово</td>\n",
       "      <td>1</td>\n",
       "      <td>96875.000000</td>\n",
       "    </tr>\n",
       "    <tr>\n",
       "      <th>11</th>\n",
       "      <td>посёлок Стрельна</td>\n",
       "      <td>4</td>\n",
       "      <td>86466.375000</td>\n",
       "    </tr>\n",
       "  </tbody>\n",
       "</table>\n",
       "</div>"
      ],
      "text/plain": [
       "        locality_name  number_of_listings  average_price_for_meter\n",
       "0         Зеленогорск                   8            105947.951250\n",
       "1             Колпино                  47             71856.186596\n",
       "2        Красное Село                  14             71533.545000\n",
       "3           Кронштадт                  37             77867.722973\n",
       "4           Ломоносов                   5             65634.412000\n",
       "5            Павловск                   9            104186.201111\n",
       "6            Петергоф                  63             84634.123968\n",
       "7              Пушкин                  90            105363.318444\n",
       "8     Санкт-Петербург                3138            114617.828642\n",
       "9          Сестрорецк                  36            105615.681944\n",
       "10  посёлок Парголово                   1             96875.000000\n",
       "11   посёлок Стрельна                   4             86466.375000"
      ]
     },
     "execution_count": 48,
     "metadata": {},
     "output_type": "execute_result"
    }
   ],
   "source": [
    "filtered_data = data[data['locality_name'] != 'неизвестен']\n",
    "\n",
    "pivot_table = filtered_data.groupby('locality_name').agg(\n",
    "    number_of_listings=('last_price', 'count'),  \n",
    "    average_price_for_meter=('price_for_meter', 'mean') \n",
    ").reset_index()\n",
    "pivot_table"
   ]
  },
  {
   "cell_type": "code",
   "execution_count": 49,
   "metadata": {},
   "outputs": [
    {
     "data": {
      "text/html": [
       "<div>\n",
       "<style scoped>\n",
       "    .dataframe tbody tr th:only-of-type {\n",
       "        vertical-align: middle;\n",
       "    }\n",
       "\n",
       "    .dataframe tbody tr th {\n",
       "        vertical-align: top;\n",
       "    }\n",
       "\n",
       "    .dataframe thead th {\n",
       "        text-align: right;\n",
       "    }\n",
       "</style>\n",
       "<table border=\"1\" class=\"dataframe\">\n",
       "  <thead>\n",
       "    <tr style=\"text-align: right;\">\n",
       "      <th></th>\n",
       "      <th>locality_name</th>\n",
       "      <th>number_of_listings</th>\n",
       "      <th>average_price_for_meter</th>\n",
       "    </tr>\n",
       "  </thead>\n",
       "  <tbody>\n",
       "    <tr>\n",
       "      <th>0</th>\n",
       "      <td>Санкт-Петербург</td>\n",
       "      <td>3138</td>\n",
       "      <td>114617.828642</td>\n",
       "    </tr>\n",
       "    <tr>\n",
       "      <th>1</th>\n",
       "      <td>Пушкин</td>\n",
       "      <td>90</td>\n",
       "      <td>105363.318444</td>\n",
       "    </tr>\n",
       "    <tr>\n",
       "      <th>2</th>\n",
       "      <td>Петергоф</td>\n",
       "      <td>63</td>\n",
       "      <td>84634.123968</td>\n",
       "    </tr>\n",
       "    <tr>\n",
       "      <th>3</th>\n",
       "      <td>Колпино</td>\n",
       "      <td>47</td>\n",
       "      <td>71856.186596</td>\n",
       "    </tr>\n",
       "    <tr>\n",
       "      <th>4</th>\n",
       "      <td>Кронштадт</td>\n",
       "      <td>37</td>\n",
       "      <td>77867.722973</td>\n",
       "    </tr>\n",
       "    <tr>\n",
       "      <th>5</th>\n",
       "      <td>Сестрорецк</td>\n",
       "      <td>36</td>\n",
       "      <td>105615.681944</td>\n",
       "    </tr>\n",
       "    <tr>\n",
       "      <th>6</th>\n",
       "      <td>Красное Село</td>\n",
       "      <td>14</td>\n",
       "      <td>71533.545000</td>\n",
       "    </tr>\n",
       "    <tr>\n",
       "      <th>7</th>\n",
       "      <td>Павловск</td>\n",
       "      <td>9</td>\n",
       "      <td>104186.201111</td>\n",
       "    </tr>\n",
       "    <tr>\n",
       "      <th>8</th>\n",
       "      <td>Зеленогорск</td>\n",
       "      <td>8</td>\n",
       "      <td>105947.951250</td>\n",
       "    </tr>\n",
       "    <tr>\n",
       "      <th>9</th>\n",
       "      <td>Ломоносов</td>\n",
       "      <td>5</td>\n",
       "      <td>65634.412000</td>\n",
       "    </tr>\n",
       "  </tbody>\n",
       "</table>\n",
       "</div>"
      ],
      "text/plain": [
       "     locality_name  number_of_listings  average_price_for_meter\n",
       "0  Санкт-Петербург                3138            114617.828642\n",
       "1           Пушкин                  90            105363.318444\n",
       "2         Петергоф                  63             84634.123968\n",
       "3          Колпино                  47             71856.186596\n",
       "4        Кронштадт                  37             77867.722973\n",
       "5       Сестрорецк                  36            105615.681944\n",
       "6     Красное Село                  14             71533.545000\n",
       "7         Павловск                   9            104186.201111\n",
       "8      Зеленогорск                   8            105947.951250\n",
       "9        Ломоносов                   5             65634.412000"
      ]
     },
     "execution_count": 49,
     "metadata": {},
     "output_type": "execute_result"
    }
   ],
   "source": [
    "top_localities = pivot_table.nlargest(10, 'number_of_listings').reset_index(drop=True)\n",
    "top_localities"
   ]
  },
  {
   "cell_type": "markdown",
   "metadata": {},
   "source": [
    "<div class=\"alert alert-block alert-success\">\n",
    " \n",
    "### Комментарий ревьюера\n",
    "    \n",
    "#### Успех\n",
    "\n",
    "Рейтинг топ-10 по городам получен "
   ]
  },
  {
   "cell_type": "code",
   "execution_count": 50,
   "metadata": {},
   "outputs": [],
   "source": [
    "highest_price_locality = top_localities.loc[top_localities['average_price_for_meter'].idxmax()]\n",
    "lowest_price_locality = top_localities.loc[top_localities['average_price_for_meter'].idxmin()]"
   ]
  },
  {
   "cell_type": "code",
   "execution_count": 51,
   "metadata": {},
   "outputs": [
    {
     "name": "stdout",
     "output_type": "stream",
     "text": [
      "Населённый пункт с самой высокой стоимостью квадратного метра:\n",
      "locality_name              Санкт-Петербург\n",
      "number_of_listings                    3138\n",
      "average_price_for_meter      114617.828642\n",
      "Name: 0, dtype: object\n",
      "Населённый пункт с самой низкой стоимостью квадратного метра:\n",
      "locality_name              Ломоносов\n",
      "number_of_listings                 5\n",
      "average_price_for_meter    65634.412\n",
      "Name: 9, dtype: object\n"
     ]
    }
   ],
   "source": [
    "print(\"Населённый пункт с самой высокой стоимостью квадратного метра:\")\n",
    "print(highest_price_locality)\n",
    "\n",
    "print(\"Населённый пункт с самой низкой стоимостью квадратного метра:\")\n",
    "print(lowest_price_locality)"
   ]
  },
  {
   "cell_type": "code",
   "execution_count": 52,
   "metadata": {},
   "outputs": [],
   "source": [
    "spb_data = data[data['locality_name'] == 'Санкт-Петербург']"
   ]
  },
  {
   "cell_type": "code",
   "execution_count": 53,
   "metadata": {},
   "outputs": [
    {
     "data": {
      "text/html": [
       "<div>\n",
       "<style scoped>\n",
       "    .dataframe tbody tr th:only-of-type {\n",
       "        vertical-align: middle;\n",
       "    }\n",
       "\n",
       "    .dataframe tbody tr th {\n",
       "        vertical-align: top;\n",
       "    }\n",
       "\n",
       "    .dataframe thead th {\n",
       "        text-align: right;\n",
       "    }\n",
       "</style>\n",
       "<table border=\"1\" class=\"dataframe\">\n",
       "  <thead>\n",
       "    <tr style=\"text-align: right;\">\n",
       "      <th></th>\n",
       "      <th>distance_km</th>\n",
       "      <th>average_price</th>\n",
       "    </tr>\n",
       "  </thead>\n",
       "  <tbody>\n",
       "    <tr>\n",
       "      <th>0</th>\n",
       "      <td>0.0</td>\n",
       "      <td>1.019800e+07</td>\n",
       "    </tr>\n",
       "    <tr>\n",
       "      <th>1</th>\n",
       "      <td>1.0</td>\n",
       "      <td>1.145462e+07</td>\n",
       "    </tr>\n",
       "    <tr>\n",
       "      <th>2</th>\n",
       "      <td>2.0</td>\n",
       "      <td>1.111262e+07</td>\n",
       "    </tr>\n",
       "    <tr>\n",
       "      <th>3</th>\n",
       "      <td>3.0</td>\n",
       "      <td>9.070784e+06</td>\n",
       "    </tr>\n",
       "    <tr>\n",
       "      <th>4</th>\n",
       "      <td>4.0</td>\n",
       "      <td>1.048559e+07</td>\n",
       "    </tr>\n",
       "    <tr>\n",
       "      <th>5</th>\n",
       "      <td>5.0</td>\n",
       "      <td>1.049325e+07</td>\n",
       "    </tr>\n",
       "    <tr>\n",
       "      <th>6</th>\n",
       "      <td>6.0</td>\n",
       "      <td>1.084233e+07</td>\n",
       "    </tr>\n",
       "    <tr>\n",
       "      <th>7</th>\n",
       "      <td>7.0</td>\n",
       "      <td>1.080603e+07</td>\n",
       "    </tr>\n",
       "    <tr>\n",
       "      <th>8</th>\n",
       "      <td>8.0</td>\n",
       "      <td>9.818939e+06</td>\n",
       "    </tr>\n",
       "    <tr>\n",
       "      <th>9</th>\n",
       "      <td>9.0</td>\n",
       "      <td>8.480968e+06</td>\n",
       "    </tr>\n",
       "  </tbody>\n",
       "</table>\n",
       "</div>"
      ],
      "text/plain": [
       "   distance_km  average_price\n",
       "0          0.0   1.019800e+07\n",
       "1          1.0   1.145462e+07\n",
       "2          2.0   1.111262e+07\n",
       "3          3.0   9.070784e+06\n",
       "4          4.0   1.048559e+07\n",
       "5          5.0   1.049325e+07\n",
       "6          6.0   1.084233e+07\n",
       "7          7.0   1.080603e+07\n",
       "8          8.0   9.818939e+06\n",
       "9          9.0   8.480968e+06"
      ]
     },
     "execution_count": 53,
     "metadata": {},
     "output_type": "execute_result"
    }
   ],
   "source": [
    "average_price_by_distance = (\n",
    "    spb_data.groupby('city_center_km')['last_price'].mean().reset_index()\n",
    ")\n",
    "average_price_by_distance.columns = ['distance_km', 'average_price']\n",
    "average_price_by_distance.head(10)"
   ]
  },
  {
   "cell_type": "code",
   "execution_count": 54,
   "metadata": {
    "scrolled": true
   },
   "outputs": [
    {
     "data": {
      "image/png": "[encoded data removed]",
      "text/plain": [
       "<Figure size 864x432 with 1 Axes>"
      ]
     },
     "metadata": {
      "needs_background": "light"
     },
     "output_type": "display_data"
    }
   ],
   "source": [
    "plt.figure(figsize=(12, 6))\n",
    "plt.plot(average_price_by_distance['distance_km'], average_price_by_distance['average_price'], marker='o')\n",
    "plt.title('Зависимость средней цены квартир от расстояния до центра Санкт-Петербурга')\n",
    "plt.xlabel('Расстояние до центра (км)')\n",
    "plt.ylabel('Средняя цена (руб)')\n",
    "plt.grid()\n",
    "plt.xticks(range(int(average_price_by_distance['distance_km'].max()) + 1)) \n",
    "plt.show()"
   ]
  },
  {
   "cell_type": "markdown",
   "metadata": {},
   "source": [
    "<div class=\"alert alert-block alert-warning\">\n",
    " \n",
    "### Комментарий ревьюера\n",
    "    \n",
    "#### Совет\n",
    "\n",
    "А как считаешь, где заканчивается зона центра города? "
   ]
  },
  {
   "cell_type": "code",
   "execution_count": 55,
   "metadata": {},
   "outputs": [
    {
     "data": {
      "text/html": [
       "<div>\n",
       "<style scoped>\n",
       "    .dataframe tbody tr th:only-of-type {\n",
       "        vertical-align: middle;\n",
       "    }\n",
       "\n",
       "    .dataframe tbody tr th {\n",
       "        vertical-align: top;\n",
       "    }\n",
       "\n",
       "    .dataframe thead th {\n",
       "        text-align: right;\n",
       "    }\n",
       "</style>\n",
       "<table border=\"1\" class=\"dataframe\">\n",
       "  <thead>\n",
       "    <tr style=\"text-align: right;\">\n",
       "      <th></th>\n",
       "      <th>total_images</th>\n",
       "      <th>last_price</th>\n",
       "      <th>total_area</th>\n",
       "      <th>first_day_exposition</th>\n",
       "      <th>rooms</th>\n",
       "      <th>ceiling_height</th>\n",
       "      <th>floors_total</th>\n",
       "      <th>living_area</th>\n",
       "      <th>floor</th>\n",
       "      <th>is_apartment</th>\n",
       "      <th>...</th>\n",
       "      <th>ponds_around3000</th>\n",
       "      <th>ponds_nearest</th>\n",
       "      <th>days_exposition</th>\n",
       "      <th>loсality_name</th>\n",
       "      <th>price_for_meter</th>\n",
       "      <th>day_exposition</th>\n",
       "      <th>month_exposition</th>\n",
       "      <th>year_exposition</th>\n",
       "      <th>type_floor</th>\n",
       "      <th>city_center_km</th>\n",
       "    </tr>\n",
       "  </thead>\n",
       "  <tbody>\n",
       "    <tr>\n",
       "      <th>748</th>\n",
       "      <td>13</td>\n",
       "      <td>14350000.0</td>\n",
       "      <td>74.0</td>\n",
       "      <td>2017-11-28</td>\n",
       "      <td>2</td>\n",
       "      <td>3.13</td>\n",
       "      <td>5.0</td>\n",
       "      <td>30.0</td>\n",
       "      <td>3</td>\n",
       "      <td>NaN</td>\n",
       "      <td>...</td>\n",
       "      <td>0</td>\n",
       "      <td>NaN</td>\n",
       "      <td>128.0</td>\n",
       "      <td>Санкт-Петербург</td>\n",
       "      <td>193918.92</td>\n",
       "      <td>1</td>\n",
       "      <td>11</td>\n",
       "      <td>2017</td>\n",
       "      <td>другой</td>\n",
       "      <td>27.0</td>\n",
       "    </tr>\n",
       "  </tbody>\n",
       "</table>\n",
       "<p>1 rows × 29 columns</p>\n",
       "</div>"
      ],
      "text/plain": [
       "     total_images  last_price  total_area first_day_exposition  rooms  \\\n",
       "748            13  14350000.0        74.0           2017-11-28      2   \n",
       "\n",
       "     ceiling_height  floors_total  living_area  floor is_apartment  ...  \\\n",
       "748            3.13           5.0         30.0      3          NaN  ...   \n",
       "\n",
       "     ponds_around3000  ponds_nearest  days_exposition    loсality_name  \\\n",
       "748                 0            NaN            128.0  Санкт-Петербург   \n",
       "\n",
       "    price_for_meter  day_exposition  month_exposition  year_exposition  \\\n",
       "748       193918.92               1                11             2017   \n",
       "\n",
       "     type_floor  city_center_km  \n",
       "748      другой            27.0  \n",
       "\n",
       "[1 rows x 29 columns]"
      ]
     },
     "execution_count": 55,
     "metadata": {},
     "output_type": "execute_result"
    }
   ],
   "source": [
    "a = spb_data.query('city_center_km == 27')\n",
    "a"
   ]
  },
  {
   "cell_type": "markdown",
   "metadata": {},
   "source": [
    "**Анализ результатов**\n",
    "\n",
    "Есть зависимость: чем меньше расстояние до центра - тем выше цена\n",
    "\n",
    "Однако, на расстояние 27км есть экстремальное значение"
   ]
  },
  {
   "cell_type": "markdown",
   "metadata": {
    "id": "h7VpzkIDAwb-"
   },
   "source": [
    "### Напишите общий вывод"
   ]
  },
  {
   "cell_type": "markdown",
   "metadata": {
    "id": "3H4lnp_KAwb-"
   },
   "source": [
    "**Этап 1**\n",
    "На первом этапе я изучила датасет, ознакомившись с его структурой и содержимым. Я собрала общую информацию о столбцах и типах данных, а также построила гистограммы для всех числовых переменных.\n",
    "\n",
    "**Этап 2**\n",
    "На втором этапе я выполнила предобработке данных. Я удалила явные дубликаты, что обеспечило уникальность записей в датафрейме. Также была проведена работа с неявными дубликатами, которые могли повлиять на анализ. Также юыли заполнены нулевые значения в тех столбцах, где это было возможно.\n",
    "\n",
    "**Этап 3**\n",
    "Третий этап включал добавление новых столбцов в датафрейм, что позволило расширить объем информации для анализа.\n",
    "\n",
    "**Этап 4**\n",
    "На четвертом этапе был проведен исследовательский анализ данных:\n",
    "\n",
    "1. *Анализ экстремальных значений(выбросов)*\n",
    "с помощью построенных гистограмм\n",
    "\n",
    "total_area: выбросы при >150м\n",
    "\n",
    "living_area: уже обработано на прошлом этапе\n",
    "\n",
    "kitchen_area: выбросы >40м\n",
    "\n",
    "last_price: выбросы >0.4 * 10^8\n",
    "\n",
    "ceiling_height: логическое изменение экстремальных значений путем деления на 10\n",
    "\n",
    "cityCenters_nearest: выбросы >55000м\n",
    "\n",
    "parks_nearest: выбросы >15000м\n",
    "\n",
    "2. *Анализ среднего времени продажи*\n",
    "\n",
    "с помощью медианных значений и квантилей\n",
    "\n",
    "Среднее время продажи ~114 дней\n",
    "\n",
    "Экстремально быстрые продажи до 26 дней\n",
    "\n",
    "Экстремально долгие от 392 дней\n",
    "\n",
    "3. *Анализ зависимости цены от параметров*\n",
    "\n",
    "Цена больше всего зависит от параметров, связанных с метражем:\n",
    "\n",
    "общей площади\n",
    "\n",
    "жилой площади\n",
    "\n",
    "площади кухни\n",
    "\n",
    "4. *Анализ средней цены квадратного метра для населенных пунктов с наибольшем количеством объявлений*\n",
    "\n",
    "Населённый пункт с самой высокой стоимостью квадратного метра:\n",
    "\n",
    "Санкт-Петербург\n",
    "\n",
    "средняя цена за квадратный метр: 114617.828642\n",
    "\n",
    "Населённый пункт с самой низкой стоимостью квадратного метра:\n",
    "\n",
    "Ломоносов\n",
    "\n",
    "средняя цена за квадратный метр: 65634.412\n",
    "\n",
    "5. *Анализ зависимости цены от расстояния до центра Санкт-Петербурга (км)*\n",
    "\n",
    "Есть зависимость: чем меньше расстояние до центра - тем выше цена"
   ]
  },
  {
   "cell_type": "markdown",
   "metadata": {},
   "source": [
    "<div class=\"alert alert-block alert-success\">\n",
    " \n",
    "### Комментарий ревьюера\n",
    "    \n",
    "#### Успех\n",
    "\n",
    "Итоговый вывод стал отличным дополнением к проекту. С таким выводом мы точно сможем составить антифрод-систему для сервиса Недвижимости. Я уверен, нам хватит для этого данных."
   ]
  },
  {
   "cell_type": "markdown",
   "metadata": {},
   "source": [
    "<div class=\"alert alert-block alert-info\">\n",
    " \n",
    "### Итоговый Комментарий ревьюера\n",
    "    \n",
    "#### Успех\n",
    "    \n",
    "Благодарю тебя за выполнение работы. Мне понравился твой проект за структурность и последовательность. Во многих местах ты подбираешь оптимальный код и автоматизируешь свою работу, а это очень пригодится в будущем. Выделить бы хотел Предобработку данных. На мой взгляд она получилась особенно удачно. Очень насыщенный итоговый вывод вышел. Старайся такие выводы делать и в будущем. \n",
    "    \n",
    "    \n",
    "Однако, в проекте есть несколько замечаний, которые надо исправить:\n",
    "\n",
    "* Промежуточные выводы добавить.\n",
    "* Посчитать сколько осталось уникальных значений в названиях.\n",
    "* Найти и пояснить выбивающиеся значения на одном из графиков.\n",
    "* Выводы под графики добавить.\n",
    "* Убрать подсчет корреляции для некоторых параметров.\n",
    "       \n",
    "Еще я оставил рекомендации. Очень надеюсь, что ты учтешь их в этом и последующих проектах.\n",
    "       \n",
    "Жду проект после доработки. Уверен, ты справишься.\n",
    "</div>"
   ]
  },
  {
   "cell_type": "markdown",
   "metadata": {
    "id": "A90mc0BgAwb-"
   },
   "source": [
    "**Чек-лист готовности проекта**\n",
    "\n",
    "Поставьте 'x' в выполненных пунктах. Далее нажмите Shift+Enter."
   ]
  },
  {
   "cell_type": "markdown",
   "metadata": {
    "id": "ME3sTWm6Awb-"
   },
   "source": [
    "- [x]  Файл с данными открыт.\n",
    "- [x]  Файл с данными изучен: выведены первые строки, использован метод `info()`, построены гистограммы.\n",
    "- [x]  Найдены пропущенные значения.\n",
    "- [x]  Пропущенные значения заполнены там, где это возможно.\n",
    "- [x]  Объяснено, какие пропущенные значения обнаружены.\n",
    "- [x]  В каждом столбце установлен корректный тип данных.\n",
    "- [x]  Объяснено, в каких столбцах изменён тип данных и почему.\n",
    "- [x]  Устранены неявные дубликаты в названиях населённых пунктов.\n",
    "- [x]  Обработаны редкие и выбивающиеся значения (аномалии).\n",
    "- [x]  В таблицу добавлены новые параметры:\n",
    "       – цена одного квадратного метра;\n",
    "       – день публикации объявления (0 - понедельник, 1 - вторник и т. д.);\n",
    "       – месяц публикации объявления;\n",
    "       – год публикации объявления;\n",
    "       – тип этажа квартиры (значения — «первый», «последний», «другой»);\n",
    "       – расстояние до центра города в километрах.\n",
    "- [x]  Изучены и описаны параметры:\n",
    "        - общая площадь;\n",
    "        - жилая площадь;\n",
    "        - площадь кухни;\n",
    "        - цена объекта;\n",
    "        - количество комнат;\n",
    "        - высота потолков;\n",
    "        - тип этажа квартиры («первый», «последний», «другой»);\n",
    "        - общее количество этажей в доме;\n",
    "        - расстояние до центра города в метрах;\n",
    "        - расстояние до ближайшего парка.\n",
    "- [x]  Выполнено задание «Изучите, как быстро продавались квартиры (столбец `days_exposition`)»:\n",
    "    - построена гистограмма;\n",
    "    - рассчитаны среднее и медиана;\n",
    "    - описано, сколько обычно занимает продажа и указано, какие продажи можно считать быстрыми, а какие — необычно долгими.\n",
    "- [x]  Выполнено задание «Определите факторы, которые больше всего влияют на общую (полную) стоимость объекта». Построены графики, которые показывают зависимость цены от параметров:\n",
    "        - общая площадь;\n",
    "        - жилая площадь;\n",
    "        - площадь кухни;\n",
    "        - количество комнат;\n",
    "        - тип этажа, на котором расположена квартира (первый, последний, другой);\n",
    "        - дата размещения (день недели, месяц, год).\n",
    "- [x]  Выполнено задание «Посчитайте среднюю цену одного квадратного метра в 10 населённых пунктах с наибольшим числом объявлений»:\n",
    "    - выделены населённые пункты с самой высокой и низкой стоимостью квадратного метра.\n",
    "- [x]  Выполнено задание «Выделите квартиры в Санкт-Петербурге с помощью столбца `locality_name` и вычислите их среднюю стоимость на разном удалении от центра»:\n",
    "    -  учтён каждый километр расстояния, известны средние цены квартир в одном километре от центра, в двух и так далее;\n",
    "    -  описано, как стоимость объекта зависит от расстояния до центра города;\n",
    "    -  построен график изменения средней цены для каждого километра от центра Петербурга.\n",
    "- [x]  На каждом этапе сделаны промежуточные выводы.\n",
    "- [x]  В конце проекта сделан общий вывод."
   ]
  },
  {
   "cell_type": "code",
   "execution_count": null,
   "metadata": {},
   "outputs": [],
   "source": []
  }
 ],
 "metadata": {
  "ExecuteTimeLog": [
   {
    "duration": 428,
    "start_time": "2024-11-13T19:27:48.755Z"
   },
   {
    "duration": 44,
    "start_time": "2024-11-13T19:28:38.050Z"
   },
   {
    "duration": 328,
    "start_time": "2024-11-13T19:28:44.113Z"
   },
   {
    "duration": 1372,
    "start_time": "2024-11-13T19:30:27.990Z"
   },
   {
    "duration": 1151,
    "start_time": "2024-11-13T19:31:23.871Z"
   },
   {
    "duration": 98,
    "start_time": "2024-11-13T19:32:21.848Z"
   },
   {
    "duration": 138,
    "start_time": "2024-11-13T19:32:40.041Z"
   },
   {
    "duration": 19,
    "start_time": "2024-11-13T19:32:53.661Z"
   },
   {
    "duration": 2539,
    "start_time": "2024-11-13T19:33:41.342Z"
   },
   {
    "duration": 2049,
    "start_time": "2024-11-13T19:34:27.420Z"
   },
   {
    "duration": 10,
    "start_time": "2024-11-13T19:35:33.652Z"
   },
   {
    "duration": 7,
    "start_time": "2024-11-13T19:37:39.525Z"
   },
   {
    "duration": 10,
    "start_time": "2024-11-13T19:37:48.897Z"
   },
   {
    "duration": 9,
    "start_time": "2024-11-13T19:38:15.034Z"
   },
   {
    "duration": 10,
    "start_time": "2024-11-13T19:38:17.108Z"
   },
   {
    "duration": 3,
    "start_time": "2024-11-13T19:41:21.420Z"
   },
   {
    "duration": 10,
    "start_time": "2024-11-13T19:41:28.378Z"
   },
   {
    "duration": 5,
    "start_time": "2024-11-13T19:49:09.366Z"
   },
   {
    "duration": 44,
    "start_time": "2024-11-13T19:54:35.511Z"
   },
   {
    "duration": 25,
    "start_time": "2024-11-13T19:54:48.642Z"
   },
   {
    "duration": 18,
    "start_time": "2024-11-13T19:55:39.094Z"
   },
   {
    "duration": 17,
    "start_time": "2024-11-13T19:55:48.268Z"
   },
   {
    "duration": 17,
    "start_time": "2024-11-13T19:56:37.585Z"
   },
   {
    "duration": 10,
    "start_time": "2024-11-13T19:58:32.436Z"
   },
   {
    "duration": 16,
    "start_time": "2024-11-13T20:00:39.059Z"
   },
   {
    "duration": 27,
    "start_time": "2024-11-13T20:05:23.653Z"
   },
   {
    "duration": 6,
    "start_time": "2024-11-13T20:05:47.886Z"
   },
   {
    "duration": 5,
    "start_time": "2024-11-13T20:06:04.005Z"
   },
   {
    "duration": 12,
    "start_time": "2024-11-13T20:06:43.679Z"
   },
   {
    "duration": 5,
    "start_time": "2024-11-13T20:06:59.753Z"
   },
   {
    "duration": 1005,
    "start_time": "2024-11-13T20:15:29.027Z"
   },
   {
    "duration": 6,
    "start_time": "2024-11-13T20:15:49.300Z"
   },
   {
    "duration": 8,
    "start_time": "2024-11-13T20:15:53.764Z"
   },
   {
    "duration": 17,
    "start_time": "2024-11-13T20:15:56.165Z"
   },
   {
    "duration": 975,
    "start_time": "2024-11-13T20:23:39.678Z"
   },
   {
    "duration": 7,
    "start_time": "2024-11-13T20:23:48.856Z"
   },
   {
    "duration": 9,
    "start_time": "2024-11-13T20:24:19.496Z"
   },
   {
    "duration": 7,
    "start_time": "2024-11-13T20:24:31.635Z"
   },
   {
    "duration": 8,
    "start_time": "2024-11-13T20:28:18.085Z"
   },
   {
    "duration": 7,
    "start_time": "2024-11-13T20:28:25.182Z"
   },
   {
    "duration": 8,
    "start_time": "2024-11-13T20:37:11.765Z"
   },
   {
    "duration": 9,
    "start_time": "2024-11-13T20:39:21.297Z"
   },
   {
    "duration": 7,
    "start_time": "2024-11-13T20:39:27.127Z"
   },
   {
    "duration": 9,
    "start_time": "2024-11-13T20:39:45.266Z"
   },
   {
    "duration": 9,
    "start_time": "2024-11-13T20:39:49.507Z"
   },
   {
    "duration": 74,
    "start_time": "2024-11-13T20:41:19.576Z"
   },
   {
    "duration": 7,
    "start_time": "2024-11-13T20:41:54.715Z"
   },
   {
    "duration": 9,
    "start_time": "2024-11-13T20:42:41.899Z"
   },
   {
    "duration": 8,
    "start_time": "2024-11-13T20:46:25.980Z"
   },
   {
    "duration": 24,
    "start_time": "2024-11-13T20:46:32.107Z"
   },
   {
    "duration": 50,
    "start_time": "2024-11-15T08:10:40.734Z"
   },
   {
    "duration": 408,
    "start_time": "2024-11-15T08:10:46.594Z"
   },
   {
    "duration": 376,
    "start_time": "2024-11-15T08:10:47.004Z"
   },
   {
    "duration": 15,
    "start_time": "2024-11-15T08:10:47.381Z"
   },
   {
    "duration": 2263,
    "start_time": "2024-11-15T08:10:47.398Z"
   },
   {
    "duration": 10,
    "start_time": "2024-11-15T08:10:49.663Z"
   },
   {
    "duration": 62,
    "start_time": "2024-11-15T08:10:49.674Z"
   },
   {
    "duration": 55,
    "start_time": "2024-11-15T08:10:49.738Z"
   },
   {
    "duration": 15,
    "start_time": "2024-11-15T08:10:49.794Z"
   },
   {
    "duration": 34,
    "start_time": "2024-11-15T08:10:49.810Z"
   },
   {
    "duration": 22,
    "start_time": "2024-11-15T08:10:49.846Z"
   },
   {
    "duration": 29,
    "start_time": "2024-11-15T08:10:49.869Z"
   },
   {
    "duration": 42,
    "start_time": "2024-11-15T08:10:49.900Z"
   },
   {
    "duration": 8,
    "start_time": "2024-11-15T08:11:34.789Z"
   },
   {
    "duration": 10,
    "start_time": "2024-11-15T08:13:09.526Z"
   },
   {
    "duration": 8,
    "start_time": "2024-11-15T08:13:10.353Z"
   },
   {
    "duration": 7,
    "start_time": "2024-11-15T08:14:38.782Z"
   },
   {
    "duration": 28,
    "start_time": "2024-11-15T08:14:42.236Z"
   },
   {
    "duration": 17,
    "start_time": "2024-11-15T08:14:47.986Z"
   },
   {
    "duration": 11,
    "start_time": "2024-11-15T08:14:49.962Z"
   },
   {
    "duration": 4,
    "start_time": "2024-11-15T08:16:22.863Z"
   },
   {
    "duration": 9,
    "start_time": "2024-11-15T08:16:24.230Z"
   },
   {
    "duration": 12,
    "start_time": "2024-11-15T08:16:26.603Z"
   },
   {
    "duration": 11,
    "start_time": "2024-11-15T08:16:27.335Z"
   },
   {
    "duration": 12,
    "start_time": "2024-11-15T08:16:41.713Z"
   },
   {
    "duration": 9,
    "start_time": "2024-11-15T08:16:42.386Z"
   },
   {
    "duration": 24,
    "start_time": "2024-11-15T08:17:03.318Z"
   },
   {
    "duration": 3,
    "start_time": "2024-11-15T08:17:16.295Z"
   },
   {
    "duration": 139,
    "start_time": "2024-11-15T08:17:16.300Z"
   },
   {
    "duration": 14,
    "start_time": "2024-11-15T08:17:16.440Z"
   },
   {
    "duration": 1918,
    "start_time": "2024-11-15T08:17:16.456Z"
   },
   {
    "duration": 10,
    "start_time": "2024-11-15T08:17:18.376Z"
   },
   {
    "duration": 7,
    "start_time": "2024-11-15T08:17:18.388Z"
   },
   {
    "duration": 43,
    "start_time": "2024-11-15T08:17:18.397Z"
   },
   {
    "duration": 15,
    "start_time": "2024-11-15T08:17:18.442Z"
   },
   {
    "duration": 18,
    "start_time": "2024-11-15T08:17:18.459Z"
   },
   {
    "duration": 6,
    "start_time": "2024-11-15T08:17:18.478Z"
   },
   {
    "duration": 14,
    "start_time": "2024-11-15T08:17:18.486Z"
   },
   {
    "duration": 29,
    "start_time": "2024-11-15T08:17:18.502Z"
   },
   {
    "duration": 14,
    "start_time": "2024-11-15T08:17:18.532Z"
   },
   {
    "duration": 26,
    "start_time": "2024-11-15T08:17:18.548Z"
   },
   {
    "duration": 36,
    "start_time": "2024-11-15T08:17:39.531Z"
   },
   {
    "duration": 49,
    "start_time": "2024-11-15T08:17:55.270Z"
   },
   {
    "duration": 45,
    "start_time": "2024-11-15T08:21:09.523Z"
   },
   {
    "duration": 14,
    "start_time": "2024-11-15T08:21:15.961Z"
   },
   {
    "duration": 10,
    "start_time": "2024-11-15T08:21:16.677Z"
   },
   {
    "duration": 42,
    "start_time": "2024-11-15T08:22:08.849Z"
   },
   {
    "duration": 17,
    "start_time": "2024-11-15T08:23:50.359Z"
   },
   {
    "duration": 24,
    "start_time": "2024-11-15T08:24:22.655Z"
   },
   {
    "duration": 51,
    "start_time": "2024-11-15T08:24:54.307Z"
   },
   {
    "duration": 23,
    "start_time": "2024-11-15T08:24:57.865Z"
   },
   {
    "duration": 16,
    "start_time": "2024-11-15T08:25:57.637Z"
   },
   {
    "duration": 8,
    "start_time": "2024-11-15T08:25:58.212Z"
   },
   {
    "duration": 22,
    "start_time": "2024-11-15T08:25:59.564Z"
   },
   {
    "duration": 15,
    "start_time": "2024-11-15T08:26:11.340Z"
   },
   {
    "duration": 15,
    "start_time": "2024-11-15T08:28:08.380Z"
   },
   {
    "duration": 5,
    "start_time": "2024-11-15T08:29:08.482Z"
   },
   {
    "duration": 4,
    "start_time": "2024-11-15T08:29:25.409Z"
   },
   {
    "duration": 5,
    "start_time": "2024-11-15T08:30:01.855Z"
   },
   {
    "duration": 975,
    "start_time": "2024-11-15T08:30:48.475Z"
   },
   {
    "duration": 5,
    "start_time": "2024-11-15T08:30:55.485Z"
   },
   {
    "duration": 5,
    "start_time": "2024-11-15T08:34:40.181Z"
   },
   {
    "duration": 570,
    "start_time": "2024-11-15T08:35:37.851Z"
   },
   {
    "duration": 3,
    "start_time": "2024-11-15T08:37:03.141Z"
   },
   {
    "duration": 470,
    "start_time": "2024-11-15T08:37:23.314Z"
   },
   {
    "duration": 104,
    "start_time": "2024-11-15T08:38:33.003Z"
   },
   {
    "duration": 9,
    "start_time": "2024-11-15T08:39:19.252Z"
   },
   {
    "duration": 139,
    "start_time": "2024-11-15T08:39:24.284Z"
   },
   {
    "duration": 32,
    "start_time": "2024-11-15T08:41:36.594Z"
   },
   {
    "duration": 19,
    "start_time": "2024-11-15T08:41:44.097Z"
   },
   {
    "duration": 9,
    "start_time": "2024-11-15T08:42:36.129Z"
   },
   {
    "duration": 50,
    "start_time": "2024-11-15T08:43:00.481Z"
   },
   {
    "duration": 8,
    "start_time": "2024-11-15T08:43:02.949Z"
   },
   {
    "duration": 27,
    "start_time": "2024-11-15T08:44:42.284Z"
   },
   {
    "duration": 5,
    "start_time": "2024-11-15T08:45:32.725Z"
   },
   {
    "duration": 5,
    "start_time": "2024-11-15T08:45:56.984Z"
   },
   {
    "duration": 9,
    "start_time": "2024-11-15T08:47:00.643Z"
   },
   {
    "duration": 429,
    "start_time": "2024-11-15T08:47:10.592Z"
   },
   {
    "duration": 132,
    "start_time": "2024-11-15T08:47:11.022Z"
   },
   {
    "duration": 15,
    "start_time": "2024-11-15T08:47:11.155Z"
   },
   {
    "duration": 2134,
    "start_time": "2024-11-15T08:47:11.171Z"
   },
   {
    "duration": 9,
    "start_time": "2024-11-15T08:47:13.307Z"
   },
   {
    "duration": 15,
    "start_time": "2024-11-15T08:47:13.317Z"
   },
   {
    "duration": 31,
    "start_time": "2024-11-15T08:47:13.334Z"
   },
   {
    "duration": 14,
    "start_time": "2024-11-15T08:47:13.367Z"
   },
   {
    "duration": 33,
    "start_time": "2024-11-15T08:47:13.383Z"
   },
   {
    "duration": 7,
    "start_time": "2024-11-15T08:47:13.418Z"
   },
   {
    "duration": 21,
    "start_time": "2024-11-15T08:47:13.426Z"
   },
   {
    "duration": 28,
    "start_time": "2024-11-15T08:47:13.449Z"
   },
   {
    "duration": 23,
    "start_time": "2024-11-15T08:47:13.478Z"
   },
   {
    "duration": 29,
    "start_time": "2024-11-15T08:47:13.503Z"
   },
   {
    "duration": 29,
    "start_time": "2024-11-15T08:47:13.533Z"
   },
   {
    "duration": 28,
    "start_time": "2024-11-15T08:47:13.563Z"
   },
   {
    "duration": 18,
    "start_time": "2024-11-15T08:47:13.592Z"
   },
   {
    "duration": 25,
    "start_time": "2024-11-15T08:47:13.611Z"
   },
   {
    "duration": 32,
    "start_time": "2024-11-15T08:47:13.638Z"
   },
   {
    "duration": 10,
    "start_time": "2024-11-15T08:47:13.671Z"
   },
   {
    "duration": 32,
    "start_time": "2024-11-15T08:47:13.683Z"
   },
   {
    "duration": 58,
    "start_time": "2024-11-15T08:47:13.717Z"
   },
   {
    "duration": 7,
    "start_time": "2024-11-15T08:47:32.905Z"
   },
   {
    "duration": 4,
    "start_time": "2024-11-15T08:48:32.407Z"
   },
   {
    "duration": 24,
    "start_time": "2024-11-15T08:48:39.293Z"
   },
   {
    "duration": 24,
    "start_time": "2024-11-15T08:49:40.077Z"
   },
   {
    "duration": 6,
    "start_time": "2024-11-15T08:51:51.295Z"
   },
   {
    "duration": 13,
    "start_time": "2024-11-15T08:51:59.892Z"
   },
   {
    "duration": 30,
    "start_time": "2024-11-15T08:52:02.855Z"
   },
   {
    "duration": 5,
    "start_time": "2024-11-15T08:55:26.902Z"
   },
   {
    "duration": 26,
    "start_time": "2024-11-15T08:55:48.009Z"
   },
   {
    "duration": 4,
    "start_time": "2024-11-15T08:56:03.709Z"
   },
   {
    "duration": 24,
    "start_time": "2024-11-15T08:56:06.569Z"
   },
   {
    "duration": 146,
    "start_time": "2024-11-15T08:58:58.871Z"
   },
   {
    "duration": 28,
    "start_time": "2024-11-15T08:59:02.335Z"
   },
   {
    "duration": 48,
    "start_time": "2024-11-15T11:02:25.132Z"
   },
   {
    "duration": 42,
    "start_time": "2024-11-15T11:02:30.710Z"
   },
   {
    "duration": 6,
    "start_time": "2024-11-15T11:02:37.734Z"
   },
   {
    "duration": 404,
    "start_time": "2024-11-15T11:02:44.947Z"
   },
   {
    "duration": 367,
    "start_time": "2024-11-15T11:02:45.353Z"
   },
   {
    "duration": 13,
    "start_time": "2024-11-15T11:02:45.721Z"
   },
   {
    "duration": 2568,
    "start_time": "2024-11-15T11:02:45.736Z"
   },
   {
    "duration": 10,
    "start_time": "2024-11-15T11:02:48.306Z"
   },
   {
    "duration": 35,
    "start_time": "2024-11-15T11:02:48.317Z"
   },
   {
    "duration": 65,
    "start_time": "2024-11-15T11:02:48.355Z"
   },
   {
    "duration": 13,
    "start_time": "2024-11-15T11:02:48.422Z"
   },
   {
    "duration": 30,
    "start_time": "2024-11-15T11:02:48.436Z"
   },
   {
    "duration": 25,
    "start_time": "2024-11-15T11:02:48.468Z"
   },
   {
    "duration": 9,
    "start_time": "2024-11-15T11:02:48.494Z"
   },
   {
    "duration": 41,
    "start_time": "2024-11-15T11:02:48.505Z"
   },
   {
    "duration": 44,
    "start_time": "2024-11-15T11:02:48.548Z"
   },
   {
    "duration": 35,
    "start_time": "2024-11-15T11:02:48.595Z"
   },
   {
    "duration": 13,
    "start_time": "2024-11-15T11:02:48.632Z"
   },
   {
    "duration": 18,
    "start_time": "2024-11-15T11:02:48.646Z"
   },
   {
    "duration": 29,
    "start_time": "2024-11-15T11:02:48.665Z"
   },
   {
    "duration": 16,
    "start_time": "2024-11-15T11:02:48.696Z"
   },
   {
    "duration": 36,
    "start_time": "2024-11-15T11:02:48.714Z"
   },
   {
    "duration": 32,
    "start_time": "2024-11-15T11:02:48.753Z"
   },
   {
    "duration": 39,
    "start_time": "2024-11-15T11:02:48.787Z"
   },
   {
    "duration": 31,
    "start_time": "2024-11-15T11:02:48.827Z"
   },
   {
    "duration": 38,
    "start_time": "2024-11-15T11:02:48.860Z"
   },
   {
    "duration": 34,
    "start_time": "2024-11-15T11:02:48.900Z"
   },
   {
    "duration": 42,
    "start_time": "2024-11-15T11:02:48.936Z"
   },
   {
    "duration": 158,
    "start_time": "2024-11-15T11:02:48.979Z"
   },
   {
    "duration": 45,
    "start_time": "2024-11-15T11:02:49.139Z"
   },
   {
    "duration": 3,
    "start_time": "2024-11-15T11:04:03.005Z"
   },
   {
    "duration": 52,
    "start_time": "2024-11-15T11:04:06.525Z"
   },
   {
    "duration": 269,
    "start_time": "2024-11-15T11:05:46.112Z"
   },
   {
    "duration": 10,
    "start_time": "2024-11-15T11:05:57.849Z"
   },
   {
    "duration": 23,
    "start_time": "2024-11-15T11:06:06.484Z"
   },
   {
    "duration": 415,
    "start_time": "2024-11-15T13:11:48.722Z"
   },
   {
    "duration": 129,
    "start_time": "2024-11-15T13:11:49.139Z"
   },
   {
    "duration": 14,
    "start_time": "2024-11-15T13:11:49.270Z"
   },
   {
    "duration": 2062,
    "start_time": "2024-11-15T13:11:49.286Z"
   },
   {
    "duration": 9,
    "start_time": "2024-11-15T13:11:51.350Z"
   },
   {
    "duration": 6,
    "start_time": "2024-11-15T13:11:51.360Z"
   },
   {
    "duration": 25,
    "start_time": "2024-11-15T13:11:51.368Z"
   },
   {
    "duration": 14,
    "start_time": "2024-11-15T13:11:51.394Z"
   },
   {
    "duration": 40,
    "start_time": "2024-11-15T13:11:51.409Z"
   },
   {
    "duration": 8,
    "start_time": "2024-11-15T13:11:51.451Z"
   },
   {
    "duration": 24,
    "start_time": "2024-11-15T13:11:51.460Z"
   },
   {
    "duration": 15,
    "start_time": "2024-11-15T13:11:51.486Z"
   },
   {
    "duration": 26,
    "start_time": "2024-11-15T13:11:51.502Z"
   },
   {
    "duration": 19,
    "start_time": "2024-11-15T13:11:51.529Z"
   },
   {
    "duration": 4,
    "start_time": "2024-11-15T13:11:51.549Z"
   },
   {
    "duration": 4,
    "start_time": "2024-11-15T13:11:51.555Z"
   },
   {
    "duration": 8,
    "start_time": "2024-11-15T13:11:51.560Z"
   },
   {
    "duration": 9,
    "start_time": "2024-11-15T13:11:51.569Z"
   },
   {
    "duration": 7,
    "start_time": "2024-11-15T13:11:51.579Z"
   },
   {
    "duration": 20,
    "start_time": "2024-11-15T13:11:51.587Z"
   },
   {
    "duration": 37,
    "start_time": "2024-11-15T13:11:51.609Z"
   },
   {
    "duration": 29,
    "start_time": "2024-11-15T13:11:51.648Z"
   },
   {
    "duration": 45,
    "start_time": "2024-11-15T13:11:51.678Z"
   },
   {
    "duration": 14,
    "start_time": "2024-11-15T13:11:51.724Z"
   },
   {
    "duration": 3,
    "start_time": "2024-11-15T13:11:51.740Z"
   },
   {
    "duration": 155,
    "start_time": "2024-11-15T13:11:51.745Z"
   },
   {
    "duration": 14,
    "start_time": "2024-11-15T13:11:51.902Z"
   },
   {
    "duration": 2,
    "start_time": "2024-11-15T13:21:02.243Z"
   },
   {
    "duration": 1444,
    "start_time": "2024-11-15T13:21:25.497Z"
   },
   {
    "duration": 1638,
    "start_time": "2024-11-15T13:21:34.730Z"
   },
   {
    "duration": 1559,
    "start_time": "2024-11-15T13:23:01.623Z"
   },
   {
    "duration": 1824,
    "start_time": "2024-11-15T13:23:09.648Z"
   },
   {
    "duration": 20,
    "start_time": "2024-11-15T13:24:49.865Z"
   },
   {
    "duration": 384,
    "start_time": "2024-11-15T13:31:38.513Z"
   },
   {
    "duration": 118,
    "start_time": "2024-11-15T13:31:38.899Z"
   },
   {
    "duration": 14,
    "start_time": "2024-11-15T13:31:39.019Z"
   },
   {
    "duration": 1926,
    "start_time": "2024-11-15T13:31:39.034Z"
   },
   {
    "duration": 9,
    "start_time": "2024-11-15T13:31:40.961Z"
   },
   {
    "duration": 23,
    "start_time": "2024-11-15T13:31:40.971Z"
   },
   {
    "duration": 29,
    "start_time": "2024-11-15T13:31:40.996Z"
   },
   {
    "duration": 13,
    "start_time": "2024-11-15T13:31:41.026Z"
   },
   {
    "duration": 23,
    "start_time": "2024-11-15T13:31:41.040Z"
   },
   {
    "duration": 7,
    "start_time": "2024-11-15T13:31:41.065Z"
   },
   {
    "duration": 10,
    "start_time": "2024-11-15T13:31:41.073Z"
   },
   {
    "duration": 21,
    "start_time": "2024-11-15T13:31:41.084Z"
   },
   {
    "duration": 26,
    "start_time": "2024-11-15T13:31:41.107Z"
   },
   {
    "duration": 17,
    "start_time": "2024-11-15T13:31:41.134Z"
   },
   {
    "duration": 9,
    "start_time": "2024-11-15T13:31:41.153Z"
   },
   {
    "duration": 19,
    "start_time": "2024-11-15T13:31:41.163Z"
   },
   {
    "duration": 44,
    "start_time": "2024-11-15T13:31:41.184Z"
   },
   {
    "duration": 7,
    "start_time": "2024-11-15T13:31:41.229Z"
   },
   {
    "duration": 21,
    "start_time": "2024-11-15T13:31:41.237Z"
   },
   {
    "duration": 9,
    "start_time": "2024-11-15T13:31:41.259Z"
   },
   {
    "duration": 23,
    "start_time": "2024-11-15T13:31:41.269Z"
   },
   {
    "duration": 10,
    "start_time": "2024-11-15T13:31:41.293Z"
   },
   {
    "duration": 7,
    "start_time": "2024-11-15T13:31:41.305Z"
   },
   {
    "duration": 19,
    "start_time": "2024-11-15T13:31:41.313Z"
   },
   {
    "duration": 4,
    "start_time": "2024-11-15T13:31:41.333Z"
   },
   {
    "duration": 130,
    "start_time": "2024-11-15T13:31:41.338Z"
   },
   {
    "duration": 11,
    "start_time": "2024-11-15T13:31:41.469Z"
   },
   {
    "duration": 31,
    "start_time": "2024-11-15T13:31:41.483Z"
   },
   {
    "duration": 1749,
    "start_time": "2024-11-15T13:31:41.516Z"
   },
   {
    "duration": 33,
    "start_time": "2024-11-15T13:31:43.267Z"
   },
   {
    "duration": 947,
    "start_time": "2024-11-15T13:31:43.301Z"
   },
   {
    "duration": 185,
    "start_time": "2024-11-15T13:31:53.422Z"
   },
   {
    "duration": 137,
    "start_time": "2024-11-15T13:32:07.647Z"
   },
   {
    "duration": 228,
    "start_time": "2024-11-15T13:32:12.039Z"
   },
   {
    "duration": 255,
    "start_time": "2024-11-15T13:32:25.339Z"
   },
   {
    "duration": 327,
    "start_time": "2024-11-15T13:32:41.224Z"
   },
   {
    "duration": 10,
    "start_time": "2024-11-15T13:33:58.206Z"
   },
   {
    "duration": 23,
    "start_time": "2024-11-15T13:51:16.191Z"
   },
   {
    "duration": 33,
    "start_time": "2024-11-15T13:51:36.480Z"
   },
   {
    "duration": 24,
    "start_time": "2024-11-15T13:56:58.830Z"
   },
   {
    "duration": 6,
    "start_time": "2024-11-15T14:00:44.540Z"
   },
   {
    "duration": 9,
    "start_time": "2024-11-15T14:02:53.327Z"
   },
   {
    "duration": 179,
    "start_time": "2024-11-15T14:04:26.286Z"
   },
   {
    "duration": 185,
    "start_time": "2024-11-15T14:04:37.339Z"
   },
   {
    "duration": 4,
    "start_time": "2024-11-15T14:05:04.475Z"
   },
   {
    "duration": 6,
    "start_time": "2024-11-15T14:05:12.413Z"
   },
   {
    "duration": 6,
    "start_time": "2024-11-15T14:06:24.787Z"
   },
   {
    "duration": 6,
    "start_time": "2024-11-15T14:07:03.359Z"
   },
   {
    "duration": 5,
    "start_time": "2024-11-15T14:10:38.816Z"
   },
   {
    "duration": 5,
    "start_time": "2024-11-15T14:14:31.375Z"
   },
   {
    "duration": 50,
    "start_time": "2024-11-17T12:28:56.726Z"
   },
   {
    "duration": 386,
    "start_time": "2024-11-17T12:29:04.545Z"
   },
   {
    "duration": 381,
    "start_time": "2024-11-17T12:29:04.933Z"
   },
   {
    "duration": 16,
    "start_time": "2024-11-17T12:29:05.316Z"
   },
   {
    "duration": 2508,
    "start_time": "2024-11-17T12:29:05.334Z"
   },
   {
    "duration": 12,
    "start_time": "2024-11-17T12:29:07.845Z"
   },
   {
    "duration": 17,
    "start_time": "2024-11-17T12:29:07.859Z"
   },
   {
    "duration": 40,
    "start_time": "2024-11-17T12:29:07.877Z"
   },
   {
    "duration": 17,
    "start_time": "2024-11-17T12:29:07.919Z"
   },
   {
    "duration": 15,
    "start_time": "2024-11-17T12:29:07.937Z"
   },
   {
    "duration": 11,
    "start_time": "2024-11-17T12:29:07.954Z"
   },
   {
    "duration": 9,
    "start_time": "2024-11-17T12:29:07.966Z"
   },
   {
    "duration": 16,
    "start_time": "2024-11-17T12:29:07.998Z"
   },
   {
    "duration": 18,
    "start_time": "2024-11-17T12:29:08.016Z"
   },
   {
    "duration": 16,
    "start_time": "2024-11-17T12:29:08.036Z"
   },
   {
    "duration": 11,
    "start_time": "2024-11-17T12:29:08.054Z"
   },
   {
    "duration": 6,
    "start_time": "2024-11-17T12:29:08.067Z"
   },
   {
    "duration": 28,
    "start_time": "2024-11-17T12:29:08.074Z"
   },
   {
    "duration": 32,
    "start_time": "2024-11-17T12:29:08.103Z"
   },
   {
    "duration": 24,
    "start_time": "2024-11-17T12:29:08.137Z"
   },
   {
    "duration": 11,
    "start_time": "2024-11-17T12:29:08.162Z"
   },
   {
    "duration": 26,
    "start_time": "2024-11-17T12:29:08.175Z"
   },
   {
    "duration": 4,
    "start_time": "2024-11-17T12:29:08.202Z"
   },
   {
    "duration": 18,
    "start_time": "2024-11-17T12:29:08.208Z"
   },
   {
    "duration": 19,
    "start_time": "2024-11-17T12:29:08.228Z"
   },
   {
    "duration": 8,
    "start_time": "2024-11-17T12:29:08.248Z"
   },
   {
    "duration": 168,
    "start_time": "2024-11-17T12:29:08.257Z"
   },
   {
    "duration": 13,
    "start_time": "2024-11-17T12:29:08.428Z"
   },
   {
    "duration": 7,
    "start_time": "2024-11-17T12:29:08.446Z"
   },
   {
    "duration": 2138,
    "start_time": "2024-11-17T12:29:08.455Z"
   },
   {
    "duration": 4,
    "start_time": "2024-11-17T12:29:10.598Z"
   },
   {
    "duration": 294,
    "start_time": "2024-11-17T12:29:10.604Z"
   },
   {
    "duration": 6,
    "start_time": "2024-11-17T12:29:10.900Z"
   },
   {
    "duration": 18,
    "start_time": "2024-11-17T12:29:10.908Z"
   },
   {
    "duration": 210,
    "start_time": "2024-11-17T12:29:10.927Z"
   },
   {
    "duration": 5,
    "start_time": "2024-11-17T12:29:11.138Z"
   },
   {
    "duration": 5,
    "start_time": "2024-11-17T12:29:11.144Z"
   },
   {
    "duration": 7,
    "start_time": "2024-11-17T12:29:11.150Z"
   },
   {
    "duration": 99,
    "start_time": "2024-11-17T12:29:11.159Z"
   },
   {
    "duration": 4,
    "start_time": "2024-11-17T12:29:13.185Z"
   },
   {
    "duration": 23,
    "start_time": "2024-11-17T12:29:40.736Z"
   },
   {
    "duration": 4,
    "start_time": "2024-11-17T12:30:21.201Z"
   },
   {
    "duration": 12,
    "start_time": "2024-11-17T12:32:05.822Z"
   },
   {
    "duration": 914,
    "start_time": "2024-11-17T12:33:25.248Z"
   },
   {
    "duration": 197,
    "start_time": "2024-11-17T12:33:37.891Z"
   },
   {
    "duration": 290,
    "start_time": "2024-11-17T12:33:54.586Z"
   },
   {
    "duration": 215,
    "start_time": "2024-11-17T12:34:09.045Z"
   },
   {
    "duration": 179,
    "start_time": "2024-11-17T12:34:24.663Z"
   },
   {
    "duration": 175,
    "start_time": "2024-11-17T12:34:46.610Z"
   },
   {
    "duration": 5,
    "start_time": "2024-11-17T12:35:44.944Z"
   },
   {
    "duration": 152,
    "start_time": "2024-11-17T12:36:24.126Z"
   },
   {
    "duration": 12,
    "start_time": "2024-11-17T12:36:41.466Z"
   },
   {
    "duration": 204,
    "start_time": "2024-11-17T12:37:04.178Z"
   },
   {
    "duration": 260,
    "start_time": "2024-11-17T12:37:22.937Z"
   },
   {
    "duration": 235,
    "start_time": "2024-11-17T12:37:38.333Z"
   },
   {
    "duration": 181,
    "start_time": "2024-11-17T12:39:15.736Z"
   },
   {
    "duration": 9,
    "start_time": "2024-11-17T12:39:32.610Z"
   },
   {
    "duration": 10,
    "start_time": "2024-11-17T12:40:07.130Z"
   },
   {
    "duration": 200,
    "start_time": "2024-11-17T12:41:27.589Z"
   },
   {
    "duration": 259,
    "start_time": "2024-11-17T12:42:44.436Z"
   },
   {
    "duration": 275,
    "start_time": "2024-11-17T12:42:53.204Z"
   },
   {
    "duration": 60,
    "start_time": "2024-11-17T12:43:33.362Z"
   },
   {
    "duration": 403,
    "start_time": "2024-11-17T13:05:57.227Z"
   },
   {
    "duration": 149,
    "start_time": "2024-11-17T13:05:57.632Z"
   },
   {
    "duration": 15,
    "start_time": "2024-11-17T13:05:57.783Z"
   },
   {
    "duration": 2318,
    "start_time": "2024-11-17T13:05:57.800Z"
   },
   {
    "duration": 11,
    "start_time": "2024-11-17T13:06:00.121Z"
   },
   {
    "duration": 37,
    "start_time": "2024-11-17T13:06:00.134Z"
   },
   {
    "duration": 48,
    "start_time": "2024-11-17T13:06:00.172Z"
   },
   {
    "duration": 62,
    "start_time": "2024-11-17T13:06:00.222Z"
   },
   {
    "duration": 75,
    "start_time": "2024-11-17T13:06:00.286Z"
   },
   {
    "duration": 45,
    "start_time": "2024-11-17T13:06:00.363Z"
   },
   {
    "duration": 51,
    "start_time": "2024-11-17T13:06:00.409Z"
   },
   {
    "duration": 55,
    "start_time": "2024-11-17T13:06:00.461Z"
   },
   {
    "duration": 50,
    "start_time": "2024-11-17T13:06:00.517Z"
   },
   {
    "duration": 41,
    "start_time": "2024-11-17T13:06:00.570Z"
   },
   {
    "duration": 7,
    "start_time": "2024-11-17T13:06:00.613Z"
   },
   {
    "duration": 19,
    "start_time": "2024-11-17T13:06:00.622Z"
   },
   {
    "duration": 13,
    "start_time": "2024-11-17T13:06:00.642Z"
   },
   {
    "duration": 34,
    "start_time": "2024-11-17T13:06:00.657Z"
   },
   {
    "duration": 15,
    "start_time": "2024-11-17T13:06:00.693Z"
   },
   {
    "duration": 29,
    "start_time": "2024-11-17T13:06:00.709Z"
   },
   {
    "duration": 27,
    "start_time": "2024-11-17T13:06:00.740Z"
   },
   {
    "duration": 4,
    "start_time": "2024-11-17T13:06:00.769Z"
   },
   {
    "duration": 9,
    "start_time": "2024-11-17T13:06:00.774Z"
   },
   {
    "duration": 31,
    "start_time": "2024-11-17T13:06:00.784Z"
   },
   {
    "duration": 7,
    "start_time": "2024-11-17T13:06:00.816Z"
   },
   {
    "duration": 153,
    "start_time": "2024-11-17T13:06:00.825Z"
   },
   {
    "duration": 21,
    "start_time": "2024-11-17T13:06:00.980Z"
   },
   {
    "duration": 5,
    "start_time": "2024-11-17T13:06:01.003Z"
   },
   {
    "duration": 2164,
    "start_time": "2024-11-17T13:06:01.010Z"
   },
   {
    "duration": 5,
    "start_time": "2024-11-17T13:06:03.175Z"
   },
   {
    "duration": 316,
    "start_time": "2024-11-17T13:06:03.182Z"
   },
   {
    "duration": 7,
    "start_time": "2024-11-17T13:06:03.499Z"
   },
   {
    "duration": 23,
    "start_time": "2024-11-17T13:06:03.508Z"
   },
   {
    "duration": 270,
    "start_time": "2024-11-17T13:06:03.532Z"
   },
   {
    "duration": 5,
    "start_time": "2024-11-17T13:06:03.803Z"
   },
   {
    "duration": 21,
    "start_time": "2024-11-17T13:06:03.810Z"
   },
   {
    "duration": 14,
    "start_time": "2024-11-17T13:06:03.832Z"
   },
   {
    "duration": 37,
    "start_time": "2024-11-17T13:06:03.847Z"
   },
   {
    "duration": 233,
    "start_time": "2024-11-17T13:06:03.886Z"
   },
   {
    "duration": 218,
    "start_time": "2024-11-17T13:06:04.121Z"
   },
   {
    "duration": 198,
    "start_time": "2024-11-17T13:06:04.343Z"
   },
   {
    "duration": 185,
    "start_time": "2024-11-17T13:06:04.543Z"
   },
   {
    "duration": 295,
    "start_time": "2024-11-17T13:06:04.730Z"
   },
   {
    "duration": 224,
    "start_time": "2024-11-17T13:06:05.026Z"
   },
   {
    "duration": 276,
    "start_time": "2024-11-17T13:06:05.252Z"
   },
   {
    "duration": 203,
    "start_time": "2024-11-17T13:06:05.530Z"
   },
   {
    "duration": 10,
    "start_time": "2024-11-17T13:06:05.735Z"
   },
   {
    "duration": 94,
    "start_time": "2024-11-17T13:06:05.746Z"
   },
   {
    "duration": 0,
    "start_time": "2024-11-17T13:06:05.842Z"
   },
   {
    "duration": 25,
    "start_time": "2024-11-17T13:06:09.391Z"
   },
   {
    "duration": 13,
    "start_time": "2024-11-17T13:06:20.923Z"
   },
   {
    "duration": 18,
    "start_time": "2024-11-17T13:06:28.276Z"
   },
   {
    "duration": 20,
    "start_time": "2024-11-17T13:07:26.659Z"
   },
   {
    "duration": 18,
    "start_time": "2024-11-17T13:07:41.001Z"
   },
   {
    "duration": 9,
    "start_time": "2024-11-17T13:07:46.766Z"
   },
   {
    "duration": 11,
    "start_time": "2024-11-17T13:08:03.197Z"
   },
   {
    "duration": 4,
    "start_time": "2024-11-17T13:08:27.258Z"
   },
   {
    "duration": 5,
    "start_time": "2024-11-17T13:09:15.636Z"
   },
   {
    "duration": 5,
    "start_time": "2024-11-17T13:09:30.710Z"
   },
   {
    "duration": 5,
    "start_time": "2024-11-17T13:09:33.979Z"
   },
   {
    "duration": 20,
    "start_time": "2024-11-17T13:12:19.574Z"
   },
   {
    "duration": 12,
    "start_time": "2024-11-17T13:12:27.594Z"
   },
   {
    "duration": 901,
    "start_time": "2024-11-17T13:12:30.720Z"
   },
   {
    "duration": 5,
    "start_time": "2024-11-17T13:12:31.916Z"
   },
   {
    "duration": 5,
    "start_time": "2024-11-17T13:12:48.638Z"
   },
   {
    "duration": 5,
    "start_time": "2024-11-17T13:12:49.919Z"
   },
   {
    "duration": 6,
    "start_time": "2024-11-17T13:15:24.697Z"
   },
   {
    "duration": 5,
    "start_time": "2024-11-17T13:16:25.449Z"
   },
   {
    "duration": 12,
    "start_time": "2024-11-17T13:16:47.554Z"
   },
   {
    "duration": 13,
    "start_time": "2024-11-17T13:17:00.785Z"
   },
   {
    "duration": 11,
    "start_time": "2024-11-17T13:17:14.779Z"
   },
   {
    "duration": 12,
    "start_time": "2024-11-17T13:17:36.011Z"
   },
   {
    "duration": 253,
    "start_time": "2024-11-17T13:17:56.554Z"
   },
   {
    "duration": 252,
    "start_time": "2024-11-17T13:18:14.399Z"
   },
   {
    "duration": 248,
    "start_time": "2024-11-17T13:20:30.523Z"
   },
   {
    "duration": 402,
    "start_time": "2024-11-17T13:20:42.531Z"
   },
   {
    "duration": 135,
    "start_time": "2024-11-17T13:20:42.935Z"
   },
   {
    "duration": 18,
    "start_time": "2024-11-17T13:20:43.071Z"
   },
   {
    "duration": 2304,
    "start_time": "2024-11-17T13:20:43.090Z"
   },
   {
    "duration": 11,
    "start_time": "2024-11-17T13:20:45.396Z"
   },
   {
    "duration": 17,
    "start_time": "2024-11-17T13:20:45.408Z"
   },
   {
    "duration": 29,
    "start_time": "2024-11-17T13:20:45.427Z"
   },
   {
    "duration": 16,
    "start_time": "2024-11-17T13:20:45.458Z"
   },
   {
    "duration": 26,
    "start_time": "2024-11-17T13:20:45.476Z"
   },
   {
    "duration": 9,
    "start_time": "2024-11-17T13:20:45.503Z"
   },
   {
    "duration": 15,
    "start_time": "2024-11-17T13:20:45.513Z"
   },
   {
    "duration": 15,
    "start_time": "2024-11-17T13:20:45.529Z"
   },
   {
    "duration": 16,
    "start_time": "2024-11-17T13:20:45.546Z"
   },
   {
    "duration": 45,
    "start_time": "2024-11-17T13:20:45.565Z"
   },
   {
    "duration": 5,
    "start_time": "2024-11-17T13:20:45.611Z"
   },
   {
    "duration": 21,
    "start_time": "2024-11-17T13:20:45.618Z"
   },
   {
    "duration": 20,
    "start_time": "2024-11-17T13:20:45.640Z"
   },
   {
    "duration": 5,
    "start_time": "2024-11-17T13:20:45.662Z"
   },
   {
    "duration": 3,
    "start_time": "2024-11-17T13:20:45.668Z"
   },
   {
    "duration": 14,
    "start_time": "2024-11-17T13:20:45.673Z"
   },
   {
    "duration": 35,
    "start_time": "2024-11-17T13:20:45.688Z"
   },
   {
    "duration": 8,
    "start_time": "2024-11-17T13:20:45.725Z"
   },
   {
    "duration": 9,
    "start_time": "2024-11-17T13:20:45.735Z"
   },
   {
    "duration": 4,
    "start_time": "2024-11-17T13:20:45.745Z"
   },
   {
    "duration": 5,
    "start_time": "2024-11-17T13:20:45.750Z"
   },
   {
    "duration": 177,
    "start_time": "2024-11-17T13:20:45.757Z"
   },
   {
    "duration": 14,
    "start_time": "2024-11-17T13:20:45.937Z"
   },
   {
    "duration": 11,
    "start_time": "2024-11-17T13:20:45.953Z"
   },
   {
    "duration": 2121,
    "start_time": "2024-11-17T13:20:45.966Z"
   },
   {
    "duration": 11,
    "start_time": "2024-11-17T13:20:48.089Z"
   },
   {
    "duration": 283,
    "start_time": "2024-11-17T13:20:48.102Z"
   },
   {
    "duration": 16,
    "start_time": "2024-11-17T13:20:48.387Z"
   },
   {
    "duration": 16,
    "start_time": "2024-11-17T13:20:48.405Z"
   },
   {
    "duration": 235,
    "start_time": "2024-11-17T13:20:48.422Z"
   },
   {
    "duration": 5,
    "start_time": "2024-11-17T13:20:48.659Z"
   },
   {
    "duration": 7,
    "start_time": "2024-11-17T13:20:48.665Z"
   },
   {
    "duration": 24,
    "start_time": "2024-11-17T13:20:48.674Z"
   },
   {
    "duration": 34,
    "start_time": "2024-11-17T13:20:48.700Z"
   },
   {
    "duration": 199,
    "start_time": "2024-11-17T13:20:48.736Z"
   },
   {
    "duration": 209,
    "start_time": "2024-11-17T13:20:48.937Z"
   },
   {
    "duration": 213,
    "start_time": "2024-11-17T13:20:49.151Z"
   },
   {
    "duration": 186,
    "start_time": "2024-11-17T13:20:49.366Z"
   },
   {
    "duration": 278,
    "start_time": "2024-11-17T13:20:49.554Z"
   },
   {
    "duration": 210,
    "start_time": "2024-11-17T13:20:49.834Z"
   },
   {
    "duration": 275,
    "start_time": "2024-11-17T13:20:50.046Z"
   },
   {
    "duration": 203,
    "start_time": "2024-11-17T13:20:50.322Z"
   },
   {
    "duration": 11,
    "start_time": "2024-11-17T13:20:50.526Z"
   },
   {
    "duration": 27,
    "start_time": "2024-11-17T13:20:50.538Z"
   },
   {
    "duration": 9,
    "start_time": "2024-11-17T13:20:50.566Z"
   },
   {
    "duration": 23,
    "start_time": "2024-11-17T13:20:50.577Z"
   },
   {
    "duration": 20,
    "start_time": "2024-11-17T13:20:50.601Z"
   },
   {
    "duration": 30,
    "start_time": "2024-11-17T13:20:50.623Z"
   },
   {
    "duration": 21,
    "start_time": "2024-11-17T13:20:50.655Z"
   },
   {
    "duration": 262,
    "start_time": "2024-11-17T13:20:50.678Z"
   },
   {
    "duration": 260,
    "start_time": "2024-11-17T13:21:04.270Z"
   },
   {
    "duration": 264,
    "start_time": "2024-11-17T13:21:08.958Z"
   },
   {
    "duration": 249,
    "start_time": "2024-11-17T13:21:13.978Z"
   },
   {
    "duration": 27,
    "start_time": "2024-11-17T13:22:12.091Z"
   },
   {
    "duration": 75,
    "start_time": "2024-11-18T07:44:01.641Z"
   },
   {
    "duration": 49,
    "start_time": "2024-11-18T12:59:58.802Z"
   },
   {
    "duration": 400,
    "start_time": "2024-11-18T13:00:05.293Z"
   },
   {
    "duration": 344,
    "start_time": "2024-11-18T13:00:05.694Z"
   },
   {
    "duration": 15,
    "start_time": "2024-11-18T13:00:06.039Z"
   },
   {
    "duration": 2384,
    "start_time": "2024-11-18T13:00:06.056Z"
   },
   {
    "duration": 0,
    "start_time": "2024-11-18T13:00:08.443Z"
   },
   {
    "duration": 0,
    "start_time": "2024-11-18T13:00:08.444Z"
   },
   {
    "duration": 0,
    "start_time": "2024-11-18T13:00:08.445Z"
   },
   {
    "duration": 0,
    "start_time": "2024-11-18T13:00:08.446Z"
   },
   {
    "duration": 0,
    "start_time": "2024-11-18T13:00:08.447Z"
   },
   {
    "duration": 0,
    "start_time": "2024-11-18T13:00:08.448Z"
   },
   {
    "duration": 0,
    "start_time": "2024-11-18T13:00:08.449Z"
   },
   {
    "duration": 0,
    "start_time": "2024-11-18T13:00:08.450Z"
   },
   {
    "duration": 0,
    "start_time": "2024-11-18T13:00:08.451Z"
   },
   {
    "duration": 0,
    "start_time": "2024-11-18T13:00:08.452Z"
   },
   {
    "duration": 1,
    "start_time": "2024-11-18T13:00:08.453Z"
   },
   {
    "duration": 0,
    "start_time": "2024-11-18T13:00:08.454Z"
   },
   {
    "duration": 0,
    "start_time": "2024-11-18T13:00:08.456Z"
   },
   {
    "duration": 0,
    "start_time": "2024-11-18T13:00:08.456Z"
   },
   {
    "duration": 0,
    "start_time": "2024-11-18T13:00:08.457Z"
   },
   {
    "duration": 0,
    "start_time": "2024-11-18T13:00:08.458Z"
   },
   {
    "duration": 0,
    "start_time": "2024-11-18T13:00:08.459Z"
   },
   {
    "duration": 0,
    "start_time": "2024-11-18T13:00:08.460Z"
   },
   {
    "duration": 0,
    "start_time": "2024-11-18T13:00:08.461Z"
   },
   {
    "duration": 0,
    "start_time": "2024-11-18T13:00:08.462Z"
   },
   {
    "duration": 0,
    "start_time": "2024-11-18T13:00:08.463Z"
   },
   {
    "duration": 0,
    "start_time": "2024-11-18T13:00:08.464Z"
   },
   {
    "duration": 0,
    "start_time": "2024-11-18T13:00:08.465Z"
   },
   {
    "duration": 0,
    "start_time": "2024-11-18T13:00:08.466Z"
   },
   {
    "duration": 0,
    "start_time": "2024-11-18T13:00:08.467Z"
   },
   {
    "duration": 0,
    "start_time": "2024-11-18T13:00:08.468Z"
   },
   {
    "duration": 0,
    "start_time": "2024-11-18T13:00:08.487Z"
   },
   {
    "duration": 0,
    "start_time": "2024-11-18T13:00:08.488Z"
   },
   {
    "duration": 0,
    "start_time": "2024-11-18T13:00:08.489Z"
   },
   {
    "duration": 0,
    "start_time": "2024-11-18T13:00:08.490Z"
   },
   {
    "duration": 0,
    "start_time": "2024-11-18T13:00:08.491Z"
   },
   {
    "duration": 0,
    "start_time": "2024-11-18T13:00:08.492Z"
   },
   {
    "duration": 0,
    "start_time": "2024-11-18T13:00:08.493Z"
   },
   {
    "duration": 0,
    "start_time": "2024-11-18T13:00:08.494Z"
   },
   {
    "duration": 0,
    "start_time": "2024-11-18T13:00:08.495Z"
   },
   {
    "duration": 0,
    "start_time": "2024-11-18T13:00:08.496Z"
   },
   {
    "duration": 0,
    "start_time": "2024-11-18T13:00:08.497Z"
   },
   {
    "duration": 0,
    "start_time": "2024-11-18T13:00:08.498Z"
   },
   {
    "duration": 0,
    "start_time": "2024-11-18T13:00:08.499Z"
   },
   {
    "duration": 0,
    "start_time": "2024-11-18T13:00:08.500Z"
   },
   {
    "duration": 0,
    "start_time": "2024-11-18T13:00:08.501Z"
   },
   {
    "duration": 0,
    "start_time": "2024-11-18T13:00:08.502Z"
   },
   {
    "duration": 0,
    "start_time": "2024-11-18T13:00:08.503Z"
   },
   {
    "duration": 0,
    "start_time": "2024-11-18T13:00:08.504Z"
   },
   {
    "duration": 0,
    "start_time": "2024-11-18T13:00:08.505Z"
   },
   {
    "duration": 0,
    "start_time": "2024-11-18T13:00:08.506Z"
   },
   {
    "duration": 0,
    "start_time": "2024-11-18T13:00:08.507Z"
   },
   {
    "duration": 0,
    "start_time": "2024-11-18T13:00:08.508Z"
   },
   {
    "duration": 0,
    "start_time": "2024-11-18T13:00:08.509Z"
   },
   {
    "duration": 1,
    "start_time": "2024-11-18T13:00:08.509Z"
   },
   {
    "duration": 0,
    "start_time": "2024-11-18T13:00:08.511Z"
   },
   {
    "duration": 3,
    "start_time": "2024-11-18T13:00:31.857Z"
   },
   {
    "duration": 674,
    "start_time": "2024-11-18T13:00:36.897Z"
   },
   {
    "duration": 135,
    "start_time": "2024-11-18T13:00:37.573Z"
   },
   {
    "duration": 17,
    "start_time": "2024-11-18T13:00:37.709Z"
   },
   {
    "duration": 1968,
    "start_time": "2024-11-18T13:00:37.728Z"
   },
   {
    "duration": 9,
    "start_time": "2024-11-18T13:00:39.698Z"
   },
   {
    "duration": 10,
    "start_time": "2024-11-18T13:00:39.708Z"
   },
   {
    "duration": 28,
    "start_time": "2024-11-18T13:00:39.719Z"
   },
   {
    "duration": 15,
    "start_time": "2024-11-18T13:00:39.749Z"
   },
   {
    "duration": 32,
    "start_time": "2024-11-18T13:00:39.766Z"
   },
   {
    "duration": 9,
    "start_time": "2024-11-18T13:00:39.800Z"
   },
   {
    "duration": 15,
    "start_time": "2024-11-18T13:00:39.811Z"
   },
   {
    "duration": 15,
    "start_time": "2024-11-18T13:00:39.827Z"
   },
   {
    "duration": 15,
    "start_time": "2024-11-18T13:00:39.844Z"
   },
   {
    "duration": 14,
    "start_time": "2024-11-18T13:00:39.887Z"
   },
   {
    "duration": 4,
    "start_time": "2024-11-18T13:00:39.903Z"
   },
   {
    "duration": 6,
    "start_time": "2024-11-18T13:00:39.908Z"
   },
   {
    "duration": 5,
    "start_time": "2024-11-18T13:00:39.915Z"
   },
   {
    "duration": 13,
    "start_time": "2024-11-18T13:00:39.921Z"
   },
   {
    "duration": 2,
    "start_time": "2024-11-18T13:00:39.936Z"
   },
   {
    "duration": 73,
    "start_time": "2024-11-18T13:00:39.940Z"
   },
   {
    "duration": 26,
    "start_time": "2024-11-18T13:00:40.014Z"
   },
   {
    "duration": 4,
    "start_time": "2024-11-18T13:00:40.042Z"
   },
   {
    "duration": 11,
    "start_time": "2024-11-18T13:00:40.048Z"
   },
   {
    "duration": 5,
    "start_time": "2024-11-18T13:00:40.060Z"
   },
   {
    "duration": 5,
    "start_time": "2024-11-18T13:00:40.067Z"
   },
   {
    "duration": 148,
    "start_time": "2024-11-18T13:00:40.073Z"
   },
   {
    "duration": 12,
    "start_time": "2024-11-18T13:00:40.223Z"
   },
   {
    "duration": 1913,
    "start_time": "2024-11-18T13:00:40.237Z"
   },
   {
    "duration": 4,
    "start_time": "2024-11-18T13:00:42.151Z"
   },
   {
    "duration": 288,
    "start_time": "2024-11-18T13:00:42.156Z"
   },
   {
    "duration": 7,
    "start_time": "2024-11-18T13:00:42.445Z"
   },
   {
    "duration": 12,
    "start_time": "2024-11-18T13:00:42.453Z"
   },
   {
    "duration": 224,
    "start_time": "2024-11-18T13:00:42.466Z"
   },
   {
    "duration": 6,
    "start_time": "2024-11-18T13:00:42.692Z"
   },
   {
    "duration": 6,
    "start_time": "2024-11-18T13:00:42.699Z"
   },
   {
    "duration": 10,
    "start_time": "2024-11-18T13:00:42.707Z"
   },
   {
    "duration": 30,
    "start_time": "2024-11-18T13:00:42.719Z"
   },
   {
    "duration": 211,
    "start_time": "2024-11-18T13:00:42.751Z"
   },
   {
    "duration": 201,
    "start_time": "2024-11-18T13:00:42.964Z"
   },
   {
    "duration": 169,
    "start_time": "2024-11-18T13:00:43.167Z"
   },
   {
    "duration": 172,
    "start_time": "2024-11-18T13:00:43.340Z"
   },
   {
    "duration": 256,
    "start_time": "2024-11-18T13:00:43.514Z"
   },
   {
    "duration": 198,
    "start_time": "2024-11-18T13:00:43.772Z"
   },
   {
    "duration": 250,
    "start_time": "2024-11-18T13:00:43.973Z"
   },
   {
    "duration": 190,
    "start_time": "2024-11-18T13:00:44.225Z"
   },
   {
    "duration": 10,
    "start_time": "2024-11-18T13:00:44.417Z"
   },
   {
    "duration": 20,
    "start_time": "2024-11-18T13:00:44.428Z"
   },
   {
    "duration": 9,
    "start_time": "2024-11-18T13:00:44.449Z"
   },
   {
    "duration": 34,
    "start_time": "2024-11-18T13:00:44.459Z"
   },
   {
    "duration": 8,
    "start_time": "2024-11-18T13:00:44.495Z"
   },
   {
    "duration": 14,
    "start_time": "2024-11-18T13:00:44.505Z"
   },
   {
    "duration": 11,
    "start_time": "2024-11-18T13:00:44.520Z"
   },
   {
    "duration": 241,
    "start_time": "2024-11-18T13:00:44.533Z"
   },
   {
    "duration": 31,
    "start_time": "2024-11-18T13:00:44.775Z"
   },
   {
    "duration": 2417,
    "start_time": "2024-11-18T13:02:26.246Z"
   },
   {
    "duration": 48,
    "start_time": "2024-11-18T13:04:24.712Z"
   },
   {
    "duration": 42,
    "start_time": "2024-11-18T13:04:34.663Z"
   },
   {
    "duration": 77,
    "start_time": "2024-11-18T13:07:19.072Z"
   },
   {
    "duration": 45,
    "start_time": "2024-11-18T13:08:05.398Z"
   },
   {
    "duration": 5,
    "start_time": "2024-11-18T13:08:45.592Z"
   },
   {
    "duration": 6,
    "start_time": "2024-11-18T13:10:23.890Z"
   },
   {
    "duration": 597,
    "start_time": "2024-11-18T13:10:45.529Z"
   },
   {
    "duration": 123,
    "start_time": "2024-11-18T13:10:46.128Z"
   },
   {
    "duration": 15,
    "start_time": "2024-11-18T13:10:46.253Z"
   },
   {
    "duration": 1959,
    "start_time": "2024-11-18T13:10:46.269Z"
   },
   {
    "duration": 9,
    "start_time": "2024-11-18T13:10:48.229Z"
   },
   {
    "duration": 7,
    "start_time": "2024-11-18T13:10:48.239Z"
   },
   {
    "duration": 25,
    "start_time": "2024-11-18T13:10:48.248Z"
   },
   {
    "duration": 30,
    "start_time": "2024-11-18T13:10:48.275Z"
   },
   {
    "duration": 10,
    "start_time": "2024-11-18T13:10:48.307Z"
   },
   {
    "duration": 6,
    "start_time": "2024-11-18T13:10:48.319Z"
   },
   {
    "duration": 7,
    "start_time": "2024-11-18T13:10:48.327Z"
   },
   {
    "duration": 13,
    "start_time": "2024-11-18T13:10:48.335Z"
   },
   {
    "duration": 45,
    "start_time": "2024-11-18T13:10:48.349Z"
   },
   {
    "duration": 16,
    "start_time": "2024-11-18T13:10:48.399Z"
   },
   {
    "duration": 15,
    "start_time": "2024-11-18T13:10:48.416Z"
   },
   {
    "duration": 3,
    "start_time": "2024-11-18T13:10:48.433Z"
   },
   {
    "duration": 9,
    "start_time": "2024-11-18T13:10:48.438Z"
   },
   {
    "duration": 6,
    "start_time": "2024-11-18T13:10:48.449Z"
   },
   {
    "duration": 37,
    "start_time": "2024-11-18T13:10:48.456Z"
   },
   {
    "duration": 10,
    "start_time": "2024-11-18T13:10:48.495Z"
   },
   {
    "duration": 10,
    "start_time": "2024-11-18T13:10:48.508Z"
   },
   {
    "duration": 25,
    "start_time": "2024-11-18T13:10:48.519Z"
   },
   {
    "duration": 4,
    "start_time": "2024-11-18T13:10:48.545Z"
   },
   {
    "duration": 9,
    "start_time": "2024-11-18T13:10:48.550Z"
   },
   {
    "duration": 28,
    "start_time": "2024-11-18T13:10:48.561Z"
   },
   {
    "duration": 24,
    "start_time": "2024-11-18T13:10:48.591Z"
   },
   {
    "duration": 141,
    "start_time": "2024-11-18T13:10:48.617Z"
   },
   {
    "duration": 11,
    "start_time": "2024-11-18T13:10:48.759Z"
   },
   {
    "duration": 1921,
    "start_time": "2024-11-18T13:10:48.771Z"
   },
   {
    "duration": 5,
    "start_time": "2024-11-18T13:10:50.693Z"
   },
   {
    "duration": 264,
    "start_time": "2024-11-18T13:10:50.700Z"
   },
   {
    "duration": 6,
    "start_time": "2024-11-18T13:10:50.966Z"
   },
   {
    "duration": 21,
    "start_time": "2024-11-18T13:10:50.973Z"
   },
   {
    "duration": 196,
    "start_time": "2024-11-18T13:10:50.996Z"
   },
   {
    "duration": 4,
    "start_time": "2024-11-18T13:10:51.194Z"
   },
   {
    "duration": 50,
    "start_time": "2024-11-18T13:10:51.201Z"
   },
   {
    "duration": 7,
    "start_time": "2024-11-18T13:10:51.253Z"
   },
   {
    "duration": 28,
    "start_time": "2024-11-18T13:10:51.261Z"
   },
   {
    "duration": 173,
    "start_time": "2024-11-18T13:10:51.291Z"
   },
   {
    "duration": 213,
    "start_time": "2024-11-18T13:10:51.465Z"
   },
   {
    "duration": 187,
    "start_time": "2024-11-18T13:10:51.687Z"
   },
   {
    "duration": 172,
    "start_time": "2024-11-18T13:10:51.876Z"
   },
   {
    "duration": 229,
    "start_time": "2024-11-18T13:10:52.049Z"
   },
   {
    "duration": 206,
    "start_time": "2024-11-18T13:10:52.279Z"
   },
   {
    "duration": 275,
    "start_time": "2024-11-18T13:10:52.487Z"
   },
   {
    "duration": 215,
    "start_time": "2024-11-18T13:10:52.763Z"
   },
   {
    "duration": 15,
    "start_time": "2024-11-18T13:10:52.980Z"
   },
   {
    "duration": 20,
    "start_time": "2024-11-18T13:10:52.997Z"
   },
   {
    "duration": 9,
    "start_time": "2024-11-18T13:10:53.018Z"
   },
   {
    "duration": 5,
    "start_time": "2024-11-18T13:10:53.029Z"
   },
   {
    "duration": 6,
    "start_time": "2024-11-18T13:10:53.035Z"
   },
   {
    "duration": 44,
    "start_time": "2024-11-18T13:10:53.043Z"
   },
   {
    "duration": 11,
    "start_time": "2024-11-18T13:10:53.089Z"
   },
   {
    "duration": 278,
    "start_time": "2024-11-18T13:10:53.102Z"
   },
   {
    "duration": 25,
    "start_time": "2024-11-18T13:10:53.381Z"
   },
   {
    "duration": 3,
    "start_time": "2024-11-18T13:11:40.397Z"
   },
   {
    "duration": 120,
    "start_time": "2024-11-18T13:11:40.402Z"
   },
   {
    "duration": 15,
    "start_time": "2024-11-18T13:11:40.524Z"
   },
   {
    "duration": 1869,
    "start_time": "2024-11-18T13:11:40.540Z"
   },
   {
    "duration": 9,
    "start_time": "2024-11-18T13:11:42.411Z"
   },
   {
    "duration": 7,
    "start_time": "2024-11-18T13:11:42.421Z"
   },
   {
    "duration": 27,
    "start_time": "2024-11-18T13:11:42.430Z"
   },
   {
    "duration": 41,
    "start_time": "2024-11-18T13:11:42.458Z"
   },
   {
    "duration": 28,
    "start_time": "2024-11-18T13:11:42.500Z"
   },
   {
    "duration": 5,
    "start_time": "2024-11-18T13:11:42.530Z"
   },
   {
    "duration": 8,
    "start_time": "2024-11-18T13:11:42.537Z"
   },
   {
    "duration": 15,
    "start_time": "2024-11-18T13:11:42.547Z"
   },
   {
    "duration": 29,
    "start_time": "2024-11-18T13:11:42.564Z"
   },
   {
    "duration": 9,
    "start_time": "2024-11-18T13:11:48.414Z"
   },
   {
    "duration": 24,
    "start_time": "2024-11-18T13:12:10.734Z"
   },
   {
    "duration": 612,
    "start_time": "2024-11-18T13:15:22.045Z"
   },
   {
    "duration": 128,
    "start_time": "2024-11-18T13:15:22.659Z"
   },
   {
    "duration": 15,
    "start_time": "2024-11-18T13:15:22.788Z"
   },
   {
    "duration": 1859,
    "start_time": "2024-11-18T13:15:22.805Z"
   },
   {
    "duration": 9,
    "start_time": "2024-11-18T13:15:24.665Z"
   },
   {
    "duration": 6,
    "start_time": "2024-11-18T13:15:24.676Z"
   },
   {
    "duration": 25,
    "start_time": "2024-11-18T13:15:24.684Z"
   },
   {
    "duration": 16,
    "start_time": "2024-11-18T13:15:24.710Z"
   },
   {
    "duration": 9,
    "start_time": "2024-11-18T13:15:24.727Z"
   },
   {
    "duration": 7,
    "start_time": "2024-11-18T13:15:24.738Z"
   },
   {
    "duration": 9,
    "start_time": "2024-11-18T13:15:24.746Z"
   },
   {
    "duration": 14,
    "start_time": "2024-11-18T13:15:39.337Z"
   },
   {
    "duration": 16,
    "start_time": "2024-11-18T13:15:41.626Z"
   },
   {
    "duration": 10,
    "start_time": "2024-11-18T13:15:44.641Z"
   },
   {
    "duration": 8,
    "start_time": "2024-11-18T13:16:42.464Z"
   },
   {
    "duration": 234,
    "start_time": "2024-11-18T13:24:56.882Z"
   },
   {
    "duration": 213,
    "start_time": "2024-11-18T13:25:06.696Z"
   },
   {
    "duration": 226,
    "start_time": "2024-11-18T13:26:36.732Z"
   },
   {
    "duration": 319,
    "start_time": "2024-11-18T13:29:53.592Z"
   },
   {
    "duration": 4,
    "start_time": "2024-11-18T13:31:59.976Z"
   },
   {
    "duration": 250,
    "start_time": "2024-11-18T13:43:31.718Z"
   },
   {
    "duration": 252,
    "start_time": "2024-11-18T13:46:37.197Z"
   }
  ],
  "colab": {
   "provenance": []
  },
  "kernelspec": {
   "display_name": "Python 3 (ipykernel)",
   "language": "python",
   "name": "python3"
  },
  "language_info": {
   "codemirror_mode": {
    "name": "ipython",
    "version": 3
   },
   "file_extension": ".py",
   "mimetype": "text/x-python",
   "name": "python",
   "nbconvert_exporter": "python",
   "pygments_lexer": "ipython3",
   "version": "3.11.8"
  },
  "toc": {
   "base_numbering": 1,
   "nav_menu": {},
   "number_sections": true,
   "sideBar": true,
   "skip_h1_title": true,
   "title_cell": "Table of Contents",
   "title_sidebar": "Contents",
   "toc_cell": false,
   "toc_position": {},
   "toc_section_display": true,
   "toc_window_display": false
  }
 },
 "nbformat": 4,
 "nbformat_minor": 4
}
